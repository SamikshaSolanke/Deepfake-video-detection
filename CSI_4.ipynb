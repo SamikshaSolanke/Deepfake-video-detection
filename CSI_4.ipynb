{
  "nbformat": 4,
  "nbformat_minor": 0,
  "metadata": {
    "colab": {
      "provenance": [],
      "gpuType": "T4"
    },
    "kernelspec": {
      "name": "python3",
      "display_name": "Python 3"
    },
    "language_info": {
      "name": "python"
    },
    "accelerator": "GPU"
  },
  "cells": [
    {
      "cell_type": "markdown",
      "source": [
        "# This Notebook contains the Model training part"
      ],
      "metadata": {
        "id": "aKP3rHBnG2ze"
      }
    },
    {
      "cell_type": "code",
      "source": [
        "from google.colab import drive\n",
        "drive.mount('/content/drive')"
      ],
      "metadata": {
        "id": "l7BfzQYNhhdd",
        "colab": {
          "base_uri": "https://localhost:8080/"
        },
        "outputId": "e626d4c1-bb8f-4a86-9ae4-c3bc10926010"
      },
      "execution_count": 1,
      "outputs": [
        {
          "output_type": "stream",
          "name": "stdout",
          "text": [
            "Mounted at /content/drive\n"
          ]
        }
      ]
    },
    {
      "cell_type": "code",
      "source": [
        "import os\n",
        "import cv2\n",
        "import random\n",
        "import numpy as np\n",
        "import pickle\n",
        "from tqdm import tqdm\n",
        "from tensorflow.keras.preprocessing.image import ImageDataGenerator"
      ],
      "metadata": {
        "id": "VnbrivVUiCYl"
      },
      "execution_count": 3,
      "outputs": []
    },
    {
      "cell_type": "markdown",
      "source": [
        "## Model 1 (Using MobileNetV2) (Dataset - 10,000 frames)"
      ],
      "metadata": {
        "id": "uPXfwjnIHBsC"
      }
    },
    {
      "cell_type": "code",
      "source": [
        "import tensorflow as tf\n",
        "from tensorflow.keras.applications import MobileNetV2\n",
        "from tensorflow.keras.layers import Dense, Dropout, GlobalAveragePooling2D, Input\n",
        "from tensorflow.keras.models import Model\n",
        "from tensorflow.keras.optimizers import Adam\n",
        "from tensorflow.keras.preprocessing.image import ImageDataGenerator\n",
        "from sklearn.model_selection import train_test_split\n",
        "from sklearn.metrics import classification_report, accuracy_score\n",
        "import pandas as pd\n",
        "import numpy as np\n",
        "import os"
      ],
      "metadata": {
        "id": "ltq_KUV_iIsO"
      },
      "execution_count": 4,
      "outputs": []
    },
    {
      "cell_type": "code",
      "source": [
        "import pandas as pd\n",
        "from sklearn.model_selection import train_test_split\n",
        "from tensorflow.keras.preprocessing.image import ImageDataGenerator\n",
        "\n",
        "# Load CSV file containing frame paths and labels\n",
        "csv_path = \"/content/drive/MyDrive/FOR_DATASET_0/labels_3.csv\"\n",
        "df = pd.read_csv(csv_path)\n",
        "\n",
        "desired_size = 10000\n",
        "df_reduced = df.groupby(\"label\", group_keys=False).apply(\n",
        "    lambda x: x.sample(int(desired_size * len(x) / len(df)), random_state=101)\n",
        ")\n",
        "\n",
        "# Split data into training and validation sets\n",
        "train_df, temp_df = train_test_split(df_reduced, test_size=0.2, stratify=df_reduced[\"label\"], random_state=101)\n",
        "val_df, test_df = train_test_split(temp_df, test_size=0.5, stratify=temp_df[\"label\"], random_state=101)\n",
        "\n",
        "# Convert label column to strings\n",
        "train_df[\"label\"] = train_df[\"label\"].astype(str)\n",
        "val_df[\"label\"] = val_df[\"label\"].astype(str)\n",
        "test_df[\"label\"] = test_df[\"label\"].astype(str)\n",
        "\n",
        "# Ensure ImageDataGenerators are properly defined\n",
        "train_datagen = ImageDataGenerator(rescale=1.0/255.0)\n",
        "val_datagen = ImageDataGenerator(rescale=1.0/255.0)\n",
        "\n",
        "# Define ImageDataGenerators\n",
        "train_generator = train_datagen.flow_from_dataframe(\n",
        "    train_df,\n",
        "    x_col=\"frame_path\",\n",
        "    y_col=\"label\",\n",
        "    target_size=(224, 224),\n",
        "    batch_size=32,\n",
        "    class_mode=\"binary\"\n",
        ")\n",
        "\n",
        "val_generator = val_datagen.flow_from_dataframe(\n",
        "    val_df,\n",
        "    x_col=\"frame_path\",\n",
        "    y_col=\"label\",\n",
        "    target_size=(224, 224),\n",
        "    batch_size=32,\n",
        "    class_mode=\"binary\"\n",
        ")\n",
        "\n",
        "print(\"Training Labels Distribution:\")\n",
        "print(train_df[\"label\"].value_counts())\n",
        "\n",
        "print(\"\\nValidation Labels Distribution:\")\n",
        "print(val_df[\"label\"].value_counts())\n",
        "\n",
        "print(\"\\nTest Labels Distribution:\")\n",
        "print(test_df[\"label\"].value_counts())"
      ],
      "metadata": {
        "colab": {
          "base_uri": "https://localhost:8080/"
        },
        "id": "RmCljNzSiLjV",
        "outputId": "86a2ca7e-1d95-4a72-b522-88a48a8e1db7"
      },
      "execution_count": null,
      "outputs": [
        {
          "output_type": "stream",
          "name": "stderr",
          "text": [
            "<ipython-input-7-929080e2e7d1>:10: DeprecationWarning: DataFrameGroupBy.apply operated on the grouping columns. This behavior is deprecated, and in a future version of pandas the grouping columns will be excluded from the operation. Either pass `include_groups=False` to exclude the groupings or explicitly select the grouping columns after groupby to silence this warning.\n",
            "  df_reduced = df.groupby(\"label\", group_keys=False).apply(\n"
          ]
        },
        {
          "output_type": "stream",
          "name": "stdout",
          "text": [
            "Found 7999 validated image filenames belonging to 2 classes.\n",
            "Found 1000 validated image filenames belonging to 2 classes.\n",
            "Training Labels Distribution:\n",
            "label\n",
            "1    4077\n",
            "0    3922\n",
            "Name: count, dtype: int64\n",
            "\n",
            "Validation Labels Distribution:\n",
            "label\n",
            "1    510\n",
            "0    490\n",
            "Name: count, dtype: int64\n",
            "\n",
            "Test Labels Distribution:\n",
            "label\n",
            "1    510\n",
            "0    490\n",
            "Name: count, dtype: int64\n"
          ]
        }
      ]
    },
    {
      "cell_type": "code",
      "source": [
        "# Load the MobileNetV2 model with pre-trained weights\n",
        "base_model = MobileNetV2(weights=\"imagenet\", include_top=False, input_tensor=Input(shape=(224, 224, 3)))\n",
        "\n",
        "# Freeze the base model\n",
        "base_model.trainable = False\n",
        "\n",
        "# Add custom layers\n",
        "x = base_model.output\n",
        "x = GlobalAveragePooling2D()(x)\n",
        "x = Dropout(0.3)(x)\n",
        "x = Dense(128, activation=\"relu\")(x)\n",
        "x = Dropout(0.3)(x)\n",
        "output = Dense(1, activation=\"sigmoid\")(x)  # Binary classification\n",
        "\n",
        "model0 = Model(inputs=base_model.input, outputs=output)"
      ],
      "metadata": {
        "colab": {
          "base_uri": "https://localhost:8080/"
        },
        "id": "e9IA-hUXiNeC",
        "outputId": "dc919080-3b77-4c87-bd6a-5d6913f8a760"
      },
      "execution_count": null,
      "outputs": [
        {
          "output_type": "stream",
          "name": "stderr",
          "text": [
            "<ipython-input-9-fc3524a9780e>:2: UserWarning: `input_shape` is undefined or non-square, or `rows` is not in [96, 128, 160, 192, 224]. Weights for input shape (224, 224) will be loaded as the default.\n",
            "  base_model = MobileNetV2(weights=\"imagenet\", include_top=False, input_tensor=Input(shape=(224, 224, 3)))\n"
          ]
        }
      ]
    },
    {
      "cell_type": "code",
      "source": [
        "# Compile the model\n",
        "model0.compile(optimizer=Adam(learning_rate=0.002), loss=\"binary_crossentropy\", metrics=[\"accuracy\"])"
      ],
      "metadata": {
        "id": "fHfmv7dniPTm"
      },
      "execution_count": null,
      "outputs": []
    },
    {
      "cell_type": "code",
      "source": [
        "# Early stopping and checkpointing\n",
        "early_stopping = tf.keras.callbacks.EarlyStopping(\n",
        "    monitor=\"val_loss\", patience=3, restore_best_weights=True\n",
        ")\n",
        "model_checkpoint = tf.keras.callbacks.ModelCheckpoint(\n",
        "    \"best_model_3.keras\",  # Change the extension to `.keras`\n",
        "    monitor=\"val_accuracy\",\n",
        "    save_best_only=True,\n",
        "    verbose=1\n",
        ")\n",
        "\n",
        "# Train the model\n",
        "history = model0.fit(\n",
        "    train_generator,\n",
        "    validation_data=val_generator,\n",
        "    epochs=10,\n",
        "    callbacks=[early_stopping, model_checkpoint]\n",
        ")"
      ],
      "metadata": {
        "colab": {
          "base_uri": "https://localhost:8080/"
        },
        "id": "P2cOP-TfjDhD",
        "outputId": "3b4e72ed-9dba-4d1f-9517-7e8a73ee220c"
      },
      "execution_count": null,
      "outputs": [
        {
          "metadata": {
            "tags": null
          },
          "name": "stdout",
          "output_type": "stream",
          "text": [
            "Epoch 1/10\n"
          ]
        },
        {
          "metadata": {
            "tags": null
          },
          "name": "stderr",
          "output_type": "stream",
          "text": [
            "/usr/local/lib/python3.10/dist-packages/keras/src/trainers/data_adapters/py_dataset_adapter.py:122: UserWarning: Your `PyDataset` class should call `super().__init__(**kwargs)` in its constructor. `**kwargs` can include `workers`, `use_multiprocessing`, `max_queue_size`. Do not pass these arguments to `fit()`, as they will be ignored.\n",
            "  self._warn_if_super_not_called()\n"
          ]
        },
        {
          "output_type": "stream",
          "name": "stdout",
          "text": [
            "\u001b[1m250/250\u001b[0m \u001b[32m━━━━━━━━━━━━━━━━━━━━\u001b[0m\u001b[37m\u001b[0m \u001b[1m0s\u001b[0m 7s/step - accuracy: 0.5530 - loss: 0.7428\n",
            "Epoch 1: val_accuracy improved from -inf to 0.62100, saving model to best_model_3.keras\n",
            "\u001b[1m250/250\u001b[0m \u001b[32m━━━━━━━━━━━━━━━━━━━━\u001b[0m\u001b[37m\u001b[0m \u001b[1m1898s\u001b[0m 7s/step - accuracy: 0.5531 - loss: 0.7426 - val_accuracy: 0.6210 - val_loss: 0.6442\n",
            "Epoch 2/10\n",
            "\u001b[1m250/250\u001b[0m \u001b[32m━━━━━━━━━━━━━━━━━━━━\u001b[0m\u001b[37m\u001b[0m \u001b[1m0s\u001b[0m 1s/step - accuracy: 0.6345 - loss: 0.6380\n",
            "Epoch 2: val_accuracy improved from 0.62100 to 0.65400, saving model to best_model_3.keras\n",
            "\u001b[1m250/250\u001b[0m \u001b[32m━━━━━━━━━━━━━━━━━━━━\u001b[0m\u001b[37m\u001b[0m \u001b[1m436s\u001b[0m 2s/step - accuracy: 0.6345 - loss: 0.6380 - val_accuracy: 0.6540 - val_loss: 0.5936\n",
            "Epoch 3/10\n",
            "\u001b[1m250/250\u001b[0m \u001b[32m━━━━━━━━━━━━━━━━━━━━\u001b[0m\u001b[37m\u001b[0m \u001b[1m0s\u001b[0m 2s/step - accuracy: 0.6766 - loss: 0.5884\n",
            "Epoch 3: val_accuracy improved from 0.65400 to 0.68400, saving model to best_model_3.keras\n",
            "\u001b[1m250/250\u001b[0m \u001b[32m━━━━━━━━━━━━━━━━━━━━\u001b[0m\u001b[37m\u001b[0m \u001b[1m560s\u001b[0m 2s/step - accuracy: 0.6766 - loss: 0.5884 - val_accuracy: 0.6840 - val_loss: 0.5823\n",
            "Epoch 4/10\n",
            "\u001b[1m250/250\u001b[0m \u001b[32m━━━━━━━━━━━━━━━━━━━━\u001b[0m\u001b[37m\u001b[0m \u001b[1m0s\u001b[0m 1s/step - accuracy: 0.6775 - loss: 0.5678\n",
            "Epoch 4: val_accuracy improved from 0.68400 to 0.69300, saving model to best_model_3.keras\n",
            "\u001b[1m250/250\u001b[0m \u001b[32m━━━━━━━━━━━━━━━━━━━━\u001b[0m\u001b[37m\u001b[0m \u001b[1m398s\u001b[0m 2s/step - accuracy: 0.6775 - loss: 0.5678 - val_accuracy: 0.6930 - val_loss: 0.5413\n",
            "Epoch 5/10\n",
            "\u001b[1m250/250\u001b[0m \u001b[32m━━━━━━━━━━━━━━━━━━━━\u001b[0m\u001b[37m\u001b[0m \u001b[1m0s\u001b[0m 1s/step - accuracy: 0.6826 - loss: 0.5589\n",
            "Epoch 5: val_accuracy did not improve from 0.69300\n",
            "\u001b[1m250/250\u001b[0m \u001b[32m━━━━━━━━━━━━━━━━━━━━\u001b[0m\u001b[37m\u001b[0m \u001b[1m439s\u001b[0m 2s/step - accuracy: 0.6826 - loss: 0.5589 - val_accuracy: 0.6820 - val_loss: 0.5384\n",
            "Epoch 6/10\n",
            "\u001b[1m250/250\u001b[0m \u001b[32m━━━━━━━━━━━━━━━━━━━━\u001b[0m\u001b[37m\u001b[0m \u001b[1m0s\u001b[0m 1s/step - accuracy: 0.7096 - loss: 0.5337\n",
            "Epoch 6: val_accuracy did not improve from 0.69300\n",
            "\u001b[1m250/250\u001b[0m \u001b[32m━━━━━━━━━━━━━━━━━━━━\u001b[0m\u001b[37m\u001b[0m \u001b[1m445s\u001b[0m 2s/step - accuracy: 0.7095 - loss: 0.5337 - val_accuracy: 0.6890 - val_loss: 0.5245\n",
            "Epoch 7/10\n",
            "\u001b[1m250/250\u001b[0m \u001b[32m━━━━━━━━━━━━━━━━━━━━\u001b[0m\u001b[37m\u001b[0m \u001b[1m0s\u001b[0m 1s/step - accuracy: 0.7067 - loss: 0.5190\n",
            "Epoch 7: val_accuracy did not improve from 0.69300\n",
            "\u001b[1m250/250\u001b[0m \u001b[32m━━━━━━━━━━━━━━━━━━━━\u001b[0m\u001b[37m\u001b[0m \u001b[1m393s\u001b[0m 2s/step - accuracy: 0.7067 - loss: 0.5190 - val_accuracy: 0.6790 - val_loss: 0.5205\n",
            "Epoch 8/10\n",
            "\u001b[1m250/250\u001b[0m \u001b[32m━━━━━━━━━━━━━━━━━━━━\u001b[0m\u001b[37m\u001b[0m \u001b[1m0s\u001b[0m 1s/step - accuracy: 0.7094 - loss: 0.5089\n",
            "Epoch 8: val_accuracy improved from 0.69300 to 0.69600, saving model to best_model_3.keras\n",
            "\u001b[1m250/250\u001b[0m \u001b[32m━━━━━━━━━━━━━━━━━━━━\u001b[0m\u001b[37m\u001b[0m \u001b[1m443s\u001b[0m 2s/step - accuracy: 0.7093 - loss: 0.5089 - val_accuracy: 0.6960 - val_loss: 0.5050\n",
            "Epoch 9/10\n",
            "\u001b[1m250/250\u001b[0m \u001b[32m━━━━━━━━━━━━━━━━━━━━\u001b[0m\u001b[37m\u001b[0m \u001b[1m0s\u001b[0m 1s/step - accuracy: 0.7085 - loss: 0.5019\n",
            "Epoch 9: val_accuracy improved from 0.69600 to 0.69700, saving model to best_model_3.keras\n",
            "\u001b[1m250/250\u001b[0m \u001b[32m━━━━━━━━━━━━━━━━━━━━\u001b[0m\u001b[37m\u001b[0m \u001b[1m493s\u001b[0m 2s/step - accuracy: 0.7085 - loss: 0.5019 - val_accuracy: 0.6970 - val_loss: 0.5048\n",
            "Epoch 10/10\n",
            "\u001b[1m250/250\u001b[0m \u001b[32m━━━━━━━━━━━━━━━━━━━━\u001b[0m\u001b[37m\u001b[0m \u001b[1m0s\u001b[0m 1s/step - accuracy: 0.7150 - loss: 0.4968\n",
            "Epoch 10: val_accuracy did not improve from 0.69700\n",
            "\u001b[1m250/250\u001b[0m \u001b[32m━━━━━━━━━━━━━━━━━━━━\u001b[0m\u001b[37m\u001b[0m \u001b[1m461s\u001b[0m 2s/step - accuracy: 0.7150 - loss: 0.4968 - val_accuracy: 0.6900 - val_loss: 0.4932\n"
          ]
        }
      ]
    },
    {
      "cell_type": "code",
      "source": [
        "base_model.trainable = True\n",
        "for layer in base_model.layers[:-20]:  # Keep earlier layers frozen\n",
        "    layer.trainable = False"
      ],
      "metadata": {
        "id": "dHQDEcr1jF5x"
      },
      "execution_count": null,
      "outputs": []
    },
    {
      "cell_type": "code",
      "source": [
        "model0.compile(\n",
        "    optimizer=tf.keras.optimizers.Adam(learning_rate=0.0002),\n",
        "    loss='binary_crossentropy',\n",
        "    metrics=['accuracy']\n",
        ")"
      ],
      "metadata": {
        "id": "s0CZv8NYEsCi"
      },
      "execution_count": null,
      "outputs": []
    },
    {
      "cell_type": "code",
      "source": [
        "history_finetune = model0.fit(\n",
        "    train_generator,\n",
        "    validation_data=val_generator,\n",
        "    epochs=10,\n",
        "    callbacks=[early_stopping, model_checkpoint]\n",
        ")"
      ],
      "metadata": {
        "colab": {
          "base_uri": "https://localhost:8080/"
        },
        "id": "N6iACpVdEyUH",
        "outputId": "bea42bd6-ee01-40e9-f20d-2e876c9797a6"
      },
      "execution_count": null,
      "outputs": [
        {
          "output_type": "stream",
          "name": "stdout",
          "text": [
            "Epoch 1/10\n",
            "\u001b[1m250/250\u001b[0m \u001b[32m━━━━━━━━━━━━━━━━━━━━\u001b[0m\u001b[37m\u001b[0m \u001b[1m0s\u001b[0m 2s/step - accuracy: 0.6701 - loss: 0.6278\n",
            "Epoch 1: val_accuracy improved from 0.69700 to 0.70500, saving model to best_model_3.keras\n",
            "\u001b[1m250/250\u001b[0m \u001b[32m━━━━━━━━━━━━━━━━━━━━\u001b[0m\u001b[37m\u001b[0m \u001b[1m514s\u001b[0m 2s/step - accuracy: 0.6702 - loss: 0.6275 - val_accuracy: 0.7050 - val_loss: 0.6001\n",
            "Epoch 2/10\n",
            "\u001b[1m250/250\u001b[0m \u001b[32m━━━━━━━━━━━━━━━━━━━━\u001b[0m\u001b[37m\u001b[0m \u001b[1m0s\u001b[0m 2s/step - accuracy: 0.7459 - loss: 0.4504\n",
            "Epoch 2: val_accuracy improved from 0.70500 to 0.72900, saving model to best_model_3.keras\n",
            "\u001b[1m250/250\u001b[0m \u001b[32m━━━━━━━━━━━━━━━━━━━━\u001b[0m\u001b[37m\u001b[0m \u001b[1m596s\u001b[0m 2s/step - accuracy: 0.7459 - loss: 0.4503 - val_accuracy: 0.7290 - val_loss: 0.6358\n",
            "Epoch 3/10\n",
            "\u001b[1m250/250\u001b[0m \u001b[32m━━━━━━━━━━━━━━━━━━━━\u001b[0m\u001b[37m\u001b[0m \u001b[1m0s\u001b[0m 2s/step - accuracy: 0.7763 - loss: 0.4092\n",
            "Epoch 3: val_accuracy did not improve from 0.72900\n",
            "\u001b[1m250/250\u001b[0m \u001b[32m━━━━━━━━━━━━━━━━━━━━\u001b[0m\u001b[37m\u001b[0m \u001b[1m539s\u001b[0m 2s/step - accuracy: 0.7763 - loss: 0.4092 - val_accuracy: 0.6880 - val_loss: 1.5618\n"
          ]
        }
      ]
    },
    {
      "cell_type": "code",
      "source": [
        "test_datagen = ImageDataGenerator(rescale=1.0/255.0)\n",
        "test_generator = test_datagen.flow_from_dataframe(\n",
        "    test_df,\n",
        "    x_col=\"frame_path\",\n",
        "    y_col=\"label\",\n",
        "    target_size=(224, 224),\n",
        "    batch_size=32,\n",
        "    class_mode=\"binary\"\n",
        ")"
      ],
      "metadata": {
        "colab": {
          "base_uri": "https://localhost:8080/"
        },
        "id": "VvgqZ3-FMgE-",
        "outputId": "287f05d2-d184-4fbb-e43e-dc548e1422c7"
      },
      "execution_count": null,
      "outputs": [
        {
          "output_type": "stream",
          "name": "stdout",
          "text": [
            "Found 1000 validated image filenames belonging to 2 classes.\n"
          ]
        }
      ]
    },
    {
      "cell_type": "code",
      "source": [
        "test_loss, test_accuracy = model0.evaluate(test_generator, steps=len(test_generator))\n",
        "print(f\"Test Loss: {test_loss}\")\n",
        "print(f\"Test Accuracy: {test_accuracy}\")"
      ],
      "metadata": {
        "colab": {
          "base_uri": "https://localhost:8080/"
        },
        "id": "_6LliwKSE5Ei",
        "outputId": "416accba-e9f9-46e9-87f8-161bf4c615f2"
      },
      "execution_count": null,
      "outputs": [
        {
          "output_type": "stream",
          "name": "stderr",
          "text": [
            "/usr/local/lib/python3.10/dist-packages/keras/src/trainers/data_adapters/py_dataset_adapter.py:122: UserWarning: Your `PyDataset` class should call `super().__init__(**kwargs)` in its constructor. `**kwargs` can include `workers`, `use_multiprocessing`, `max_queue_size`. Do not pass these arguments to `fit()`, as they will be ignored.\n",
            "  self._warn_if_super_not_called()\n"
          ]
        },
        {
          "output_type": "stream",
          "name": "stdout",
          "text": [
            "\u001b[1m32/32\u001b[0m \u001b[32m━━━━━━━━━━━━━━━━━━━━\u001b[0m\u001b[37m\u001b[0m \u001b[1m143s\u001b[0m 5s/step - accuracy: 0.7177 - loss: 0.5937\n",
            "Test Loss: 0.597319483757019\n",
            "Test Accuracy: 0.7049999833106995\n"
          ]
        }
      ]
    },
    {
      "cell_type": "code",
      "source": [
        "MODEL_SAVE_PATH = '/content/drive/MyDrive/FOR_DATASET_0/deepfake_detector_model_3.h5'\n",
        "model0.save(MODEL_SAVE_PATH)\n",
        "print(f\"Model saved at {MODEL_SAVE_PATH}\")"
      ],
      "metadata": {
        "colab": {
          "base_uri": "https://localhost:8080/"
        },
        "id": "tSs1Ftu3L6cC",
        "outputId": "4042a21f-1c66-46c5-eb96-e8a2e096ea13"
      },
      "execution_count": null,
      "outputs": [
        {
          "output_type": "stream",
          "name": "stderr",
          "text": [
            "WARNING:absl:You are saving your model as an HDF5 file via `model.save()` or `keras.saving.save_model(model)`. This file format is considered legacy. We recommend using instead the native Keras format, e.g. `model.save('my_model.keras')` or `keras.saving.save_model(model, 'my_model.keras')`. \n"
          ]
        },
        {
          "output_type": "stream",
          "name": "stdout",
          "text": [
            "Model saved at /content/drive/MyDrive/FOR_DATASET_0/deepfake_detector_model_3.h5\n"
          ]
        }
      ]
    },
    {
      "cell_type": "code",
      "source": [
        "import tensorflow as tf\n",
        "\n",
        "# ... your existing code ...\n",
        "\n",
        "# Convert the Keras model to TensorFlow Lite\n",
        "converter = tf.lite.TFLiteConverter.from_keras_model(model0)\n",
        "tflite_model = converter.convert()\n",
        "\n",
        "# Save the TensorFlow Lite model\n",
        "TFLITE_MODEL_PATH = '/content/drive/MyDrive/FOR_DATASET_0/deepfake_detector_model_3.tflite'\n",
        "with open(TFLITE_MODEL_PATH, 'wb') as f:\n",
        "    f.write(tflite_model)\n",
        "print(f\"TFLite model saved at {TFLITE_MODEL_PATH}\")"
      ],
      "metadata": {
        "colab": {
          "base_uri": "https://localhost:8080/"
        },
        "collapsed": true,
        "id": "F1W0NMqxNZ-L",
        "outputId": "17f81602-19b7-4a8a-aa95-5d96c42d2c8e"
      },
      "execution_count": null,
      "outputs": [
        {
          "output_type": "stream",
          "name": "stdout",
          "text": [
            "Saved artifact at '/tmp/tmpqadgaks1'. The following endpoints are available:\n",
            "\n",
            "* Endpoint 'serve'\n",
            "  args_0 (POSITIONAL_ONLY): TensorSpec(shape=(None, 224, 224, 3), dtype=tf.float32, name='keras_tensor_159')\n",
            "Output Type:\n",
            "  TensorSpec(shape=(None, 1), dtype=tf.float32, name=None)\n",
            "Captures:\n",
            "  137889131868608: TensorSpec(shape=(), dtype=tf.resource, name=None)\n",
            "  137888783812384: TensorSpec(shape=(), dtype=tf.resource, name=None)\n",
            "  137888783811152: TensorSpec(shape=(), dtype=tf.resource, name=None)\n",
            "  137889132281552: TensorSpec(shape=(), dtype=tf.resource, name=None)\n",
            "  137888783810976: TensorSpec(shape=(), dtype=tf.resource, name=None)\n",
            "  137889351835968: TensorSpec(shape=(), dtype=tf.resource, name=None)\n",
            "  137888783818544: TensorSpec(shape=(), dtype=tf.resource, name=None)\n",
            "  137888783821184: TensorSpec(shape=(), dtype=tf.resource, name=None)\n",
            "  137888783817136: TensorSpec(shape=(), dtype=tf.resource, name=None)\n",
            "  137888783819072: TensorSpec(shape=(), dtype=tf.resource, name=None)\n",
            "  137888783824176: TensorSpec(shape=(), dtype=tf.resource, name=None)\n",
            "  137888783817488: TensorSpec(shape=(), dtype=tf.resource, name=None)\n",
            "  137888783822944: TensorSpec(shape=(), dtype=tf.resource, name=None)\n",
            "  137888783825232: TensorSpec(shape=(), dtype=tf.resource, name=None)\n",
            "  137888783860304: TensorSpec(shape=(), dtype=tf.resource, name=None)\n",
            "  137889132278912: TensorSpec(shape=(), dtype=tf.resource, name=None)\n",
            "  137888783866816: TensorSpec(shape=(), dtype=tf.resource, name=None)\n",
            "  137888783867872: TensorSpec(shape=(), dtype=tf.resource, name=None)\n",
            "  137888783864000: TensorSpec(shape=(), dtype=tf.resource, name=None)\n",
            "  137888783866640: TensorSpec(shape=(), dtype=tf.resource, name=None)\n",
            "  137888783875264: TensorSpec(shape=(), dtype=tf.resource, name=None)\n",
            "  137888783871744: TensorSpec(shape=(), dtype=tf.resource, name=None)\n",
            "  137888783871392: TensorSpec(shape=(), dtype=tf.resource, name=None)\n",
            "  137888783872448: TensorSpec(shape=(), dtype=tf.resource, name=None)\n",
            "  137888783875440: TensorSpec(shape=(), dtype=tf.resource, name=None)\n",
            "  137888783870864: TensorSpec(shape=(), dtype=tf.resource, name=None)\n",
            "  137888783949088: TensorSpec(shape=(), dtype=tf.resource, name=None)\n",
            "  137888783950144: TensorSpec(shape=(), dtype=tf.resource, name=None)\n",
            "  137888783946272: TensorSpec(shape=(), dtype=tf.resource, name=None)\n",
            "  137888783948912: TensorSpec(shape=(), dtype=tf.resource, name=None)\n",
            "  137888783954896: TensorSpec(shape=(), dtype=tf.resource, name=None)\n",
            "  137888783953840: TensorSpec(shape=(), dtype=tf.resource, name=None)\n",
            "  137888783956304: TensorSpec(shape=(), dtype=tf.resource, name=None)\n",
            "  137888783952432: TensorSpec(shape=(), dtype=tf.resource, name=None)\n",
            "  137888783955072: TensorSpec(shape=(), dtype=tf.resource, name=None)\n",
            "  137888783952784: TensorSpec(shape=(), dtype=tf.resource, name=None)\n",
            "  137888784043344: TensorSpec(shape=(), dtype=tf.resource, name=None)\n",
            "  137888784045984: TensorSpec(shape=(), dtype=tf.resource, name=None)\n",
            "  137888784041936: TensorSpec(shape=(), dtype=tf.resource, name=None)\n",
            "  137888784043872: TensorSpec(shape=(), dtype=tf.resource, name=None)\n",
            "  137888784052144: TensorSpec(shape=(), dtype=tf.resource, name=None)\n",
            "  137888784051088: TensorSpec(shape=(), dtype=tf.resource, name=None)\n",
            "  137888784053552: TensorSpec(shape=(), dtype=tf.resource, name=None)\n",
            "  137888784040000: TensorSpec(shape=(), dtype=tf.resource, name=None)\n",
            "  137888784052320: TensorSpec(shape=(), dtype=tf.resource, name=None)\n",
            "  137888784049328: TensorSpec(shape=(), dtype=tf.resource, name=None)\n",
            "  137888784109408: TensorSpec(shape=(), dtype=tf.resource, name=None)\n",
            "  137888784106944: TensorSpec(shape=(), dtype=tf.resource, name=None)\n",
            "  137888784106064: TensorSpec(shape=(), dtype=tf.resource, name=None)\n",
            "  137888784109584: TensorSpec(shape=(), dtype=tf.resource, name=None)\n",
            "  137888784117856: TensorSpec(shape=(), dtype=tf.resource, name=None)\n",
            "  137888784116800: TensorSpec(shape=(), dtype=tf.resource, name=None)\n",
            "  137888784119440: TensorSpec(shape=(), dtype=tf.resource, name=None)\n",
            "  137888784106240: TensorSpec(shape=(), dtype=tf.resource, name=None)\n",
            "  137888784117328: TensorSpec(shape=(), dtype=tf.resource, name=None)\n",
            "  137888784113456: TensorSpec(shape=(), dtype=tf.resource, name=None)\n",
            "  137888782143680: TensorSpec(shape=(), dtype=tf.resource, name=None)\n",
            "  137888782144208: TensorSpec(shape=(), dtype=tf.resource, name=None)\n",
            "  137888782140336: TensorSpec(shape=(), dtype=tf.resource, name=None)\n",
            "  137888782143856: TensorSpec(shape=(), dtype=tf.resource, name=None)\n",
            "  137888782149488: TensorSpec(shape=(), dtype=tf.resource, name=None)\n",
            "  137888782148432: TensorSpec(shape=(), dtype=tf.resource, name=None)\n",
            "  137888782150896: TensorSpec(shape=(), dtype=tf.resource, name=None)\n",
            "  137888782147024: TensorSpec(shape=(), dtype=tf.resource, name=None)\n",
            "  137888782149664: TensorSpec(shape=(), dtype=tf.resource, name=None)\n",
            "  137888782153712: TensorSpec(shape=(), dtype=tf.resource, name=None)\n",
            "  137888782204992: TensorSpec(shape=(), dtype=tf.resource, name=None)\n",
            "  137888782205168: TensorSpec(shape=(), dtype=tf.resource, name=None)\n",
            "  137888782154768: TensorSpec(shape=(), dtype=tf.resource, name=None)\n",
            "  137888782206752: TensorSpec(shape=(), dtype=tf.resource, name=None)\n",
            "  137888782152480: TensorSpec(shape=(), dtype=tf.resource, name=None)\n",
            "  137888782212912: TensorSpec(shape=(), dtype=tf.resource, name=None)\n",
            "  137888782215376: TensorSpec(shape=(), dtype=tf.resource, name=None)\n",
            "  137888782211504: TensorSpec(shape=(), dtype=tf.resource, name=None)\n",
            "  137888782214144: TensorSpec(shape=(), dtype=tf.resource, name=None)\n",
            "  137888782211152: TensorSpec(shape=(), dtype=tf.resource, name=None)\n",
            "  137888782211856: TensorSpec(shape=(), dtype=tf.resource, name=None)\n",
            "  137888782217136: TensorSpec(shape=(), dtype=tf.resource, name=None)\n",
            "  137888782219424: TensorSpec(shape=(), dtype=tf.resource, name=None)\n",
            "  137888782255376: TensorSpec(shape=(), dtype=tf.resource, name=None)\n",
            "  137888782220480: TensorSpec(shape=(), dtype=tf.resource, name=None)\n",
            "  137888782260832: TensorSpec(shape=(), dtype=tf.resource, name=None)\n",
            "  137888782263472: TensorSpec(shape=(), dtype=tf.resource, name=None)\n",
            "  137888782259424: TensorSpec(shape=(), dtype=tf.resource, name=None)\n",
            "  137888782261360: TensorSpec(shape=(), dtype=tf.resource, name=None)\n",
            "  137888782269632: TensorSpec(shape=(), dtype=tf.resource, name=None)\n",
            "  137888782259776: TensorSpec(shape=(), dtype=tf.resource, name=None)\n",
            "  137888782265056: TensorSpec(shape=(), dtype=tf.resource, name=None)\n",
            "  137888782266816: TensorSpec(shape=(), dtype=tf.resource, name=None)\n",
            "  137888782268400: TensorSpec(shape=(), dtype=tf.resource, name=None)\n",
            "  137888782152656: TensorSpec(shape=(), dtype=tf.resource, name=None)\n",
            "  137888782359664: TensorSpec(shape=(), dtype=tf.resource, name=None)\n",
            "  137888782360720: TensorSpec(shape=(), dtype=tf.resource, name=None)\n",
            "  137888782356848: TensorSpec(shape=(), dtype=tf.resource, name=None)\n",
            "  137888782359488: TensorSpec(shape=(), dtype=tf.resource, name=None)\n",
            "  137888782365120: TensorSpec(shape=(), dtype=tf.resource, name=None)\n",
            "  137888782364240: TensorSpec(shape=(), dtype=tf.resource, name=None)\n",
            "  137888782364416: TensorSpec(shape=(), dtype=tf.resource, name=None)\n",
            "  137888782366352: TensorSpec(shape=(), dtype=tf.resource, name=None)\n",
            "  137888782364768: TensorSpec(shape=(), dtype=tf.resource, name=None)\n",
            "  137888782363712: TensorSpec(shape=(), dtype=tf.resource, name=None)\n",
            "  137888782474704: TensorSpec(shape=(), dtype=tf.resource, name=None)\n",
            "  137888782475760: TensorSpec(shape=(), dtype=tf.resource, name=None)\n",
            "  137888782471888: TensorSpec(shape=(), dtype=tf.resource, name=None)\n",
            "  137888782474528: TensorSpec(shape=(), dtype=tf.resource, name=None)\n",
            "  137888782480512: TensorSpec(shape=(), dtype=tf.resource, name=None)\n",
            "  137888782479456: TensorSpec(shape=(), dtype=tf.resource, name=None)\n",
            "  137888782481920: TensorSpec(shape=(), dtype=tf.resource, name=None)\n",
            "  137888782478048: TensorSpec(shape=(), dtype=tf.resource, name=None)\n",
            "  137888782480688: TensorSpec(shape=(), dtype=tf.resource, name=None)\n",
            "  137888782478400: TensorSpec(shape=(), dtype=tf.resource, name=None)\n",
            "  137888782552576: TensorSpec(shape=(), dtype=tf.resource, name=None)\n",
            "  137888782555216: TensorSpec(shape=(), dtype=tf.resource, name=None)\n",
            "  137888782551168: TensorSpec(shape=(), dtype=tf.resource, name=None)\n",
            "  137888782553104: TensorSpec(shape=(), dtype=tf.resource, name=None)\n",
            "  137888782561376: TensorSpec(shape=(), dtype=tf.resource, name=None)\n",
            "  137888782560320: TensorSpec(shape=(), dtype=tf.resource, name=None)\n",
            "  137888782562784: TensorSpec(shape=(), dtype=tf.resource, name=None)\n",
            "  137888782549232: TensorSpec(shape=(), dtype=tf.resource, name=None)\n",
            "  137888782561552: TensorSpec(shape=(), dtype=tf.resource, name=None)\n",
            "  137888782558560: TensorSpec(shape=(), dtype=tf.resource, name=None)\n",
            "  137888782635024: TensorSpec(shape=(), dtype=tf.resource, name=None)\n",
            "  137888782635552: TensorSpec(shape=(), dtype=tf.resource, name=None)\n",
            "  137888782631680: TensorSpec(shape=(), dtype=tf.resource, name=None)\n",
            "  137888782635200: TensorSpec(shape=(), dtype=tf.resource, name=None)\n",
            "  137888782642064: TensorSpec(shape=(), dtype=tf.resource, name=None)\n",
            "  137888782641008: TensorSpec(shape=(), dtype=tf.resource, name=None)\n",
            "  137888782643648: TensorSpec(shape=(), dtype=tf.resource, name=None)\n",
            "  137888782631856: TensorSpec(shape=(), dtype=tf.resource, name=None)\n",
            "  137888782641536: TensorSpec(shape=(), dtype=tf.resource, name=None)\n",
            "  137888782646640: TensorSpec(shape=(), dtype=tf.resource, name=None)\n",
            "  137888782748656: TensorSpec(shape=(), dtype=tf.resource, name=None)\n",
            "  137888782746720: TensorSpec(shape=(), dtype=tf.resource, name=None)\n",
            "  137888782749184: TensorSpec(shape=(), dtype=tf.resource, name=None)\n",
            "  137888782748832: TensorSpec(shape=(), dtype=tf.resource, name=None)\n",
            "  137888782755872: TensorSpec(shape=(), dtype=tf.resource, name=None)\n",
            "  137888782754816: TensorSpec(shape=(), dtype=tf.resource, name=None)\n",
            "  137888782757280: TensorSpec(shape=(), dtype=tf.resource, name=None)\n",
            "  137888782753408: TensorSpec(shape=(), dtype=tf.resource, name=None)\n",
            "  137888782756048: TensorSpec(shape=(), dtype=tf.resource, name=None)\n",
            "  137888782760096: TensorSpec(shape=(), dtype=tf.resource, name=None)\n",
            "  137888782778608: TensorSpec(shape=(), dtype=tf.resource, name=None)\n",
            "  137888782778784: TensorSpec(shape=(), dtype=tf.resource, name=None)\n",
            "  137888782761680: TensorSpec(shape=(), dtype=tf.resource, name=None)\n",
            "  137888782780368: TensorSpec(shape=(), dtype=tf.resource, name=None)\n",
            "  137888782787584: TensorSpec(shape=(), dtype=tf.resource, name=None)\n",
            "  137888782786528: TensorSpec(shape=(), dtype=tf.resource, name=None)\n",
            "  137888782788992: TensorSpec(shape=(), dtype=tf.resource, name=None)\n",
            "  137888782785120: TensorSpec(shape=(), dtype=tf.resource, name=None)\n",
            "  137888782787760: TensorSpec(shape=(), dtype=tf.resource, name=None)\n",
            "  137888782784768: TensorSpec(shape=(), dtype=tf.resource, name=None)\n",
            "  137888782785472: TensorSpec(shape=(), dtype=tf.resource, name=None)\n",
            "  137888782790752: TensorSpec(shape=(), dtype=tf.resource, name=None)\n",
            "  137888782793040: TensorSpec(shape=(), dtype=tf.resource, name=None)\n",
            "  137888782910032: TensorSpec(shape=(), dtype=tf.resource, name=None)\n",
            "  137888782794096: TensorSpec(shape=(), dtype=tf.resource, name=None)\n",
            "  137888782916368: TensorSpec(shape=(), dtype=tf.resource, name=None)\n",
            "  137888782919008: TensorSpec(shape=(), dtype=tf.resource, name=None)\n",
            "  137888782914960: TensorSpec(shape=(), dtype=tf.resource, name=None)\n",
            "  137888782916896: TensorSpec(shape=(), dtype=tf.resource, name=None)\n",
            "  137888782925168: TensorSpec(shape=(), dtype=tf.resource, name=None)\n",
            "  137888782915312: TensorSpec(shape=(), dtype=tf.resource, name=None)\n",
            "  137888782920592: TensorSpec(shape=(), dtype=tf.resource, name=None)\n",
            "  137888782922352: TensorSpec(shape=(), dtype=tf.resource, name=None)\n",
            "  137888782921120: TensorSpec(shape=(), dtype=tf.resource, name=None)\n",
            "  137888782759040: TensorSpec(shape=(), dtype=tf.resource, name=None)\n",
            "  137888783013792: TensorSpec(shape=(), dtype=tf.resource, name=None)\n",
            "  137888783014848: TensorSpec(shape=(), dtype=tf.resource, name=None)\n",
            "  137888783010976: TensorSpec(shape=(), dtype=tf.resource, name=None)\n",
            "  137888783013616: TensorSpec(shape=(), dtype=tf.resource, name=None)\n",
            "  137888783020832: TensorSpec(shape=(), dtype=tf.resource, name=None)\n",
            "  137888783019776: TensorSpec(shape=(), dtype=tf.resource, name=None)\n",
            "  137888783022416: TensorSpec(shape=(), dtype=tf.resource, name=None)\n",
            "  137888783011328: TensorSpec(shape=(), dtype=tf.resource, name=None)\n",
            "  137888783020304: TensorSpec(shape=(), dtype=tf.resource, name=None)\n",
            "  137888783016432: TensorSpec(shape=(), dtype=tf.resource, name=None)\n",
            "  137888783094656: TensorSpec(shape=(), dtype=tf.resource, name=None)\n",
            "  137888783095712: TensorSpec(shape=(), dtype=tf.resource, name=None)\n",
            "  137888783091840: TensorSpec(shape=(), dtype=tf.resource, name=None)\n",
            "  137888783094480: TensorSpec(shape=(), dtype=tf.resource, name=None)\n",
            "  137888783101872: TensorSpec(shape=(), dtype=tf.resource, name=None)\n",
            "  137888783100816: TensorSpec(shape=(), dtype=tf.resource, name=None)\n",
            "  137888783103280: TensorSpec(shape=(), dtype=tf.resource, name=None)\n",
            "  137888783099408: TensorSpec(shape=(), dtype=tf.resource, name=None)\n",
            "  137888783102048: TensorSpec(shape=(), dtype=tf.resource, name=None)\n",
            "  137888783099760: TensorSpec(shape=(), dtype=tf.resource, name=None)\n",
            "  137888781060224: TensorSpec(shape=(), dtype=tf.resource, name=None)\n",
            "  137888781063040: TensorSpec(shape=(), dtype=tf.resource, name=None)\n",
            "  137888781058464: TensorSpec(shape=(), dtype=tf.resource, name=None)\n",
            "  137888781061984: TensorSpec(shape=(), dtype=tf.resource, name=None)\n",
            "  137888781069200: TensorSpec(shape=(), dtype=tf.resource, name=None)\n",
            "  137888781068144: TensorSpec(shape=(), dtype=tf.resource, name=None)\n",
            "  137888781070608: TensorSpec(shape=(), dtype=tf.resource, name=None)\n",
            "  137888781066736: TensorSpec(shape=(), dtype=tf.resource, name=None)\n",
            "  137888781069376: TensorSpec(shape=(), dtype=tf.resource, name=None)\n",
            "  137888781066384: TensorSpec(shape=(), dtype=tf.resource, name=None)\n",
            "  137888781142848: TensorSpec(shape=(), dtype=tf.resource, name=None)\n",
            "  137888781140912: TensorSpec(shape=(), dtype=tf.resource, name=None)\n",
            "  137888781143376: TensorSpec(shape=(), dtype=tf.resource, name=None)\n",
            "  137888781143024: TensorSpec(shape=(), dtype=tf.resource, name=None)\n",
            "  137888781151296: TensorSpec(shape=(), dtype=tf.resource, name=None)\n",
            "  137888781150240: TensorSpec(shape=(), dtype=tf.resource, name=None)\n",
            "  137888781152880: TensorSpec(shape=(), dtype=tf.resource, name=None)\n",
            "  137888781140208: TensorSpec(shape=(), dtype=tf.resource, name=None)\n",
            "  137888781150768: TensorSpec(shape=(), dtype=tf.resource, name=None)\n",
            "  137888781155872: TensorSpec(shape=(), dtype=tf.resource, name=None)\n",
            "  137888781241504: TensorSpec(shape=(), dtype=tf.resource, name=None)\n",
            "  137888781239040: TensorSpec(shape=(), dtype=tf.resource, name=None)\n",
            "  137888781241152: TensorSpec(shape=(), dtype=tf.resource, name=None)\n",
            "  137888781241680: TensorSpec(shape=(), dtype=tf.resource, name=None)\n",
            "  137888781247312: TensorSpec(shape=(), dtype=tf.resource, name=None)\n",
            "  137888781246256: TensorSpec(shape=(), dtype=tf.resource, name=None)\n",
            "  137888781248720: TensorSpec(shape=(), dtype=tf.resource, name=None)\n",
            "  137888781244848: TensorSpec(shape=(), dtype=tf.resource, name=None)\n",
            "  137888781247488: TensorSpec(shape=(), dtype=tf.resource, name=None)\n",
            "  137888781251536: TensorSpec(shape=(), dtype=tf.resource, name=None)\n",
            "  137888781251184: TensorSpec(shape=(), dtype=tf.resource, name=None)\n",
            "  137888781251360: TensorSpec(shape=(), dtype=tf.resource, name=None)\n",
            "  137888781252592: TensorSpec(shape=(), dtype=tf.resource, name=None)\n",
            "  137888781321488: TensorSpec(shape=(), dtype=tf.resource, name=None)\n",
            "  137888781250304: TensorSpec(shape=(), dtype=tf.resource, name=None)\n",
            "  137888781328528: TensorSpec(shape=(), dtype=tf.resource, name=None)\n",
            "  137888781329584: TensorSpec(shape=(), dtype=tf.resource, name=None)\n",
            "  137888781325712: TensorSpec(shape=(), dtype=tf.resource, name=None)\n",
            "  137888781328352: TensorSpec(shape=(), dtype=tf.resource, name=None)\n",
            "  137888781335744: TensorSpec(shape=(), dtype=tf.resource, name=None)\n",
            "  137888781326064: TensorSpec(shape=(), dtype=tf.resource, name=None)\n",
            "  137888781331168: TensorSpec(shape=(), dtype=tf.resource, name=None)\n",
            "  137888781332928: TensorSpec(shape=(), dtype=tf.resource, name=None)\n",
            "  137888781334512: TensorSpec(shape=(), dtype=tf.resource, name=None)\n",
            "  137888781334864: TensorSpec(shape=(), dtype=tf.resource, name=None)\n",
            "  137888781407808: TensorSpec(shape=(), dtype=tf.resource, name=None)\n",
            "  137888781410448: TensorSpec(shape=(), dtype=tf.resource, name=None)\n",
            "  137888781406400: TensorSpec(shape=(), dtype=tf.resource, name=None)\n",
            "  137888781408336: TensorSpec(shape=(), dtype=tf.resource, name=None)\n",
            "  137888781416608: TensorSpec(shape=(), dtype=tf.resource, name=None)\n",
            "  137888781415552: TensorSpec(shape=(), dtype=tf.resource, name=None)\n",
            "  137888781418016: TensorSpec(shape=(), dtype=tf.resource, name=None)\n",
            "  137888781404464: TensorSpec(shape=(), dtype=tf.resource, name=None)\n",
            "  137888781416784: TensorSpec(shape=(), dtype=tf.resource, name=None)\n",
            "  137888781250480: TensorSpec(shape=(), dtype=tf.resource, name=None)\n",
            "  137888781506640: TensorSpec(shape=(), dtype=tf.resource, name=None)\n",
            "  137888781507696: TensorSpec(shape=(), dtype=tf.resource, name=None)\n",
            "  137888781503824: TensorSpec(shape=(), dtype=tf.resource, name=None)\n",
            "  137888781506464: TensorSpec(shape=(), dtype=tf.resource, name=None)\n",
            "  137888781513680: TensorSpec(shape=(), dtype=tf.resource, name=None)\n",
            "  137888781512624: TensorSpec(shape=(), dtype=tf.resource, name=None)\n",
            "  137888781515264: TensorSpec(shape=(), dtype=tf.resource, name=None)\n",
            "  137888781504176: TensorSpec(shape=(), dtype=tf.resource, name=None)\n",
            "  137888781513152: TensorSpec(shape=(), dtype=tf.resource, name=None)\n",
            "  137888781509280: TensorSpec(shape=(), dtype=tf.resource, name=None)\n",
            "  137888781587504: TensorSpec(shape=(), dtype=tf.resource, name=None)\n",
            "  137888781588560: TensorSpec(shape=(), dtype=tf.resource, name=None)\n",
            "  137888781584688: TensorSpec(shape=(), dtype=tf.resource, name=None)\n",
            "  137888781587328: TensorSpec(shape=(), dtype=tf.resource, name=None)\n",
            "  137888781593488: TensorSpec(shape=(), dtype=tf.resource, name=None)\n",
            "  137888781592432: TensorSpec(shape=(), dtype=tf.resource, name=None)\n",
            "  137888781594896: TensorSpec(shape=(), dtype=tf.resource, name=None)\n",
            "  137888781591024: TensorSpec(shape=(), dtype=tf.resource, name=None)\n",
            "  137888781593664: TensorSpec(shape=(), dtype=tf.resource, name=None)\n",
            "  137888781848240: TensorSpec(shape=(), dtype=tf.resource, name=None)\n",
            "  137888781845248: TensorSpec(shape=(), dtype=tf.resource, name=None)\n",
            "  137888781853520: TensorSpec(shape=(), dtype=tf.resource, name=None)\n",
            "  137888781854400: TensorSpec(shape=(), dtype=tf.resource, name=None)\n",
            "TFLite model saved at /content/drive/MyDrive/FOR_DATASET_0/deepfake_detector_model_3.tflite\n"
          ]
        }
      ]
    },
    {
      "cell_type": "markdown",
      "source": [
        "## Model 1 (Using EfficientNet) (Dataset - 10,000 frames)"
      ],
      "metadata": {
        "id": "0uQUra_AF_RS"
      }
    },
    {
      "cell_type": "code",
      "source": [
        "import pandas as pd\n",
        "import tensorflow as tf\n",
        "from tensorflow.keras.applications import EfficientNetB0\n",
        "from tensorflow.keras.layers import GlobalAveragePooling2D, Dropout, Dense, Input\n",
        "from tensorflow.keras.models import Model\n",
        "from tensorflow.keras.optimizers import Adam\n",
        "from tensorflow.keras.preprocessing.image import ImageDataGenerator\n",
        "from sklearn.model_selection import train_test_split"
      ],
      "metadata": {
        "id": "1rh0cGsCNesP"
      },
      "execution_count": 1,
      "outputs": []
    },
    {
      "cell_type": "code",
      "source": [
        "# Load CSV file containing frame paths and labels\n",
        "csv_path = \"/content/drive/MyDrive/FOR_DATASET_0/labels_3.csv\"\n",
        "df = pd.read_csv(csv_path)\n",
        "\n",
        "desired_size = 10000\n",
        "df_reduced = df.groupby(\"label\", group_keys=False).apply(\n",
        "    lambda x: x.sample(int(desired_size * len(x) / len(df)), random_state=101)\n",
        ")\n",
        "\n",
        "# Split data into training and validation sets\n",
        "train_df, temp_df = train_test_split(df_reduced, test_size=0.2, stratify=df_reduced[\"label\"], random_state=101)\n",
        "val_df, test_df = train_test_split(temp_df, test_size=0.5, stratify=temp_df[\"label\"], random_state=101)"
      ],
      "metadata": {
        "colab": {
          "base_uri": "https://localhost:8080/"
        },
        "id": "j7p_eguiGFwv",
        "outputId": "900dc307-1fae-4bfd-ffb8-8c191a8aa1ec"
      },
      "execution_count": 13,
      "outputs": [
        {
          "output_type": "stream",
          "name": "stderr",
          "text": [
            "<ipython-input-13-465b174a904d>:6: DeprecationWarning: DataFrameGroupBy.apply operated on the grouping columns. This behavior is deprecated, and in a future version of pandas the grouping columns will be excluded from the operation. Either pass `include_groups=False` to exclude the groupings or explicitly select the grouping columns after groupby to silence this warning.\n",
            "  df_reduced = df.groupby(\"label\", group_keys=False).apply(\n"
          ]
        }
      ]
    },
    {
      "cell_type": "code",
      "source": [
        "# Convert label column to strings\n",
        "train_df[\"label\"] = train_df[\"label\"].astype(str)\n",
        "val_df[\"label\"] = val_df[\"label\"].astype(str)\n",
        "test_df[\"label\"] = test_df[\"label\"].astype(str)"
      ],
      "metadata": {
        "id": "Ne7ll5YHGcoW"
      },
      "execution_count": 14,
      "outputs": []
    },
    {
      "cell_type": "code",
      "source": [
        "# Ensure ImageDataGenerators are properly defined\n",
        "train_datagen = ImageDataGenerator(rescale=1.0/255.0)\n",
        "val_datagen = ImageDataGenerator(rescale=1.0/255.0)\n",
        "\n",
        "# Define ImageDataGenerators\n",
        "train_generator = train_datagen.flow_from_dataframe(\n",
        "    train_df,\n",
        "    x_col=\"frame_path\",\n",
        "    y_col=\"label\",\n",
        "    target_size=(224, 224),\n",
        "    batch_size=32,\n",
        "    class_mode=\"binary\"\n",
        ")\n",
        "\n",
        "val_generator = val_datagen.flow_from_dataframe(\n",
        "    val_df,\n",
        "    x_col=\"frame_path\",\n",
        "    y_col=\"label\",\n",
        "    target_size=(224, 224),\n",
        "    batch_size=32,\n",
        "    class_mode=\"binary\"\n",
        ")"
      ],
      "metadata": {
        "colab": {
          "base_uri": "https://localhost:8080/"
        },
        "id": "47LzVRG0Ggbx",
        "outputId": "e6fb3e46-c678-4ed8-f080-e709d57165a9"
      },
      "execution_count": 15,
      "outputs": [
        {
          "output_type": "stream",
          "name": "stdout",
          "text": [
            "Found 7999 validated image filenames belonging to 2 classes.\n",
            "Found 1000 validated image filenames belonging to 2 classes.\n"
          ]
        }
      ]
    },
    {
      "cell_type": "code",
      "source": [
        "print(\"Training Labels Distribution:\")\n",
        "print(train_df[\"label\"].value_counts())\n",
        "\n",
        "print(\"\\nValidation Labels Distribution:\")\n",
        "print(val_df[\"label\"].value_counts())\n",
        "\n",
        "print(\"\\nTest Labels Distribution:\")\n",
        "print(test_df[\"label\"].value_counts())"
      ],
      "metadata": {
        "colab": {
          "base_uri": "https://localhost:8080/"
        },
        "id": "f_fCih5BGiig",
        "outputId": "47b52cf7-7d7f-4842-84b8-3321f0ad28a4"
      },
      "execution_count": 16,
      "outputs": [
        {
          "output_type": "stream",
          "name": "stdout",
          "text": [
            "Training Labels Distribution:\n",
            "label\n",
            "1    4077\n",
            "0    3922\n",
            "Name: count, dtype: int64\n",
            "\n",
            "Validation Labels Distribution:\n",
            "label\n",
            "1    510\n",
            "0    490\n",
            "Name: count, dtype: int64\n",
            "\n",
            "Test Labels Distribution:\n",
            "label\n",
            "1    510\n",
            "0    490\n",
            "Name: count, dtype: int64\n"
          ]
        }
      ]
    },
    {
      "cell_type": "code",
      "source": [
        "# Load the EfficientNetB0 model with pre-trained weights\n",
        "base_model = EfficientNetB0(weights=\"imagenet\", include_top=False, input_tensor=Input(shape=(224, 224, 3)))"
      ],
      "metadata": {
        "id": "cgPszyLwHJm_"
      },
      "execution_count": 17,
      "outputs": []
    },
    {
      "cell_type": "code",
      "source": [
        "# Freeze the base model\n",
        "base_model.trainable = False\n",
        "\n",
        "# Add custom layers\n",
        "x = base_model.output\n",
        "x = GlobalAveragePooling2D()(x)\n",
        "x = Dropout(0.3)(x)\n",
        "x = Dense(128, activation=\"relu\")(x)\n",
        "x = Dropout(0.3)(x)\n",
        "output = Dense(1, activation=\"sigmoid\")(x)  # Binary classification\n",
        "\n",
        "model = Model(inputs=base_model.input, outputs=output)"
      ],
      "metadata": {
        "id": "-Opd5Yy6HO5H"
      },
      "execution_count": 18,
      "outputs": []
    },
    {
      "cell_type": "code",
      "source": [
        "# Compile the model\n",
        "model.compile(optimizer=Adam(learning_rate=0.002), loss=\"binary_crossentropy\", metrics=[\"accuracy\"])\n",
        "\n",
        "# Early stopping and checkpointing\n",
        "early_stopping = tf.keras.callbacks.EarlyStopping(\n",
        "    monitor=\"val_loss\", patience=3, restore_best_weights=True\n",
        ")\n",
        "model_checkpoint = tf.keras.callbacks.ModelCheckpoint(\n",
        "    \"best_model_efficientnet.keras\",  # Change the extension to `.keras`\n",
        "    monitor=\"val_accuracy\",\n",
        "    save_best_only=True,\n",
        "    verbose=1\n",
        ")"
      ],
      "metadata": {
        "id": "_lIFNqMxHTmU"
      },
      "execution_count": 19,
      "outputs": []
    },
    {
      "cell_type": "code",
      "source": [
        "# Train the model\n",
        "history = model.fit(\n",
        "    train_generator,\n",
        "    validation_data=val_generator,\n",
        "    epochs=10,\n",
        "    callbacks=[early_stopping, model_checkpoint]\n",
        ")"
      ],
      "metadata": {
        "colab": {
          "base_uri": "https://localhost:8080/"
        },
        "id": "lYCvpbhWHZS6",
        "outputId": "0a595977-29d8-485c-ae65-8284065e2194"
      },
      "execution_count": 20,
      "outputs": [
        {
          "output_type": "stream",
          "name": "stdout",
          "text": [
            "Epoch 1/10\n"
          ]
        },
        {
          "output_type": "stream",
          "name": "stderr",
          "text": [
            "/usr/local/lib/python3.11/dist-packages/keras/src/trainers/data_adapters/py_dataset_adapter.py:122: UserWarning: Your `PyDataset` class should call `super().__init__(**kwargs)` in its constructor. `**kwargs` can include `workers`, `use_multiprocessing`, `max_queue_size`. Do not pass these arguments to `fit()`, as they will be ignored.\n",
            "  self._warn_if_super_not_called()\n"
          ]
        },
        {
          "output_type": "stream",
          "name": "stdout",
          "text": [
            "\u001b[1m250/250\u001b[0m \u001b[32m━━━━━━━━━━━━━━━━━━━━\u001b[0m\u001b[37m\u001b[0m \u001b[1m0s\u001b[0m 3s/step - accuracy: 0.5004 - loss: 0.6973\n",
            "Epoch 1: val_accuracy improved from -inf to 0.49000, saving model to best_model_efficientnet.keras\n",
            "\u001b[1m250/250\u001b[0m \u001b[32m━━━━━━━━━━━━━━━━━━━━\u001b[0m\u001b[37m\u001b[0m \u001b[1m931s\u001b[0m 4s/step - accuracy: 0.5004 - loss: 0.6973 - val_accuracy: 0.4900 - val_loss: 0.6933\n",
            "Epoch 2/10\n",
            "\u001b[1m249/250\u001b[0m \u001b[32m━━━━━━━━━━━━━━━━━━━\u001b[0m\u001b[37m━\u001b[0m \u001b[1m0s\u001b[0m 129ms/step - accuracy: 0.5048 - loss: 0.6935\n",
            "Epoch 2: val_accuracy improved from 0.49000 to 0.51000, saving model to best_model_efficientnet.keras\n",
            "\u001b[1m250/250\u001b[0m \u001b[32m━━━━━━━━━━━━━━━━━━━━\u001b[0m\u001b[37m\u001b[0m \u001b[1m39s\u001b[0m 146ms/step - accuracy: 0.5049 - loss: 0.6935 - val_accuracy: 0.5100 - val_loss: 0.6930\n",
            "Epoch 3/10\n",
            "\u001b[1m250/250\u001b[0m \u001b[32m━━━━━━━━━━━━━━━━━━━━\u001b[0m\u001b[37m\u001b[0m \u001b[1m0s\u001b[0m 128ms/step - accuracy: 0.5084 - loss: 0.6932\n",
            "Epoch 3: val_accuracy did not improve from 0.51000\n",
            "\u001b[1m250/250\u001b[0m \u001b[32m━━━━━━━━━━━━━━━━━━━━\u001b[0m\u001b[37m\u001b[0m \u001b[1m42s\u001b[0m 149ms/step - accuracy: 0.5084 - loss: 0.6932 - val_accuracy: 0.5100 - val_loss: 0.6930\n",
            "Epoch 4/10\n",
            "\u001b[1m250/250\u001b[0m \u001b[32m━━━━━━━━━━━━━━━━━━━━\u001b[0m\u001b[37m\u001b[0m \u001b[1m0s\u001b[0m 132ms/step - accuracy: 0.5149 - loss: 0.6929\n",
            "Epoch 4: val_accuracy did not improve from 0.51000\n",
            "\u001b[1m250/250\u001b[0m \u001b[32m━━━━━━━━━━━━━━━━━━━━\u001b[0m\u001b[37m\u001b[0m \u001b[1m40s\u001b[0m 147ms/step - accuracy: 0.5149 - loss: 0.6929 - val_accuracy: 0.5100 - val_loss: 0.6930\n",
            "Epoch 5/10\n",
            "\u001b[1m249/250\u001b[0m \u001b[32m━━━━━━━━━━━━━━━━━━━\u001b[0m\u001b[37m━\u001b[0m \u001b[1m0s\u001b[0m 131ms/step - accuracy: 0.5043 - loss: 0.6931\n",
            "Epoch 5: val_accuracy did not improve from 0.51000\n",
            "\u001b[1m250/250\u001b[0m \u001b[32m━━━━━━━━━━━━━━━━━━━━\u001b[0m\u001b[37m\u001b[0m \u001b[1m42s\u001b[0m 152ms/step - accuracy: 0.5044 - loss: 0.6931 - val_accuracy: 0.5100 - val_loss: 0.6930\n",
            "Epoch 6/10\n",
            "\u001b[1m250/250\u001b[0m \u001b[32m━━━━━━━━━━━━━━━━━━━━\u001b[0m\u001b[37m\u001b[0m \u001b[1m0s\u001b[0m 131ms/step - accuracy: 0.5049 - loss: 0.6931\n",
            "Epoch 6: val_accuracy did not improve from 0.51000\n",
            "\u001b[1m250/250\u001b[0m \u001b[32m━━━━━━━━━━━━━━━━━━━━\u001b[0m\u001b[37m\u001b[0m \u001b[1m38s\u001b[0m 148ms/step - accuracy: 0.5050 - loss: 0.6931 - val_accuracy: 0.5100 - val_loss: 0.6930\n"
          ]
        }
      ]
    },
    {
      "cell_type": "code",
      "source": [
        "base_model.trainable = True\n",
        "for layer in base_model.layers[:-20]:  # Keep earlier layers frozen\n",
        "    layer.trainable = False"
      ],
      "metadata": {
        "id": "JoQK5TW6Hc2E"
      },
      "execution_count": 21,
      "outputs": []
    },
    {
      "cell_type": "code",
      "source": [
        "model.compile(\n",
        "    optimizer=tf.keras.optimizers.Adam(learning_rate=0.0002),\n",
        "    loss='binary_crossentropy',\n",
        "    metrics=['accuracy']\n",
        ")"
      ],
      "metadata": {
        "id": "X5NVrAhYZz9A"
      },
      "execution_count": 22,
      "outputs": []
    },
    {
      "cell_type": "code",
      "source": [
        "history_finetune = model.fit(\n",
        "    train_generator,\n",
        "    validation_data=val_generator,\n",
        "    epochs=10,\n",
        "    callbacks=[early_stopping, model_checkpoint]\n",
        ")"
      ],
      "metadata": {
        "colab": {
          "base_uri": "https://localhost:8080/"
        },
        "id": "CUUQ4P9LZ2IL",
        "outputId": "d4b46e0b-b617-4d05-eb11-d6cea449a657"
      },
      "execution_count": 23,
      "outputs": [
        {
          "output_type": "stream",
          "name": "stdout",
          "text": [
            "Epoch 1/10\n",
            "\u001b[1m249/250\u001b[0m \u001b[32m━━━━━━━━━━━━━━━━━━━\u001b[0m\u001b[37m━\u001b[0m \u001b[1m0s\u001b[0m 189ms/step - accuracy: 0.5129 - loss: 0.7049\n",
            "Epoch 1: val_accuracy did not improve from 0.51000\n",
            "\u001b[1m250/250\u001b[0m \u001b[32m━━━━━━━━━━━━━━━━━━━━\u001b[0m\u001b[37m\u001b[0m \u001b[1m91s\u001b[0m 245ms/step - accuracy: 0.5129 - loss: 0.7049 - val_accuracy: 0.5100 - val_loss: 0.6929\n",
            "Epoch 2/10\n",
            "\u001b[1m250/250\u001b[0m \u001b[32m━━━━━━━━━━━━━━━━━━━━\u001b[0m\u001b[37m\u001b[0m \u001b[1m0s\u001b[0m 133ms/step - accuracy: 0.5041 - loss: 0.6938\n",
            "Epoch 2: val_accuracy did not improve from 0.51000\n",
            "\u001b[1m250/250\u001b[0m \u001b[32m━━━━━━━━━━━━━━━━━━━━\u001b[0m\u001b[37m\u001b[0m \u001b[1m44s\u001b[0m 149ms/step - accuracy: 0.5042 - loss: 0.6938 - val_accuracy: 0.5100 - val_loss: 0.6929\n",
            "Epoch 3/10\n",
            "\u001b[1m249/250\u001b[0m \u001b[32m━━━━━━━━━━━━━━━━━━━\u001b[0m\u001b[37m━\u001b[0m \u001b[1m0s\u001b[0m 134ms/step - accuracy: 0.5100 - loss: 0.6932\n",
            "Epoch 3: val_accuracy did not improve from 0.51000\n",
            "\u001b[1m250/250\u001b[0m \u001b[32m━━━━━━━━━━━━━━━━━━━━\u001b[0m\u001b[37m\u001b[0m \u001b[1m41s\u001b[0m 150ms/step - accuracy: 0.5100 - loss: 0.6932 - val_accuracy: 0.5100 - val_loss: 0.6929\n",
            "Epoch 4/10\n",
            "\u001b[1m250/250\u001b[0m \u001b[32m━━━━━━━━━━━━━━━━━━━━\u001b[0m\u001b[37m\u001b[0m \u001b[1m0s\u001b[0m 132ms/step - accuracy: 0.5050 - loss: 0.6932\n",
            "Epoch 4: val_accuracy did not improve from 0.51000\n",
            "\u001b[1m250/250\u001b[0m \u001b[32m━━━━━━━━━━━━━━━━━━━━\u001b[0m\u001b[37m\u001b[0m \u001b[1m39s\u001b[0m 152ms/step - accuracy: 0.5050 - loss: 0.6932 - val_accuracy: 0.5100 - val_loss: 0.6929\n",
            "Epoch 5/10\n",
            "\u001b[1m249/250\u001b[0m \u001b[32m━━━━━━━━━━━━━━━━━━━\u001b[0m\u001b[37m━\u001b[0m \u001b[1m0s\u001b[0m 129ms/step - accuracy: 0.5078 - loss: 0.6930\n",
            "Epoch 5: val_accuracy did not improve from 0.51000\n",
            "\u001b[1m250/250\u001b[0m \u001b[32m━━━━━━━━━━━━━━━━━━━━\u001b[0m\u001b[37m\u001b[0m \u001b[1m38s\u001b[0m 149ms/step - accuracy: 0.5078 - loss: 0.6930 - val_accuracy: 0.5100 - val_loss: 0.6929\n",
            "Epoch 6/10\n",
            "\u001b[1m249/250\u001b[0m \u001b[32m━━━━━━━━━━━━━━━━━━━\u001b[0m\u001b[37m━\u001b[0m \u001b[1m0s\u001b[0m 131ms/step - accuracy: 0.5185 - loss: 0.6926\n",
            "Epoch 6: val_accuracy did not improve from 0.51000\n",
            "\u001b[1m250/250\u001b[0m \u001b[32m━━━━━━━━━━━━━━━━━━━━\u001b[0m\u001b[37m\u001b[0m \u001b[1m40s\u001b[0m 146ms/step - accuracy: 0.5185 - loss: 0.6926 - val_accuracy: 0.5100 - val_loss: 0.6929\n"
          ]
        }
      ]
    },
    {
      "cell_type": "code",
      "source": [
        "test_datagen = ImageDataGenerator(rescale=1.0/255.0)\n",
        "test_generator = test_datagen.flow_from_dataframe(\n",
        "    test_df,\n",
        "    x_col=\"frame_path\",\n",
        "    y_col=\"label\",\n",
        "    target_size=(224, 224),\n",
        "    batch_size=32,\n",
        "    class_mode=\"binary\"\n",
        ")"
      ],
      "metadata": {
        "colab": {
          "base_uri": "https://localhost:8080/"
        },
        "id": "YS6GthkKZ4Hj",
        "outputId": "2d45dc6b-da1c-4810-a4eb-72668b1a1c70"
      },
      "execution_count": 24,
      "outputs": [
        {
          "output_type": "stream",
          "name": "stdout",
          "text": [
            "Found 1000 validated image filenames belonging to 2 classes.\n"
          ]
        }
      ]
    },
    {
      "cell_type": "code",
      "source": [
        "test_loss, test_accuracy = model.evaluate(test_generator, steps=len(test_generator))\n",
        "print(f\"Test Loss: {test_loss}\")\n",
        "print(f\"Test Accuracy: {test_accuracy}\")"
      ],
      "metadata": {
        "colab": {
          "base_uri": "https://localhost:8080/"
        },
        "id": "PrVlWuYebZp2",
        "outputId": "ecd4f39e-a88e-4712-c1ca-9670787d6c2f"
      },
      "execution_count": 26,
      "outputs": [
        {
          "output_type": "stream",
          "name": "stdout",
          "text": [
            "\r\u001b[1m 1/32\u001b[0m \u001b[37m━━━━━━━━━━━━━━━━━━━━\u001b[0m \u001b[1m5s\u001b[0m 174ms/step - accuracy: 0.3438 - loss: 0.6995"
          ]
        },
        {
          "output_type": "stream",
          "name": "stderr",
          "text": [
            "/usr/local/lib/python3.11/dist-packages/keras/src/trainers/data_adapters/py_dataset_adapter.py:122: UserWarning: Your `PyDataset` class should call `super().__init__(**kwargs)` in its constructor. `**kwargs` can include `workers`, `use_multiprocessing`, `max_queue_size`. Do not pass these arguments to `fit()`, as they will be ignored.\n",
            "  self._warn_if_super_not_called()\n"
          ]
        },
        {
          "output_type": "stream",
          "name": "stdout",
          "text": [
            "\u001b[1m32/32\u001b[0m \u001b[32m━━━━━━━━━━━━━━━━━━━━\u001b[0m\u001b[37m\u001b[0m \u001b[1m144s\u001b[0m 5s/step - accuracy: 0.5130 - loss: 0.6928\n",
            "Test Loss: 0.6929471492767334\n",
            "Test Accuracy: 0.5099999904632568\n"
          ]
        }
      ]
    },
    {
      "cell_type": "markdown",
      "source": [
        "## Model 1 (Using MobileNetV2) (Dataset - 11,300 frames)"
      ],
      "metadata": {
        "id": "jp6vqDANdOfJ"
      }
    },
    {
      "cell_type": "code",
      "source": [
        "import os\n",
        "import cv2\n",
        "import random\n",
        "import numpy as np\n",
        "import pickle\n",
        "from tqdm import tqdm\n",
        "from tensorflow.keras.preprocessing.image import ImageDataGenerator"
      ],
      "metadata": {
        "id": "pm5xSLhYbf05"
      },
      "execution_count": 2,
      "outputs": []
    },
    {
      "cell_type": "code",
      "source": [
        "import tensorflow as tf\n",
        "from tensorflow.keras.applications import MobileNetV2\n",
        "from tensorflow.keras.layers import Dense, Dropout, GlobalAveragePooling2D, Input\n",
        "from tensorflow.keras.models import Model\n",
        "from tensorflow.keras.optimizers import Adam\n",
        "from tensorflow.keras.preprocessing.image import ImageDataGenerator\n",
        "from sklearn.model_selection import train_test_split\n",
        "from sklearn.metrics import classification_report, accuracy_score\n",
        "import pandas as pd"
      ],
      "metadata": {
        "id": "IemH5VfOdggB"
      },
      "execution_count": 3,
      "outputs": []
    },
    {
      "cell_type": "code",
      "source": [
        "import pandas as pd\n",
        "from sklearn.model_selection import train_test_split\n",
        "from tensorflow.keras.preprocessing.image import ImageDataGenerator\n",
        "\n",
        "# Load CSV file containing frame paths and labels\n",
        "csv_path = \"/content/drive/MyDrive/FOR_DATASET_0/labels_3.csv\"\n",
        "df = pd.read_csv(csv_path)\n",
        "\n",
        "desired_size = 11300\n",
        "df_reduced = df.groupby(\"label\", group_keys=False).apply(\n",
        "    lambda x: x.sample(int(desired_size * len(x) / len(df)), random_state=101)\n",
        ")\n",
        "\n",
        "# Split data into training and validation sets\n",
        "train_df, temp_df = train_test_split(df_reduced, test_size=0.2, stratify=df_reduced[\"label\"], random_state=101)\n",
        "val_df, test_df = train_test_split(temp_df, test_size=0.5, stratify=temp_df[\"label\"], random_state=101)\n",
        "\n",
        "# Convert label column to strings\n",
        "train_df[\"label\"] = train_df[\"label\"].astype(str)\n",
        "val_df[\"label\"] = val_df[\"label\"].astype(str)\n",
        "test_df[\"label\"] = test_df[\"label\"].astype(str)\n",
        "\n",
        "# Ensure ImageDataGenerators are properly defined\n",
        "train_datagen = ImageDataGenerator(rescale=1.0/255.0)\n",
        "val_datagen = ImageDataGenerator(rescale=1.0/255.0)\n",
        "\n",
        "# Define ImageDataGenerators\n",
        "train_generator = train_datagen.flow_from_dataframe(\n",
        "    train_df,\n",
        "    x_col=\"frame_path\",\n",
        "    y_col=\"label\",\n",
        "    target_size=(224, 224),\n",
        "    batch_size=32,\n",
        "    class_mode=\"binary\"\n",
        ")\n",
        "\n",
        "val_generator = val_datagen.flow_from_dataframe(\n",
        "    val_df,\n",
        "    x_col=\"frame_path\",\n",
        "    y_col=\"label\",\n",
        "    target_size=(224, 224),\n",
        "    batch_size=32,\n",
        "    class_mode=\"binary\"\n",
        ")\n",
        "\n",
        "print(\"Training Labels Distribution:\")\n",
        "print(train_df[\"label\"].value_counts())\n",
        "\n",
        "print(\"\\nValidation Labels Distribution:\")\n",
        "print(val_df[\"label\"].value_counts())\n",
        "\n",
        "print(\"\\nTest Labels Distribution:\")\n",
        "print(test_df[\"label\"].value_counts())"
      ],
      "metadata": {
        "colab": {
          "base_uri": "https://localhost:8080/"
        },
        "id": "Opj5d_kUdi7O",
        "outputId": "fed55f4b-c0eb-48d9-fa22-b2e22ee89097"
      },
      "execution_count": 4,
      "outputs": [
        {
          "output_type": "stream",
          "name": "stderr",
          "text": [
            "<ipython-input-4-1a5db9c0a517>:10: DeprecationWarning: DataFrameGroupBy.apply operated on the grouping columns. This behavior is deprecated, and in a future version of pandas the grouping columns will be excluded from the operation. Either pass `include_groups=False` to exclude the groupings or explicitly select the grouping columns after groupby to silence this warning.\n",
            "  df_reduced = df.groupby(\"label\", group_keys=False).apply(\n"
          ]
        },
        {
          "output_type": "stream",
          "name": "stdout",
          "text": [
            "Found 9039 validated image filenames belonging to 2 classes.\n",
            "Found 1130 validated image filenames belonging to 2 classes.\n",
            "Training Labels Distribution:\n",
            "label\n",
            "1    4608\n",
            "0    4431\n",
            "Name: count, dtype: int64\n",
            "\n",
            "Validation Labels Distribution:\n",
            "label\n",
            "1    576\n",
            "0    554\n",
            "Name: count, dtype: int64\n",
            "\n",
            "Test Labels Distribution:\n",
            "label\n",
            "1    576\n",
            "0    554\n",
            "Name: count, dtype: int64\n"
          ]
        }
      ]
    },
    {
      "cell_type": "code",
      "source": [
        "# Load the MobileNetV2 model with pre-trained weights\n",
        "base_model = MobileNetV2(weights=\"imagenet\", include_top=False, input_tensor=Input(shape=(224, 224, 3)))\n",
        "\n",
        "# Freeze the base model\n",
        "base_model.trainable = False\n",
        "\n",
        "# Add custom layers\n",
        "x = base_model.output\n",
        "x = GlobalAveragePooling2D()(x)\n",
        "x = Dropout(0.3)(x)\n",
        "x = Dense(128, activation=\"relu\")(x)\n",
        "x = Dropout(0.3)(x)\n",
        "output = Dense(1, activation=\"sigmoid\")(x)  # Binary classification\n",
        "\n",
        "model0 = Model(inputs=base_model.input, outputs=output)"
      ],
      "metadata": {
        "colab": {
          "base_uri": "https://localhost:8080/"
        },
        "id": "uSaSDR_gd7DZ",
        "outputId": "dcb6d848-6fc6-4f3a-a97b-dd429dfd5feb"
      },
      "execution_count": 5,
      "outputs": [
        {
          "output_type": "stream",
          "name": "stderr",
          "text": [
            "<ipython-input-5-fc3524a9780e>:2: UserWarning: `input_shape` is undefined or non-square, or `rows` is not in [96, 128, 160, 192, 224]. Weights for input shape (224, 224) will be loaded as the default.\n",
            "  base_model = MobileNetV2(weights=\"imagenet\", include_top=False, input_tensor=Input(shape=(224, 224, 3)))\n"
          ]
        },
        {
          "output_type": "stream",
          "name": "stdout",
          "text": [
            "Downloading data from https://storage.googleapis.com/tensorflow/keras-applications/mobilenet_v2/mobilenet_v2_weights_tf_dim_ordering_tf_kernels_1.0_224_no_top.h5\n",
            "\u001b[1m9406464/9406464\u001b[0m \u001b[32m━━━━━━━━━━━━━━━━━━━━\u001b[0m\u001b[37m\u001b[0m \u001b[1m0s\u001b[0m 0us/step\n"
          ]
        }
      ]
    },
    {
      "cell_type": "code",
      "source": [
        "# Compile the model\n",
        "model0.compile(optimizer=Adam(learning_rate=0.002), loss=\"binary_crossentropy\", metrics=[\"accuracy\"])"
      ],
      "metadata": {
        "id": "lcYGBqhed_Uh"
      },
      "execution_count": 6,
      "outputs": []
    },
    {
      "cell_type": "code",
      "source": [
        "history = model0.fit(\n",
        "    train_generator,\n",
        "    validation_data=val_generator,\n",
        "    epochs=10,\n",
        ")"
      ],
      "metadata": {
        "colab": {
          "base_uri": "https://localhost:8080/"
        },
        "id": "96CJ1eieeDUN",
        "outputId": "ccbfcc59-7e28-47d7-a0db-31682af30aa5"
      },
      "execution_count": 7,
      "outputs": [
        {
          "output_type": "stream",
          "name": "stdout",
          "text": [
            "Epoch 1/10\n"
          ]
        },
        {
          "output_type": "stream",
          "name": "stderr",
          "text": [
            "/usr/local/lib/python3.11/dist-packages/keras/src/trainers/data_adapters/py_dataset_adapter.py:122: UserWarning: Your `PyDataset` class should call `super().__init__(**kwargs)` in its constructor. `**kwargs` can include `workers`, `use_multiprocessing`, `max_queue_size`. Do not pass these arguments to `fit()`, as they will be ignored.\n",
            "  self._warn_if_super_not_called()\n"
          ]
        },
        {
          "output_type": "stream",
          "name": "stdout",
          "text": [
            "\u001b[1m283/283\u001b[0m \u001b[32m━━━━━━━━━━━━━━━━━━━━\u001b[0m\u001b[37m\u001b[0m \u001b[1m3783s\u001b[0m 13s/step - accuracy: 0.5608 - loss: 0.7411 - val_accuracy: 0.6363 - val_loss: 0.6399\n",
            "Epoch 2/10\n",
            "\u001b[1m283/283\u001b[0m \u001b[32m━━━━━━━━━━━━━━━━━━━━\u001b[0m\u001b[37m\u001b[0m \u001b[1m555s\u001b[0m 2s/step - accuracy: 0.6290 - loss: 0.6344 - val_accuracy: 0.6549 - val_loss: 0.5887\n",
            "Epoch 3/10\n",
            "\u001b[1m283/283\u001b[0m \u001b[32m━━━━━━━━━━━━━━━━━━━━\u001b[0m\u001b[37m\u001b[0m \u001b[1m537s\u001b[0m 2s/step - accuracy: 0.6710 - loss: 0.5884 - val_accuracy: 0.6549 - val_loss: 0.5736\n",
            "Epoch 4/10\n",
            "\u001b[1m283/283\u001b[0m \u001b[32m━━━━━━━━━━━━━━━━━━━━\u001b[0m\u001b[37m\u001b[0m \u001b[1m558s\u001b[0m 2s/step - accuracy: 0.6770 - loss: 0.5607 - val_accuracy: 0.6575 - val_loss: 0.5644\n",
            "Epoch 5/10\n",
            "\u001b[1m283/283\u001b[0m \u001b[32m━━━━━━━━━━━━━━━━━━━━\u001b[0m\u001b[37m\u001b[0m \u001b[1m505s\u001b[0m 2s/step - accuracy: 0.6861 - loss: 0.5468 - val_accuracy: 0.6761 - val_loss: 0.5436\n",
            "Epoch 6/10\n",
            "\u001b[1m283/283\u001b[0m \u001b[32m━━━━━━━━━━━━━━━━━━━━\u001b[0m\u001b[37m\u001b[0m \u001b[1m497s\u001b[0m 2s/step - accuracy: 0.6864 - loss: 0.5286 - val_accuracy: 0.6743 - val_loss: 0.5327\n",
            "Epoch 7/10\n",
            "\u001b[1m283/283\u001b[0m \u001b[32m━━━━━━━━━━━━━━━━━━━━\u001b[0m\u001b[37m\u001b[0m \u001b[1m494s\u001b[0m 2s/step - accuracy: 0.7052 - loss: 0.5265 - val_accuracy: 0.6770 - val_loss: 0.5408\n",
            "Epoch 8/10\n",
            "\u001b[1m283/283\u001b[0m \u001b[32m━━━━━━━━━━━━━━━━━━━━\u001b[0m\u001b[37m\u001b[0m \u001b[1m496s\u001b[0m 2s/step - accuracy: 0.7011 - loss: 0.5094 - val_accuracy: 0.6920 - val_loss: 0.5214\n",
            "Epoch 9/10\n",
            "\u001b[1m283/283\u001b[0m \u001b[32m━━━━━━━━━━━━━━━━━━━━\u001b[0m\u001b[37m\u001b[0m \u001b[1m507s\u001b[0m 2s/step - accuracy: 0.7050 - loss: 0.5093 - val_accuracy: 0.6761 - val_loss: 0.5232\n",
            "Epoch 10/10\n",
            "\u001b[1m283/283\u001b[0m \u001b[32m━━━━━━━━━━━━━━━━━━━━\u001b[0m\u001b[37m\u001b[0m \u001b[1m515s\u001b[0m 2s/step - accuracy: 0.7218 - loss: 0.4903 - val_accuracy: 0.6929 - val_loss: 0.5177\n"
          ]
        }
      ]
    },
    {
      "cell_type": "code",
      "source": [
        "base_model.trainable = True\n",
        "for layer in base_model.layers[:-20]:  # Keep earlier layers frozen\n",
        "    layer.trainable = False"
      ],
      "metadata": {
        "id": "JLyxrN-te1Lp"
      },
      "execution_count": 12,
      "outputs": []
    },
    {
      "cell_type": "code",
      "source": [
        "model0.compile(\n",
        "    optimizer=tf.keras.optimizers.Adam(learning_rate=0.0002),\n",
        "    loss='binary_crossentropy',\n",
        "    metrics=['accuracy']\n",
        ")"
      ],
      "metadata": {
        "id": "8UjViUYBAiFq"
      },
      "execution_count": 13,
      "outputs": []
    },
    {
      "cell_type": "code",
      "source": [
        "history_finetune = model0.fit(\n",
        "    train_generator,\n",
        "    validation_data=val_generator,\n",
        "    epochs=10,\n",
        ")"
      ],
      "metadata": {
        "colab": {
          "base_uri": "https://localhost:8080/"
        },
        "id": "LHeAgn57Aqpp",
        "outputId": "7e7d9899-7913-44de-f875-ccab033eb365"
      },
      "execution_count": 14,
      "outputs": [
        {
          "output_type": "stream",
          "name": "stdout",
          "text": [
            "Epoch 1/10\n",
            "\u001b[1m283/283\u001b[0m \u001b[32m━━━━━━━━━━━━━━━━━━━━\u001b[0m\u001b[37m\u001b[0m \u001b[1m637s\u001b[0m 2s/step - accuracy: 0.6604 - loss: 0.6170 - val_accuracy: 0.6867 - val_loss: 0.6544\n",
            "Epoch 2/10\n",
            "\u001b[1m283/283\u001b[0m \u001b[32m━━━━━━━━━━━━━━━━━━━━\u001b[0m\u001b[37m\u001b[0m \u001b[1m657s\u001b[0m 2s/step - accuracy: 0.7324 - loss: 0.4554 - val_accuracy: 0.6876 - val_loss: 0.9070\n",
            "Epoch 3/10\n",
            "\u001b[1m283/283\u001b[0m \u001b[32m━━━━━━━━━━━━━━━━━━━━\u001b[0m\u001b[37m\u001b[0m \u001b[1m658s\u001b[0m 2s/step - accuracy: 0.7836 - loss: 0.4038 - val_accuracy: 0.6681 - val_loss: 1.0592\n",
            "Epoch 4/10\n",
            "\u001b[1m283/283\u001b[0m \u001b[32m━━━━━━━━━━━━━━━━━━━━\u001b[0m\u001b[37m\u001b[0m \u001b[1m608s\u001b[0m 2s/step - accuracy: 0.8090 - loss: 0.3519 - val_accuracy: 0.7761 - val_loss: 0.4659\n",
            "Epoch 5/10\n",
            "\u001b[1m283/283\u001b[0m \u001b[32m━━━━━━━━━━━━━━━━━━━━\u001b[0m\u001b[37m\u001b[0m \u001b[1m600s\u001b[0m 2s/step - accuracy: 0.8332 - loss: 0.3159 - val_accuracy: 0.7619 - val_loss: 0.6470\n",
            "Epoch 6/10\n",
            "\u001b[1m283/283\u001b[0m \u001b[32m━━━━━━━━━━━━━━━━━━━━\u001b[0m\u001b[37m\u001b[0m \u001b[1m599s\u001b[0m 2s/step - accuracy: 0.8552 - loss: 0.2860 - val_accuracy: 0.7805 - val_loss: 0.5732\n",
            "Epoch 7/10\n",
            "\u001b[1m283/283\u001b[0m \u001b[32m━━━━━━━━━━━━━━━━━━━━\u001b[0m\u001b[37m\u001b[0m \u001b[1m622s\u001b[0m 2s/step - accuracy: 0.8709 - loss: 0.2595 - val_accuracy: 0.8053 - val_loss: 0.3798\n",
            "Epoch 8/10\n",
            "\u001b[1m283/283\u001b[0m \u001b[32m━━━━━━━━━━━━━━━━━━━━\u001b[0m\u001b[37m\u001b[0m \u001b[1m606s\u001b[0m 2s/step - accuracy: 0.8875 - loss: 0.2350 - val_accuracy: 0.8363 - val_loss: 0.4389\n",
            "Epoch 9/10\n",
            "\u001b[1m283/283\u001b[0m \u001b[32m━━━━━━━━━━━━━━━━━━━━\u001b[0m\u001b[37m\u001b[0m \u001b[1m605s\u001b[0m 2s/step - accuracy: 0.9078 - loss: 0.2028 - val_accuracy: 0.8504 - val_loss: 0.3846\n",
            "Epoch 10/10\n",
            "\u001b[1m283/283\u001b[0m \u001b[32m━━━━━━━━━━━━━━━━━━━━\u001b[0m\u001b[37m\u001b[0m \u001b[1m619s\u001b[0m 2s/step - accuracy: 0.9183 - loss: 0.1961 - val_accuracy: 0.8345 - val_loss: 0.3794\n"
          ]
        }
      ]
    },
    {
      "cell_type": "code",
      "source": [
        "test_datagen = ImageDataGenerator(rescale=1.0/255.0)\n",
        "test_generator = test_datagen.flow_from_dataframe(\n",
        "    test_df,\n",
        "    x_col=\"frame_path\",\n",
        "    y_col=\"label\",\n",
        "    target_size=(224, 224),\n",
        "    batch_size=32,\n",
        "    class_mode=\"binary\"\n",
        ")"
      ],
      "metadata": {
        "colab": {
          "base_uri": "https://localhost:8080/"
        },
        "id": "Xjcs9ABpAwXp",
        "outputId": "1f64bde4-4a80-4706-a079-4d0e2ff68672"
      },
      "execution_count": 15,
      "outputs": [
        {
          "output_type": "stream",
          "name": "stdout",
          "text": [
            "Found 1130 validated image filenames belonging to 2 classes.\n"
          ]
        }
      ]
    },
    {
      "cell_type": "code",
      "source": [
        "val_loss, val_accuracy = model0.evaluate(val_generator, steps=len(val_generator))\n",
        "print(f\"Validation Loss: {val_loss}\")\n",
        "print(f\"Validation Accuracy: {val_accuracy}\")"
      ],
      "metadata": {
        "colab": {
          "base_uri": "https://localhost:8080/"
        },
        "id": "W3BcJVxuYcVW",
        "outputId": "e38ae7bc-bd77-4811-8d24-6df03a8219fd"
      },
      "execution_count": 17,
      "outputs": [
        {
          "output_type": "stream",
          "name": "stdout",
          "text": [
            "\u001b[1m36/36\u001b[0m \u001b[32m━━━━━━━━━━━━━━━━━━━━\u001b[0m\u001b[37m\u001b[0m \u001b[1m70s\u001b[0m 2s/step - accuracy: 0.8410 - loss: 0.3920\n",
            "Validation Loss: 0.3794443905353546\n",
            "Validation Accuracy: 0.834513247013092\n"
          ]
        }
      ]
    },
    {
      "cell_type": "code",
      "source": [
        "test_loss, test_accuracy = model0.evaluate(test_generator, steps=len(test_generator))\n",
        "print(f\"Test Loss: {test_loss}\")\n",
        "print(f\"Test Accuracy: {test_accuracy}\")"
      ],
      "metadata": {
        "colab": {
          "base_uri": "https://localhost:8080/"
        },
        "id": "PzMHrKduYf4k",
        "outputId": "8540a6d9-3e68-495e-81d0-bd9a85fe8519"
      },
      "execution_count": 18,
      "outputs": [
        {
          "output_type": "stream",
          "name": "stderr",
          "text": [
            "/usr/local/lib/python3.11/dist-packages/keras/src/trainers/data_adapters/py_dataset_adapter.py:122: UserWarning: Your `PyDataset` class should call `super().__init__(**kwargs)` in its constructor. `**kwargs` can include `workers`, `use_multiprocessing`, `max_queue_size`. Do not pass these arguments to `fit()`, as they will be ignored.\n",
            "  self._warn_if_super_not_called()\n"
          ]
        },
        {
          "output_type": "stream",
          "name": "stdout",
          "text": [
            "\u001b[1m36/36\u001b[0m \u001b[32m━━━━━━━━━━━━━━━━━━━━\u001b[0m\u001b[37m\u001b[0m \u001b[1m366s\u001b[0m 10s/step - accuracy: 0.8142 - loss: 0.4859\n",
            "Test Loss: 0.45461922883987427\n",
            "Test Accuracy: 0.8159291744232178\n"
          ]
        }
      ]
    },
    {
      "cell_type": "code",
      "source": [
        "MODEL_SAVE_PATH = '/content/drive/MyDrive/deepfake_detector_model_final.h5'\n",
        "model0.save(MODEL_SAVE_PATH)\n",
        "print(f\"Model saved at {MODEL_SAVE_PATH}\")\n",
        "converter = tf.lite.TFLiteConverter.from_keras_model(model0)\n",
        "tflite_model = converter.convert()\n",
        "TFLITE_MODEL_PATH = '/content/drive/MyDrive/deepfake_detector_model_final.tflite'\n",
        "with open(TFLITE_MODEL_PATH, 'wb') as f:\n",
        "    f.write(tflite_model)\n",
        "print(f\"TFLite model saved at {TFLITE_MODEL_PATH}\")"
      ],
      "metadata": {
        "colab": {
          "base_uri": "https://localhost:8080/"
        },
        "collapsed": true,
        "id": "3WJfOGfoYvPU",
        "outputId": "b2bd8014-5a38-4757-c64d-3de1be5e17d9"
      },
      "execution_count": 20,
      "outputs": [
        {
          "output_type": "stream",
          "name": "stderr",
          "text": [
            "WARNING:absl:You are saving your model as an HDF5 file via `model.save()` or `keras.saving.save_model(model)`. This file format is considered legacy. We recommend using instead the native Keras format, e.g. `model.save('my_model.keras')` or `keras.saving.save_model(model, 'my_model.keras')`. \n"
          ]
        },
        {
          "output_type": "stream",
          "name": "stdout",
          "text": [
            "Model saved at /content/drive/MyDrive/deepfake_detector_model_final.h5\n",
            "Saved artifact at '/tmp/tmpci_qk120'. The following endpoints are available:\n",
            "\n",
            "* Endpoint 'serve'\n",
            "  args_0 (POSITIONAL_ONLY): TensorSpec(shape=(None, 224, 224, 3), dtype=tf.float32, name='keras_tensor')\n",
            "Output Type:\n",
            "  TensorSpec(shape=(None, 1), dtype=tf.float32, name=None)\n",
            "Captures:\n",
            "  135122287819664: TensorSpec(shape=(), dtype=tf.resource, name=None)\n",
            "  135119928028112: TensorSpec(shape=(), dtype=tf.resource, name=None)\n",
            "  135119928026960: TensorSpec(shape=(), dtype=tf.resource, name=None)\n",
            "  135119928028880: TensorSpec(shape=(), dtype=tf.resource, name=None)\n",
            "  135119928027152: TensorSpec(shape=(), dtype=tf.resource, name=None)\n",
            "  135119928028496: TensorSpec(shape=(), dtype=tf.resource, name=None)\n",
            "  135119928027920: TensorSpec(shape=(), dtype=tf.resource, name=None)\n",
            "  135119928026768: TensorSpec(shape=(), dtype=tf.resource, name=None)\n",
            "  135119928026576: TensorSpec(shape=(), dtype=tf.resource, name=None)\n",
            "  135119928029456: TensorSpec(shape=(), dtype=tf.resource, name=None)\n",
            "  135119928030416: TensorSpec(shape=(), dtype=tf.resource, name=None)\n",
            "  135119928030032: TensorSpec(shape=(), dtype=tf.resource, name=None)\n",
            "  135119928030224: TensorSpec(shape=(), dtype=tf.resource, name=None)\n",
            "  135119928031184: TensorSpec(shape=(), dtype=tf.resource, name=None)\n",
            "  135119928030800: TensorSpec(shape=(), dtype=tf.resource, name=None)\n",
            "  135119928033104: TensorSpec(shape=(), dtype=tf.resource, name=None)\n",
            "  135119918056272: TensorSpec(shape=(), dtype=tf.resource, name=None)\n",
            "  135119918055888: TensorSpec(shape=(), dtype=tf.resource, name=None)\n",
            "  135119918057232: TensorSpec(shape=(), dtype=tf.resource, name=None)\n",
            "  135119918056848: TensorSpec(shape=(), dtype=tf.resource, name=None)\n",
            "  135119918058000: TensorSpec(shape=(), dtype=tf.resource, name=None)\n",
            "  135119918058960: TensorSpec(shape=(), dtype=tf.resource, name=None)\n",
            "  135119918056464: TensorSpec(shape=(), dtype=tf.resource, name=None)\n",
            "  135119918057616: TensorSpec(shape=(), dtype=tf.resource, name=None)\n",
            "  135119918058768: TensorSpec(shape=(), dtype=tf.resource, name=None)\n",
            "  135119918060304: TensorSpec(shape=(), dtype=tf.resource, name=None)\n",
            "  135119918061648: TensorSpec(shape=(), dtype=tf.resource, name=None)\n",
            "  135119918061840: TensorSpec(shape=(), dtype=tf.resource, name=None)\n",
            "  135119918061456: TensorSpec(shape=(), dtype=tf.resource, name=None)\n",
            "  135119918060688: TensorSpec(shape=(), dtype=tf.resource, name=None)\n",
            "  135119918062224: TensorSpec(shape=(), dtype=tf.resource, name=None)\n",
            "  135119918063568: TensorSpec(shape=(), dtype=tf.resource, name=None)\n",
            "  135119918063760: TensorSpec(shape=(), dtype=tf.resource, name=None)\n",
            "  135119918063376: TensorSpec(shape=(), dtype=tf.resource, name=None)\n",
            "  135119918062608: TensorSpec(shape=(), dtype=tf.resource, name=None)\n",
            "  135119918064144: TensorSpec(shape=(), dtype=tf.resource, name=None)\n",
            "  135119918065488: TensorSpec(shape=(), dtype=tf.resource, name=None)\n",
            "  135119918065680: TensorSpec(shape=(), dtype=tf.resource, name=None)\n",
            "  135119918065296: TensorSpec(shape=(), dtype=tf.resource, name=None)\n",
            "  135119918064528: TensorSpec(shape=(), dtype=tf.resource, name=None)\n",
            "  135119918062992: TensorSpec(shape=(), dtype=tf.resource, name=None)\n",
            "  135119918067600: TensorSpec(shape=(), dtype=tf.resource, name=None)\n",
            "  135119918067792: TensorSpec(shape=(), dtype=tf.resource, name=None)\n",
            "  135119918067408: TensorSpec(shape=(), dtype=tf.resource, name=None)\n",
            "  135119918059920: TensorSpec(shape=(), dtype=tf.resource, name=None)\n",
            "  135119918066448: TensorSpec(shape=(), dtype=tf.resource, name=None)\n",
            "  135119918069712: TensorSpec(shape=(), dtype=tf.resource, name=None)\n",
            "  135119918069904: TensorSpec(shape=(), dtype=tf.resource, name=None)\n",
            "  135119918069520: TensorSpec(shape=(), dtype=tf.resource, name=None)\n",
            "  135119918067024: TensorSpec(shape=(), dtype=tf.resource, name=None)\n",
            "  135119918070288: TensorSpec(shape=(), dtype=tf.resource, name=None)\n",
            "  135119918071632: TensorSpec(shape=(), dtype=tf.resource, name=None)\n",
            "  135119918071440: TensorSpec(shape=(), dtype=tf.resource, name=None)\n",
            "  135119918071248: TensorSpec(shape=(), dtype=tf.resource, name=None)\n",
            "  135119918068176: TensorSpec(shape=(), dtype=tf.resource, name=None)\n",
            "  135119918415952: TensorSpec(shape=(), dtype=tf.resource, name=None)\n",
            "  135119918417680: TensorSpec(shape=(), dtype=tf.resource, name=None)\n",
            "  135119918417872: TensorSpec(shape=(), dtype=tf.resource, name=None)\n",
            "  135119918417488: TensorSpec(shape=(), dtype=tf.resource, name=None)\n",
            "  135119918416720: TensorSpec(shape=(), dtype=tf.resource, name=None)\n",
            "  135119918418256: TensorSpec(shape=(), dtype=tf.resource, name=None)\n",
            "  135119918419600: TensorSpec(shape=(), dtype=tf.resource, name=None)\n",
            "  135119918419792: TensorSpec(shape=(), dtype=tf.resource, name=None)\n",
            "  135119918419408: TensorSpec(shape=(), dtype=tf.resource, name=None)\n",
            "  135119918418640: TensorSpec(shape=(), dtype=tf.resource, name=None)\n",
            "  135119918420176: TensorSpec(shape=(), dtype=tf.resource, name=None)\n",
            "  135119918421520: TensorSpec(shape=(), dtype=tf.resource, name=None)\n",
            "  135119918421712: TensorSpec(shape=(), dtype=tf.resource, name=None)\n",
            "  135119918421328: TensorSpec(shape=(), dtype=tf.resource, name=None)\n",
            "  135119918420560: TensorSpec(shape=(), dtype=tf.resource, name=None)\n",
            "  135119918422096: TensorSpec(shape=(), dtype=tf.resource, name=None)\n",
            "  135119918423440: TensorSpec(shape=(), dtype=tf.resource, name=None)\n",
            "  135119918423632: TensorSpec(shape=(), dtype=tf.resource, name=None)\n",
            "  135119918423248: TensorSpec(shape=(), dtype=tf.resource, name=None)\n",
            "  135119918422480: TensorSpec(shape=(), dtype=tf.resource, name=None)\n",
            "  135119918424016: TensorSpec(shape=(), dtype=tf.resource, name=None)\n",
            "  135119918425360: TensorSpec(shape=(), dtype=tf.resource, name=None)\n",
            "  135119918425552: TensorSpec(shape=(), dtype=tf.resource, name=None)\n",
            "  135119918425168: TensorSpec(shape=(), dtype=tf.resource, name=None)\n",
            "  135119918424400: TensorSpec(shape=(), dtype=tf.resource, name=None)\n",
            "  135119918425936: TensorSpec(shape=(), dtype=tf.resource, name=None)\n",
            "  135119918427280: TensorSpec(shape=(), dtype=tf.resource, name=None)\n",
            "  135119918427472: TensorSpec(shape=(), dtype=tf.resource, name=None)\n",
            "  135119918427088: TensorSpec(shape=(), dtype=tf.resource, name=None)\n",
            "  135119918426320: TensorSpec(shape=(), dtype=tf.resource, name=None)\n",
            "  135119918427856: TensorSpec(shape=(), dtype=tf.resource, name=None)\n",
            "  135119918429200: TensorSpec(shape=(), dtype=tf.resource, name=None)\n",
            "  135119918429392: TensorSpec(shape=(), dtype=tf.resource, name=None)\n",
            "  135119918429008: TensorSpec(shape=(), dtype=tf.resource, name=None)\n",
            "  135119918428240: TensorSpec(shape=(), dtype=tf.resource, name=None)\n",
            "  135119918429776: TensorSpec(shape=(), dtype=tf.resource, name=None)\n",
            "  135119918431120: TensorSpec(shape=(), dtype=tf.resource, name=None)\n",
            "  135119918431312: TensorSpec(shape=(), dtype=tf.resource, name=None)\n",
            "  135119918430928: TensorSpec(shape=(), dtype=tf.resource, name=None)\n",
            "  135119918430160: TensorSpec(shape=(), dtype=tf.resource, name=None)\n",
            "  135119918430544: TensorSpec(shape=(), dtype=tf.resource, name=None)\n",
            "  135119908290832: TensorSpec(shape=(), dtype=tf.resource, name=None)\n",
            "  135119908290640: TensorSpec(shape=(), dtype=tf.resource, name=None)\n",
            "  135119918416528: TensorSpec(shape=(), dtype=tf.resource, name=None)\n",
            "  135119908291600: TensorSpec(shape=(), dtype=tf.resource, name=None)\n",
            "  135119908291984: TensorSpec(shape=(), dtype=tf.resource, name=None)\n",
            "  135119908293328: TensorSpec(shape=(), dtype=tf.resource, name=None)\n",
            "  135119908293520: TensorSpec(shape=(), dtype=tf.resource, name=None)\n",
            "  135119908293136: TensorSpec(shape=(), dtype=tf.resource, name=None)\n",
            "  135119908292368: TensorSpec(shape=(), dtype=tf.resource, name=None)\n",
            "  135119908293904: TensorSpec(shape=(), dtype=tf.resource, name=None)\n",
            "  135119908295248: TensorSpec(shape=(), dtype=tf.resource, name=None)\n",
            "  135119908295440: TensorSpec(shape=(), dtype=tf.resource, name=None)\n",
            "  135119908295056: TensorSpec(shape=(), dtype=tf.resource, name=None)\n",
            "  135119908294288: TensorSpec(shape=(), dtype=tf.resource, name=None)\n",
            "  135119908295824: TensorSpec(shape=(), dtype=tf.resource, name=None)\n",
            "  135119908297168: TensorSpec(shape=(), dtype=tf.resource, name=None)\n",
            "  135119908297360: TensorSpec(shape=(), dtype=tf.resource, name=None)\n",
            "  135119908296976: TensorSpec(shape=(), dtype=tf.resource, name=None)\n",
            "  135119908296208: TensorSpec(shape=(), dtype=tf.resource, name=None)\n",
            "  135119908297744: TensorSpec(shape=(), dtype=tf.resource, name=None)\n",
            "  135119908299088: TensorSpec(shape=(), dtype=tf.resource, name=None)\n",
            "  135119908299280: TensorSpec(shape=(), dtype=tf.resource, name=None)\n",
            "  135119908298896: TensorSpec(shape=(), dtype=tf.resource, name=None)\n",
            "  135119908298128: TensorSpec(shape=(), dtype=tf.resource, name=None)\n",
            "  135119908299664: TensorSpec(shape=(), dtype=tf.resource, name=None)\n",
            "  135119908301008: TensorSpec(shape=(), dtype=tf.resource, name=None)\n",
            "  135119908301200: TensorSpec(shape=(), dtype=tf.resource, name=None)\n",
            "  135119908300816: TensorSpec(shape=(), dtype=tf.resource, name=None)\n",
            "  135119908300048: TensorSpec(shape=(), dtype=tf.resource, name=None)\n",
            "  135119908301584: TensorSpec(shape=(), dtype=tf.resource, name=None)\n",
            "  135119908302928: TensorSpec(shape=(), dtype=tf.resource, name=None)\n",
            "  135119908303120: TensorSpec(shape=(), dtype=tf.resource, name=None)\n",
            "  135119908302736: TensorSpec(shape=(), dtype=tf.resource, name=None)\n",
            "  135119908301968: TensorSpec(shape=(), dtype=tf.resource, name=None)\n",
            "  135119908303504: TensorSpec(shape=(), dtype=tf.resource, name=None)\n",
            "  135119908304848: TensorSpec(shape=(), dtype=tf.resource, name=None)\n",
            "  135119908305040: TensorSpec(shape=(), dtype=tf.resource, name=None)\n",
            "  135119908304656: TensorSpec(shape=(), dtype=tf.resource, name=None)\n",
            "  135119908303888: TensorSpec(shape=(), dtype=tf.resource, name=None)\n",
            "  135119908305424: TensorSpec(shape=(), dtype=tf.resource, name=None)\n",
            "  135119908306768: TensorSpec(shape=(), dtype=tf.resource, name=None)\n",
            "  135119908306576: TensorSpec(shape=(), dtype=tf.resource, name=None)\n",
            "  135119908306384: TensorSpec(shape=(), dtype=tf.resource, name=None)\n",
            "  135119908304272: TensorSpec(shape=(), dtype=tf.resource, name=None)\n",
            "  135119908717008: TensorSpec(shape=(), dtype=tf.resource, name=None)\n",
            "  135119908718352: TensorSpec(shape=(), dtype=tf.resource, name=None)\n",
            "  135119908718544: TensorSpec(shape=(), dtype=tf.resource, name=None)\n",
            "  135119908718160: TensorSpec(shape=(), dtype=tf.resource, name=None)\n",
            "  135119908717584: TensorSpec(shape=(), dtype=tf.resource, name=None)\n",
            "  135119908718928: TensorSpec(shape=(), dtype=tf.resource, name=None)\n",
            "  135119908720272: TensorSpec(shape=(), dtype=tf.resource, name=None)\n",
            "  135119908720464: TensorSpec(shape=(), dtype=tf.resource, name=None)\n",
            "  135119908720080: TensorSpec(shape=(), dtype=tf.resource, name=None)\n",
            "  135119908719312: TensorSpec(shape=(), dtype=tf.resource, name=None)\n",
            "  135119908720848: TensorSpec(shape=(), dtype=tf.resource, name=None)\n",
            "  135119908722192: TensorSpec(shape=(), dtype=tf.resource, name=None)\n",
            "  135119908722384: TensorSpec(shape=(), dtype=tf.resource, name=None)\n",
            "  135119908722000: TensorSpec(shape=(), dtype=tf.resource, name=None)\n",
            "  135119908721232: TensorSpec(shape=(), dtype=tf.resource, name=None)\n",
            "  135119908722768: TensorSpec(shape=(), dtype=tf.resource, name=None)\n",
            "  135119908724112: TensorSpec(shape=(), dtype=tf.resource, name=None)\n",
            "  135119908724304: TensorSpec(shape=(), dtype=tf.resource, name=None)\n",
            "  135119908723920: TensorSpec(shape=(), dtype=tf.resource, name=None)\n",
            "  135119908723152: TensorSpec(shape=(), dtype=tf.resource, name=None)\n",
            "  135119908724688: TensorSpec(shape=(), dtype=tf.resource, name=None)\n",
            "  135119908726032: TensorSpec(shape=(), dtype=tf.resource, name=None)\n",
            "  135119908726224: TensorSpec(shape=(), dtype=tf.resource, name=None)\n",
            "  135119908725840: TensorSpec(shape=(), dtype=tf.resource, name=None)\n",
            "  135119908725072: TensorSpec(shape=(), dtype=tf.resource, name=None)\n",
            "  135119908726608: TensorSpec(shape=(), dtype=tf.resource, name=None)\n",
            "  135119908727952: TensorSpec(shape=(), dtype=tf.resource, name=None)\n",
            "  135119908728144: TensorSpec(shape=(), dtype=tf.resource, name=None)\n",
            "  135119908727760: TensorSpec(shape=(), dtype=tf.resource, name=None)\n",
            "  135119908726992: TensorSpec(shape=(), dtype=tf.resource, name=None)\n",
            "  135119908728528: TensorSpec(shape=(), dtype=tf.resource, name=None)\n",
            "  135119908729872: TensorSpec(shape=(), dtype=tf.resource, name=None)\n",
            "  135119908730064: TensorSpec(shape=(), dtype=tf.resource, name=None)\n",
            "  135119908729680: TensorSpec(shape=(), dtype=tf.resource, name=None)\n",
            "  135119908728912: TensorSpec(shape=(), dtype=tf.resource, name=None)\n",
            "  135119908730448: TensorSpec(shape=(), dtype=tf.resource, name=None)\n",
            "  135119908731792: TensorSpec(shape=(), dtype=tf.resource, name=None)\n",
            "  135119908731984: TensorSpec(shape=(), dtype=tf.resource, name=None)\n",
            "  135119908731600: TensorSpec(shape=(), dtype=tf.resource, name=None)\n",
            "  135119908730832: TensorSpec(shape=(), dtype=tf.resource, name=None)\n",
            "  135119908731216: TensorSpec(shape=(), dtype=tf.resource, name=None)\n",
            "  135119906980880: TensorSpec(shape=(), dtype=tf.resource, name=None)\n",
            "  135119906980112: TensorSpec(shape=(), dtype=tf.resource, name=None)\n",
            "  135119908717776: TensorSpec(shape=(), dtype=tf.resource, name=None)\n",
            "  135119906979920: TensorSpec(shape=(), dtype=tf.resource, name=None)\n",
            "  135119906981264: TensorSpec(shape=(), dtype=tf.resource, name=None)\n",
            "  135119906982608: TensorSpec(shape=(), dtype=tf.resource, name=None)\n",
            "  135119906982800: TensorSpec(shape=(), dtype=tf.resource, name=None)\n",
            "  135119906982416: TensorSpec(shape=(), dtype=tf.resource, name=None)\n",
            "  135119906981648: TensorSpec(shape=(), dtype=tf.resource, name=None)\n",
            "  135119906983184: TensorSpec(shape=(), dtype=tf.resource, name=None)\n",
            "  135119906984528: TensorSpec(shape=(), dtype=tf.resource, name=None)\n",
            "  135119906984720: TensorSpec(shape=(), dtype=tf.resource, name=None)\n",
            "  135119906984336: TensorSpec(shape=(), dtype=tf.resource, name=None)\n",
            "  135119906983568: TensorSpec(shape=(), dtype=tf.resource, name=None)\n",
            "  135119906985104: TensorSpec(shape=(), dtype=tf.resource, name=None)\n",
            "  135119906986448: TensorSpec(shape=(), dtype=tf.resource, name=None)\n",
            "  135119906986640: TensorSpec(shape=(), dtype=tf.resource, name=None)\n",
            "  135119906986256: TensorSpec(shape=(), dtype=tf.resource, name=None)\n",
            "  135119906985488: TensorSpec(shape=(), dtype=tf.resource, name=None)\n",
            "  135119906987024: TensorSpec(shape=(), dtype=tf.resource, name=None)\n",
            "  135119906988368: TensorSpec(shape=(), dtype=tf.resource, name=None)\n",
            "  135119906988560: TensorSpec(shape=(), dtype=tf.resource, name=None)\n",
            "  135119906988176: TensorSpec(shape=(), dtype=tf.resource, name=None)\n",
            "  135119906987408: TensorSpec(shape=(), dtype=tf.resource, name=None)\n",
            "  135119906988944: TensorSpec(shape=(), dtype=tf.resource, name=None)\n",
            "  135119906990288: TensorSpec(shape=(), dtype=tf.resource, name=None)\n",
            "  135119906990480: TensorSpec(shape=(), dtype=tf.resource, name=None)\n",
            "  135119906990096: TensorSpec(shape=(), dtype=tf.resource, name=None)\n",
            "  135119906989328: TensorSpec(shape=(), dtype=tf.resource, name=None)\n",
            "  135119906990864: TensorSpec(shape=(), dtype=tf.resource, name=None)\n",
            "  135119906992208: TensorSpec(shape=(), dtype=tf.resource, name=None)\n",
            "  135119906992400: TensorSpec(shape=(), dtype=tf.resource, name=None)\n",
            "  135119906992016: TensorSpec(shape=(), dtype=tf.resource, name=None)\n",
            "  135119906991248: TensorSpec(shape=(), dtype=tf.resource, name=None)\n",
            "  135119906992784: TensorSpec(shape=(), dtype=tf.resource, name=None)\n",
            "  135119906994128: TensorSpec(shape=(), dtype=tf.resource, name=None)\n",
            "  135119906994320: TensorSpec(shape=(), dtype=tf.resource, name=None)\n",
            "  135119906993936: TensorSpec(shape=(), dtype=tf.resource, name=None)\n",
            "  135119906993168: TensorSpec(shape=(), dtype=tf.resource, name=None)\n",
            "  135119906994704: TensorSpec(shape=(), dtype=tf.resource, name=None)\n",
            "  135119906996048: TensorSpec(shape=(), dtype=tf.resource, name=None)\n",
            "  135119906995856: TensorSpec(shape=(), dtype=tf.resource, name=None)\n",
            "  135119906995664: TensorSpec(shape=(), dtype=tf.resource, name=None)\n",
            "  135119906993552: TensorSpec(shape=(), dtype=tf.resource, name=None)\n",
            "  135119907357136: TensorSpec(shape=(), dtype=tf.resource, name=None)\n",
            "  135119907358480: TensorSpec(shape=(), dtype=tf.resource, name=None)\n",
            "  135119907358672: TensorSpec(shape=(), dtype=tf.resource, name=None)\n",
            "  135119907358288: TensorSpec(shape=(), dtype=tf.resource, name=None)\n",
            "  135119907357712: TensorSpec(shape=(), dtype=tf.resource, name=None)\n",
            "  135119907359056: TensorSpec(shape=(), dtype=tf.resource, name=None)\n",
            "  135119907360400: TensorSpec(shape=(), dtype=tf.resource, name=None)\n",
            "  135119907360592: TensorSpec(shape=(), dtype=tf.resource, name=None)\n",
            "  135119907360208: TensorSpec(shape=(), dtype=tf.resource, name=None)\n",
            "  135119907359440: TensorSpec(shape=(), dtype=tf.resource, name=None)\n",
            "  135119907360976: TensorSpec(shape=(), dtype=tf.resource, name=None)\n",
            "  135119907362320: TensorSpec(shape=(), dtype=tf.resource, name=None)\n",
            "  135119907362512: TensorSpec(shape=(), dtype=tf.resource, name=None)\n",
            "  135119907362128: TensorSpec(shape=(), dtype=tf.resource, name=None)\n",
            "  135119907361360: TensorSpec(shape=(), dtype=tf.resource, name=None)\n",
            "  135119907362896: TensorSpec(shape=(), dtype=tf.resource, name=None)\n",
            "  135119907364240: TensorSpec(shape=(), dtype=tf.resource, name=None)\n",
            "  135119907364432: TensorSpec(shape=(), dtype=tf.resource, name=None)\n",
            "  135119907364048: TensorSpec(shape=(), dtype=tf.resource, name=None)\n",
            "  135119907363280: TensorSpec(shape=(), dtype=tf.resource, name=None)\n",
            "  135119907364816: TensorSpec(shape=(), dtype=tf.resource, name=None)\n",
            "  135119907366160: TensorSpec(shape=(), dtype=tf.resource, name=None)\n",
            "  135119907366352: TensorSpec(shape=(), dtype=tf.resource, name=None)\n",
            "  135119907365968: TensorSpec(shape=(), dtype=tf.resource, name=None)\n",
            "  135119907365200: TensorSpec(shape=(), dtype=tf.resource, name=None)\n",
            "  135119907366736: TensorSpec(shape=(), dtype=tf.resource, name=None)\n",
            "  135119907368080: TensorSpec(shape=(), dtype=tf.resource, name=None)\n",
            "  135119907368272: TensorSpec(shape=(), dtype=tf.resource, name=None)\n",
            "  135119907367888: TensorSpec(shape=(), dtype=tf.resource, name=None)\n",
            "  135119907367120: TensorSpec(shape=(), dtype=tf.resource, name=None)\n",
            "  135119907368656: TensorSpec(shape=(), dtype=tf.resource, name=None)\n",
            "  135119907370000: TensorSpec(shape=(), dtype=tf.resource, name=None)\n",
            "  135119907370192: TensorSpec(shape=(), dtype=tf.resource, name=None)\n",
            "  135119907369808: TensorSpec(shape=(), dtype=tf.resource, name=None)\n",
            "  135119907369040: TensorSpec(shape=(), dtype=tf.resource, name=None)\n",
            "  135119907371536: TensorSpec(shape=(), dtype=tf.resource, name=None)\n",
            "  135119907372496: TensorSpec(shape=(), dtype=tf.resource, name=None)\n",
            "  135119907372112: TensorSpec(shape=(), dtype=tf.resource, name=None)\n",
            "  135119907372688: TensorSpec(shape=(), dtype=tf.resource, name=None)\n",
            "TFLite model saved at /content/drive/MyDrive/deepfake_detector_model_final.tflite\n"
          ]
        }
      ]
    },
    {
      "cell_type": "markdown",
      "source": [
        "validation"
      ],
      "metadata": {
        "id": "L9AWw_8_cQZt"
      }
    },
    {
      "cell_type": "code",
      "source": [
        "val_generator.reset()\n",
        "predictions = (model0.predict(val_generator) > 0.5).astype(int).flatten()\n",
        "true_labels = val_generator.classes"
      ],
      "metadata": {
        "colab": {
          "base_uri": "https://localhost:8080/"
        },
        "id": "xcEduQjgbt5p",
        "outputId": "2db0e3d9-f96c-4479-9c0a-6fe6b934bfa4"
      },
      "execution_count": 21,
      "outputs": [
        {
          "output_type": "stream",
          "name": "stdout",
          "text": [
            "\u001b[1m36/36\u001b[0m \u001b[32m━━━━━━━━━━━━━━━━━━━━\u001b[0m\u001b[37m\u001b[0m \u001b[1m92s\u001b[0m 2s/step\n"
          ]
        }
      ]
    },
    {
      "cell_type": "code",
      "source": [
        "import seaborn as sns\n",
        "import matplotlib.pyplot as plt\n",
        "from sklearn.metrics import classification_report, confusion_matrix\n",
        "cm = confusion_matrix(true_labels, predictions)\n",
        "plt.figure(figsize=(8, 6))\n",
        "sns.heatmap(cm, annot=True, fmt='d', cmap='Blues', xticklabels=['Real', 'Deepfake'], yticklabels=['Real', 'Deepfake'])\n",
        "plt.title('Confusion Matrix')\n",
        "plt.xlabel('Predicted')\n",
        "plt.ylabel('True')\n",
        "plt.show()"
      ],
      "metadata": {
        "colab": {
          "base_uri": "https://localhost:8080/",
          "height": 564
        },
        "id": "293g-Y-VbQV2",
        "outputId": "c603f7c6-ebb9-4095-c509-f187c2abe73e"
      },
      "execution_count": 22,
      "outputs": [
        {
          "output_type": "display_data",
          "data": {
            "text/plain": [
              "<Figure size 800x600 with 2 Axes>"
            ],
            "image/png": "[encoded data removed]"
          },
          "metadata": {}
        }
      ]
    },
    {
      "cell_type": "code",
      "source": [
        "report = classification_report(true_labels, predictions, target_names=['Real', 'Deepfake'])\n",
        "print(\"Classification Report:\\n\", report)"
      ],
      "metadata": {
        "colab": {
          "base_uri": "https://localhost:8080/"
        },
        "id": "WhSn4eIVcMzu",
        "outputId": "461e0cc4-c5ad-412a-d8bb-6fee054d0506"
      },
      "execution_count": 23,
      "outputs": [
        {
          "output_type": "stream",
          "name": "stdout",
          "text": [
            "Classification Report:\n",
            "               precision    recall  f1-score   support\n",
            "\n",
            "        Real       0.48      0.61      0.54       554\n",
            "    Deepfake       0.50      0.38      0.43       576\n",
            "\n",
            "    accuracy                           0.49      1130\n",
            "   macro avg       0.49      0.49      0.48      1130\n",
            "weighted avg       0.49      0.49      0.48      1130\n",
            "\n"
          ]
        }
      ]
    },
    {
      "cell_type": "markdown",
      "source": [
        "test"
      ],
      "metadata": {
        "id": "UaXO1088cODQ"
      }
    },
    {
      "cell_type": "code",
      "source": [
        "test_generator.reset()\n",
        "predictions = (model0.predict(test_generator) > 0.5).astype(int).flatten()\n",
        "true_labels = test_generator.classes"
      ],
      "metadata": {
        "colab": {
          "base_uri": "https://localhost:8080/"
        },
        "id": "X21VtEyab8MS",
        "outputId": "4575e292-3862-41ac-e643-d9b9750993e1"
      },
      "execution_count": 24,
      "outputs": [
        {
          "output_type": "stream",
          "name": "stdout",
          "text": [
            "\u001b[1m36/36\u001b[0m \u001b[32m━━━━━━━━━━━━━━━━━━━━\u001b[0m\u001b[37m\u001b[0m \u001b[1m59s\u001b[0m 2s/step\n"
          ]
        }
      ]
    },
    {
      "cell_type": "code",
      "source": [
        "import seaborn as sns\n",
        "import matplotlib.pyplot as plt\n",
        "from sklearn.metrics import classification_report, confusion_matrix\n",
        "cm = confusion_matrix(true_labels, predictions)\n",
        "plt.figure(figsize=(8, 6))\n",
        "sns.heatmap(cm, annot=True, fmt='d', cmap='Blues', xticklabels=['Real', 'Deepfake'], yticklabels=['Real', 'Deepfake'])\n",
        "plt.title('Confusion Matrix')\n",
        "plt.xlabel('Predicted')\n",
        "plt.ylabel('True')\n",
        "plt.show()"
      ],
      "metadata": {
        "colab": {
          "base_uri": "https://localhost:8080/",
          "height": 564
        },
        "id": "ld_3p1W3b9RE",
        "outputId": "4150fe0e-92aa-4d54-8bc5-bec6ec3bcf9e"
      },
      "execution_count": 25,
      "outputs": [
        {
          "output_type": "display_data",
          "data": {
            "text/plain": [
              "<Figure size 800x600 with 2 Axes>"
            ],
            "image/png": "[encoded data removed]"
          },
          "metadata": {}
        }
      ]
    },
    {
      "cell_type": "code",
      "source": [
        "report = classification_report(true_labels, predictions, target_names=['Real', 'Deepfake'])\n",
        "print(\"Classification Report:\\n\", report)"
      ],
      "metadata": {
        "colab": {
          "base_uri": "https://localhost:8080/"
        },
        "id": "B1A-30R3cLYO",
        "outputId": "dc65d76e-4dea-4e6e-fa10-f5575cedd9f1"
      },
      "execution_count": 26,
      "outputs": [
        {
          "output_type": "stream",
          "name": "stdout",
          "text": [
            "Classification Report:\n",
            "               precision    recall  f1-score   support\n",
            "\n",
            "        Real       0.49      0.62      0.55       554\n",
            "    Deepfake       0.51      0.38      0.44       576\n",
            "\n",
            "    accuracy                           0.50      1130\n",
            "   macro avg       0.50      0.50      0.49      1130\n",
            "weighted avg       0.50      0.50      0.49      1130\n",
            "\n"
          ]
        }
      ]
    },
    {
      "cell_type": "code",
      "source": [
        "plt.figure(figsize=(12, 4))\n",
        "plt.subplot(1, 2, 1)\n",
        "plt.plot(history.history['loss'], label='Training Loss')\n",
        "plt.plot(history.history['val_loss'], label='Validation Loss')\n",
        "plt.title('Loss Over Epochs')\n",
        "plt.xlabel('Epochs')\n",
        "plt.ylabel('Loss')\n",
        "plt.legend()"
      ],
      "metadata": {
        "colab": {
          "base_uri": "https://localhost:8080/",
          "height": 428
        },
        "id": "KuXhJR7QcWQa",
        "outputId": "af9a7f83-c261-4ef7-a1c5-2c32346940b9"
      },
      "execution_count": 27,
      "outputs": [
        {
          "output_type": "execute_result",
          "data": {
            "text/plain": [
              "<matplotlib.legend.Legend at 0x7ae3f5ec6990>"
            ]
          },
          "metadata": {},
          "execution_count": 27
        },
        {
          "output_type": "display_data",
          "data": {
            "text/plain": [
              "<Figure size 1200x400 with 1 Axes>"
            ],
            "image/png": "[encoded data removed]"
          },
          "metadata": {}
        }
      ]
    },
    {
      "cell_type": "code",
      "source": [
        "plt.figure(figsize=(12, 4))\n",
        "plt.subplot(1, 2, 2)\n",
        "plt.plot(history.history['accuracy'], label='Training Accuracy')\n",
        "plt.plot(history.history['val_accuracy'], label='Validation Accuracy')\n",
        "plt.title('Accuracy Over Epochs')\n",
        "plt.xlabel('Epochs')\n",
        "plt.ylabel('Accuracy')\n",
        "plt.legend()"
      ],
      "metadata": {
        "colab": {
          "base_uri": "https://localhost:8080/",
          "height": 428
        },
        "id": "8GiDqOkycW34",
        "outputId": "19e6412a-543b-4507-dd1a-d461c32c7f74"
      },
      "execution_count": 28,
      "outputs": [
        {
          "output_type": "execute_result",
          "data": {
            "text/plain": [
              "<matplotlib.legend.Legend at 0x7ae3fde13e90>"
            ]
          },
          "metadata": {},
          "execution_count": 28
        },
        {
          "output_type": "display_data",
          "data": {
            "text/plain": [
              "<Figure size 1200x400 with 1 Axes>"
            ],
            "image/png": "[encoded data removed]"
          },
          "metadata": {}
        }
      ]
    },
    {
      "cell_type": "code",
      "source": [],
      "metadata": {
        "id": "t7rT6_MJc7eM"
      },
      "execution_count": null,
      "outputs": []
    }
  ]
}