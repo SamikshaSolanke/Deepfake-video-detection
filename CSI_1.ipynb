{
  "nbformat": 4,
  "nbformat_minor": 0,
  "metadata": {
    "colab": {
      "provenance": [],
      "gpuType": "T4",
      "authorship_tag": "ABX9TyOlrLH3VuO9NfAzC7X4slRz",
      "include_colab_link": true
    },
    "kernelspec": {
      "name": "python3",
      "display_name": "Python 3"
    },
    "language_info": {
      "name": "python"
    },
    "accelerator": "GPU"
  },
  "cells": [
    {
      "cell_type": "markdown",
      "metadata": {
        "id": "view-in-github",
        "colab_type": "text"
      },
      "source": [
        "<a href=\"https://colab.research.google.com/github/SamikshaSolanke/Deepfake-video-detection-CSI-Codezilla/blob/main/CSI_1.ipynb\" target=\"_parent\"><img src=\"https://colab.research.google.com/assets/colab-badge.svg\" alt=\"Open In Colab\"/></a>"
      ]
    },
    {
      "cell_type": "markdown",
      "source": [
        "# This file contains the code for training and saving the model"
      ],
      "metadata": {
        "id": "fnL0giGz1I_t"
      }
    },
    {
      "cell_type": "markdown",
      "source": [
        "**For seeing the model 4, scroll down **"
      ],
      "metadata": {
        "id": "TiH_MPtH1Sii"
      }
    },
    {
      "cell_type": "code",
      "execution_count": null,
      "metadata": {
        "id": "3A2380dDMROp",
        "colab": {
          "base_uri": "https://localhost:8080/"
        },
        "outputId": "0c886d8e-e93c-4660-e84d-fae90738a04b"
      },
      "outputs": [
        {
          "output_type": "stream",
          "name": "stdout",
          "text": [
            "Mounted at /content/drive\n"
          ]
        }
      ],
      "source": [
        "from google.colab import drive\n",
        "drive.mount('/content/drive')"
      ]
    },
    {
      "cell_type": "code",
      "source": [
        "import os\n",
        "import pandas as pd\n",
        "\n",
        "# Define paths\n",
        "base_dir = '/content/drive/MyDrive/dataset_frames_2'\n",
        "real_dir = os.path.join(base_dir, 'Celeb-real')\n",
        "fake_dir = os.path.join(base_dir, 'Celeb-synthesis')\n",
        "\n",
        "# Prepare an empty list to store labels\n",
        "data = []\n",
        "\n",
        "# Label real frames (0)\n",
        "for folder in os.listdir(real_dir):\n",
        "    frame_dir = os.path.join(real_dir, folder)\n",
        "    if os.path.isdir(frame_dir):\n",
        "        for frame in os.listdir(frame_dir):\n",
        "            if frame.endswith('.jpg'):\n",
        "                data.append([os.path.join(frame_dir, frame), 0])\n",
        "\n",
        "# Label fake frames (1)\n",
        "for folder in os.listdir(fake_dir):\n",
        "    frame_dir = os.path.join(fake_dir, folder)\n",
        "    if os.path.isdir(frame_dir):\n",
        "        for frame in os.listdir(frame_dir):\n",
        "            if frame.endswith('.jpg'):\n",
        "                data.append([os.path.join(frame_dir, frame), 1])\n",
        "\n",
        "# Convert to a DataFrame and save as CSV\n",
        "df = pd.DataFrame(data, columns=['frame_path', 'label'])\n",
        "df.to_csv('/content/drive/MyDrive/labels_frames_4.csv', index=False)\n",
        "\n",
        "print(\"Labeling complete! CSV saved at /content/drive/MyDrive/labels_frames_4.csv\")"
      ],
      "metadata": {
        "colab": {
          "base_uri": "https://localhost:8080/"
        },
        "id": "mHxvXeDfRfzY",
        "outputId": "4eb90757-4fce-49e8-c279-9ee286375611"
      },
      "execution_count": null,
      "outputs": [
        {
          "output_type": "stream",
          "name": "stdout",
          "text": [
            "Labeling complete! CSV saved at /content/drive/MyDrive/labels_frames_4.csv\n"
          ]
        }
      ]
    },
    {
      "cell_type": "markdown",
      "source": [
        "**Importing a few important libraries and frameworks**"
      ],
      "metadata": {
        "id": "5Lx1sAimzpRS"
      }
    },
    {
      "cell_type": "code",
      "source": [
        "import os\n",
        "import pandas as pd\n",
        "import tensorflow as tf\n",
        "from tensorflow.keras.applications import MobileNetV2\n",
        "from tensorflow.keras.preprocessing.image import ImageDataGenerator\n",
        "from tensorflow.keras.layers import GlobalAveragePooling2D, Dense, Dropout, BatchNormalization, concatenate\n",
        "from tensorflow.keras.layers import GlobalMaxPooling2D\n",
        "from tensorflow.keras.models import Model\n",
        "from tensorflow.keras.optimizers import Adam"
      ],
      "metadata": {
        "id": "v6VZvWoqMis-"
      },
      "execution_count": null,
      "outputs": []
    },
    {
      "cell_type": "markdown",
      "source": [
        "**Setting a few parameters**"
      ],
      "metadata": {
        "id": "iDLWQUG7z_cj"
      }
    },
    {
      "cell_type": "code",
      "source": [
        "BATCH_SIZE = 32\n",
        "IMG_SIZE = (224, 224)\n",
        "EPOCHS = 10\n",
        "LEARNING_RATE = 0.001"
      ],
      "metadata": {
        "id": "2aHRIYkxMsGj"
      },
      "execution_count": null,
      "outputs": []
    },
    {
      "cell_type": "markdown",
      "source": [
        "**Loading dataset and CSV file**"
      ],
      "metadata": {
        "id": "A1TAreRU0Ghu"
      }
    },
    {
      "cell_type": "code",
      "source": [
        "csv_path = \"/content/drive/MyDrive/labels_frames_4.csv\"\n",
        "base_dir = \"/content/drive/MyDrive/dataset_frames_2\"\n",
        "\n",
        "data = pd.read_csv(csv_path)"
      ],
      "metadata": {
        "id": "xle7wxz1Mvom"
      },
      "execution_count": null,
      "outputs": []
    },
    {
      "cell_type": "markdown",
      "source": [
        "**Splitting the dataset into training and validation**"
      ],
      "metadata": {
        "id": "CndckRmz0OOO"
      }
    },
    {
      "cell_type": "code",
      "source": [
        "train_data = data.sample(frac=0.7, random_state=42)  # 70% for training\n",
        "val_data = data.drop(train_data.index)  # Remaining 30% for validation"
      ],
      "metadata": {
        "id": "D6xwqGNHMx1B"
      },
      "execution_count": null,
      "outputs": []
    },
    {
      "cell_type": "markdown",
      "source": [
        "**Data generators for training and validation**"
      ],
      "metadata": {
        "id": "376U3XFH0Vqr"
      }
    },
    {
      "cell_type": "code",
      "source": [
        "train_datagen = ImageDataGenerator(rescale=1.0/255.0, horizontal_flip=True, rotation_range=20)\n",
        "val_datagen = ImageDataGenerator(rescale=1.0/255.0)"
      ],
      "metadata": {
        "id": "AFvZKbYFM27x"
      },
      "execution_count": null,
      "outputs": []
    },
    {
      "cell_type": "markdown",
      "source": [
        "**Data generators for training and validation**"
      ],
      "metadata": {
        "id": "fQZDWw_V0b1G"
      }
    },
    {
      "cell_type": "code",
      "source": [
        "# Convert labels to strings\n",
        "train_data['label'] = train_data['label'].astype(str)\n",
        "val_data['label'] = val_data['label'].astype(str)\n",
        "\n",
        "train_generator = train_datagen.flow_from_dataframe(\n",
        "    train_data,\n",
        "    x_col=\"frame_path\",\n",
        "    y_col=\"label\",\n",
        "    target_size=IMG_SIZE,\n",
        "    batch_size=BATCH_SIZE,\n",
        "    class_mode=\"binary\"\n",
        ")\n",
        "\n",
        "val_generator = val_datagen.flow_from_dataframe(\n",
        "    val_data,\n",
        "    x_col=\"frame_path\",\n",
        "    y_col=\"label\",\n",
        "    target_size=IMG_SIZE,\n",
        "    batch_size=BATCH_SIZE,\n",
        "    class_mode=\"binary\"\n",
        ")"
      ],
      "metadata": {
        "colab": {
          "base_uri": "https://localhost:8080/"
        },
        "id": "ShmfP9x-M5vS",
        "outputId": "8aa5f300-4dd5-4afe-b93c-58b45c031299"
      },
      "execution_count": null,
      "outputs": [
        {
          "output_type": "stream",
          "name": "stdout",
          "text": [
            "Found 1862 validated image filenames belonging to 2 classes.\n",
            "Found 798 validated image filenames belonging to 2 classes.\n"
          ]
        }
      ]
    },
    {
      "cell_type": "markdown",
      "source": [
        "**Load pre-trained MobileNetV2 model + higher level layers**"
      ],
      "metadata": {
        "id": "8ylZqzCq0iqH"
      }
    },
    {
      "cell_type": "code",
      "source": [
        "base_model = MobileNetV2(input_shape=IMG_SIZE + (3,), include_top=False, weights=\"imagenet\")"
      ],
      "metadata": {
        "id": "65M9cFNkM8Dr"
      },
      "execution_count": null,
      "outputs": []
    },
    {
      "cell_type": "markdown",
      "source": [
        "**Freeze base model layers**"
      ],
      "metadata": {
        "id": "qcyeJv-t0m-O"
      }
    },
    {
      "cell_type": "code",
      "source": [
        "base_model.trainable = False"
      ],
      "metadata": {
        "id": "3iCyREnsNkTZ"
      },
      "execution_count": null,
      "outputs": []
    },
    {
      "cell_type": "markdown",
      "source": [
        "**Add custom layers for binary classification(used in 1st and second model)**"
      ],
      "metadata": {
        "id": "cNDIe6Sw0pqM"
      }
    },
    {
      "cell_type": "code",
      "source": [
        "x = base_model.output\n",
        "x = GlobalAveragePooling2D()(x)\n",
        "x = Dense(128, activation=\"relu\")(x)\n",
        "predictions = Dense(1, activation=\"sigmoid\")(x)"
      ],
      "metadata": {
        "id": "uXmjks0dNnt-"
      },
      "execution_count": null,
      "outputs": []
    },
    {
      "cell_type": "markdown",
      "source": [
        "**Add custom layers for binary classification(used 4th model)**"
      ],
      "metadata": {
        "id": "jXjr5gOT0vwa"
      }
    },
    {
      "cell_type": "code",
      "source": [
        "x = base_model.output\n",
        "avg_pool = GlobalAveragePooling2D()(x)\n",
        "max_pool = GlobalMaxPooling2D()(x)\n",
        "x = concatenate([avg_pool, max_pool])\n",
        "\n",
        "x = Dense(256, activation=\"relu\")(x)\n",
        "x = BatchNormalization()(x)\n",
        "x = Dropout(0.4)(x)\n",
        "\n",
        "x = Dense(128, activation=\"relu\")(x)\n",
        "x = Dropout(0.3)(x)\n",
        "\n",
        "predictions = Dense(1, activation=\"sigmoid\")(x)"
      ],
      "metadata": {
        "id": "qii-VWPdbIbd"
      },
      "execution_count": null,
      "outputs": []
    },
    {
      "cell_type": "code",
      "source": [
        "#1st trained model on 560 imgs\n",
        "model = Model(inputs=base_model.input, outputs=predictions)"
      ],
      "metadata": {
        "id": "2F-LeLBmNqQE"
      },
      "execution_count": null,
      "outputs": []
    },
    {
      "cell_type": "code",
      "source": [
        "#2nd trained model on 798 imgs\n",
        "model2 = Model(inputs=base_model.input, outputs=predictions)"
      ],
      "metadata": {
        "id": "LwvowJCIYRgN"
      },
      "execution_count": null,
      "outputs": []
    },
    {
      "cell_type": "code",
      "source": [
        "#3rd model on 798 imgs\n",
        "model3 = Model(inputs=base_model.input, outputs=predictions)"
      ],
      "metadata": {
        "id": "krlAbI_Vbdpw"
      },
      "execution_count": null,
      "outputs": []
    },
    {
      "cell_type": "code",
      "source": [
        "# Compile the model(1st)\n",
        "model.compile(optimizer=Adam(learning_rate=LEARNING_RATE), loss=\"binary_crossentropy\", metrics=[\"accuracy\"])"
      ],
      "metadata": {
        "id": "NHKrGfRcNscR"
      },
      "execution_count": null,
      "outputs": []
    },
    {
      "cell_type": "code",
      "source": [
        "# Compile the model(2nd)\n",
        "model2.compile(optimizer=Adam(learning_rate=LEARNING_RATE), loss=\"binary_crossentropy\", metrics=[\"accuracy\"])"
      ],
      "metadata": {
        "id": "g0nrLIQvYcXy"
      },
      "execution_count": null,
      "outputs": []
    },
    {
      "cell_type": "code",
      "source": [
        "# Compile the model(3rd)\n",
        "model3.compile(optimizer=Adam(learning_rate=LEARNING_RATE), loss=\"binary_crossentropy\", metrics=[\"accuracy\"])"
      ],
      "metadata": {
        "id": "C7vZypqjbkTc"
      },
      "execution_count": null,
      "outputs": []
    },
    {
      "cell_type": "code",
      "source": [
        "history_fine = model.fit(\n",
        "    train_generator,\n",
        "    validation_data=val_generator,\n",
        "    epochs=EPOCHS,\n",
        "    steps_per_epoch=train_generator.n // BATCH_SIZE,\n",
        "    validation_steps=val_generator.n // BATCH_SIZE\n",
        ")"
      ],
      "metadata": {
        "colab": {
          "base_uri": "https://localhost:8080/"
        },
        "id": "Oyre9bDRN0u7",
        "outputId": "5c39410f-33fb-48c7-a12c-b1ca5aed584c"
      },
      "execution_count": null,
      "outputs": [
        {
          "output_type": "stream",
          "name": "stdout",
          "text": [
            "Epoch 1/7\n"
          ]
        },
        {
          "output_type": "stream",
          "name": "stderr",
          "text": [
            "/usr/local/lib/python3.10/dist-packages/keras/src/trainers/data_adapters/py_dataset_adapter.py:122: UserWarning: Your `PyDataset` class should call `super().__init__(**kwargs)` in its constructor. `**kwargs` can include `workers`, `use_multiprocessing`, `max_queue_size`. Do not pass these arguments to `fit()`, as they will be ignored.\n",
            "  self._warn_if_super_not_called()\n"
          ]
        },
        {
          "output_type": "stream",
          "name": "stdout",
          "text": [
            "\u001b[1m16/16\u001b[0m \u001b[32m━━━━━━━━━━━━━━━━━━━━\u001b[0m\u001b[37m\u001b[0m \u001b[1m290s\u001b[0m 13s/step - accuracy: 0.4622 - loss: 0.8232 - val_accuracy: 0.5134 - val_loss: 0.7430\n",
            "Epoch 2/7\n",
            "\u001b[1m 1/16\u001b[0m \u001b[32m━\u001b[0m\u001b[37m━━━━━━━━━━━━━━━━━━━\u001b[0m \u001b[1m0s\u001b[0m 45ms/step - accuracy: 0.4375 - loss: 0.7150"
          ]
        },
        {
          "output_type": "stream",
          "name": "stderr",
          "text": [
            "/usr/lib/python3.10/contextlib.py:153: UserWarning: Your input ran out of data; interrupting training. Make sure that your dataset or generator can generate at least `steps_per_epoch * epochs` batches. You may need to use the `.repeat()` function when building your dataset.\n",
            "  self.gen.throw(typ, value, traceback)\n"
          ]
        },
        {
          "output_type": "stream",
          "name": "stdout",
          "text": [
            "\b\b\b\b\b\b\b\b\b\b\b\b\b\b\b\b\b\b\b\b\b\b\b\b\b\b\b\b\b\b\b\b\b\b\b\b\b\b\b\b\b\b\b\b\b\b\b\b\b\b\b\b\b\b\b\b\b\b\b\b\b\b\b\b\b\b\b\b\b\b\b\b\b\r\u001b[1m16/16\u001b[0m \u001b[32m━━━━━━━━━━━━━━━━━━━━\u001b[0m\u001b[37m\u001b[0m \u001b[1m4s\u001b[0m 274ms/step - accuracy: 0.4375 - loss: 0.7150 - val_accuracy: 0.2500 - val_loss: 0.8326\n",
            "Epoch 3/7\n",
            "\u001b[1m16/16\u001b[0m \u001b[32m━━━━━━━━━━━━━━━━━━━━\u001b[0m\u001b[37m\u001b[0m \u001b[1m41s\u001b[0m 333ms/step - accuracy: 0.5333 - loss: 0.6707 - val_accuracy: 0.5089 - val_loss: 0.7071\n",
            "Epoch 4/7\n",
            "\u001b[1m16/16\u001b[0m \u001b[32m━━━━━━━━━━━━━━━━━━━━\u001b[0m\u001b[37m\u001b[0m \u001b[1m0s\u001b[0m 2ms/step - accuracy: 0.5625 - loss: 0.7087 - val_accuracy: 0.5000 - val_loss: 0.6362\n",
            "Epoch 5/7\n",
            "\u001b[1m16/16\u001b[0m \u001b[32m━━━━━━━━━━━━━━━━━━━━\u001b[0m\u001b[37m\u001b[0m \u001b[1m11s\u001b[0m 319ms/step - accuracy: 0.6380 - loss: 0.6273 - val_accuracy: 0.5580 - val_loss: 0.7626\n",
            "Epoch 6/7\n",
            "\u001b[1m16/16\u001b[0m \u001b[32m━━━━━━━━━━━━━━━━━━━━\u001b[0m\u001b[37m\u001b[0m \u001b[1m0s\u001b[0m 23ms/step - accuracy: 0.6250 - loss: 0.6599 - val_accuracy: 0.5000 - val_loss: 0.6883\n",
            "Epoch 7/7\n",
            "\u001b[1m16/16\u001b[0m \u001b[32m━━━━━━━━━━━━━━━━━━━━\u001b[0m\u001b[37m\u001b[0m \u001b[1m9s\u001b[0m 414ms/step - accuracy: 0.6013 - loss: 0.6276 - val_accuracy: 0.5446 - val_loss: 0.6808\n"
          ]
        }
      ]
    },
    {
      "cell_type": "code",
      "source": [
        "# Fine-tuning: Unfreeze some layers of the base model and train further\n",
        "for layer in base_model.layers[-30:]:  # Unfreeze the last 30 layers\n",
        "    layer.trainable = True\n",
        "\n",
        "model.compile(optimizer=Adam(learning_rate=LEARNING_RATE / 10), loss=\"binary_crossentropy\", metrics=[\"accuracy\"])\n",
        "\n",
        "# Train again for fine-tuning\n",
        "history_fine = model.fit(\n",
        "    train_generator,\n",
        "    validation_data=val_generator,\n",
        "    epochs=EPOCHS,\n",
        "    steps_per_epoch=train_generator.n // BATCH_SIZE,\n",
        "    validation_steps=val_generator.n // BATCH_SIZE\n",
        ")"
      ],
      "metadata": {
        "colab": {
          "base_uri": "https://localhost:8080/"
        },
        "id": "n5lE9v_xcfxJ",
        "outputId": "537c5284-f14b-4d71-fe9e-141a380dfa10"
      },
      "execution_count": null,
      "outputs": [
        {
          "output_type": "stream",
          "name": "stdout",
          "text": [
            "Epoch 1/7\n",
            "\u001b[1m24/24\u001b[0m \u001b[32m━━━━━━━━━━━━━━━━━━━━\u001b[0m\u001b[37m\u001b[0m \u001b[1m24s\u001b[0m 580ms/step - accuracy: 0.5397 - loss: 0.6905 - val_accuracy: 0.4969 - val_loss: 0.7019\n",
            "Epoch 2/7\n",
            "\u001b[1m24/24\u001b[0m \u001b[32m━━━━━━━━━━━━━━━━━━━━\u001b[0m\u001b[37m\u001b[0m \u001b[1m1s\u001b[0m 54ms/step - accuracy: 0.5625 - loss: 0.6854 - val_accuracy: 0.4545 - val_loss: 0.7216\n",
            "Epoch 3/7\n",
            "\u001b[1m24/24\u001b[0m \u001b[32m━━━━━━━━━━━━━━━━━━━━\u001b[0m\u001b[37m\u001b[0m \u001b[1m13s\u001b[0m 434ms/step - accuracy: 0.5379 - loss: 0.6961 - val_accuracy: 0.5031 - val_loss: 0.6942\n",
            "Epoch 4/7\n",
            "\u001b[1m24/24\u001b[0m \u001b[32m━━━━━━━━━━━━━━━━━━━━\u001b[0m\u001b[37m\u001b[0m \u001b[1m0s\u001b[0m 3ms/step - accuracy: 0.5000 - loss: 0.6823 - val_accuracy: 0.6818 - val_loss: 0.6752\n",
            "Epoch 5/7\n",
            "\u001b[1m24/24\u001b[0m \u001b[32m━━━━━━━━━━━━━━━━━━━━\u001b[0m\u001b[37m\u001b[0m \u001b[1m13s\u001b[0m 426ms/step - accuracy: 0.5698 - loss: 0.6795 - val_accuracy: 0.4812 - val_loss: 0.6962\n",
            "Epoch 6/7\n",
            "\u001b[1m24/24\u001b[0m \u001b[32m━━━━━━━━━━━━━━━━━━━━\u001b[0m\u001b[37m\u001b[0m \u001b[1m1s\u001b[0m 43ms/step - accuracy: 0.4375 - loss: 0.6766 - val_accuracy: 0.7273 - val_loss: 0.6508\n",
            "Epoch 7/7\n",
            "\u001b[1m24/24\u001b[0m \u001b[32m━━━━━━━━━━━━━━━━━━━━\u001b[0m\u001b[37m\u001b[0m \u001b[1m13s\u001b[0m 422ms/step - accuracy: 0.5575 - loss: 0.6729 - val_accuracy: 0.4750 - val_loss: 0.6963\n"
          ]
        }
      ]
    },
    {
      "cell_type": "code",
      "source": [
        "#2nd model\n",
        "history_fine = model2.fit(\n",
        "    train_generator,\n",
        "    validation_data=val_generator,\n",
        "    epochs=EPOCHS,\n",
        "    steps_per_epoch=train_generator.n // BATCH_SIZE,\n",
        "    validation_steps=val_generator.n // BATCH_SIZE\n",
        ")"
      ],
      "metadata": {
        "colab": {
          "base_uri": "https://localhost:8080/"
        },
        "id": "tGdNnF8IYjxs",
        "outputId": "276f5670-d726-4c15-ff3d-8284dc5f580a"
      },
      "execution_count": null,
      "outputs": [
        {
          "output_type": "stream",
          "name": "stdout",
          "text": [
            "Epoch 1/7\n"
          ]
        },
        {
          "output_type": "stream",
          "name": "stderr",
          "text": [
            "/usr/local/lib/python3.10/dist-packages/keras/src/trainers/data_adapters/py_dataset_adapter.py:122: UserWarning: Your `PyDataset` class should call `super().__init__(**kwargs)` in its constructor. `**kwargs` can include `workers`, `use_multiprocessing`, `max_queue_size`. Do not pass these arguments to `fit()`, as they will be ignored.\n",
            "  self._warn_if_super_not_called()\n"
          ]
        },
        {
          "output_type": "stream",
          "name": "stdout",
          "text": [
            "\u001b[1m24/24\u001b[0m \u001b[32m━━━━━━━━━━━━━━━━━━━━\u001b[0m\u001b[37m\u001b[0m \u001b[1m395s\u001b[0m 14s/step - accuracy: 0.5231 - loss: 0.7842 - val_accuracy: 0.5437 - val_loss: 0.6910\n",
            "Epoch 2/7\n",
            "\u001b[1m 1/24\u001b[0m \u001b[37m━━━━━━━━━━━━━━━━━━━━\u001b[0m \u001b[1m0s\u001b[0m 39ms/step - accuracy: 0.4062 - loss: 0.7537"
          ]
        },
        {
          "output_type": "stream",
          "name": "stderr",
          "text": [
            "/usr/lib/python3.10/contextlib.py:153: UserWarning: Your input ran out of data; interrupting training. Make sure that your dataset or generator can generate at least `steps_per_epoch * epochs` batches. You may need to use the `.repeat()` function when building your dataset.\n",
            "  self.gen.throw(typ, value, traceback)\n"
          ]
        },
        {
          "output_type": "stream",
          "name": "stdout",
          "text": [
            "\b\b\b\b\b\b\b\b\b\b\b\b\b\b\b\b\b\b\b\b\b\b\b\b\b\b\b\b\b\b\b\b\b\b\b\b\b\b\b\b\b\b\b\b\b\b\b\b\b\b\b\b\b\b\b\b\b\b\b\b\b\b\b\b\b\b\b\b\b\b\b\b\b\r\u001b[1m24/24\u001b[0m \u001b[32m━━━━━━━━━━━━━━━━━━━━\u001b[0m\u001b[37m\u001b[0m \u001b[1m12s\u001b[0m 516ms/step - accuracy: 0.4062 - loss: 0.7537 - val_accuracy: 0.5455 - val_loss: 0.7298\n",
            "Epoch 3/7\n",
            "\u001b[1m24/24\u001b[0m \u001b[32m━━━━━━━━━━━━━━━━━━━━\u001b[0m\u001b[37m\u001b[0m \u001b[1m52s\u001b[0m 433ms/step - accuracy: 0.5405 - loss: 0.7080 - val_accuracy: 0.4563 - val_loss: 0.7397\n",
            "Epoch 4/7\n",
            "\u001b[1m24/24\u001b[0m \u001b[32m━━━━━━━━━━━━━━━━━━━━\u001b[0m\u001b[37m\u001b[0m \u001b[1m0s\u001b[0m 2ms/step - accuracy: 0.5625 - loss: 0.7120 - val_accuracy: 0.5455 - val_loss: 0.7226\n",
            "Epoch 5/7\n",
            "\u001b[1m24/24\u001b[0m \u001b[32m━━━━━━━━━━━━━━━━━━━━\u001b[0m\u001b[37m\u001b[0m \u001b[1m20s\u001b[0m 409ms/step - accuracy: 0.5440 - loss: 0.6802 - val_accuracy: 0.5938 - val_loss: 0.6671\n",
            "Epoch 6/7\n",
            "\u001b[1m24/24\u001b[0m \u001b[32m━━━━━━━━━━━━━━━━━━━━\u001b[0m\u001b[37m\u001b[0m \u001b[1m1s\u001b[0m 42ms/step - accuracy: 0.5667 - loss: 0.6090 - val_accuracy: 0.6364 - val_loss: 0.6481\n",
            "Epoch 7/7\n",
            "\u001b[1m24/24\u001b[0m \u001b[32m━━━━━━━━━━━━━━━━━━━━\u001b[0m\u001b[37m\u001b[0m \u001b[1m13s\u001b[0m 413ms/step - accuracy: 0.6039 - loss: 0.6411 - val_accuracy: 0.5094 - val_loss: 0.7145\n"
          ]
        }
      ]
    },
    {
      "cell_type": "code",
      "source": [
        "# Fine-tuning: Unfreeze some layers of the base model and train further\n",
        "for layer in base_model.layers[-30:]:  # Unfreeze the last 30 layers\n",
        "    layer.trainable = True\n",
        "\n",
        "model.compile(optimizer=Adam(learning_rate=LEARNING_RATE / 10), loss=\"binary_crossentropy\", metrics=[\"accuracy\"])\n",
        "\n",
        "# Train again for fine-tuning\n",
        "history_fine = model2.fit(\n",
        "    train_generator,\n",
        "    validation_data=val_generator,\n",
        "    epochs=EPOCHS,\n",
        "    steps_per_epoch=train_generator.n // BATCH_SIZE,\n",
        "    validation_steps=val_generator.n // BATCH_SIZE\n",
        ")"
      ],
      "metadata": {
        "colab": {
          "base_uri": "https://localhost:8080/"
        },
        "id": "vMRIo_yFc6o3",
        "outputId": "66d6af44-a33b-428c-d678-408ff45a38f5"
      },
      "execution_count": null,
      "outputs": [
        {
          "output_type": "stream",
          "name": "stdout",
          "text": [
            "Epoch 1/7\n",
            "\u001b[1m24/24\u001b[0m \u001b[32m━━━━━━━━━━━━━━━━━━━━\u001b[0m\u001b[37m\u001b[0m \u001b[1m14s\u001b[0m 419ms/step - accuracy: 0.5989 - loss: 0.6408 - val_accuracy: 0.5875 - val_loss: 0.6583\n",
            "Epoch 2/7\n",
            "\u001b[1m 1/24\u001b[0m \u001b[37m━━━━━━━━━━━━━━━━━━━━\u001b[0m \u001b[1m0s\u001b[0m 37ms/step - accuracy: 0.6562 - loss: 0.5508"
          ]
        },
        {
          "output_type": "stream",
          "name": "stderr",
          "text": [
            "/usr/lib/python3.10/contextlib.py:153: UserWarning: Your input ran out of data; interrupting training. Make sure that your dataset or generator can generate at least `steps_per_epoch * epochs` batches. You may need to use the `.repeat()` function when building your dataset.\n",
            "  self.gen.throw(typ, value, traceback)\n"
          ]
        },
        {
          "output_type": "stream",
          "name": "stdout",
          "text": [
            "\b\b\b\b\b\b\b\b\b\b\b\b\b\b\b\b\b\b\b\b\b\b\b\b\b\b\b\b\b\b\b\b\b\b\b\b\b\b\b\b\b\b\b\b\b\b\b\b\b\b\b\b\b\b\b\b\b\b\b\b\b\b\b\b\b\b\b\b\b\b\b\b\b\r\u001b[1m24/24\u001b[0m \u001b[32m━━━━━━━━━━━━━━━━━━━━\u001b[0m\u001b[37m\u001b[0m \u001b[1m1s\u001b[0m 49ms/step - accuracy: 0.6562 - loss: 0.5508 - val_accuracy: 0.5000 - val_loss: 0.6601\n",
            "Epoch 3/7\n",
            "\u001b[1m24/24\u001b[0m \u001b[32m━━━━━━━━━━━━━━━━━━━━\u001b[0m\u001b[37m\u001b[0m \u001b[1m14s\u001b[0m 382ms/step - accuracy: 0.6404 - loss: 0.6097 - val_accuracy: 0.5281 - val_loss: 0.6671\n",
            "Epoch 4/7\n",
            "\u001b[1m24/24\u001b[0m \u001b[32m━━━━━━━━━━━━━━━━━━━━\u001b[0m\u001b[37m\u001b[0m \u001b[1m1s\u001b[0m 55ms/step - accuracy: 0.5625 - loss: 0.6417 - val_accuracy: 0.5455 - val_loss: 0.7204\n",
            "Epoch 5/7\n",
            "\u001b[1m24/24\u001b[0m \u001b[32m━━━━━━━━━━━━━━━━━━━━\u001b[0m\u001b[37m\u001b[0m \u001b[1m18s\u001b[0m 429ms/step - accuracy: 0.5946 - loss: 0.6290 - val_accuracy: 0.6031 - val_loss: 0.6585\n",
            "Epoch 6/7\n",
            "\u001b[1m24/24\u001b[0m \u001b[32m━━━━━━━━━━━━━━━━━━━━\u001b[0m\u001b[37m\u001b[0m \u001b[1m0s\u001b[0m 2ms/step - accuracy: 0.5000 - loss: 0.6632 - val_accuracy: 0.6364 - val_loss: 0.6185\n",
            "Epoch 7/7\n",
            "\u001b[1m24/24\u001b[0m \u001b[32m━━━━━━━━━━━━━━━━━━━━\u001b[0m\u001b[37m\u001b[0m \u001b[1m13s\u001b[0m 430ms/step - accuracy: 0.6112 - loss: 0.6263 - val_accuracy: 0.6000 - val_loss: 0.6536\n"
          ]
        }
      ]
    },
    {
      "cell_type": "code",
      "source": [
        "#3rd model\n",
        "history_fine = model3.fit(\n",
        "    train_generator,\n",
        "    validation_data=val_generator,\n",
        "    epochs=EPOCHS,\n",
        "    steps_per_epoch=train_generator.n // BATCH_SIZE,\n",
        "    validation_steps=val_generator.n // BATCH_SIZE\n",
        ")"
      ],
      "metadata": {
        "colab": {
          "base_uri": "https://localhost:8080/"
        },
        "id": "LMFeTPgPbpjy",
        "outputId": "7c69e550-9891-4d11-f3b8-7cb6492ac38f"
      },
      "execution_count": null,
      "outputs": [
        {
          "output_type": "stream",
          "name": "stdout",
          "text": [
            "Epoch 1/10\n"
          ]
        },
        {
          "output_type": "stream",
          "name": "stderr",
          "text": [
            "/usr/local/lib/python3.10/dist-packages/keras/src/trainers/data_adapters/py_dataset_adapter.py:122: UserWarning: Your `PyDataset` class should call `super().__init__(**kwargs)` in its constructor. `**kwargs` can include `workers`, `use_multiprocessing`, `max_queue_size`. Do not pass these arguments to `fit()`, as they will be ignored.\n",
            "  self._warn_if_super_not_called()\n"
          ]
        },
        {
          "output_type": "stream",
          "name": "stdout",
          "text": [
            "\u001b[1m24/24\u001b[0m \u001b[32m━━━━━━━━━━━━━━━━━━━━\u001b[0m\u001b[37m\u001b[0m \u001b[1m268s\u001b[0m 9s/step - accuracy: 0.5348 - loss: 0.8081 - val_accuracy: 0.4531 - val_loss: 2.5440\n",
            "Epoch 2/10\n",
            "\u001b[1m 1/24\u001b[0m \u001b[37m━━━━━━━━━━━━━━━━━━━━\u001b[0m \u001b[1m51s\u001b[0m 2s/step - accuracy: 0.5625 - loss: 0.7794"
          ]
        },
        {
          "output_type": "stream",
          "name": "stderr",
          "text": [
            "/usr/lib/python3.10/contextlib.py:153: UserWarning: Your input ran out of data; interrupting training. Make sure that your dataset or generator can generate at least `steps_per_epoch * epochs` batches. You may need to use the `.repeat()` function when building your dataset.\n",
            "  self.gen.throw(typ, value, traceback)\n"
          ]
        },
        {
          "output_type": "stream",
          "name": "stdout",
          "text": [
            "\b\b\b\b\b\b\b\b\b\b\b\b\b\b\b\b\b\b\b\b\b\b\b\b\b\b\b\b\b\b\b\b\b\b\b\b\b\b\b\b\b\b\b\b\b\b\b\b\b\b\b\b\b\b\b\b\b\b\b\b\b\b\b\b\b\b\b\b\b\b\b\b\r\u001b[1m24/24\u001b[0m \u001b[32m━━━━━━━━━━━━━━━━━━━━\u001b[0m\u001b[37m\u001b[0m \u001b[1m5s\u001b[0m 101ms/step - accuracy: 0.5625 - loss: 0.7794 - val_accuracy: 0.5455 - val_loss: 1.5247\n",
            "Epoch 3/10\n",
            "\u001b[1m24/24\u001b[0m \u001b[32m━━━━━━━━━━━━━━━━━━━━\u001b[0m\u001b[37m\u001b[0m \u001b[1m71s\u001b[0m 3s/step - accuracy: 0.5596 - loss: 0.7307 - val_accuracy: 0.4844 - val_loss: 0.8941\n",
            "Epoch 4/10\n",
            "\u001b[1m24/24\u001b[0m \u001b[32m━━━━━━━━━━━━━━━━━━━━\u001b[0m\u001b[37m\u001b[0m \u001b[1m2s\u001b[0m 39ms/step - accuracy: 0.4688 - loss: 0.8086 - val_accuracy: 0.5455 - val_loss: 0.6210\n",
            "Epoch 5/10\n",
            "\u001b[1m24/24\u001b[0m \u001b[32m━━━━━━━━━━━━━━━━━━━━\u001b[0m\u001b[37m\u001b[0m \u001b[1m73s\u001b[0m 2s/step - accuracy: 0.5867 - loss: 0.7167 - val_accuracy: 0.4812 - val_loss: 0.9224\n",
            "Epoch 6/10\n",
            "\u001b[1m24/24\u001b[0m \u001b[32m━━━━━━━━━━━━━━━━━━━━\u001b[0m\u001b[37m\u001b[0m \u001b[1m2s\u001b[0m 36ms/step - accuracy: 0.5312 - loss: 0.8090 - val_accuracy: 0.5909 - val_loss: 0.7371\n",
            "Epoch 7/10\n",
            "\u001b[1m24/24\u001b[0m \u001b[32m━━━━━━━━━━━━━━━━━━━━\u001b[0m\u001b[37m\u001b[0m \u001b[1m65s\u001b[0m 2s/step - accuracy: 0.5912 - loss: 0.6850 - val_accuracy: 0.5906 - val_loss: 0.8042\n",
            "Epoch 8/10\n",
            "\u001b[1m24/24\u001b[0m \u001b[32m━━━━━━━━━━━━━━━━━━━━\u001b[0m\u001b[37m\u001b[0m \u001b[1m6s\u001b[0m 167ms/step - accuracy: 0.7188 - loss: 0.6341 - val_accuracy: 0.6364 - val_loss: 0.6647\n",
            "Epoch 9/10\n",
            "\u001b[1m24/24\u001b[0m \u001b[32m━━━━━━━━━━━━━━━━━━━━\u001b[0m\u001b[37m\u001b[0m \u001b[1m74s\u001b[0m 2s/step - accuracy: 0.5741 - loss: 0.6833 - val_accuracy: 0.6031 - val_loss: 0.7015\n",
            "Epoch 10/10\n",
            "\u001b[1m24/24\u001b[0m \u001b[32m━━━━━━━━━━━━━━━━━━━━\u001b[0m\u001b[37m\u001b[0m \u001b[1m2s\u001b[0m 36ms/step - accuracy: 0.5938 - loss: 0.7626 - val_accuracy: 0.4545 - val_loss: 0.8184\n"
          ]
        }
      ]
    },
    {
      "cell_type": "code",
      "source": [
        "# Fine-tuning: Unfreeze some layers of the base model and train further\n",
        "for layer in base_model.layers[-30:]:  # Unfreeze the last 30 layers\n",
        "    layer.trainable = True\n",
        "\n",
        "model3.compile(optimizer=Adam(learning_rate=LEARNING_RATE / 10), loss=\"binary_crossentropy\", metrics=[\"accuracy\"])\n",
        "\n",
        "# Train again for fine-tuning\n",
        "history_fine = model3.fit(\n",
        "    train_generator,\n",
        "    validation_data=val_generator,\n",
        "    epochs=EPOCHS,\n",
        "    steps_per_epoch=train_generator.n // BATCH_SIZE,\n",
        "    validation_steps=val_generator.n // BATCH_SIZE\n",
        ")\n"
      ],
      "metadata": {
        "colab": {
          "base_uri": "https://localhost:8080/"
        },
        "id": "4Fmu5ok4dOJ3",
        "outputId": "bb7df8d9-6b24-48d9-e319-f24cb1b183ab"
      },
      "execution_count": null,
      "outputs": [
        {
          "output_type": "stream",
          "name": "stdout",
          "text": [
            "Epoch 1/10\n",
            "\u001b[1m24/24\u001b[0m \u001b[32m━━━━━━━━━━━━━━━━━━━━\u001b[0m\u001b[37m\u001b[0m \u001b[1m91s\u001b[0m 3s/step - accuracy: 0.5786 - loss: 0.6683 - val_accuracy: 0.5594 - val_loss: 0.6949\n",
            "Epoch 2/10\n",
            "\u001b[1m24/24\u001b[0m \u001b[32m━━━━━━━━━━━━━━━━━━━━\u001b[0m\u001b[37m\u001b[0m \u001b[1m5s\u001b[0m 157ms/step - accuracy: 0.5625 - loss: 0.6834 - val_accuracy: 0.5909 - val_loss: 0.7032\n",
            "Epoch 3/10\n",
            "\u001b[1m24/24\u001b[0m \u001b[32m━━━━━━━━━━━━━━━━━━━━\u001b[0m\u001b[37m\u001b[0m \u001b[1m73s\u001b[0m 3s/step - accuracy: 0.6055 - loss: 0.6481 - val_accuracy: 0.5094 - val_loss: 0.7358\n",
            "Epoch 4/10\n",
            "\u001b[1m24/24\u001b[0m \u001b[32m━━━━━━━━━━━━━━━━━━━━\u001b[0m\u001b[37m\u001b[0m \u001b[1m4s\u001b[0m 63ms/step - accuracy: 0.6250 - loss: 0.6225 - val_accuracy: 0.4091 - val_loss: 0.8344\n",
            "Epoch 5/10\n",
            "\u001b[1m24/24\u001b[0m \u001b[32m━━━━━━━━━━━━━━━━━━━━\u001b[0m\u001b[37m\u001b[0m \u001b[1m83s\u001b[0m 3s/step - accuracy: 0.5922 - loss: 0.6693 - val_accuracy: 0.5188 - val_loss: 0.7332\n",
            "Epoch 6/10\n",
            "\u001b[1m24/24\u001b[0m \u001b[32m━━━━━━━━━━━━━━━━━━━━\u001b[0m\u001b[37m\u001b[0m \u001b[1m3s\u001b[0m 39ms/step - accuracy: 0.6250 - loss: 0.5765 - val_accuracy: 0.6364 - val_loss: 0.6371\n",
            "Epoch 7/10\n",
            "\u001b[1m24/24\u001b[0m \u001b[32m━━━━━━━━━━━━━━━━━━━━\u001b[0m\u001b[37m\u001b[0m \u001b[1m78s\u001b[0m 3s/step - accuracy: 0.6807 - loss: 0.5794 - val_accuracy: 0.5281 - val_loss: 0.7812\n",
            "Epoch 8/10\n",
            "\u001b[1m24/24\u001b[0m \u001b[32m━━━━━━━━━━━━━━━━━━━━\u001b[0m\u001b[37m\u001b[0m \u001b[1m4s\u001b[0m 67ms/step - accuracy: 0.7188 - loss: 0.6031 - val_accuracy: 0.5000 - val_loss: 0.8940\n",
            "Epoch 9/10\n",
            "\u001b[1m24/24\u001b[0m \u001b[32m━━━━━━━━━━━━━━━━━━━━\u001b[0m\u001b[37m\u001b[0m \u001b[1m80s\u001b[0m 3s/step - accuracy: 0.6858 - loss: 0.5852 - val_accuracy: 0.5375 - val_loss: 0.7738\n",
            "Epoch 10/10\n",
            "\u001b[1m24/24\u001b[0m \u001b[32m━━━━━━━━━━━━━━━━━━━━\u001b[0m\u001b[37m\u001b[0m \u001b[1m5s\u001b[0m 116ms/step - accuracy: 0.6875 - loss: 0.5937 - val_accuracy: 0.5455 - val_loss: 0.8063\n"
          ]
        }
      ]
    },
    {
      "cell_type": "code",
      "source": [
        "# Convert to TensorFlow Lite for mobile integration\n",
        "converter = tf.lite.TFLiteConverter.from_keras_model(model3)\n",
        "tflite_model = converter.convert()\n",
        "\n",
        "# Save the TFLite model\n",
        "with open(\"/content/drive/MyDrive/deepfake_detector_model3.tflite\", \"wb\") as f:\n",
        "    f.write(tflite_model)\n",
        "\n",
        "print(\"Model training and conversion completed successfully!\")"
      ],
      "metadata": {
        "colab": {
          "base_uri": "https://localhost:8080/"
        },
        "collapsed": true,
        "id": "horV0uRQhIsr",
        "outputId": "5809cf7f-cfe0-475c-bce5-6a43aabc6dfc"
      },
      "execution_count": null,
      "outputs": [
        {
          "output_type": "stream",
          "name": "stdout",
          "text": [
            "Saved artifact at '/tmp/tmpm6omoaq2'. The following endpoints are available:\n",
            "\n",
            "* Endpoint 'serve'\n",
            "  args_0 (POSITIONAL_ONLY): TensorSpec(shape=(None, 224, 224, 3), dtype=tf.float32, name='keras_tensor')\n",
            "Output Type:\n",
            "  TensorSpec(shape=(None, 1), dtype=tf.float32, name=None)\n",
            "Captures:\n",
            "  134811480716592: TensorSpec(shape=(), dtype=tf.resource, name=None)\n",
            "  134810017075392: TensorSpec(shape=(), dtype=tf.resource, name=None)\n",
            "  134810017075920: TensorSpec(shape=(), dtype=tf.resource, name=None)\n",
            "  134810017073632: TensorSpec(shape=(), dtype=tf.resource, name=None)\n",
            "  134810017074512: TensorSpec(shape=(), dtype=tf.resource, name=None)\n",
            "  134811480717472: TensorSpec(shape=(), dtype=tf.resource, name=None)\n",
            "  134810017304592: TensorSpec(shape=(), dtype=tf.resource, name=None)\n",
            "  134810017303712: TensorSpec(shape=(), dtype=tf.resource, name=None)\n",
            "  134810017302656: TensorSpec(shape=(), dtype=tf.resource, name=None)\n",
            "  134810017303888: TensorSpec(shape=(), dtype=tf.resource, name=None)\n",
            "  134810017086128: TensorSpec(shape=(), dtype=tf.resource, name=None)\n",
            "  134810017311632: TensorSpec(shape=(), dtype=tf.resource, name=None)\n",
            "  134810017312688: TensorSpec(shape=(), dtype=tf.resource, name=None)\n",
            "  134810017308816: TensorSpec(shape=(), dtype=tf.resource, name=None)\n",
            "  134810017311456: TensorSpec(shape=(), dtype=tf.resource, name=None)\n",
            "  134810017085424: TensorSpec(shape=(), dtype=tf.resource, name=None)\n",
            "  134810017449056: TensorSpec(shape=(), dtype=tf.resource, name=None)\n",
            "  134810017310048: TensorSpec(shape=(), dtype=tf.resource, name=None)\n",
            "  134810017315328: TensorSpec(shape=(), dtype=tf.resource, name=None)\n",
            "  134810017448000: TensorSpec(shape=(), dtype=tf.resource, name=None)\n",
            "  134810017315856: TensorSpec(shape=(), dtype=tf.resource, name=None)\n",
            "  134810017456272: TensorSpec(shape=(), dtype=tf.resource, name=None)\n",
            "  134810017458912: TensorSpec(shape=(), dtype=tf.resource, name=None)\n",
            "  134810017454864: TensorSpec(shape=(), dtype=tf.resource, name=None)\n",
            "  134810017456800: TensorSpec(shape=(), dtype=tf.resource, name=None)\n",
            "  134810017461904: TensorSpec(shape=(), dtype=tf.resource, name=None)\n",
            "  134810017498384: TensorSpec(shape=(), dtype=tf.resource, name=None)\n",
            "  134810017498736: TensorSpec(shape=(), dtype=tf.resource, name=None)\n",
            "  134810017462960: TensorSpec(shape=(), dtype=tf.resource, name=None)\n",
            "  134810017497152: TensorSpec(shape=(), dtype=tf.resource, name=None)\n",
            "  134810017081904: TensorSpec(shape=(), dtype=tf.resource, name=None)\n",
            "  134810017504544: TensorSpec(shape=(), dtype=tf.resource, name=None)\n",
            "  134810017505600: TensorSpec(shape=(), dtype=tf.resource, name=None)\n",
            "  134810017501728: TensorSpec(shape=(), dtype=tf.resource, name=None)\n",
            "  134810017504368: TensorSpec(shape=(), dtype=tf.resource, name=None)\n",
            "  134810017511584: TensorSpec(shape=(), dtype=tf.resource, name=None)\n",
            "  134810017510528: TensorSpec(shape=(), dtype=tf.resource, name=None)\n",
            "  134810017513168: TensorSpec(shape=(), dtype=tf.resource, name=None)\n",
            "  134810017502080: TensorSpec(shape=(), dtype=tf.resource, name=None)\n",
            "  134810017511056: TensorSpec(shape=(), dtype=tf.resource, name=None)\n",
            "  134810017507184: TensorSpec(shape=(), dtype=tf.resource, name=None)\n",
            "  134810017519872: TensorSpec(shape=(), dtype=tf.resource, name=None)\n",
            "  134810017520928: TensorSpec(shape=(), dtype=tf.resource, name=None)\n",
            "  134810017517056: TensorSpec(shape=(), dtype=tf.resource, name=None)\n",
            "  134810017519696: TensorSpec(shape=(), dtype=tf.resource, name=None)\n",
            "  134810017453104: TensorSpec(shape=(), dtype=tf.resource, name=None)\n",
            "  134810017525856: TensorSpec(shape=(), dtype=tf.resource, name=None)\n",
            "  134810017528320: TensorSpec(shape=(), dtype=tf.resource, name=None)\n",
            "  134810017524448: TensorSpec(shape=(), dtype=tf.resource, name=None)\n",
            "  134810017527088: TensorSpec(shape=(), dtype=tf.resource, name=None)\n",
            "  134810017524800: TensorSpec(shape=(), dtype=tf.resource, name=None)\n",
            "  134809973527424: TensorSpec(shape=(), dtype=tf.resource, name=None)\n",
            "  134809973530064: TensorSpec(shape=(), dtype=tf.resource, name=None)\n",
            "  134809973526016: TensorSpec(shape=(), dtype=tf.resource, name=None)\n",
            "  134809973527952: TensorSpec(shape=(), dtype=tf.resource, name=None)\n",
            "  134809973536224: TensorSpec(shape=(), dtype=tf.resource, name=None)\n",
            "  134809973535168: TensorSpec(shape=(), dtype=tf.resource, name=None)\n",
            "  134809973537632: TensorSpec(shape=(), dtype=tf.resource, name=None)\n",
            "  134809973524080: TensorSpec(shape=(), dtype=tf.resource, name=None)\n",
            "  134809973536400: TensorSpec(shape=(), dtype=tf.resource, name=None)\n",
            "  134809973525664: TensorSpec(shape=(), dtype=tf.resource, name=None)\n",
            "  134809973641232: TensorSpec(shape=(), dtype=tf.resource, name=None)\n",
            "  134809973641760: TensorSpec(shape=(), dtype=tf.resource, name=None)\n",
            "  134809973637888: TensorSpec(shape=(), dtype=tf.resource, name=None)\n",
            "  134809973641408: TensorSpec(shape=(), dtype=tf.resource, name=None)\n",
            "  134809973648272: TensorSpec(shape=(), dtype=tf.resource, name=None)\n",
            "  134809973647216: TensorSpec(shape=(), dtype=tf.resource, name=None)\n",
            "  134809973649856: TensorSpec(shape=(), dtype=tf.resource, name=None)\n",
            "  134809973638064: TensorSpec(shape=(), dtype=tf.resource, name=None)\n",
            "  134809973647744: TensorSpec(shape=(), dtype=tf.resource, name=None)\n",
            "  134809973652848: TensorSpec(shape=(), dtype=tf.resource, name=None)\n",
            "  134809973722096: TensorSpec(shape=(), dtype=tf.resource, name=None)\n",
            "  134809973720160: TensorSpec(shape=(), dtype=tf.resource, name=None)\n",
            "  134809973722624: TensorSpec(shape=(), dtype=tf.resource, name=None)\n",
            "  134809973722272: TensorSpec(shape=(), dtype=tf.resource, name=None)\n",
            "  134809973524256: TensorSpec(shape=(), dtype=tf.resource, name=None)\n",
            "  134809973728256: TensorSpec(shape=(), dtype=tf.resource, name=None)\n",
            "  134809973730720: TensorSpec(shape=(), dtype=tf.resource, name=None)\n",
            "  134809973726848: TensorSpec(shape=(), dtype=tf.resource, name=None)\n",
            "  134809973729488: TensorSpec(shape=(), dtype=tf.resource, name=None)\n",
            "  134809973733536: TensorSpec(shape=(), dtype=tf.resource, name=None)\n",
            "  134809973784816: TensorSpec(shape=(), dtype=tf.resource, name=None)\n",
            "  134809973784992: TensorSpec(shape=(), dtype=tf.resource, name=None)\n",
            "  134809973735120: TensorSpec(shape=(), dtype=tf.resource, name=None)\n",
            "  134809973786576: TensorSpec(shape=(), dtype=tf.resource, name=None)\n",
            "  134809973732304: TensorSpec(shape=(), dtype=tf.resource, name=None)\n",
            "  134809973792736: TensorSpec(shape=(), dtype=tf.resource, name=None)\n",
            "  134809973795200: TensorSpec(shape=(), dtype=tf.resource, name=None)\n",
            "  134809973791328: TensorSpec(shape=(), dtype=tf.resource, name=None)\n",
            "  134809973793968: TensorSpec(shape=(), dtype=tf.resource, name=None)\n",
            "  134809973784640: TensorSpec(shape=(), dtype=tf.resource, name=None)\n",
            "  134809973791680: TensorSpec(shape=(), dtype=tf.resource, name=None)\n",
            "  134809973796960: TensorSpec(shape=(), dtype=tf.resource, name=None)\n",
            "  134809973799248: TensorSpec(shape=(), dtype=tf.resource, name=None)\n",
            "  134809973867088: TensorSpec(shape=(), dtype=tf.resource, name=None)\n",
            "  134812294020816: TensorSpec(shape=(), dtype=tf.resource, name=None)\n",
            "  134812723411632: TensorSpec(shape=(), dtype=tf.resource, name=None)\n",
            "  134810018885200: TensorSpec(shape=(), dtype=tf.resource, name=None)\n",
            "  134811480704096: TensorSpec(shape=(), dtype=tf.resource, name=None)\n",
            "  134811483855808: TensorSpec(shape=(), dtype=tf.resource, name=None)\n",
            "  134809973875360: TensorSpec(shape=(), dtype=tf.resource, name=None)\n",
            "  134809973876064: TensorSpec(shape=(), dtype=tf.resource, name=None)\n",
            "  134809973877648: TensorSpec(shape=(), dtype=tf.resource, name=None)\n",
            "  134809973871488: TensorSpec(shape=(), dtype=tf.resource, name=None)\n",
            "  134809973875712: TensorSpec(shape=(), dtype=tf.resource, name=None)\n",
            "  134810017083136: TensorSpec(shape=(), dtype=tf.resource, name=None)\n",
            "  134809973875888: TensorSpec(shape=(), dtype=tf.resource, name=None)\n",
            "  134809973876416: TensorSpec(shape=(), dtype=tf.resource, name=None)\n",
            "  134809973879584: TensorSpec(shape=(), dtype=tf.resource, name=None)\n",
            "  134809973878352: TensorSpec(shape=(), dtype=tf.resource, name=None)\n",
            "  134809973881520: TensorSpec(shape=(), dtype=tf.resource, name=None)\n",
            "  134809973970848: TensorSpec(shape=(), dtype=tf.resource, name=None)\n",
            "  134809973973488: TensorSpec(shape=(), dtype=tf.resource, name=None)\n",
            "  134809973969440: TensorSpec(shape=(), dtype=tf.resource, name=None)\n",
            "  134809973971376: TensorSpec(shape=(), dtype=tf.resource, name=None)\n",
            "  134809973979648: TensorSpec(shape=(), dtype=tf.resource, name=None)\n",
            "  134809973978592: TensorSpec(shape=(), dtype=tf.resource, name=None)\n",
            "  134809973975072: TensorSpec(shape=(), dtype=tf.resource, name=None)\n",
            "  134809973967504: TensorSpec(shape=(), dtype=tf.resource, name=None)\n",
            "  134809973979824: TensorSpec(shape=(), dtype=tf.resource, name=None)\n",
            "  134809973871664: TensorSpec(shape=(), dtype=tf.resource, name=None)\n",
            "  134809974053296: TensorSpec(shape=(), dtype=tf.resource, name=None)\n",
            "  134809974054352: TensorSpec(shape=(), dtype=tf.resource, name=None)\n",
            "  134809974050480: TensorSpec(shape=(), dtype=tf.resource, name=None)\n",
            "  134809974053120: TensorSpec(shape=(), dtype=tf.resource, name=None)\n",
            "  134809974060336: TensorSpec(shape=(), dtype=tf.resource, name=None)\n",
            "  134809974059280: TensorSpec(shape=(), dtype=tf.resource, name=None)\n",
            "  134809974061920: TensorSpec(shape=(), dtype=tf.resource, name=None)\n",
            "  134809974050832: TensorSpec(shape=(), dtype=tf.resource, name=None)\n",
            "  134809974059808: TensorSpec(shape=(), dtype=tf.resource, name=None)\n",
            "  134809974055936: TensorSpec(shape=(), dtype=tf.resource, name=None)\n",
            "  134809974117776: TensorSpec(shape=(), dtype=tf.resource, name=None)\n",
            "  134809974118832: TensorSpec(shape=(), dtype=tf.resource, name=None)\n",
            "  134809974114960: TensorSpec(shape=(), dtype=tf.resource, name=None)\n",
            "  134809974117600: TensorSpec(shape=(), dtype=tf.resource, name=None)\n",
            "  134809973967680: TensorSpec(shape=(), dtype=tf.resource, name=None)\n",
            "  134809974123936: TensorSpec(shape=(), dtype=tf.resource, name=None)\n",
            "  134809974126400: TensorSpec(shape=(), dtype=tf.resource, name=None)\n",
            "  134809974122528: TensorSpec(shape=(), dtype=tf.resource, name=None)\n",
            "  134809974125168: TensorSpec(shape=(), dtype=tf.resource, name=None)\n",
            "  134809974122880: TensorSpec(shape=(), dtype=tf.resource, name=None)\n",
            "  134809974197232: TensorSpec(shape=(), dtype=tf.resource, name=None)\n",
            "  134809974199696: TensorSpec(shape=(), dtype=tf.resource, name=None)\n",
            "  134809974195120: TensorSpec(shape=(), dtype=tf.resource, name=None)\n",
            "  134809974198640: TensorSpec(shape=(), dtype=tf.resource, name=None)\n",
            "  134809974127984: TensorSpec(shape=(), dtype=tf.resource, name=None)\n",
            "  134809974204800: TensorSpec(shape=(), dtype=tf.resource, name=None)\n",
            "  134809974207264: TensorSpec(shape=(), dtype=tf.resource, name=None)\n",
            "  134809974203392: TensorSpec(shape=(), dtype=tf.resource, name=None)\n",
            "  134809974206032: TensorSpec(shape=(), dtype=tf.resource, name=None)\n",
            "  134809974195824: TensorSpec(shape=(), dtype=tf.resource, name=None)\n",
            "  134809974312272: TensorSpec(shape=(), dtype=tf.resource, name=None)\n",
            "  134809974309808: TensorSpec(shape=(), dtype=tf.resource, name=None)\n",
            "  134809974308928: TensorSpec(shape=(), dtype=tf.resource, name=None)\n",
            "  134809974312448: TensorSpec(shape=(), dtype=tf.resource, name=None)\n",
            "  134809974319312: TensorSpec(shape=(), dtype=tf.resource, name=None)\n",
            "  134809974318256: TensorSpec(shape=(), dtype=tf.resource, name=None)\n",
            "  134809974320896: TensorSpec(shape=(), dtype=tf.resource, name=None)\n",
            "  134809974309104: TensorSpec(shape=(), dtype=tf.resource, name=None)\n",
            "  134809974318784: TensorSpec(shape=(), dtype=tf.resource, name=None)\n",
            "  134809974323888: TensorSpec(shape=(), dtype=tf.resource, name=None)\n",
            "  134809974376752: TensorSpec(shape=(), dtype=tf.resource, name=None)\n",
            "  134809974374816: TensorSpec(shape=(), dtype=tf.resource, name=None)\n",
            "  134809974323008: TensorSpec(shape=(), dtype=tf.resource, name=None)\n",
            "  134809974376928: TensorSpec(shape=(), dtype=tf.resource, name=None)\n",
            "  134809974128160: TensorSpec(shape=(), dtype=tf.resource, name=None)\n",
            "  134809974381504: TensorSpec(shape=(), dtype=tf.resource, name=None)\n",
            "  134809974383968: TensorSpec(shape=(), dtype=tf.resource, name=None)\n",
            "  134809974380096: TensorSpec(shape=(), dtype=tf.resource, name=None)\n",
            "  134809974382736: TensorSpec(shape=(), dtype=tf.resource, name=None)\n",
            "  134809974389952: TensorSpec(shape=(), dtype=tf.resource, name=None)\n",
            "  134809974386432: TensorSpec(shape=(), dtype=tf.resource, name=None)\n",
            "  134809974386080: TensorSpec(shape=(), dtype=tf.resource, name=None)\n",
            "  134809974387136: TensorSpec(shape=(), dtype=tf.resource, name=None)\n",
            "  134809974390128: TensorSpec(shape=(), dtype=tf.resource, name=None)\n",
            "  134809974385552: TensorSpec(shape=(), dtype=tf.resource, name=None)\n",
            "  134809974447392: TensorSpec(shape=(), dtype=tf.resource, name=None)\n",
            "  134809974448448: TensorSpec(shape=(), dtype=tf.resource, name=None)\n",
            "  134809974444576: TensorSpec(shape=(), dtype=tf.resource, name=None)\n",
            "  134809974447216: TensorSpec(shape=(), dtype=tf.resource, name=None)\n",
            "  134809974315088: TensorSpec(shape=(), dtype=tf.resource, name=None)\n",
            "  134809974453552: TensorSpec(shape=(), dtype=tf.resource, name=None)\n",
            "  134809974456016: TensorSpec(shape=(), dtype=tf.resource, name=None)\n",
            "  134809974452144: TensorSpec(shape=(), dtype=tf.resource, name=None)\n",
            "  134809974454784: TensorSpec(shape=(), dtype=tf.resource, name=None)\n",
            "  134809974452496: TensorSpec(shape=(), dtype=tf.resource, name=None)\n",
            "  134809972462288: TensorSpec(shape=(), dtype=tf.resource, name=None)\n",
            "  134809972464928: TensorSpec(shape=(), dtype=tf.resource, name=None)\n",
            "  134809972460880: TensorSpec(shape=(), dtype=tf.resource, name=None)\n",
            "  134809972462816: TensorSpec(shape=(), dtype=tf.resource, name=None)\n",
            "  134809972471088: TensorSpec(shape=(), dtype=tf.resource, name=None)\n",
            "  134809972470032: TensorSpec(shape=(), dtype=tf.resource, name=None)\n",
            "  134809972472496: TensorSpec(shape=(), dtype=tf.resource, name=None)\n",
            "  134809972458944: TensorSpec(shape=(), dtype=tf.resource, name=None)\n",
            "  134809972471264: TensorSpec(shape=(), dtype=tf.resource, name=None)\n",
            "  134809974385728: TensorSpec(shape=(), dtype=tf.resource, name=None)\n",
            "  134809972577504: TensorSpec(shape=(), dtype=tf.resource, name=None)\n",
            "  134809972578560: TensorSpec(shape=(), dtype=tf.resource, name=None)\n",
            "  134809972574688: TensorSpec(shape=(), dtype=tf.resource, name=None)\n",
            "  134809972577328: TensorSpec(shape=(), dtype=tf.resource, name=None)\n",
            "  134809972585952: TensorSpec(shape=(), dtype=tf.resource, name=None)\n",
            "  134809972584896: TensorSpec(shape=(), dtype=tf.resource, name=None)\n",
            "  134809972587536: TensorSpec(shape=(), dtype=tf.resource, name=None)\n",
            "  134809972575040: TensorSpec(shape=(), dtype=tf.resource, name=None)\n",
            "  134809972585424: TensorSpec(shape=(), dtype=tf.resource, name=None)\n",
            "  134809972581552: TensorSpec(shape=(), dtype=tf.resource, name=None)\n",
            "  134809972643392: TensorSpec(shape=(), dtype=tf.resource, name=None)\n",
            "  134809972644448: TensorSpec(shape=(), dtype=tf.resource, name=None)\n",
            "  134809972640576: TensorSpec(shape=(), dtype=tf.resource, name=None)\n",
            "  134809972643216: TensorSpec(shape=(), dtype=tf.resource, name=None)\n",
            "  134809972459120: TensorSpec(shape=(), dtype=tf.resource, name=None)\n",
            "  134809972648144: TensorSpec(shape=(), dtype=tf.resource, name=None)\n",
            "  134809972650608: TensorSpec(shape=(), dtype=tf.resource, name=None)\n",
            "  134809972646736: TensorSpec(shape=(), dtype=tf.resource, name=None)\n",
            "  134809972649376: TensorSpec(shape=(), dtype=tf.resource, name=None)\n",
            "  134809972653424: TensorSpec(shape=(), dtype=tf.resource, name=None)\n",
            "  134809972737472: TensorSpec(shape=(), dtype=tf.resource, name=None)\n",
            "  134809972736592: TensorSpec(shape=(), dtype=tf.resource, name=None)\n",
            "  134809972739760: TensorSpec(shape=(), dtype=tf.resource, name=None)\n",
            "  134809972739232: TensorSpec(shape=(), dtype=tf.resource, name=None)\n",
            "  134809972652192: TensorSpec(shape=(), dtype=tf.resource, name=None)\n",
            "  134809972745392: TensorSpec(shape=(), dtype=tf.resource, name=None)\n",
            "  134809972747856: TensorSpec(shape=(), dtype=tf.resource, name=None)\n",
            "  134809972743984: TensorSpec(shape=(), dtype=tf.resource, name=None)\n",
            "  134809972746624: TensorSpec(shape=(), dtype=tf.resource, name=None)\n",
            "  134809972736240: TensorSpec(shape=(), dtype=tf.resource, name=None)\n",
            "  134809972836480: TensorSpec(shape=(), dtype=tf.resource, name=None)\n",
            "  134809972834544: TensorSpec(shape=(), dtype=tf.resource, name=None)\n",
            "  134809972751904: TensorSpec(shape=(), dtype=tf.resource, name=None)\n",
            "  134809972836656: TensorSpec(shape=(), dtype=tf.resource, name=None)\n",
            "  134809972843520: TensorSpec(shape=(), dtype=tf.resource, name=None)\n",
            "  134809972842464: TensorSpec(shape=(), dtype=tf.resource, name=None)\n",
            "  134809972845104: TensorSpec(shape=(), dtype=tf.resource, name=None)\n",
            "  134809972837008: TensorSpec(shape=(), dtype=tf.resource, name=None)\n",
            "  134809972842992: TensorSpec(shape=(), dtype=tf.resource, name=None)\n",
            "  134809972848096: TensorSpec(shape=(), dtype=tf.resource, name=None)\n",
            "  134809972884576: TensorSpec(shape=(), dtype=tf.resource, name=None)\n",
            "  134809972846864: TensorSpec(shape=(), dtype=tf.resource, name=None)\n",
            "  134809972849152: TensorSpec(shape=(), dtype=tf.resource, name=None)\n",
            "  134809972883520: TensorSpec(shape=(), dtype=tf.resource, name=None)\n",
            "  134809972652368: TensorSpec(shape=(), dtype=tf.resource, name=None)\n",
            "  134809972892144: TensorSpec(shape=(), dtype=tf.resource, name=None)\n",
            "  134809972893200: TensorSpec(shape=(), dtype=tf.resource, name=None)\n",
            "  134809972889328: TensorSpec(shape=(), dtype=tf.resource, name=None)\n",
            "  134809972891968: TensorSpec(shape=(), dtype=tf.resource, name=None)\n",
            "  134809972899184: TensorSpec(shape=(), dtype=tf.resource, name=None)\n",
            "  134809972895664: TensorSpec(shape=(), dtype=tf.resource, name=None)\n",
            "  134809972895312: TensorSpec(shape=(), dtype=tf.resource, name=None)\n",
            "  134809972896368: TensorSpec(shape=(), dtype=tf.resource, name=None)\n",
            "  134809972895136: TensorSpec(shape=(), dtype=tf.resource, name=None)\n",
            "  134809972894784: TensorSpec(shape=(), dtype=tf.resource, name=None)\n",
            "  134809973005776: TensorSpec(shape=(), dtype=tf.resource, name=None)\n",
            "  134809973006832: TensorSpec(shape=(), dtype=tf.resource, name=None)\n",
            "  134809973002960: TensorSpec(shape=(), dtype=tf.resource, name=None)\n",
            "  134809973005600: TensorSpec(shape=(), dtype=tf.resource, name=None)\n",
            "  134809972839296: TensorSpec(shape=(), dtype=tf.resource, name=None)\n",
            "  134809973010704: TensorSpec(shape=(), dtype=tf.resource, name=None)\n",
            "  134809973013168: TensorSpec(shape=(), dtype=tf.resource, name=None)\n",
            "  134809973009296: TensorSpec(shape=(), dtype=tf.resource, name=None)\n",
            "  134809973011936: TensorSpec(shape=(), dtype=tf.resource, name=None)\n",
            "  134809973242896: TensorSpec(shape=(), dtype=tf.resource, name=None)\n",
            "  134809973243600: TensorSpec(shape=(), dtype=tf.resource, name=None)\n",
            "  134809971445424: TensorSpec(shape=(), dtype=tf.resource, name=None)\n",
            "  134809971442784: TensorSpec(shape=(), dtype=tf.resource, name=None)\n",
            "  134809971443488: TensorSpec(shape=(), dtype=tf.resource, name=None)\n",
            "  134809971444192: TensorSpec(shape=(), dtype=tf.resource, name=None)\n",
            "  134809971449120: TensorSpec(shape=(), dtype=tf.resource, name=None)\n",
            "  134809971450000: TensorSpec(shape=(), dtype=tf.resource, name=None)\n",
            "  134809971455280: TensorSpec(shape=(), dtype=tf.resource, name=None)\n",
            "  134809971455984: TensorSpec(shape=(), dtype=tf.resource, name=None)\n",
            "Model training and conversion completed successfully!\n"
          ]
        }
      ]
    },
    {
      "cell_type": "code",
      "source": [
        "val_loss, val_accuracy = model3.evaluate(val_generator, verbose=1)\n",
        "print(f\"Validation Loss: {val_loss}\")\n",
        "print(f\"Validation Accuracy: {val_accuracy}\")"
      ],
      "metadata": {
        "colab": {
          "base_uri": "https://localhost:8080/"
        },
        "id": "4-wa2w4nl73X",
        "outputId": "b464f8ae-74fd-410d-ba67-d4eaeefe1247"
      },
      "execution_count": null,
      "outputs": [
        {
          "output_type": "stream",
          "name": "stdout",
          "text": [
            "\u001b[1m11/11\u001b[0m \u001b[32m━━━━━━━━━━━━━━━━━━━━\u001b[0m\u001b[37m\u001b[0m \u001b[1m23s\u001b[0m 2s/step - accuracy: 0.5530 - loss: 0.7674\n",
            "Validation Loss: 0.7680073976516724\n",
            "Validation Accuracy: 0.5380116701126099\n"
          ]
        }
      ]
    },
    {
      "cell_type": "code",
      "source": [
        "# Generate predictions\n",
        "val_generator.reset()\n",
        "predictions = model3.predict(val_generator, verbose=1)\n",
        "predicted_classes = (predictions > 0.5).astype(\"int32\").flatten()\n",
        "true_classes = val_generator.classes"
      ],
      "metadata": {
        "colab": {
          "base_uri": "https://localhost:8080/"
        },
        "id": "L2jLAQVsmPU6",
        "outputId": "0f3b5279-8f8b-4afa-f7c3-b4d537b1937b"
      },
      "execution_count": null,
      "outputs": [
        {
          "output_type": "stream",
          "name": "stdout",
          "text": [
            "\u001b[1m11/11\u001b[0m \u001b[32m━━━━━━━━━━━━━━━━━━━━\u001b[0m\u001b[37m\u001b[0m \u001b[1m19s\u001b[0m 2s/step\n"
          ]
        }
      ]
    },
    {
      "cell_type": "code",
      "source": [
        "# Classification report\n",
        "# Import the classification_report function\n",
        "from sklearn.metrics import classification_report\n",
        "\n",
        "report = classification_report(true_classes, predicted_classes, target_names=[\"Real\", \"Deepfake\"], digits=4)\n",
        "print(\"\\nClassification Report:\\n\", report)"
      ],
      "metadata": {
        "colab": {
          "base_uri": "https://localhost:8080/"
        },
        "id": "m3pop-_wmZE_",
        "outputId": "b2f337cd-1cdf-4c11-8c70-2213869df6b5"
      },
      "execution_count": null,
      "outputs": [
        {
          "output_type": "stream",
          "name": "stdout",
          "text": [
            "\n",
            "Classification Report:\n",
            "               precision    recall  f1-score   support\n",
            "\n",
            "        Real     0.4789    0.8608    0.6154       158\n",
            "    Deepfake     0.6207    0.1957    0.2975       184\n",
            "\n",
            "    accuracy                         0.5029       342\n",
            "   macro avg     0.5498    0.5282    0.4565       342\n",
            "weighted avg     0.5552    0.5029    0.4444       342\n",
            "\n"
          ]
        }
      ]
    },
    {
      "cell_type": "code",
      "source": [
        "# Confusion matrix\n",
        "from sklearn.metrics import confusion_matrix\n",
        "import matplotlib.pyplot as plt\n",
        "import seaborn as sns\n",
        "\n",
        "cm = confusion_matrix(true_classes, predicted_classes)\n",
        "plt.figure(figsize=(8, 6))\n",
        "sns.heatmap(cm, annot=True, fmt=\"d\", cmap=\"Blues\", xticklabels=[\"Real\", \"Deepfake\"], yticklabels=[\"Real\", \"Deepfake\"])\n",
        "plt.xlabel(\"Predicted\")\n",
        "plt.ylabel(\"Actual\")\n",
        "plt.title(\"Confusion Matrix\")\n",
        "plt.show()"
      ],
      "metadata": {
        "colab": {
          "base_uri": "https://localhost:8080/",
          "height": 564
        },
        "id": "PskgPJf5mpw3",
        "outputId": "2003b7df-85f3-4068-ef19-06f548110446"
      },
      "execution_count": null,
      "outputs": [
        {
          "output_type": "display_data",
          "data": {
            "text/plain": [
              "<Figure size 800x600 with 2 Axes>"
            ],
            "image/png": "[encoded data removed]"
          },
          "metadata": {}
        }
      ]
    },
    {
      "cell_type": "markdown",
      "source": [
        "# Current Final Model Training"
      ],
      "metadata": {
        "id": "_BMnpIvp06ml"
      }
    },
    {
      "cell_type": "code",
      "source": [
        "#3rd model on 1862 imgs\n",
        "model4 = Model(inputs=base_model.input, outputs=predictions)"
      ],
      "metadata": {
        "id": "pHkAtW6VSGb7"
      },
      "execution_count": null,
      "outputs": []
    },
    {
      "cell_type": "code",
      "source": [
        "# Compile the model(3rd)\n",
        "model4.compile(optimizer=Adam(learning_rate=LEARNING_RATE), loss=\"binary_crossentropy\", metrics=[\"accuracy\"])"
      ],
      "metadata": {
        "id": "tgVuXyMWeALo"
      },
      "execution_count": null,
      "outputs": []
    },
    {
      "cell_type": "code",
      "source": [
        "history_fine = model4.fit(\n",
        "    train_generator,\n",
        "    validation_data=val_generator,\n",
        "    epochs=EPOCHS,\n",
        "    steps_per_epoch=train_generator.n // BATCH_SIZE,\n",
        "    validation_steps=val_generator.n // BATCH_SIZE\n",
        ")"
      ],
      "metadata": {
        "colab": {
          "base_uri": "https://localhost:8080/"
        },
        "id": "a3MLHX0DeDcC",
        "outputId": "14a93bc0-7b20-44c2-815e-32baf683c14e"
      },
      "execution_count": null,
      "outputs": [
        {
          "output_type": "stream",
          "name": "stdout",
          "text": [
            "Epoch 1/10\n"
          ]
        },
        {
          "output_type": "stream",
          "name": "stderr",
          "text": [
            "/usr/local/lib/python3.10/dist-packages/keras/src/trainers/data_adapters/py_dataset_adapter.py:122: UserWarning: Your `PyDataset` class should call `super().__init__(**kwargs)` in its constructor. `**kwargs` can include `workers`, `use_multiprocessing`, `max_queue_size`. Do not pass these arguments to `fit()`, as they will be ignored.\n",
            "  self._warn_if_super_not_called()\n"
          ]
        },
        {
          "output_type": "stream",
          "name": "stdout",
          "text": [
            "\u001b[1m58/58\u001b[0m \u001b[32m━━━━━━━━━━━━━━━━━━━━\u001b[0m\u001b[37m\u001b[0m \u001b[1m396s\u001b[0m 6s/step - accuracy: 0.5331 - loss: 0.9300 - val_accuracy: 0.5039 - val_loss: 1.0776\n",
            "Epoch 2/10\n",
            "\u001b[1m 1/58\u001b[0m \u001b[37m━━━━━━━━━━━━━━━━━━━━\u001b[0m \u001b[1m1:18\u001b[0m 1s/step - accuracy: 0.5000 - loss: 0.9302"
          ]
        },
        {
          "output_type": "stream",
          "name": "stderr",
          "text": [
            "/usr/lib/python3.10/contextlib.py:153: UserWarning: Your input ran out of data; interrupting training. Make sure that your dataset or generator can generate at least `steps_per_epoch * epochs` batches. You may need to use the `.repeat()` function when building your dataset.\n",
            "  self.gen.throw(typ, value, traceback)\n"
          ]
        },
        {
          "output_type": "stream",
          "name": "stdout",
          "text": [
            "\b\b\b\b\b\b\b\b\b\b\b\b\b\b\b\b\b\b\b\b\b\b\b\b\b\b\b\b\b\b\b\b\b\b\b\b\b\b\b\b\b\b\b\b\b\b\b\b\b\b\b\b\b\b\b\b\b\b\b\b\b\b\b\b\b\b\b\b\b\b\b\b\b\r\u001b[1m58/58\u001b[0m \u001b[32m━━━━━━━━━━━━━━━━━━━━\u001b[0m\u001b[37m\u001b[0m \u001b[1m47s\u001b[0m 806ms/step - accuracy: 0.5000 - loss: 0.9302 - val_accuracy: 0.6333 - val_loss: 1.1039\n",
            "Epoch 3/10\n",
            "\u001b[1m58/58\u001b[0m \u001b[32m━━━━━━━━━━━━━━━━━━━━\u001b[0m\u001b[37m\u001b[0m \u001b[1m160s\u001b[0m 3s/step - accuracy: 0.5585 - loss: 0.7798 - val_accuracy: 0.5104 - val_loss: 0.9748\n",
            "Epoch 4/10\n",
            "\u001b[1m58/58\u001b[0m \u001b[32m━━━━━━━━━━━━━━━━━━━━\u001b[0m\u001b[37m\u001b[0m \u001b[1m2s\u001b[0m 19ms/step - accuracy: 0.3438 - loss: 0.9485 - val_accuracy: 0.5000 - val_loss: 1.0917\n",
            "Epoch 5/10\n",
            "\u001b[1m58/58\u001b[0m \u001b[32m━━━━━━━━━━━━━━━━━━━━\u001b[0m\u001b[37m\u001b[0m \u001b[1m202s\u001b[0m 3s/step - accuracy: 0.5587 - loss: 0.7113 - val_accuracy: 0.5951 - val_loss: 0.7370\n",
            "Epoch 6/10\n",
            "\u001b[1m58/58\u001b[0m \u001b[32m━━━━━━━━━━━━━━━━━━━━\u001b[0m\u001b[37m\u001b[0m \u001b[1m3s\u001b[0m 38ms/step - accuracy: 0.7188 - loss: 0.5223 - val_accuracy: 0.4333 - val_loss: 0.8515\n",
            "Epoch 7/10\n",
            "\u001b[1m58/58\u001b[0m \u001b[32m━━━━━━━━━━━━━━━━━━━━\u001b[0m\u001b[37m\u001b[0m \u001b[1m198s\u001b[0m 3s/step - accuracy: 0.5423 - loss: 0.7491 - val_accuracy: 0.5065 - val_loss: 0.7279\n",
            "Epoch 8/10\n",
            "\u001b[1m58/58\u001b[0m \u001b[32m━━━━━━━━━━━━━━━━━━━━\u001b[0m\u001b[37m\u001b[0m \u001b[1m4s\u001b[0m 35ms/step - accuracy: 0.5938 - loss: 0.7312 - val_accuracy: 0.5333 - val_loss: 0.7821\n",
            "Epoch 9/10\n",
            "\u001b[1m58/58\u001b[0m \u001b[32m━━━━━━━━━━━━━━━━━━━━\u001b[0m\u001b[37m\u001b[0m \u001b[1m199s\u001b[0m 3s/step - accuracy: 0.5968 - loss: 0.6805 - val_accuracy: 0.5482 - val_loss: 0.7067\n",
            "Epoch 10/10\n",
            "\u001b[1m58/58\u001b[0m \u001b[32m━━━━━━━━━━━━━━━━━━━━\u001b[0m\u001b[37m\u001b[0m \u001b[1m3s\u001b[0m 21ms/step - accuracy: 0.5938 - loss: 0.6866 - val_accuracy: 0.6000 - val_loss: 0.6324\n"
          ]
        }
      ]
    },
    {
      "cell_type": "code",
      "source": [
        "# Fine-tuning: Unfreeze some layers of the base model and train further\n",
        "for layer in base_model.layers[-30:]:  # Unfreeze the last 30 layers\n",
        "    layer.trainable = True\n",
        "\n",
        "model4.compile(optimizer=Adam(learning_rate=LEARNING_RATE / 10), loss=\"binary_crossentropy\", metrics=[\"accuracy\"])\n",
        "\n",
        "# Train again for fine-tuning\n",
        "history_fine = model4.fit(\n",
        "    train_generator,\n",
        "    validation_data=val_generator,\n",
        "    epochs=EPOCHS,\n",
        "    steps_per_epoch=train_generator.n // BATCH_SIZE,\n",
        "    validation_steps=val_generator.n // BATCH_SIZE\n",
        ")\n"
      ],
      "metadata": {
        "colab": {
          "base_uri": "https://localhost:8080/"
        },
        "id": "NKPC7KmFeF0N",
        "outputId": "007b2ee1-15d8-4cde-956b-ba8cb66ab618"
      },
      "execution_count": null,
      "outputs": [
        {
          "output_type": "stream",
          "name": "stdout",
          "text": [
            "Epoch 1/10\n",
            "\u001b[1m58/58\u001b[0m \u001b[32m━━━━━━━━━━━━━━━━━━━━\u001b[0m\u001b[37m\u001b[0m \u001b[1m196s\u001b[0m 3s/step - accuracy: 0.5377 - loss: 0.7284 - val_accuracy: 0.5234 - val_loss: 0.7837\n",
            "Epoch 2/10\n",
            "\u001b[1m58/58\u001b[0m \u001b[32m━━━━━━━━━━━━━━━━━━━━\u001b[0m\u001b[37m\u001b[0m \u001b[1m5s\u001b[0m 41ms/step - accuracy: 0.5938 - loss: 0.6507 - val_accuracy: 0.5000 - val_loss: 0.8574\n",
            "Epoch 3/10\n",
            "\u001b[1m58/58\u001b[0m \u001b[32m━━━━━━━━━━━━━━━━━━━━\u001b[0m\u001b[37m\u001b[0m \u001b[1m183s\u001b[0m 3s/step - accuracy: 0.6252 - loss: 0.6348 - val_accuracy: 0.5833 - val_loss: 0.7077\n",
            "Epoch 4/10\n",
            "\u001b[1m58/58\u001b[0m \u001b[32m━━━━━━━━━━━━━━━━━━━━\u001b[0m\u001b[37m\u001b[0m \u001b[1m4s\u001b[0m 37ms/step - accuracy: 0.6250 - loss: 0.6509 - val_accuracy: 0.5667 - val_loss: 0.7617\n",
            "Epoch 5/10\n",
            "\u001b[1m58/58\u001b[0m \u001b[32m━━━━━━━━━━━━━━━━━━━━\u001b[0m\u001b[37m\u001b[0m \u001b[1m197s\u001b[0m 3s/step - accuracy: 0.6706 - loss: 0.5804 - val_accuracy: 0.6380 - val_loss: 0.6496\n",
            "Epoch 6/10\n",
            "\u001b[1m58/58\u001b[0m \u001b[32m━━━━━━━━━━━━━━━━━━━━\u001b[0m\u001b[37m\u001b[0m \u001b[1m3s\u001b[0m 21ms/step - accuracy: 0.5625 - loss: 0.7161 - val_accuracy: 0.5667 - val_loss: 0.6989\n",
            "Epoch 7/10\n",
            "\u001b[1m58/58\u001b[0m \u001b[32m━━━━━━━━━━━━━━━━━━━━\u001b[0m\u001b[37m\u001b[0m \u001b[1m183s\u001b[0m 3s/step - accuracy: 0.7034 - loss: 0.5588 - val_accuracy: 0.5924 - val_loss: 0.7926\n",
            "Epoch 8/10\n",
            "\u001b[1m58/58\u001b[0m \u001b[32m━━━━━━━━━━━━━━━━━━━━\u001b[0m\u001b[37m\u001b[0m \u001b[1m3s\u001b[0m 23ms/step - accuracy: 0.6875 - loss: 0.6625 - val_accuracy: 0.6000 - val_loss: 0.7175\n",
            "Epoch 9/10\n",
            "\u001b[1m58/58\u001b[0m \u001b[32m━━━━━━━━━━━━━━━━━━━━\u001b[0m\u001b[37m\u001b[0m \u001b[1m183s\u001b[0m 3s/step - accuracy: 0.7210 - loss: 0.5090 - val_accuracy: 0.5690 - val_loss: 0.8214\n",
            "Epoch 10/10\n",
            "\u001b[1m58/58\u001b[0m \u001b[32m━━━━━━━━━━━━━━━━━━━━\u001b[0m\u001b[37m\u001b[0m \u001b[1m42s\u001b[0m 683ms/step - accuracy: 0.7500 - loss: 0.4073 - val_accuracy: 0.7000 - val_loss: 0.5832\n"
          ]
        }
      ]
    },
    {
      "cell_type": "code",
      "source": [
        "# Convert to TensorFlow Lite for mobile integration\n",
        "converter = tf.lite.TFLiteConverter.from_keras_model(model4)\n",
        "tflite_model = converter.convert()\n",
        "\n",
        "# Save the TFLite model\n",
        "with open(\"/content/drive/MyDrive/deepfake_detector_model4.tflite\", \"wb\") as f:\n",
        "    f.write(tflite_model)\n",
        "\n",
        "print(\"Model training and conversion completed successfully!\")"
      ],
      "metadata": {
        "colab": {
          "base_uri": "https://localhost:8080/"
        },
        "collapsed": true,
        "id": "9KZiIbREeLD_",
        "outputId": "ff1e0433-2a84-4583-a788-472811c43284"
      },
      "execution_count": null,
      "outputs": [
        {
          "output_type": "stream",
          "name": "stdout",
          "text": [
            "Saved artifact at '/tmp/tmpychexv37'. The following endpoints are available:\n",
            "\n",
            "* Endpoint 'serve'\n",
            "  args_0 (POSITIONAL_ONLY): TensorSpec(shape=(None, 224, 224, 3), dtype=tf.float32, name='keras_tensor_166')\n",
            "Output Type:\n",
            "  TensorSpec(shape=(None, 1), dtype=tf.float32, name=None)\n",
            "Captures:\n",
            "  134812523994224: TensorSpec(shape=(), dtype=tf.resource, name=None)\n",
            "  134812310916080: TensorSpec(shape=(), dtype=tf.resource, name=None)\n",
            "  134809612543152: TensorSpec(shape=(), dtype=tf.resource, name=None)\n",
            "  134809535970496: TensorSpec(shape=(), dtype=tf.resource, name=None)\n",
            "  134809535757328: TensorSpec(shape=(), dtype=tf.resource, name=None)\n",
            "  134809535962224: TensorSpec(shape=(), dtype=tf.resource, name=None)\n",
            "  134809536107040: TensorSpec(shape=(), dtype=tf.resource, name=None)\n",
            "  134809536116016: TensorSpec(shape=(), dtype=tf.resource, name=None)\n",
            "  134809536112496: TensorSpec(shape=(), dtype=tf.resource, name=None)\n",
            "  134809536118304: TensorSpec(shape=(), dtype=tf.resource, name=None)\n",
            "  134809536105632: TensorSpec(shape=(), dtype=tf.resource, name=None)\n",
            "  134809536108272: TensorSpec(shape=(), dtype=tf.resource, name=None)\n",
            "  134809536104224: TensorSpec(shape=(), dtype=tf.resource, name=None)\n",
            "  134809536113376: TensorSpec(shape=(), dtype=tf.resource, name=None)\n",
            "  134809536102464: TensorSpec(shape=(), dtype=tf.resource, name=None)\n",
            "  134809535956592: TensorSpec(shape=(), dtype=tf.resource, name=None)\n",
            "  134809536105808: TensorSpec(shape=(), dtype=tf.resource, name=None)\n",
            "  134809614771200: TensorSpec(shape=(), dtype=tf.resource, name=None)\n",
            "  134809617317056: TensorSpec(shape=(), dtype=tf.resource, name=None)\n",
            "  134809614776480: TensorSpec(shape=(), dtype=tf.resource, name=None)\n",
            "  134810468613840: TensorSpec(shape=(), dtype=tf.resource, name=None)\n",
            "  134809678942752: TensorSpec(shape=(), dtype=tf.resource, name=None)\n",
            "  134809678948384: TensorSpec(shape=(), dtype=tf.resource, name=None)\n",
            "  134809678953488: TensorSpec(shape=(), dtype=tf.resource, name=None)\n",
            "  134809678952784: TensorSpec(shape=(), dtype=tf.resource, name=None)\n",
            "  134809678946448: TensorSpec(shape=(), dtype=tf.resource, name=None)\n",
            "  134809678426384: TensorSpec(shape=(), dtype=tf.resource, name=None)\n",
            "  134809678424272: TensorSpec(shape=(), dtype=tf.resource, name=None)\n",
            "  134809678428848: TensorSpec(shape=(), dtype=tf.resource, name=None)\n",
            "  134809678426736: TensorSpec(shape=(), dtype=tf.resource, name=None)\n",
            "  134809678418640: TensorSpec(shape=(), dtype=tf.resource, name=None)\n",
            "  134809678415296: TensorSpec(shape=(), dtype=tf.resource, name=None)\n",
            "  134809678415824: TensorSpec(shape=(), dtype=tf.resource, name=None)\n",
            "  134809678422512: TensorSpec(shape=(), dtype=tf.resource, name=None)\n",
            "  134809678418288: TensorSpec(shape=(), dtype=tf.resource, name=None)\n",
            "  134809678421808: TensorSpec(shape=(), dtype=tf.resource, name=None)\n",
            "  134809679979168: TensorSpec(shape=(), dtype=tf.resource, name=None)\n",
            "  134809679974240: TensorSpec(shape=(), dtype=tf.resource, name=None)\n",
            "  134809679982336: TensorSpec(shape=(), dtype=tf.resource, name=None)\n",
            "  134809679985680: TensorSpec(shape=(), dtype=tf.resource, name=None)\n",
            "  134809679976528: TensorSpec(shape=(), dtype=tf.resource, name=None)\n",
            "  134809679977584: TensorSpec(shape=(), dtype=tf.resource, name=None)\n",
            "  134809679973712: TensorSpec(shape=(), dtype=tf.resource, name=None)\n",
            "  134809679981632: TensorSpec(shape=(), dtype=tf.resource, name=None)\n",
            "  134809679976176: TensorSpec(shape=(), dtype=tf.resource, name=None)\n",
            "  134809700803584: TensorSpec(shape=(), dtype=tf.resource, name=None)\n",
            "  134809679231488: TensorSpec(shape=(), dtype=tf.resource, name=None)\n",
            "  134809679230432: TensorSpec(shape=(), dtype=tf.resource, name=None)\n",
            "  134809679228144: TensorSpec(shape=(), dtype=tf.resource, name=None)\n",
            "  134809679221104: TensorSpec(shape=(), dtype=tf.resource, name=None)\n",
            "  134809679219168: TensorSpec(shape=(), dtype=tf.resource, name=None)\n",
            "  134809679218112: TensorSpec(shape=(), dtype=tf.resource, name=None)\n",
            "  134809679217584: TensorSpec(shape=(), dtype=tf.resource, name=None)\n",
            "  134809679227264: TensorSpec(shape=(), dtype=tf.resource, name=None)\n",
            "  134809679224272: TensorSpec(shape=(), dtype=tf.resource, name=None)\n",
            "  134809679229904: TensorSpec(shape=(), dtype=tf.resource, name=None)\n",
            "  134809680779168: TensorSpec(shape=(), dtype=tf.resource, name=None)\n",
            "  134809680785680: TensorSpec(shape=(), dtype=tf.resource, name=None)\n",
            "  134809680788320: TensorSpec(shape=(), dtype=tf.resource, name=None)\n",
            "  134809680777760: TensorSpec(shape=(), dtype=tf.resource, name=None)\n",
            "  134809680774592: TensorSpec(shape=(), dtype=tf.resource, name=None)\n",
            "  134809680781456: TensorSpec(shape=(), dtype=tf.resource, name=None)\n",
            "  134809680778640: TensorSpec(shape=(), dtype=tf.resource, name=None)\n",
            "  134809680784272: TensorSpec(shape=(), dtype=tf.resource, name=None)\n",
            "  134809680781104: TensorSpec(shape=(), dtype=tf.resource, name=None)\n",
            "  134810470220368: TensorSpec(shape=(), dtype=tf.resource, name=None)\n",
            "  134809680773712: TensorSpec(shape=(), dtype=tf.resource, name=None)\n",
            "  134809680774416: TensorSpec(shape=(), dtype=tf.resource, name=None)\n",
            "  134809680776176: TensorSpec(shape=(), dtype=tf.resource, name=None)\n",
            "  134809684183344: TensorSpec(shape=(), dtype=tf.resource, name=None)\n",
            "  134809680775472: TensorSpec(shape=(), dtype=tf.resource, name=None)\n",
            "  134809684185984: TensorSpec(shape=(), dtype=tf.resource, name=None)\n",
            "  134809684192144: TensorSpec(shape=(), dtype=tf.resource, name=None)\n",
            "  134809684183520: TensorSpec(shape=(), dtype=tf.resource, name=None)\n",
            "  134809684194960: TensorSpec(shape=(), dtype=tf.resource, name=None)\n",
            "  134809684184048: TensorSpec(shape=(), dtype=tf.resource, name=None)\n",
            "  134809691918000: TensorSpec(shape=(), dtype=tf.resource, name=None)\n",
            "  134809691918528: TensorSpec(shape=(), dtype=tf.resource, name=None)\n",
            "  134809701217056: TensorSpec(shape=(), dtype=tf.resource, name=None)\n",
            "  134809691923984: TensorSpec(shape=(), dtype=tf.resource, name=None)\n",
            "  134809701218464: TensorSpec(shape=(), dtype=tf.resource, name=None)\n",
            "  134809699067408: TensorSpec(shape=(), dtype=tf.resource, name=None)\n",
            "  134809699069872: TensorSpec(shape=(), dtype=tf.resource, name=None)\n",
            "  134810468933072: TensorSpec(shape=(), dtype=tf.resource, name=None)\n",
            "  134809699063712: TensorSpec(shape=(), dtype=tf.resource, name=None)\n",
            "  134809699072160: TensorSpec(shape=(), dtype=tf.resource, name=None)\n",
            "  134809699069168: TensorSpec(shape=(), dtype=tf.resource, name=None)\n",
            "  134809699063184: TensorSpec(shape=(), dtype=tf.resource, name=None)\n",
            "  134809699065472: TensorSpec(shape=(), dtype=tf.resource, name=None)\n",
            "  134809699065296: TensorSpec(shape=(), dtype=tf.resource, name=None)\n",
            "  134809680775120: TensorSpec(shape=(), dtype=tf.resource, name=None)\n",
            "  134809684384352: TensorSpec(shape=(), dtype=tf.resource, name=None)\n",
            "  134809684385408: TensorSpec(shape=(), dtype=tf.resource, name=None)\n",
            "  134809684391216: TensorSpec(shape=(), dtype=tf.resource, name=None)\n",
            "  134809684385056: TensorSpec(shape=(), dtype=tf.resource, name=None)\n",
            "  134809684388752: TensorSpec(shape=(), dtype=tf.resource, name=None)\n",
            "  134809684388928: TensorSpec(shape=(), dtype=tf.resource, name=None)\n",
            "  134809684382944: TensorSpec(shape=(), dtype=tf.resource, name=None)\n",
            "  134809684390512: TensorSpec(shape=(), dtype=tf.resource, name=None)\n",
            "  134809684387168: TensorSpec(shape=(), dtype=tf.resource, name=None)\n",
            "  134809684381888: TensorSpec(shape=(), dtype=tf.resource, name=None)\n",
            "  134809699816496: TensorSpec(shape=(), dtype=tf.resource, name=None)\n",
            "  134809699814384: TensorSpec(shape=(), dtype=tf.resource, name=None)\n",
            "  134809663488064: TensorSpec(shape=(), dtype=tf.resource, name=None)\n",
            "  134809699823888: TensorSpec(shape=(), dtype=tf.resource, name=None)\n",
            "  134810468938352: TensorSpec(shape=(), dtype=tf.resource, name=None)\n",
            "  134809699824064: TensorSpec(shape=(), dtype=tf.resource, name=None)\n",
            "  134809699822480: TensorSpec(shape=(), dtype=tf.resource, name=None)\n",
            "  134809699815968: TensorSpec(shape=(), dtype=tf.resource, name=None)\n",
            "  134809744214672: TensorSpec(shape=(), dtype=tf.resource, name=None)\n",
            "  134809744224352: TensorSpec(shape=(), dtype=tf.resource, name=None)\n",
            "  134809536345744: TensorSpec(shape=(), dtype=tf.resource, name=None)\n",
            "  134809536347152: TensorSpec(shape=(), dtype=tf.resource, name=None)\n",
            "  134809536340464: TensorSpec(shape=(), dtype=tf.resource, name=None)\n",
            "  134809536345568: TensorSpec(shape=(), dtype=tf.resource, name=None)\n",
            "  134809536331840: TensorSpec(shape=(), dtype=tf.resource, name=None)\n",
            "  134809536337648: TensorSpec(shape=(), dtype=tf.resource, name=None)\n",
            "  134809536343632: TensorSpec(shape=(), dtype=tf.resource, name=None)\n",
            "  134809536333952: TensorSpec(shape=(), dtype=tf.resource, name=None)\n",
            "  134809536336592: TensorSpec(shape=(), dtype=tf.resource, name=None)\n",
            "  134809684383824: TensorSpec(shape=(), dtype=tf.resource, name=None)\n",
            "  134809536401248: TensorSpec(shape=(), dtype=tf.resource, name=None)\n",
            "  134809536398608: TensorSpec(shape=(), dtype=tf.resource, name=None)\n",
            "  134809536410752: TensorSpec(shape=(), dtype=tf.resource, name=None)\n",
            "  134809536400368: TensorSpec(shape=(), dtype=tf.resource, name=None)\n",
            "  134809536404592: TensorSpec(shape=(), dtype=tf.resource, name=None)\n",
            "  134809536400016: TensorSpec(shape=(), dtype=tf.resource, name=None)\n",
            "  134809536410928: TensorSpec(shape=(), dtype=tf.resource, name=None)\n",
            "  134809536408288: TensorSpec(shape=(), dtype=tf.resource, name=None)\n",
            "  134809536398960: TensorSpec(shape=(), dtype=tf.resource, name=None)\n",
            "  134809536403008: TensorSpec(shape=(), dtype=tf.resource, name=None)\n",
            "  134809534534704: TensorSpec(shape=(), dtype=tf.resource, name=None)\n",
            "  134809534534352: TensorSpec(shape=(), dtype=tf.resource, name=None)\n",
            "  134809534531360: TensorSpec(shape=(), dtype=tf.resource, name=None)\n",
            "  134809534534528: TensorSpec(shape=(), dtype=tf.resource, name=None)\n",
            "  134809534541920: TensorSpec(shape=(), dtype=tf.resource, name=None)\n",
            "  134809534540864: TensorSpec(shape=(), dtype=tf.resource, name=None)\n",
            "  134809534543328: TensorSpec(shape=(), dtype=tf.resource, name=None)\n",
            "  134809534539456: TensorSpec(shape=(), dtype=tf.resource, name=None)\n",
            "  134809534542096: TensorSpec(shape=(), dtype=tf.resource, name=None)\n",
            "  134809534539808: TensorSpec(shape=(), dtype=tf.resource, name=None)\n",
            "  134810018286224: TensorSpec(shape=(), dtype=tf.resource, name=None)\n",
            "  134810018288688: TensorSpec(shape=(), dtype=tf.resource, name=None)\n",
            "  134810018284112: TensorSpec(shape=(), dtype=tf.resource, name=None)\n",
            "  134810018287632: TensorSpec(shape=(), dtype=tf.resource, name=None)\n",
            "  134810018294848: TensorSpec(shape=(), dtype=tf.resource, name=None)\n",
            "  134810018293792: TensorSpec(shape=(), dtype=tf.resource, name=None)\n",
            "  134810018296256: TensorSpec(shape=(), dtype=tf.resource, name=None)\n",
            "  134810018292384: TensorSpec(shape=(), dtype=tf.resource, name=None)\n",
            "  134810018295024: TensorSpec(shape=(), dtype=tf.resource, name=None)\n",
            "  134810018292032: TensorSpec(shape=(), dtype=tf.resource, name=None)\n",
            "  134810018368496: TensorSpec(shape=(), dtype=tf.resource, name=None)\n",
            "  134810018366560: TensorSpec(shape=(), dtype=tf.resource, name=None)\n",
            "  134810018369024: TensorSpec(shape=(), dtype=tf.resource, name=None)\n",
            "  134810018368672: TensorSpec(shape=(), dtype=tf.resource, name=None)\n",
            "  134810018375536: TensorSpec(shape=(), dtype=tf.resource, name=None)\n",
            "  134810018374480: TensorSpec(shape=(), dtype=tf.resource, name=None)\n",
            "  134810018377120: TensorSpec(shape=(), dtype=tf.resource, name=None)\n",
            "  134810018365856: TensorSpec(shape=(), dtype=tf.resource, name=None)\n",
            "  134810018375008: TensorSpec(shape=(), dtype=tf.resource, name=None)\n",
            "  134810018380112: TensorSpec(shape=(), dtype=tf.resource, name=None)\n",
            "  134810018383824: TensorSpec(shape=(), dtype=tf.resource, name=None)\n",
            "  134810018381888: TensorSpec(shape=(), dtype=tf.resource, name=None)\n",
            "  134810018381168: TensorSpec(shape=(), dtype=tf.resource, name=None)\n",
            "  134810018384000: TensorSpec(shape=(), dtype=tf.resource, name=None)\n",
            "  134810018389632: TensorSpec(shape=(), dtype=tf.resource, name=None)\n",
            "  134810018388576: TensorSpec(shape=(), dtype=tf.resource, name=None)\n",
            "  134810018391040: TensorSpec(shape=(), dtype=tf.resource, name=None)\n",
            "  134810018387168: TensorSpec(shape=(), dtype=tf.resource, name=None)\n",
            "  134810018389808: TensorSpec(shape=(), dtype=tf.resource, name=None)\n",
            "  134810018397024: TensorSpec(shape=(), dtype=tf.resource, name=None)\n",
            "  134810018393504: TensorSpec(shape=(), dtype=tf.resource, name=None)\n",
            "  134810018393152: TensorSpec(shape=(), dtype=tf.resource, name=None)\n",
            "  134810018394736: TensorSpec(shape=(), dtype=tf.resource, name=None)\n",
            "  134810018396848: TensorSpec(shape=(), dtype=tf.resource, name=None)\n",
            "  134810018392624: TensorSpec(shape=(), dtype=tf.resource, name=None)\n",
            "  134809630088128: TensorSpec(shape=(), dtype=tf.resource, name=None)\n",
            "  134809630089184: TensorSpec(shape=(), dtype=tf.resource, name=None)\n",
            "  134809630085312: TensorSpec(shape=(), dtype=tf.resource, name=None)\n",
            "  134809630087952: TensorSpec(shape=(), dtype=tf.resource, name=None)\n",
            "  134809630095344: TensorSpec(shape=(), dtype=tf.resource, name=None)\n",
            "  134809630094288: TensorSpec(shape=(), dtype=tf.resource, name=None)\n",
            "  134809630096752: TensorSpec(shape=(), dtype=tf.resource, name=None)\n",
            "  134809630092880: TensorSpec(shape=(), dtype=tf.resource, name=None)\n",
            "  134809630095520: TensorSpec(shape=(), dtype=tf.resource, name=None)\n",
            "  134809630093232: TensorSpec(shape=(), dtype=tf.resource, name=None)\n",
            "  134809630478704: TensorSpec(shape=(), dtype=tf.resource, name=None)\n",
            "  134809630481344: TensorSpec(shape=(), dtype=tf.resource, name=None)\n",
            "  134809630477296: TensorSpec(shape=(), dtype=tf.resource, name=None)\n",
            "  134809630479232: TensorSpec(shape=(), dtype=tf.resource, name=None)\n",
            "  134809630487504: TensorSpec(shape=(), dtype=tf.resource, name=None)\n",
            "  134809630486448: TensorSpec(shape=(), dtype=tf.resource, name=None)\n",
            "  134809630488912: TensorSpec(shape=(), dtype=tf.resource, name=None)\n",
            "  134809630475360: TensorSpec(shape=(), dtype=tf.resource, name=None)\n",
            "  134809630487680: TensorSpec(shape=(), dtype=tf.resource, name=None)\n",
            "  134810018392800: TensorSpec(shape=(), dtype=tf.resource, name=None)\n",
            "  134809630331776: TensorSpec(shape=(), dtype=tf.resource, name=None)\n",
            "  134809630332832: TensorSpec(shape=(), dtype=tf.resource, name=None)\n",
            "  134809630328960: TensorSpec(shape=(), dtype=tf.resource, name=None)\n",
            "  134809630331600: TensorSpec(shape=(), dtype=tf.resource, name=None)\n",
            "  134809630340224: TensorSpec(shape=(), dtype=tf.resource, name=None)\n",
            "  134809630339168: TensorSpec(shape=(), dtype=tf.resource, name=None)\n",
            "  134809630341808: TensorSpec(shape=(), dtype=tf.resource, name=None)\n",
            "  134809630329312: TensorSpec(shape=(), dtype=tf.resource, name=None)\n",
            "  134809630339696: TensorSpec(shape=(), dtype=tf.resource, name=None)\n",
            "  134809630335824: TensorSpec(shape=(), dtype=tf.resource, name=None)\n",
            "  134809630138512: TensorSpec(shape=(), dtype=tf.resource, name=None)\n",
            "  134809630139392: TensorSpec(shape=(), dtype=tf.resource, name=None)\n",
            "  134809630132704: TensorSpec(shape=(), dtype=tf.resource, name=None)\n",
            "  134809630136224: TensorSpec(shape=(), dtype=tf.resource, name=None)\n",
            "  134812523998800: TensorSpec(shape=(), dtype=tf.resource, name=None)\n",
            "  134809630395904: TensorSpec(shape=(), dtype=tf.resource, name=None)\n",
            "  134809630395024: TensorSpec(shape=(), dtype=tf.resource, name=None)\n",
            "  134809630145904: TensorSpec(shape=(), dtype=tf.resource, name=None)\n",
            "  134809630395200: TensorSpec(shape=(), dtype=tf.resource, name=None)\n",
            "  134809630402416: TensorSpec(shape=(), dtype=tf.resource, name=None)\n",
            "  134809630401360: TensorSpec(shape=(), dtype=tf.resource, name=None)\n",
            "  134809630404000: TensorSpec(shape=(), dtype=tf.resource, name=None)\n",
            "  134809630393616: TensorSpec(shape=(), dtype=tf.resource, name=None)\n",
            "  134809630401888: TensorSpec(shape=(), dtype=tf.resource, name=None)\n",
            "  134809630406992: TensorSpec(shape=(), dtype=tf.resource, name=None)\n",
            "  134809634244560: TensorSpec(shape=(), dtype=tf.resource, name=None)\n",
            "  134809634242624: TensorSpec(shape=(), dtype=tf.resource, name=None)\n",
            "  134809630408048: TensorSpec(shape=(), dtype=tf.resource, name=None)\n",
            "  134809634244736: TensorSpec(shape=(), dtype=tf.resource, name=None)\n",
            "  134809634251776: TensorSpec(shape=(), dtype=tf.resource, name=None)\n",
            "  134809634250720: TensorSpec(shape=(), dtype=tf.resource, name=None)\n",
            "  134809634253184: TensorSpec(shape=(), dtype=tf.resource, name=None)\n",
            "  134809634249312: TensorSpec(shape=(), dtype=tf.resource, name=None)\n",
            "  134809634251952: TensorSpec(shape=(), dtype=tf.resource, name=None)\n",
            "  134809634256000: TensorSpec(shape=(), dtype=tf.resource, name=None)\n",
            "  134809634255648: TensorSpec(shape=(), dtype=tf.resource, name=None)\n",
            "  134809634255824: TensorSpec(shape=(), dtype=tf.resource, name=None)\n",
            "  134809634257056: TensorSpec(shape=(), dtype=tf.resource, name=None)\n",
            "  134809634194880: TensorSpec(shape=(), dtype=tf.resource, name=None)\n",
            "  134809634254768: TensorSpec(shape=(), dtype=tf.resource, name=None)\n",
            "  134809634201920: TensorSpec(shape=(), dtype=tf.resource, name=None)\n",
            "  134809634202976: TensorSpec(shape=(), dtype=tf.resource, name=None)\n",
            "  134809634199104: TensorSpec(shape=(), dtype=tf.resource, name=None)\n",
            "  134809634201744: TensorSpec(shape=(), dtype=tf.resource, name=None)\n",
            "  134809634209136: TensorSpec(shape=(), dtype=tf.resource, name=None)\n",
            "  134809634199456: TensorSpec(shape=(), dtype=tf.resource, name=None)\n",
            "  134809634204560: TensorSpec(shape=(), dtype=tf.resource, name=None)\n",
            "  134809634206320: TensorSpec(shape=(), dtype=tf.resource, name=None)\n",
            "  134809634205088: TensorSpec(shape=(), dtype=tf.resource, name=None)\n",
            "  134809634208256: TensorSpec(shape=(), dtype=tf.resource, name=None)\n",
            "  134809634428656: TensorSpec(shape=(), dtype=tf.resource, name=None)\n",
            "  134809634431296: TensorSpec(shape=(), dtype=tf.resource, name=None)\n",
            "  134809634427248: TensorSpec(shape=(), dtype=tf.resource, name=None)\n",
            "  134809634429184: TensorSpec(shape=(), dtype=tf.resource, name=None)\n",
            "  134809634437456: TensorSpec(shape=(), dtype=tf.resource, name=None)\n",
            "  134809634436400: TensorSpec(shape=(), dtype=tf.resource, name=None)\n",
            "  134809634438864: TensorSpec(shape=(), dtype=tf.resource, name=None)\n",
            "  134809634425312: TensorSpec(shape=(), dtype=tf.resource, name=None)\n",
            "  134809634437632: TensorSpec(shape=(), dtype=tf.resource, name=None)\n",
            "  134809634254944: TensorSpec(shape=(), dtype=tf.resource, name=None)\n",
            "  134809634378800: TensorSpec(shape=(), dtype=tf.resource, name=None)\n",
            "  134809634379856: TensorSpec(shape=(), dtype=tf.resource, name=None)\n",
            "  134809634375984: TensorSpec(shape=(), dtype=tf.resource, name=None)\n",
            "  134809634378624: TensorSpec(shape=(), dtype=tf.resource, name=None)\n",
            "  134809634378448: TensorSpec(shape=(), dtype=tf.resource, name=None)\n",
            "  134809634389184: TensorSpec(shape=(), dtype=tf.resource, name=None)\n",
            "  134809664097968: TensorSpec(shape=(), dtype=tf.resource, name=None)\n",
            "  134809664094624: TensorSpec(shape=(), dtype=tf.resource, name=None)\n",
            "  134809664095328: TensorSpec(shape=(), dtype=tf.resource, name=None)\n",
            "  134809664097264: TensorSpec(shape=(), dtype=tf.resource, name=None)\n",
            "  134809664101840: TensorSpec(shape=(), dtype=tf.resource, name=None)\n",
            "  134809664102720: TensorSpec(shape=(), dtype=tf.resource, name=None)\n",
            "  134809664108000: TensorSpec(shape=(), dtype=tf.resource, name=None)\n",
            "  134809664108704: TensorSpec(shape=(), dtype=tf.resource, name=None)\n",
            "Model training and conversion completed successfully!\n"
          ]
        }
      ]
    },
    {
      "cell_type": "code",
      "source": [
        "val_loss, val_accuracy = model3.evaluate(val_generator, verbose=1)\n",
        "print(f\"Validation Loss: {val_loss}\")\n",
        "print(f\"Validation Accuracy: {val_accuracy}\")"
      ],
      "metadata": {
        "colab": {
          "base_uri": "https://localhost:8080/"
        },
        "id": "CAxG6ZtDxGmw",
        "outputId": "dd7787ce-6cca-48fa-97b0-1a67b8694ad3"
      },
      "execution_count": null,
      "outputs": [
        {
          "output_type": "stream",
          "name": "stdout",
          "text": [
            "\u001b[1m25/25\u001b[0m \u001b[32m━━━━━━━━━━━━━━━━━━━━\u001b[0m\u001b[37m\u001b[0m \u001b[1m66s\u001b[0m 3s/step - accuracy: 0.5674 - loss: 0.8754\n",
            "Validation Loss: 0.8466735482215881\n",
            "Validation Accuracy: 0.5751879811286926\n"
          ]
        }
      ]
    },
    {
      "cell_type": "code",
      "source": [
        "# Generate predictions\n",
        "val_generator.reset()\n",
        "predictions = model3.predict(val_generator, verbose=1)\n",
        "predicted_classes = (predictions > 0.5).astype(\"int32\").flatten()\n",
        "true_classes = val_generator.classes"
      ],
      "metadata": {
        "colab": {
          "base_uri": "https://localhost:8080/"
        },
        "id": "NKwm_7GrxPEj",
        "outputId": "99a7030d-377e-406b-d671-3423b83f4f35"
      },
      "execution_count": null,
      "outputs": [
        {
          "output_type": "stream",
          "name": "stdout",
          "text": [
            "\u001b[1m25/25\u001b[0m \u001b[32m━━━━━━━━━━━━━━━━━━━━\u001b[0m\u001b[37m\u001b[0m \u001b[1m39s\u001b[0m 2s/step\n"
          ]
        }
      ]
    },
    {
      "cell_type": "code",
      "source": [
        "# Classification report\n",
        "from sklearn.metrics import classification_report\n",
        "\n",
        "report = classification_report(true_classes, predicted_classes, target_names=[\"Real\", \"Deepfake\"], digits=4)\n",
        "print(\"\\nClassification Report:\\n\", report)"
      ],
      "metadata": {
        "colab": {
          "base_uri": "https://localhost:8080/"
        },
        "id": "39ClE3Z2xTBk",
        "outputId": "52a1c5d1-c829-4189-b686-327483d9f6d6"
      },
      "execution_count": null,
      "outputs": [
        {
          "output_type": "stream",
          "name": "stdout",
          "text": [
            "\n",
            "Classification Report:\n",
            "               precision    recall  f1-score   support\n",
            "\n",
            "        Real     0.5143    0.8609    0.6439       417\n",
            "    Deepfake     0.4200    0.1102    0.1746       381\n",
            "\n",
            "    accuracy                         0.5025       798\n",
            "   macro avg     0.4672    0.4856    0.4093       798\n",
            "weighted avg     0.4693    0.5025    0.4199       798\n",
            "\n"
          ]
        }
      ]
    },
    {
      "cell_type": "code",
      "source": [
        "# Confusion matrix\n",
        "from sklearn.metrics import confusion_matrix\n",
        "import matplotlib.pyplot as plt\n",
        "import seaborn as sns\n",
        "\n",
        "cm = confusion_matrix(true_classes, predicted_classes)\n",
        "plt.figure(figsize=(8, 6))\n",
        "sns.heatmap(cm, annot=True, fmt=\"d\", cmap=\"Blues\", xticklabels=[\"Real\", \"Deepfake\"], yticklabels=[\"Real\", \"Deepfake\"])\n",
        "plt.xlabel(\"Predicted\")\n",
        "plt.ylabel(\"Actual\")\n",
        "plt.title(\"Confusion Matrix\")\n",
        "plt.show()"
      ],
      "metadata": {
        "colab": {
          "base_uri": "https://localhost:8080/",
          "height": 564
        },
        "id": "h6mUxllSxVi9",
        "outputId": "8ac9d772-2930-4d00-e3a0-9d6b9fc86ec8"
      },
      "execution_count": null,
      "outputs": [
        {
          "output_type": "display_data",
          "data": {
            "text/plain": [
              "<Figure size 800x600 with 2 Axes>"
            ],
            "image/png": "[encoded data removed]"
          },
          "metadata": {}
        }
      ]
    },
    {
      "cell_type": "code",
      "source": [],
      "metadata": {
        "id": "Tt8Qxz2oxwGy"
      },
      "execution_count": null,
      "outputs": []
    }
  ]
}