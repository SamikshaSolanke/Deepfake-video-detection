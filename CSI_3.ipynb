{
  "cells": [
    {
      "cell_type": "markdown",
      "source": [
        "# This Notebook Consists of Code related to preprocessing of data and frames extraction"
      ],
      "metadata": {
        "id": "TtNflS_XIuoY"
      }
    },
    {
      "cell_type": "code",
      "execution_count": null,
      "metadata": {
        "colab": {
          "base_uri": "https://localhost:8080/"
        },
        "id": "RXbQrprNgatj",
        "outputId": "36a00cde-ca34-4184-9844-59d337d83af2"
      },
      "outputs": [
        {
          "output_type": "stream",
          "name": "stdout",
          "text": [
            "Mounted at /content/drive\n"
          ]
        }
      ],
      "source": [
        "from google.colab import drive\n",
        "drive.mount('/content/drive')"
      ]
    },
    {
      "cell_type": "code",
      "execution_count": null,
      "metadata": {
        "id": "I36oVChzgkP3"
      },
      "outputs": [],
      "source": [
        "import os\n",
        "import cv2\n",
        "import random\n",
        "import numpy as np\n",
        "import pickle\n",
        "from tqdm import tqdm\n",
        "from tensorflow.keras.preprocessing.image import ImageDataGenerator"
      ]
    },
    {
      "cell_type": "code",
      "execution_count": null,
      "metadata": {
        "id": "yfDUCd_Pg5gt"
      },
      "outputs": [],
      "source": [
        "# Paths to dataset folders\n",
        "DATASET_DIR = \"/content/drive/MyDrive/FOR_DATASET_0/DATASET_0\"\n",
        "REAL_DIR = os.path.join(DATASET_DIR, \"REAL\")\n",
        "SYNTHESIS_DIR = os.path.join(DATASET_DIR, \"FAKE\")\n",
        "\n",
        "# Parameters\n",
        "FRAME_RATE = 1\n",
        "FRAME_SIZE = (224, 224)\n",
        "AUGMENTATION = True"
      ]
    },
    {
      "cell_type": "code",
      "execution_count": null,
      "metadata": {
        "id": "IGUlAyUthIyL"
      },
      "outputs": [],
      "source": [
        "def extract_limited_frames(video_path, output_dir, max_frames=20, frame_size=(224, 224)):\n",
        "\n",
        "    os.makedirs(output_dir, exist_ok=True)\n",
        "    cap = cv2.VideoCapture(video_path)\n",
        "\n",
        "    fps = int(cap.get(cv2.CAP_PROP_FPS))  # Frames per second of the video\n",
        "    total_frames = int(min(cap.get(cv2.CAP_PROP_FRAME_COUNT), fps * 10))  # Max frames in 10 seconds\n",
        "    frame_interval = max(total_frames // max_frames, 1)  # Interval to evenly distribute frames\n",
        "\n",
        "    frame_count = 0\n",
        "    saved_frames = 0\n",
        "\n",
        "    while saved_frames < max_frames:\n",
        "        ret, frame = cap.read()\n",
        "        if not ret or frame_count >= total_frames:\n",
        "            break\n",
        "        if frame_count % frame_interval == 0:\n",
        "            frame = cv2.resize(frame, frame_size)  # Resize the frame\n",
        "            frame_filename = os.path.join(output_dir, f\"frame_{saved_frames:04d}.jpg\")\n",
        "            cv2.imwrite(frame_filename, frame)  # Save the frame as an image\n",
        "            saved_frames += 1\n",
        "        frame_count += 1\n",
        "\n",
        "    cap.release()\n",
        "    print(f\"Extracted {saved_frames} frames from the first 10 seconds of {video_path}\")"
      ]
    },
    {
      "cell_type": "code",
      "execution_count": null,
      "metadata": {
        "colab": {
          "base_uri": "https://localhost:8080/"
        },
        "collapsed": true,
        "id": "rklF7IZ9hVgt",
        "outputId": "b2429641-0b25-4910-94d1-3c374d177926"
      },
      "outputs": [
        {
          "name": "stderr",
          "output_type": "stream",
          "text": [
            "Processing videos in /content/drive/MyDrive/FOR_DATASET_0/DATASET_0/REAL:   1%|          | 1/178 [00:01<04:51,  1.65s/it]"
          ]
        },
        {
          "name": "stdout",
          "output_type": "stream",
          "text": [
            "Extracted 20 frames from the first 10 seconds of /content/drive/MyDrive/FOR_DATASET_0/DATASET_0/REAL/id0_0000.mp4\n"
          ]
        },
        {
          "name": "stderr",
          "output_type": "stream",
          "text": [
            "\rProcessing videos in /content/drive/MyDrive/FOR_DATASET_0/DATASET_0/REAL:   1%|          | 2/178 [00:10<17:14,  5.88s/it]"
          ]
        },
        {
          "name": "stdout",
          "output_type": "stream",
          "text": [
            "Extracted 20 frames from the first 10 seconds of /content/drive/MyDrive/FOR_DATASET_0/DATASET_0/REAL/id0_0002.mp4\n"
          ]
        },
        {
          "name": "stderr",
          "output_type": "stream",
          "text": [
            "\rProcessing videos in /content/drive/MyDrive/FOR_DATASET_0/DATASET_0/REAL:   2%|▏         | 3/178 [00:11<10:23,  3.56s/it]"
          ]
        },
        {
          "name": "stdout",
          "output_type": "stream",
          "text": [
            "Extracted 20 frames from the first 10 seconds of /content/drive/MyDrive/FOR_DATASET_0/DATASET_0/REAL/id0_0001.mp4\n"
          ]
        },
        {
          "name": "stderr",
          "output_type": "stream",
          "text": [
            "\rProcessing videos in /content/drive/MyDrive/FOR_DATASET_0/DATASET_0/REAL:   2%|▏         | 4/178 [00:11<06:51,  2.37s/it]"
          ]
        },
        {
          "name": "stdout",
          "output_type": "stream",
          "text": [
            "Extracted 20 frames from the first 10 seconds of /content/drive/MyDrive/FOR_DATASET_0/DATASET_0/REAL/id0_0009.mp4\n"
          ]
        },
        {
          "name": "stderr",
          "output_type": "stream",
          "text": [
            "\rProcessing videos in /content/drive/MyDrive/FOR_DATASET_0/DATASET_0/REAL:   3%|▎         | 5/178 [00:12<04:54,  1.70s/it]"
          ]
        },
        {
          "name": "stdout",
          "output_type": "stream",
          "text": [
            "Extracted 20 frames from the first 10 seconds of /content/drive/MyDrive/FOR_DATASET_0/DATASET_0/REAL/id10_0002.mp4\n"
          ]
        },
        {
          "name": "stderr",
          "output_type": "stream",
          "text": [
            "\rProcessing videos in /content/drive/MyDrive/FOR_DATASET_0/DATASET_0/REAL:   3%|▎         | 6/178 [00:12<03:37,  1.26s/it]"
          ]
        },
        {
          "name": "stdout",
          "output_type": "stream",
          "text": [
            "Extracted 20 frames from the first 10 seconds of /content/drive/MyDrive/FOR_DATASET_0/DATASET_0/REAL/id10_0000.mp4\n"
          ]
        },
        {
          "name": "stderr",
          "output_type": "stream",
          "text": [
            "\rProcessing videos in /content/drive/MyDrive/FOR_DATASET_0/DATASET_0/REAL:   4%|▍         | 7/178 [00:13<02:47,  1.02it/s]"
          ]
        },
        {
          "name": "stdout",
          "output_type": "stream",
          "text": [
            "Extracted 20 frames from the first 10 seconds of /content/drive/MyDrive/FOR_DATASET_0/DATASET_0/REAL/id10_0001.mp4\n"
          ]
        },
        {
          "name": "stderr",
          "output_type": "stream",
          "text": [
            "\rProcessing videos in /content/drive/MyDrive/FOR_DATASET_0/DATASET_0/REAL:   4%|▍         | 8/178 [00:13<02:14,  1.27it/s]"
          ]
        },
        {
          "name": "stdout",
          "output_type": "stream",
          "text": [
            "Extracted 20 frames from the first 10 seconds of /content/drive/MyDrive/FOR_DATASET_0/DATASET_0/REAL/id11_0000.mp4\n"
          ]
        },
        {
          "name": "stderr",
          "output_type": "stream",
          "text": [
            "\rProcessing videos in /content/drive/MyDrive/FOR_DATASET_0/DATASET_0/REAL:   5%|▌         | 9/178 [00:14<01:59,  1.41it/s]"
          ]
        },
        {
          "name": "stdout",
          "output_type": "stream",
          "text": [
            "Extracted 20 frames from the first 10 seconds of /content/drive/MyDrive/FOR_DATASET_0/DATASET_0/REAL/id11_0001.mp4\n"
          ]
        },
        {
          "name": "stderr",
          "output_type": "stream",
          "text": [
            "\rProcessing videos in /content/drive/MyDrive/FOR_DATASET_0/DATASET_0/REAL:   6%|▌         | 10/178 [00:14<01:50,  1.53it/s]"
          ]
        },
        {
          "name": "stdout",
          "output_type": "stream",
          "text": [
            "Extracted 20 frames from the first 10 seconds of /content/drive/MyDrive/FOR_DATASET_0/DATASET_0/REAL/id11_0002.mp4\n"
          ]
        },
        {
          "name": "stderr",
          "output_type": "stream",
          "text": [
            "\rProcessing videos in /content/drive/MyDrive/FOR_DATASET_0/DATASET_0/REAL:   6%|▌         | 11/178 [00:15<01:44,  1.60it/s]"
          ]
        },
        {
          "name": "stdout",
          "output_type": "stream",
          "text": [
            "Extracted 20 frames from the first 10 seconds of /content/drive/MyDrive/FOR_DATASET_0/DATASET_0/REAL/id12_0000.mp4\n"
          ]
        },
        {
          "name": "stderr",
          "output_type": "stream",
          "text": [
            "\rProcessing videos in /content/drive/MyDrive/FOR_DATASET_0/DATASET_0/REAL:   7%|▋         | 12/178 [00:15<01:41,  1.63it/s]"
          ]
        },
        {
          "name": "stdout",
          "output_type": "stream",
          "text": [
            "Extracted 20 frames from the first 10 seconds of /content/drive/MyDrive/FOR_DATASET_0/DATASET_0/REAL/id12_0001.mp4\n"
          ]
        },
        {
          "name": "stderr",
          "output_type": "stream",
          "text": [
            "\rProcessing videos in /content/drive/MyDrive/FOR_DATASET_0/DATASET_0/REAL:   7%|▋         | 13/178 [00:16<01:36,  1.71it/s]"
          ]
        },
        {
          "name": "stdout",
          "output_type": "stream",
          "text": [
            "Extracted 20 frames from the first 10 seconds of /content/drive/MyDrive/FOR_DATASET_0/DATASET_0/REAL/id12_0002.mp4\n"
          ]
        },
        {
          "name": "stderr",
          "output_type": "stream",
          "text": [
            "\rProcessing videos in /content/drive/MyDrive/FOR_DATASET_0/DATASET_0/REAL:   8%|▊         | 14/178 [00:16<01:34,  1.74it/s]"
          ]
        },
        {
          "name": "stdout",
          "output_type": "stream",
          "text": [
            "Extracted 20 frames from the first 10 seconds of /content/drive/MyDrive/FOR_DATASET_0/DATASET_0/REAL/id13_0003.mp4\n"
          ]
        },
        {
          "name": "stderr",
          "output_type": "stream",
          "text": [
            "\rProcessing videos in /content/drive/MyDrive/FOR_DATASET_0/DATASET_0/REAL:   8%|▊         | 15/178 [00:17<01:31,  1.79it/s]"
          ]
        },
        {
          "name": "stdout",
          "output_type": "stream",
          "text": [
            "Extracted 20 frames from the first 10 seconds of /content/drive/MyDrive/FOR_DATASET_0/DATASET_0/REAL/id13_0002.mp4\n"
          ]
        },
        {
          "name": "stderr",
          "output_type": "stream",
          "text": [
            "\rProcessing videos in /content/drive/MyDrive/FOR_DATASET_0/DATASET_0/REAL:   9%|▉         | 16/178 [00:17<01:26,  1.88it/s]"
          ]
        },
        {
          "name": "stdout",
          "output_type": "stream",
          "text": [
            "Extracted 20 frames from the first 10 seconds of /content/drive/MyDrive/FOR_DATASET_0/DATASET_0/REAL/id13_0004.mp4\n"
          ]
        },
        {
          "name": "stderr",
          "output_type": "stream",
          "text": [
            "\rProcessing videos in /content/drive/MyDrive/FOR_DATASET_0/DATASET_0/REAL:  10%|▉         | 17/178 [00:18<01:25,  1.89it/s]"
          ]
        },
        {
          "name": "stdout",
          "output_type": "stream",
          "text": [
            "Extracted 20 frames from the first 10 seconds of /content/drive/MyDrive/FOR_DATASET_0/DATASET_0/REAL/id16_0003.mp4\n"
          ]
        },
        {
          "name": "stderr",
          "output_type": "stream",
          "text": [
            "\rProcessing videos in /content/drive/MyDrive/FOR_DATASET_0/DATASET_0/REAL:  10%|█         | 18/178 [00:18<01:20,  1.99it/s]"
          ]
        },
        {
          "name": "stdout",
          "output_type": "stream",
          "text": [
            "Extracted 20 frames from the first 10 seconds of /content/drive/MyDrive/FOR_DATASET_0/DATASET_0/REAL/id17_0001.mp4\n"
          ]
        },
        {
          "name": "stderr",
          "output_type": "stream",
          "text": [
            "\rProcessing videos in /content/drive/MyDrive/FOR_DATASET_0/DATASET_0/REAL:  11%|█         | 19/178 [00:19<01:22,  1.92it/s]"
          ]
        },
        {
          "name": "stdout",
          "output_type": "stream",
          "text": [
            "Extracted 20 frames from the first 10 seconds of /content/drive/MyDrive/FOR_DATASET_0/DATASET_0/REAL/id16_0004.mp4\n"
          ]
        },
        {
          "name": "stderr",
          "output_type": "stream",
          "text": [
            "\rProcessing videos in /content/drive/MyDrive/FOR_DATASET_0/DATASET_0/REAL:  11%|█         | 20/178 [00:19<01:21,  1.93it/s]"
          ]
        },
        {
          "name": "stdout",
          "output_type": "stream",
          "text": [
            "Extracted 20 frames from the first 10 seconds of /content/drive/MyDrive/FOR_DATASET_0/DATASET_0/REAL/id16_0005.mp4\n"
          ]
        },
        {
          "name": "stderr",
          "output_type": "stream",
          "text": [
            "\rProcessing videos in /content/drive/MyDrive/FOR_DATASET_0/DATASET_0/REAL:  12%|█▏        | 21/178 [00:20<01:18,  2.01it/s]"
          ]
        },
        {
          "name": "stdout",
          "output_type": "stream",
          "text": [
            "Extracted 20 frames from the first 10 seconds of /content/drive/MyDrive/FOR_DATASET_0/DATASET_0/REAL/id17_0002.mp4\n"
          ]
        },
        {
          "name": "stderr",
          "output_type": "stream",
          "text": [
            "\rProcessing videos in /content/drive/MyDrive/FOR_DATASET_0/DATASET_0/REAL:  12%|█▏        | 22/178 [00:20<01:16,  2.03it/s]"
          ]
        },
        {
          "name": "stdout",
          "output_type": "stream",
          "text": [
            "Extracted 20 frames from the first 10 seconds of /content/drive/MyDrive/FOR_DATASET_0/DATASET_0/REAL/id17_0000.mp4\n"
          ]
        },
        {
          "name": "stderr",
          "output_type": "stream",
          "text": [
            "\rProcessing videos in /content/drive/MyDrive/FOR_DATASET_0/DATASET_0/REAL:  13%|█▎        | 23/178 [00:21<01:12,  2.14it/s]"
          ]
        },
        {
          "name": "stdout",
          "output_type": "stream",
          "text": [
            "Extracted 20 frames from the first 10 seconds of /content/drive/MyDrive/FOR_DATASET_0/DATASET_0/REAL/id19_0000.mp4\n"
          ]
        },
        {
          "name": "stderr",
          "output_type": "stream",
          "text": [
            "\rProcessing videos in /content/drive/MyDrive/FOR_DATASET_0/DATASET_0/REAL:  13%|█▎        | 24/178 [00:21<01:17,  2.00it/s]"
          ]
        },
        {
          "name": "stdout",
          "output_type": "stream",
          "text": [
            "Extracted 20 frames from the first 10 seconds of /content/drive/MyDrive/FOR_DATASET_0/DATASET_0/REAL/id19_0001.mp4\n"
          ]
        },
        {
          "name": "stderr",
          "output_type": "stream",
          "text": [
            "\rProcessing videos in /content/drive/MyDrive/FOR_DATASET_0/DATASET_0/REAL:  14%|█▍        | 25/178 [00:22<01:24,  1.81it/s]"
          ]
        },
        {
          "name": "stdout",
          "output_type": "stream",
          "text": [
            "Extracted 20 frames from the first 10 seconds of /content/drive/MyDrive/FOR_DATASET_0/DATASET_0/REAL/id1_0001.mp4\n"
          ]
        },
        {
          "name": "stderr",
          "output_type": "stream",
          "text": [
            "\rProcessing videos in /content/drive/MyDrive/FOR_DATASET_0/DATASET_0/REAL:  15%|█▍        | 26/178 [00:22<01:22,  1.84it/s]"
          ]
        },
        {
          "name": "stdout",
          "output_type": "stream",
          "text": [
            "Extracted 20 frames from the first 10 seconds of /content/drive/MyDrive/FOR_DATASET_0/DATASET_0/REAL/id1_0002.mp4\n"
          ]
        },
        {
          "name": "stderr",
          "output_type": "stream",
          "text": [
            "\rProcessing videos in /content/drive/MyDrive/FOR_DATASET_0/DATASET_0/REAL:  15%|█▌        | 27/178 [00:23<01:22,  1.84it/s]"
          ]
        },
        {
          "name": "stdout",
          "output_type": "stream",
          "text": [
            "Extracted 20 frames from the first 10 seconds of /content/drive/MyDrive/FOR_DATASET_0/DATASET_0/REAL/id1_0000.mp4\n"
          ]
        },
        {
          "name": "stderr",
          "output_type": "stream",
          "text": [
            "\rProcessing videos in /content/drive/MyDrive/FOR_DATASET_0/DATASET_0/REAL:  16%|█▌        | 28/178 [00:23<01:15,  1.98it/s]"
          ]
        },
        {
          "name": "stdout",
          "output_type": "stream",
          "text": [
            "Extracted 20 frames from the first 10 seconds of /content/drive/MyDrive/FOR_DATASET_0/DATASET_0/REAL/id19_0002.mp4\n"
          ]
        },
        {
          "name": "stderr",
          "output_type": "stream",
          "text": [
            "\rProcessing videos in /content/drive/MyDrive/FOR_DATASET_0/DATASET_0/REAL:  16%|█▋        | 29/178 [00:24<01:25,  1.75it/s]"
          ]
        },
        {
          "name": "stdout",
          "output_type": "stream",
          "text": [
            "Extracted 20 frames from the first 10 seconds of /content/drive/MyDrive/FOR_DATASET_0/DATASET_0/REAL/id20_0001.mp4\n"
          ]
        },
        {
          "name": "stderr",
          "output_type": "stream",
          "text": [
            "\rProcessing videos in /content/drive/MyDrive/FOR_DATASET_0/DATASET_0/REAL:  17%|█▋        | 30/178 [00:25<01:25,  1.74it/s]"
          ]
        },
        {
          "name": "stdout",
          "output_type": "stream",
          "text": [
            "Extracted 20 frames from the first 10 seconds of /content/drive/MyDrive/FOR_DATASET_0/DATASET_0/REAL/id21_0000.mp4\n"
          ]
        },
        {
          "name": "stderr",
          "output_type": "stream",
          "text": [
            "\rProcessing videos in /content/drive/MyDrive/FOR_DATASET_0/DATASET_0/REAL:  17%|█▋        | 31/178 [00:25<01:25,  1.72it/s]"
          ]
        },
        {
          "name": "stdout",
          "output_type": "stream",
          "text": [
            "Extracted 20 frames from the first 10 seconds of /content/drive/MyDrive/FOR_DATASET_0/DATASET_0/REAL/id21_0001.mp4\n"
          ]
        },
        {
          "name": "stderr",
          "output_type": "stream",
          "text": [
            "\rProcessing videos in /content/drive/MyDrive/FOR_DATASET_0/DATASET_0/REAL:  18%|█▊        | 32/178 [00:26<01:28,  1.65it/s]"
          ]
        },
        {
          "name": "stdout",
          "output_type": "stream",
          "text": [
            "Extracted 20 frames from the first 10 seconds of /content/drive/MyDrive/FOR_DATASET_0/DATASET_0/REAL/id20_0000.mp4\n"
          ]
        },
        {
          "name": "stderr",
          "output_type": "stream",
          "text": [
            "\rProcessing videos in /content/drive/MyDrive/FOR_DATASET_0/DATASET_0/REAL:  19%|█▊        | 33/178 [00:27<01:26,  1.67it/s]"
          ]
        },
        {
          "name": "stdout",
          "output_type": "stream",
          "text": [
            "Extracted 20 frames from the first 10 seconds of /content/drive/MyDrive/FOR_DATASET_0/DATASET_0/REAL/id20_0002.mp4\n"
          ]
        },
        {
          "name": "stderr",
          "output_type": "stream",
          "text": [
            "\rProcessing videos in /content/drive/MyDrive/FOR_DATASET_0/DATASET_0/REAL:  19%|█▉        | 34/178 [00:27<01:22,  1.75it/s]"
          ]
        },
        {
          "name": "stdout",
          "output_type": "stream",
          "text": [
            "Extracted 20 frames from the first 10 seconds of /content/drive/MyDrive/FOR_DATASET_0/DATASET_0/REAL/id21_0002.mp4\n"
          ]
        },
        {
          "name": "stderr",
          "output_type": "stream",
          "text": [
            "\rProcessing videos in /content/drive/MyDrive/FOR_DATASET_0/DATASET_0/REAL:  20%|█▉        | 35/178 [00:27<01:13,  1.95it/s]"
          ]
        },
        {
          "name": "stdout",
          "output_type": "stream",
          "text": [
            "Extracted 20 frames from the first 10 seconds of /content/drive/MyDrive/FOR_DATASET_0/DATASET_0/REAL/id22_0000.mp4\n"
          ]
        },
        {
          "name": "stderr",
          "output_type": "stream",
          "text": [
            "\rProcessing videos in /content/drive/MyDrive/FOR_DATASET_0/DATASET_0/REAL:  20%|██        | 36/178 [00:28<01:11,  1.99it/s]"
          ]
        },
        {
          "name": "stdout",
          "output_type": "stream",
          "text": [
            "Extracted 20 frames from the first 10 seconds of /content/drive/MyDrive/FOR_DATASET_0/DATASET_0/REAL/id22_0001.mp4\n"
          ]
        },
        {
          "name": "stderr",
          "output_type": "stream",
          "text": [
            "\rProcessing videos in /content/drive/MyDrive/FOR_DATASET_0/DATASET_0/REAL:  21%|██        | 37/178 [00:28<01:08,  2.05it/s]"
          ]
        },
        {
          "name": "stdout",
          "output_type": "stream",
          "text": [
            "Extracted 20 frames from the first 10 seconds of /content/drive/MyDrive/FOR_DATASET_0/DATASET_0/REAL/id23_0000.mp4\n"
          ]
        },
        {
          "name": "stderr",
          "output_type": "stream",
          "text": [
            "\rProcessing videos in /content/drive/MyDrive/FOR_DATASET_0/DATASET_0/REAL:  21%|██▏       | 38/178 [00:29<01:08,  2.06it/s]"
          ]
        },
        {
          "name": "stdout",
          "output_type": "stream",
          "text": [
            "Extracted 20 frames from the first 10 seconds of /content/drive/MyDrive/FOR_DATASET_0/DATASET_0/REAL/id22_0002.mp4\n"
          ]
        },
        {
          "name": "stderr",
          "output_type": "stream",
          "text": [
            "\rProcessing videos in /content/drive/MyDrive/FOR_DATASET_0/DATASET_0/REAL:  22%|██▏       | 39/178 [00:29<01:08,  2.04it/s]"
          ]
        },
        {
          "name": "stdout",
          "output_type": "stream",
          "text": [
            "Extracted 20 frames from the first 10 seconds of /content/drive/MyDrive/FOR_DATASET_0/DATASET_0/REAL/id23_0001.mp4\n"
          ]
        },
        {
          "name": "stderr",
          "output_type": "stream",
          "text": [
            "\rProcessing videos in /content/drive/MyDrive/FOR_DATASET_0/DATASET_0/REAL:  22%|██▏       | 40/178 [00:30<01:09,  2.00it/s]"
          ]
        },
        {
          "name": "stdout",
          "output_type": "stream",
          "text": [
            "Extracted 20 frames from the first 10 seconds of /content/drive/MyDrive/FOR_DATASET_0/DATASET_0/REAL/id23_0002.mp4\n"
          ]
        },
        {
          "name": "stderr",
          "output_type": "stream",
          "text": [
            "\rProcessing videos in /content/drive/MyDrive/FOR_DATASET_0/DATASET_0/REAL:  23%|██▎       | 41/178 [00:30<01:02,  2.18it/s]"
          ]
        },
        {
          "name": "stdout",
          "output_type": "stream",
          "text": [
            "Extracted 20 frames from the first 10 seconds of /content/drive/MyDrive/FOR_DATASET_0/DATASET_0/REAL/id24_0002.mp4\n"
          ]
        },
        {
          "name": "stderr",
          "output_type": "stream",
          "text": [
            "\rProcessing videos in /content/drive/MyDrive/FOR_DATASET_0/DATASET_0/REAL:  24%|██▎       | 42/178 [00:31<01:03,  2.15it/s]"
          ]
        },
        {
          "name": "stdout",
          "output_type": "stream",
          "text": [
            "Extracted 20 frames from the first 10 seconds of /content/drive/MyDrive/FOR_DATASET_0/DATASET_0/REAL/id24_0000.mp4\n"
          ]
        },
        {
          "name": "stderr",
          "output_type": "stream",
          "text": [
            "\rProcessing videos in /content/drive/MyDrive/FOR_DATASET_0/DATASET_0/REAL:  24%|██▍       | 43/178 [00:31<01:01,  2.19it/s]"
          ]
        },
        {
          "name": "stdout",
          "output_type": "stream",
          "text": [
            "Extracted 20 frames from the first 10 seconds of /content/drive/MyDrive/FOR_DATASET_0/DATASET_0/REAL/id25_0000.mp4\n"
          ]
        },
        {
          "name": "stderr",
          "output_type": "stream",
          "text": [
            "\rProcessing videos in /content/drive/MyDrive/FOR_DATASET_0/DATASET_0/REAL:  25%|██▍       | 44/178 [00:32<01:01,  2.18it/s]"
          ]
        },
        {
          "name": "stdout",
          "output_type": "stream",
          "text": [
            "Extracted 20 frames from the first 10 seconds of /content/drive/MyDrive/FOR_DATASET_0/DATASET_0/REAL/id24_0001.mp4\n"
          ]
        },
        {
          "name": "stderr",
          "output_type": "stream",
          "text": [
            "\rProcessing videos in /content/drive/MyDrive/FOR_DATASET_0/DATASET_0/REAL:  25%|██▌       | 45/178 [00:32<01:02,  2.13it/s]"
          ]
        },
        {
          "name": "stdout",
          "output_type": "stream",
          "text": [
            "Extracted 20 frames from the first 10 seconds of /content/drive/MyDrive/FOR_DATASET_0/DATASET_0/REAL/id25_0001.mp4\n"
          ]
        },
        {
          "name": "stderr",
          "output_type": "stream",
          "text": [
            "\rProcessing videos in /content/drive/MyDrive/FOR_DATASET_0/DATASET_0/REAL:  26%|██▌       | 46/178 [00:33<01:04,  2.05it/s]"
          ]
        },
        {
          "name": "stdout",
          "output_type": "stream",
          "text": [
            "Extracted 20 frames from the first 10 seconds of /content/drive/MyDrive/FOR_DATASET_0/DATASET_0/REAL/id25_0002.mp4\n"
          ]
        },
        {
          "name": "stderr",
          "output_type": "stream",
          "text": [
            "\rProcessing videos in /content/drive/MyDrive/FOR_DATASET_0/DATASET_0/REAL:  26%|██▋       | 47/178 [00:33<01:04,  2.02it/s]"
          ]
        },
        {
          "name": "stdout",
          "output_type": "stream",
          "text": [
            "Extracted 20 frames from the first 10 seconds of /content/drive/MyDrive/FOR_DATASET_0/DATASET_0/REAL/id26_0000.mp4\n"
          ]
        },
        {
          "name": "stderr",
          "output_type": "stream",
          "text": [
            "\rProcessing videos in /content/drive/MyDrive/FOR_DATASET_0/DATASET_0/REAL:  27%|██▋       | 48/178 [00:34<01:04,  2.02it/s]"
          ]
        },
        {
          "name": "stdout",
          "output_type": "stream",
          "text": [
            "Extracted 20 frames from the first 10 seconds of /content/drive/MyDrive/FOR_DATASET_0/DATASET_0/REAL/id27_0000.mp4\n"
          ]
        },
        {
          "name": "stderr",
          "output_type": "stream",
          "text": [
            "\rProcessing videos in /content/drive/MyDrive/FOR_DATASET_0/DATASET_0/REAL:  28%|██▊       | 49/178 [00:34<01:01,  2.08it/s]"
          ]
        },
        {
          "name": "stdout",
          "output_type": "stream",
          "text": [
            "Extracted 20 frames from the first 10 seconds of /content/drive/MyDrive/FOR_DATASET_0/DATASET_0/REAL/id27_0001.mp4\n"
          ]
        },
        {
          "name": "stderr",
          "output_type": "stream",
          "text": [
            "\rProcessing videos in /content/drive/MyDrive/FOR_DATASET_0/DATASET_0/REAL:  28%|██▊       | 50/178 [00:35<01:04,  2.00it/s]"
          ]
        },
        {
          "name": "stdout",
          "output_type": "stream",
          "text": [
            "Extracted 20 frames from the first 10 seconds of /content/drive/MyDrive/FOR_DATASET_0/DATASET_0/REAL/id26_0001.mp4\n"
          ]
        },
        {
          "name": "stderr",
          "output_type": "stream",
          "text": [
            "\rProcessing videos in /content/drive/MyDrive/FOR_DATASET_0/DATASET_0/REAL:  29%|██▊       | 51/178 [00:35<01:03,  2.00it/s]"
          ]
        },
        {
          "name": "stdout",
          "output_type": "stream",
          "text": [
            "Extracted 20 frames from the first 10 seconds of /content/drive/MyDrive/FOR_DATASET_0/DATASET_0/REAL/id27_0002.mp4\n"
          ]
        },
        {
          "name": "stderr",
          "output_type": "stream",
          "text": [
            "\rProcessing videos in /content/drive/MyDrive/FOR_DATASET_0/DATASET_0/REAL:  29%|██▉       | 52/178 [00:36<01:02,  2.01it/s]"
          ]
        },
        {
          "name": "stdout",
          "output_type": "stream",
          "text": [
            "Extracted 20 frames from the first 10 seconds of /content/drive/MyDrive/FOR_DATASET_0/DATASET_0/REAL/id26_0002.mp4\n"
          ]
        },
        {
          "name": "stderr",
          "output_type": "stream",
          "text": [
            "\rProcessing videos in /content/drive/MyDrive/FOR_DATASET_0/DATASET_0/REAL:  30%|██▉       | 53/178 [00:36<01:10,  1.77it/s]"
          ]
        },
        {
          "name": "stdout",
          "output_type": "stream",
          "text": [
            "Extracted 20 frames from the first 10 seconds of /content/drive/MyDrive/FOR_DATASET_0/DATASET_0/REAL/id29_0000.mp4\n"
          ]
        },
        {
          "name": "stderr",
          "output_type": "stream",
          "text": [
            "\rProcessing videos in /content/drive/MyDrive/FOR_DATASET_0/DATASET_0/REAL:  30%|███       | 54/178 [00:37<01:27,  1.41it/s]"
          ]
        },
        {
          "name": "stdout",
          "output_type": "stream",
          "text": [
            "Extracted 20 frames from the first 10 seconds of /content/drive/MyDrive/FOR_DATASET_0/DATASET_0/REAL/id29_0001.mp4\n"
          ]
        },
        {
          "name": "stderr",
          "output_type": "stream",
          "text": [
            "\rProcessing videos in /content/drive/MyDrive/FOR_DATASET_0/DATASET_0/REAL:  31%|███       | 55/178 [00:38<01:38,  1.25it/s]"
          ]
        },
        {
          "name": "stdout",
          "output_type": "stream",
          "text": [
            "Extracted 20 frames from the first 10 seconds of /content/drive/MyDrive/FOR_DATASET_0/DATASET_0/REAL/id29_0002.mp4\n"
          ]
        },
        {
          "name": "stderr",
          "output_type": "stream",
          "text": [
            "\rProcessing videos in /content/drive/MyDrive/FOR_DATASET_0/DATASET_0/REAL:  31%|███▏      | 56/178 [00:39<01:35,  1.28it/s]"
          ]
        },
        {
          "name": "stdout",
          "output_type": "stream",
          "text": [
            "Extracted 20 frames from the first 10 seconds of /content/drive/MyDrive/FOR_DATASET_0/DATASET_0/REAL/id30_0002.mp4\n"
          ]
        },
        {
          "name": "stderr",
          "output_type": "stream",
          "text": [
            "\rProcessing videos in /content/drive/MyDrive/FOR_DATASET_0/DATASET_0/REAL:  32%|███▏      | 57/178 [00:40<01:29,  1.35it/s]"
          ]
        },
        {
          "name": "stdout",
          "output_type": "stream",
          "text": [
            "Extracted 20 frames from the first 10 seconds of /content/drive/MyDrive/FOR_DATASET_0/DATASET_0/REAL/id2_0001.mp4\n"
          ]
        },
        {
          "name": "stderr",
          "output_type": "stream",
          "text": [
            "\rProcessing videos in /content/drive/MyDrive/FOR_DATASET_0/DATASET_0/REAL:  33%|███▎      | 58/178 [00:40<01:25,  1.40it/s]"
          ]
        },
        {
          "name": "stdout",
          "output_type": "stream",
          "text": [
            "Extracted 20 frames from the first 10 seconds of /content/drive/MyDrive/FOR_DATASET_0/DATASET_0/REAL/id2_0002.mp4\n"
          ]
        },
        {
          "name": "stderr",
          "output_type": "stream",
          "text": [
            "\rProcessing videos in /content/drive/MyDrive/FOR_DATASET_0/DATASET_0/REAL:  33%|███▎      | 59/178 [00:41<01:24,  1.40it/s]"
          ]
        },
        {
          "name": "stdout",
          "output_type": "stream",
          "text": [
            "Extracted 20 frames from the first 10 seconds of /content/drive/MyDrive/FOR_DATASET_0/DATASET_0/REAL/id2_0000.mp4\n"
          ]
        },
        {
          "name": "stderr",
          "output_type": "stream",
          "text": [
            "\rProcessing videos in /content/drive/MyDrive/FOR_DATASET_0/DATASET_0/REAL:  34%|███▎      | 60/178 [00:42<01:23,  1.41it/s]"
          ]
        },
        {
          "name": "stdout",
          "output_type": "stream",
          "text": [
            "Extracted 20 frames from the first 10 seconds of /content/drive/MyDrive/FOR_DATASET_0/DATASET_0/REAL/id30_0001.mp4\n"
          ]
        },
        {
          "name": "stderr",
          "output_type": "stream",
          "text": [
            "\rProcessing videos in /content/drive/MyDrive/FOR_DATASET_0/DATASET_0/REAL:  34%|███▍      | 61/178 [00:42<01:18,  1.50it/s]"
          ]
        },
        {
          "name": "stdout",
          "output_type": "stream",
          "text": [
            "Extracted 20 frames from the first 10 seconds of /content/drive/MyDrive/FOR_DATASET_0/DATASET_0/REAL/id30_0000.mp4\n"
          ]
        },
        {
          "name": "stderr",
          "output_type": "stream",
          "text": [
            "\rProcessing videos in /content/drive/MyDrive/FOR_DATASET_0/DATASET_0/REAL:  35%|███▍      | 62/178 [00:43<01:11,  1.62it/s]"
          ]
        },
        {
          "name": "stdout",
          "output_type": "stream",
          "text": [
            "Extracted 20 frames from the first 10 seconds of /content/drive/MyDrive/FOR_DATASET_0/DATASET_0/REAL/id31_0002.mp4\n"
          ]
        },
        {
          "name": "stderr",
          "output_type": "stream",
          "text": [
            "\rProcessing videos in /content/drive/MyDrive/FOR_DATASET_0/DATASET_0/REAL:  35%|███▌      | 63/178 [00:43<01:05,  1.75it/s]"
          ]
        },
        {
          "name": "stdout",
          "output_type": "stream",
          "text": [
            "Extracted 20 frames from the first 10 seconds of /content/drive/MyDrive/FOR_DATASET_0/DATASET_0/REAL/id31_0001.mp4\n"
          ]
        },
        {
          "name": "stderr",
          "output_type": "stream",
          "text": [
            "\rProcessing videos in /content/drive/MyDrive/FOR_DATASET_0/DATASET_0/REAL:  36%|███▌      | 64/178 [00:44<01:03,  1.80it/s]"
          ]
        },
        {
          "name": "stdout",
          "output_type": "stream",
          "text": [
            "Extracted 20 frames from the first 10 seconds of /content/drive/MyDrive/FOR_DATASET_0/DATASET_0/REAL/id31_0000.mp4\n"
          ]
        },
        {
          "name": "stderr",
          "output_type": "stream",
          "text": [
            "\rProcessing videos in /content/drive/MyDrive/FOR_DATASET_0/DATASET_0/REAL:  37%|███▋      | 65/178 [00:44<01:01,  1.85it/s]"
          ]
        },
        {
          "name": "stdout",
          "output_type": "stream",
          "text": [
            "Extracted 20 frames from the first 10 seconds of /content/drive/MyDrive/FOR_DATASET_0/DATASET_0/REAL/id33_0001.mp4\n"
          ]
        },
        {
          "name": "stderr",
          "output_type": "stream",
          "text": [
            "\rProcessing videos in /content/drive/MyDrive/FOR_DATASET_0/DATASET_0/REAL:  37%|███▋      | 66/178 [00:45<01:00,  1.85it/s]"
          ]
        },
        {
          "name": "stdout",
          "output_type": "stream",
          "text": [
            "Extracted 20 frames from the first 10 seconds of /content/drive/MyDrive/FOR_DATASET_0/DATASET_0/REAL/id33_0000.mp4\n"
          ]
        },
        {
          "name": "stderr",
          "output_type": "stream",
          "text": [
            "\rProcessing videos in /content/drive/MyDrive/FOR_DATASET_0/DATASET_0/REAL:  38%|███▊      | 67/178 [00:45<00:57,  1.92it/s]"
          ]
        },
        {
          "name": "stdout",
          "output_type": "stream",
          "text": [
            "Extracted 20 frames from the first 10 seconds of /content/drive/MyDrive/FOR_DATASET_0/DATASET_0/REAL/id32_0001.mp4\n"
          ]
        },
        {
          "name": "stderr",
          "output_type": "stream",
          "text": [
            "\rProcessing videos in /content/drive/MyDrive/FOR_DATASET_0/DATASET_0/REAL:  38%|███▊      | 68/178 [00:46<00:56,  1.93it/s]"
          ]
        },
        {
          "name": "stdout",
          "output_type": "stream",
          "text": [
            "Extracted 20 frames from the first 10 seconds of /content/drive/MyDrive/FOR_DATASET_0/DATASET_0/REAL/id32_0000.mp4\n"
          ]
        },
        {
          "name": "stderr",
          "output_type": "stream",
          "text": [
            "\rProcessing videos in /content/drive/MyDrive/FOR_DATASET_0/DATASET_0/REAL:  39%|███▉      | 69/178 [00:46<00:55,  1.95it/s]"
          ]
        },
        {
          "name": "stdout",
          "output_type": "stream",
          "text": [
            "Extracted 20 frames from the first 10 seconds of /content/drive/MyDrive/FOR_DATASET_0/DATASET_0/REAL/id32_0002.mp4\n"
          ]
        },
        {
          "name": "stderr",
          "output_type": "stream",
          "text": [
            "\rProcessing videos in /content/drive/MyDrive/FOR_DATASET_0/DATASET_0/REAL:  39%|███▉      | 70/178 [00:47<00:54,  1.97it/s]"
          ]
        },
        {
          "name": "stdout",
          "output_type": "stream",
          "text": [
            "Extracted 20 frames from the first 10 seconds of /content/drive/MyDrive/FOR_DATASET_0/DATASET_0/REAL/id34_0002.mp4\n"
          ]
        },
        {
          "name": "stderr",
          "output_type": "stream",
          "text": [
            "\rProcessing videos in /content/drive/MyDrive/FOR_DATASET_0/DATASET_0/REAL:  40%|███▉      | 71/178 [00:47<00:53,  1.99it/s]"
          ]
        },
        {
          "name": "stdout",
          "output_type": "stream",
          "text": [
            "Extracted 20 frames from the first 10 seconds of /content/drive/MyDrive/FOR_DATASET_0/DATASET_0/REAL/id34_0000.mp4\n"
          ]
        },
        {
          "name": "stderr",
          "output_type": "stream",
          "text": [
            "\rProcessing videos in /content/drive/MyDrive/FOR_DATASET_0/DATASET_0/REAL:  40%|████      | 72/178 [00:48<00:53,  1.99it/s]"
          ]
        },
        {
          "name": "stdout",
          "output_type": "stream",
          "text": [
            "Extracted 20 frames from the first 10 seconds of /content/drive/MyDrive/FOR_DATASET_0/DATASET_0/REAL/id34_0001.mp4\n"
          ]
        },
        {
          "name": "stderr",
          "output_type": "stream",
          "text": [
            "\rProcessing videos in /content/drive/MyDrive/FOR_DATASET_0/DATASET_0/REAL:  41%|████      | 73/178 [00:48<00:52,  2.01it/s]"
          ]
        },
        {
          "name": "stdout",
          "output_type": "stream",
          "text": [
            "Extracted 20 frames from the first 10 seconds of /content/drive/MyDrive/FOR_DATASET_0/DATASET_0/REAL/id33_0002.mp4\n"
          ]
        },
        {
          "name": "stderr",
          "output_type": "stream",
          "text": [
            "\rProcessing videos in /content/drive/MyDrive/FOR_DATASET_0/DATASET_0/REAL:  42%|████▏     | 74/178 [00:49<00:51,  2.02it/s]"
          ]
        },
        {
          "name": "stdout",
          "output_type": "stream",
          "text": [
            "Extracted 20 frames from the first 10 seconds of /content/drive/MyDrive/FOR_DATASET_0/DATASET_0/REAL/id35_0002.mp4\n"
          ]
        },
        {
          "name": "stderr",
          "output_type": "stream",
          "text": [
            "\rProcessing videos in /content/drive/MyDrive/FOR_DATASET_0/DATASET_0/REAL:  42%|████▏     | 75/178 [00:49<00:52,  1.96it/s]"
          ]
        },
        {
          "name": "stdout",
          "output_type": "stream",
          "text": [
            "Extracted 20 frames from the first 10 seconds of /content/drive/MyDrive/FOR_DATASET_0/DATASET_0/REAL/id35_0001.mp4\n"
          ]
        },
        {
          "name": "stderr",
          "output_type": "stream",
          "text": [
            "\rProcessing videos in /content/drive/MyDrive/FOR_DATASET_0/DATASET_0/REAL:  43%|████▎     | 76/178 [00:50<00:53,  1.91it/s]"
          ]
        },
        {
          "name": "stdout",
          "output_type": "stream",
          "text": [
            "Extracted 20 frames from the first 10 seconds of /content/drive/MyDrive/FOR_DATASET_0/DATASET_0/REAL/id35_0000.mp4\n"
          ]
        },
        {
          "name": "stderr",
          "output_type": "stream",
          "text": [
            "\rProcessing videos in /content/drive/MyDrive/FOR_DATASET_0/DATASET_0/REAL:  43%|████▎     | 77/178 [00:51<00:54,  1.85it/s]"
          ]
        },
        {
          "name": "stdout",
          "output_type": "stream",
          "text": [
            "Extracted 20 frames from the first 10 seconds of /content/drive/MyDrive/FOR_DATASET_0/DATASET_0/REAL/id36_0000.mp4\n"
          ]
        },
        {
          "name": "stderr",
          "output_type": "stream",
          "text": [
            "\rProcessing videos in /content/drive/MyDrive/FOR_DATASET_0/DATASET_0/REAL:  44%|████▍     | 78/178 [00:51<00:53,  1.86it/s]"
          ]
        },
        {
          "name": "stdout",
          "output_type": "stream",
          "text": [
            "Extracted 20 frames from the first 10 seconds of /content/drive/MyDrive/FOR_DATASET_0/DATASET_0/REAL/id36_0002.mp4\n"
          ]
        },
        {
          "name": "stderr",
          "output_type": "stream",
          "text": [
            "\rProcessing videos in /content/drive/MyDrive/FOR_DATASET_0/DATASET_0/REAL:  44%|████▍     | 79/178 [00:52<00:51,  1.92it/s]"
          ]
        },
        {
          "name": "stdout",
          "output_type": "stream",
          "text": [
            "Extracted 20 frames from the first 10 seconds of /content/drive/MyDrive/FOR_DATASET_0/DATASET_0/REAL/id36_0001.mp4\n"
          ]
        },
        {
          "name": "stderr",
          "output_type": "stream",
          "text": [
            "\rProcessing videos in /content/drive/MyDrive/FOR_DATASET_0/DATASET_0/REAL:  45%|████▍     | 80/178 [00:52<00:53,  1.82it/s]"
          ]
        },
        {
          "name": "stdout",
          "output_type": "stream",
          "text": [
            "Extracted 20 frames from the first 10 seconds of /content/drive/MyDrive/FOR_DATASET_0/DATASET_0/REAL/id37_0001.mp4\n"
          ]
        },
        {
          "name": "stderr",
          "output_type": "stream",
          "text": [
            "\rProcessing videos in /content/drive/MyDrive/FOR_DATASET_0/DATASET_0/REAL:  46%|████▌     | 81/178 [00:53<00:57,  1.69it/s]"
          ]
        },
        {
          "name": "stdout",
          "output_type": "stream",
          "text": [
            "Extracted 20 frames from the first 10 seconds of /content/drive/MyDrive/FOR_DATASET_0/DATASET_0/REAL/id37_0000.mp4\n"
          ]
        },
        {
          "name": "stderr",
          "output_type": "stream",
          "text": [
            "\rProcessing videos in /content/drive/MyDrive/FOR_DATASET_0/DATASET_0/REAL:  46%|████▌     | 82/178 [00:54<01:00,  1.59it/s]"
          ]
        },
        {
          "name": "stdout",
          "output_type": "stream",
          "text": [
            "Extracted 20 frames from the first 10 seconds of /content/drive/MyDrive/FOR_DATASET_0/DATASET_0/REAL/id37_0002.mp4\n"
          ]
        },
        {
          "name": "stderr",
          "output_type": "stream",
          "text": [
            "\rProcessing videos in /content/drive/MyDrive/FOR_DATASET_0/DATASET_0/REAL:  47%|████▋     | 83/178 [00:54<01:02,  1.53it/s]"
          ]
        },
        {
          "name": "stdout",
          "output_type": "stream",
          "text": [
            "Extracted 20 frames from the first 10 seconds of /content/drive/MyDrive/FOR_DATASET_0/DATASET_0/REAL/id39_0001.mp4\n"
          ]
        },
        {
          "name": "stderr",
          "output_type": "stream",
          "text": [
            "\rProcessing videos in /content/drive/MyDrive/FOR_DATASET_0/DATASET_0/REAL:  47%|████▋     | 84/178 [00:55<01:03,  1.49it/s]"
          ]
        },
        {
          "name": "stdout",
          "output_type": "stream",
          "text": [
            "Extracted 20 frames from the first 10 seconds of /content/drive/MyDrive/FOR_DATASET_0/DATASET_0/REAL/id38_0003.mp4\n"
          ]
        },
        {
          "name": "stderr",
          "output_type": "stream",
          "text": [
            "\rProcessing videos in /content/drive/MyDrive/FOR_DATASET_0/DATASET_0/REAL:  48%|████▊     | 85/178 [00:56<00:59,  1.56it/s]"
          ]
        },
        {
          "name": "stdout",
          "output_type": "stream",
          "text": [
            "Extracted 20 frames from the first 10 seconds of /content/drive/MyDrive/FOR_DATASET_0/DATASET_0/REAL/id39_0000.mp4\n"
          ]
        },
        {
          "name": "stderr",
          "output_type": "stream",
          "text": [
            "\rProcessing videos in /content/drive/MyDrive/FOR_DATASET_0/DATASET_0/REAL:  48%|████▊     | 86/178 [00:56<01:02,  1.46it/s]"
          ]
        },
        {
          "name": "stdout",
          "output_type": "stream",
          "text": [
            "Extracted 20 frames from the first 10 seconds of /content/drive/MyDrive/FOR_DATASET_0/DATASET_0/REAL/id38_0001.mp4\n"
          ]
        },
        {
          "name": "stderr",
          "output_type": "stream",
          "text": [
            "\rProcessing videos in /content/drive/MyDrive/FOR_DATASET_0/DATASET_0/REAL:  49%|████▉     | 87/178 [00:57<01:03,  1.43it/s]"
          ]
        },
        {
          "name": "stdout",
          "output_type": "stream",
          "text": [
            "Extracted 20 frames from the first 10 seconds of /content/drive/MyDrive/FOR_DATASET_0/DATASET_0/REAL/id38_0002.mp4\n"
          ]
        },
        {
          "name": "stderr",
          "output_type": "stream",
          "text": [
            "\rProcessing videos in /content/drive/MyDrive/FOR_DATASET_0/DATASET_0/REAL:  49%|████▉     | 88/178 [00:58<00:57,  1.58it/s]"
          ]
        },
        {
          "name": "stdout",
          "output_type": "stream",
          "text": [
            "Extracted 20 frames from the first 10 seconds of /content/drive/MyDrive/FOR_DATASET_0/DATASET_0/REAL/id3_0000.mp4\n"
          ]
        },
        {
          "name": "stderr",
          "output_type": "stream",
          "text": [
            "\rProcessing videos in /content/drive/MyDrive/FOR_DATASET_0/DATASET_0/REAL:  50%|█████     | 89/178 [00:58<00:53,  1.67it/s]"
          ]
        },
        {
          "name": "stdout",
          "output_type": "stream",
          "text": [
            "Extracted 20 frames from the first 10 seconds of /content/drive/MyDrive/FOR_DATASET_0/DATASET_0/REAL/id39_0002.mp4\n"
          ]
        },
        {
          "name": "stderr",
          "output_type": "stream",
          "text": [
            "\rProcessing videos in /content/drive/MyDrive/FOR_DATASET_0/DATASET_0/REAL:  51%|█████     | 90/178 [00:59<00:48,  1.82it/s]"
          ]
        },
        {
          "name": "stdout",
          "output_type": "stream",
          "text": [
            "Extracted 20 frames from the first 10 seconds of /content/drive/MyDrive/FOR_DATASET_0/DATASET_0/REAL/id3_0002.mp4\n"
          ]
        },
        {
          "name": "stderr",
          "output_type": "stream",
          "text": [
            "\rProcessing videos in /content/drive/MyDrive/FOR_DATASET_0/DATASET_0/REAL:  51%|█████     | 91/178 [00:59<00:44,  1.95it/s]"
          ]
        },
        {
          "name": "stdout",
          "output_type": "stream",
          "text": [
            "Extracted 20 frames from the first 10 seconds of /content/drive/MyDrive/FOR_DATASET_0/DATASET_0/REAL/id3_0001.mp4\n"
          ]
        },
        {
          "name": "stderr",
          "output_type": "stream",
          "text": [
            "\rProcessing videos in /content/drive/MyDrive/FOR_DATASET_0/DATASET_0/REAL:  52%|█████▏    | 92/178 [00:59<00:40,  2.12it/s]"
          ]
        },
        {
          "name": "stdout",
          "output_type": "stream",
          "text": [
            "Extracted 20 frames from the first 10 seconds of /content/drive/MyDrive/FOR_DATASET_0/DATASET_0/REAL/id40_0000.mp4\n"
          ]
        },
        {
          "name": "stderr",
          "output_type": "stream",
          "text": [
            "\rProcessing videos in /content/drive/MyDrive/FOR_DATASET_0/DATASET_0/REAL:  52%|█████▏    | 93/178 [01:00<00:37,  2.27it/s]"
          ]
        },
        {
          "name": "stdout",
          "output_type": "stream",
          "text": [
            "Extracted 20 frames from the first 10 seconds of /content/drive/MyDrive/FOR_DATASET_0/DATASET_0/REAL/id40_0001.mp4\n"
          ]
        },
        {
          "name": "stderr",
          "output_type": "stream",
          "text": [
            "\rProcessing videos in /content/drive/MyDrive/FOR_DATASET_0/DATASET_0/REAL:  53%|█████▎    | 94/178 [01:00<00:38,  2.16it/s]"
          ]
        },
        {
          "name": "stdout",
          "output_type": "stream",
          "text": [
            "Extracted 20 frames from the first 10 seconds of /content/drive/MyDrive/FOR_DATASET_0/DATASET_0/REAL/id40_0002.mp4\n"
          ]
        },
        {
          "name": "stderr",
          "output_type": "stream",
          "text": [
            "\rProcessing videos in /content/drive/MyDrive/FOR_DATASET_0/DATASET_0/REAL:  53%|█████▎    | 95/178 [01:01<00:38,  2.13it/s]"
          ]
        },
        {
          "name": "stdout",
          "output_type": "stream",
          "text": [
            "Extracted 20 frames from the first 10 seconds of /content/drive/MyDrive/FOR_DATASET_0/DATASET_0/REAL/id41_0001.mp4\n"
          ]
        },
        {
          "name": "stderr",
          "output_type": "stream",
          "text": [
            "\rProcessing videos in /content/drive/MyDrive/FOR_DATASET_0/DATASET_0/REAL:  54%|█████▍    | 96/178 [01:01<00:39,  2.09it/s]"
          ]
        },
        {
          "name": "stdout",
          "output_type": "stream",
          "text": [
            "Extracted 20 frames from the first 10 seconds of /content/drive/MyDrive/FOR_DATASET_0/DATASET_0/REAL/id42_0002.mp4\n"
          ]
        },
        {
          "name": "stderr",
          "output_type": "stream",
          "text": [
            "\rProcessing videos in /content/drive/MyDrive/FOR_DATASET_0/DATASET_0/REAL:  54%|█████▍    | 97/178 [01:02<00:39,  2.05it/s]"
          ]
        },
        {
          "name": "stdout",
          "output_type": "stream",
          "text": [
            "Extracted 20 frames from the first 10 seconds of /content/drive/MyDrive/FOR_DATASET_0/DATASET_0/REAL/id42_0000.mp4\n"
          ]
        },
        {
          "name": "stderr",
          "output_type": "stream",
          "text": [
            "\rProcessing videos in /content/drive/MyDrive/FOR_DATASET_0/DATASET_0/REAL:  55%|█████▌    | 98/178 [01:02<00:38,  2.06it/s]"
          ]
        },
        {
          "name": "stdout",
          "output_type": "stream",
          "text": [
            "Extracted 20 frames from the first 10 seconds of /content/drive/MyDrive/FOR_DATASET_0/DATASET_0/REAL/id41_0000.mp4\n"
          ]
        },
        {
          "name": "stderr",
          "output_type": "stream",
          "text": [
            "\rProcessing videos in /content/drive/MyDrive/FOR_DATASET_0/DATASET_0/REAL:  56%|█████▌    | 99/178 [01:03<00:38,  2.05it/s]"
          ]
        },
        {
          "name": "stdout",
          "output_type": "stream",
          "text": [
            "Extracted 20 frames from the first 10 seconds of /content/drive/MyDrive/FOR_DATASET_0/DATASET_0/REAL/id41_0002.mp4\n"
          ]
        },
        {
          "name": "stderr",
          "output_type": "stream",
          "text": [
            "\rProcessing videos in /content/drive/MyDrive/FOR_DATASET_0/DATASET_0/REAL:  56%|█████▌    | 100/178 [01:03<00:35,  2.18it/s]"
          ]
        },
        {
          "name": "stdout",
          "output_type": "stream",
          "text": [
            "Extracted 20 frames from the first 10 seconds of /content/drive/MyDrive/FOR_DATASET_0/DATASET_0/REAL/id42_0001.mp4\n"
          ]
        },
        {
          "name": "stderr",
          "output_type": "stream",
          "text": [
            "\rProcessing videos in /content/drive/MyDrive/FOR_DATASET_0/DATASET_0/REAL:  57%|█████▋    | 101/178 [01:04<00:36,  2.13it/s]"
          ]
        },
        {
          "name": "stdout",
          "output_type": "stream",
          "text": [
            "Extracted 20 frames from the first 10 seconds of /content/drive/MyDrive/FOR_DATASET_0/DATASET_0/REAL/id44_0001.mp4\n"
          ]
        },
        {
          "name": "stderr",
          "output_type": "stream",
          "text": [
            "\rProcessing videos in /content/drive/MyDrive/FOR_DATASET_0/DATASET_0/REAL:  57%|█████▋    | 102/178 [01:04<00:36,  2.09it/s]"
          ]
        },
        {
          "name": "stdout",
          "output_type": "stream",
          "text": [
            "Extracted 20 frames from the first 10 seconds of /content/drive/MyDrive/FOR_DATASET_0/DATASET_0/REAL/id43_0000.mp4\n"
          ]
        },
        {
          "name": "stderr",
          "output_type": "stream",
          "text": [
            "\rProcessing videos in /content/drive/MyDrive/FOR_DATASET_0/DATASET_0/REAL:  58%|█████▊    | 103/178 [01:05<00:37,  2.00it/s]"
          ]
        },
        {
          "name": "stdout",
          "output_type": "stream",
          "text": [
            "Extracted 20 frames from the first 10 seconds of /content/drive/MyDrive/FOR_DATASET_0/DATASET_0/REAL/id43_0002.mp4\n"
          ]
        },
        {
          "name": "stderr",
          "output_type": "stream",
          "text": [
            "\rProcessing videos in /content/drive/MyDrive/FOR_DATASET_0/DATASET_0/REAL:  58%|█████▊    | 104/178 [01:05<00:36,  2.03it/s]"
          ]
        },
        {
          "name": "stdout",
          "output_type": "stream",
          "text": [
            "Extracted 20 frames from the first 10 seconds of /content/drive/MyDrive/FOR_DATASET_0/DATASET_0/REAL/id43_0001.mp4\n"
          ]
        },
        {
          "name": "stderr",
          "output_type": "stream",
          "text": [
            "\rProcessing videos in /content/drive/MyDrive/FOR_DATASET_0/DATASET_0/REAL:  59%|█████▉    | 105/178 [01:06<00:35,  2.07it/s]"
          ]
        },
        {
          "name": "stdout",
          "output_type": "stream",
          "text": [
            "Extracted 20 frames from the first 10 seconds of /content/drive/MyDrive/FOR_DATASET_0/DATASET_0/REAL/id44_0000.mp4\n"
          ]
        },
        {
          "name": "stderr",
          "output_type": "stream",
          "text": [
            "\rProcessing videos in /content/drive/MyDrive/FOR_DATASET_0/DATASET_0/REAL:  60%|█████▉    | 106/178 [01:06<00:37,  1.91it/s]"
          ]
        },
        {
          "name": "stdout",
          "output_type": "stream",
          "text": [
            "Extracted 20 frames from the first 10 seconds of /content/drive/MyDrive/FOR_DATASET_0/DATASET_0/REAL/id44_0002.mp4\n"
          ]
        },
        {
          "name": "stderr",
          "output_type": "stream",
          "text": [
            "\rProcessing videos in /content/drive/MyDrive/FOR_DATASET_0/DATASET_0/REAL:  60%|██████    | 107/178 [01:07<00:38,  1.83it/s]"
          ]
        },
        {
          "name": "stdout",
          "output_type": "stream",
          "text": [
            "Extracted 20 frames from the first 10 seconds of /content/drive/MyDrive/FOR_DATASET_0/DATASET_0/REAL/id45_0001.mp4\n"
          ]
        },
        {
          "name": "stderr",
          "output_type": "stream",
          "text": [
            "\rProcessing videos in /content/drive/MyDrive/FOR_DATASET_0/DATASET_0/REAL:  61%|██████    | 108/178 [01:07<00:36,  1.94it/s]"
          ]
        },
        {
          "name": "stdout",
          "output_type": "stream",
          "text": [
            "Extracted 20 frames from the first 10 seconds of /content/drive/MyDrive/FOR_DATASET_0/DATASET_0/REAL/id46_0001.mp4\n"
          ]
        },
        {
          "name": "stderr",
          "output_type": "stream",
          "text": [
            "\rProcessing videos in /content/drive/MyDrive/FOR_DATASET_0/DATASET_0/REAL:  61%|██████    | 109/178 [01:08<00:37,  1.84it/s]"
          ]
        },
        {
          "name": "stdout",
          "output_type": "stream",
          "text": [
            "Extracted 20 frames from the first 10 seconds of /content/drive/MyDrive/FOR_DATASET_0/DATASET_0/REAL/id45_0000.mp4\n"
          ]
        },
        {
          "name": "stderr",
          "output_type": "stream",
          "text": [
            "\rProcessing videos in /content/drive/MyDrive/FOR_DATASET_0/DATASET_0/REAL:  62%|██████▏   | 110/178 [01:09<00:39,  1.71it/s]"
          ]
        },
        {
          "name": "stdout",
          "output_type": "stream",
          "text": [
            "Extracted 20 frames from the first 10 seconds of /content/drive/MyDrive/FOR_DATASET_0/DATASET_0/REAL/id45_0002.mp4\n"
          ]
        },
        {
          "name": "stderr",
          "output_type": "stream",
          "text": [
            "\rProcessing videos in /content/drive/MyDrive/FOR_DATASET_0/DATASET_0/REAL:  62%|██████▏   | 111/178 [01:09<00:39,  1.70it/s]"
          ]
        },
        {
          "name": "stdout",
          "output_type": "stream",
          "text": [
            "Extracted 20 frames from the first 10 seconds of /content/drive/MyDrive/FOR_DATASET_0/DATASET_0/REAL/id46_0002.mp4\n"
          ]
        },
        {
          "name": "stderr",
          "output_type": "stream",
          "text": [
            "\rProcessing videos in /content/drive/MyDrive/FOR_DATASET_0/DATASET_0/REAL:  63%|██████▎   | 112/178 [01:10<00:39,  1.67it/s]"
          ]
        },
        {
          "name": "stdout",
          "output_type": "stream",
          "text": [
            "Extracted 20 frames from the first 10 seconds of /content/drive/MyDrive/FOR_DATASET_0/DATASET_0/REAL/id46_0000.mp4\n"
          ]
        },
        {
          "name": "stderr",
          "output_type": "stream",
          "text": [
            "\rProcessing videos in /content/drive/MyDrive/FOR_DATASET_0/DATASET_0/REAL:  63%|██████▎   | 113/178 [01:11<00:42,  1.52it/s]"
          ]
        },
        {
          "name": "stdout",
          "output_type": "stream",
          "text": [
            "Extracted 20 frames from the first 10 seconds of /content/drive/MyDrive/FOR_DATASET_0/DATASET_0/REAL/id48_0000.mp4\n"
          ]
        },
        {
          "name": "stderr",
          "output_type": "stream",
          "text": [
            "\rProcessing videos in /content/drive/MyDrive/FOR_DATASET_0/DATASET_0/REAL:  64%|██████▍   | 114/178 [01:11<00:42,  1.51it/s]"
          ]
        },
        {
          "name": "stdout",
          "output_type": "stream",
          "text": [
            "Extracted 20 frames from the first 10 seconds of /content/drive/MyDrive/FOR_DATASET_0/DATASET_0/REAL/id47_0001.mp4\n"
          ]
        },
        {
          "name": "stderr",
          "output_type": "stream",
          "text": [
            "\rProcessing videos in /content/drive/MyDrive/FOR_DATASET_0/DATASET_0/REAL:  65%|██████▍   | 115/178 [01:12<00:41,  1.54it/s]"
          ]
        },
        {
          "name": "stdout",
          "output_type": "stream",
          "text": [
            "Extracted 20 frames from the first 10 seconds of /content/drive/MyDrive/FOR_DATASET_0/DATASET_0/REAL/id47_0000.mp4\n"
          ]
        },
        {
          "name": "stderr",
          "output_type": "stream",
          "text": [
            "\rProcessing videos in /content/drive/MyDrive/FOR_DATASET_0/DATASET_0/REAL:  65%|██████▌   | 116/178 [01:13<00:40,  1.53it/s]"
          ]
        },
        {
          "name": "stdout",
          "output_type": "stream",
          "text": [
            "Extracted 20 frames from the first 10 seconds of /content/drive/MyDrive/FOR_DATASET_0/DATASET_0/REAL/id47_0002.mp4\n"
          ]
        },
        {
          "name": "stderr",
          "output_type": "stream",
          "text": [
            "\rProcessing videos in /content/drive/MyDrive/FOR_DATASET_0/DATASET_0/REAL:  66%|██████▌   | 117/178 [01:13<00:36,  1.65it/s]"
          ]
        },
        {
          "name": "stdout",
          "output_type": "stream",
          "text": [
            "Extracted 20 frames from the first 10 seconds of /content/drive/MyDrive/FOR_DATASET_0/DATASET_0/REAL/id48_0002.mp4\n"
          ]
        },
        {
          "name": "stderr",
          "output_type": "stream",
          "text": [
            "\rProcessing videos in /content/drive/MyDrive/FOR_DATASET_0/DATASET_0/REAL:  66%|██████▋   | 118/178 [01:14<00:34,  1.75it/s]"
          ]
        },
        {
          "name": "stdout",
          "output_type": "stream",
          "text": [
            "Extracted 20 frames from the first 10 seconds of /content/drive/MyDrive/FOR_DATASET_0/DATASET_0/REAL/id48_0001.mp4\n"
          ]
        },
        {
          "name": "stderr",
          "output_type": "stream",
          "text": [
            "\rProcessing videos in /content/drive/MyDrive/FOR_DATASET_0/DATASET_0/REAL:  67%|██████▋   | 119/178 [01:14<00:32,  1.80it/s]"
          ]
        },
        {
          "name": "stdout",
          "output_type": "stream",
          "text": [
            "Extracted 20 frames from the first 10 seconds of /content/drive/MyDrive/FOR_DATASET_0/DATASET_0/REAL/id49_0001.mp4\n"
          ]
        },
        {
          "name": "stderr",
          "output_type": "stream",
          "text": [
            "\rProcessing videos in /content/drive/MyDrive/FOR_DATASET_0/DATASET_0/REAL:  67%|██████▋   | 120/178 [01:15<00:30,  1.88it/s]"
          ]
        },
        {
          "name": "stdout",
          "output_type": "stream",
          "text": [
            "Extracted 20 frames from the first 10 seconds of /content/drive/MyDrive/FOR_DATASET_0/DATASET_0/REAL/id49_0002.mp4\n"
          ]
        },
        {
          "name": "stderr",
          "output_type": "stream",
          "text": [
            "\rProcessing videos in /content/drive/MyDrive/FOR_DATASET_0/DATASET_0/REAL:  68%|██████▊   | 121/178 [01:15<00:29,  1.92it/s]"
          ]
        },
        {
          "name": "stdout",
          "output_type": "stream",
          "text": [
            "Extracted 20 frames from the first 10 seconds of /content/drive/MyDrive/FOR_DATASET_0/DATASET_0/REAL/id49_0000.mp4\n"
          ]
        },
        {
          "name": "stderr",
          "output_type": "stream",
          "text": [
            "\rProcessing videos in /content/drive/MyDrive/FOR_DATASET_0/DATASET_0/REAL:  69%|██████▊   | 122/178 [01:16<00:29,  1.89it/s]"
          ]
        },
        {
          "name": "stdout",
          "output_type": "stream",
          "text": [
            "Extracted 20 frames from the first 10 seconds of /content/drive/MyDrive/FOR_DATASET_0/DATASET_0/REAL/id4_0003.mp4\n"
          ]
        },
        {
          "name": "stderr",
          "output_type": "stream",
          "text": [
            "\rProcessing videos in /content/drive/MyDrive/FOR_DATASET_0/DATASET_0/REAL:  69%|██████▉   | 123/178 [01:16<00:29,  1.88it/s]"
          ]
        },
        {
          "name": "stdout",
          "output_type": "stream",
          "text": [
            "Extracted 20 frames from the first 10 seconds of /content/drive/MyDrive/FOR_DATASET_0/DATASET_0/REAL/id4_0001.mp4\n"
          ]
        },
        {
          "name": "stderr",
          "output_type": "stream",
          "text": [
            "\rProcessing videos in /content/drive/MyDrive/FOR_DATASET_0/DATASET_0/REAL:  70%|██████▉   | 124/178 [01:17<00:28,  1.92it/s]"
          ]
        },
        {
          "name": "stdout",
          "output_type": "stream",
          "text": [
            "Extracted 20 frames from the first 10 seconds of /content/drive/MyDrive/FOR_DATASET_0/DATASET_0/REAL/id4_0002.mp4\n"
          ]
        },
        {
          "name": "stderr",
          "output_type": "stream",
          "text": [
            "\rProcessing videos in /content/drive/MyDrive/FOR_DATASET_0/DATASET_0/REAL:  70%|███████   | 125/178 [01:17<00:27,  1.92it/s]"
          ]
        },
        {
          "name": "stdout",
          "output_type": "stream",
          "text": [
            "Extracted 20 frames from the first 10 seconds of /content/drive/MyDrive/FOR_DATASET_0/DATASET_0/REAL/id50_0000.mp4\n"
          ]
        },
        {
          "name": "stderr",
          "output_type": "stream",
          "text": [
            "\rProcessing videos in /content/drive/MyDrive/FOR_DATASET_0/DATASET_0/REAL:  71%|███████   | 126/178 [01:18<00:27,  1.89it/s]"
          ]
        },
        {
          "name": "stdout",
          "output_type": "stream",
          "text": [
            "Extracted 20 frames from the first 10 seconds of /content/drive/MyDrive/FOR_DATASET_0/DATASET_0/REAL/id50_0001.mp4\n"
          ]
        },
        {
          "name": "stderr",
          "output_type": "stream",
          "text": [
            "\rProcessing videos in /content/drive/MyDrive/FOR_DATASET_0/DATASET_0/REAL:  71%|███████▏  | 127/178 [01:18<00:27,  1.89it/s]"
          ]
        },
        {
          "name": "stdout",
          "output_type": "stream",
          "text": [
            "Extracted 20 frames from the first 10 seconds of /content/drive/MyDrive/FOR_DATASET_0/DATASET_0/REAL/id51_0003.mp4\n"
          ]
        },
        {
          "name": "stderr",
          "output_type": "stream",
          "text": [
            "\rProcessing videos in /content/drive/MyDrive/FOR_DATASET_0/DATASET_0/REAL:  72%|███████▏  | 128/178 [01:19<00:26,  1.90it/s]"
          ]
        },
        {
          "name": "stdout",
          "output_type": "stream",
          "text": [
            "Extracted 20 frames from the first 10 seconds of /content/drive/MyDrive/FOR_DATASET_0/DATASET_0/REAL/id51_0002.mp4\n"
          ]
        },
        {
          "name": "stderr",
          "output_type": "stream",
          "text": [
            "\rProcessing videos in /content/drive/MyDrive/FOR_DATASET_0/DATASET_0/REAL:  72%|███████▏  | 129/178 [01:19<00:25,  1.93it/s]"
          ]
        },
        {
          "name": "stdout",
          "output_type": "stream",
          "text": [
            "Extracted 20 frames from the first 10 seconds of /content/drive/MyDrive/FOR_DATASET_0/DATASET_0/REAL/id50_0002.mp4\n"
          ]
        },
        {
          "name": "stderr",
          "output_type": "stream",
          "text": [
            "\rProcessing videos in /content/drive/MyDrive/FOR_DATASET_0/DATASET_0/REAL:  73%|███████▎  | 130/178 [01:20<00:24,  1.97it/s]"
          ]
        },
        {
          "name": "stdout",
          "output_type": "stream",
          "text": [
            "Extracted 20 frames from the first 10 seconds of /content/drive/MyDrive/FOR_DATASET_0/DATASET_0/REAL/id51_0004.mp4\n"
          ]
        },
        {
          "name": "stderr",
          "output_type": "stream",
          "text": [
            "\rProcessing videos in /content/drive/MyDrive/FOR_DATASET_0/DATASET_0/REAL:  74%|███████▎  | 131/178 [01:20<00:24,  1.91it/s]"
          ]
        },
        {
          "name": "stdout",
          "output_type": "stream",
          "text": [
            "Extracted 20 frames from the first 10 seconds of /content/drive/MyDrive/FOR_DATASET_0/DATASET_0/REAL/id51_0005.mp4\n"
          ]
        },
        {
          "name": "stderr",
          "output_type": "stream",
          "text": [
            "\rProcessing videos in /content/drive/MyDrive/FOR_DATASET_0/DATASET_0/REAL:  74%|███████▍  | 132/178 [01:21<00:23,  1.93it/s]"
          ]
        },
        {
          "name": "stdout",
          "output_type": "stream",
          "text": [
            "Extracted 20 frames from the first 10 seconds of /content/drive/MyDrive/FOR_DATASET_0/DATASET_0/REAL/id52_0007.mp4\n"
          ]
        },
        {
          "name": "stderr",
          "output_type": "stream",
          "text": [
            "\rProcessing videos in /content/drive/MyDrive/FOR_DATASET_0/DATASET_0/REAL:  75%|███████▍  | 133/178 [01:21<00:23,  1.93it/s]"
          ]
        },
        {
          "name": "stdout",
          "output_type": "stream",
          "text": [
            "Extracted 20 frames from the first 10 seconds of /content/drive/MyDrive/FOR_DATASET_0/DATASET_0/REAL/id52_0008.mp4\n"
          ]
        },
        {
          "name": "stderr",
          "output_type": "stream",
          "text": [
            "\rProcessing videos in /content/drive/MyDrive/FOR_DATASET_0/DATASET_0/REAL:  75%|███████▌  | 134/178 [01:22<00:22,  1.99it/s]"
          ]
        },
        {
          "name": "stdout",
          "output_type": "stream",
          "text": [
            "Extracted 20 frames from the first 10 seconds of /content/drive/MyDrive/FOR_DATASET_0/DATASET_0/REAL/id54_0004.mp4\n"
          ]
        },
        {
          "name": "stderr",
          "output_type": "stream",
          "text": [
            "\rProcessing videos in /content/drive/MyDrive/FOR_DATASET_0/DATASET_0/REAL:  76%|███████▌  | 135/178 [01:22<00:22,  1.90it/s]"
          ]
        },
        {
          "name": "stdout",
          "output_type": "stream",
          "text": [
            "Extracted 20 frames from the first 10 seconds of /content/drive/MyDrive/FOR_DATASET_0/DATASET_0/REAL/id54_0003.mp4\n"
          ]
        },
        {
          "name": "stderr",
          "output_type": "stream",
          "text": [
            "\rProcessing videos in /content/drive/MyDrive/FOR_DATASET_0/DATASET_0/REAL:  76%|███████▋  | 136/178 [01:23<00:24,  1.70it/s]"
          ]
        },
        {
          "name": "stdout",
          "output_type": "stream",
          "text": [
            "Extracted 20 frames from the first 10 seconds of /content/drive/MyDrive/FOR_DATASET_0/DATASET_0/REAL/id52_0009.mp4\n"
          ]
        },
        {
          "name": "stderr",
          "output_type": "stream",
          "text": [
            "\rProcessing videos in /content/drive/MyDrive/FOR_DATASET_0/DATASET_0/REAL:  77%|███████▋  | 137/178 [01:24<00:25,  1.63it/s]"
          ]
        },
        {
          "name": "stdout",
          "output_type": "stream",
          "text": [
            "Extracted 20 frames from the first 10 seconds of /content/drive/MyDrive/FOR_DATASET_0/DATASET_0/REAL/id53_0002.mp4\n"
          ]
        },
        {
          "name": "stderr",
          "output_type": "stream",
          "text": [
            "\rProcessing videos in /content/drive/MyDrive/FOR_DATASET_0/DATASET_0/REAL:  78%|███████▊  | 138/178 [01:24<00:25,  1.57it/s]"
          ]
        },
        {
          "name": "stdout",
          "output_type": "stream",
          "text": [
            "Extracted 20 frames from the first 10 seconds of /content/drive/MyDrive/FOR_DATASET_0/DATASET_0/REAL/id53_0000.mp4\n"
          ]
        },
        {
          "name": "stderr",
          "output_type": "stream",
          "text": [
            "\rProcessing videos in /content/drive/MyDrive/FOR_DATASET_0/DATASET_0/REAL:  78%|███████▊  | 139/178 [01:25<00:25,  1.53it/s]"
          ]
        },
        {
          "name": "stdout",
          "output_type": "stream",
          "text": [
            "Extracted 20 frames from the first 10 seconds of /content/drive/MyDrive/FOR_DATASET_0/DATASET_0/REAL/id53_0001.mp4\n"
          ]
        },
        {
          "name": "stderr",
          "output_type": "stream",
          "text": [
            "\rProcessing videos in /content/drive/MyDrive/FOR_DATASET_0/DATASET_0/REAL:  79%|███████▊  | 140/178 [01:26<00:25,  1.47it/s]"
          ]
        },
        {
          "name": "stdout",
          "output_type": "stream",
          "text": [
            "Extracted 20 frames from the first 10 seconds of /content/drive/MyDrive/FOR_DATASET_0/DATASET_0/REAL/id55_0001.mp4\n"
          ]
        },
        {
          "name": "stderr",
          "output_type": "stream",
          "text": [
            "\rProcessing videos in /content/drive/MyDrive/FOR_DATASET_0/DATASET_0/REAL:  79%|███████▉  | 141/178 [01:27<00:25,  1.46it/s]"
          ]
        },
        {
          "name": "stdout",
          "output_type": "stream",
          "text": [
            "Extracted 20 frames from the first 10 seconds of /content/drive/MyDrive/FOR_DATASET_0/DATASET_0/REAL/id55_0002.mp4\n"
          ]
        },
        {
          "name": "stderr",
          "output_type": "stream",
          "text": [
            "\rProcessing videos in /content/drive/MyDrive/FOR_DATASET_0/DATASET_0/REAL:  80%|███████▉  | 142/178 [01:27<00:23,  1.53it/s]"
          ]
        },
        {
          "name": "stdout",
          "output_type": "stream",
          "text": [
            "Extracted 20 frames from the first 10 seconds of /content/drive/MyDrive/FOR_DATASET_0/DATASET_0/REAL/id54_0005.mp4\n"
          ]
        },
        {
          "name": "stderr",
          "output_type": "stream",
          "text": [
            "\rProcessing videos in /content/drive/MyDrive/FOR_DATASET_0/DATASET_0/REAL:  80%|████████  | 143/178 [01:28<00:21,  1.66it/s]"
          ]
        },
        {
          "name": "stdout",
          "output_type": "stream",
          "text": [
            "Extracted 20 frames from the first 10 seconds of /content/drive/MyDrive/FOR_DATASET_0/DATASET_0/REAL/id55_0000.mp4\n"
          ]
        },
        {
          "name": "stderr",
          "output_type": "stream",
          "text": [
            "\rProcessing videos in /content/drive/MyDrive/FOR_DATASET_0/DATASET_0/REAL:  81%|████████  | 144/178 [01:28<00:19,  1.75it/s]"
          ]
        },
        {
          "name": "stdout",
          "output_type": "stream",
          "text": [
            "Extracted 20 frames from the first 10 seconds of /content/drive/MyDrive/FOR_DATASET_0/DATASET_0/REAL/id57_0001.mp4\n"
          ]
        },
        {
          "name": "stderr",
          "output_type": "stream",
          "text": [
            "\rProcessing videos in /content/drive/MyDrive/FOR_DATASET_0/DATASET_0/REAL:  81%|████████▏ | 145/178 [01:29<00:19,  1.65it/s]"
          ]
        },
        {
          "name": "stdout",
          "output_type": "stream",
          "text": [
            "Extracted 20 frames from the first 10 seconds of /content/drive/MyDrive/FOR_DATASET_0/DATASET_0/REAL/id56_0008.mp4\n"
          ]
        },
        {
          "name": "stderr",
          "output_type": "stream",
          "text": [
            "\rProcessing videos in /content/drive/MyDrive/FOR_DATASET_0/DATASET_0/REAL:  82%|████████▏ | 146/178 [01:29<00:18,  1.74it/s]"
          ]
        },
        {
          "name": "stdout",
          "output_type": "stream",
          "text": [
            "Extracted 20 frames from the first 10 seconds of /content/drive/MyDrive/FOR_DATASET_0/DATASET_0/REAL/id57_0000.mp4\n"
          ]
        },
        {
          "name": "stderr",
          "output_type": "stream",
          "text": [
            "\rProcessing videos in /content/drive/MyDrive/FOR_DATASET_0/DATASET_0/REAL:  83%|████████▎ | 147/178 [01:30<00:17,  1.81it/s]"
          ]
        },
        {
          "name": "stdout",
          "output_type": "stream",
          "text": [
            "Extracted 20 frames from the first 10 seconds of /content/drive/MyDrive/FOR_DATASET_0/DATASET_0/REAL/id57_0002.mp4\n"
          ]
        },
        {
          "name": "stderr",
          "output_type": "stream",
          "text": [
            "\rProcessing videos in /content/drive/MyDrive/FOR_DATASET_0/DATASET_0/REAL:  83%|████████▎ | 148/178 [01:30<00:16,  1.83it/s]"
          ]
        },
        {
          "name": "stdout",
          "output_type": "stream",
          "text": [
            "Extracted 20 frames from the first 10 seconds of /content/drive/MyDrive/FOR_DATASET_0/DATASET_0/REAL/id56_0009.mp4\n"
          ]
        },
        {
          "name": "stderr",
          "output_type": "stream",
          "text": [
            "\rProcessing videos in /content/drive/MyDrive/FOR_DATASET_0/DATASET_0/REAL:  84%|████████▎ | 149/178 [01:31<00:15,  1.86it/s]"
          ]
        },
        {
          "name": "stdout",
          "output_type": "stream",
          "text": [
            "Extracted 20 frames from the first 10 seconds of /content/drive/MyDrive/FOR_DATASET_0/DATASET_0/REAL/id58_0001.mp4\n"
          ]
        },
        {
          "name": "stderr",
          "output_type": "stream",
          "text": [
            "\rProcessing videos in /content/drive/MyDrive/FOR_DATASET_0/DATASET_0/REAL:  84%|████████▍ | 150/178 [01:31<00:14,  1.89it/s]"
          ]
        },
        {
          "name": "stdout",
          "output_type": "stream",
          "text": [
            "Extracted 20 frames from the first 10 seconds of /content/drive/MyDrive/FOR_DATASET_0/DATASET_0/REAL/id58_0000.mp4\n"
          ]
        },
        {
          "name": "stderr",
          "output_type": "stream",
          "text": [
            "\rProcessing videos in /content/drive/MyDrive/FOR_DATASET_0/DATASET_0/REAL:  85%|████████▍ | 151/178 [01:32<00:14,  1.90it/s]"
          ]
        },
        {
          "name": "stdout",
          "output_type": "stream",
          "text": [
            "Extracted 20 frames from the first 10 seconds of /content/drive/MyDrive/FOR_DATASET_0/DATASET_0/REAL/id57_0009.mp4\n"
          ]
        },
        {
          "name": "stderr",
          "output_type": "stream",
          "text": [
            "\rProcessing videos in /content/drive/MyDrive/FOR_DATASET_0/DATASET_0/REAL:  85%|████████▌ | 152/178 [01:32<00:13,  1.92it/s]"
          ]
        },
        {
          "name": "stdout",
          "output_type": "stream",
          "text": [
            "Extracted 20 frames from the first 10 seconds of /content/drive/MyDrive/FOR_DATASET_0/DATASET_0/REAL/id58_0002.mp4\n"
          ]
        },
        {
          "name": "stderr",
          "output_type": "stream",
          "text": [
            "\rProcessing videos in /content/drive/MyDrive/FOR_DATASET_0/DATASET_0/REAL:  86%|████████▌ | 153/178 [01:33<00:12,  1.94it/s]"
          ]
        },
        {
          "name": "stdout",
          "output_type": "stream",
          "text": [
            "Extracted 20 frames from the first 10 seconds of /content/drive/MyDrive/FOR_DATASET_0/DATASET_0/REAL/id57_0008.mp4\n"
          ]
        },
        {
          "name": "stderr",
          "output_type": "stream",
          "text": [
            "\rProcessing videos in /content/drive/MyDrive/FOR_DATASET_0/DATASET_0/REAL:  87%|████████▋ | 154/178 [01:33<00:12,  1.94it/s]"
          ]
        },
        {
          "name": "stdout",
          "output_type": "stream",
          "text": [
            "Extracted 20 frames from the first 10 seconds of /content/drive/MyDrive/FOR_DATASET_0/DATASET_0/REAL/id57_0007.mp4\n"
          ]
        },
        {
          "name": "stderr",
          "output_type": "stream",
          "text": [
            "\rProcessing videos in /content/drive/MyDrive/FOR_DATASET_0/DATASET_0/REAL:  87%|████████▋ | 155/178 [01:34<00:12,  1.90it/s]"
          ]
        },
        {
          "name": "stdout",
          "output_type": "stream",
          "text": [
            "Extracted 20 frames from the first 10 seconds of /content/drive/MyDrive/FOR_DATASET_0/DATASET_0/REAL/id59_0009.mp4\n"
          ]
        },
        {
          "name": "stderr",
          "output_type": "stream",
          "text": [
            "\rProcessing videos in /content/drive/MyDrive/FOR_DATASET_0/DATASET_0/REAL:  88%|████████▊ | 156/178 [01:34<00:11,  1.97it/s]"
          ]
        },
        {
          "name": "stdout",
          "output_type": "stream",
          "text": [
            "Extracted 20 frames from the first 10 seconds of /content/drive/MyDrive/FOR_DATASET_0/DATASET_0/REAL/id59_0008.mp4\n"
          ]
        },
        {
          "name": "stderr",
          "output_type": "stream",
          "text": [
            "\rProcessing videos in /content/drive/MyDrive/FOR_DATASET_0/DATASET_0/REAL:  88%|████████▊ | 157/178 [01:35<00:11,  1.84it/s]"
          ]
        },
        {
          "name": "stdout",
          "output_type": "stream",
          "text": [
            "Extracted 20 frames from the first 10 seconds of /content/drive/MyDrive/FOR_DATASET_0/DATASET_0/REAL/id5_0001.mp4\n"
          ]
        },
        {
          "name": "stderr",
          "output_type": "stream",
          "text": [
            "\rProcessing videos in /content/drive/MyDrive/FOR_DATASET_0/DATASET_0/REAL:  89%|████████▉ | 158/178 [01:36<00:10,  1.82it/s]"
          ]
        },
        {
          "name": "stdout",
          "output_type": "stream",
          "text": [
            "Extracted 20 frames from the first 10 seconds of /content/drive/MyDrive/FOR_DATASET_0/DATASET_0/REAL/id5_0000.mp4\n"
          ]
        },
        {
          "name": "stderr",
          "output_type": "stream",
          "text": [
            "\rProcessing videos in /content/drive/MyDrive/FOR_DATASET_0/DATASET_0/REAL:  89%|████████▉ | 159/178 [01:36<00:10,  1.79it/s]"
          ]
        },
        {
          "name": "stdout",
          "output_type": "stream",
          "text": [
            "Extracted 20 frames from the first 10 seconds of /content/drive/MyDrive/FOR_DATASET_0/DATASET_0/REAL/id5_0002.mp4\n"
          ]
        },
        {
          "name": "stderr",
          "output_type": "stream",
          "text": [
            "\rProcessing videos in /content/drive/MyDrive/FOR_DATASET_0/DATASET_0/REAL:  90%|████████▉ | 160/178 [01:37<00:09,  1.81it/s]"
          ]
        },
        {
          "name": "stdout",
          "output_type": "stream",
          "text": [
            "Extracted 20 frames from the first 10 seconds of /content/drive/MyDrive/FOR_DATASET_0/DATASET_0/REAL/id60_0003.mp4\n"
          ]
        },
        {
          "name": "stderr",
          "output_type": "stream",
          "text": [
            "\rProcessing videos in /content/drive/MyDrive/FOR_DATASET_0/DATASET_0/REAL:  90%|█████████ | 161/178 [01:37<00:09,  1.76it/s]"
          ]
        },
        {
          "name": "stdout",
          "output_type": "stream",
          "text": [
            "Extracted 20 frames from the first 10 seconds of /content/drive/MyDrive/FOR_DATASET_0/DATASET_0/REAL/id60_0000.mp4\n"
          ]
        },
        {
          "name": "stderr",
          "output_type": "stream",
          "text": [
            "\rProcessing videos in /content/drive/MyDrive/FOR_DATASET_0/DATASET_0/REAL:  91%|█████████ | 162/178 [01:38<00:09,  1.63it/s]"
          ]
        },
        {
          "name": "stdout",
          "output_type": "stream",
          "text": [
            "Extracted 20 frames from the first 10 seconds of /content/drive/MyDrive/FOR_DATASET_0/DATASET_0/REAL/id60_0001.mp4\n"
          ]
        },
        {
          "name": "stderr",
          "output_type": "stream",
          "text": [
            "\rProcessing videos in /content/drive/MyDrive/FOR_DATASET_0/DATASET_0/REAL:  92%|█████████▏| 163/178 [01:39<00:09,  1.56it/s]"
          ]
        },
        {
          "name": "stdout",
          "output_type": "stream",
          "text": [
            "Extracted 20 frames from the first 10 seconds of /content/drive/MyDrive/FOR_DATASET_0/DATASET_0/REAL/id60_0002.mp4\n"
          ]
        },
        {
          "name": "stderr",
          "output_type": "stream",
          "text": [
            "\rProcessing videos in /content/drive/MyDrive/FOR_DATASET_0/DATASET_0/REAL:  92%|█████████▏| 164/178 [01:39<00:09,  1.54it/s]"
          ]
        },
        {
          "name": "stdout",
          "output_type": "stream",
          "text": [
            "Extracted 20 frames from the first 10 seconds of /content/drive/MyDrive/FOR_DATASET_0/DATASET_0/REAL/id61_0002.mp4\n"
          ]
        },
        {
          "name": "stderr",
          "output_type": "stream",
          "text": [
            "\rProcessing videos in /content/drive/MyDrive/FOR_DATASET_0/DATASET_0/REAL:  93%|█████████▎| 165/178 [01:40<00:09,  1.33it/s]"
          ]
        },
        {
          "name": "stdout",
          "output_type": "stream",
          "text": [
            "Extracted 20 frames from the first 10 seconds of /content/drive/MyDrive/FOR_DATASET_0/DATASET_0/REAL/id6_0001.mp4\n"
          ]
        },
        {
          "name": "stderr",
          "output_type": "stream",
          "text": [
            "\rProcessing videos in /content/drive/MyDrive/FOR_DATASET_0/DATASET_0/REAL:  93%|█████████▎| 166/178 [01:41<00:09,  1.33it/s]"
          ]
        },
        {
          "name": "stdout",
          "output_type": "stream",
          "text": [
            "Extracted 20 frames from the first 10 seconds of /content/drive/MyDrive/FOR_DATASET_0/DATASET_0/REAL/id61_0001.mp4\n"
          ]
        },
        {
          "name": "stderr",
          "output_type": "stream",
          "text": [
            "\rProcessing videos in /content/drive/MyDrive/FOR_DATASET_0/DATASET_0/REAL:  94%|█████████▍| 167/178 [01:42<00:08,  1.31it/s]"
          ]
        },
        {
          "name": "stdout",
          "output_type": "stream",
          "text": [
            "Extracted 20 frames from the first 10 seconds of /content/drive/MyDrive/FOR_DATASET_0/DATASET_0/REAL/id6_0000.mp4\n"
          ]
        },
        {
          "name": "stderr",
          "output_type": "stream",
          "text": [
            "\rProcessing videos in /content/drive/MyDrive/FOR_DATASET_0/DATASET_0/REAL:  94%|█████████▍| 168/178 [01:43<00:06,  1.44it/s]"
          ]
        },
        {
          "name": "stdout",
          "output_type": "stream",
          "text": [
            "Extracted 20 frames from the first 10 seconds of /content/drive/MyDrive/FOR_DATASET_0/DATASET_0/REAL/id6_0002.mp4\n"
          ]
        },
        {
          "name": "stderr",
          "output_type": "stream",
          "text": [
            "\rProcessing videos in /content/drive/MyDrive/FOR_DATASET_0/DATASET_0/REAL:  95%|█████████▍| 169/178 [01:43<00:05,  1.59it/s]"
          ]
        },
        {
          "name": "stdout",
          "output_type": "stream",
          "text": [
            "Extracted 20 frames from the first 10 seconds of /content/drive/MyDrive/FOR_DATASET_0/DATASET_0/REAL/id61_0000.mp4\n"
          ]
        },
        {
          "name": "stderr",
          "output_type": "stream",
          "text": [
            "\rProcessing videos in /content/drive/MyDrive/FOR_DATASET_0/DATASET_0/REAL:  96%|█████████▌| 170/178 [01:43<00:04,  1.72it/s]"
          ]
        },
        {
          "name": "stdout",
          "output_type": "stream",
          "text": [
            "Extracted 20 frames from the first 10 seconds of /content/drive/MyDrive/FOR_DATASET_0/DATASET_0/REAL/id7_0002.mp4\n"
          ]
        },
        {
          "name": "stderr",
          "output_type": "stream",
          "text": [
            "\rProcessing videos in /content/drive/MyDrive/FOR_DATASET_0/DATASET_0/REAL:  96%|█████████▌| 171/178 [01:44<00:04,  1.73it/s]"
          ]
        },
        {
          "name": "stdout",
          "output_type": "stream",
          "text": [
            "Extracted 20 frames from the first 10 seconds of /content/drive/MyDrive/FOR_DATASET_0/DATASET_0/REAL/id8_0000.mp4\n"
          ]
        },
        {
          "name": "stderr",
          "output_type": "stream",
          "text": [
            "\rProcessing videos in /content/drive/MyDrive/FOR_DATASET_0/DATASET_0/REAL:  97%|█████████▋| 172/178 [01:45<00:03,  1.79it/s]"
          ]
        },
        {
          "name": "stdout",
          "output_type": "stream",
          "text": [
            "Extracted 20 frames from the first 10 seconds of /content/drive/MyDrive/FOR_DATASET_0/DATASET_0/REAL/id7_0000.mp4\n"
          ]
        },
        {
          "name": "stderr",
          "output_type": "stream",
          "text": [
            "\rProcessing videos in /content/drive/MyDrive/FOR_DATASET_0/DATASET_0/REAL:  97%|█████████▋| 173/178 [01:45<00:02,  1.79it/s]"
          ]
        },
        {
          "name": "stdout",
          "output_type": "stream",
          "text": [
            "Extracted 20 frames from the first 10 seconds of /content/drive/MyDrive/FOR_DATASET_0/DATASET_0/REAL/id7_0001.mp4\n"
          ]
        },
        {
          "name": "stderr",
          "output_type": "stream",
          "text": [
            "\rProcessing videos in /content/drive/MyDrive/FOR_DATASET_0/DATASET_0/REAL:  98%|█████████▊| 174/178 [01:46<00:02,  1.80it/s]"
          ]
        },
        {
          "name": "stdout",
          "output_type": "stream",
          "text": [
            "Extracted 20 frames from the first 10 seconds of /content/drive/MyDrive/FOR_DATASET_0/DATASET_0/REAL/id8_0002.mp4\n"
          ]
        },
        {
          "name": "stderr",
          "output_type": "stream",
          "text": [
            "\rProcessing videos in /content/drive/MyDrive/FOR_DATASET_0/DATASET_0/REAL:  98%|█████████▊| 175/178 [01:46<00:01,  1.77it/s]"
          ]
        },
        {
          "name": "stdout",
          "output_type": "stream",
          "text": [
            "Extracted 20 frames from the first 10 seconds of /content/drive/MyDrive/FOR_DATASET_0/DATASET_0/REAL/id8_0001.mp4\n"
          ]
        },
        {
          "name": "stderr",
          "output_type": "stream",
          "text": [
            "\rProcessing videos in /content/drive/MyDrive/FOR_DATASET_0/DATASET_0/REAL:  99%|█████████▉| 176/178 [01:47<00:01,  1.78it/s]"
          ]
        },
        {
          "name": "stdout",
          "output_type": "stream",
          "text": [
            "Extracted 20 frames from the first 10 seconds of /content/drive/MyDrive/FOR_DATASET_0/DATASET_0/REAL/id9_0000.mp4\n"
          ]
        },
        {
          "name": "stderr",
          "output_type": "stream",
          "text": [
            "\rProcessing videos in /content/drive/MyDrive/FOR_DATASET_0/DATASET_0/REAL:  99%|█████████▉| 177/178 [01:47<00:00,  1.78it/s]"
          ]
        },
        {
          "name": "stdout",
          "output_type": "stream",
          "text": [
            "Extracted 20 frames from the first 10 seconds of /content/drive/MyDrive/FOR_DATASET_0/DATASET_0/REAL/id9_0002.mp4\n"
          ]
        },
        {
          "name": "stderr",
          "output_type": "stream",
          "text": [
            "Processing videos in /content/drive/MyDrive/FOR_DATASET_0/DATASET_0/REAL: 100%|██████████| 178/178 [01:48<00:00,  1.64it/s]\n"
          ]
        },
        {
          "name": "stdout",
          "output_type": "stream",
          "text": [
            "Extracted 20 frames from the first 10 seconds of /content/drive/MyDrive/FOR_DATASET_0/DATASET_0/REAL/id9_0001.mp4\n"
          ]
        },
        {
          "name": "stderr",
          "output_type": "stream",
          "text": [
            "Processing videos in /content/drive/MyDrive/FOR_DATASET_0/DATASET_0/FAKE:   1%|          | 1/191 [00:01<04:22,  1.38s/it]"
          ]
        },
        {
          "name": "stdout",
          "output_type": "stream",
          "text": [
            "Extracted 20 frames from the first 10 seconds of /content/drive/MyDrive/FOR_DATASET_0/DATASET_0/FAKE/id0_id1_0000.mp4\n"
          ]
        },
        {
          "name": "stderr",
          "output_type": "stream",
          "text": [
            "\rProcessing videos in /content/drive/MyDrive/FOR_DATASET_0/DATASET_0/FAKE:   1%|          | 2/191 [00:11<20:14,  6.42s/it]"
          ]
        },
        {
          "name": "stdout",
          "output_type": "stream",
          "text": [
            "Extracted 20 frames from the first 10 seconds of /content/drive/MyDrive/FOR_DATASET_0/DATASET_0/FAKE/id0_id1_0001.mp4\n"
          ]
        },
        {
          "name": "stderr",
          "output_type": "stream",
          "text": [
            "\rProcessing videos in /content/drive/MyDrive/FOR_DATASET_0/DATASET_0/FAKE:   2%|▏         | 3/191 [00:12<12:18,  3.93s/it]"
          ]
        },
        {
          "name": "stdout",
          "output_type": "stream",
          "text": [
            "Extracted 20 frames from the first 10 seconds of /content/drive/MyDrive/FOR_DATASET_0/DATASET_0/FAKE/id0_id1_0002.mp4\n"
          ]
        },
        {
          "name": "stderr",
          "output_type": "stream",
          "text": [
            "\rProcessing videos in /content/drive/MyDrive/FOR_DATASET_0/DATASET_0/FAKE:   2%|▏         | 4/191 [00:12<08:12,  2.63s/it]"
          ]
        },
        {
          "name": "stdout",
          "output_type": "stream",
          "text": [
            "Extracted 20 frames from the first 10 seconds of /content/drive/MyDrive/FOR_DATASET_0/DATASET_0/FAKE/id10_id13_0002.mp4\n"
          ]
        },
        {
          "name": "stderr",
          "output_type": "stream",
          "text": [
            "\rProcessing videos in /content/drive/MyDrive/FOR_DATASET_0/DATASET_0/FAKE:   3%|▎         | 5/191 [00:13<05:42,  1.84s/it]"
          ]
        },
        {
          "name": "stdout",
          "output_type": "stream",
          "text": [
            "Extracted 20 frames from the first 10 seconds of /content/drive/MyDrive/FOR_DATASET_0/DATASET_0/FAKE/id10_id13_0001.mp4\n"
          ]
        },
        {
          "name": "stderr",
          "output_type": "stream",
          "text": [
            "\rProcessing videos in /content/drive/MyDrive/FOR_DATASET_0/DATASET_0/FAKE:   3%|▎         | 6/191 [00:14<04:37,  1.50s/it]"
          ]
        },
        {
          "name": "stdout",
          "output_type": "stream",
          "text": [
            "Extracted 20 frames from the first 10 seconds of /content/drive/MyDrive/FOR_DATASET_0/DATASET_0/FAKE/id10_id13_0003.mp4\n"
          ]
        },
        {
          "name": "stderr",
          "output_type": "stream",
          "text": [
            "\rProcessing videos in /content/drive/MyDrive/FOR_DATASET_0/DATASET_0/FAKE:   4%|▎         | 7/191 [00:15<03:54,  1.27s/it]"
          ]
        },
        {
          "name": "stdout",
          "output_type": "stream",
          "text": [
            "Extracted 20 frames from the first 10 seconds of /content/drive/MyDrive/FOR_DATASET_0/DATASET_0/FAKE/id11_id7_0001.mp4\n"
          ]
        },
        {
          "name": "stderr",
          "output_type": "stream",
          "text": [
            "\rProcessing videos in /content/drive/MyDrive/FOR_DATASET_0/DATASET_0/FAKE:   4%|▍         | 8/191 [00:15<03:21,  1.10s/it]"
          ]
        },
        {
          "name": "stdout",
          "output_type": "stream",
          "text": [
            "Extracted 20 frames from the first 10 seconds of /content/drive/MyDrive/FOR_DATASET_0/DATASET_0/FAKE/id11_id7_0002.mp4\n"
          ]
        },
        {
          "name": "stderr",
          "output_type": "stream",
          "text": [
            "\rProcessing videos in /content/drive/MyDrive/FOR_DATASET_0/DATASET_0/FAKE:   5%|▍         | 9/191 [00:16<02:47,  1.09it/s]"
          ]
        },
        {
          "name": "stdout",
          "output_type": "stream",
          "text": [
            "Extracted 20 frames from the first 10 seconds of /content/drive/MyDrive/FOR_DATASET_0/DATASET_0/FAKE/id11_id7_0000.mp4\n"
          ]
        },
        {
          "name": "stderr",
          "output_type": "stream",
          "text": [
            "\rProcessing videos in /content/drive/MyDrive/FOR_DATASET_0/DATASET_0/FAKE:   5%|▌         | 10/191 [00:16<02:24,  1.25it/s]"
          ]
        },
        {
          "name": "stdout",
          "output_type": "stream",
          "text": [
            "Extracted 20 frames from the first 10 seconds of /content/drive/MyDrive/FOR_DATASET_0/DATASET_0/FAKE/id12_id7_0002.mp4\n"
          ]
        },
        {
          "name": "stderr",
          "output_type": "stream",
          "text": [
            "\rProcessing videos in /content/drive/MyDrive/FOR_DATASET_0/DATASET_0/FAKE:   6%|▌         | 11/191 [00:17<02:10,  1.37it/s]"
          ]
        },
        {
          "name": "stdout",
          "output_type": "stream",
          "text": [
            "Extracted 20 frames from the first 10 seconds of /content/drive/MyDrive/FOR_DATASET_0/DATASET_0/FAKE/id12_id7_0000.mp4\n"
          ]
        },
        {
          "name": "stderr",
          "output_type": "stream",
          "text": [
            "\rProcessing videos in /content/drive/MyDrive/FOR_DATASET_0/DATASET_0/FAKE:   6%|▋         | 12/191 [00:17<02:00,  1.49it/s]"
          ]
        },
        {
          "name": "stdout",
          "output_type": "stream",
          "text": [
            "Extracted 20 frames from the first 10 seconds of /content/drive/MyDrive/FOR_DATASET_0/DATASET_0/FAKE/id12_id7_0001.mp4\n"
          ]
        },
        {
          "name": "stderr",
          "output_type": "stream",
          "text": [
            "\rProcessing videos in /content/drive/MyDrive/FOR_DATASET_0/DATASET_0/FAKE:   7%|▋         | 13/191 [00:18<01:52,  1.58it/s]"
          ]
        },
        {
          "name": "stdout",
          "output_type": "stream",
          "text": [
            "Extracted 20 frames from the first 10 seconds of /content/drive/MyDrive/FOR_DATASET_0/DATASET_0/FAKE/id13_id7_0000.mp4\n"
          ]
        },
        {
          "name": "stderr",
          "output_type": "stream",
          "text": [
            "\rProcessing videos in /content/drive/MyDrive/FOR_DATASET_0/DATASET_0/FAKE:   7%|▋         | 14/191 [00:18<01:43,  1.71it/s]"
          ]
        },
        {
          "name": "stdout",
          "output_type": "stream",
          "text": [
            "Extracted 20 frames from the first 10 seconds of /content/drive/MyDrive/FOR_DATASET_0/DATASET_0/FAKE/id13_id7_0004.mp4\n"
          ]
        },
        {
          "name": "stderr",
          "output_type": "stream",
          "text": [
            "\rProcessing videos in /content/drive/MyDrive/FOR_DATASET_0/DATASET_0/FAKE:   8%|▊         | 15/191 [00:19<01:41,  1.73it/s]"
          ]
        },
        {
          "name": "stdout",
          "output_type": "stream",
          "text": [
            "Extracted 20 frames from the first 10 seconds of /content/drive/MyDrive/FOR_DATASET_0/DATASET_0/FAKE/id13_id7_0002.mp4\n"
          ]
        },
        {
          "name": "stderr",
          "output_type": "stream",
          "text": [
            "\rProcessing videos in /content/drive/MyDrive/FOR_DATASET_0/DATASET_0/FAKE:   8%|▊         | 16/191 [00:19<01:37,  1.80it/s]"
          ]
        },
        {
          "name": "stdout",
          "output_type": "stream",
          "text": [
            "Extracted 20 frames from the first 10 seconds of /content/drive/MyDrive/FOR_DATASET_0/DATASET_0/FAKE/id13_id7_0001.mp4\n"
          ]
        },
        {
          "name": "stderr",
          "output_type": "stream",
          "text": [
            "\rProcessing videos in /content/drive/MyDrive/FOR_DATASET_0/DATASET_0/FAKE:   9%|▉         | 17/191 [00:20<01:38,  1.77it/s]"
          ]
        },
        {
          "name": "stdout",
          "output_type": "stream",
          "text": [
            "Extracted 20 frames from the first 10 seconds of /content/drive/MyDrive/FOR_DATASET_0/DATASET_0/FAKE/id16_id0_0001.mp4\n"
          ]
        },
        {
          "name": "stderr",
          "output_type": "stream",
          "text": [
            "\rProcessing videos in /content/drive/MyDrive/FOR_DATASET_0/DATASET_0/FAKE:   9%|▉         | 18/191 [00:21<01:37,  1.77it/s]"
          ]
        },
        {
          "name": "stdout",
          "output_type": "stream",
          "text": [
            "Extracted 20 frames from the first 10 seconds of /content/drive/MyDrive/FOR_DATASET_0/DATASET_0/FAKE/id16_id0_0000.mp4\n"
          ]
        },
        {
          "name": "stderr",
          "output_type": "stream",
          "text": [
            "\rProcessing videos in /content/drive/MyDrive/FOR_DATASET_0/DATASET_0/FAKE:  10%|▉         | 19/191 [00:21<01:38,  1.75it/s]"
          ]
        },
        {
          "name": "stdout",
          "output_type": "stream",
          "text": [
            "Extracted 20 frames from the first 10 seconds of /content/drive/MyDrive/FOR_DATASET_0/DATASET_0/FAKE/id16_id0_0002.mp4\n"
          ]
        },
        {
          "name": "stderr",
          "output_type": "stream",
          "text": [
            "\rProcessing videos in /content/drive/MyDrive/FOR_DATASET_0/DATASET_0/FAKE:  10%|█         | 20/191 [00:22<01:40,  1.70it/s]"
          ]
        },
        {
          "name": "stdout",
          "output_type": "stream",
          "text": [
            "Extracted 20 frames from the first 10 seconds of /content/drive/MyDrive/FOR_DATASET_0/DATASET_0/FAKE/id17_id0_0000.mp4\n"
          ]
        },
        {
          "name": "stderr",
          "output_type": "stream",
          "text": [
            "\rProcessing videos in /content/drive/MyDrive/FOR_DATASET_0/DATASET_0/FAKE:  11%|█         | 21/191 [00:23<01:50,  1.54it/s]"
          ]
        },
        {
          "name": "stdout",
          "output_type": "stream",
          "text": [
            "Extracted 20 frames from the first 10 seconds of /content/drive/MyDrive/FOR_DATASET_0/DATASET_0/FAKE/id17_id0_0001.mp4\n"
          ]
        },
        {
          "name": "stderr",
          "output_type": "stream",
          "text": [
            "\rProcessing videos in /content/drive/MyDrive/FOR_DATASET_0/DATASET_0/FAKE:  12%|█▏        | 22/191 [00:23<01:50,  1.52it/s]"
          ]
        },
        {
          "name": "stdout",
          "output_type": "stream",
          "text": [
            "Extracted 20 frames from the first 10 seconds of /content/drive/MyDrive/FOR_DATASET_0/DATASET_0/FAKE/id17_id0_0002.mp4\n"
          ]
        },
        {
          "name": "stderr",
          "output_type": "stream",
          "text": [
            "\rProcessing videos in /content/drive/MyDrive/FOR_DATASET_0/DATASET_0/FAKE:  12%|█▏        | 23/191 [00:24<01:38,  1.70it/s]"
          ]
        },
        {
          "name": "stdout",
          "output_type": "stream",
          "text": [
            "Extracted 20 frames from the first 10 seconds of /content/drive/MyDrive/FOR_DATASET_0/DATASET_0/FAKE/id19_id20_0002.mp4\n"
          ]
        },
        {
          "name": "stderr",
          "output_type": "stream",
          "text": [
            "\rProcessing videos in /content/drive/MyDrive/FOR_DATASET_0/DATASET_0/FAKE:  13%|█▎        | 24/191 [00:24<01:39,  1.68it/s]"
          ]
        },
        {
          "name": "stdout",
          "output_type": "stream",
          "text": [
            "Extracted 20 frames from the first 10 seconds of /content/drive/MyDrive/FOR_DATASET_0/DATASET_0/FAKE/id19_id20_0001.mp4\n"
          ]
        },
        {
          "name": "stderr",
          "output_type": "stream",
          "text": [
            "\rProcessing videos in /content/drive/MyDrive/FOR_DATASET_0/DATASET_0/FAKE:  13%|█▎        | 25/191 [00:25<01:36,  1.72it/s]"
          ]
        },
        {
          "name": "stdout",
          "output_type": "stream",
          "text": [
            "Extracted 20 frames from the first 10 seconds of /content/drive/MyDrive/FOR_DATASET_0/DATASET_0/FAKE/id19_id20_0004.mp4\n"
          ]
        },
        {
          "name": "stderr",
          "output_type": "stream",
          "text": [
            "\rProcessing videos in /content/drive/MyDrive/FOR_DATASET_0/DATASET_0/FAKE:  14%|█▎        | 26/191 [00:26<01:58,  1.39it/s]"
          ]
        },
        {
          "name": "stdout",
          "output_type": "stream",
          "text": [
            "Extracted 20 frames from the first 10 seconds of /content/drive/MyDrive/FOR_DATASET_0/DATASET_0/FAKE/id1_id6_0002.mp4\n"
          ]
        },
        {
          "name": "stderr",
          "output_type": "stream",
          "text": [
            "\rProcessing videos in /content/drive/MyDrive/FOR_DATASET_0/DATASET_0/FAKE:  14%|█▍        | 27/191 [00:27<01:53,  1.44it/s]"
          ]
        },
        {
          "name": "stdout",
          "output_type": "stream",
          "text": [
            "Extracted 20 frames from the first 10 seconds of /content/drive/MyDrive/FOR_DATASET_0/DATASET_0/FAKE/id1_id6_0000.mp4\n"
          ]
        },
        {
          "name": "stderr",
          "output_type": "stream",
          "text": [
            "\rProcessing videos in /content/drive/MyDrive/FOR_DATASET_0/DATASET_0/FAKE:  15%|█▍        | 28/191 [00:27<01:44,  1.56it/s]"
          ]
        },
        {
          "name": "stdout",
          "output_type": "stream",
          "text": [
            "Extracted 20 frames from the first 10 seconds of /content/drive/MyDrive/FOR_DATASET_0/DATASET_0/FAKE/id1_id6_0001.mp4\n"
          ]
        },
        {
          "name": "stderr",
          "output_type": "stream",
          "text": [
            "\rProcessing videos in /content/drive/MyDrive/FOR_DATASET_0/DATASET_0/FAKE:  15%|█▌        | 29/191 [00:28<01:45,  1.54it/s]"
          ]
        },
        {
          "name": "stdout",
          "output_type": "stream",
          "text": [
            "Extracted 20 frames from the first 10 seconds of /content/drive/MyDrive/FOR_DATASET_0/DATASET_0/FAKE/id20_id0_0001.mp4\n"
          ]
        },
        {
          "name": "stderr",
          "output_type": "stream",
          "text": [
            "\rProcessing videos in /content/drive/MyDrive/FOR_DATASET_0/DATASET_0/FAKE:  16%|█▌        | 30/191 [00:28<01:36,  1.67it/s]"
          ]
        },
        {
          "name": "stdout",
          "output_type": "stream",
          "text": [
            "Extracted 20 frames from the first 10 seconds of /content/drive/MyDrive/FOR_DATASET_0/DATASET_0/FAKE/id20_id0_0000.mp4\n"
          ]
        },
        {
          "name": "stderr",
          "output_type": "stream",
          "text": [
            "\rProcessing videos in /content/drive/MyDrive/FOR_DATASET_0/DATASET_0/FAKE:  16%|█▌        | 31/191 [00:29<01:29,  1.79it/s]"
          ]
        },
        {
          "name": "stdout",
          "output_type": "stream",
          "text": [
            "Extracted 20 frames from the first 10 seconds of /content/drive/MyDrive/FOR_DATASET_0/DATASET_0/FAKE/id20_id0_0002.mp4\n"
          ]
        },
        {
          "name": "stderr",
          "output_type": "stream",
          "text": [
            "\rProcessing videos in /content/drive/MyDrive/FOR_DATASET_0/DATASET_0/FAKE:  17%|█▋        | 32/191 [00:29<01:25,  1.86it/s]"
          ]
        },
        {
          "name": "stdout",
          "output_type": "stream",
          "text": [
            "Extracted 20 frames from the first 10 seconds of /content/drive/MyDrive/FOR_DATASET_0/DATASET_0/FAKE/id21_id27_0002.mp4\n"
          ]
        },
        {
          "name": "stderr",
          "output_type": "stream",
          "text": [
            "\rProcessing videos in /content/drive/MyDrive/FOR_DATASET_0/DATASET_0/FAKE:  17%|█▋        | 33/191 [00:30<01:24,  1.87it/s]"
          ]
        },
        {
          "name": "stdout",
          "output_type": "stream",
          "text": [
            "Extracted 20 frames from the first 10 seconds of /content/drive/MyDrive/FOR_DATASET_0/DATASET_0/FAKE/id21_id27_0001.mp4\n"
          ]
        },
        {
          "name": "stderr",
          "output_type": "stream",
          "text": [
            "\rProcessing videos in /content/drive/MyDrive/FOR_DATASET_0/DATASET_0/FAKE:  18%|█▊        | 34/191 [00:30<01:22,  1.91it/s]"
          ]
        },
        {
          "name": "stdout",
          "output_type": "stream",
          "text": [
            "Extracted 20 frames from the first 10 seconds of /content/drive/MyDrive/FOR_DATASET_0/DATASET_0/FAKE/id21_id27_0000.mp4\n"
          ]
        },
        {
          "name": "stderr",
          "output_type": "stream",
          "text": [
            "\rProcessing videos in /content/drive/MyDrive/FOR_DATASET_0/DATASET_0/FAKE:  18%|█▊        | 35/191 [00:31<01:19,  1.96it/s]"
          ]
        },
        {
          "name": "stdout",
          "output_type": "stream",
          "text": [
            "Extracted 20 frames from the first 10 seconds of /content/drive/MyDrive/FOR_DATASET_0/DATASET_0/FAKE/id22_id19_0001.mp4\n"
          ]
        },
        {
          "name": "stderr",
          "output_type": "stream",
          "text": [
            "\rProcessing videos in /content/drive/MyDrive/FOR_DATASET_0/DATASET_0/FAKE:  19%|█▉        | 36/191 [00:31<01:18,  1.96it/s]"
          ]
        },
        {
          "name": "stdout",
          "output_type": "stream",
          "text": [
            "Extracted 20 frames from the first 10 seconds of /content/drive/MyDrive/FOR_DATASET_0/DATASET_0/FAKE/id22_id19_0002.mp4\n"
          ]
        },
        {
          "name": "stderr",
          "output_type": "stream",
          "text": [
            "\rProcessing videos in /content/drive/MyDrive/FOR_DATASET_0/DATASET_0/FAKE:  19%|█▉        | 37/191 [00:32<01:20,  1.91it/s]"
          ]
        },
        {
          "name": "stdout",
          "output_type": "stream",
          "text": [
            "Extracted 20 frames from the first 10 seconds of /content/drive/MyDrive/FOR_DATASET_0/DATASET_0/FAKE/id22_id19_0004.mp4\n"
          ]
        },
        {
          "name": "stderr",
          "output_type": "stream",
          "text": [
            "\rProcessing videos in /content/drive/MyDrive/FOR_DATASET_0/DATASET_0/FAKE:  20%|█▉        | 38/191 [00:32<01:19,  1.92it/s]"
          ]
        },
        {
          "name": "stdout",
          "output_type": "stream",
          "text": [
            "Extracted 20 frames from the first 10 seconds of /content/drive/MyDrive/FOR_DATASET_0/DATASET_0/FAKE/id23_id31_0000.mp4\n"
          ]
        },
        {
          "name": "stderr",
          "output_type": "stream",
          "text": [
            "\rProcessing videos in /content/drive/MyDrive/FOR_DATASET_0/DATASET_0/FAKE:  20%|██        | 39/191 [00:33<01:20,  1.89it/s]"
          ]
        },
        {
          "name": "stdout",
          "output_type": "stream",
          "text": [
            "Extracted 20 frames from the first 10 seconds of /content/drive/MyDrive/FOR_DATASET_0/DATASET_0/FAKE/id23_id31_0001.mp4\n"
          ]
        },
        {
          "name": "stderr",
          "output_type": "stream",
          "text": [
            "\rProcessing videos in /content/drive/MyDrive/FOR_DATASET_0/DATASET_0/FAKE:  21%|██        | 40/191 [00:33<01:19,  1.91it/s]"
          ]
        },
        {
          "name": "stdout",
          "output_type": "stream",
          "text": [
            "Extracted 20 frames from the first 10 seconds of /content/drive/MyDrive/FOR_DATASET_0/DATASET_0/FAKE/id23_id31_0002.mp4\n"
          ]
        },
        {
          "name": "stderr",
          "output_type": "stream",
          "text": [
            "\rProcessing videos in /content/drive/MyDrive/FOR_DATASET_0/DATASET_0/FAKE:  21%|██▏       | 41/191 [00:34<01:12,  2.07it/s]"
          ]
        },
        {
          "name": "stdout",
          "output_type": "stream",
          "text": [
            "Extracted 20 frames from the first 10 seconds of /content/drive/MyDrive/FOR_DATASET_0/DATASET_0/FAKE/id24_id23_0002.mp4\n"
          ]
        },
        {
          "name": "stderr",
          "output_type": "stream",
          "text": [
            "\rProcessing videos in /content/drive/MyDrive/FOR_DATASET_0/DATASET_0/FAKE:  22%|██▏       | 42/191 [00:34<01:04,  2.32it/s]"
          ]
        },
        {
          "name": "stdout",
          "output_type": "stream",
          "text": [
            "Extracted 20 frames from the first 10 seconds of /content/drive/MyDrive/FOR_DATASET_0/DATASET_0/FAKE/id24_id23_0003.mp4\n"
          ]
        },
        {
          "name": "stderr",
          "output_type": "stream",
          "text": [
            "\rProcessing videos in /content/drive/MyDrive/FOR_DATASET_0/DATASET_0/FAKE:  23%|██▎       | 43/191 [00:35<01:11,  2.07it/s]"
          ]
        },
        {
          "name": "stdout",
          "output_type": "stream",
          "text": [
            "Extracted 20 frames from the first 10 seconds of /content/drive/MyDrive/FOR_DATASET_0/DATASET_0/FAKE/id24_id23_0000.mp4\n"
          ]
        },
        {
          "name": "stderr",
          "output_type": "stream",
          "text": [
            "\rProcessing videos in /content/drive/MyDrive/FOR_DATASET_0/DATASET_0/FAKE:  23%|██▎       | 44/191 [00:35<01:12,  2.04it/s]"
          ]
        },
        {
          "name": "stdout",
          "output_type": "stream",
          "text": [
            "Extracted 20 frames from the first 10 seconds of /content/drive/MyDrive/FOR_DATASET_0/DATASET_0/FAKE/id25_id26_0003.mp4\n"
          ]
        },
        {
          "name": "stderr",
          "output_type": "stream",
          "text": [
            "\rProcessing videos in /content/drive/MyDrive/FOR_DATASET_0/DATASET_0/FAKE:  24%|██▎       | 45/191 [00:36<01:10,  2.08it/s]"
          ]
        },
        {
          "name": "stdout",
          "output_type": "stream",
          "text": [
            "Extracted 20 frames from the first 10 seconds of /content/drive/MyDrive/FOR_DATASET_0/DATASET_0/FAKE/id25_id26_0000.mp4\n"
          ]
        },
        {
          "name": "stderr",
          "output_type": "stream",
          "text": [
            "\rProcessing videos in /content/drive/MyDrive/FOR_DATASET_0/DATASET_0/FAKE:  24%|██▍       | 46/191 [00:36<01:10,  2.05it/s]"
          ]
        },
        {
          "name": "stdout",
          "output_type": "stream",
          "text": [
            "Extracted 20 frames from the first 10 seconds of /content/drive/MyDrive/FOR_DATASET_0/DATASET_0/FAKE/id25_id26_0002.mp4\n"
          ]
        },
        {
          "name": "stderr",
          "output_type": "stream",
          "text": [
            "\rProcessing videos in /content/drive/MyDrive/FOR_DATASET_0/DATASET_0/FAKE:  25%|██▍       | 47/191 [00:37<01:11,  2.02it/s]"
          ]
        },
        {
          "name": "stdout",
          "output_type": "stream",
          "text": [
            "Extracted 20 frames from the first 10 seconds of /content/drive/MyDrive/FOR_DATASET_0/DATASET_0/FAKE/id26_id30_0002.mp4\n"
          ]
        },
        {
          "name": "stderr",
          "output_type": "stream",
          "text": [
            "\rProcessing videos in /content/drive/MyDrive/FOR_DATASET_0/DATASET_0/FAKE:  25%|██▌       | 48/191 [00:37<01:09,  2.06it/s]"
          ]
        },
        {
          "name": "stdout",
          "output_type": "stream",
          "text": [
            "Extracted 20 frames from the first 10 seconds of /content/drive/MyDrive/FOR_DATASET_0/DATASET_0/FAKE/id26_id30_0003.mp4\n"
          ]
        },
        {
          "name": "stderr",
          "output_type": "stream",
          "text": [
            "\rProcessing videos in /content/drive/MyDrive/FOR_DATASET_0/DATASET_0/FAKE:  26%|██▌       | 49/191 [00:38<01:16,  1.85it/s]"
          ]
        },
        {
          "name": "stdout",
          "output_type": "stream",
          "text": [
            "Extracted 20 frames from the first 10 seconds of /content/drive/MyDrive/FOR_DATASET_0/DATASET_0/FAKE/id26_id30_0001.mp4\n"
          ]
        },
        {
          "name": "stderr",
          "output_type": "stream",
          "text": [
            "\rProcessing videos in /content/drive/MyDrive/FOR_DATASET_0/DATASET_0/FAKE:  26%|██▌       | 50/191 [00:38<01:20,  1.75it/s]"
          ]
        },
        {
          "name": "stdout",
          "output_type": "stream",
          "text": [
            "Extracted 20 frames from the first 10 seconds of /content/drive/MyDrive/FOR_DATASET_0/DATASET_0/FAKE/id27_id28_0001.mp4\n"
          ]
        },
        {
          "name": "stderr",
          "output_type": "stream",
          "text": [
            "\rProcessing videos in /content/drive/MyDrive/FOR_DATASET_0/DATASET_0/FAKE:  27%|██▋       | 51/191 [00:39<01:23,  1.68it/s]"
          ]
        },
        {
          "name": "stdout",
          "output_type": "stream",
          "text": [
            "Extracted 20 frames from the first 10 seconds of /content/drive/MyDrive/FOR_DATASET_0/DATASET_0/FAKE/id27_id28_0000.mp4\n"
          ]
        },
        {
          "name": "stderr",
          "output_type": "stream",
          "text": [
            "\rProcessing videos in /content/drive/MyDrive/FOR_DATASET_0/DATASET_0/FAKE:  27%|██▋       | 52/191 [00:40<01:26,  1.61it/s]"
          ]
        },
        {
          "name": "stdout",
          "output_type": "stream",
          "text": [
            "Extracted 20 frames from the first 10 seconds of /content/drive/MyDrive/FOR_DATASET_0/DATASET_0/FAKE/id27_id28_0002.mp4\n"
          ]
        },
        {
          "name": "stderr",
          "output_type": "stream",
          "text": [
            "\rProcessing videos in /content/drive/MyDrive/FOR_DATASET_0/DATASET_0/FAKE:  28%|██▊       | 53/191 [00:40<01:30,  1.53it/s]"
          ]
        },
        {
          "name": "stdout",
          "output_type": "stream",
          "text": [
            "Extracted 20 frames from the first 10 seconds of /content/drive/MyDrive/FOR_DATASET_0/DATASET_0/FAKE/id28_id29_0001.mp4\n"
          ]
        },
        {
          "name": "stderr",
          "output_type": "stream",
          "text": [
            "\rProcessing videos in /content/drive/MyDrive/FOR_DATASET_0/DATASET_0/FAKE:  28%|██▊       | 54/191 [00:41<01:30,  1.52it/s]"
          ]
        },
        {
          "name": "stdout",
          "output_type": "stream",
          "text": [
            "Extracted 20 frames from the first 10 seconds of /content/drive/MyDrive/FOR_DATASET_0/DATASET_0/FAKE/id28_id29_0002.mp4\n"
          ]
        },
        {
          "name": "stderr",
          "output_type": "stream",
          "text": [
            "\rProcessing videos in /content/drive/MyDrive/FOR_DATASET_0/DATASET_0/FAKE:  29%|██▉       | 55/191 [00:42<01:29,  1.53it/s]"
          ]
        },
        {
          "name": "stdout",
          "output_type": "stream",
          "text": [
            "Extracted 20 frames from the first 10 seconds of /content/drive/MyDrive/FOR_DATASET_0/DATASET_0/FAKE/id28_id29_0000.mp4\n"
          ]
        },
        {
          "name": "stderr",
          "output_type": "stream",
          "text": [
            "\rProcessing videos in /content/drive/MyDrive/FOR_DATASET_0/DATASET_0/FAKE:  29%|██▉       | 56/191 [00:43<01:31,  1.48it/s]"
          ]
        },
        {
          "name": "stdout",
          "output_type": "stream",
          "text": [
            "Extracted 20 frames from the first 10 seconds of /content/drive/MyDrive/FOR_DATASET_0/DATASET_0/FAKE/id29_id23_0002.mp4\n"
          ]
        },
        {
          "name": "stderr",
          "output_type": "stream",
          "text": [
            "\rProcessing videos in /content/drive/MyDrive/FOR_DATASET_0/DATASET_0/FAKE:  30%|██▉       | 57/191 [00:43<01:34,  1.42it/s]"
          ]
        },
        {
          "name": "stdout",
          "output_type": "stream",
          "text": [
            "Extracted 20 frames from the first 10 seconds of /content/drive/MyDrive/FOR_DATASET_0/DATASET_0/FAKE/id29_id23_0000.mp4\n"
          ]
        },
        {
          "name": "stderr",
          "output_type": "stream",
          "text": [
            "\rProcessing videos in /content/drive/MyDrive/FOR_DATASET_0/DATASET_0/FAKE:  30%|███       | 58/191 [00:44<01:26,  1.53it/s]"
          ]
        },
        {
          "name": "stdout",
          "output_type": "stream",
          "text": [
            "Extracted 20 frames from the first 10 seconds of /content/drive/MyDrive/FOR_DATASET_0/DATASET_0/FAKE/id29_id23_0003.mp4\n"
          ]
        },
        {
          "name": "stderr",
          "output_type": "stream",
          "text": [
            "\rProcessing videos in /content/drive/MyDrive/FOR_DATASET_0/DATASET_0/FAKE:  31%|███       | 59/191 [00:44<01:19,  1.66it/s]"
          ]
        },
        {
          "name": "stdout",
          "output_type": "stream",
          "text": [
            "Extracted 20 frames from the first 10 seconds of /content/drive/MyDrive/FOR_DATASET_0/DATASET_0/FAKE/id2_id0_0002.mp4\n"
          ]
        },
        {
          "name": "stderr",
          "output_type": "stream",
          "text": [
            "\rProcessing videos in /content/drive/MyDrive/FOR_DATASET_0/DATASET_0/FAKE:  31%|███▏      | 60/191 [00:45<01:13,  1.79it/s]"
          ]
        },
        {
          "name": "stdout",
          "output_type": "stream",
          "text": [
            "Extracted 20 frames from the first 10 seconds of /content/drive/MyDrive/FOR_DATASET_0/DATASET_0/FAKE/id2_id0_0000.mp4\n"
          ]
        },
        {
          "name": "stderr",
          "output_type": "stream",
          "text": [
            "\rProcessing videos in /content/drive/MyDrive/FOR_DATASET_0/DATASET_0/FAKE:  32%|███▏      | 61/191 [00:45<01:09,  1.88it/s]"
          ]
        },
        {
          "name": "stdout",
          "output_type": "stream",
          "text": [
            "Extracted 20 frames from the first 10 seconds of /content/drive/MyDrive/FOR_DATASET_0/DATASET_0/FAKE/id2_id0_0001.mp4\n"
          ]
        },
        {
          "name": "stderr",
          "output_type": "stream",
          "text": [
            "\rProcessing videos in /content/drive/MyDrive/FOR_DATASET_0/DATASET_0/FAKE:  32%|███▏      | 62/191 [00:46<01:08,  1.89it/s]"
          ]
        },
        {
          "name": "stdout",
          "output_type": "stream",
          "text": [
            "Extracted 20 frames from the first 10 seconds of /content/drive/MyDrive/FOR_DATASET_0/DATASET_0/FAKE/id30_id33_0001.mp4\n"
          ]
        },
        {
          "name": "stderr",
          "output_type": "stream",
          "text": [
            "\rProcessing videos in /content/drive/MyDrive/FOR_DATASET_0/DATASET_0/FAKE:  33%|███▎      | 63/191 [00:46<01:07,  1.89it/s]"
          ]
        },
        {
          "name": "stdout",
          "output_type": "stream",
          "text": [
            "Extracted 20 frames from the first 10 seconds of /content/drive/MyDrive/FOR_DATASET_0/DATASET_0/FAKE/id30_id33_0000.mp4\n"
          ]
        },
        {
          "name": "stderr",
          "output_type": "stream",
          "text": [
            "\rProcessing videos in /content/drive/MyDrive/FOR_DATASET_0/DATASET_0/FAKE:  34%|███▎      | 64/191 [00:47<01:07,  1.89it/s]"
          ]
        },
        {
          "name": "stdout",
          "output_type": "stream",
          "text": [
            "Extracted 20 frames from the first 10 seconds of /content/drive/MyDrive/FOR_DATASET_0/DATASET_0/FAKE/id30_id33_0002.mp4\n"
          ]
        },
        {
          "name": "stderr",
          "output_type": "stream",
          "text": [
            "\rProcessing videos in /content/drive/MyDrive/FOR_DATASET_0/DATASET_0/FAKE:  34%|███▍      | 65/191 [00:47<01:08,  1.84it/s]"
          ]
        },
        {
          "name": "stdout",
          "output_type": "stream",
          "text": [
            "Extracted 20 frames from the first 10 seconds of /content/drive/MyDrive/FOR_DATASET_0/DATASET_0/FAKE/id31_id2_0001.mp4\n"
          ]
        },
        {
          "name": "stderr",
          "output_type": "stream",
          "text": [
            "\rProcessing videos in /content/drive/MyDrive/FOR_DATASET_0/DATASET_0/FAKE:  35%|███▍      | 66/191 [00:48<01:05,  1.91it/s]"
          ]
        },
        {
          "name": "stdout",
          "output_type": "stream",
          "text": [
            "Extracted 20 frames from the first 10 seconds of /content/drive/MyDrive/FOR_DATASET_0/DATASET_0/FAKE/id31_id2_0000.mp4\n"
          ]
        },
        {
          "name": "stderr",
          "output_type": "stream",
          "text": [
            "\rProcessing videos in /content/drive/MyDrive/FOR_DATASET_0/DATASET_0/FAKE:  35%|███▌      | 67/191 [00:48<01:06,  1.87it/s]"
          ]
        },
        {
          "name": "stdout",
          "output_type": "stream",
          "text": [
            "Extracted 20 frames from the first 10 seconds of /content/drive/MyDrive/FOR_DATASET_0/DATASET_0/FAKE/id31_id2_0002.mp4\n"
          ]
        },
        {
          "name": "stderr",
          "output_type": "stream",
          "text": [
            "\rProcessing videos in /content/drive/MyDrive/FOR_DATASET_0/DATASET_0/FAKE:  36%|███▌      | 68/191 [00:49<01:05,  1.88it/s]"
          ]
        },
        {
          "name": "stdout",
          "output_type": "stream",
          "text": [
            "Extracted 20 frames from the first 10 seconds of /content/drive/MyDrive/FOR_DATASET_0/DATASET_0/FAKE/id32_id33_0001.mp4\n"
          ]
        },
        {
          "name": "stderr",
          "output_type": "stream",
          "text": [
            "\rProcessing videos in /content/drive/MyDrive/FOR_DATASET_0/DATASET_0/FAKE:  36%|███▌      | 69/191 [00:49<01:04,  1.88it/s]"
          ]
        },
        {
          "name": "stdout",
          "output_type": "stream",
          "text": [
            "Extracted 20 frames from the first 10 seconds of /content/drive/MyDrive/FOR_DATASET_0/DATASET_0/FAKE/id32_id33_0000.mp4\n"
          ]
        },
        {
          "name": "stderr",
          "output_type": "stream",
          "text": [
            "\rProcessing videos in /content/drive/MyDrive/FOR_DATASET_0/DATASET_0/FAKE:  37%|███▋      | 70/191 [00:50<01:10,  1.71it/s]"
          ]
        },
        {
          "name": "stdout",
          "output_type": "stream",
          "text": [
            "Extracted 20 frames from the first 10 seconds of /content/drive/MyDrive/FOR_DATASET_0/DATASET_0/FAKE/id32_id33_0002.mp4\n"
          ]
        },
        {
          "name": "stderr",
          "output_type": "stream",
          "text": [
            "\rProcessing videos in /content/drive/MyDrive/FOR_DATASET_0/DATASET_0/FAKE:  37%|███▋      | 71/191 [00:51<01:10,  1.71it/s]"
          ]
        },
        {
          "name": "stdout",
          "output_type": "stream",
          "text": [
            "Extracted 20 frames from the first 10 seconds of /content/drive/MyDrive/FOR_DATASET_0/DATASET_0/FAKE/id33_id34_0000.mp4\n"
          ]
        },
        {
          "name": "stderr",
          "output_type": "stream",
          "text": [
            "\rProcessing videos in /content/drive/MyDrive/FOR_DATASET_0/DATASET_0/FAKE:  38%|███▊      | 72/191 [00:51<01:06,  1.78it/s]"
          ]
        },
        {
          "name": "stdout",
          "output_type": "stream",
          "text": [
            "Extracted 20 frames from the first 10 seconds of /content/drive/MyDrive/FOR_DATASET_0/DATASET_0/FAKE/id33_id34_0001.mp4\n"
          ]
        },
        {
          "name": "stderr",
          "output_type": "stream",
          "text": [
            "\rProcessing videos in /content/drive/MyDrive/FOR_DATASET_0/DATASET_0/FAKE:  38%|███▊      | 73/191 [00:52<01:04,  1.84it/s]"
          ]
        },
        {
          "name": "stdout",
          "output_type": "stream",
          "text": [
            "Extracted 20 frames from the first 10 seconds of /content/drive/MyDrive/FOR_DATASET_0/DATASET_0/FAKE/id33_id34_0002.mp4\n"
          ]
        },
        {
          "name": "stderr",
          "output_type": "stream",
          "text": [
            "\rProcessing videos in /content/drive/MyDrive/FOR_DATASET_0/DATASET_0/FAKE:  39%|███▊      | 74/191 [00:52<01:03,  1.84it/s]"
          ]
        },
        {
          "name": "stdout",
          "output_type": "stream",
          "text": [
            "Extracted 20 frames from the first 10 seconds of /content/drive/MyDrive/FOR_DATASET_0/DATASET_0/FAKE/id34_id35_0002.mp4\n"
          ]
        },
        {
          "name": "stderr",
          "output_type": "stream",
          "text": [
            "\rProcessing videos in /content/drive/MyDrive/FOR_DATASET_0/DATASET_0/FAKE:  39%|███▉      | 75/191 [00:53<01:07,  1.71it/s]"
          ]
        },
        {
          "name": "stdout",
          "output_type": "stream",
          "text": [
            "Extracted 20 frames from the first 10 seconds of /content/drive/MyDrive/FOR_DATASET_0/DATASET_0/FAKE/id34_id35_0001.mp4\n"
          ]
        },
        {
          "name": "stderr",
          "output_type": "stream",
          "text": [
            "\rProcessing videos in /content/drive/MyDrive/FOR_DATASET_0/DATASET_0/FAKE:  40%|███▉      | 76/191 [00:54<01:07,  1.69it/s]"
          ]
        },
        {
          "name": "stdout",
          "output_type": "stream",
          "text": [
            "Extracted 20 frames from the first 10 seconds of /content/drive/MyDrive/FOR_DATASET_0/DATASET_0/FAKE/id34_id35_0003.mp4\n"
          ]
        },
        {
          "name": "stderr",
          "output_type": "stream",
          "text": [
            "\rProcessing videos in /content/drive/MyDrive/FOR_DATASET_0/DATASET_0/FAKE:  40%|████      | 77/191 [00:54<01:10,  1.62it/s]"
          ]
        },
        {
          "name": "stdout",
          "output_type": "stream",
          "text": [
            "Extracted 20 frames from the first 10 seconds of /content/drive/MyDrive/FOR_DATASET_0/DATASET_0/FAKE/id35_id2_0002.mp4\n"
          ]
        },
        {
          "name": "stderr",
          "output_type": "stream",
          "text": [
            "\rProcessing videos in /content/drive/MyDrive/FOR_DATASET_0/DATASET_0/FAKE:  41%|████      | 78/191 [00:55<01:11,  1.57it/s]"
          ]
        },
        {
          "name": "stdout",
          "output_type": "stream",
          "text": [
            "Extracted 20 frames from the first 10 seconds of /content/drive/MyDrive/FOR_DATASET_0/DATASET_0/FAKE/id35_id2_0001.mp4\n"
          ]
        },
        {
          "name": "stderr",
          "output_type": "stream",
          "text": [
            "\rProcessing videos in /content/drive/MyDrive/FOR_DATASET_0/DATASET_0/FAKE:  41%|████▏     | 79/191 [00:56<01:14,  1.51it/s]"
          ]
        },
        {
          "name": "stdout",
          "output_type": "stream",
          "text": [
            "Extracted 20 frames from the first 10 seconds of /content/drive/MyDrive/FOR_DATASET_0/DATASET_0/FAKE/id35_id2_0000.mp4\n"
          ]
        },
        {
          "name": "stderr",
          "output_type": "stream",
          "text": [
            "\rProcessing videos in /content/drive/MyDrive/FOR_DATASET_0/DATASET_0/FAKE:  42%|████▏     | 80/191 [00:56<01:14,  1.48it/s]"
          ]
        },
        {
          "name": "stdout",
          "output_type": "stream",
          "text": [
            "Extracted 20 frames from the first 10 seconds of /content/drive/MyDrive/FOR_DATASET_0/DATASET_0/FAKE/id37_id1_0003.mp4\n"
          ]
        },
        {
          "name": "stderr",
          "output_type": "stream",
          "text": [
            "\rProcessing videos in /content/drive/MyDrive/FOR_DATASET_0/DATASET_0/FAKE:  42%|████▏     | 81/191 [00:57<01:16,  1.44it/s]"
          ]
        },
        {
          "name": "stdout",
          "output_type": "stream",
          "text": [
            "Extracted 20 frames from the first 10 seconds of /content/drive/MyDrive/FOR_DATASET_0/DATASET_0/FAKE/id37_id1_0001.mp4\n"
          ]
        },
        {
          "name": "stderr",
          "output_type": "stream",
          "text": [
            "\rProcessing videos in /content/drive/MyDrive/FOR_DATASET_0/DATASET_0/FAKE:  43%|████▎     | 82/191 [00:58<01:17,  1.41it/s]"
          ]
        },
        {
          "name": "stdout",
          "output_type": "stream",
          "text": [
            "Extracted 20 frames from the first 10 seconds of /content/drive/MyDrive/FOR_DATASET_0/DATASET_0/FAKE/id37_id1_0002.mp4\n"
          ]
        },
        {
          "name": "stderr",
          "output_type": "stream",
          "text": [
            "\rProcessing videos in /content/drive/MyDrive/FOR_DATASET_0/DATASET_0/FAKE:  43%|████▎     | 83/191 [00:59<01:14,  1.45it/s]"
          ]
        },
        {
          "name": "stdout",
          "output_type": "stream",
          "text": [
            "Extracted 20 frames from the first 10 seconds of /content/drive/MyDrive/FOR_DATASET_0/DATASET_0/FAKE/id37_id2_0000.mp4\n"
          ]
        },
        {
          "name": "stderr",
          "output_type": "stream",
          "text": [
            "\rProcessing videos in /content/drive/MyDrive/FOR_DATASET_0/DATASET_0/FAKE:  44%|████▍     | 84/191 [00:59<01:12,  1.48it/s]"
          ]
        },
        {
          "name": "stdout",
          "output_type": "stream",
          "text": [
            "Extracted 20 frames from the first 10 seconds of /content/drive/MyDrive/FOR_DATASET_0/DATASET_0/FAKE/id37_id2_0001.mp4\n"
          ]
        },
        {
          "name": "stderr",
          "output_type": "stream",
          "text": [
            "\rProcessing videos in /content/drive/MyDrive/FOR_DATASET_0/DATASET_0/FAKE:  45%|████▍     | 85/191 [01:00<01:08,  1.55it/s]"
          ]
        },
        {
          "name": "stdout",
          "output_type": "stream",
          "text": [
            "Extracted 20 frames from the first 10 seconds of /content/drive/MyDrive/FOR_DATASET_0/DATASET_0/FAKE/id37_id2_0002.mp4\n"
          ]
        },
        {
          "name": "stderr",
          "output_type": "stream",
          "text": [
            "\rProcessing videos in /content/drive/MyDrive/FOR_DATASET_0/DATASET_0/FAKE:  45%|████▌     | 86/191 [01:00<01:04,  1.63it/s]"
          ]
        },
        {
          "name": "stdout",
          "output_type": "stream",
          "text": [
            "Extracted 20 frames from the first 10 seconds of /content/drive/MyDrive/FOR_DATASET_0/DATASET_0/FAKE/id38_id26_0004.mp4\n"
          ]
        },
        {
          "name": "stderr",
          "output_type": "stream",
          "text": [
            "\rProcessing videos in /content/drive/MyDrive/FOR_DATASET_0/DATASET_0/FAKE:  46%|████▌     | 87/191 [01:01<00:59,  1.76it/s]"
          ]
        },
        {
          "name": "stdout",
          "output_type": "stream",
          "text": [
            "Extracted 20 frames from the first 10 seconds of /content/drive/MyDrive/FOR_DATASET_0/DATASET_0/FAKE/id38_id26_0001.mp4\n"
          ]
        },
        {
          "name": "stderr",
          "output_type": "stream",
          "text": [
            "\rProcessing videos in /content/drive/MyDrive/FOR_DATASET_0/DATASET_0/FAKE:  46%|████▌     | 88/191 [01:01<00:57,  1.78it/s]"
          ]
        },
        {
          "name": "stdout",
          "output_type": "stream",
          "text": [
            "Extracted 20 frames from the first 10 seconds of /content/drive/MyDrive/FOR_DATASET_0/DATASET_0/FAKE/id38_id26_0000.mp4\n"
          ]
        },
        {
          "name": "stderr",
          "output_type": "stream",
          "text": [
            "\rProcessing videos in /content/drive/MyDrive/FOR_DATASET_0/DATASET_0/FAKE:  47%|████▋     | 89/191 [01:02<00:57,  1.76it/s]"
          ]
        },
        {
          "name": "stdout",
          "output_type": "stream",
          "text": [
            "Extracted 20 frames from the first 10 seconds of /content/drive/MyDrive/FOR_DATASET_0/DATASET_0/FAKE/id39_id45_0002.mp4\n"
          ]
        },
        {
          "name": "stderr",
          "output_type": "stream",
          "text": [
            "\rProcessing videos in /content/drive/MyDrive/FOR_DATASET_0/DATASET_0/FAKE:  47%|████▋     | 90/191 [01:02<00:54,  1.85it/s]"
          ]
        },
        {
          "name": "stdout",
          "output_type": "stream",
          "text": [
            "Extracted 20 frames from the first 10 seconds of /content/drive/MyDrive/FOR_DATASET_0/DATASET_0/FAKE/id39_id46_0000.mp4\n"
          ]
        },
        {
          "name": "stderr",
          "output_type": "stream",
          "text": [
            "\rProcessing videos in /content/drive/MyDrive/FOR_DATASET_0/DATASET_0/FAKE:  48%|████▊     | 91/191 [01:03<00:53,  1.86it/s]"
          ]
        },
        {
          "name": "stdout",
          "output_type": "stream",
          "text": [
            "Extracted 20 frames from the first 10 seconds of /content/drive/MyDrive/FOR_DATASET_0/DATASET_0/FAKE/id39_id46_0002.mp4\n"
          ]
        },
        {
          "name": "stderr",
          "output_type": "stream",
          "text": [
            "\rProcessing videos in /content/drive/MyDrive/FOR_DATASET_0/DATASET_0/FAKE:  48%|████▊     | 92/191 [01:03<00:53,  1.85it/s]"
          ]
        },
        {
          "name": "stdout",
          "output_type": "stream",
          "text": [
            "Extracted 20 frames from the first 10 seconds of /content/drive/MyDrive/FOR_DATASET_0/DATASET_0/FAKE/id39_id46_0001.mp4\n"
          ]
        },
        {
          "name": "stderr",
          "output_type": "stream",
          "text": [
            "\rProcessing videos in /content/drive/MyDrive/FOR_DATASET_0/DATASET_0/FAKE:  49%|████▊     | 93/191 [01:04<00:50,  1.95it/s]"
          ]
        },
        {
          "name": "stdout",
          "output_type": "stream",
          "text": [
            "Extracted 20 frames from the first 10 seconds of /content/drive/MyDrive/FOR_DATASET_0/DATASET_0/FAKE/id3_id2_0002.mp4\n"
          ]
        },
        {
          "name": "stderr",
          "output_type": "stream",
          "text": [
            "\rProcessing videos in /content/drive/MyDrive/FOR_DATASET_0/DATASET_0/FAKE:  49%|████▉     | 94/191 [01:04<00:47,  2.04it/s]"
          ]
        },
        {
          "name": "stdout",
          "output_type": "stream",
          "text": [
            "Extracted 20 frames from the first 10 seconds of /content/drive/MyDrive/FOR_DATASET_0/DATASET_0/FAKE/id3_id2_0001.mp4\n"
          ]
        },
        {
          "name": "stderr",
          "output_type": "stream",
          "text": [
            "\rProcessing videos in /content/drive/MyDrive/FOR_DATASET_0/DATASET_0/FAKE:  50%|████▉     | 95/191 [01:05<00:44,  2.18it/s]"
          ]
        },
        {
          "name": "stdout",
          "output_type": "stream",
          "text": [
            "Extracted 20 frames from the first 10 seconds of /content/drive/MyDrive/FOR_DATASET_0/DATASET_0/FAKE/id3_id2_0000.mp4\n"
          ]
        },
        {
          "name": "stderr",
          "output_type": "stream",
          "text": [
            "\rProcessing videos in /content/drive/MyDrive/FOR_DATASET_0/DATASET_0/FAKE:  50%|█████     | 96/191 [01:05<00:44,  2.13it/s]"
          ]
        },
        {
          "name": "stdout",
          "output_type": "stream",
          "text": [
            "Extracted 20 frames from the first 10 seconds of /content/drive/MyDrive/FOR_DATASET_0/DATASET_0/FAKE/id40_id39_0002.mp4\n"
          ]
        },
        {
          "name": "stderr",
          "output_type": "stream",
          "text": [
            "\rProcessing videos in /content/drive/MyDrive/FOR_DATASET_0/DATASET_0/FAKE:  51%|█████     | 97/191 [01:06<00:42,  2.24it/s]"
          ]
        },
        {
          "name": "stdout",
          "output_type": "stream",
          "text": [
            "Extracted 20 frames from the first 10 seconds of /content/drive/MyDrive/FOR_DATASET_0/DATASET_0/FAKE/id40_id39_0000.mp4\n"
          ]
        },
        {
          "name": "stderr",
          "output_type": "stream",
          "text": [
            "\rProcessing videos in /content/drive/MyDrive/FOR_DATASET_0/DATASET_0/FAKE:  51%|█████▏    | 98/191 [01:06<00:39,  2.33it/s]"
          ]
        },
        {
          "name": "stdout",
          "output_type": "stream",
          "text": [
            "Extracted 20 frames from the first 10 seconds of /content/drive/MyDrive/FOR_DATASET_0/DATASET_0/FAKE/id40_id39_0001.mp4\n"
          ]
        },
        {
          "name": "stderr",
          "output_type": "stream",
          "text": [
            "\rProcessing videos in /content/drive/MyDrive/FOR_DATASET_0/DATASET_0/FAKE:  52%|█████▏    | 99/191 [01:06<00:41,  2.22it/s]"
          ]
        },
        {
          "name": "stdout",
          "output_type": "stream",
          "text": [
            "Extracted 20 frames from the first 10 seconds of /content/drive/MyDrive/FOR_DATASET_0/DATASET_0/FAKE/id41_id47_0001.mp4\n"
          ]
        },
        {
          "name": "stderr",
          "output_type": "stream",
          "text": [
            "\rProcessing videos in /content/drive/MyDrive/FOR_DATASET_0/DATASET_0/FAKE:  52%|█████▏    | 100/191 [01:07<00:41,  2.20it/s]"
          ]
        },
        {
          "name": "stdout",
          "output_type": "stream",
          "text": [
            "Extracted 20 frames from the first 10 seconds of /content/drive/MyDrive/FOR_DATASET_0/DATASET_0/FAKE/id41_id47_0000.mp4\n"
          ]
        },
        {
          "name": "stderr",
          "output_type": "stream",
          "text": [
            "\rProcessing videos in /content/drive/MyDrive/FOR_DATASET_0/DATASET_0/FAKE:  53%|█████▎    | 101/191 [01:07<00:42,  2.10it/s]"
          ]
        },
        {
          "name": "stdout",
          "output_type": "stream",
          "text": [
            "Extracted 20 frames from the first 10 seconds of /content/drive/MyDrive/FOR_DATASET_0/DATASET_0/FAKE/id41_id47_0002.mp4\n"
          ]
        },
        {
          "name": "stderr",
          "output_type": "stream",
          "text": [
            "\rProcessing videos in /content/drive/MyDrive/FOR_DATASET_0/DATASET_0/FAKE:  53%|█████▎    | 102/191 [01:08<00:41,  2.17it/s]"
          ]
        },
        {
          "name": "stdout",
          "output_type": "stream",
          "text": [
            "Extracted 20 frames from the first 10 seconds of /content/drive/MyDrive/FOR_DATASET_0/DATASET_0/FAKE/id42_id44_0001.mp4\n"
          ]
        },
        {
          "name": "stderr",
          "output_type": "stream",
          "text": [
            "\rProcessing videos in /content/drive/MyDrive/FOR_DATASET_0/DATASET_0/FAKE:  54%|█████▍    | 103/191 [01:08<00:42,  2.08it/s]"
          ]
        },
        {
          "name": "stdout",
          "output_type": "stream",
          "text": [
            "Extracted 20 frames from the first 10 seconds of /content/drive/MyDrive/FOR_DATASET_0/DATASET_0/FAKE/id42_id44_0002.mp4\n"
          ]
        },
        {
          "name": "stderr",
          "output_type": "stream",
          "text": [
            "\rProcessing videos in /content/drive/MyDrive/FOR_DATASET_0/DATASET_0/FAKE:  54%|█████▍    | 104/191 [01:09<00:42,  2.05it/s]"
          ]
        },
        {
          "name": "stdout",
          "output_type": "stream",
          "text": [
            "Extracted 20 frames from the first 10 seconds of /content/drive/MyDrive/FOR_DATASET_0/DATASET_0/FAKE/id42_id44_0000.mp4\n"
          ]
        },
        {
          "name": "stderr",
          "output_type": "stream",
          "text": [
            "\rProcessing videos in /content/drive/MyDrive/FOR_DATASET_0/DATASET_0/FAKE:  55%|█████▍    | 105/191 [01:10<00:46,  1.86it/s]"
          ]
        },
        {
          "name": "stdout",
          "output_type": "stream",
          "text": [
            "Extracted 20 frames from the first 10 seconds of /content/drive/MyDrive/FOR_DATASET_0/DATASET_0/FAKE/id43_id42_0000.mp4\n"
          ]
        },
        {
          "name": "stderr",
          "output_type": "stream",
          "text": [
            "\rProcessing videos in /content/drive/MyDrive/FOR_DATASET_0/DATASET_0/FAKE:  55%|█████▌    | 106/191 [01:10<00:48,  1.74it/s]"
          ]
        },
        {
          "name": "stdout",
          "output_type": "stream",
          "text": [
            "Extracted 20 frames from the first 10 seconds of /content/drive/MyDrive/FOR_DATASET_0/DATASET_0/FAKE/id43_id42_0002.mp4\n"
          ]
        },
        {
          "name": "stderr",
          "output_type": "stream",
          "text": [
            "\rProcessing videos in /content/drive/MyDrive/FOR_DATASET_0/DATASET_0/FAKE:  56%|█████▌    | 107/191 [01:11<00:53,  1.56it/s]"
          ]
        },
        {
          "name": "stdout",
          "output_type": "stream",
          "text": [
            "Extracted 20 frames from the first 10 seconds of /content/drive/MyDrive/FOR_DATASET_0/DATASET_0/FAKE/id43_id42_0001.mp4\n"
          ]
        },
        {
          "name": "stderr",
          "output_type": "stream",
          "text": [
            "\rProcessing videos in /content/drive/MyDrive/FOR_DATASET_0/DATASET_0/FAKE:  57%|█████▋    | 108/191 [01:12<00:52,  1.58it/s]"
          ]
        },
        {
          "name": "stdout",
          "output_type": "stream",
          "text": [
            "Extracted 20 frames from the first 10 seconds of /content/drive/MyDrive/FOR_DATASET_0/DATASET_0/FAKE/id44_id41_0000.mp4\n"
          ]
        },
        {
          "name": "stderr",
          "output_type": "stream",
          "text": [
            "\rProcessing videos in /content/drive/MyDrive/FOR_DATASET_0/DATASET_0/FAKE:  57%|█████▋    | 109/191 [01:13<00:59,  1.37it/s]"
          ]
        },
        {
          "name": "stdout",
          "output_type": "stream",
          "text": [
            "Extracted 20 frames from the first 10 seconds of /content/drive/MyDrive/FOR_DATASET_0/DATASET_0/FAKE/id44_id41_0002.mp4\n"
          ]
        },
        {
          "name": "stderr",
          "output_type": "stream",
          "text": [
            "\rProcessing videos in /content/drive/MyDrive/FOR_DATASET_0/DATASET_0/FAKE:  58%|█████▊    | 110/191 [01:13<01:00,  1.34it/s]"
          ]
        },
        {
          "name": "stdout",
          "output_type": "stream",
          "text": [
            "Extracted 20 frames from the first 10 seconds of /content/drive/MyDrive/FOR_DATASET_0/DATASET_0/FAKE/id44_id41_0001.mp4\n"
          ]
        },
        {
          "name": "stderr",
          "output_type": "stream",
          "text": [
            "\rProcessing videos in /content/drive/MyDrive/FOR_DATASET_0/DATASET_0/FAKE:  58%|█████▊    | 111/191 [01:14<00:59,  1.35it/s]"
          ]
        },
        {
          "name": "stdout",
          "output_type": "stream",
          "text": [
            "Extracted 20 frames from the first 10 seconds of /content/drive/MyDrive/FOR_DATASET_0/DATASET_0/FAKE/id45_id48_0002.mp4\n"
          ]
        },
        {
          "name": "stderr",
          "output_type": "stream",
          "text": [
            "\rProcessing videos in /content/drive/MyDrive/FOR_DATASET_0/DATASET_0/FAKE:  59%|█████▊    | 112/191 [01:15<00:51,  1.52it/s]"
          ]
        },
        {
          "name": "stdout",
          "output_type": "stream",
          "text": [
            "Extracted 20 frames from the first 10 seconds of /content/drive/MyDrive/FOR_DATASET_0/DATASET_0/FAKE/id45_id48_0001.mp4\n"
          ]
        },
        {
          "name": "stderr",
          "output_type": "stream",
          "text": [
            "\rProcessing videos in /content/drive/MyDrive/FOR_DATASET_0/DATASET_0/FAKE:  59%|█████▉    | 113/191 [01:15<00:46,  1.67it/s]"
          ]
        },
        {
          "name": "stdout",
          "output_type": "stream",
          "text": [
            "Extracted 20 frames from the first 10 seconds of /content/drive/MyDrive/FOR_DATASET_0/DATASET_0/FAKE/id46_id39_0002.mp4\n"
          ]
        },
        {
          "name": "stderr",
          "output_type": "stream",
          "text": [
            "\rProcessing videos in /content/drive/MyDrive/FOR_DATASET_0/DATASET_0/FAKE:  60%|█████▉    | 114/191 [01:16<00:45,  1.70it/s]"
          ]
        },
        {
          "name": "stdout",
          "output_type": "stream",
          "text": [
            "Extracted 20 frames from the first 10 seconds of /content/drive/MyDrive/FOR_DATASET_0/DATASET_0/FAKE/id46_id39_0001.mp4\n"
          ]
        },
        {
          "name": "stderr",
          "output_type": "stream",
          "text": [
            "\rProcessing videos in /content/drive/MyDrive/FOR_DATASET_0/DATASET_0/FAKE:  60%|██████    | 115/191 [01:16<00:42,  1.80it/s]"
          ]
        },
        {
          "name": "stdout",
          "output_type": "stream",
          "text": [
            "Extracted 20 frames from the first 10 seconds of /content/drive/MyDrive/FOR_DATASET_0/DATASET_0/FAKE/id46_id39_0000.mp4\n"
          ]
        },
        {
          "name": "stderr",
          "output_type": "stream",
          "text": [
            "\rProcessing videos in /content/drive/MyDrive/FOR_DATASET_0/DATASET_0/FAKE:  61%|██████    | 116/191 [01:17<00:41,  1.80it/s]"
          ]
        },
        {
          "name": "stdout",
          "output_type": "stream",
          "text": [
            "Extracted 20 frames from the first 10 seconds of /content/drive/MyDrive/FOR_DATASET_0/DATASET_0/FAKE/id45_id48_0000.mp4\n"
          ]
        },
        {
          "name": "stderr",
          "output_type": "stream",
          "text": [
            "\rProcessing videos in /content/drive/MyDrive/FOR_DATASET_0/DATASET_0/FAKE:  61%|██████▏   | 117/191 [01:17<00:41,  1.78it/s]"
          ]
        },
        {
          "name": "stdout",
          "output_type": "stream",
          "text": [
            "Extracted 20 frames from the first 10 seconds of /content/drive/MyDrive/FOR_DATASET_0/DATASET_0/FAKE/id47_id39_0002.mp4\n"
          ]
        },
        {
          "name": "stderr",
          "output_type": "stream",
          "text": [
            "\rProcessing videos in /content/drive/MyDrive/FOR_DATASET_0/DATASET_0/FAKE:  62%|██████▏   | 118/191 [01:18<00:40,  1.82it/s]"
          ]
        },
        {
          "name": "stdout",
          "output_type": "stream",
          "text": [
            "Extracted 20 frames from the first 10 seconds of /content/drive/MyDrive/FOR_DATASET_0/DATASET_0/FAKE/id47_id39_0001.mp4\n"
          ]
        },
        {
          "name": "stderr",
          "output_type": "stream",
          "text": [
            "\rProcessing videos in /content/drive/MyDrive/FOR_DATASET_0/DATASET_0/FAKE:  62%|██████▏   | 119/191 [01:18<00:37,  1.90it/s]"
          ]
        },
        {
          "name": "stdout",
          "output_type": "stream",
          "text": [
            "Extracted 20 frames from the first 10 seconds of /content/drive/MyDrive/FOR_DATASET_0/DATASET_0/FAKE/id47_id39_0000.mp4\n"
          ]
        },
        {
          "name": "stderr",
          "output_type": "stream",
          "text": [
            "\rProcessing videos in /content/drive/MyDrive/FOR_DATASET_0/DATASET_0/FAKE:  63%|██████▎   | 120/191 [01:19<00:37,  1.91it/s]"
          ]
        },
        {
          "name": "stdout",
          "output_type": "stream",
          "text": [
            "Extracted 20 frames from the first 10 seconds of /content/drive/MyDrive/FOR_DATASET_0/DATASET_0/FAKE/id48_id44_0001.mp4\n"
          ]
        },
        {
          "name": "stderr",
          "output_type": "stream",
          "text": [
            "\rProcessing videos in /content/drive/MyDrive/FOR_DATASET_0/DATASET_0/FAKE:  63%|██████▎   | 121/191 [01:19<00:36,  1.93it/s]"
          ]
        },
        {
          "name": "stdout",
          "output_type": "stream",
          "text": [
            "Extracted 20 frames from the first 10 seconds of /content/drive/MyDrive/FOR_DATASET_0/DATASET_0/FAKE/id48_id44_0002.mp4\n"
          ]
        },
        {
          "name": "stderr",
          "output_type": "stream",
          "text": [
            "\rProcessing videos in /content/drive/MyDrive/FOR_DATASET_0/DATASET_0/FAKE:  64%|██████▍   | 122/191 [01:20<00:34,  1.97it/s]"
          ]
        },
        {
          "name": "stdout",
          "output_type": "stream",
          "text": [
            "Extracted 20 frames from the first 10 seconds of /content/drive/MyDrive/FOR_DATASET_0/DATASET_0/FAKE/id48_id44_0000.mp4\n"
          ]
        },
        {
          "name": "stderr",
          "output_type": "stream",
          "text": [
            "\rProcessing videos in /content/drive/MyDrive/FOR_DATASET_0/DATASET_0/FAKE:  64%|██████▍   | 123/191 [01:20<00:34,  1.97it/s]"
          ]
        },
        {
          "name": "stdout",
          "output_type": "stream",
          "text": [
            "Extracted 20 frames from the first 10 seconds of /content/drive/MyDrive/FOR_DATASET_0/DATASET_0/FAKE/id49_id54_0000.mp4\n"
          ]
        },
        {
          "name": "stderr",
          "output_type": "stream",
          "text": [
            "\rProcessing videos in /content/drive/MyDrive/FOR_DATASET_0/DATASET_0/FAKE:  65%|██████▍   | 124/191 [01:21<00:35,  1.88it/s]"
          ]
        },
        {
          "name": "stdout",
          "output_type": "stream",
          "text": [
            "Extracted 20 frames from the first 10 seconds of /content/drive/MyDrive/FOR_DATASET_0/DATASET_0/FAKE/id49_id54_0002.mp4\n"
          ]
        },
        {
          "name": "stderr",
          "output_type": "stream",
          "text": [
            "\rProcessing videos in /content/drive/MyDrive/FOR_DATASET_0/DATASET_0/FAKE:  65%|██████▌   | 125/191 [01:21<00:35,  1.87it/s]"
          ]
        },
        {
          "name": "stdout",
          "output_type": "stream",
          "text": [
            "Extracted 20 frames from the first 10 seconds of /content/drive/MyDrive/FOR_DATASET_0/DATASET_0/FAKE/id49_id54_0001.mp4\n"
          ]
        },
        {
          "name": "stderr",
          "output_type": "stream",
          "text": [
            "\rProcessing videos in /content/drive/MyDrive/FOR_DATASET_0/DATASET_0/FAKE:  66%|██████▌   | 126/191 [01:22<00:34,  1.87it/s]"
          ]
        },
        {
          "name": "stdout",
          "output_type": "stream",
          "text": [
            "Extracted 20 frames from the first 10 seconds of /content/drive/MyDrive/FOR_DATASET_0/DATASET_0/FAKE/id4_id0_0000.mp4\n"
          ]
        },
        {
          "name": "stderr",
          "output_type": "stream",
          "text": [
            "\rProcessing videos in /content/drive/MyDrive/FOR_DATASET_0/DATASET_0/FAKE:  66%|██████▋   | 127/191 [01:22<00:35,  1.83it/s]"
          ]
        },
        {
          "name": "stdout",
          "output_type": "stream",
          "text": [
            "Extracted 20 frames from the first 10 seconds of /content/drive/MyDrive/FOR_DATASET_0/DATASET_0/FAKE/id4_id1_0001.mp4\n"
          ]
        },
        {
          "name": "stderr",
          "output_type": "stream",
          "text": [
            "\rProcessing videos in /content/drive/MyDrive/FOR_DATASET_0/DATASET_0/FAKE:  67%|██████▋   | 128/191 [01:23<00:34,  1.82it/s]"
          ]
        },
        {
          "name": "stdout",
          "output_type": "stream",
          "text": [
            "Extracted 20 frames from the first 10 seconds of /content/drive/MyDrive/FOR_DATASET_0/DATASET_0/FAKE/id4_id1_0000.mp4\n"
          ]
        },
        {
          "name": "stderr",
          "output_type": "stream",
          "text": [
            "\rProcessing videos in /content/drive/MyDrive/FOR_DATASET_0/DATASET_0/FAKE:  68%|██████▊   | 129/191 [01:24<00:34,  1.80it/s]"
          ]
        },
        {
          "name": "stdout",
          "output_type": "stream",
          "text": [
            "Extracted 20 frames from the first 10 seconds of /content/drive/MyDrive/FOR_DATASET_0/DATASET_0/FAKE/id4_id1_0002.mp4\n"
          ]
        },
        {
          "name": "stderr",
          "output_type": "stream",
          "text": [
            "\rProcessing videos in /content/drive/MyDrive/FOR_DATASET_0/DATASET_0/FAKE:  68%|██████▊   | 130/191 [01:24<00:34,  1.79it/s]"
          ]
        },
        {
          "name": "stdout",
          "output_type": "stream",
          "text": [
            "Extracted 20 frames from the first 10 seconds of /content/drive/MyDrive/FOR_DATASET_0/DATASET_0/FAKE/id50_id51_0001.mp4\n"
          ]
        },
        {
          "name": "stderr",
          "output_type": "stream",
          "text": [
            "\rProcessing videos in /content/drive/MyDrive/FOR_DATASET_0/DATASET_0/FAKE:  69%|██████▊   | 131/191 [01:25<00:36,  1.66it/s]"
          ]
        },
        {
          "name": "stdout",
          "output_type": "stream",
          "text": [
            "Extracted 20 frames from the first 10 seconds of /content/drive/MyDrive/FOR_DATASET_0/DATASET_0/FAKE/id50_id51_0002.mp4\n"
          ]
        },
        {
          "name": "stderr",
          "output_type": "stream",
          "text": [
            "\rProcessing videos in /content/drive/MyDrive/FOR_DATASET_0/DATASET_0/FAKE:  69%|██████▉   | 132/191 [01:26<00:37,  1.57it/s]"
          ]
        },
        {
          "name": "stdout",
          "output_type": "stream",
          "text": [
            "Extracted 20 frames from the first 10 seconds of /content/drive/MyDrive/FOR_DATASET_0/DATASET_0/FAKE/id50_id51_0000.mp4\n"
          ]
        },
        {
          "name": "stderr",
          "output_type": "stream",
          "text": [
            "\rProcessing videos in /content/drive/MyDrive/FOR_DATASET_0/DATASET_0/FAKE:  70%|██████▉   | 133/191 [01:26<00:37,  1.54it/s]"
          ]
        },
        {
          "name": "stdout",
          "output_type": "stream",
          "text": [
            "Extracted 20 frames from the first 10 seconds of /content/drive/MyDrive/FOR_DATASET_0/DATASET_0/FAKE/id51_id49_0001.mp4\n"
          ]
        },
        {
          "name": "stderr",
          "output_type": "stream",
          "text": [
            "\rProcessing videos in /content/drive/MyDrive/FOR_DATASET_0/DATASET_0/FAKE:  70%|███████   | 134/191 [01:27<00:37,  1.51it/s]"
          ]
        },
        {
          "name": "stdout",
          "output_type": "stream",
          "text": [
            "Extracted 20 frames from the first 10 seconds of /content/drive/MyDrive/FOR_DATASET_0/DATASET_0/FAKE/id50_id57_0008.mp4\n"
          ]
        },
        {
          "name": "stderr",
          "output_type": "stream",
          "text": [
            "\rProcessing videos in /content/drive/MyDrive/FOR_DATASET_0/DATASET_0/FAKE:  71%|███████   | 135/191 [01:28<00:38,  1.46it/s]"
          ]
        },
        {
          "name": "stdout",
          "output_type": "stream",
          "text": [
            "Extracted 20 frames from the first 10 seconds of /content/drive/MyDrive/FOR_DATASET_0/DATASET_0/FAKE/id50_id57_0006.mp4\n"
          ]
        },
        {
          "name": "stderr",
          "output_type": "stream",
          "text": [
            "\rProcessing videos in /content/drive/MyDrive/FOR_DATASET_0/DATASET_0/FAKE:  71%|███████   | 136/191 [01:28<00:37,  1.47it/s]"
          ]
        },
        {
          "name": "stdout",
          "output_type": "stream",
          "text": [
            "Extracted 20 frames from the first 10 seconds of /content/drive/MyDrive/FOR_DATASET_0/DATASET_0/FAKE/id51_id49_0000.mp4\n"
          ]
        },
        {
          "name": "stderr",
          "output_type": "stream",
          "text": [
            "\rProcessing videos in /content/drive/MyDrive/FOR_DATASET_0/DATASET_0/FAKE:  72%|███████▏  | 137/191 [01:29<00:36,  1.49it/s]"
          ]
        },
        {
          "name": "stdout",
          "output_type": "stream",
          "text": [
            "Extracted 20 frames from the first 10 seconds of /content/drive/MyDrive/FOR_DATASET_0/DATASET_0/FAKE/id50_id57_0009.mp4\n"
          ]
        },
        {
          "name": "stderr",
          "output_type": "stream",
          "text": [
            "\rProcessing videos in /content/drive/MyDrive/FOR_DATASET_0/DATASET_0/FAKE:  72%|███████▏  | 138/191 [01:30<00:34,  1.54it/s]"
          ]
        },
        {
          "name": "stdout",
          "output_type": "stream",
          "text": [
            "Extracted 20 frames from the first 10 seconds of /content/drive/MyDrive/FOR_DATASET_0/DATASET_0/FAKE/id51_id49_0002.mp4\n"
          ]
        },
        {
          "name": "stderr",
          "output_type": "stream",
          "text": [
            "\rProcessing videos in /content/drive/MyDrive/FOR_DATASET_0/DATASET_0/FAKE:  73%|███████▎  | 139/191 [01:30<00:31,  1.65it/s]"
          ]
        },
        {
          "name": "stdout",
          "output_type": "stream",
          "text": [
            "Extracted 20 frames from the first 10 seconds of /content/drive/MyDrive/FOR_DATASET_0/DATASET_0/FAKE/id50_id57_0007.mp4\n"
          ]
        },
        {
          "name": "stderr",
          "output_type": "stream",
          "text": [
            "\rProcessing videos in /content/drive/MyDrive/FOR_DATASET_0/DATASET_0/FAKE:  73%|███████▎  | 140/191 [01:31<00:30,  1.68it/s]"
          ]
        },
        {
          "name": "stdout",
          "output_type": "stream",
          "text": [
            "Extracted 20 frames from the first 10 seconds of /content/drive/MyDrive/FOR_DATASET_0/DATASET_0/FAKE/id51_id49_0004.mp4\n"
          ]
        },
        {
          "name": "stderr",
          "output_type": "stream",
          "text": [
            "\rProcessing videos in /content/drive/MyDrive/FOR_DATASET_0/DATASET_0/FAKE:  74%|███████▍  | 141/191 [01:31<00:29,  1.70it/s]"
          ]
        },
        {
          "name": "stdout",
          "output_type": "stream",
          "text": [
            "Extracted 20 frames from the first 10 seconds of /content/drive/MyDrive/FOR_DATASET_0/DATASET_0/FAKE/id52_id58_0009.mp4\n"
          ]
        },
        {
          "name": "stderr",
          "output_type": "stream",
          "text": [
            "\rProcessing videos in /content/drive/MyDrive/FOR_DATASET_0/DATASET_0/FAKE:  74%|███████▍  | 142/191 [01:32<00:27,  1.77it/s]"
          ]
        },
        {
          "name": "stdout",
          "output_type": "stream",
          "text": [
            "Extracted 20 frames from the first 10 seconds of /content/drive/MyDrive/FOR_DATASET_0/DATASET_0/FAKE/id52_id58_0008.mp4\n"
          ]
        },
        {
          "name": "stderr",
          "output_type": "stream",
          "text": [
            "\rProcessing videos in /content/drive/MyDrive/FOR_DATASET_0/DATASET_0/FAKE:  75%|███████▍  | 143/191 [01:32<00:26,  1.78it/s]"
          ]
        },
        {
          "name": "stdout",
          "output_type": "stream",
          "text": [
            "Extracted 20 frames from the first 10 seconds of /content/drive/MyDrive/FOR_DATASET_0/DATASET_0/FAKE/id53_id49_0001.mp4\n"
          ]
        },
        {
          "name": "stderr",
          "output_type": "stream",
          "text": [
            "\rProcessing videos in /content/drive/MyDrive/FOR_DATASET_0/DATASET_0/FAKE:  75%|███████▌  | 144/191 [01:33<00:27,  1.70it/s]"
          ]
        },
        {
          "name": "stdout",
          "output_type": "stream",
          "text": [
            "Extracted 20 frames from the first 10 seconds of /content/drive/MyDrive/FOR_DATASET_0/DATASET_0/FAKE/id53_id49_0002.mp4\n"
          ]
        },
        {
          "name": "stderr",
          "output_type": "stream",
          "text": [
            "\rProcessing videos in /content/drive/MyDrive/FOR_DATASET_0/DATASET_0/FAKE:  76%|███████▌  | 145/191 [01:33<00:26,  1.76it/s]"
          ]
        },
        {
          "name": "stdout",
          "output_type": "stream",
          "text": [
            "Extracted 20 frames from the first 10 seconds of /content/drive/MyDrive/FOR_DATASET_0/DATASET_0/FAKE/id53_id49_0000.mp4\n"
          ]
        },
        {
          "name": "stderr",
          "output_type": "stream",
          "text": [
            "\rProcessing videos in /content/drive/MyDrive/FOR_DATASET_0/DATASET_0/FAKE:  76%|███████▋  | 146/191 [01:34<00:25,  1.75it/s]"
          ]
        },
        {
          "name": "stdout",
          "output_type": "stream",
          "text": [
            "Extracted 20 frames from the first 10 seconds of /content/drive/MyDrive/FOR_DATASET_0/DATASET_0/FAKE/id52_id58_0007.mp4\n"
          ]
        },
        {
          "name": "stderr",
          "output_type": "stream",
          "text": [
            "\rProcessing videos in /content/drive/MyDrive/FOR_DATASET_0/DATASET_0/FAKE:  77%|███████▋  | 147/191 [01:35<00:24,  1.81it/s]"
          ]
        },
        {
          "name": "stdout",
          "output_type": "stream",
          "text": [
            "Extracted 20 frames from the first 10 seconds of /content/drive/MyDrive/FOR_DATASET_0/DATASET_0/FAKE/id53_id49_0003.mp4\n"
          ]
        },
        {
          "name": "stderr",
          "output_type": "stream",
          "text": [
            "\rProcessing videos in /content/drive/MyDrive/FOR_DATASET_0/DATASET_0/FAKE:  77%|███████▋  | 148/191 [01:35<00:24,  1.72it/s]"
          ]
        },
        {
          "name": "stdout",
          "output_type": "stream",
          "text": [
            "Extracted 20 frames from the first 10 seconds of /content/drive/MyDrive/FOR_DATASET_0/DATASET_0/FAKE/id52_id58_0005.mp4\n"
          ]
        },
        {
          "name": "stderr",
          "output_type": "stream",
          "text": [
            "\rProcessing videos in /content/drive/MyDrive/FOR_DATASET_0/DATASET_0/FAKE:  78%|███████▊  | 149/191 [01:36<00:23,  1.78it/s]"
          ]
        },
        {
          "name": "stdout",
          "output_type": "stream",
          "text": [
            "Extracted 20 frames from the first 10 seconds of /content/drive/MyDrive/FOR_DATASET_0/DATASET_0/FAKE/id54_id50_0008.mp4\n"
          ]
        },
        {
          "name": "stderr",
          "output_type": "stream",
          "text": [
            "\rProcessing videos in /content/drive/MyDrive/FOR_DATASET_0/DATASET_0/FAKE:  79%|███████▊  | 150/191 [01:36<00:22,  1.79it/s]"
          ]
        },
        {
          "name": "stdout",
          "output_type": "stream",
          "text": [
            "Extracted 20 frames from the first 10 seconds of /content/drive/MyDrive/FOR_DATASET_0/DATASET_0/FAKE/id54_id50_0006.mp4\n"
          ]
        },
        {
          "name": "stderr",
          "output_type": "stream",
          "text": [
            "\rProcessing videos in /content/drive/MyDrive/FOR_DATASET_0/DATASET_0/FAKE:  79%|███████▉  | 151/191 [01:37<00:21,  1.86it/s]"
          ]
        },
        {
          "name": "stdout",
          "output_type": "stream",
          "text": [
            "Extracted 20 frames from the first 10 seconds of /content/drive/MyDrive/FOR_DATASET_0/DATASET_0/FAKE/id54_id50_0005.mp4\n"
          ]
        },
        {
          "name": "stderr",
          "output_type": "stream",
          "text": [
            "\rProcessing videos in /content/drive/MyDrive/FOR_DATASET_0/DATASET_0/FAKE:  80%|███████▉  | 152/191 [01:37<00:22,  1.74it/s]"
          ]
        },
        {
          "name": "stdout",
          "output_type": "stream",
          "text": [
            "Extracted 20 frames from the first 10 seconds of /content/drive/MyDrive/FOR_DATASET_0/DATASET_0/FAKE/id54_id50_0004.mp4\n"
          ]
        },
        {
          "name": "stderr",
          "output_type": "stream",
          "text": [
            "\rProcessing videos in /content/drive/MyDrive/FOR_DATASET_0/DATASET_0/FAKE:  80%|████████  | 153/191 [01:38<00:20,  1.85it/s]"
          ]
        },
        {
          "name": "stdout",
          "output_type": "stream",
          "text": [
            "Extracted 20 frames from the first 10 seconds of /content/drive/MyDrive/FOR_DATASET_0/DATASET_0/FAKE/id55_id50_0006.mp4\n"
          ]
        },
        {
          "name": "stderr",
          "output_type": "stream",
          "text": [
            "\rProcessing videos in /content/drive/MyDrive/FOR_DATASET_0/DATASET_0/FAKE:  81%|████████  | 154/191 [01:38<00:20,  1.84it/s]"
          ]
        },
        {
          "name": "stdout",
          "output_type": "stream",
          "text": [
            "Extracted 20 frames from the first 10 seconds of /content/drive/MyDrive/FOR_DATASET_0/DATASET_0/FAKE/id55_id50_0007.mp4\n"
          ]
        },
        {
          "name": "stderr",
          "output_type": "stream",
          "text": [
            "\rProcessing videos in /content/drive/MyDrive/FOR_DATASET_0/DATASET_0/FAKE:  81%|████████  | 155/191 [01:39<00:19,  1.89it/s]"
          ]
        },
        {
          "name": "stdout",
          "output_type": "stream",
          "text": [
            "Extracted 20 frames from the first 10 seconds of /content/drive/MyDrive/FOR_DATASET_0/DATASET_0/FAKE/id55_id50_0004.mp4\n"
          ]
        },
        {
          "name": "stderr",
          "output_type": "stream",
          "text": [
            "\rProcessing videos in /content/drive/MyDrive/FOR_DATASET_0/DATASET_0/FAKE:  82%|████████▏ | 156/191 [01:40<00:20,  1.74it/s]"
          ]
        },
        {
          "name": "stdout",
          "output_type": "stream",
          "text": [
            "Extracted 20 frames from the first 10 seconds of /content/drive/MyDrive/FOR_DATASET_0/DATASET_0/FAKE/id55_id50_0005.mp4\n"
          ]
        },
        {
          "name": "stderr",
          "output_type": "stream",
          "text": [
            "\rProcessing videos in /content/drive/MyDrive/FOR_DATASET_0/DATASET_0/FAKE:  82%|████████▏ | 157/191 [01:40<00:21,  1.62it/s]"
          ]
        },
        {
          "name": "stdout",
          "output_type": "stream",
          "text": [
            "Extracted 20 frames from the first 10 seconds of /content/drive/MyDrive/FOR_DATASET_0/DATASET_0/FAKE/id56_id57_0008.mp4\n"
          ]
        },
        {
          "name": "stderr",
          "output_type": "stream",
          "text": [
            "\rProcessing videos in /content/drive/MyDrive/FOR_DATASET_0/DATASET_0/FAKE:  83%|████████▎ | 158/191 [01:41<00:20,  1.64it/s]"
          ]
        },
        {
          "name": "stdout",
          "output_type": "stream",
          "text": [
            "Extracted 20 frames from the first 10 seconds of /content/drive/MyDrive/FOR_DATASET_0/DATASET_0/FAKE/id56_id57_0007.mp4\n"
          ]
        },
        {
          "name": "stderr",
          "output_type": "stream",
          "text": [
            "\rProcessing videos in /content/drive/MyDrive/FOR_DATASET_0/DATASET_0/FAKE:  83%|████████▎ | 159/191 [01:42<00:20,  1.54it/s]"
          ]
        },
        {
          "name": "stdout",
          "output_type": "stream",
          "text": [
            "Extracted 20 frames from the first 10 seconds of /content/drive/MyDrive/FOR_DATASET_0/DATASET_0/FAKE/id56_id58_0000.mp4\n"
          ]
        },
        {
          "name": "stderr",
          "output_type": "stream",
          "text": [
            "\rProcessing videos in /content/drive/MyDrive/FOR_DATASET_0/DATASET_0/FAKE:  84%|████████▍ | 160/191 [01:42<00:20,  1.48it/s]"
          ]
        },
        {
          "name": "stdout",
          "output_type": "stream",
          "text": [
            "Extracted 20 frames from the first 10 seconds of /content/drive/MyDrive/FOR_DATASET_0/DATASET_0/FAKE/id56_id57_0009.mp4\n"
          ]
        },
        {
          "name": "stderr",
          "output_type": "stream",
          "text": [
            "\rProcessing videos in /content/drive/MyDrive/FOR_DATASET_0/DATASET_0/FAKE:  84%|████████▍ | 161/191 [01:43<00:21,  1.42it/s]"
          ]
        },
        {
          "name": "stdout",
          "output_type": "stream",
          "text": [
            "Extracted 20 frames from the first 10 seconds of /content/drive/MyDrive/FOR_DATASET_0/DATASET_0/FAKE/id57_id51_0005.mp4\n"
          ]
        },
        {
          "name": "stderr",
          "output_type": "stream",
          "text": [
            "\rProcessing videos in /content/drive/MyDrive/FOR_DATASET_0/DATASET_0/FAKE:  85%|████████▍ | 162/191 [01:44<00:20,  1.42it/s]"
          ]
        },
        {
          "name": "stdout",
          "output_type": "stream",
          "text": [
            "Extracted 20 frames from the first 10 seconds of /content/drive/MyDrive/FOR_DATASET_0/DATASET_0/FAKE/id57_id51_0006.mp4\n"
          ]
        },
        {
          "name": "stderr",
          "output_type": "stream",
          "text": [
            "\rProcessing videos in /content/drive/MyDrive/FOR_DATASET_0/DATASET_0/FAKE:  85%|████████▌ | 163/191 [01:45<00:18,  1.48it/s]"
          ]
        },
        {
          "name": "stdout",
          "output_type": "stream",
          "text": [
            "Extracted 20 frames from the first 10 seconds of /content/drive/MyDrive/FOR_DATASET_0/DATASET_0/FAKE/id57_id51_0007.mp4\n"
          ]
        },
        {
          "name": "stderr",
          "output_type": "stream",
          "text": [
            "\rProcessing videos in /content/drive/MyDrive/FOR_DATASET_0/DATASET_0/FAKE:  86%|████████▌ | 164/191 [01:45<00:16,  1.62it/s]"
          ]
        },
        {
          "name": "stdout",
          "output_type": "stream",
          "text": [
            "Extracted 20 frames from the first 10 seconds of /content/drive/MyDrive/FOR_DATASET_0/DATASET_0/FAKE/id57_id51_0004.mp4\n"
          ]
        },
        {
          "name": "stderr",
          "output_type": "stream",
          "text": [
            "\rProcessing videos in /content/drive/MyDrive/FOR_DATASET_0/DATASET_0/FAKE:  86%|████████▋ | 165/191 [01:46<00:15,  1.64it/s]"
          ]
        },
        {
          "name": "stdout",
          "output_type": "stream",
          "text": [
            "Extracted 20 frames from the first 10 seconds of /content/drive/MyDrive/FOR_DATASET_0/DATASET_0/FAKE/id59_id61_0006.mp4\n"
          ]
        },
        {
          "name": "stderr",
          "output_type": "stream",
          "text": [
            "\rProcessing videos in /content/drive/MyDrive/FOR_DATASET_0/DATASET_0/FAKE:  87%|████████▋ | 166/191 [01:46<00:14,  1.74it/s]"
          ]
        },
        {
          "name": "stdout",
          "output_type": "stream",
          "text": [
            "Extracted 20 frames from the first 10 seconds of /content/drive/MyDrive/FOR_DATASET_0/DATASET_0/FAKE/id59_id61_0008.mp4\n"
          ]
        },
        {
          "name": "stderr",
          "output_type": "stream",
          "text": [
            "\rProcessing videos in /content/drive/MyDrive/FOR_DATASET_0/DATASET_0/FAKE:  87%|████████▋ | 167/191 [01:47<00:13,  1.78it/s]"
          ]
        },
        {
          "name": "stdout",
          "output_type": "stream",
          "text": [
            "Extracted 20 frames from the first 10 seconds of /content/drive/MyDrive/FOR_DATASET_0/DATASET_0/FAKE/id59_id61_0007.mp4\n"
          ]
        },
        {
          "name": "stderr",
          "output_type": "stream",
          "text": [
            "\rProcessing videos in /content/drive/MyDrive/FOR_DATASET_0/DATASET_0/FAKE:  88%|████████▊ | 168/191 [01:47<00:12,  1.90it/s]"
          ]
        },
        {
          "name": "stdout",
          "output_type": "stream",
          "text": [
            "Extracted 20 frames from the first 10 seconds of /content/drive/MyDrive/FOR_DATASET_0/DATASET_0/FAKE/id59_id61_0005.mp4\n"
          ]
        },
        {
          "name": "stderr",
          "output_type": "stream",
          "text": [
            "\rProcessing videos in /content/drive/MyDrive/FOR_DATASET_0/DATASET_0/FAKE:  88%|████████▊ | 169/191 [01:48<00:12,  1.83it/s]"
          ]
        },
        {
          "name": "stdout",
          "output_type": "stream",
          "text": [
            "Extracted 20 frames from the first 10 seconds of /content/drive/MyDrive/FOR_DATASET_0/DATASET_0/FAKE/id5_id61_0000.mp4\n"
          ]
        },
        {
          "name": "stderr",
          "output_type": "stream",
          "text": [
            "\rProcessing videos in /content/drive/MyDrive/FOR_DATASET_0/DATASET_0/FAKE:  89%|████████▉ | 170/191 [01:48<00:11,  1.78it/s]"
          ]
        },
        {
          "name": "stdout",
          "output_type": "stream",
          "text": [
            "Extracted 20 frames from the first 10 seconds of /content/drive/MyDrive/FOR_DATASET_0/DATASET_0/FAKE/id5_id61_0003.mp4\n"
          ]
        },
        {
          "name": "stderr",
          "output_type": "stream",
          "text": [
            "\rProcessing videos in /content/drive/MyDrive/FOR_DATASET_0/DATASET_0/FAKE:  90%|████████▉ | 171/191 [01:49<00:11,  1.76it/s]"
          ]
        },
        {
          "name": "stdout",
          "output_type": "stream",
          "text": [
            "Extracted 20 frames from the first 10 seconds of /content/drive/MyDrive/FOR_DATASET_0/DATASET_0/FAKE/id5_id61_0001.mp4\n"
          ]
        },
        {
          "name": "stderr",
          "output_type": "stream",
          "text": [
            "\rProcessing videos in /content/drive/MyDrive/FOR_DATASET_0/DATASET_0/FAKE:  90%|█████████ | 172/191 [01:49<00:10,  1.82it/s]"
          ]
        },
        {
          "name": "stdout",
          "output_type": "stream",
          "text": [
            "Extracted 20 frames from the first 10 seconds of /content/drive/MyDrive/FOR_DATASET_0/DATASET_0/FAKE/id60_id5_0004.mp4\n"
          ]
        },
        {
          "name": "stderr",
          "output_type": "stream",
          "text": [
            "\rProcessing videos in /content/drive/MyDrive/FOR_DATASET_0/DATASET_0/FAKE:  91%|█████████ | 173/191 [01:50<00:10,  1.80it/s]"
          ]
        },
        {
          "name": "stdout",
          "output_type": "stream",
          "text": [
            "Extracted 20 frames from the first 10 seconds of /content/drive/MyDrive/FOR_DATASET_0/DATASET_0/FAKE/id60_id5_0002.mp4\n"
          ]
        },
        {
          "name": "stderr",
          "output_type": "stream",
          "text": [
            "\rProcessing videos in /content/drive/MyDrive/FOR_DATASET_0/DATASET_0/FAKE:  91%|█████████ | 174/191 [01:50<00:09,  1.82it/s]"
          ]
        },
        {
          "name": "stdout",
          "output_type": "stream",
          "text": [
            "Extracted 20 frames from the first 10 seconds of /content/drive/MyDrive/FOR_DATASET_0/DATASET_0/FAKE/id60_id5_0000.mp4\n"
          ]
        },
        {
          "name": "stderr",
          "output_type": "stream",
          "text": [
            "\rProcessing videos in /content/drive/MyDrive/FOR_DATASET_0/DATASET_0/FAKE:  92%|█████████▏| 175/191 [01:51<00:08,  1.83it/s]"
          ]
        },
        {
          "name": "stdout",
          "output_type": "stream",
          "text": [
            "Extracted 20 frames from the first 10 seconds of /content/drive/MyDrive/FOR_DATASET_0/DATASET_0/FAKE/id60_id5_0003.mp4\n"
          ]
        },
        {
          "name": "stderr",
          "output_type": "stream",
          "text": [
            "\rProcessing videos in /content/drive/MyDrive/FOR_DATASET_0/DATASET_0/FAKE:  92%|█████████▏| 176/191 [01:52<00:08,  1.84it/s]"
          ]
        },
        {
          "name": "stdout",
          "output_type": "stream",
          "text": [
            "Extracted 20 frames from the first 10 seconds of /content/drive/MyDrive/FOR_DATASET_0/DATASET_0/FAKE/id60_id5_0001.mp4\n"
          ]
        },
        {
          "name": "stderr",
          "output_type": "stream",
          "text": [
            "\rProcessing videos in /content/drive/MyDrive/FOR_DATASET_0/DATASET_0/FAKE:  93%|█████████▎| 177/191 [01:52<00:07,  1.91it/s]"
          ]
        },
        {
          "name": "stdout",
          "output_type": "stream",
          "text": [
            "Extracted 20 frames from the first 10 seconds of /content/drive/MyDrive/FOR_DATASET_0/DATASET_0/FAKE/id61_id5_0000.mp4\n"
          ]
        },
        {
          "name": "stderr",
          "output_type": "stream",
          "text": [
            "\rProcessing videos in /content/drive/MyDrive/FOR_DATASET_0/DATASET_0/FAKE:  93%|█████████▎| 178/191 [01:53<00:06,  1.92it/s]"
          ]
        },
        {
          "name": "stdout",
          "output_type": "stream",
          "text": [
            "Extracted 20 frames from the first 10 seconds of /content/drive/MyDrive/FOR_DATASET_0/DATASET_0/FAKE/id61_id5_0002.mp4\n"
          ]
        },
        {
          "name": "stderr",
          "output_type": "stream",
          "text": [
            "\rProcessing videos in /content/drive/MyDrive/FOR_DATASET_0/DATASET_0/FAKE:  94%|█████████▎| 179/191 [01:53<00:06,  1.91it/s]"
          ]
        },
        {
          "name": "stdout",
          "output_type": "stream",
          "text": [
            "Extracted 20 frames from the first 10 seconds of /content/drive/MyDrive/FOR_DATASET_0/DATASET_0/FAKE/id61_id60_0006.mp4\n"
          ]
        },
        {
          "name": "stderr",
          "output_type": "stream",
          "text": [
            "\rProcessing videos in /content/drive/MyDrive/FOR_DATASET_0/DATASET_0/FAKE:  94%|█████████▍| 180/191 [01:54<00:05,  1.85it/s]"
          ]
        },
        {
          "name": "stdout",
          "output_type": "stream",
          "text": [
            "Extracted 20 frames from the first 10 seconds of /content/drive/MyDrive/FOR_DATASET_0/DATASET_0/FAKE/id6_id9_0001.mp4\n"
          ]
        },
        {
          "name": "stderr",
          "output_type": "stream",
          "text": [
            "\rProcessing videos in /content/drive/MyDrive/FOR_DATASET_0/DATASET_0/FAKE:  95%|█████████▍| 181/191 [01:54<00:05,  1.84it/s]"
          ]
        },
        {
          "name": "stdout",
          "output_type": "stream",
          "text": [
            "Extracted 20 frames from the first 10 seconds of /content/drive/MyDrive/FOR_DATASET_0/DATASET_0/FAKE/id6_id9_0000.mp4\n"
          ]
        },
        {
          "name": "stderr",
          "output_type": "stream",
          "text": [
            "\rProcessing videos in /content/drive/MyDrive/FOR_DATASET_0/DATASET_0/FAKE:  95%|█████████▌| 182/191 [01:55<00:05,  1.73it/s]"
          ]
        },
        {
          "name": "stdout",
          "output_type": "stream",
          "text": [
            "Extracted 20 frames from the first 10 seconds of /content/drive/MyDrive/FOR_DATASET_0/DATASET_0/FAKE/id6_id9_0002.mp4\n"
          ]
        },
        {
          "name": "stderr",
          "output_type": "stream",
          "text": [
            "\rProcessing videos in /content/drive/MyDrive/FOR_DATASET_0/DATASET_0/FAKE:  96%|█████████▌| 183/191 [01:56<00:05,  1.60it/s]"
          ]
        },
        {
          "name": "stdout",
          "output_type": "stream",
          "text": [
            "Extracted 20 frames from the first 10 seconds of /content/drive/MyDrive/FOR_DATASET_0/DATASET_0/FAKE/id7_id13_0000.mp4\n"
          ]
        },
        {
          "name": "stderr",
          "output_type": "stream",
          "text": [
            "\rProcessing videos in /content/drive/MyDrive/FOR_DATASET_0/DATASET_0/FAKE:  96%|█████████▋| 184/191 [01:56<00:04,  1.50it/s]"
          ]
        },
        {
          "name": "stdout",
          "output_type": "stream",
          "text": [
            "Extracted 20 frames from the first 10 seconds of /content/drive/MyDrive/FOR_DATASET_0/DATASET_0/FAKE/id7_id13_0001.mp4\n"
          ]
        },
        {
          "name": "stderr",
          "output_type": "stream",
          "text": [
            "\rProcessing videos in /content/drive/MyDrive/FOR_DATASET_0/DATASET_0/FAKE:  97%|█████████▋| 185/191 [01:57<00:04,  1.35it/s]"
          ]
        },
        {
          "name": "stdout",
          "output_type": "stream",
          "text": [
            "Extracted 20 frames from the first 10 seconds of /content/drive/MyDrive/FOR_DATASET_0/DATASET_0/FAKE/id8_id0_0003.mp4\n"
          ]
        },
        {
          "name": "stderr",
          "output_type": "stream",
          "text": [
            "\rProcessing videos in /content/drive/MyDrive/FOR_DATASET_0/DATASET_0/FAKE:  97%|█████████▋| 186/191 [01:58<00:03,  1.29it/s]"
          ]
        },
        {
          "name": "stdout",
          "output_type": "stream",
          "text": [
            "Extracted 20 frames from the first 10 seconds of /content/drive/MyDrive/FOR_DATASET_0/DATASET_0/FAKE/id8_id0_0002.mp4\n"
          ]
        },
        {
          "name": "stderr",
          "output_type": "stream",
          "text": [
            "\rProcessing videos in /content/drive/MyDrive/FOR_DATASET_0/DATASET_0/FAKE:  98%|█████████▊| 187/191 [01:59<00:02,  1.35it/s]"
          ]
        },
        {
          "name": "stdout",
          "output_type": "stream",
          "text": [
            "Extracted 20 frames from the first 10 seconds of /content/drive/MyDrive/FOR_DATASET_0/DATASET_0/FAKE/id7_id13_0002.mp4\n"
          ]
        },
        {
          "name": "stderr",
          "output_type": "stream",
          "text": [
            "\rProcessing videos in /content/drive/MyDrive/FOR_DATASET_0/DATASET_0/FAKE:  98%|█████████▊| 188/191 [02:00<00:02,  1.30it/s]"
          ]
        },
        {
          "name": "stdout",
          "output_type": "stream",
          "text": [
            "Extracted 20 frames from the first 10 seconds of /content/drive/MyDrive/FOR_DATASET_0/DATASET_0/FAKE/id8_id0_0007.mp4\n"
          ]
        },
        {
          "name": "stderr",
          "output_type": "stream",
          "text": [
            "\rProcessing videos in /content/drive/MyDrive/FOR_DATASET_0/DATASET_0/FAKE:  99%|█████████▉| 189/191 [02:00<00:01,  1.42it/s]"
          ]
        },
        {
          "name": "stdout",
          "output_type": "stream",
          "text": [
            "Extracted 20 frames from the first 10 seconds of /content/drive/MyDrive/FOR_DATASET_0/DATASET_0/FAKE/id9_id28_0000.mp4\n"
          ]
        },
        {
          "name": "stderr",
          "output_type": "stream",
          "text": [
            "\rProcessing videos in /content/drive/MyDrive/FOR_DATASET_0/DATASET_0/FAKE:  99%|█████████▉| 190/191 [02:01<00:00,  1.47it/s]"
          ]
        },
        {
          "name": "stdout",
          "output_type": "stream",
          "text": [
            "Extracted 20 frames from the first 10 seconds of /content/drive/MyDrive/FOR_DATASET_0/DATASET_0/FAKE/id9_id28_0001.mp4\n"
          ]
        },
        {
          "name": "stderr",
          "output_type": "stream",
          "text": [
            "Processing videos in /content/drive/MyDrive/FOR_DATASET_0/DATASET_0/FAKE: 100%|██████████| 191/191 [02:01<00:00,  1.57it/s]"
          ]
        },
        {
          "name": "stdout",
          "output_type": "stream",
          "text": [
            "Extracted 20 frames from the first 10 seconds of /content/drive/MyDrive/FOR_DATASET_0/DATASET_0/FAKE/id9_id28_0003.mp4\n"
          ]
        },
        {
          "name": "stderr",
          "output_type": "stream",
          "text": [
            "\n"
          ]
        }
      ],
      "source": [
        "def process_videos_limited_frames(input_dir, output_dir, max_frames=20, frame_size=(224, 224)):\n",
        "\n",
        "    os.makedirs(output_dir, exist_ok=True)\n",
        "\n",
        "    for video in tqdm(os.listdir(input_dir), desc=f\"Processing videos in {input_dir}\"):\n",
        "        if video.endswith(\".mp4\"):\n",
        "            video_path = os.path.join(input_dir, video)\n",
        "            video_output_dir = os.path.join(output_dir, os.path.splitext(video)[0])\n",
        "            extract_limited_frames(video_path, video_output_dir, max_frames, frame_size)\n",
        "\n",
        "# Paths\n",
        "REAL_DIR = \"/content/drive/MyDrive/FOR_DATASET_0/DATASET_0/REAL\"\n",
        "SYNTHESIS_DIR = \"/content/drive/MyDrive/FOR_DATASET_0/DATASET_0/FAKE\"\n",
        "OUTPUT_DIR = \"/content/drive/MyDrive/FOR_DATASET_0/frames_1\"\n",
        "\n",
        "# Extract frames for real and synthesized videos\n",
        "process_videos_limited_frames(REAL_DIR, os.path.join(OUTPUT_DIR, \"REAL\"))\n",
        "process_videos_limited_frames(SYNTHESIS_DIR, os.path.join(OUTPUT_DIR, \"FAKE\"))"
      ]
    },
    {
      "cell_type": "code",
      "execution_count": null,
      "metadata": {
        "colab": {
          "background_save": true,
          "base_uri": "https://localhost:8080/"
        },
        "id": "7hsFMJguhyCR",
        "outputId": "973b8d6b-16c7-4685-e83d-388ba71ff27d"
      },
      "outputs": [
        {
          "name": "stderr",
          "output_type": "stream",
          "text": [
            "Processing /content/drive/MyDrive/FOR_DATASET_0/DATASET_0/REAL: 100%|██████████| 268/268 [06:49<00:00,  1.53s/it]\n"
          ]
        },
        {
          "name": "stdout",
          "output_type": "stream",
          "text": [
            "Saved data to /content/drive/MyDrive/FOR_DATASET_0/labels_3.csv\n"
          ]
        },
        {
          "name": "stderr",
          "output_type": "stream",
          "text": [
            "Processing /content/drive/MyDrive/FOR_DATASET_0/DATASET_0/FAKE: 100%|██████████| 268/268 [06:42<00:00,  1.50s/it]"
          ]
        },
        {
          "name": "stdout",
          "output_type": "stream",
          "text": [
            "Saved data to /content/drive/MyDrive/FOR_DATASET_0/labels_3.csv\n"
          ]
        },
        {
          "name": "stderr",
          "output_type": "stream",
          "text": [
            "\n"
          ]
        }
      ],
      "source": [
        "import os\n",
        "import cv2\n",
        "import pandas as pd\n",
        "from tqdm import tqdm\n",
        "\n",
        "def detect_and_save_faces(frame, frame_filename, face_cascade):\n",
        "\n",
        "    gray = cv2.cvtColor(frame, cv2.COLOR_BGR2GRAY)  # Convert to grayscale for face detection\n",
        "    faces = face_cascade.detectMultiScale(gray, scaleFactor=1.1, minNeighbors=5, minSize=(30, 30))\n",
        "    if len(faces) > 0:\n",
        "        cv2.imwrite(frame_filename, frame)  # Save frame if faces are detected\n",
        "        return True\n",
        "    return False\n",
        "\n",
        "def extract_faces_and_save_csv(video_dir, output_dir, label, csv_path, max_frames=20, frame_size=(224, 224)):\n",
        "\n",
        "    os.makedirs(output_dir, exist_ok=True)\n",
        "    face_cascade = cv2.CascadeClassifier(cv2.data.haarcascades + \"haarcascade_frontalface_default.xml\")\n",
        "    data = []\n",
        "\n",
        "    for video in tqdm(os.listdir(video_dir), desc=f\"Processing {video_dir}\"):\n",
        "        if video.endswith(\".mp4\"):\n",
        "            video_path = os.path.join(video_dir, video)\n",
        "            video_output_dir = os.path.join(output_dir, os.path.splitext(video)[0])\n",
        "            os.makedirs(video_output_dir, exist_ok=True)\n",
        "\n",
        "            cap = cv2.VideoCapture(video_path)\n",
        "            fps = int(cap.get(cv2.CAP_PROP_FPS))\n",
        "            total_frames = int(min(cap.get(cv2.CAP_PROP_FRAME_COUNT), fps * 10))\n",
        "            frame_interval = max(total_frames // max_frames, 1)\n",
        "\n",
        "            frame_count = 0\n",
        "            saved_frames = 0\n",
        "\n",
        "            while saved_frames < max_frames:\n",
        "                ret, frame = cap.read()\n",
        "                if not ret or frame_count >= total_frames:\n",
        "                    break\n",
        "\n",
        "                if frame_count % frame_interval == 0:\n",
        "                    frame = cv2.resize(frame, frame_size)\n",
        "                    frame_filename = os.path.join(video_output_dir, f\"frame_{saved_frames:04d}.jpg\")\n",
        "\n",
        "                    if detect_and_save_faces(frame, frame_filename, face_cascade):\n",
        "                        data.append({\"frame_path\": frame_filename, \"label\": label})\n",
        "                        saved_frames += 1\n",
        "                frame_count += 1\n",
        "\n",
        "            cap.release()\n",
        "\n",
        "    # Append data to CSV\n",
        "    if os.path.exists(csv_path):\n",
        "        existing_df = pd.read_csv(csv_path)\n",
        "        new_df = pd.DataFrame(data)\n",
        "        df = pd.concat([existing_df, new_df], ignore_index=True)\n",
        "    else:\n",
        "        df = pd.DataFrame(data)\n",
        "\n",
        "    df.to_csv(csv_path, index=False)\n",
        "    print(f\"Saved data to {csv_path}\")\n",
        "\n",
        "# Paths\n",
        "REAL_DIR = \"/content/drive/MyDrive/FOR_DATASET_0/DATASET_0/REAL\"\n",
        "SYNTHESIS_DIR = \"/content/drive/MyDrive/FOR_DATASET_0/DATASET_0/FAKE\"\n",
        "OUTPUT_DIR = \"/content/drive/MyDrive/FOR_DATASET_0/frames_3\"\n",
        "CSV_PATH = \"/content/drive/MyDrive/FOR_DATASET_0/labels_3.csv\"\n",
        "\n",
        "# Process real and synthesized videos\n",
        "extract_faces_and_save_csv(REAL_DIR, os.path.join(OUTPUT_DIR, \"REAL\"), label=0, csv_path=CSV_PATH, max_frames=30)\n",
        "extract_faces_and_save_csv(SYNTHESIS_DIR, os.path.join(OUTPUT_DIR, \"FAKE\"), label=1, csv_path=CSV_PATH, max_frames=30)"
      ]
    },
    {
      "cell_type": "code",
      "execution_count": null,
      "metadata": {
        "colab": {
          "base_uri": "https://localhost:8080/"
        },
        "id": "g5FtlWl1k95D",
        "outputId": "4b210482-4e5e-4693-f3b5-aa3b38891ced"
      },
      "outputs": [
        {
          "output_type": "execute_result",
          "data": {
            "text/plain": [
              "(22996, 2)"
            ]
          },
          "metadata": {},
          "execution_count": 5
        }
      ],
      "source": [
        "import pandas as pd\n",
        "CSV_PATH = \"/content/drive/MyDrive/FOR_DATASET_0/labels_3.csv\"\n",
        "df = pd.read_csv(CSV_PATH)\n",
        "df.shape"
      ]
    },
    {
      "cell_type": "code",
      "source": [],
      "metadata": {
        "id": "1wD_sjbO0BIB"
      },
      "execution_count": null,
      "outputs": []
    }
  ],
  "metadata": {
    "colab": {
      "provenance": [],
      "gpuType": "T4"
    },
    "kernelspec": {
      "display_name": "Python 3",
      "name": "python3"
    },
    "language_info": {
      "name": "python"
    },
    "accelerator": "GPU"
  },
  "nbformat": 4,
  "nbformat_minor": 0
}