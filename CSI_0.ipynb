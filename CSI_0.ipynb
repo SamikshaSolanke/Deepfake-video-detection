{
  "cells": [
    {
      "cell_type": "markdown",
      "metadata": {
        "id": "view-in-github",
        "colab_type": "text"
      },
      "source": [
        "<a href=\"https://colab.research.google.com/github/SamikshaSolanke/Deepfake-video-detection-CSI-Codezilla/blob/main/CSI_0.ipynb\" target=\"_parent\"><img src=\"https://colab.research.google.com/assets/colab-badge.svg\" alt=\"Open In Colab\"/></a>"
      ]
    },
    {
      "cell_type": "markdown",
      "source": [
        "**This Notebook contains the code for preprocessing of dataset into frames of fixed size and labelling them**"
      ],
      "metadata": {
        "id": "0-_iAPT6yRH5"
      }
    },
    {
      "cell_type": "markdown",
      "source": [
        "**Importing a few important libraries and frameworks**"
      ],
      "metadata": {
        "id": "YMM5F4alyevf"
      }
    },
    {
      "cell_type": "code",
      "execution_count": null,
      "metadata": {
        "id": "345MAzgBIRt4"
      },
      "outputs": [],
      "source": [
        "import os\n",
        "import cv2\n",
        "import random\n",
        "import numpy as np\n",
        "import pickle\n",
        "from tqdm import tqdm\n",
        "from tensorflow.keras.preprocessing.image import ImageDataGenerator"
      ]
    },
    {
      "cell_type": "markdown",
      "source": [
        "**Setting the paths to dataset and declaring the sizes**"
      ],
      "metadata": {
        "id": "Gn_sqxuCyomJ"
      }
    },
    {
      "cell_type": "code",
      "execution_count": null,
      "metadata": {
        "id": "McbM8YY5j7RW"
      },
      "outputs": [],
      "source": [
        "# Paths to dataset folders\n",
        "DATASET_DIR = \"dataset\"\n",
        "REAL_DIR = os.path.join(DATASET_DIR, \"Celeb-real\")\n",
        "SYNTHESIS_DIR = os.path.join(DATASET_DIR, \"Celeb-synthesis\")\n",
        "\n",
        "# Parameters\n",
        "FRAME_RATE = 1\n",
        "FRAME_SIZE = (224, 224)\n",
        "AUGMENTATION = True"
      ]
    },
    {
      "cell_type": "markdown",
      "source": [
        "**Below is the code for extracting the frames from the videos and saving them in a drive folder**"
      ],
      "metadata": {
        "id": "CEnuh0Cty5kl"
      }
    },
    {
      "cell_type": "code",
      "execution_count": null,
      "metadata": {
        "id": "P4fTlvXJkAhT"
      },
      "outputs": [],
      "source": [
        "def extract_limited_frames(video_path, output_dir, max_frames=20, frame_size=(224, 224)):\n",
        "    \"\"\"\n",
        "    Extract frames from the first 10 seconds of a video, limiting the total number of frames.\n",
        "    - video_path: Path to the video file.\n",
        "    - output_dir: Directory where frames will be saved.\n",
        "    - max_frames: Maximum number of frames to extract (default: 30).\n",
        "    - frame_size: Tuple specifying the size to resize frames (default: 224x224).\n",
        "    \"\"\"\n",
        "    os.makedirs(output_dir, exist_ok=True)\n",
        "    cap = cv2.VideoCapture(video_path)\n",
        "\n",
        "    fps = int(cap.get(cv2.CAP_PROP_FPS))  # Frames per second of the video\n",
        "    total_frames = int(min(cap.get(cv2.CAP_PROP_FRAME_COUNT), fps * 10))  # Max frames in 10 seconds\n",
        "    frame_interval = max(total_frames // max_frames, 1)  # Interval to evenly distribute frames\n",
        "\n",
        "    frame_count = 0\n",
        "    saved_frames = 0\n",
        "\n",
        "    while saved_frames < max_frames:\n",
        "        ret, frame = cap.read()\n",
        "        if not ret or frame_count >= total_frames:\n",
        "            break\n",
        "        if frame_count % frame_interval == 0:\n",
        "            frame = cv2.resize(frame, frame_size)  # Resize the frame\n",
        "            frame_filename = os.path.join(output_dir, f\"frame_{saved_frames:04d}.jpg\")\n",
        "            cv2.imwrite(frame_filename, frame)  # Save the frame as an image\n",
        "            saved_frames += 1\n",
        "        frame_count += 1\n",
        "\n",
        "    cap.release()\n",
        "    print(f\"Extracted {saved_frames} frames from the first 10 seconds of {video_path}\")\n"
      ]
    },
    {
      "cell_type": "code",
      "execution_count": null,
      "metadata": {
        "colab": {
          "base_uri": "https://localhost:8080/"
        },
        "collapsed": true,
        "id": "Zgv80BqHle4J",
        "outputId": "1c845e3a-cab7-4be1-b61f-a2be7a1fd399"
      },
      "outputs": [
        {
          "name": "stderr",
          "output_type": "stream",
          "text": [
            "Processing videos in dataset/Celeb-real:   0%|          | 1/590 [00:00<06:19,  1.55it/s]"
          ]
        },
        {
          "name": "stdout",
          "output_type": "stream",
          "text": [
            "Extracted 20 frames from the first 10 seconds of dataset/Celeb-real/id0_0001.mp4\n"
          ]
        },
        {
          "name": "stderr",
          "output_type": "stream",
          "text": [
            "\rProcessing videos in dataset/Celeb-real:   0%|          | 2/590 [00:01<05:50,  1.68it/s]"
          ]
        },
        {
          "name": "stdout",
          "output_type": "stream",
          "text": [
            "Extracted 20 frames from the first 10 seconds of dataset/Celeb-real/id56_0004.mp4\n"
          ]
        },
        {
          "name": "stderr",
          "output_type": "stream",
          "text": [
            "\rProcessing videos in dataset/Celeb-real:   1%|          | 3/590 [00:02<07:28,  1.31it/s]"
          ]
        },
        {
          "name": "stdout",
          "output_type": "stream",
          "text": [
            "Extracted 20 frames from the first 10 seconds of dataset/Celeb-real/id4_0006.mp4\n"
          ]
        },
        {
          "name": "stderr",
          "output_type": "stream",
          "text": [
            "\rProcessing videos in dataset/Celeb-real:   1%|          | 4/590 [00:02<07:41,  1.27it/s]"
          ]
        },
        {
          "name": "stdout",
          "output_type": "stream",
          "text": [
            "Extracted 20 frames from the first 10 seconds of dataset/Celeb-real/id43_0006.mp4\n"
          ]
        },
        {
          "name": "stderr",
          "output_type": "stream",
          "text": [
            "\rProcessing videos in dataset/Celeb-real:   1%|          | 5/590 [00:03<08:15,  1.18it/s]"
          ]
        },
        {
          "name": "stdout",
          "output_type": "stream",
          "text": [
            "Extracted 20 frames from the first 10 seconds of dataset/Celeb-real/id33_0001.mp4\n"
          ]
        },
        {
          "name": "stderr",
          "output_type": "stream",
          "text": [
            "\rProcessing videos in dataset/Celeb-real:   1%|          | 6/590 [00:04<06:50,  1.42it/s]"
          ]
        },
        {
          "name": "stdout",
          "output_type": "stream",
          "text": [
            "Extracted 20 frames from the first 10 seconds of dataset/Celeb-real/id22_0007.mp4\n"
          ]
        },
        {
          "name": "stderr",
          "output_type": "stream",
          "text": [
            "\rProcessing videos in dataset/Celeb-real:   1%|          | 7/590 [00:04<05:56,  1.64it/s]"
          ]
        },
        {
          "name": "stdout",
          "output_type": "stream",
          "text": [
            "Extracted 20 frames from the first 10 seconds of dataset/Celeb-real/id33_0002.mp4\n"
          ]
        },
        {
          "name": "stderr",
          "output_type": "stream",
          "text": [
            "\rProcessing videos in dataset/Celeb-real:   1%|▏         | 8/590 [00:05<04:45,  2.04it/s]"
          ]
        },
        {
          "name": "stdout",
          "output_type": "stream",
          "text": [
            "Extracted 20 frames from the first 10 seconds of dataset/Celeb-real/id60_0007.mp4\n"
          ]
        },
        {
          "name": "stderr",
          "output_type": "stream",
          "text": [
            "\rProcessing videos in dataset/Celeb-real:   2%|▏         | 9/590 [00:05<03:57,  2.45it/s]"
          ]
        },
        {
          "name": "stdout",
          "output_type": "stream",
          "text": [
            "Extracted 20 frames from the first 10 seconds of dataset/Celeb-real/id46_0004.mp4\n"
          ]
        },
        {
          "name": "stderr",
          "output_type": "stream",
          "text": [
            "\rProcessing videos in dataset/Celeb-real:   2%|▏         | 10/590 [00:05<03:35,  2.69it/s]"
          ]
        },
        {
          "name": "stdout",
          "output_type": "stream",
          "text": [
            "Extracted 20 frames from the first 10 seconds of dataset/Celeb-real/id8_0000.mp4\n"
          ]
        },
        {
          "name": "stderr",
          "output_type": "stream",
          "text": [
            "\rProcessing videos in dataset/Celeb-real:   2%|▏         | 11/590 [00:05<03:18,  2.92it/s]"
          ]
        },
        {
          "name": "stdout",
          "output_type": "stream",
          "text": [
            "Extracted 20 frames from the first 10 seconds of dataset/Celeb-real/id26_0009.mp4\n"
          ]
        },
        {
          "name": "stderr",
          "output_type": "stream",
          "text": [
            "\rProcessing videos in dataset/Celeb-real:   2%|▏         | 12/590 [00:06<03:06,  3.09it/s]"
          ]
        },
        {
          "name": "stdout",
          "output_type": "stream",
          "text": [
            "Extracted 20 frames from the first 10 seconds of dataset/Celeb-real/id0_0003.mp4\n"
          ]
        },
        {
          "name": "stderr",
          "output_type": "stream",
          "text": [
            "\rProcessing videos in dataset/Celeb-real:   2%|▏         | 13/590 [00:06<02:46,  3.46it/s]"
          ]
        },
        {
          "name": "stdout",
          "output_type": "stream",
          "text": [
            "Extracted 20 frames from the first 10 seconds of dataset/Celeb-real/id47_0006.mp4\n"
          ]
        },
        {
          "name": "stderr",
          "output_type": "stream",
          "text": [
            "\rProcessing videos in dataset/Celeb-real:   2%|▏         | 14/590 [00:06<02:44,  3.50it/s]"
          ]
        },
        {
          "name": "stdout",
          "output_type": "stream",
          "text": [
            "Extracted 20 frames from the first 10 seconds of dataset/Celeb-real/id12_0000.mp4\n"
          ]
        },
        {
          "name": "stderr",
          "output_type": "stream",
          "text": [
            "\rProcessing videos in dataset/Celeb-real:   3%|▎         | 15/590 [00:06<02:42,  3.54it/s]"
          ]
        },
        {
          "name": "stdout",
          "output_type": "stream",
          "text": [
            "Extracted 20 frames from the first 10 seconds of dataset/Celeb-real/id59_0003.mp4\n"
          ]
        },
        {
          "name": "stderr",
          "output_type": "stream",
          "text": [
            "\rProcessing videos in dataset/Celeb-real:   3%|▎         | 16/590 [00:07<02:30,  3.80it/s]"
          ]
        },
        {
          "name": "stdout",
          "output_type": "stream",
          "text": [
            "Extracted 20 frames from the first 10 seconds of dataset/Celeb-real/id39_0005.mp4\n"
          ]
        },
        {
          "name": "stderr",
          "output_type": "stream",
          "text": [
            "\rProcessing videos in dataset/Celeb-real:   3%|▎         | 17/590 [00:07<02:28,  3.85it/s]"
          ]
        },
        {
          "name": "stdout",
          "output_type": "stream",
          "text": [
            "Extracted 20 frames from the first 10 seconds of dataset/Celeb-real/id61_0007.mp4\n"
          ]
        },
        {
          "name": "stderr",
          "output_type": "stream",
          "text": [
            "\rProcessing videos in dataset/Celeb-real:   3%|▎         | 18/590 [00:07<02:47,  3.41it/s]"
          ]
        },
        {
          "name": "stdout",
          "output_type": "stream",
          "text": [
            "Extracted 20 frames from the first 10 seconds of dataset/Celeb-real/id53_0006.mp4\n"
          ]
        },
        {
          "name": "stderr",
          "output_type": "stream",
          "text": [
            "\rProcessing videos in dataset/Celeb-real:   3%|▎         | 19/590 [00:07<02:44,  3.48it/s]"
          ]
        },
        {
          "name": "stdout",
          "output_type": "stream",
          "text": [
            "Extracted 20 frames from the first 10 seconds of dataset/Celeb-real/id52_0009.mp4\n"
          ]
        },
        {
          "name": "stderr",
          "output_type": "stream",
          "text": [
            "\rProcessing videos in dataset/Celeb-real:   3%|▎         | 20/590 [00:08<02:36,  3.65it/s]"
          ]
        },
        {
          "name": "stdout",
          "output_type": "stream",
          "text": [
            "Extracted 20 frames from the first 10 seconds of dataset/Celeb-real/id27_0003.mp4\n"
          ]
        },
        {
          "name": "stderr",
          "output_type": "stream",
          "text": [
            "\rProcessing videos in dataset/Celeb-real:   4%|▎         | 21/590 [00:08<02:36,  3.65it/s]"
          ]
        },
        {
          "name": "stdout",
          "output_type": "stream",
          "text": [
            "Extracted 20 frames from the first 10 seconds of dataset/Celeb-real/id4_0008.mp4\n"
          ]
        },
        {
          "name": "stderr",
          "output_type": "stream",
          "text": [
            "\rProcessing videos in dataset/Celeb-real:   4%|▎         | 22/590 [00:08<02:29,  3.81it/s]"
          ]
        },
        {
          "name": "stdout",
          "output_type": "stream",
          "text": [
            "Extracted 20 frames from the first 10 seconds of dataset/Celeb-real/id39_0009.mp4\n"
          ]
        },
        {
          "name": "stderr",
          "output_type": "stream",
          "text": [
            "\rProcessing videos in dataset/Celeb-real:   4%|▍         | 23/590 [00:08<02:28,  3.83it/s]"
          ]
        },
        {
          "name": "stdout",
          "output_type": "stream",
          "text": [
            "Extracted 20 frames from the first 10 seconds of dataset/Celeb-real/id58_0000.mp4\n"
          ]
        },
        {
          "name": "stderr",
          "output_type": "stream",
          "text": [
            "\rProcessing videos in dataset/Celeb-real:   4%|▍         | 24/590 [00:09<02:31,  3.74it/s]"
          ]
        },
        {
          "name": "stdout",
          "output_type": "stream",
          "text": [
            "Extracted 20 frames from the first 10 seconds of dataset/Celeb-real/id59_0004.mp4\n"
          ]
        },
        {
          "name": "stderr",
          "output_type": "stream",
          "text": [
            "\rProcessing videos in dataset/Celeb-real:   4%|▍         | 25/590 [00:09<02:28,  3.80it/s]"
          ]
        },
        {
          "name": "stdout",
          "output_type": "stream",
          "text": [
            "Extracted 20 frames from the first 10 seconds of dataset/Celeb-real/id51_0000.mp4\n"
          ]
        },
        {
          "name": "stderr",
          "output_type": "stream",
          "text": [
            "\rProcessing videos in dataset/Celeb-real:   4%|▍         | 26/590 [00:09<02:21,  3.98it/s]"
          ]
        },
        {
          "name": "stdout",
          "output_type": "stream",
          "text": [
            "Extracted 20 frames from the first 10 seconds of dataset/Celeb-real/id2_0003.mp4\n"
          ]
        },
        {
          "name": "stderr",
          "output_type": "stream",
          "text": [
            "\rProcessing videos in dataset/Celeb-real:   5%|▍         | 27/590 [00:10<02:35,  3.62it/s]"
          ]
        },
        {
          "name": "stdout",
          "output_type": "stream",
          "text": [
            "Extracted 20 frames from the first 10 seconds of dataset/Celeb-real/id11_0004.mp4\n"
          ]
        },
        {
          "name": "stderr",
          "output_type": "stream",
          "text": [
            "\rProcessing videos in dataset/Celeb-real:   5%|▍         | 28/590 [00:10<02:38,  3.55it/s]"
          ]
        },
        {
          "name": "stdout",
          "output_type": "stream",
          "text": [
            "Extracted 20 frames from the first 10 seconds of dataset/Celeb-real/id7_0009.mp4\n"
          ]
        },
        {
          "name": "stderr",
          "output_type": "stream",
          "text": [
            "\rProcessing videos in dataset/Celeb-real:   5%|▍         | 29/590 [00:10<02:32,  3.67it/s]"
          ]
        },
        {
          "name": "stdout",
          "output_type": "stream",
          "text": [
            "Extracted 20 frames from the first 10 seconds of dataset/Celeb-real/id35_0002.mp4\n"
          ]
        },
        {
          "name": "stderr",
          "output_type": "stream",
          "text": [
            "\rProcessing videos in dataset/Celeb-real:   5%|▌         | 30/590 [00:10<02:37,  3.55it/s]"
          ]
        },
        {
          "name": "stdout",
          "output_type": "stream",
          "text": [
            "Extracted 20 frames from the first 10 seconds of dataset/Celeb-real/id16_0004.mp4\n"
          ]
        },
        {
          "name": "stderr",
          "output_type": "stream",
          "text": [
            "\rProcessing videos in dataset/Celeb-real:   5%|▌         | 31/590 [00:11<02:26,  3.81it/s]"
          ]
        },
        {
          "name": "stdout",
          "output_type": "stream",
          "text": [
            "Extracted 20 frames from the first 10 seconds of dataset/Celeb-real/id2_0009.mp4\n"
          ]
        },
        {
          "name": "stderr",
          "output_type": "stream",
          "text": [
            "\rProcessing videos in dataset/Celeb-real:   5%|▌         | 32/590 [00:11<02:22,  3.91it/s]"
          ]
        },
        {
          "name": "stdout",
          "output_type": "stream",
          "text": [
            "Extracted 20 frames from the first 10 seconds of dataset/Celeb-real/id42_0000.mp4\n"
          ]
        },
        {
          "name": "stderr",
          "output_type": "stream",
          "text": [
            "\rProcessing videos in dataset/Celeb-real:   6%|▌         | 33/590 [00:11<02:28,  3.75it/s]"
          ]
        },
        {
          "name": "stdout",
          "output_type": "stream",
          "text": [
            "Extracted 20 frames from the first 10 seconds of dataset/Celeb-real/id16_0007.mp4\n"
          ]
        },
        {
          "name": "stderr",
          "output_type": "stream",
          "text": [
            "\rProcessing videos in dataset/Celeb-real:   6%|▌         | 34/590 [00:11<02:29,  3.71it/s]"
          ]
        },
        {
          "name": "stdout",
          "output_type": "stream",
          "text": [
            "Extracted 20 frames from the first 10 seconds of dataset/Celeb-real/id45_0000.mp4\n"
          ]
        },
        {
          "name": "stderr",
          "output_type": "stream",
          "text": [
            "\rProcessing videos in dataset/Celeb-real:   6%|▌         | 35/590 [00:12<02:23,  3.88it/s]"
          ]
        },
        {
          "name": "stdout",
          "output_type": "stream",
          "text": [
            "Extracted 20 frames from the first 10 seconds of dataset/Celeb-real/id37_0005.mp4\n"
          ]
        },
        {
          "name": "stderr",
          "output_type": "stream",
          "text": [
            "\rProcessing videos in dataset/Celeb-real:   6%|▌         | 36/590 [00:12<02:24,  3.85it/s]"
          ]
        },
        {
          "name": "stdout",
          "output_type": "stream",
          "text": [
            "Extracted 20 frames from the first 10 seconds of dataset/Celeb-real/id32_0003.mp4\n"
          ]
        },
        {
          "name": "stderr",
          "output_type": "stream",
          "text": [
            "\rProcessing videos in dataset/Celeb-real:   6%|▋         | 37/590 [00:12<02:26,  3.78it/s]"
          ]
        },
        {
          "name": "stdout",
          "output_type": "stream",
          "text": [
            "Extracted 20 frames from the first 10 seconds of dataset/Celeb-real/id38_0007.mp4\n"
          ]
        },
        {
          "name": "stderr",
          "output_type": "stream",
          "text": [
            "\rProcessing videos in dataset/Celeb-real:   6%|▋         | 38/590 [00:13<02:29,  3.69it/s]"
          ]
        },
        {
          "name": "stdout",
          "output_type": "stream",
          "text": [
            "Extracted 20 frames from the first 10 seconds of dataset/Celeb-real/id11_0001.mp4\n"
          ]
        },
        {
          "name": "stderr",
          "output_type": "stream",
          "text": [
            "\rProcessing videos in dataset/Celeb-real:   7%|▋         | 39/590 [00:13<02:21,  3.90it/s]"
          ]
        },
        {
          "name": "stdout",
          "output_type": "stream",
          "text": [
            "Extracted 20 frames from the first 10 seconds of dataset/Celeb-real/id25_0009.mp4\n"
          ]
        },
        {
          "name": "stderr",
          "output_type": "stream",
          "text": [
            "\rProcessing videos in dataset/Celeb-real:   7%|▋         | 40/590 [00:13<02:17,  4.00it/s]"
          ]
        },
        {
          "name": "stdout",
          "output_type": "stream",
          "text": [
            "Extracted 20 frames from the first 10 seconds of dataset/Celeb-real/id33_0004.mp4\n"
          ]
        },
        {
          "name": "stderr",
          "output_type": "stream",
          "text": [
            "\rProcessing videos in dataset/Celeb-real:   7%|▋         | 41/590 [00:13<02:21,  3.88it/s]"
          ]
        },
        {
          "name": "stdout",
          "output_type": "stream",
          "text": [
            "Extracted 20 frames from the first 10 seconds of dataset/Celeb-real/id8_0004.mp4\n"
          ]
        },
        {
          "name": "stderr",
          "output_type": "stream",
          "text": [
            "\rProcessing videos in dataset/Celeb-real:   7%|▋         | 42/590 [00:14<02:31,  3.62it/s]"
          ]
        },
        {
          "name": "stdout",
          "output_type": "stream",
          "text": [
            "Extracted 20 frames from the first 10 seconds of dataset/Celeb-real/id54_0001.mp4\n"
          ]
        },
        {
          "name": "stderr",
          "output_type": "stream",
          "text": [
            "\rProcessing videos in dataset/Celeb-real:   7%|▋         | 43/590 [00:14<02:38,  3.46it/s]"
          ]
        },
        {
          "name": "stdout",
          "output_type": "stream",
          "text": [
            "Extracted 20 frames from the first 10 seconds of dataset/Celeb-real/id19_0000.mp4\n"
          ]
        },
        {
          "name": "stderr",
          "output_type": "stream",
          "text": [
            "\rProcessing videos in dataset/Celeb-real:   7%|▋         | 44/590 [00:14<02:58,  3.05it/s]"
          ]
        },
        {
          "name": "stdout",
          "output_type": "stream",
          "text": [
            "Extracted 20 frames from the first 10 seconds of dataset/Celeb-real/id34_0002.mp4\n"
          ]
        },
        {
          "name": "stderr",
          "output_type": "stream",
          "text": [
            "\rProcessing videos in dataset/Celeb-real:   8%|▊         | 45/590 [00:15<02:51,  3.18it/s]"
          ]
        },
        {
          "name": "stdout",
          "output_type": "stream",
          "text": [
            "Extracted 20 frames from the first 10 seconds of dataset/Celeb-real/id10_0000.mp4\n"
          ]
        },
        {
          "name": "stderr",
          "output_type": "stream",
          "text": [
            "\rProcessing videos in dataset/Celeb-real:   8%|▊         | 46/590 [00:15<03:15,  2.78it/s]"
          ]
        },
        {
          "name": "stdout",
          "output_type": "stream",
          "text": [
            "Extracted 20 frames from the first 10 seconds of dataset/Celeb-real/id29_0000.mp4\n"
          ]
        },
        {
          "name": "stderr",
          "output_type": "stream",
          "text": [
            "Processing videos in dataset/Celeb-real:   8%|▊         | 48/590 [00:16<02:49,  3.20it/s]"
          ]
        },
        {
          "name": "stdout",
          "output_type": "stream",
          "text": [
            "Extracted 20 frames from the first 10 seconds of dataset/Celeb-real/id55_0007.mp4\n",
            "Extracted 20 frames from the first 10 seconds of dataset/Celeb-real/id24_0003.mp4\n"
          ]
        },
        {
          "name": "stderr",
          "output_type": "stream",
          "text": [
            "\rProcessing videos in dataset/Celeb-real:   8%|▊         | 49/590 [00:16<03:32,  2.54it/s]"
          ]
        },
        {
          "name": "stdout",
          "output_type": "stream",
          "text": [
            "Extracted 20 frames from the first 10 seconds of dataset/Celeb-real/id7_0003.mp4\n"
          ]
        },
        {
          "name": "stderr",
          "output_type": "stream",
          "text": [
            "\rProcessing videos in dataset/Celeb-real:   8%|▊         | 50/590 [00:17<03:45,  2.39it/s]"
          ]
        },
        {
          "name": "stdout",
          "output_type": "stream",
          "text": [
            "Extracted 20 frames from the first 10 seconds of dataset/Celeb-real/id20_0001.mp4\n"
          ]
        },
        {
          "name": "stderr",
          "output_type": "stream",
          "text": [
            "\rProcessing videos in dataset/Celeb-real:   9%|▊         | 51/590 [00:17<03:25,  2.63it/s]"
          ]
        },
        {
          "name": "stdout",
          "output_type": "stream",
          "text": [
            "Extracted 20 frames from the first 10 seconds of dataset/Celeb-real/id10_0001.mp4\n"
          ]
        },
        {
          "name": "stderr",
          "output_type": "stream",
          "text": [
            "\rProcessing videos in dataset/Celeb-real:   9%|▉         | 52/590 [00:17<03:17,  2.72it/s]"
          ]
        },
        {
          "name": "stdout",
          "output_type": "stream",
          "text": [
            "Extracted 20 frames from the first 10 seconds of dataset/Celeb-real/id7_0006.mp4\n",
            "Extracted 1 frames from the first 10 seconds of dataset/Celeb-real/id27_0005.mp4\n"
          ]
        },
        {
          "name": "stderr",
          "output_type": "stream",
          "text": [
            "\rProcessing videos in dataset/Celeb-real:   9%|▉         | 54/590 [00:18<02:46,  3.22it/s]"
          ]
        },
        {
          "name": "stdout",
          "output_type": "stream",
          "text": [
            "Extracted 20 frames from the first 10 seconds of dataset/Celeb-real/id47_0009.mp4\n"
          ]
        },
        {
          "name": "stderr",
          "output_type": "stream",
          "text": [
            "\rProcessing videos in dataset/Celeb-real:   9%|▉         | 55/590 [00:18<02:39,  3.35it/s]"
          ]
        },
        {
          "name": "stdout",
          "output_type": "stream",
          "text": [
            "Extracted 20 frames from the first 10 seconds of dataset/Celeb-real/id39_0000.mp4\n"
          ]
        },
        {
          "name": "stderr",
          "output_type": "stream",
          "text": [
            "\rProcessing videos in dataset/Celeb-real:   9%|▉         | 56/590 [00:18<02:33,  3.47it/s]"
          ]
        },
        {
          "name": "stdout",
          "output_type": "stream",
          "text": [
            "Extracted 20 frames from the first 10 seconds of dataset/Celeb-real/id26_0000.mp4\n"
          ]
        },
        {
          "name": "stderr",
          "output_type": "stream",
          "text": [
            "Processing videos in dataset/Celeb-real:  10%|▉         | 58/590 [00:19<02:32,  3.50it/s]"
          ]
        },
        {
          "name": "stdout",
          "output_type": "stream",
          "text": [
            "Extracted 20 frames from the first 10 seconds of dataset/Celeb-real/id39_0002.mp4\n",
            "Extracted 20 frames from the first 10 seconds of dataset/Celeb-real/id17_0006.mp4\n"
          ]
        },
        {
          "name": "stderr",
          "output_type": "stream",
          "text": [
            "\rProcessing videos in dataset/Celeb-real:  10%|█         | 59/590 [00:19<02:21,  3.75it/s]"
          ]
        },
        {
          "name": "stdout",
          "output_type": "stream",
          "text": [
            "Extracted 20 frames from the first 10 seconds of dataset/Celeb-real/id54_0005.mp4\n"
          ]
        },
        {
          "name": "stderr",
          "output_type": "stream",
          "text": [
            "\rProcessing videos in dataset/Celeb-real:  10%|█         | 60/590 [00:19<02:13,  3.96it/s]"
          ]
        },
        {
          "name": "stdout",
          "output_type": "stream",
          "text": [
            "Extracted 20 frames from the first 10 seconds of dataset/Celeb-real/id20_0008.mp4\n"
          ]
        },
        {
          "name": "stderr",
          "output_type": "stream",
          "text": [
            "\rProcessing videos in dataset/Celeb-real:  10%|█         | 61/590 [00:20<02:14,  3.93it/s]"
          ]
        },
        {
          "name": "stdout",
          "output_type": "stream",
          "text": [
            "Extracted 20 frames from the first 10 seconds of dataset/Celeb-real/id2_0007.mp4\n"
          ]
        },
        {
          "name": "stderr",
          "output_type": "stream",
          "text": [
            "\rProcessing videos in dataset/Celeb-real:  11%|█         | 62/590 [00:20<02:27,  3.59it/s]"
          ]
        },
        {
          "name": "stdout",
          "output_type": "stream",
          "text": [
            "Extracted 20 frames from the first 10 seconds of dataset/Celeb-real/id5_0001.mp4\n"
          ]
        },
        {
          "name": "stderr",
          "output_type": "stream",
          "text": [
            "\rProcessing videos in dataset/Celeb-real:  11%|█         | 63/590 [00:20<02:16,  3.86it/s]"
          ]
        },
        {
          "name": "stdout",
          "output_type": "stream",
          "text": [
            "Extracted 20 frames from the first 10 seconds of dataset/Celeb-real/id19_0005.mp4\n"
          ]
        },
        {
          "name": "stderr",
          "output_type": "stream",
          "text": [
            "\rProcessing videos in dataset/Celeb-real:  11%|█         | 64/590 [00:20<02:12,  3.96it/s]"
          ]
        },
        {
          "name": "stdout",
          "output_type": "stream",
          "text": [
            "Extracted 20 frames from the first 10 seconds of dataset/Celeb-real/id46_0008.mp4\n"
          ]
        },
        {
          "name": "stderr",
          "output_type": "stream",
          "text": [
            "Processing videos in dataset/Celeb-real:  11%|█         | 66/590 [00:21<02:04,  4.21it/s]"
          ]
        },
        {
          "name": "stdout",
          "output_type": "stream",
          "text": [
            "Extracted 20 frames from the first 10 seconds of dataset/Celeb-real/id46_0009.mp4\n",
            "Extracted 20 frames from the first 10 seconds of dataset/Celeb-real/id19_0004.mp4\n"
          ]
        },
        {
          "name": "stderr",
          "output_type": "stream",
          "text": [
            "\rProcessing videos in dataset/Celeb-real:  11%|█▏        | 67/590 [00:21<02:14,  3.89it/s]"
          ]
        },
        {
          "name": "stdout",
          "output_type": "stream",
          "text": [
            "Extracted 20 frames from the first 10 seconds of dataset/Celeb-real/id24_0001.mp4\n"
          ]
        },
        {
          "name": "stderr",
          "output_type": "stream",
          "text": [
            "\rProcessing videos in dataset/Celeb-real:  12%|█▏        | 68/590 [00:21<02:12,  3.94it/s]"
          ]
        },
        {
          "name": "stdout",
          "output_type": "stream",
          "text": [
            "Extracted 20 frames from the first 10 seconds of dataset/Celeb-real/id38_0003.mp4\n"
          ]
        },
        {
          "name": "stderr",
          "output_type": "stream",
          "text": [
            "\rProcessing videos in dataset/Celeb-real:  12%|█▏        | 69/590 [00:22<02:12,  3.93it/s]"
          ]
        },
        {
          "name": "stdout",
          "output_type": "stream",
          "text": [
            "Extracted 20 frames from the first 10 seconds of dataset/Celeb-real/id57_0006.mp4\n"
          ]
        },
        {
          "name": "stderr",
          "output_type": "stream",
          "text": [
            "\rProcessing videos in dataset/Celeb-real:  12%|█▏        | 70/590 [00:22<02:12,  3.92it/s]"
          ]
        },
        {
          "name": "stdout",
          "output_type": "stream",
          "text": [
            "Extracted 20 frames from the first 10 seconds of dataset/Celeb-real/id57_0003.mp4\n"
          ]
        },
        {
          "name": "stderr",
          "output_type": "stream",
          "text": [
            "\rProcessing videos in dataset/Celeb-real:  12%|█▏        | 71/590 [00:22<02:08,  4.03it/s]"
          ]
        },
        {
          "name": "stdout",
          "output_type": "stream",
          "text": [
            "Extracted 20 frames from the first 10 seconds of dataset/Celeb-real/id41_0009.mp4\n"
          ]
        },
        {
          "name": "stderr",
          "output_type": "stream",
          "text": [
            "\rProcessing videos in dataset/Celeb-real:  12%|█▏        | 72/590 [00:22<02:07,  4.05it/s]"
          ]
        },
        {
          "name": "stdout",
          "output_type": "stream",
          "text": [
            "Extracted 20 frames from the first 10 seconds of dataset/Celeb-real/id20_0006.mp4\n"
          ]
        },
        {
          "name": "stderr",
          "output_type": "stream",
          "text": [
            "\rProcessing videos in dataset/Celeb-real:  12%|█▏        | 73/590 [00:23<02:09,  3.99it/s]"
          ]
        },
        {
          "name": "stdout",
          "output_type": "stream",
          "text": [
            "Extracted 20 frames from the first 10 seconds of dataset/Celeb-real/id40_0005.mp4\n"
          ]
        },
        {
          "name": "stderr",
          "output_type": "stream",
          "text": [
            "\rProcessing videos in dataset/Celeb-real:  13%|█▎        | 74/590 [00:23<02:13,  3.85it/s]"
          ]
        },
        {
          "name": "stdout",
          "output_type": "stream",
          "text": [
            "Extracted 20 frames from the first 10 seconds of dataset/Celeb-real/id13_0007.mp4\n"
          ]
        },
        {
          "name": "stderr",
          "output_type": "stream",
          "text": [
            "\rProcessing videos in dataset/Celeb-real:  13%|█▎        | 75/590 [00:23<02:10,  3.93it/s]"
          ]
        },
        {
          "name": "stdout",
          "output_type": "stream",
          "text": [
            "Extracted 20 frames from the first 10 seconds of dataset/Celeb-real/id35_0003.mp4\n"
          ]
        },
        {
          "name": "stderr",
          "output_type": "stream",
          "text": [
            "\rProcessing videos in dataset/Celeb-real:  13%|█▎        | 76/590 [00:23<02:08,  4.01it/s]"
          ]
        },
        {
          "name": "stdout",
          "output_type": "stream",
          "text": [
            "Extracted 20 frames from the first 10 seconds of dataset/Celeb-real/id48_0005.mp4\n"
          ]
        },
        {
          "name": "stderr",
          "output_type": "stream",
          "text": [
            "\rProcessing videos in dataset/Celeb-real:  13%|█▎        | 77/590 [00:24<02:11,  3.89it/s]"
          ]
        },
        {
          "name": "stdout",
          "output_type": "stream",
          "text": [
            "Extracted 20 frames from the first 10 seconds of dataset/Celeb-real/id30_0000.mp4\n"
          ]
        },
        {
          "name": "stderr",
          "output_type": "stream",
          "text": [
            "\rProcessing videos in dataset/Celeb-real:  13%|█▎        | 78/590 [00:24<02:13,  3.83it/s]"
          ]
        },
        {
          "name": "stdout",
          "output_type": "stream",
          "text": [
            "Extracted 20 frames from the first 10 seconds of dataset/Celeb-real/id49_0003.mp4\n"
          ]
        },
        {
          "name": "stderr",
          "output_type": "stream",
          "text": [
            "\rProcessing videos in dataset/Celeb-real:  13%|█▎        | 79/590 [00:24<02:09,  3.93it/s]"
          ]
        },
        {
          "name": "stdout",
          "output_type": "stream",
          "text": [
            "Extracted 20 frames from the first 10 seconds of dataset/Celeb-real/id53_0005.mp4\n"
          ]
        },
        {
          "name": "stderr",
          "output_type": "stream",
          "text": [
            "\rProcessing videos in dataset/Celeb-real:  14%|█▎        | 80/590 [00:24<02:08,  3.98it/s]"
          ]
        },
        {
          "name": "stdout",
          "output_type": "stream",
          "text": [
            "Extracted 20 frames from the first 10 seconds of dataset/Celeb-real/id50_0007.mp4\n"
          ]
        },
        {
          "name": "stderr",
          "output_type": "stream",
          "text": [
            "\rProcessing videos in dataset/Celeb-real:  14%|█▎        | 81/590 [00:25<02:07,  3.99it/s]"
          ]
        },
        {
          "name": "stdout",
          "output_type": "stream",
          "text": [
            "Extracted 20 frames from the first 10 seconds of dataset/Celeb-real/id58_0003.mp4\n"
          ]
        },
        {
          "name": "stderr",
          "output_type": "stream",
          "text": [
            "Processing videos in dataset/Celeb-real:  14%|█▍        | 83/590 [00:25<01:55,  4.37it/s]"
          ]
        },
        {
          "name": "stdout",
          "output_type": "stream",
          "text": [
            "Extracted 20 frames from the first 10 seconds of dataset/Celeb-real/id58_0007.mp4\n",
            "Extracted 20 frames from the first 10 seconds of dataset/Celeb-real/id27_0008.mp4\n"
          ]
        },
        {
          "name": "stderr",
          "output_type": "stream",
          "text": [
            "\rProcessing videos in dataset/Celeb-real:  14%|█▍        | 84/590 [00:25<02:04,  4.07it/s]"
          ]
        },
        {
          "name": "stdout",
          "output_type": "stream",
          "text": [
            "Extracted 20 frames from the first 10 seconds of dataset/Celeb-real/id8_0003.mp4\n"
          ]
        },
        {
          "name": "stderr",
          "output_type": "stream",
          "text": [
            "Processing videos in dataset/Celeb-real:  15%|█▍        | 86/590 [00:26<01:53,  4.43it/s]"
          ]
        },
        {
          "name": "stdout",
          "output_type": "stream",
          "text": [
            "Extracted 20 frames from the first 10 seconds of dataset/Celeb-real/id48_0003.mp4\n",
            "Extracted 20 frames from the first 10 seconds of dataset/Celeb-real/id1_0002.mp4\n"
          ]
        },
        {
          "name": "stderr",
          "output_type": "stream",
          "text": [
            "\rProcessing videos in dataset/Celeb-real:  15%|█▍        | 87/590 [00:26<01:58,  4.25it/s]"
          ]
        },
        {
          "name": "stdout",
          "output_type": "stream",
          "text": [
            "Extracted 20 frames from the first 10 seconds of dataset/Celeb-real/id27_0004.mp4\n"
          ]
        },
        {
          "name": "stderr",
          "output_type": "stream",
          "text": [
            "\rProcessing videos in dataset/Celeb-real:  15%|█▍        | 88/590 [00:26<01:59,  4.21it/s]"
          ]
        },
        {
          "name": "stdout",
          "output_type": "stream",
          "text": [
            "Extracted 20 frames from the first 10 seconds of dataset/Celeb-real/id28_0006.mp4\n"
          ]
        },
        {
          "name": "stderr",
          "output_type": "stream",
          "text": [
            "\rProcessing videos in dataset/Celeb-real:  15%|█▌        | 89/590 [00:27<02:06,  3.96it/s]"
          ]
        },
        {
          "name": "stdout",
          "output_type": "stream",
          "text": [
            "Extracted 20 frames from the first 10 seconds of dataset/Celeb-real/id4_0009.mp4\n"
          ]
        },
        {
          "name": "stderr",
          "output_type": "stream",
          "text": [
            "\rProcessing videos in dataset/Celeb-real:  15%|█▌        | 90/590 [00:27<02:06,  3.96it/s]"
          ]
        },
        {
          "name": "stdout",
          "output_type": "stream",
          "text": [
            "Extracted 20 frames from the first 10 seconds of dataset/Celeb-real/id34_0000.mp4\n"
          ]
        },
        {
          "name": "stderr",
          "output_type": "stream",
          "text": [
            "\rProcessing videos in dataset/Celeb-real:  15%|█▌        | 91/590 [00:27<02:05,  3.97it/s]"
          ]
        },
        {
          "name": "stdout",
          "output_type": "stream",
          "text": [
            "Extracted 20 frames from the first 10 seconds of dataset/Celeb-real/id38_0001.mp4\n"
          ]
        },
        {
          "name": "stderr",
          "output_type": "stream",
          "text": [
            "\rProcessing videos in dataset/Celeb-real:  16%|█▌        | 92/590 [00:27<02:04,  3.99it/s]"
          ]
        },
        {
          "name": "stdout",
          "output_type": "stream",
          "text": [
            "Extracted 20 frames from the first 10 seconds of dataset/Celeb-real/id61_0003.mp4\n"
          ]
        },
        {
          "name": "stderr",
          "output_type": "stream",
          "text": [
            "\rProcessing videos in dataset/Celeb-real:  16%|█▌        | 93/590 [00:28<02:07,  3.89it/s]"
          ]
        },
        {
          "name": "stdout",
          "output_type": "stream",
          "text": [
            "Extracted 20 frames from the first 10 seconds of dataset/Celeb-real/id51_0004.mp4\n"
          ]
        },
        {
          "name": "stderr",
          "output_type": "stream",
          "text": [
            "\rProcessing videos in dataset/Celeb-real:  16%|█▌        | 94/590 [00:28<02:17,  3.61it/s]"
          ]
        },
        {
          "name": "stdout",
          "output_type": "stream",
          "text": [
            "Extracted 20 frames from the first 10 seconds of dataset/Celeb-real/id53_0000.mp4\n"
          ]
        },
        {
          "name": "stderr",
          "output_type": "stream",
          "text": [
            "\rProcessing videos in dataset/Celeb-real:  16%|█▌        | 95/590 [00:28<02:21,  3.49it/s]"
          ]
        },
        {
          "name": "stdout",
          "output_type": "stream",
          "text": [
            "Extracted 20 frames from the first 10 seconds of dataset/Celeb-real/id47_0003.mp4\n"
          ]
        },
        {
          "name": "stderr",
          "output_type": "stream",
          "text": [
            "\rProcessing videos in dataset/Celeb-real:  16%|█▋        | 96/590 [00:29<02:26,  3.38it/s]"
          ]
        },
        {
          "name": "stdout",
          "output_type": "stream",
          "text": [
            "Extracted 20 frames from the first 10 seconds of dataset/Celeb-real/id25_0006.mp4\n"
          ]
        },
        {
          "name": "stderr",
          "output_type": "stream",
          "text": [
            "\rProcessing videos in dataset/Celeb-real:  16%|█▋        | 97/590 [00:29<02:33,  3.22it/s]"
          ]
        },
        {
          "name": "stdout",
          "output_type": "stream",
          "text": [
            "Extracted 20 frames from the first 10 seconds of dataset/Celeb-real/id19_0001.mp4\n"
          ]
        },
        {
          "name": "stderr",
          "output_type": "stream",
          "text": [
            "\rProcessing videos in dataset/Celeb-real:  17%|█▋        | 98/590 [00:29<02:43,  3.01it/s]"
          ]
        },
        {
          "name": "stdout",
          "output_type": "stream",
          "text": [
            "Extracted 20 frames from the first 10 seconds of dataset/Celeb-real/id20_0007.mp4\n"
          ]
        },
        {
          "name": "stderr",
          "output_type": "stream",
          "text": [
            "\rProcessing videos in dataset/Celeb-real:  17%|█▋        | 99/590 [00:30<02:55,  2.79it/s]"
          ]
        },
        {
          "name": "stdout",
          "output_type": "stream",
          "text": [
            "Extracted 20 frames from the first 10 seconds of dataset/Celeb-real/id38_0008.mp4\n"
          ]
        },
        {
          "name": "stderr",
          "output_type": "stream",
          "text": [
            "\rProcessing videos in dataset/Celeb-real:  17%|█▋        | 100/590 [00:30<02:42,  3.02it/s]"
          ]
        },
        {
          "name": "stdout",
          "output_type": "stream",
          "text": [
            "Extracted 20 frames from the first 10 seconds of dataset/Celeb-real/id17_0004.mp4\n"
          ]
        },
        {
          "name": "stderr",
          "output_type": "stream",
          "text": [
            "\rProcessing videos in dataset/Celeb-real:  17%|█▋        | 101/590 [00:30<02:54,  2.80it/s]"
          ]
        },
        {
          "name": "stdout",
          "output_type": "stream",
          "text": [
            "Extracted 20 frames from the first 10 seconds of dataset/Celeb-real/id19_0008.mp4\n"
          ]
        },
        {
          "name": "stderr",
          "output_type": "stream",
          "text": [
            "\rProcessing videos in dataset/Celeb-real:  17%|█▋        | 102/590 [00:31<03:10,  2.57it/s]"
          ]
        },
        {
          "name": "stdout",
          "output_type": "stream",
          "text": [
            "Extracted 20 frames from the first 10 seconds of dataset/Celeb-real/id6_0000.mp4\n"
          ]
        },
        {
          "name": "stderr",
          "output_type": "stream",
          "text": [
            "\rProcessing videos in dataset/Celeb-real:  17%|█▋        | 103/590 [00:31<03:20,  2.43it/s]"
          ]
        },
        {
          "name": "stdout",
          "output_type": "stream",
          "text": [
            "Extracted 20 frames from the first 10 seconds of dataset/Celeb-real/id32_0002.mp4\n"
          ]
        },
        {
          "name": "stderr",
          "output_type": "stream",
          "text": [
            "\rProcessing videos in dataset/Celeb-real:  18%|█▊        | 104/590 [00:32<03:22,  2.40it/s]"
          ]
        },
        {
          "name": "stdout",
          "output_type": "stream",
          "text": [
            "Extracted 20 frames from the first 10 seconds of dataset/Celeb-real/id17_0009.mp4\n"
          ]
        },
        {
          "name": "stderr",
          "output_type": "stream",
          "text": [
            "\rProcessing videos in dataset/Celeb-real:  18%|█▊        | 105/590 [00:32<03:27,  2.33it/s]"
          ]
        },
        {
          "name": "stdout",
          "output_type": "stream",
          "text": [
            "Extracted 20 frames from the first 10 seconds of dataset/Celeb-real/id51_0003.mp4\n"
          ]
        },
        {
          "name": "stderr",
          "output_type": "stream",
          "text": [
            "\rProcessing videos in dataset/Celeb-real:  18%|█▊        | 106/590 [00:33<03:32,  2.28it/s]"
          ]
        },
        {
          "name": "stdout",
          "output_type": "stream",
          "text": [
            "Extracted 20 frames from the first 10 seconds of dataset/Celeb-real/id6_0004.mp4\n"
          ]
        },
        {
          "name": "stderr",
          "output_type": "stream",
          "text": [
            "\rProcessing videos in dataset/Celeb-real:  18%|█▊        | 107/590 [00:33<03:09,  2.55it/s]"
          ]
        },
        {
          "name": "stdout",
          "output_type": "stream",
          "text": [
            "Extracted 20 frames from the first 10 seconds of dataset/Celeb-real/id12_0002.mp4\n"
          ]
        },
        {
          "name": "stderr",
          "output_type": "stream",
          "text": [
            "\rProcessing videos in dataset/Celeb-real:  18%|█▊        | 108/590 [00:33<02:46,  2.89it/s]"
          ]
        },
        {
          "name": "stdout",
          "output_type": "stream",
          "text": [
            "Extracted 20 frames from the first 10 seconds of dataset/Celeb-real/id24_0009.mp4\n"
          ]
        },
        {
          "name": "stderr",
          "output_type": "stream",
          "text": [
            "\rProcessing videos in dataset/Celeb-real:  18%|█▊        | 109/590 [00:34<02:40,  3.01it/s]"
          ]
        },
        {
          "name": "stdout",
          "output_type": "stream",
          "text": [
            "Extracted 20 frames from the first 10 seconds of dataset/Celeb-real/id10_0003.mp4\n"
          ]
        },
        {
          "name": "stderr",
          "output_type": "stream",
          "text": [
            "\rProcessing videos in dataset/Celeb-real:  19%|█▊        | 110/590 [00:34<02:31,  3.17it/s]"
          ]
        },
        {
          "name": "stdout",
          "output_type": "stream",
          "text": [
            "Extracted 20 frames from the first 10 seconds of dataset/Celeb-real/id11_0010.mp4\n"
          ]
        },
        {
          "name": "stderr",
          "output_type": "stream",
          "text": [
            "\rProcessing videos in dataset/Celeb-real:  19%|█▉        | 111/590 [00:34<02:23,  3.33it/s]"
          ]
        },
        {
          "name": "stdout",
          "output_type": "stream",
          "text": [
            "Extracted 20 frames from the first 10 seconds of dataset/Celeb-real/id55_0003.mp4\n"
          ]
        },
        {
          "name": "stderr",
          "output_type": "stream",
          "text": [
            "\rProcessing videos in dataset/Celeb-real:  19%|█▉        | 112/590 [00:34<02:28,  3.21it/s]"
          ]
        },
        {
          "name": "stdout",
          "output_type": "stream",
          "text": [
            "Extracted 20 frames from the first 10 seconds of dataset/Celeb-real/id0_0008.mp4\n"
          ]
        },
        {
          "name": "stderr",
          "output_type": "stream",
          "text": [
            "\rProcessing videos in dataset/Celeb-real:  19%|█▉        | 113/590 [00:35<02:20,  3.40it/s]"
          ]
        },
        {
          "name": "stdout",
          "output_type": "stream",
          "text": [
            "Extracted 20 frames from the first 10 seconds of dataset/Celeb-real/id57_0007.mp4\n"
          ]
        },
        {
          "name": "stderr",
          "output_type": "stream",
          "text": [
            "\rProcessing videos in dataset/Celeb-real:  19%|█▉        | 114/590 [00:35<02:14,  3.54it/s]"
          ]
        },
        {
          "name": "stdout",
          "output_type": "stream",
          "text": [
            "Extracted 20 frames from the first 10 seconds of dataset/Celeb-real/id32_0008.mp4\n"
          ]
        },
        {
          "name": "stderr",
          "output_type": "stream",
          "text": [
            "Processing videos in dataset/Celeb-real:  20%|█▉        | 116/590 [00:35<01:56,  4.08it/s]"
          ]
        },
        {
          "name": "stdout",
          "output_type": "stream",
          "text": [
            "Extracted 20 frames from the first 10 seconds of dataset/Celeb-real/id5_0007.mp4\n",
            "Extracted 20 frames from the first 10 seconds of dataset/Celeb-real/id22_0000.mp4\n"
          ]
        },
        {
          "name": "stderr",
          "output_type": "stream",
          "text": [
            "\rProcessing videos in dataset/Celeb-real:  20%|█▉        | 117/590 [00:36<02:28,  3.18it/s]"
          ]
        },
        {
          "name": "stdout",
          "output_type": "stream",
          "text": [
            "Extracted 20 frames from the first 10 seconds of dataset/Celeb-real/id12_0006.mp4\n"
          ]
        },
        {
          "name": "stderr",
          "output_type": "stream",
          "text": [
            "\rProcessing videos in dataset/Celeb-real:  20%|██        | 118/590 [00:36<02:20,  3.35it/s]"
          ]
        },
        {
          "name": "stdout",
          "output_type": "stream",
          "text": [
            "Extracted 20 frames from the first 10 seconds of dataset/Celeb-real/id59_0006.mp4\n"
          ]
        },
        {
          "name": "stderr",
          "output_type": "stream",
          "text": [
            "\rProcessing videos in dataset/Celeb-real:  20%|██        | 119/590 [00:36<02:13,  3.53it/s]"
          ]
        },
        {
          "name": "stdout",
          "output_type": "stream",
          "text": [
            "Extracted 20 frames from the first 10 seconds of dataset/Celeb-real/id48_0009.mp4\n"
          ]
        },
        {
          "name": "stderr",
          "output_type": "stream",
          "text": [
            "\rProcessing videos in dataset/Celeb-real:  20%|██        | 120/590 [00:37<02:12,  3.54it/s]"
          ]
        },
        {
          "name": "stdout",
          "output_type": "stream",
          "text": [
            "Extracted 20 frames from the first 10 seconds of dataset/Celeb-real/id60_0005.mp4\n"
          ]
        },
        {
          "name": "stderr",
          "output_type": "stream",
          "text": [
            "Processing videos in dataset/Celeb-real:  21%|██        | 122/590 [00:37<02:00,  3.88it/s]"
          ]
        },
        {
          "name": "stdout",
          "output_type": "stream",
          "text": [
            "Extracted 20 frames from the first 10 seconds of dataset/Celeb-real/id13_0006.mp4\n",
            "Extracted 20 frames from the first 10 seconds of dataset/Celeb-real/id1_0000.mp4\n"
          ]
        },
        {
          "name": "stderr",
          "output_type": "stream",
          "text": [
            "\rProcessing videos in dataset/Celeb-real:  21%|██        | 123/590 [00:37<02:01,  3.84it/s]"
          ]
        },
        {
          "name": "stdout",
          "output_type": "stream",
          "text": [
            "Extracted 20 frames from the first 10 seconds of dataset/Celeb-real/id41_0002.mp4\n"
          ]
        },
        {
          "name": "stderr",
          "output_type": "stream",
          "text": [
            "\rProcessing videos in dataset/Celeb-real:  21%|██        | 124/590 [00:38<02:02,  3.82it/s]"
          ]
        },
        {
          "name": "stdout",
          "output_type": "stream",
          "text": [
            "Extracted 20 frames from the first 10 seconds of dataset/Celeb-real/id45_0003.mp4\n"
          ]
        },
        {
          "name": "stderr",
          "output_type": "stream",
          "text": [
            "\rProcessing videos in dataset/Celeb-real:  21%|██        | 125/590 [00:38<02:02,  3.81it/s]"
          ]
        },
        {
          "name": "stdout",
          "output_type": "stream",
          "text": [
            "Extracted 20 frames from the first 10 seconds of dataset/Celeb-real/id22_0003.mp4\n"
          ]
        },
        {
          "name": "stderr",
          "output_type": "stream",
          "text": [
            "\rProcessing videos in dataset/Celeb-real:  21%|██▏       | 126/590 [00:38<02:02,  3.78it/s]"
          ]
        },
        {
          "name": "stdout",
          "output_type": "stream",
          "text": [
            "Extracted 20 frames from the first 10 seconds of dataset/Celeb-real/id3_0005.mp4\n"
          ]
        },
        {
          "name": "stderr",
          "output_type": "stream",
          "text": [
            "\rProcessing videos in dataset/Celeb-real:  22%|██▏       | 127/590 [00:38<02:01,  3.80it/s]"
          ]
        },
        {
          "name": "stdout",
          "output_type": "stream",
          "text": [
            "Extracted 20 frames from the first 10 seconds of dataset/Celeb-real/id54_0004.mp4\n"
          ]
        },
        {
          "name": "stderr",
          "output_type": "stream",
          "text": [
            "Processing videos in dataset/Celeb-real:  22%|██▏       | 129/590 [00:39<01:49,  4.22it/s]"
          ]
        },
        {
          "name": "stdout",
          "output_type": "stream",
          "text": [
            "Extracted 20 frames from the first 10 seconds of dataset/Celeb-real/id48_0004.mp4\n",
            "Extracted 20 frames from the first 10 seconds of dataset/Celeb-real/id48_0008.mp4\n"
          ]
        },
        {
          "name": "stderr",
          "output_type": "stream",
          "text": [
            "\rProcessing videos in dataset/Celeb-real:  22%|██▏       | 130/590 [00:39<01:50,  4.16it/s]"
          ]
        },
        {
          "name": "stdout",
          "output_type": "stream",
          "text": [
            "Extracted 20 frames from the first 10 seconds of dataset/Celeb-real/id22_0008.mp4\n"
          ]
        },
        {
          "name": "stderr",
          "output_type": "stream",
          "text": [
            "\rProcessing videos in dataset/Celeb-real:  22%|██▏       | 131/590 [00:39<01:56,  3.95it/s]"
          ]
        },
        {
          "name": "stdout",
          "output_type": "stream",
          "text": [
            "Extracted 20 frames from the first 10 seconds of dataset/Celeb-real/id13_0015.mp4\n"
          ]
        },
        {
          "name": "stderr",
          "output_type": "stream",
          "text": [
            "\rProcessing videos in dataset/Celeb-real:  22%|██▏       | 132/590 [00:40<02:00,  3.81it/s]"
          ]
        },
        {
          "name": "stdout",
          "output_type": "stream",
          "text": [
            "Extracted 20 frames from the first 10 seconds of dataset/Celeb-real/id50_0004.mp4\n"
          ]
        },
        {
          "name": "stderr",
          "output_type": "stream",
          "text": [
            "\rProcessing videos in dataset/Celeb-real:  23%|██▎       | 133/590 [00:40<01:59,  3.82it/s]"
          ]
        },
        {
          "name": "stdout",
          "output_type": "stream",
          "text": [
            "Extracted 20 frames from the first 10 seconds of dataset/Celeb-real/id46_0007.mp4\n"
          ]
        },
        {
          "name": "stderr",
          "output_type": "stream",
          "text": [
            "\rProcessing videos in dataset/Celeb-real:  23%|██▎       | 134/590 [00:40<01:54,  3.97it/s]"
          ]
        },
        {
          "name": "stdout",
          "output_type": "stream",
          "text": [
            "Extracted 20 frames from the first 10 seconds of dataset/Celeb-real/id46_0000.mp4\n"
          ]
        },
        {
          "name": "stderr",
          "output_type": "stream",
          "text": [
            "\rProcessing videos in dataset/Celeb-real:  23%|██▎       | 135/590 [00:40<01:56,  3.89it/s]"
          ]
        },
        {
          "name": "stdout",
          "output_type": "stream",
          "text": [
            "Extracted 20 frames from the first 10 seconds of dataset/Celeb-real/id50_0008.mp4\n"
          ]
        },
        {
          "name": "stderr",
          "output_type": "stream",
          "text": [
            "\rProcessing videos in dataset/Celeb-real:  23%|██▎       | 136/590 [00:41<02:00,  3.77it/s]"
          ]
        },
        {
          "name": "stdout",
          "output_type": "stream",
          "text": [
            "Extracted 20 frames from the first 10 seconds of dataset/Celeb-real/id24_0007.mp4\n"
          ]
        },
        {
          "name": "stderr",
          "output_type": "stream",
          "text": [
            "\rProcessing videos in dataset/Celeb-real:  23%|██▎       | 137/590 [00:41<02:04,  3.63it/s]"
          ]
        },
        {
          "name": "stdout",
          "output_type": "stream",
          "text": [
            "Extracted 20 frames from the first 10 seconds of dataset/Celeb-real/id39_0004.mp4\n"
          ]
        },
        {
          "name": "stderr",
          "output_type": "stream",
          "text": [
            "\rProcessing videos in dataset/Celeb-real:  23%|██▎       | 138/590 [00:41<02:08,  3.52it/s]"
          ]
        },
        {
          "name": "stdout",
          "output_type": "stream",
          "text": [
            "Extracted 20 frames from the first 10 seconds of dataset/Celeb-real/id5_0004.mp4\n"
          ]
        },
        {
          "name": "stderr",
          "output_type": "stream",
          "text": [
            "\rProcessing videos in dataset/Celeb-real:  24%|██▎       | 139/590 [00:42<02:07,  3.55it/s]"
          ]
        },
        {
          "name": "stdout",
          "output_type": "stream",
          "text": [
            "Extracted 20 frames from the first 10 seconds of dataset/Celeb-real/id51_0007.mp4\n"
          ]
        },
        {
          "name": "stderr",
          "output_type": "stream",
          "text": [
            "\rProcessing videos in dataset/Celeb-real:  24%|██▎       | 140/590 [00:42<02:05,  3.59it/s]"
          ]
        },
        {
          "name": "stdout",
          "output_type": "stream",
          "text": [
            "Extracted 20 frames from the first 10 seconds of dataset/Celeb-real/id38_0004.mp4\n"
          ]
        },
        {
          "name": "stderr",
          "output_type": "stream",
          "text": [
            "\rProcessing videos in dataset/Celeb-real:  24%|██▍       | 141/590 [00:42<01:57,  3.83it/s]"
          ]
        },
        {
          "name": "stdout",
          "output_type": "stream",
          "text": [
            "Extracted 20 frames from the first 10 seconds of dataset/Celeb-real/id21_0001.mp4\n"
          ]
        },
        {
          "name": "stderr",
          "output_type": "stream",
          "text": [
            "\rProcessing videos in dataset/Celeb-real:  24%|██▍       | 142/590 [00:42<01:54,  3.93it/s]"
          ]
        },
        {
          "name": "stdout",
          "output_type": "stream",
          "text": [
            "Extracted 20 frames from the first 10 seconds of dataset/Celeb-real/id52_0007.mp4\n"
          ]
        },
        {
          "name": "stderr",
          "output_type": "stream",
          "text": [
            "\rProcessing videos in dataset/Celeb-real:  24%|██▍       | 143/590 [00:43<01:58,  3.77it/s]"
          ]
        },
        {
          "name": "stdout",
          "output_type": "stream",
          "text": [
            "Extracted 20 frames from the first 10 seconds of dataset/Celeb-real/id34_0001.mp4\n"
          ]
        },
        {
          "name": "stderr",
          "output_type": "stream",
          "text": [
            "\rProcessing videos in dataset/Celeb-real:  24%|██▍       | 144/590 [00:43<02:05,  3.54it/s]"
          ]
        },
        {
          "name": "stdout",
          "output_type": "stream",
          "text": [
            "Extracted 20 frames from the first 10 seconds of dataset/Celeb-real/id26_0003.mp4\n"
          ]
        },
        {
          "name": "stderr",
          "output_type": "stream",
          "text": [
            "\rProcessing videos in dataset/Celeb-real:  25%|██▍       | 145/590 [00:43<02:13,  3.32it/s]"
          ]
        },
        {
          "name": "stdout",
          "output_type": "stream",
          "text": [
            "Extracted 20 frames from the first 10 seconds of dataset/Celeb-real/id1_0005.mp4\n"
          ]
        },
        {
          "name": "stderr",
          "output_type": "stream",
          "text": [
            "\rProcessing videos in dataset/Celeb-real:  25%|██▍       | 146/590 [00:44<02:19,  3.19it/s]"
          ]
        },
        {
          "name": "stdout",
          "output_type": "stream",
          "text": [
            "Extracted 20 frames from the first 10 seconds of dataset/Celeb-real/id47_0005.mp4\n"
          ]
        },
        {
          "name": "stderr",
          "output_type": "stream",
          "text": [
            "\rProcessing videos in dataset/Celeb-real:  25%|██▍       | 147/590 [00:44<02:20,  3.14it/s]"
          ]
        },
        {
          "name": "stdout",
          "output_type": "stream",
          "text": [
            "Extracted 20 frames from the first 10 seconds of dataset/Celeb-real/id25_0000.mp4\n"
          ]
        },
        {
          "name": "stderr",
          "output_type": "stream",
          "text": [
            "\rProcessing videos in dataset/Celeb-real:  25%|██▌       | 148/590 [00:44<02:25,  3.05it/s]"
          ]
        },
        {
          "name": "stdout",
          "output_type": "stream",
          "text": [
            "Extracted 20 frames from the first 10 seconds of dataset/Celeb-real/id55_0006.mp4\n"
          ]
        },
        {
          "name": "stderr",
          "output_type": "stream",
          "text": [
            "\rProcessing videos in dataset/Celeb-real:  25%|██▌       | 149/590 [00:45<02:36,  2.82it/s]"
          ]
        },
        {
          "name": "stdout",
          "output_type": "stream",
          "text": [
            "Extracted 20 frames from the first 10 seconds of dataset/Celeb-real/id57_0002.mp4\n"
          ]
        },
        {
          "name": "stderr",
          "output_type": "stream",
          "text": [
            "\rProcessing videos in dataset/Celeb-real:  25%|██▌       | 150/590 [00:45<02:38,  2.77it/s]"
          ]
        },
        {
          "name": "stdout",
          "output_type": "stream",
          "text": [
            "Extracted 20 frames from the first 10 seconds of dataset/Celeb-real/id43_0009.mp4\n"
          ]
        },
        {
          "name": "stderr",
          "output_type": "stream",
          "text": [
            "\rProcessing videos in dataset/Celeb-real:  26%|██▌       | 151/590 [00:46<02:46,  2.63it/s]"
          ]
        },
        {
          "name": "stdout",
          "output_type": "stream",
          "text": [
            "Extracted 20 frames from the first 10 seconds of dataset/Celeb-real/id36_0003.mp4\n"
          ]
        },
        {
          "name": "stderr",
          "output_type": "stream",
          "text": [
            "\rProcessing videos in dataset/Celeb-real:  26%|██▌       | 152/590 [00:46<02:53,  2.53it/s]"
          ]
        },
        {
          "name": "stdout",
          "output_type": "stream",
          "text": [
            "Extracted 20 frames from the first 10 seconds of dataset/Celeb-real/id44_0003.mp4\n"
          ]
        },
        {
          "name": "stderr",
          "output_type": "stream",
          "text": [
            "\rProcessing videos in dataset/Celeb-real:  26%|██▌       | 153/590 [00:46<02:57,  2.47it/s]"
          ]
        },
        {
          "name": "stdout",
          "output_type": "stream",
          "text": [
            "Extracted 20 frames from the first 10 seconds of dataset/Celeb-real/id57_0005.mp4\n"
          ]
        },
        {
          "name": "stderr",
          "output_type": "stream",
          "text": [
            "\rProcessing videos in dataset/Celeb-real:  26%|██▌       | 154/590 [00:47<02:45,  2.64it/s]"
          ]
        },
        {
          "name": "stdout",
          "output_type": "stream",
          "text": [
            "Extracted 20 frames from the first 10 seconds of dataset/Celeb-real/id49_0001.mp4\n"
          ]
        },
        {
          "name": "stderr",
          "output_type": "stream",
          "text": [
            "\rProcessing videos in dataset/Celeb-real:  26%|██▋       | 155/590 [00:47<02:34,  2.82it/s]"
          ]
        },
        {
          "name": "stdout",
          "output_type": "stream",
          "text": [
            "Extracted 20 frames from the first 10 seconds of dataset/Celeb-real/id52_0001.mp4\n"
          ]
        },
        {
          "name": "stderr",
          "output_type": "stream",
          "text": [
            "\rProcessing videos in dataset/Celeb-real:  26%|██▋       | 156/590 [00:47<02:27,  2.95it/s]"
          ]
        },
        {
          "name": "stdout",
          "output_type": "stream",
          "text": [
            "Extracted 20 frames from the first 10 seconds of dataset/Celeb-real/id9_0004.mp4\n"
          ]
        },
        {
          "name": "stderr",
          "output_type": "stream",
          "text": [
            "\rProcessing videos in dataset/Celeb-real:  27%|██▋       | 157/590 [00:48<02:22,  3.04it/s]"
          ]
        },
        {
          "name": "stdout",
          "output_type": "stream",
          "text": [
            "Extracted 20 frames from the first 10 seconds of dataset/Celeb-real/id5_0009.mp4\n"
          ]
        },
        {
          "name": "stderr",
          "output_type": "stream",
          "text": [
            "\rProcessing videos in dataset/Celeb-real:  27%|██▋       | 158/590 [00:48<02:12,  3.27it/s]"
          ]
        },
        {
          "name": "stdout",
          "output_type": "stream",
          "text": [
            "Extracted 20 frames from the first 10 seconds of dataset/Celeb-real/id27_0002.mp4\n"
          ]
        },
        {
          "name": "stderr",
          "output_type": "stream",
          "text": [
            "\rProcessing videos in dataset/Celeb-real:  27%|██▋       | 159/590 [00:48<02:07,  3.39it/s]"
          ]
        },
        {
          "name": "stdout",
          "output_type": "stream",
          "text": [
            "Extracted 20 frames from the first 10 seconds of dataset/Celeb-real/id35_0000.mp4\n"
          ]
        },
        {
          "name": "stderr",
          "output_type": "stream",
          "text": [
            "\rProcessing videos in dataset/Celeb-real:  27%|██▋       | 160/590 [00:48<02:00,  3.57it/s]"
          ]
        },
        {
          "name": "stdout",
          "output_type": "stream",
          "text": [
            "Extracted 20 frames from the first 10 seconds of dataset/Celeb-real/id39_0007.mp4\n"
          ]
        },
        {
          "name": "stderr",
          "output_type": "stream",
          "text": [
            "\rProcessing videos in dataset/Celeb-real:  27%|██▋       | 161/590 [00:49<01:56,  3.68it/s]"
          ]
        },
        {
          "name": "stdout",
          "output_type": "stream",
          "text": [
            "Extracted 20 frames from the first 10 seconds of dataset/Celeb-real/id17_0008.mp4\n"
          ]
        },
        {
          "name": "stderr",
          "output_type": "stream",
          "text": [
            "\rProcessing videos in dataset/Celeb-real:  27%|██▋       | 162/590 [00:49<01:55,  3.71it/s]"
          ]
        },
        {
          "name": "stdout",
          "output_type": "stream",
          "text": [
            "Extracted 20 frames from the first 10 seconds of dataset/Celeb-real/id54_0007.mp4\n"
          ]
        },
        {
          "name": "stderr",
          "output_type": "stream",
          "text": [
            "\rProcessing videos in dataset/Celeb-real:  28%|██▊       | 163/590 [00:49<01:59,  3.57it/s]"
          ]
        },
        {
          "name": "stdout",
          "output_type": "stream",
          "text": [
            "Extracted 20 frames from the first 10 seconds of dataset/Celeb-real/id4_0005.mp4\n"
          ]
        },
        {
          "name": "stderr",
          "output_type": "stream",
          "text": [
            "\rProcessing videos in dataset/Celeb-real:  28%|██▊       | 164/590 [00:49<01:54,  3.73it/s]"
          ]
        },
        {
          "name": "stdout",
          "output_type": "stream",
          "text": [
            "Extracted 20 frames from the first 10 seconds of dataset/Celeb-real/id60_0008.mp4\n"
          ]
        },
        {
          "name": "stderr",
          "output_type": "stream",
          "text": [
            "\rProcessing videos in dataset/Celeb-real:  28%|██▊       | 165/590 [00:50<01:54,  3.70it/s]"
          ]
        },
        {
          "name": "stdout",
          "output_type": "stream",
          "text": [
            "Extracted 20 frames from the first 10 seconds of dataset/Celeb-real/id4_0002.mp4\n"
          ]
        },
        {
          "name": "stderr",
          "output_type": "stream",
          "text": [
            "\rProcessing videos in dataset/Celeb-real:  28%|██▊       | 166/590 [00:50<02:00,  3.53it/s]"
          ]
        },
        {
          "name": "stdout",
          "output_type": "stream",
          "text": [
            "Extracted 20 frames from the first 10 seconds of dataset/Celeb-real/id12_0001.mp4\n"
          ]
        },
        {
          "name": "stderr",
          "output_type": "stream",
          "text": [
            "Processing videos in dataset/Celeb-real:  28%|██▊       | 168/590 [00:51<01:46,  3.96it/s]"
          ]
        },
        {
          "name": "stdout",
          "output_type": "stream",
          "text": [
            "Extracted 20 frames from the first 10 seconds of dataset/Celeb-real/id49_0008.mp4\n",
            "Extracted 20 frames from the first 10 seconds of dataset/Celeb-real/id27_0001.mp4\n"
          ]
        },
        {
          "name": "stderr",
          "output_type": "stream",
          "text": [
            "\rProcessing videos in dataset/Celeb-real:  29%|██▊       | 169/590 [00:51<01:45,  4.00it/s]"
          ]
        },
        {
          "name": "stdout",
          "output_type": "stream",
          "text": [
            "Extracted 20 frames from the first 10 seconds of dataset/Celeb-real/id56_0000.mp4\n"
          ]
        },
        {
          "name": "stderr",
          "output_type": "stream",
          "text": [
            "\rProcessing videos in dataset/Celeb-real:  29%|██▉       | 170/590 [00:51<01:47,  3.91it/s]"
          ]
        },
        {
          "name": "stdout",
          "output_type": "stream",
          "text": [
            "Extracted 20 frames from the first 10 seconds of dataset/Celeb-real/id54_0000.mp4\n"
          ]
        },
        {
          "name": "stderr",
          "output_type": "stream",
          "text": [
            "\rProcessing videos in dataset/Celeb-real:  29%|██▉       | 171/590 [00:51<01:58,  3.54it/s]"
          ]
        },
        {
          "name": "stdout",
          "output_type": "stream",
          "text": [
            "Extracted 20 frames from the first 10 seconds of dataset/Celeb-real/id58_0008.mp4\n"
          ]
        },
        {
          "name": "stderr",
          "output_type": "stream",
          "text": [
            "\rProcessing videos in dataset/Celeb-real:  29%|██▉       | 172/590 [00:52<02:13,  3.14it/s]"
          ]
        },
        {
          "name": "stdout",
          "output_type": "stream",
          "text": [
            "Extracted 20 frames from the first 10 seconds of dataset/Celeb-real/id13_0014.mp4\n"
          ]
        },
        {
          "name": "stderr",
          "output_type": "stream",
          "text": [
            "Processing videos in dataset/Celeb-real:  29%|██▉       | 174/590 [00:52<01:53,  3.65it/s]"
          ]
        },
        {
          "name": "stdout",
          "output_type": "stream",
          "text": [
            "Extracted 20 frames from the first 10 seconds of dataset/Celeb-real/id40_0003.mp4\n",
            "Extracted 20 frames from the first 10 seconds of dataset/Celeb-real/id32_0004.mp4\n"
          ]
        },
        {
          "name": "stderr",
          "output_type": "stream",
          "text": [
            "\rProcessing videos in dataset/Celeb-real:  30%|██▉       | 175/590 [00:53<01:52,  3.68it/s]"
          ]
        },
        {
          "name": "stdout",
          "output_type": "stream",
          "text": [
            "Extracted 20 frames from the first 10 seconds of dataset/Celeb-real/id31_0006.mp4\n"
          ]
        },
        {
          "name": "stderr",
          "output_type": "stream",
          "text": [
            "\rProcessing videos in dataset/Celeb-real:  30%|██▉       | 176/590 [00:53<02:02,  3.37it/s]"
          ]
        },
        {
          "name": "stdout",
          "output_type": "stream",
          "text": [
            "Extracted 20 frames from the first 10 seconds of dataset/Celeb-real/id5_0002.mp4\n"
          ]
        },
        {
          "name": "stderr",
          "output_type": "stream",
          "text": [
            "\rProcessing videos in dataset/Celeb-real:  30%|███       | 177/590 [00:53<02:00,  3.44it/s]"
          ]
        },
        {
          "name": "stdout",
          "output_type": "stream",
          "text": [
            "Extracted 20 frames from the first 10 seconds of dataset/Celeb-real/id35_0007.mp4\n"
          ]
        },
        {
          "name": "stderr",
          "output_type": "stream",
          "text": [
            "\rProcessing videos in dataset/Celeb-real:  30%|███       | 178/590 [00:53<02:02,  3.35it/s]"
          ]
        },
        {
          "name": "stdout",
          "output_type": "stream",
          "text": [
            "Extracted 20 frames from the first 10 seconds of dataset/Celeb-real/id0_0007.mp4\n"
          ]
        },
        {
          "name": "stderr",
          "output_type": "stream",
          "text": [
            "\rProcessing videos in dataset/Celeb-real:  30%|███       | 179/590 [00:54<01:59,  3.45it/s]"
          ]
        },
        {
          "name": "stdout",
          "output_type": "stream",
          "text": [
            "Extracted 20 frames from the first 10 seconds of dataset/Celeb-real/id51_0002.mp4\n"
          ]
        },
        {
          "name": "stderr",
          "output_type": "stream",
          "text": [
            "\rProcessing videos in dataset/Celeb-real:  31%|███       | 180/590 [00:54<01:56,  3.53it/s]"
          ]
        },
        {
          "name": "stdout",
          "output_type": "stream",
          "text": [
            "Extracted 20 frames from the first 10 seconds of dataset/Celeb-real/id58_0002.mp4\n"
          ]
        },
        {
          "name": "stderr",
          "output_type": "stream",
          "text": [
            "\rProcessing videos in dataset/Celeb-real:  31%|███       | 181/590 [00:54<01:56,  3.51it/s]"
          ]
        },
        {
          "name": "stdout",
          "output_type": "stream",
          "text": [
            "Extracted 20 frames from the first 10 seconds of dataset/Celeb-real/id60_0000.mp4\n"
          ]
        },
        {
          "name": "stderr",
          "output_type": "stream",
          "text": [
            "\rProcessing videos in dataset/Celeb-real:  31%|███       | 182/590 [00:55<01:52,  3.61it/s]"
          ]
        },
        {
          "name": "stdout",
          "output_type": "stream",
          "text": [
            "Extracted 20 frames from the first 10 seconds of dataset/Celeb-real/id32_0005.mp4\n"
          ]
        },
        {
          "name": "stderr",
          "output_type": "stream",
          "text": [
            "\rProcessing videos in dataset/Celeb-real:  31%|███       | 183/590 [00:55<01:53,  3.58it/s]"
          ]
        },
        {
          "name": "stdout",
          "output_type": "stream",
          "text": [
            "Extracted 20 frames from the first 10 seconds of dataset/Celeb-real/id31_0004.mp4\n"
          ]
        },
        {
          "name": "stderr",
          "output_type": "stream",
          "text": [
            "\rProcessing videos in dataset/Celeb-real:  31%|███       | 184/590 [00:55<01:50,  3.69it/s]"
          ]
        },
        {
          "name": "stdout",
          "output_type": "stream",
          "text": [
            "Extracted 20 frames from the first 10 seconds of dataset/Celeb-real/id59_0002.mp4\n"
          ]
        },
        {
          "name": "stderr",
          "output_type": "stream",
          "text": [
            "\rProcessing videos in dataset/Celeb-real:  31%|███▏      | 185/590 [00:55<01:55,  3.51it/s]"
          ]
        },
        {
          "name": "stdout",
          "output_type": "stream",
          "text": [
            "Extracted 20 frames from the first 10 seconds of dataset/Celeb-real/id6_0001.mp4\n"
          ]
        },
        {
          "name": "stderr",
          "output_type": "stream",
          "text": [
            "\rProcessing videos in dataset/Celeb-real:  32%|███▏      | 186/590 [00:56<01:56,  3.46it/s]"
          ]
        },
        {
          "name": "stdout",
          "output_type": "stream",
          "text": [
            "Extracted 20 frames from the first 10 seconds of dataset/Celeb-real/id6_0007.mp4\n"
          ]
        },
        {
          "name": "stderr",
          "output_type": "stream",
          "text": [
            "\rProcessing videos in dataset/Celeb-real:  32%|███▏      | 187/590 [00:56<01:52,  3.57it/s]"
          ]
        },
        {
          "name": "stdout",
          "output_type": "stream",
          "text": [
            "Extracted 20 frames from the first 10 seconds of dataset/Celeb-real/id33_0006.mp4\n"
          ]
        },
        {
          "name": "stderr",
          "output_type": "stream",
          "text": [
            "\rProcessing videos in dataset/Celeb-real:  32%|███▏      | 188/590 [00:56<01:48,  3.69it/s]"
          ]
        },
        {
          "name": "stdout",
          "output_type": "stream",
          "text": [
            "Extracted 20 frames from the first 10 seconds of dataset/Celeb-real/id40_0007.mp4\n"
          ]
        },
        {
          "name": "stderr",
          "output_type": "stream",
          "text": [
            "\rProcessing videos in dataset/Celeb-real:  32%|███▏      | 189/590 [00:57<01:50,  3.62it/s]"
          ]
        },
        {
          "name": "stdout",
          "output_type": "stream",
          "text": [
            "Extracted 20 frames from the first 10 seconds of dataset/Celeb-real/id36_0009.mp4\n"
          ]
        },
        {
          "name": "stderr",
          "output_type": "stream",
          "text": [
            "\rProcessing videos in dataset/Celeb-real:  32%|███▏      | 190/590 [00:57<02:00,  3.33it/s]"
          ]
        },
        {
          "name": "stdout",
          "output_type": "stream",
          "text": [
            "Extracted 20 frames from the first 10 seconds of dataset/Celeb-real/id46_0001.mp4\n"
          ]
        },
        {
          "name": "stderr",
          "output_type": "stream",
          "text": [
            "\rProcessing videos in dataset/Celeb-real:  32%|███▏      | 191/590 [00:57<02:14,  2.97it/s]"
          ]
        },
        {
          "name": "stdout",
          "output_type": "stream",
          "text": [
            "Extracted 20 frames from the first 10 seconds of dataset/Celeb-real/id52_0000.mp4\n"
          ]
        },
        {
          "name": "stderr",
          "output_type": "stream",
          "text": [
            "\rProcessing videos in dataset/Celeb-real:  33%|███▎      | 192/590 [00:58<02:27,  2.70it/s]"
          ]
        },
        {
          "name": "stdout",
          "output_type": "stream",
          "text": [
            "Extracted 20 frames from the first 10 seconds of dataset/Celeb-real/id56_0002.mp4\n"
          ]
        },
        {
          "name": "stderr",
          "output_type": "stream",
          "text": [
            "\rProcessing videos in dataset/Celeb-real:  33%|███▎      | 193/590 [00:58<02:28,  2.67it/s]"
          ]
        },
        {
          "name": "stdout",
          "output_type": "stream",
          "text": [
            "Extracted 20 frames from the first 10 seconds of dataset/Celeb-real/id32_0009.mp4\n"
          ]
        },
        {
          "name": "stderr",
          "output_type": "stream",
          "text": [
            "\rProcessing videos in dataset/Celeb-real:  33%|███▎      | 194/590 [00:59<02:37,  2.51it/s]"
          ]
        },
        {
          "name": "stdout",
          "output_type": "stream",
          "text": [
            "Extracted 20 frames from the first 10 seconds of dataset/Celeb-real/id11_0007.mp4\n"
          ]
        },
        {
          "name": "stderr",
          "output_type": "stream",
          "text": [
            "\rProcessing videos in dataset/Celeb-real:  33%|███▎      | 195/590 [00:59<02:27,  2.68it/s]"
          ]
        },
        {
          "name": "stdout",
          "output_type": "stream",
          "text": [
            "Extracted 20 frames from the first 10 seconds of dataset/Celeb-real/id3_0002.mp4\n"
          ]
        },
        {
          "name": "stderr",
          "output_type": "stream",
          "text": [
            "\rProcessing videos in dataset/Celeb-real:  33%|███▎      | 196/590 [00:59<02:08,  3.07it/s]"
          ]
        },
        {
          "name": "stdout",
          "output_type": "stream",
          "text": [
            "Extracted 20 frames from the first 10 seconds of dataset/Celeb-real/id27_0007.mp4\n"
          ]
        },
        {
          "name": "stderr",
          "output_type": "stream",
          "text": [
            "\rProcessing videos in dataset/Celeb-real:  33%|███▎      | 197/590 [01:00<02:18,  2.84it/s]"
          ]
        },
        {
          "name": "stdout",
          "output_type": "stream",
          "text": [
            "Extracted 20 frames from the first 10 seconds of dataset/Celeb-real/id27_0006.mp4\n"
          ]
        },
        {
          "name": "stderr",
          "output_type": "stream",
          "text": [
            "\rProcessing videos in dataset/Celeb-real:  34%|███▎      | 198/590 [01:00<03:10,  2.06it/s]"
          ]
        },
        {
          "name": "stdout",
          "output_type": "stream",
          "text": [
            "Extracted 20 frames from the first 10 seconds of dataset/Celeb-real/id51_0001.mp4\n"
          ]
        },
        {
          "name": "stderr",
          "output_type": "stream",
          "text": [
            "\rProcessing videos in dataset/Celeb-real:  34%|███▎      | 199/590 [01:01<03:19,  1.96it/s]"
          ]
        },
        {
          "name": "stdout",
          "output_type": "stream",
          "text": [
            "Extracted 20 frames from the first 10 seconds of dataset/Celeb-real/id48_0006.mp4\n"
          ]
        },
        {
          "name": "stderr",
          "output_type": "stream",
          "text": [
            "\rProcessing videos in dataset/Celeb-real:  34%|███▍      | 200/590 [01:01<03:27,  1.88it/s]"
          ]
        },
        {
          "name": "stdout",
          "output_type": "stream",
          "text": [
            "Extracted 20 frames from the first 10 seconds of dataset/Celeb-real/id34_0006.mp4\n"
          ]
        },
        {
          "name": "stderr",
          "output_type": "stream",
          "text": [
            "\rProcessing videos in dataset/Celeb-real:  34%|███▍      | 201/590 [01:02<03:15,  1.99it/s]"
          ]
        },
        {
          "name": "stdout",
          "output_type": "stream",
          "text": [
            "Extracted 20 frames from the first 10 seconds of dataset/Celeb-real/id3_0003.mp4\n"
          ]
        },
        {
          "name": "stderr",
          "output_type": "stream",
          "text": [
            "\rProcessing videos in dataset/Celeb-real:  34%|███▍      | 202/590 [01:02<03:20,  1.94it/s]"
          ]
        },
        {
          "name": "stdout",
          "output_type": "stream",
          "text": [
            "Extracted 20 frames from the first 10 seconds of dataset/Celeb-real/id49_0004.mp4\n"
          ]
        },
        {
          "name": "stderr",
          "output_type": "stream",
          "text": [
            "\rProcessing videos in dataset/Celeb-real:  34%|███▍      | 203/590 [01:03<03:18,  1.95it/s]"
          ]
        },
        {
          "name": "stdout",
          "output_type": "stream",
          "text": [
            "Extracted 20 frames from the first 10 seconds of dataset/Celeb-real/id1_0008.mp4\n"
          ]
        },
        {
          "name": "stderr",
          "output_type": "stream",
          "text": [
            "Processing videos in dataset/Celeb-real:  35%|███▍      | 205/590 [01:04<02:45,  2.33it/s]"
          ]
        },
        {
          "name": "stdout",
          "output_type": "stream",
          "text": [
            "Extracted 20 frames from the first 10 seconds of dataset/Celeb-real/id56_0008.mp4\n",
            "Extracted 20 frames from the first 10 seconds of dataset/Celeb-real/id26_0005.mp4\n"
          ]
        },
        {
          "name": "stderr",
          "output_type": "stream",
          "text": [
            "\rProcessing videos in dataset/Celeb-real:  35%|███▍      | 206/590 [01:04<02:21,  2.71it/s]"
          ]
        },
        {
          "name": "stdout",
          "output_type": "stream",
          "text": [
            "Extracted 20 frames from the first 10 seconds of dataset/Celeb-real/id21_0007.mp4\n"
          ]
        },
        {
          "name": "stderr",
          "output_type": "stream",
          "text": [
            "\rProcessing videos in dataset/Celeb-real:  35%|███▌      | 207/590 [01:04<02:06,  3.03it/s]"
          ]
        },
        {
          "name": "stdout",
          "output_type": "stream",
          "text": [
            "Extracted 20 frames from the first 10 seconds of dataset/Celeb-real/id41_0000.mp4\n"
          ]
        },
        {
          "name": "stderr",
          "output_type": "stream",
          "text": [
            "\rProcessing videos in dataset/Celeb-real:  35%|███▌      | 208/590 [01:04<02:03,  3.10it/s]"
          ]
        },
        {
          "name": "stdout",
          "output_type": "stream",
          "text": [
            "Extracted 20 frames from the first 10 seconds of dataset/Celeb-real/id10_0005.mp4\n"
          ]
        },
        {
          "name": "stderr",
          "output_type": "stream",
          "text": [
            "\rProcessing videos in dataset/Celeb-real:  35%|███▌      | 209/590 [01:05<02:01,  3.13it/s]"
          ]
        },
        {
          "name": "stdout",
          "output_type": "stream",
          "text": [
            "Extracted 20 frames from the first 10 seconds of dataset/Celeb-real/id11_0002.mp4\n"
          ]
        },
        {
          "name": "stderr",
          "output_type": "stream",
          "text": [
            "Processing videos in dataset/Celeb-real:  36%|███▌      | 211/590 [01:05<01:39,  3.82it/s]"
          ]
        },
        {
          "name": "stdout",
          "output_type": "stream",
          "text": [
            "Extracted 20 frames from the first 10 seconds of dataset/Celeb-real/id32_0007.mp4\n",
            "Extracted 20 frames from the first 10 seconds of dataset/Celeb-real/id21_0008.mp4\n"
          ]
        },
        {
          "name": "stderr",
          "output_type": "stream",
          "text": [
            "\rProcessing videos in dataset/Celeb-real:  36%|███▌      | 212/590 [01:05<01:38,  3.85it/s]"
          ]
        },
        {
          "name": "stdout",
          "output_type": "stream",
          "text": [
            "Extracted 20 frames from the first 10 seconds of dataset/Celeb-real/id55_0004.mp4\n"
          ]
        },
        {
          "name": "stderr",
          "output_type": "stream",
          "text": [
            "Processing videos in dataset/Celeb-real:  36%|███▋      | 214/590 [01:06<01:27,  4.29it/s]"
          ]
        },
        {
          "name": "stdout",
          "output_type": "stream",
          "text": [
            "Extracted 20 frames from the first 10 seconds of dataset/Celeb-real/id13_0010.mp4\n",
            "Extracted 20 frames from the first 10 seconds of dataset/Celeb-real/id24_0002.mp4\n"
          ]
        },
        {
          "name": "stderr",
          "output_type": "stream",
          "text": [
            "\rProcessing videos in dataset/Celeb-real:  36%|███▋      | 215/590 [01:06<01:16,  4.93it/s]"
          ]
        },
        {
          "name": "stdout",
          "output_type": "stream",
          "text": [
            "Extracted 20 frames from the first 10 seconds of dataset/Celeb-real/id10_0006.mp4\n"
          ]
        },
        {
          "name": "stderr",
          "output_type": "stream",
          "text": [
            "\rProcessing videos in dataset/Celeb-real:  37%|███▋      | 216/590 [01:06<01:20,  4.63it/s]"
          ]
        },
        {
          "name": "stdout",
          "output_type": "stream",
          "text": [
            "Extracted 20 frames from the first 10 seconds of dataset/Celeb-real/id56_0001.mp4\n"
          ]
        },
        {
          "name": "stderr",
          "output_type": "stream",
          "text": [
            "\rProcessing videos in dataset/Celeb-real:  37%|███▋      | 217/590 [01:07<01:25,  4.36it/s]"
          ]
        },
        {
          "name": "stdout",
          "output_type": "stream",
          "text": [
            "Extracted 20 frames from the first 10 seconds of dataset/Celeb-real/id59_0007.mp4\n"
          ]
        },
        {
          "name": "stderr",
          "output_type": "stream",
          "text": [
            "\rProcessing videos in dataset/Celeb-real:  37%|███▋      | 218/590 [01:07<01:43,  3.59it/s]"
          ]
        },
        {
          "name": "stdout",
          "output_type": "stream",
          "text": [
            "Extracted 20 frames from the first 10 seconds of dataset/Celeb-real/id5_0006.mp4\n"
          ]
        },
        {
          "name": "stderr",
          "output_type": "stream",
          "text": [
            "\rProcessing videos in dataset/Celeb-real:  37%|███▋      | 219/590 [01:07<01:41,  3.65it/s]"
          ]
        },
        {
          "name": "stdout",
          "output_type": "stream",
          "text": [
            "Extracted 20 frames from the first 10 seconds of dataset/Celeb-real/id23_0009.mp4\n"
          ]
        },
        {
          "name": "stderr",
          "output_type": "stream",
          "text": [
            "\rProcessing videos in dataset/Celeb-real:  37%|███▋      | 220/590 [01:07<01:38,  3.76it/s]"
          ]
        },
        {
          "name": "stdout",
          "output_type": "stream",
          "text": [
            "Extracted 20 frames from the first 10 seconds of dataset/Celeb-real/id51_0006.mp4\n"
          ]
        },
        {
          "name": "stderr",
          "output_type": "stream",
          "text": [
            "\rProcessing videos in dataset/Celeb-real:  37%|███▋      | 221/590 [01:08<01:38,  3.74it/s]"
          ]
        },
        {
          "name": "stdout",
          "output_type": "stream",
          "text": [
            "Extracted 20 frames from the first 10 seconds of dataset/Celeb-real/id24_0008.mp4\n"
          ]
        },
        {
          "name": "stderr",
          "output_type": "stream",
          "text": [
            "\rProcessing videos in dataset/Celeb-real:  38%|███▊      | 222/590 [01:08<01:36,  3.82it/s]"
          ]
        },
        {
          "name": "stdout",
          "output_type": "stream",
          "text": [
            "Extracted 20 frames from the first 10 seconds of dataset/Celeb-real/id50_0002.mp4\n"
          ]
        },
        {
          "name": "stderr",
          "output_type": "stream",
          "text": [
            "Processing videos in dataset/Celeb-real:  38%|███▊      | 224/590 [01:08<01:28,  4.16it/s]"
          ]
        },
        {
          "name": "stdout",
          "output_type": "stream",
          "text": [
            "Extracted 20 frames from the first 10 seconds of dataset/Celeb-real/id10_0007.mp4\n",
            "Extracted 20 frames from the first 10 seconds of dataset/Celeb-real/id21_0004.mp4\n"
          ]
        },
        {
          "name": "stderr",
          "output_type": "stream",
          "text": [
            "\rProcessing videos in dataset/Celeb-real:  38%|███▊      | 225/590 [01:09<01:16,  4.77it/s]"
          ]
        },
        {
          "name": "stdout",
          "output_type": "stream",
          "text": [
            "Extracted 20 frames from the first 10 seconds of dataset/Celeb-real/id23_0005.mp4\n"
          ]
        },
        {
          "name": "stderr",
          "output_type": "stream",
          "text": [
            "\rProcessing videos in dataset/Celeb-real:  38%|███▊      | 226/590 [01:09<01:42,  3.54it/s]"
          ]
        },
        {
          "name": "stdout",
          "output_type": "stream",
          "text": [
            "Extracted 20 frames from the first 10 seconds of dataset/Celeb-real/id6_0005.mp4\n"
          ]
        },
        {
          "name": "stderr",
          "output_type": "stream",
          "text": [
            "\rProcessing videos in dataset/Celeb-real:  38%|███▊      | 227/590 [01:09<01:48,  3.34it/s]"
          ]
        },
        {
          "name": "stdout",
          "output_type": "stream",
          "text": [
            "Extracted 20 frames from the first 10 seconds of dataset/Celeb-real/id43_0003.mp4\n"
          ]
        },
        {
          "name": "stderr",
          "output_type": "stream",
          "text": [
            "\rProcessing videos in dataset/Celeb-real:  39%|███▊      | 228/590 [01:10<01:57,  3.08it/s]"
          ]
        },
        {
          "name": "stdout",
          "output_type": "stream",
          "text": [
            "Extracted 20 frames from the first 10 seconds of dataset/Celeb-real/id6_0002.mp4\n"
          ]
        },
        {
          "name": "stderr",
          "output_type": "stream",
          "text": [
            "\rProcessing videos in dataset/Celeb-real:  39%|███▉      | 229/590 [01:10<01:54,  3.15it/s]"
          ]
        },
        {
          "name": "stdout",
          "output_type": "stream",
          "text": [
            "Extracted 20 frames from the first 10 seconds of dataset/Celeb-real/id12_0004.mp4\n"
          ]
        },
        {
          "name": "stderr",
          "output_type": "stream",
          "text": [
            "\rProcessing videos in dataset/Celeb-real:  39%|███▉      | 230/590 [01:10<01:52,  3.20it/s]"
          ]
        },
        {
          "name": "stdout",
          "output_type": "stream",
          "text": [
            "Extracted 20 frames from the first 10 seconds of dataset/Celeb-real/id16_0003.mp4\n"
          ]
        },
        {
          "name": "stderr",
          "output_type": "stream",
          "text": [
            "\rProcessing videos in dataset/Celeb-real:  39%|███▉      | 231/590 [01:11<01:48,  3.30it/s]"
          ]
        },
        {
          "name": "stdout",
          "output_type": "stream",
          "text": [
            "Extracted 20 frames from the first 10 seconds of dataset/Celeb-real/id16_0005.mp4\n"
          ]
        },
        {
          "name": "stderr",
          "output_type": "stream",
          "text": [
            "\rProcessing videos in dataset/Celeb-real:  39%|███▉      | 232/590 [01:11<02:08,  2.78it/s]"
          ]
        },
        {
          "name": "stdout",
          "output_type": "stream",
          "text": [
            "Extracted 20 frames from the first 10 seconds of dataset/Celeb-real/id32_0006.mp4\n"
          ]
        },
        {
          "name": "stderr",
          "output_type": "stream",
          "text": [
            "\rProcessing videos in dataset/Celeb-real:  39%|███▉      | 233/590 [01:12<02:11,  2.72it/s]"
          ]
        },
        {
          "name": "stdout",
          "output_type": "stream",
          "text": [
            "Extracted 20 frames from the first 10 seconds of dataset/Celeb-real/id56_0009.mp4\n"
          ]
        },
        {
          "name": "stderr",
          "output_type": "stream",
          "text": [
            "\rProcessing videos in dataset/Celeb-real:  40%|███▉      | 234/590 [01:12<02:04,  2.86it/s]"
          ]
        },
        {
          "name": "stdout",
          "output_type": "stream",
          "text": [
            "Extracted 20 frames from the first 10 seconds of dataset/Celeb-real/id2_0005.mp4\n"
          ]
        },
        {
          "name": "stderr",
          "output_type": "stream",
          "text": [
            "\rProcessing videos in dataset/Celeb-real:  40%|███▉      | 235/590 [01:12<02:10,  2.72it/s]"
          ]
        },
        {
          "name": "stdout",
          "output_type": "stream",
          "text": [
            "Extracted 20 frames from the first 10 seconds of dataset/Celeb-real/id21_0006.mp4\n"
          ]
        },
        {
          "name": "stderr",
          "output_type": "stream",
          "text": [
            "\rProcessing videos in dataset/Celeb-real:  40%|████      | 236/590 [01:13<02:24,  2.44it/s]"
          ]
        },
        {
          "name": "stdout",
          "output_type": "stream",
          "text": [
            "Extracted 20 frames from the first 10 seconds of dataset/Celeb-real/id0_0009.mp4\n"
          ]
        },
        {
          "name": "stderr",
          "output_type": "stream",
          "text": [
            "\rProcessing videos in dataset/Celeb-real:  40%|████      | 237/590 [01:13<02:20,  2.51it/s]"
          ]
        },
        {
          "name": "stdout",
          "output_type": "stream",
          "text": [
            "Extracted 20 frames from the first 10 seconds of dataset/Celeb-real/id40_0009.mp4\n"
          ]
        },
        {
          "name": "stderr",
          "output_type": "stream",
          "text": [
            "\rProcessing videos in dataset/Celeb-real:  40%|████      | 238/590 [01:14<02:23,  2.45it/s]"
          ]
        },
        {
          "name": "stdout",
          "output_type": "stream",
          "text": [
            "Extracted 20 frames from the first 10 seconds of dataset/Celeb-real/id61_0008.mp4\n"
          ]
        },
        {
          "name": "stderr",
          "output_type": "stream",
          "text": [
            "\rProcessing videos in dataset/Celeb-real:  41%|████      | 239/590 [01:14<02:10,  2.69it/s]"
          ]
        },
        {
          "name": "stdout",
          "output_type": "stream",
          "text": [
            "Extracted 20 frames from the first 10 seconds of dataset/Celeb-real/id1_0006.mp4\n"
          ]
        },
        {
          "name": "stderr",
          "output_type": "stream",
          "text": [
            "\rProcessing videos in dataset/Celeb-real:  41%|████      | 240/590 [01:14<02:04,  2.82it/s]"
          ]
        },
        {
          "name": "stdout",
          "output_type": "stream",
          "text": [
            "Extracted 20 frames from the first 10 seconds of dataset/Celeb-real/id35_0008.mp4\n"
          ]
        },
        {
          "name": "stderr",
          "output_type": "stream",
          "text": [
            "\rProcessing videos in dataset/Celeb-real:  41%|████      | 241/590 [01:15<02:18,  2.51it/s]"
          ]
        },
        {
          "name": "stdout",
          "output_type": "stream",
          "text": [
            "Extracted 20 frames from the first 10 seconds of dataset/Celeb-real/id28_0001.mp4\n"
          ]
        },
        {
          "name": "stderr",
          "output_type": "stream",
          "text": [
            "\rProcessing videos in dataset/Celeb-real:  41%|████      | 242/590 [01:15<02:08,  2.71it/s]"
          ]
        },
        {
          "name": "stdout",
          "output_type": "stream",
          "text": [
            "Extracted 20 frames from the first 10 seconds of dataset/Celeb-real/id48_0001.mp4\n"
          ]
        },
        {
          "name": "stderr",
          "output_type": "stream",
          "text": [
            "\rProcessing videos in dataset/Celeb-real:  41%|████      | 243/590 [01:15<01:55,  2.99it/s]"
          ]
        },
        {
          "name": "stdout",
          "output_type": "stream",
          "text": [
            "Extracted 20 frames from the first 10 seconds of dataset/Celeb-real/id28_0000.mp4\n"
          ]
        },
        {
          "name": "stderr",
          "output_type": "stream",
          "text": [
            "\rProcessing videos in dataset/Celeb-real:  41%|████▏     | 244/590 [01:15<01:49,  3.17it/s]"
          ]
        },
        {
          "name": "stdout",
          "output_type": "stream",
          "text": [
            "Extracted 20 frames from the first 10 seconds of dataset/Celeb-real/id40_0006.mp4\n"
          ]
        },
        {
          "name": "stderr",
          "output_type": "stream",
          "text": [
            "\rProcessing videos in dataset/Celeb-real:  42%|████▏     | 245/590 [01:16<01:51,  3.10it/s]"
          ]
        },
        {
          "name": "stdout",
          "output_type": "stream",
          "text": [
            "Extracted 20 frames from the first 10 seconds of dataset/Celeb-real/id26_0006.mp4\n"
          ]
        },
        {
          "name": "stderr",
          "output_type": "stream",
          "text": [
            "\rProcessing videos in dataset/Celeb-real:  42%|████▏     | 246/590 [01:16<01:41,  3.38it/s]"
          ]
        },
        {
          "name": "stdout",
          "output_type": "stream",
          "text": [
            "Extracted 20 frames from the first 10 seconds of dataset/Celeb-real/id26_0008.mp4\n"
          ]
        },
        {
          "name": "stderr",
          "output_type": "stream",
          "text": [
            "\rProcessing videos in dataset/Celeb-real:  42%|████▏     | 247/590 [01:16<01:40,  3.41it/s]"
          ]
        },
        {
          "name": "stdout",
          "output_type": "stream",
          "text": [
            "Extracted 20 frames from the first 10 seconds of dataset/Celeb-real/id26_0004.mp4\n"
          ]
        },
        {
          "name": "stderr",
          "output_type": "stream",
          "text": [
            "\rProcessing videos in dataset/Celeb-real:  42%|████▏     | 248/590 [01:17<01:37,  3.50it/s]"
          ]
        },
        {
          "name": "stdout",
          "output_type": "stream",
          "text": [
            "Extracted 20 frames from the first 10 seconds of dataset/Celeb-real/id58_0005.mp4\n"
          ]
        },
        {
          "name": "stderr",
          "output_type": "stream",
          "text": [
            "\rProcessing videos in dataset/Celeb-real:  42%|████▏     | 249/590 [01:17<01:33,  3.63it/s]"
          ]
        },
        {
          "name": "stdout",
          "output_type": "stream",
          "text": [
            "Extracted 20 frames from the first 10 seconds of dataset/Celeb-real/id36_0004.mp4\n"
          ]
        },
        {
          "name": "stderr",
          "output_type": "stream",
          "text": [
            "\rProcessing videos in dataset/Celeb-real:  42%|████▏     | 250/590 [01:17<01:39,  3.42it/s]"
          ]
        },
        {
          "name": "stdout",
          "output_type": "stream",
          "text": [
            "Extracted 20 frames from the first 10 seconds of dataset/Celeb-real/id61_0006.mp4\n"
          ]
        },
        {
          "name": "stderr",
          "output_type": "stream",
          "text": [
            "\rProcessing videos in dataset/Celeb-real:  43%|████▎     | 251/590 [01:17<01:36,  3.51it/s]"
          ]
        },
        {
          "name": "stdout",
          "output_type": "stream",
          "text": [
            "Extracted 20 frames from the first 10 seconds of dataset/Celeb-real/id1_0009.mp4\n"
          ]
        },
        {
          "name": "stderr",
          "output_type": "stream",
          "text": [
            "\rProcessing videos in dataset/Celeb-real:  43%|████▎     | 252/590 [01:18<01:36,  3.51it/s]"
          ]
        },
        {
          "name": "stdout",
          "output_type": "stream",
          "text": [
            "Extracted 20 frames from the first 10 seconds of dataset/Celeb-real/id8_0002.mp4\n"
          ]
        },
        {
          "name": "stderr",
          "output_type": "stream",
          "text": [
            "\rProcessing videos in dataset/Celeb-real:  43%|████▎     | 253/590 [01:18<01:33,  3.61it/s]"
          ]
        },
        {
          "name": "stdout",
          "output_type": "stream",
          "text": [
            "Extracted 20 frames from the first 10 seconds of dataset/Celeb-real/id27_0000.mp4\n"
          ]
        },
        {
          "name": "stderr",
          "output_type": "stream",
          "text": [
            "\rProcessing videos in dataset/Celeb-real:  43%|████▎     | 254/590 [01:18<01:28,  3.80it/s]"
          ]
        },
        {
          "name": "stdout",
          "output_type": "stream",
          "text": [
            "Extracted 20 frames from the first 10 seconds of dataset/Celeb-real/id17_0000.mp4\n"
          ]
        },
        {
          "name": "stderr",
          "output_type": "stream",
          "text": [
            "\rProcessing videos in dataset/Celeb-real:  43%|████▎     | 255/590 [01:18<01:27,  3.84it/s]"
          ]
        },
        {
          "name": "stdout",
          "output_type": "stream",
          "text": [
            "Extracted 20 frames from the first 10 seconds of dataset/Celeb-real/id52_0005.mp4\n"
          ]
        },
        {
          "name": "stderr",
          "output_type": "stream",
          "text": [
            "\rProcessing videos in dataset/Celeb-real:  43%|████▎     | 256/590 [01:19<01:28,  3.79it/s]"
          ]
        },
        {
          "name": "stdout",
          "output_type": "stream",
          "text": [
            "Extracted 20 frames from the first 10 seconds of dataset/Celeb-real/id36_0002.mp4\n"
          ]
        },
        {
          "name": "stderr",
          "output_type": "stream",
          "text": [
            "\rProcessing videos in dataset/Celeb-real:  44%|████▎     | 257/590 [01:19<01:27,  3.79it/s]"
          ]
        },
        {
          "name": "stdout",
          "output_type": "stream",
          "text": [
            "Extracted 20 frames from the first 10 seconds of dataset/Celeb-real/id47_0002.mp4\n"
          ]
        },
        {
          "name": "stderr",
          "output_type": "stream",
          "text": [
            "\rProcessing videos in dataset/Celeb-real:  44%|████▎     | 258/590 [01:19<01:30,  3.66it/s]"
          ]
        },
        {
          "name": "stdout",
          "output_type": "stream",
          "text": [
            "Extracted 20 frames from the first 10 seconds of dataset/Celeb-real/id36_0006.mp4\n"
          ]
        },
        {
          "name": "stderr",
          "output_type": "stream",
          "text": [
            "\rProcessing videos in dataset/Celeb-real:  44%|████▍     | 259/590 [01:20<01:25,  3.85it/s]"
          ]
        },
        {
          "name": "stdout",
          "output_type": "stream",
          "text": [
            "Extracted 20 frames from the first 10 seconds of dataset/Celeb-real/id36_0005.mp4\n"
          ]
        },
        {
          "name": "stderr",
          "output_type": "stream",
          "text": [
            "\rProcessing videos in dataset/Celeb-real:  44%|████▍     | 260/590 [01:20<01:26,  3.83it/s]"
          ]
        },
        {
          "name": "stdout",
          "output_type": "stream",
          "text": [
            "Extracted 20 frames from the first 10 seconds of dataset/Celeb-real/id25_0002.mp4\n"
          ]
        },
        {
          "name": "stderr",
          "output_type": "stream",
          "text": [
            "\rProcessing videos in dataset/Celeb-real:  44%|████▍     | 261/590 [01:20<01:24,  3.90it/s]"
          ]
        },
        {
          "name": "stdout",
          "output_type": "stream",
          "text": [
            "Extracted 20 frames from the first 10 seconds of dataset/Celeb-real/id30_0009.mp4\n"
          ]
        },
        {
          "name": "stderr",
          "output_type": "stream",
          "text": [
            "\rProcessing videos in dataset/Celeb-real:  44%|████▍     | 262/590 [01:20<01:28,  3.72it/s]"
          ]
        },
        {
          "name": "stdout",
          "output_type": "stream",
          "text": [
            "Extracted 20 frames from the first 10 seconds of dataset/Celeb-real/id13_0008.mp4\n"
          ]
        },
        {
          "name": "stderr",
          "output_type": "stream",
          "text": [
            "\rProcessing videos in dataset/Celeb-real:  45%|████▍     | 263/590 [01:21<01:30,  3.61it/s]"
          ]
        },
        {
          "name": "stdout",
          "output_type": "stream",
          "text": [
            "Extracted 20 frames from the first 10 seconds of dataset/Celeb-real/id13_0003.mp4\n"
          ]
        },
        {
          "name": "stderr",
          "output_type": "stream",
          "text": [
            "\rProcessing videos in dataset/Celeb-real:  45%|████▍     | 264/590 [01:21<01:30,  3.62it/s]"
          ]
        },
        {
          "name": "stdout",
          "output_type": "stream",
          "text": [
            "Extracted 20 frames from the first 10 seconds of dataset/Celeb-real/id36_0000.mp4\n"
          ]
        },
        {
          "name": "stderr",
          "output_type": "stream",
          "text": [
            "\rProcessing videos in dataset/Celeb-real:  45%|████▍     | 265/590 [01:21<01:27,  3.71it/s]"
          ]
        },
        {
          "name": "stdout",
          "output_type": "stream",
          "text": [
            "Extracted 20 frames from the first 10 seconds of dataset/Celeb-real/id44_0002.mp4\n"
          ]
        },
        {
          "name": "stderr",
          "output_type": "stream",
          "text": [
            "\rProcessing videos in dataset/Celeb-real:  45%|████▌     | 266/590 [01:21<01:21,  3.96it/s]"
          ]
        },
        {
          "name": "stdout",
          "output_type": "stream",
          "text": [
            "Extracted 20 frames from the first 10 seconds of dataset/Celeb-real/id35_0004.mp4\n"
          ]
        },
        {
          "name": "stderr",
          "output_type": "stream",
          "text": [
            "Processing videos in dataset/Celeb-real:  45%|████▌     | 268/590 [01:22<01:11,  4.51it/s]"
          ]
        },
        {
          "name": "stdout",
          "output_type": "stream",
          "text": [
            "Extracted 20 frames from the first 10 seconds of dataset/Celeb-real/id3_0006.mp4\n",
            "Extracted 20 frames from the first 10 seconds of dataset/Celeb-real/id29_0009.mp4\n"
          ]
        },
        {
          "name": "stderr",
          "output_type": "stream",
          "text": [
            "\rProcessing videos in dataset/Celeb-real:  46%|████▌     | 269/590 [01:22<01:12,  4.41it/s]"
          ]
        },
        {
          "name": "stdout",
          "output_type": "stream",
          "text": [
            "Extracted 20 frames from the first 10 seconds of dataset/Celeb-real/id59_0008.mp4\n"
          ]
        },
        {
          "name": "stderr",
          "output_type": "stream",
          "text": [
            "\rProcessing videos in dataset/Celeb-real:  46%|████▌     | 270/590 [01:22<01:18,  4.10it/s]"
          ]
        },
        {
          "name": "stdout",
          "output_type": "stream",
          "text": [
            "Extracted 20 frames from the first 10 seconds of dataset/Celeb-real/id28_0002.mp4\n"
          ]
        },
        {
          "name": "stderr",
          "output_type": "stream",
          "text": [
            "\rProcessing videos in dataset/Celeb-real:  46%|████▌     | 271/590 [01:23<01:30,  3.52it/s]"
          ]
        },
        {
          "name": "stdout",
          "output_type": "stream",
          "text": [
            "Extracted 20 frames from the first 10 seconds of dataset/Celeb-real/id57_0004.mp4\n"
          ]
        },
        {
          "name": "stderr",
          "output_type": "stream",
          "text": [
            "\rProcessing videos in dataset/Celeb-real:  46%|████▌     | 272/590 [01:23<01:27,  3.63it/s]"
          ]
        },
        {
          "name": "stdout",
          "output_type": "stream",
          "text": [
            "Extracted 20 frames from the first 10 seconds of dataset/Celeb-real/id2_0002.mp4\n"
          ]
        },
        {
          "name": "stderr",
          "output_type": "stream",
          "text": [
            "\rProcessing videos in dataset/Celeb-real:  46%|████▋     | 273/590 [01:23<01:25,  3.73it/s]"
          ]
        },
        {
          "name": "stdout",
          "output_type": "stream",
          "text": [
            "Extracted 20 frames from the first 10 seconds of dataset/Celeb-real/id53_0003.mp4\n"
          ]
        },
        {
          "name": "stderr",
          "output_type": "stream",
          "text": [
            "\rProcessing videos in dataset/Celeb-real:  46%|████▋     | 274/590 [01:24<01:32,  3.42it/s]"
          ]
        },
        {
          "name": "stdout",
          "output_type": "stream",
          "text": [
            "Extracted 20 frames from the first 10 seconds of dataset/Celeb-real/id16_0001.mp4\n"
          ]
        },
        {
          "name": "stderr",
          "output_type": "stream",
          "text": [
            "\rProcessing videos in dataset/Celeb-real:  47%|████▋     | 275/590 [01:24<01:28,  3.56it/s]"
          ]
        },
        {
          "name": "stdout",
          "output_type": "stream",
          "text": [
            "Extracted 20 frames from the first 10 seconds of dataset/Celeb-real/id3_0000.mp4\n"
          ]
        },
        {
          "name": "stderr",
          "output_type": "stream",
          "text": [
            "\rProcessing videos in dataset/Celeb-real:  47%|████▋     | 276/590 [01:24<01:24,  3.70it/s]"
          ]
        },
        {
          "name": "stdout",
          "output_type": "stream",
          "text": [
            "Extracted 20 frames from the first 10 seconds of dataset/Celeb-real/id37_0009.mp4\n"
          ]
        },
        {
          "name": "stderr",
          "output_type": "stream",
          "text": [
            "\rProcessing videos in dataset/Celeb-real:  47%|████▋     | 277/590 [01:24<01:24,  3.71it/s]"
          ]
        },
        {
          "name": "stdout",
          "output_type": "stream",
          "text": [
            "Extracted 20 frames from the first 10 seconds of dataset/Celeb-real/id13_0001.mp4\n"
          ]
        },
        {
          "name": "stderr",
          "output_type": "stream",
          "text": [
            "\rProcessing videos in dataset/Celeb-real:  47%|████▋     | 278/590 [01:25<01:19,  3.90it/s]"
          ]
        },
        {
          "name": "stdout",
          "output_type": "stream",
          "text": [
            "Extracted 20 frames from the first 10 seconds of dataset/Celeb-real/id21_0000.mp4\n"
          ]
        },
        {
          "name": "stderr",
          "output_type": "stream",
          "text": [
            "\rProcessing videos in dataset/Celeb-real:  47%|████▋     | 279/590 [01:25<01:21,  3.81it/s]"
          ]
        },
        {
          "name": "stdout",
          "output_type": "stream",
          "text": [
            "Extracted 20 frames from the first 10 seconds of dataset/Celeb-real/id50_0000.mp4\n"
          ]
        },
        {
          "name": "stderr",
          "output_type": "stream",
          "text": [
            "\rProcessing videos in dataset/Celeb-real:  47%|████▋     | 280/590 [01:25<01:32,  3.36it/s]"
          ]
        },
        {
          "name": "stdout",
          "output_type": "stream",
          "text": [
            "Extracted 20 frames from the first 10 seconds of dataset/Celeb-real/id53_0009.mp4\n"
          ]
        },
        {
          "name": "stderr",
          "output_type": "stream",
          "text": [
            "\rProcessing videos in dataset/Celeb-real:  48%|████▊     | 281/590 [01:26<01:47,  2.88it/s]"
          ]
        },
        {
          "name": "stdout",
          "output_type": "stream",
          "text": [
            "Extracted 20 frames from the first 10 seconds of dataset/Celeb-real/id58_0006.mp4\n"
          ]
        },
        {
          "name": "stderr",
          "output_type": "stream",
          "text": [
            "\rProcessing videos in dataset/Celeb-real:  48%|████▊     | 282/590 [01:26<01:57,  2.62it/s]"
          ]
        },
        {
          "name": "stdout",
          "output_type": "stream",
          "text": [
            "Extracted 20 frames from the first 10 seconds of dataset/Celeb-real/id35_0009.mp4\n"
          ]
        },
        {
          "name": "stderr",
          "output_type": "stream",
          "text": [
            "\rProcessing videos in dataset/Celeb-real:  48%|████▊     | 283/590 [01:27<01:59,  2.58it/s]"
          ]
        },
        {
          "name": "stdout",
          "output_type": "stream",
          "text": [
            "Extracted 20 frames from the first 10 seconds of dataset/Celeb-real/id3_0009.mp4\n"
          ]
        },
        {
          "name": "stderr",
          "output_type": "stream",
          "text": [
            "\rProcessing videos in dataset/Celeb-real:  48%|████▊     | 284/590 [01:27<01:48,  2.82it/s]"
          ]
        },
        {
          "name": "stdout",
          "output_type": "stream",
          "text": [
            "Extracted 20 frames from the first 10 seconds of dataset/Celeb-real/id1_0001.mp4\n"
          ]
        },
        {
          "name": "stderr",
          "output_type": "stream",
          "text": [
            "\rProcessing videos in dataset/Celeb-real:  48%|████▊     | 285/590 [01:27<01:52,  2.71it/s]"
          ]
        },
        {
          "name": "stdout",
          "output_type": "stream",
          "text": [
            "Extracted 20 frames from the first 10 seconds of dataset/Celeb-real/id26_0002.mp4\n"
          ]
        },
        {
          "name": "stderr",
          "output_type": "stream",
          "text": [
            "\rProcessing videos in dataset/Celeb-real:  48%|████▊     | 286/590 [01:28<01:58,  2.57it/s]"
          ]
        },
        {
          "name": "stdout",
          "output_type": "stream",
          "text": [
            "Extracted 20 frames from the first 10 seconds of dataset/Celeb-real/id29_0002.mp4\n"
          ]
        },
        {
          "name": "stderr",
          "output_type": "stream",
          "text": [
            "\rProcessing videos in dataset/Celeb-real:  49%|████▊     | 287/590 [01:28<02:02,  2.48it/s]"
          ]
        },
        {
          "name": "stdout",
          "output_type": "stream",
          "text": [
            "Extracted 20 frames from the first 10 seconds of dataset/Celeb-real/id58_0004.mp4\n"
          ]
        },
        {
          "name": "stderr",
          "output_type": "stream",
          "text": [
            "\rProcessing videos in dataset/Celeb-real:  49%|████▉     | 288/590 [01:28<01:56,  2.60it/s]"
          ]
        },
        {
          "name": "stdout",
          "output_type": "stream",
          "text": [
            "Extracted 20 frames from the first 10 seconds of dataset/Celeb-real/id52_0008.mp4\n"
          ]
        },
        {
          "name": "stderr",
          "output_type": "stream",
          "text": [
            "\rProcessing videos in dataset/Celeb-real:  49%|████▉     | 289/590 [01:29<01:50,  2.72it/s]"
          ]
        },
        {
          "name": "stdout",
          "output_type": "stream",
          "text": [
            "Extracted 20 frames from the first 10 seconds of dataset/Celeb-real/id6_0009.mp4\n"
          ]
        },
        {
          "name": "stderr",
          "output_type": "stream",
          "text": [
            "Processing videos in dataset/Celeb-real:  49%|████▉     | 291/590 [01:29<01:26,  3.45it/s]"
          ]
        },
        {
          "name": "stdout",
          "output_type": "stream",
          "text": [
            "Extracted 20 frames from the first 10 seconds of dataset/Celeb-real/id35_0005.mp4\n",
            "Extracted 20 frames from the first 10 seconds of dataset/Celeb-real/id45_0001.mp4\n"
          ]
        },
        {
          "name": "stderr",
          "output_type": "stream",
          "text": [
            "\rProcessing videos in dataset/Celeb-real:  49%|████▉     | 292/590 [01:29<01:14,  3.99it/s]"
          ]
        },
        {
          "name": "stdout",
          "output_type": "stream",
          "text": [
            "Extracted 20 frames from the first 10 seconds of dataset/Celeb-real/id23_0003.mp4\n"
          ]
        },
        {
          "name": "stderr",
          "output_type": "stream",
          "text": [
            "\rProcessing videos in dataset/Celeb-real:  50%|████▉     | 293/590 [01:30<01:15,  3.95it/s]"
          ]
        },
        {
          "name": "stdout",
          "output_type": "stream",
          "text": [
            "Extracted 20 frames from the first 10 seconds of dataset/Celeb-real/id23_0002.mp4\n"
          ]
        },
        {
          "name": "stderr",
          "output_type": "stream",
          "text": [
            "\rProcessing videos in dataset/Celeb-real:  50%|████▉     | 294/590 [01:30<01:20,  3.70it/s]"
          ]
        },
        {
          "name": "stdout",
          "output_type": "stream",
          "text": [
            "Extracted 20 frames from the first 10 seconds of dataset/Celeb-real/id5_0008.mp4\n"
          ]
        },
        {
          "name": "stderr",
          "output_type": "stream",
          "text": [
            "\rProcessing videos in dataset/Celeb-real:  50%|█████     | 295/590 [01:30<01:15,  3.90it/s]"
          ]
        },
        {
          "name": "stdout",
          "output_type": "stream",
          "text": [
            "Extracted 20 frames from the first 10 seconds of dataset/Celeb-real/id17_0002.mp4\n"
          ]
        },
        {
          "name": "stderr",
          "output_type": "stream",
          "text": [
            "\rProcessing videos in dataset/Celeb-real:  50%|█████     | 296/590 [01:30<01:24,  3.47it/s]"
          ]
        },
        {
          "name": "stdout",
          "output_type": "stream",
          "text": [
            "Extracted 20 frames from the first 10 seconds of dataset/Celeb-real/id45_0008.mp4\n"
          ]
        },
        {
          "name": "stderr",
          "output_type": "stream",
          "text": [
            "\rProcessing videos in dataset/Celeb-real:  50%|█████     | 297/590 [01:31<01:22,  3.56it/s]"
          ]
        },
        {
          "name": "stdout",
          "output_type": "stream",
          "text": [
            "Extracted 20 frames from the first 10 seconds of dataset/Celeb-real/id50_0005.mp4\n"
          ]
        },
        {
          "name": "stderr",
          "output_type": "stream",
          "text": [
            "\rProcessing videos in dataset/Celeb-real:  51%|█████     | 298/590 [01:31<01:20,  3.62it/s]"
          ]
        },
        {
          "name": "stdout",
          "output_type": "stream",
          "text": [
            "Extracted 20 frames from the first 10 seconds of dataset/Celeb-real/id43_0000.mp4\n"
          ]
        },
        {
          "name": "stderr",
          "output_type": "stream",
          "text": [
            "\rProcessing videos in dataset/Celeb-real:  51%|█████     | 299/590 [01:31<01:20,  3.59it/s]"
          ]
        },
        {
          "name": "stdout",
          "output_type": "stream",
          "text": [
            "Extracted 20 frames from the first 10 seconds of dataset/Celeb-real/id60_0001.mp4\n"
          ]
        },
        {
          "name": "stderr",
          "output_type": "stream",
          "text": [
            "\rProcessing videos in dataset/Celeb-real:  51%|█████     | 300/590 [01:32<01:22,  3.53it/s]"
          ]
        },
        {
          "name": "stdout",
          "output_type": "stream",
          "text": [
            "Extracted 20 frames from the first 10 seconds of dataset/Celeb-real/id60_0009.mp4\n"
          ]
        },
        {
          "name": "stderr",
          "output_type": "stream",
          "text": [
            "\rProcessing videos in dataset/Celeb-real:  51%|█████     | 301/590 [01:32<01:21,  3.54it/s]"
          ]
        },
        {
          "name": "stdout",
          "output_type": "stream",
          "text": [
            "Extracted 20 frames from the first 10 seconds of dataset/Celeb-real/id40_0004.mp4\n"
          ]
        },
        {
          "name": "stderr",
          "output_type": "stream",
          "text": [
            "\rProcessing videos in dataset/Celeb-real:  51%|█████     | 302/590 [01:32<01:19,  3.61it/s]"
          ]
        },
        {
          "name": "stdout",
          "output_type": "stream",
          "text": [
            "Extracted 20 frames from the first 10 seconds of dataset/Celeb-real/id23_0008.mp4\n"
          ]
        },
        {
          "name": "stderr",
          "output_type": "stream",
          "text": [
            "\rProcessing videos in dataset/Celeb-real:  51%|█████▏    | 303/590 [01:32<01:15,  3.82it/s]"
          ]
        },
        {
          "name": "stdout",
          "output_type": "stream",
          "text": [
            "Extracted 20 frames from the first 10 seconds of dataset/Celeb-real/id45_0007.mp4\n"
          ]
        },
        {
          "name": "stderr",
          "output_type": "stream",
          "text": [
            "\rProcessing videos in dataset/Celeb-real:  52%|█████▏    | 304/590 [01:33<01:18,  3.66it/s]"
          ]
        },
        {
          "name": "stdout",
          "output_type": "stream",
          "text": [
            "Extracted 20 frames from the first 10 seconds of dataset/Celeb-real/id16_0012.mp4\n"
          ]
        },
        {
          "name": "stderr",
          "output_type": "stream",
          "text": [
            "\rProcessing videos in dataset/Celeb-real:  52%|█████▏    | 305/590 [01:33<01:13,  3.86it/s]"
          ]
        },
        {
          "name": "stdout",
          "output_type": "stream",
          "text": [
            "Extracted 20 frames from the first 10 seconds of dataset/Celeb-real/id46_0002.mp4\n"
          ]
        },
        {
          "name": "stderr",
          "output_type": "stream",
          "text": [
            "\rProcessing videos in dataset/Celeb-real:  52%|█████▏    | 306/590 [01:33<01:13,  3.88it/s]"
          ]
        },
        {
          "name": "stdout",
          "output_type": "stream",
          "text": [
            "Extracted 20 frames from the first 10 seconds of dataset/Celeb-real/id37_0006.mp4\n"
          ]
        },
        {
          "name": "stderr",
          "output_type": "stream",
          "text": [
            "\rProcessing videos in dataset/Celeb-real:  52%|█████▏    | 307/590 [01:34<01:21,  3.46it/s]"
          ]
        },
        {
          "name": "stdout",
          "output_type": "stream",
          "text": [
            "Extracted 20 frames from the first 10 seconds of dataset/Celeb-real/id17_0007.mp4\n"
          ]
        },
        {
          "name": "stderr",
          "output_type": "stream",
          "text": [
            "\rProcessing videos in dataset/Celeb-real:  52%|█████▏    | 308/590 [01:34<01:26,  3.27it/s]"
          ]
        },
        {
          "name": "stdout",
          "output_type": "stream",
          "text": [
            "Extracted 20 frames from the first 10 seconds of dataset/Celeb-real/id16_0000.mp4\n"
          ]
        },
        {
          "name": "stderr",
          "output_type": "stream",
          "text": [
            "\rProcessing videos in dataset/Celeb-real:  52%|█████▏    | 309/590 [01:34<01:24,  3.33it/s]"
          ]
        },
        {
          "name": "stdout",
          "output_type": "stream",
          "text": [
            "Extracted 20 frames from the first 10 seconds of dataset/Celeb-real/id26_0001.mp4\n"
          ]
        },
        {
          "name": "stderr",
          "output_type": "stream",
          "text": [
            "\rProcessing videos in dataset/Celeb-real:  53%|█████▎    | 310/590 [01:34<01:23,  3.36it/s]"
          ]
        },
        {
          "name": "stdout",
          "output_type": "stream",
          "text": [
            "Extracted 20 frames from the first 10 seconds of dataset/Celeb-real/id34_0009.mp4\n"
          ]
        },
        {
          "name": "stderr",
          "output_type": "stream",
          "text": [
            "\rProcessing videos in dataset/Celeb-real:  53%|█████▎    | 311/590 [01:35<01:21,  3.40it/s]"
          ]
        },
        {
          "name": "stdout",
          "output_type": "stream",
          "text": [
            "Extracted 20 frames from the first 10 seconds of dataset/Celeb-real/id23_0001.mp4\n"
          ]
        },
        {
          "name": "stderr",
          "output_type": "stream",
          "text": [
            "\rProcessing videos in dataset/Celeb-real:  53%|█████▎    | 312/590 [01:35<01:19,  3.48it/s]"
          ]
        },
        {
          "name": "stdout",
          "output_type": "stream",
          "text": [
            "Extracted 20 frames from the first 10 seconds of dataset/Celeb-real/id37_0002.mp4\n"
          ]
        },
        {
          "name": "stderr",
          "output_type": "stream",
          "text": [
            "\rProcessing videos in dataset/Celeb-real:  53%|█████▎    | 313/590 [01:35<01:16,  3.63it/s]"
          ]
        },
        {
          "name": "stdout",
          "output_type": "stream",
          "text": [
            "Extracted 20 frames from the first 10 seconds of dataset/Celeb-real/id20_0005.mp4\n"
          ]
        },
        {
          "name": "stderr",
          "output_type": "stream",
          "text": [
            "\rProcessing videos in dataset/Celeb-real:  53%|█████▎    | 314/590 [01:36<01:20,  3.45it/s]"
          ]
        },
        {
          "name": "stdout",
          "output_type": "stream",
          "text": [
            "Extracted 20 frames from the first 10 seconds of dataset/Celeb-real/id2_0008.mp4\n"
          ]
        },
        {
          "name": "stderr",
          "output_type": "stream",
          "text": [
            "\rProcessing videos in dataset/Celeb-real:  53%|█████▎    | 315/590 [01:36<01:16,  3.59it/s]"
          ]
        },
        {
          "name": "stdout",
          "output_type": "stream",
          "text": [
            "Extracted 20 frames from the first 10 seconds of dataset/Celeb-real/id25_0007.mp4\n"
          ]
        },
        {
          "name": "stderr",
          "output_type": "stream",
          "text": [
            "\rProcessing videos in dataset/Celeb-real:  54%|█████▎    | 316/590 [01:36<01:12,  3.78it/s]"
          ]
        },
        {
          "name": "stdout",
          "output_type": "stream",
          "text": [
            "Extracted 20 frames from the first 10 seconds of dataset/Celeb-real/id56_0007.mp4\n"
          ]
        },
        {
          "name": "stderr",
          "output_type": "stream",
          "text": [
            "\rProcessing videos in dataset/Celeb-real:  54%|█████▎    | 317/590 [01:36<01:12,  3.76it/s]"
          ]
        },
        {
          "name": "stdout",
          "output_type": "stream",
          "text": [
            "Extracted 20 frames from the first 10 seconds of dataset/Celeb-real/id36_0001.mp4\n"
          ]
        },
        {
          "name": "stderr",
          "output_type": "stream",
          "text": [
            "\rProcessing videos in dataset/Celeb-real:  54%|█████▍    | 318/590 [01:37<01:21,  3.34it/s]"
          ]
        },
        {
          "name": "stdout",
          "output_type": "stream",
          "text": [
            "Extracted 20 frames from the first 10 seconds of dataset/Celeb-real/id55_0000.mp4\n"
          ]
        },
        {
          "name": "stderr",
          "output_type": "stream",
          "text": [
            "\rProcessing videos in dataset/Celeb-real:  54%|█████▍    | 319/590 [01:37<01:21,  3.34it/s]"
          ]
        },
        {
          "name": "stdout",
          "output_type": "stream",
          "text": [
            "Extracted 20 frames from the first 10 seconds of dataset/Celeb-real/id13_0013.mp4\n"
          ]
        },
        {
          "name": "stderr",
          "output_type": "stream",
          "text": [
            "\rProcessing videos in dataset/Celeb-real:  54%|█████▍    | 320/590 [01:37<01:17,  3.49it/s]"
          ]
        },
        {
          "name": "stdout",
          "output_type": "stream",
          "text": [
            "Extracted 20 frames from the first 10 seconds of dataset/Celeb-real/id19_0003.mp4\n"
          ]
        },
        {
          "name": "stderr",
          "output_type": "stream",
          "text": [
            "\rProcessing videos in dataset/Celeb-real:  54%|█████▍    | 321/590 [01:38<01:16,  3.50it/s]"
          ]
        },
        {
          "name": "stdout",
          "output_type": "stream",
          "text": [
            "Extracted 20 frames from the first 10 seconds of dataset/Celeb-real/id4_0003.mp4\n"
          ]
        },
        {
          "name": "stderr",
          "output_type": "stream",
          "text": [
            "\rProcessing videos in dataset/Celeb-real:  55%|█████▍    | 322/590 [01:38<01:12,  3.70it/s]"
          ]
        },
        {
          "name": "stdout",
          "output_type": "stream",
          "text": [
            "Extracted 20 frames from the first 10 seconds of dataset/Celeb-real/id43_0001.mp4\n"
          ]
        },
        {
          "name": "stderr",
          "output_type": "stream",
          "text": [
            "Processing videos in dataset/Celeb-real:  55%|█████▍    | 324/590 [01:38<01:04,  4.13it/s]"
          ]
        },
        {
          "name": "stdout",
          "output_type": "stream",
          "text": [
            "Extracted 20 frames from the first 10 seconds of dataset/Celeb-real/id25_0010.mp4\n",
            "Extracted 20 frames from the first 10 seconds of dataset/Celeb-real/id3_0008.mp4\n"
          ]
        },
        {
          "name": "stderr",
          "output_type": "stream",
          "text": [
            "\rProcessing videos in dataset/Celeb-real:  55%|█████▌    | 325/590 [01:39<01:19,  3.33it/s]"
          ]
        },
        {
          "name": "stdout",
          "output_type": "stream",
          "text": [
            "Extracted 20 frames from the first 10 seconds of dataset/Celeb-real/id5_0005.mp4\n"
          ]
        },
        {
          "name": "stderr",
          "output_type": "stream",
          "text": [
            "\rProcessing videos in dataset/Celeb-real:  55%|█████▌    | 326/590 [01:39<01:25,  3.09it/s]"
          ]
        },
        {
          "name": "stdout",
          "output_type": "stream",
          "text": [
            "Extracted 20 frames from the first 10 seconds of dataset/Celeb-real/id13_0005.mp4\n"
          ]
        },
        {
          "name": "stderr",
          "output_type": "stream",
          "text": [
            "\rProcessing videos in dataset/Celeb-real:  55%|█████▌    | 327/590 [01:39<01:32,  2.84it/s]"
          ]
        },
        {
          "name": "stdout",
          "output_type": "stream",
          "text": [
            "Extracted 20 frames from the first 10 seconds of dataset/Celeb-real/id51_0008.mp4\n"
          ]
        },
        {
          "name": "stderr",
          "output_type": "stream",
          "text": [
            "\rProcessing videos in dataset/Celeb-real:  56%|█████▌    | 328/590 [01:40<01:34,  2.77it/s]"
          ]
        },
        {
          "name": "stdout",
          "output_type": "stream",
          "text": [
            "Extracted 20 frames from the first 10 seconds of dataset/Celeb-real/id30_0007.mp4\n"
          ]
        },
        {
          "name": "stderr",
          "output_type": "stream",
          "text": [
            "\rProcessing videos in dataset/Celeb-real:  56%|█████▌    | 329/590 [01:40<01:35,  2.74it/s]"
          ]
        },
        {
          "name": "stdout",
          "output_type": "stream",
          "text": [
            "Extracted 20 frames from the first 10 seconds of dataset/Celeb-real/id58_0001.mp4\n"
          ]
        },
        {
          "name": "stderr",
          "output_type": "stream",
          "text": [
            "\rProcessing videos in dataset/Celeb-real:  56%|█████▌    | 330/590 [01:41<01:38,  2.63it/s]"
          ]
        },
        {
          "name": "stdout",
          "output_type": "stream",
          "text": [
            "Extracted 20 frames from the first 10 seconds of dataset/Celeb-real/id31_0003.mp4\n"
          ]
        },
        {
          "name": "stderr",
          "output_type": "stream",
          "text": [
            "\rProcessing videos in dataset/Celeb-real:  56%|█████▌    | 331/590 [01:41<01:29,  2.89it/s]"
          ]
        },
        {
          "name": "stdout",
          "output_type": "stream",
          "text": [
            "Extracted 20 frames from the first 10 seconds of dataset/Celeb-real/id40_0000.mp4\n"
          ]
        },
        {
          "name": "stderr",
          "output_type": "stream",
          "text": [
            "\rProcessing videos in dataset/Celeb-real:  56%|█████▋    | 332/590 [01:41<01:35,  2.71it/s]"
          ]
        },
        {
          "name": "stdout",
          "output_type": "stream",
          "text": [
            "Extracted 20 frames from the first 10 seconds of dataset/Celeb-real/id44_0004.mp4\n"
          ]
        },
        {
          "name": "stderr",
          "output_type": "stream",
          "text": [
            "\rProcessing videos in dataset/Celeb-real:  56%|█████▋    | 333/590 [01:42<01:38,  2.61it/s]"
          ]
        },
        {
          "name": "stdout",
          "output_type": "stream",
          "text": [
            "Extracted 20 frames from the first 10 seconds of dataset/Celeb-real/id43_0005.mp4\n"
          ]
        },
        {
          "name": "stderr",
          "output_type": "stream",
          "text": [
            "\rProcessing videos in dataset/Celeb-real:  57%|█████▋    | 334/590 [01:42<01:42,  2.51it/s]"
          ]
        },
        {
          "name": "stdout",
          "output_type": "stream",
          "text": [
            "Extracted 20 frames from the first 10 seconds of dataset/Celeb-real/id38_0006.mp4\n"
          ]
        },
        {
          "name": "stderr",
          "output_type": "stream",
          "text": [
            "\rProcessing videos in dataset/Celeb-real:  57%|█████▋    | 335/590 [01:43<01:40,  2.53it/s]"
          ]
        },
        {
          "name": "stdout",
          "output_type": "stream",
          "text": [
            "Extracted 20 frames from the first 10 seconds of dataset/Celeb-real/id49_0009.mp4\n"
          ]
        },
        {
          "name": "stderr",
          "output_type": "stream",
          "text": [
            "\rProcessing videos in dataset/Celeb-real:  57%|█████▋    | 336/590 [01:43<01:31,  2.79it/s]"
          ]
        },
        {
          "name": "stdout",
          "output_type": "stream",
          "text": [
            "Extracted 20 frames from the first 10 seconds of dataset/Celeb-real/id54_0006.mp4\n"
          ]
        },
        {
          "name": "stderr",
          "output_type": "stream",
          "text": [
            "\rProcessing videos in dataset/Celeb-real:  57%|█████▋    | 337/590 [01:43<01:29,  2.83it/s]"
          ]
        },
        {
          "name": "stdout",
          "output_type": "stream",
          "text": [
            "Extracted 20 frames from the first 10 seconds of dataset/Celeb-real/id61_0002.mp4\n"
          ]
        },
        {
          "name": "stderr",
          "output_type": "stream",
          "text": [
            "\rProcessing videos in dataset/Celeb-real:  57%|█████▋    | 338/590 [01:43<01:25,  2.94it/s]"
          ]
        },
        {
          "name": "stdout",
          "output_type": "stream",
          "text": [
            "Extracted 20 frames from the first 10 seconds of dataset/Celeb-real/id34_0008.mp4\n"
          ]
        },
        {
          "name": "stderr",
          "output_type": "stream",
          "text": [
            "\rProcessing videos in dataset/Celeb-real:  57%|█████▋    | 339/590 [01:44<01:20,  3.11it/s]"
          ]
        },
        {
          "name": "stdout",
          "output_type": "stream",
          "text": [
            "Extracted 20 frames from the first 10 seconds of dataset/Celeb-real/id37_0003.mp4\n"
          ]
        },
        {
          "name": "stderr",
          "output_type": "stream",
          "text": [
            "\rProcessing videos in dataset/Celeb-real:  58%|█████▊    | 340/590 [01:44<01:16,  3.27it/s]"
          ]
        },
        {
          "name": "stdout",
          "output_type": "stream",
          "text": [
            "Extracted 20 frames from the first 10 seconds of dataset/Celeb-real/id45_0006.mp4\n"
          ]
        },
        {
          "name": "stderr",
          "output_type": "stream",
          "text": [
            "\rProcessing videos in dataset/Celeb-real:  58%|█████▊    | 341/590 [01:44<01:18,  3.17it/s]"
          ]
        },
        {
          "name": "stdout",
          "output_type": "stream",
          "text": [
            "Extracted 20 frames from the first 10 seconds of dataset/Celeb-real/id8_0009.mp4\n"
          ]
        },
        {
          "name": "stderr",
          "output_type": "stream",
          "text": [
            "\rProcessing videos in dataset/Celeb-real:  58%|█████▊    | 342/590 [01:45<01:13,  3.38it/s]"
          ]
        },
        {
          "name": "stdout",
          "output_type": "stream",
          "text": [
            "Extracted 20 frames from the first 10 seconds of dataset/Celeb-real/id23_0000.mp4\n"
          ]
        },
        {
          "name": "stderr",
          "output_type": "stream",
          "text": [
            "\rProcessing videos in dataset/Celeb-real:  58%|█████▊    | 343/590 [01:45<01:09,  3.53it/s]"
          ]
        },
        {
          "name": "stdout",
          "output_type": "stream",
          "text": [
            "Extracted 20 frames from the first 10 seconds of dataset/Celeb-real/id55_0002.mp4\n"
          ]
        },
        {
          "name": "stderr",
          "output_type": "stream",
          "text": [
            "\rProcessing videos in dataset/Celeb-real:  58%|█████▊    | 344/590 [01:45<01:08,  3.61it/s]"
          ]
        },
        {
          "name": "stdout",
          "output_type": "stream",
          "text": [
            "Extracted 20 frames from the first 10 seconds of dataset/Celeb-real/id43_0002.mp4\n"
          ]
        },
        {
          "name": "stderr",
          "output_type": "stream",
          "text": [
            "\rProcessing videos in dataset/Celeb-real:  58%|█████▊    | 345/590 [01:45<01:11,  3.44it/s]"
          ]
        },
        {
          "name": "stdout",
          "output_type": "stream",
          "text": [
            "Extracted 20 frames from the first 10 seconds of dataset/Celeb-real/id16_0008.mp4\n"
          ]
        },
        {
          "name": "stderr",
          "output_type": "stream",
          "text": [
            "\rProcessing videos in dataset/Celeb-real:  59%|█████▊    | 346/590 [01:46<01:06,  3.69it/s]"
          ]
        },
        {
          "name": "stdout",
          "output_type": "stream",
          "text": [
            "Extracted 20 frames from the first 10 seconds of dataset/Celeb-real/id46_0006.mp4\n"
          ]
        },
        {
          "name": "stderr",
          "output_type": "stream",
          "text": [
            "\rProcessing videos in dataset/Celeb-real:  59%|█████▉    | 347/590 [01:46<01:03,  3.85it/s]"
          ]
        },
        {
          "name": "stdout",
          "output_type": "stream",
          "text": [
            "Extracted 20 frames from the first 10 seconds of dataset/Celeb-real/id21_0009.mp4\n"
          ]
        },
        {
          "name": "stderr",
          "output_type": "stream",
          "text": [
            "\rProcessing videos in dataset/Celeb-real:  59%|█████▉    | 348/590 [01:46<01:05,  3.71it/s]"
          ]
        },
        {
          "name": "stdout",
          "output_type": "stream",
          "text": [
            "Extracted 20 frames from the first 10 seconds of dataset/Celeb-real/id7_0007.mp4\n"
          ]
        },
        {
          "name": "stderr",
          "output_type": "stream",
          "text": [
            "\rProcessing videos in dataset/Celeb-real:  59%|█████▉    | 349/590 [01:46<01:05,  3.70it/s]"
          ]
        },
        {
          "name": "stdout",
          "output_type": "stream",
          "text": [
            "Extracted 20 frames from the first 10 seconds of dataset/Celeb-real/id52_0002.mp4\n"
          ]
        },
        {
          "name": "stderr",
          "output_type": "stream",
          "text": [
            "\rProcessing videos in dataset/Celeb-real:  59%|█████▉    | 350/590 [01:47<01:07,  3.58it/s]"
          ]
        },
        {
          "name": "stdout",
          "output_type": "stream",
          "text": [
            "Extracted 20 frames from the first 10 seconds of dataset/Celeb-real/id5_0003.mp4\n"
          ]
        },
        {
          "name": "stderr",
          "output_type": "stream",
          "text": [
            "\rProcessing videos in dataset/Celeb-real:  59%|█████▉    | 351/590 [01:47<01:09,  3.42it/s]"
          ]
        },
        {
          "name": "stdout",
          "output_type": "stream",
          "text": [
            "Extracted 20 frames from the first 10 seconds of dataset/Celeb-real/id13_0011.mp4\n"
          ]
        },
        {
          "name": "stderr",
          "output_type": "stream",
          "text": [
            "\rProcessing videos in dataset/Celeb-real:  60%|█████▉    | 352/590 [01:47<01:07,  3.52it/s]"
          ]
        },
        {
          "name": "stdout",
          "output_type": "stream",
          "text": [
            "Extracted 20 frames from the first 10 seconds of dataset/Celeb-real/id33_0009.mp4\n"
          ]
        },
        {
          "name": "stderr",
          "output_type": "stream",
          "text": [
            "\rProcessing videos in dataset/Celeb-real:  60%|█████▉    | 353/590 [01:48<01:08,  3.44it/s]"
          ]
        },
        {
          "name": "stdout",
          "output_type": "stream",
          "text": [
            "Extracted 20 frames from the first 10 seconds of dataset/Celeb-real/id49_0006.mp4\n"
          ]
        },
        {
          "name": "stderr",
          "output_type": "stream",
          "text": [
            "\rProcessing videos in dataset/Celeb-real:  60%|██████    | 354/590 [01:48<01:07,  3.49it/s]"
          ]
        },
        {
          "name": "stdout",
          "output_type": "stream",
          "text": [
            "Extracted 20 frames from the first 10 seconds of dataset/Celeb-real/id33_0008.mp4\n"
          ]
        },
        {
          "name": "stderr",
          "output_type": "stream",
          "text": [
            "\rProcessing videos in dataset/Celeb-real:  60%|██████    | 355/590 [01:48<01:10,  3.33it/s]"
          ]
        },
        {
          "name": "stdout",
          "output_type": "stream",
          "text": [
            "Extracted 20 frames from the first 10 seconds of dataset/Celeb-real/id34_0007.mp4\n"
          ]
        },
        {
          "name": "stderr",
          "output_type": "stream",
          "text": [
            "\rProcessing videos in dataset/Celeb-real:  60%|██████    | 356/590 [01:49<01:07,  3.45it/s]"
          ]
        },
        {
          "name": "stdout",
          "output_type": "stream",
          "text": [
            "Extracted 20 frames from the first 10 seconds of dataset/Celeb-real/id37_0004.mp4\n"
          ]
        },
        {
          "name": "stderr",
          "output_type": "stream",
          "text": [
            "\rProcessing videos in dataset/Celeb-real:  61%|██████    | 357/590 [01:49<01:08,  3.40it/s]"
          ]
        },
        {
          "name": "stdout",
          "output_type": "stream",
          "text": [
            "Extracted 20 frames from the first 10 seconds of dataset/Celeb-real/id6_0008.mp4\n"
          ]
        },
        {
          "name": "stderr",
          "output_type": "stream",
          "text": [
            "\rProcessing videos in dataset/Celeb-real:  61%|██████    | 358/590 [01:49<01:05,  3.54it/s]"
          ]
        },
        {
          "name": "stdout",
          "output_type": "stream",
          "text": [
            "Extracted 20 frames from the first 10 seconds of dataset/Celeb-real/id33_0005.mp4\n"
          ]
        },
        {
          "name": "stderr",
          "output_type": "stream",
          "text": [
            "\rProcessing videos in dataset/Celeb-real:  61%|██████    | 359/590 [01:49<01:03,  3.61it/s]"
          ]
        },
        {
          "name": "stdout",
          "output_type": "stream",
          "text": [
            "Extracted 20 frames from the first 10 seconds of dataset/Celeb-real/id41_0004.mp4\n"
          ]
        },
        {
          "name": "stderr",
          "output_type": "stream",
          "text": [
            "\rProcessing videos in dataset/Celeb-real:  61%|██████    | 360/590 [01:50<01:07,  3.40it/s]"
          ]
        },
        {
          "name": "stdout",
          "output_type": "stream",
          "text": [
            "Extracted 20 frames from the first 10 seconds of dataset/Celeb-real/id12_0005.mp4\n"
          ]
        },
        {
          "name": "stderr",
          "output_type": "stream",
          "text": [
            "Processing videos in dataset/Celeb-real:  61%|██████▏   | 362/590 [01:50<00:59,  3.85it/s]"
          ]
        },
        {
          "name": "stdout",
          "output_type": "stream",
          "text": [
            "Extracted 20 frames from the first 10 seconds of dataset/Celeb-real/id10_0004.mp4\n",
            "Extracted 20 frames from the first 10 seconds of dataset/Celeb-real/id2_0004.mp4\n"
          ]
        },
        {
          "name": "stderr",
          "output_type": "stream",
          "text": [
            "\rProcessing videos in dataset/Celeb-real:  62%|██████▏   | 363/590 [01:50<01:01,  3.69it/s]"
          ]
        },
        {
          "name": "stdout",
          "output_type": "stream",
          "text": [
            "Extracted 20 frames from the first 10 seconds of dataset/Celeb-real/id54_0002.mp4\n"
          ]
        },
        {
          "name": "stderr",
          "output_type": "stream",
          "text": [
            "\rProcessing videos in dataset/Celeb-real:  62%|██████▏   | 364/590 [01:51<00:59,  3.80it/s]"
          ]
        },
        {
          "name": "stdout",
          "output_type": "stream",
          "text": [
            "Extracted 20 frames from the first 10 seconds of dataset/Celeb-real/id20_0002.mp4\n"
          ]
        },
        {
          "name": "stderr",
          "output_type": "stream",
          "text": [
            "\rProcessing videos in dataset/Celeb-real:  62%|██████▏   | 365/590 [01:51<01:05,  3.42it/s]"
          ]
        },
        {
          "name": "stdout",
          "output_type": "stream",
          "text": [
            "Extracted 20 frames from the first 10 seconds of dataset/Celeb-real/id53_0008.mp4\n"
          ]
        },
        {
          "name": "stderr",
          "output_type": "stream",
          "text": [
            "\rProcessing videos in dataset/Celeb-real:  62%|██████▏   | 366/590 [01:51<01:03,  3.54it/s]"
          ]
        },
        {
          "name": "stdout",
          "output_type": "stream",
          "text": [
            "Extracted 20 frames from the first 10 seconds of dataset/Celeb-real/id34_0003.mp4\n"
          ]
        },
        {
          "name": "stderr",
          "output_type": "stream",
          "text": [
            "\rProcessing videos in dataset/Celeb-real:  62%|██████▏   | 367/590 [01:52<01:01,  3.62it/s]"
          ]
        },
        {
          "name": "stdout",
          "output_type": "stream",
          "text": [
            "Extracted 20 frames from the first 10 seconds of dataset/Celeb-real/id7_0002.mp4\n"
          ]
        },
        {
          "name": "stderr",
          "output_type": "stream",
          "text": [
            "\rProcessing videos in dataset/Celeb-real:  62%|██████▏   | 368/590 [01:52<00:59,  3.73it/s]"
          ]
        },
        {
          "name": "stdout",
          "output_type": "stream",
          "text": [
            "Extracted 20 frames from the first 10 seconds of dataset/Celeb-real/id20_0003.mp4\n"
          ]
        },
        {
          "name": "stderr",
          "output_type": "stream",
          "text": [
            "\rProcessing videos in dataset/Celeb-real:  63%|██████▎   | 369/590 [01:52<01:01,  3.57it/s]"
          ]
        },
        {
          "name": "stdout",
          "output_type": "stream",
          "text": [
            "Extracted 20 frames from the first 10 seconds of dataset/Celeb-real/id59_0009.mp4\n"
          ]
        },
        {
          "name": "stderr",
          "output_type": "stream",
          "text": [
            "\rProcessing videos in dataset/Celeb-real:  63%|██████▎   | 370/590 [01:52<01:05,  3.36it/s]"
          ]
        },
        {
          "name": "stdout",
          "output_type": "stream",
          "text": [
            "Extracted 20 frames from the first 10 seconds of dataset/Celeb-real/id8_0008.mp4\n"
          ]
        },
        {
          "name": "stderr",
          "output_type": "stream",
          "text": [
            "\rProcessing videos in dataset/Celeb-real:  63%|██████▎   | 371/590 [01:53<01:15,  2.89it/s]"
          ]
        },
        {
          "name": "stdout",
          "output_type": "stream",
          "text": [
            "Extracted 20 frames from the first 10 seconds of dataset/Celeb-real/id24_0000.mp4\n"
          ]
        },
        {
          "name": "stderr",
          "output_type": "stream",
          "text": [
            "\rProcessing videos in dataset/Celeb-real:  63%|██████▎   | 372/590 [01:53<01:23,  2.60it/s]"
          ]
        },
        {
          "name": "stdout",
          "output_type": "stream",
          "text": [
            "Extracted 20 frames from the first 10 seconds of dataset/Celeb-real/id60_0003.mp4\n"
          ]
        },
        {
          "name": "stderr",
          "output_type": "stream",
          "text": [
            "\rProcessing videos in dataset/Celeb-real:  63%|██████▎   | 373/590 [01:54<01:31,  2.38it/s]"
          ]
        },
        {
          "name": "stdout",
          "output_type": "stream",
          "text": [
            "Extracted 20 frames from the first 10 seconds of dataset/Celeb-real/id49_0007.mp4\n"
          ]
        },
        {
          "name": "stderr",
          "output_type": "stream",
          "text": [
            "\rProcessing videos in dataset/Celeb-real:  63%|██████▎   | 374/590 [01:54<01:28,  2.43it/s]"
          ]
        },
        {
          "name": "stdout",
          "output_type": "stream",
          "text": [
            "Extracted 20 frames from the first 10 seconds of dataset/Celeb-real/id58_0009.mp4\n"
          ]
        },
        {
          "name": "stderr",
          "output_type": "stream",
          "text": [
            "\rProcessing videos in dataset/Celeb-real:  64%|██████▎   | 375/590 [01:55<01:32,  2.32it/s]"
          ]
        },
        {
          "name": "stdout",
          "output_type": "stream",
          "text": [
            "Extracted 20 frames from the first 10 seconds of dataset/Celeb-real/id49_0005.mp4\n"
          ]
        },
        {
          "name": "stderr",
          "output_type": "stream",
          "text": [
            "\rProcessing videos in dataset/Celeb-real:  64%|██████▎   | 376/590 [01:55<01:30,  2.37it/s]"
          ]
        },
        {
          "name": "stdout",
          "output_type": "stream",
          "text": [
            "Extracted 20 frames from the first 10 seconds of dataset/Celeb-real/id39_0006.mp4\n"
          ]
        },
        {
          "name": "stderr",
          "output_type": "stream",
          "text": [
            "\rProcessing videos in dataset/Celeb-real:  64%|██████▍   | 377/590 [01:56<01:28,  2.40it/s]"
          ]
        },
        {
          "name": "stdout",
          "output_type": "stream",
          "text": [
            "Extracted 20 frames from the first 10 seconds of dataset/Celeb-real/id39_0003.mp4\n"
          ]
        },
        {
          "name": "stderr",
          "output_type": "stream",
          "text": [
            "\rProcessing videos in dataset/Celeb-real:  64%|██████▍   | 378/590 [01:56<01:28,  2.39it/s]"
          ]
        },
        {
          "name": "stdout",
          "output_type": "stream",
          "text": [
            "Extracted 20 frames from the first 10 seconds of dataset/Celeb-real/id45_0004.mp4\n"
          ]
        },
        {
          "name": "stderr",
          "output_type": "stream",
          "text": [
            "\rProcessing videos in dataset/Celeb-real:  64%|██████▍   | 379/590 [01:57<01:32,  2.27it/s]"
          ]
        },
        {
          "name": "stdout",
          "output_type": "stream",
          "text": [
            "Extracted 20 frames from the first 10 seconds of dataset/Celeb-real/id4_0004.mp4\n"
          ]
        },
        {
          "name": "stderr",
          "output_type": "stream",
          "text": [
            "\rProcessing videos in dataset/Celeb-real:  64%|██████▍   | 380/590 [01:57<01:22,  2.55it/s]"
          ]
        },
        {
          "name": "stdout",
          "output_type": "stream",
          "text": [
            "Extracted 20 frames from the first 10 seconds of dataset/Celeb-real/id31_0000.mp4\n"
          ]
        },
        {
          "name": "stderr",
          "output_type": "stream",
          "text": [
            "\rProcessing videos in dataset/Celeb-real:  65%|██████▍   | 381/590 [01:57<01:15,  2.77it/s]"
          ]
        },
        {
          "name": "stdout",
          "output_type": "stream",
          "text": [
            "Extracted 20 frames from the first 10 seconds of dataset/Celeb-real/id4_0007.mp4\n"
          ]
        },
        {
          "name": "stderr",
          "output_type": "stream",
          "text": [
            "\rProcessing videos in dataset/Celeb-real:  65%|██████▍   | 382/590 [01:57<01:08,  3.05it/s]"
          ]
        },
        {
          "name": "stdout",
          "output_type": "stream",
          "text": [
            "Extracted 20 frames from the first 10 seconds of dataset/Celeb-real/id54_0003.mp4\n"
          ]
        },
        {
          "name": "stderr",
          "output_type": "stream",
          "text": [
            "\rProcessing videos in dataset/Celeb-real:  65%|██████▍   | 383/590 [01:58<01:02,  3.30it/s]"
          ]
        },
        {
          "name": "stdout",
          "output_type": "stream",
          "text": [
            "Extracted 20 frames from the first 10 seconds of dataset/Celeb-real/id60_0004.mp4\n"
          ]
        },
        {
          "name": "stderr",
          "output_type": "stream",
          "text": [
            "\rProcessing videos in dataset/Celeb-real:  65%|██████▌   | 384/590 [01:58<01:01,  3.37it/s]"
          ]
        },
        {
          "name": "stdout",
          "output_type": "stream",
          "text": [
            "Extracted 20 frames from the first 10 seconds of dataset/Celeb-real/id41_0007.mp4\n"
          ]
        },
        {
          "name": "stderr",
          "output_type": "stream",
          "text": [
            "\rProcessing videos in dataset/Celeb-real:  65%|██████▌   | 385/590 [01:58<01:05,  3.12it/s]"
          ]
        },
        {
          "name": "stdout",
          "output_type": "stream",
          "text": [
            "Extracted 20 frames from the first 10 seconds of dataset/Celeb-real/id57_0001.mp4\n"
          ]
        },
        {
          "name": "stderr",
          "output_type": "stream",
          "text": [
            "\rProcessing videos in dataset/Celeb-real:  65%|██████▌   | 386/590 [01:59<01:02,  3.27it/s]"
          ]
        },
        {
          "name": "stdout",
          "output_type": "stream",
          "text": [
            "Extracted 20 frames from the first 10 seconds of dataset/Celeb-real/id44_0005.mp4\n"
          ]
        },
        {
          "name": "stderr",
          "output_type": "stream",
          "text": [
            "\rProcessing videos in dataset/Celeb-real:  66%|██████▌   | 387/590 [01:59<01:01,  3.30it/s]"
          ]
        },
        {
          "name": "stdout",
          "output_type": "stream",
          "text": [
            "Extracted 20 frames from the first 10 seconds of dataset/Celeb-real/id55_0008.mp4\n"
          ]
        },
        {
          "name": "stderr",
          "output_type": "stream",
          "text": [
            "\rProcessing videos in dataset/Celeb-real:  66%|██████▌   | 388/590 [01:59<00:57,  3.50it/s]"
          ]
        },
        {
          "name": "stdout",
          "output_type": "stream",
          "text": [
            "Extracted 20 frames from the first 10 seconds of dataset/Celeb-real/id56_0005.mp4\n"
          ]
        },
        {
          "name": "stderr",
          "output_type": "stream",
          "text": [
            "\rProcessing videos in dataset/Celeb-real:  66%|██████▌   | 389/590 [01:59<00:57,  3.50it/s]"
          ]
        },
        {
          "name": "stdout",
          "output_type": "stream",
          "text": [
            "Extracted 20 frames from the first 10 seconds of dataset/Celeb-real/id4_0000.mp4\n"
          ]
        },
        {
          "name": "stderr",
          "output_type": "stream",
          "text": [
            "\rProcessing videos in dataset/Celeb-real:  66%|██████▌   | 390/590 [02:00<00:57,  3.48it/s]"
          ]
        },
        {
          "name": "stdout",
          "output_type": "stream",
          "text": [
            "Extracted 20 frames from the first 10 seconds of dataset/Celeb-real/id9_0002.mp4\n"
          ]
        },
        {
          "name": "stderr",
          "output_type": "stream",
          "text": [
            "\rProcessing videos in dataset/Celeb-real:  66%|██████▋   | 391/590 [02:00<00:57,  3.49it/s]"
          ]
        },
        {
          "name": "stdout",
          "output_type": "stream",
          "text": [
            "Extracted 20 frames from the first 10 seconds of dataset/Celeb-real/id37_0007.mp4\n"
          ]
        },
        {
          "name": "stderr",
          "output_type": "stream",
          "text": [
            "\rProcessing videos in dataset/Celeb-real:  66%|██████▋   | 392/590 [02:00<00:52,  3.80it/s]"
          ]
        },
        {
          "name": "stdout",
          "output_type": "stream",
          "text": [
            "Extracted 20 frames from the first 10 seconds of dataset/Celeb-real/id47_0004.mp4\n"
          ]
        },
        {
          "name": "stderr",
          "output_type": "stream",
          "text": [
            "\rProcessing videos in dataset/Celeb-real:  67%|██████▋   | 393/590 [02:01<01:00,  3.28it/s]"
          ]
        },
        {
          "name": "stdout",
          "output_type": "stream",
          "text": [
            "Extracted 20 frames from the first 10 seconds of dataset/Celeb-real/id38_0005.mp4\n"
          ]
        },
        {
          "name": "stderr",
          "output_type": "stream",
          "text": [
            "\rProcessing videos in dataset/Celeb-real:  67%|██████▋   | 394/590 [02:01<01:05,  2.97it/s]"
          ]
        },
        {
          "name": "stdout",
          "output_type": "stream",
          "text": [
            "Extracted 20 frames from the first 10 seconds of dataset/Celeb-real/id13_0012.mp4\n"
          ]
        },
        {
          "name": "stderr",
          "output_type": "stream",
          "text": [
            "\rProcessing videos in dataset/Celeb-real:  67%|██████▋   | 395/590 [02:01<01:09,  2.81it/s]"
          ]
        },
        {
          "name": "stdout",
          "output_type": "stream",
          "text": [
            "Extracted 20 frames from the first 10 seconds of dataset/Celeb-real/id28_0004.mp4\n"
          ]
        },
        {
          "name": "stderr",
          "output_type": "stream",
          "text": [
            "\rProcessing videos in dataset/Celeb-real:  67%|██████▋   | 396/590 [02:02<01:07,  2.86it/s]"
          ]
        },
        {
          "name": "stdout",
          "output_type": "stream",
          "text": [
            "Extracted 20 frames from the first 10 seconds of dataset/Celeb-real/id1_0003.mp4\n"
          ]
        },
        {
          "name": "stderr",
          "output_type": "stream",
          "text": [
            "\rProcessing videos in dataset/Celeb-real:  67%|██████▋   | 397/590 [02:02<01:06,  2.88it/s]"
          ]
        },
        {
          "name": "stdout",
          "output_type": "stream",
          "text": [
            "Extracted 20 frames from the first 10 seconds of dataset/Celeb-real/id16_0010.mp4\n"
          ]
        },
        {
          "name": "stderr",
          "output_type": "stream",
          "text": [
            "\rProcessing videos in dataset/Celeb-real:  67%|██████▋   | 398/590 [02:02<01:00,  3.19it/s]"
          ]
        },
        {
          "name": "stdout",
          "output_type": "stream",
          "text": [
            "Extracted 20 frames from the first 10 seconds of dataset/Celeb-real/id57_0000.mp4\n"
          ]
        },
        {
          "name": "stderr",
          "output_type": "stream",
          "text": [
            "\rProcessing videos in dataset/Celeb-real:  68%|██████▊   | 399/590 [02:03<00:57,  3.35it/s]"
          ]
        },
        {
          "name": "stdout",
          "output_type": "stream",
          "text": [
            "Extracted 20 frames from the first 10 seconds of dataset/Celeb-real/id41_0006.mp4\n"
          ]
        },
        {
          "name": "stderr",
          "output_type": "stream",
          "text": [
            "\rProcessing videos in dataset/Celeb-real:  68%|██████▊   | 400/590 [02:03<00:55,  3.41it/s]"
          ]
        },
        {
          "name": "stdout",
          "output_type": "stream",
          "text": [
            "Extracted 20 frames from the first 10 seconds of dataset/Celeb-real/id41_0001.mp4\n"
          ]
        },
        {
          "name": "stderr",
          "output_type": "stream",
          "text": [
            "\rProcessing videos in dataset/Celeb-real:  68%|██████▊   | 401/590 [02:03<00:56,  3.35it/s]"
          ]
        },
        {
          "name": "stdout",
          "output_type": "stream",
          "text": [
            "Extracted 20 frames from the first 10 seconds of dataset/Celeb-real/id29_0004.mp4\n"
          ]
        },
        {
          "name": "stderr",
          "output_type": "stream",
          "text": [
            "\rProcessing videos in dataset/Celeb-real:  68%|██████▊   | 402/590 [02:03<00:53,  3.51it/s]"
          ]
        },
        {
          "name": "stdout",
          "output_type": "stream",
          "text": [
            "Extracted 20 frames from the first 10 seconds of dataset/Celeb-real/id61_0004.mp4\n"
          ]
        },
        {
          "name": "stderr",
          "output_type": "stream",
          "text": [
            "\rProcessing videos in dataset/Celeb-real:  68%|██████▊   | 403/590 [02:04<00:52,  3.59it/s]"
          ]
        },
        {
          "name": "stdout",
          "output_type": "stream",
          "text": [
            "Extracted 20 frames from the first 10 seconds of dataset/Celeb-real/id30_0003.mp4\n"
          ]
        },
        {
          "name": "stderr",
          "output_type": "stream",
          "text": [
            "\rProcessing videos in dataset/Celeb-real:  68%|██████▊   | 404/590 [02:04<00:52,  3.52it/s]"
          ]
        },
        {
          "name": "stdout",
          "output_type": "stream",
          "text": [
            "Extracted 20 frames from the first 10 seconds of dataset/Celeb-real/id9_0003.mp4\n"
          ]
        },
        {
          "name": "stderr",
          "output_type": "stream",
          "text": [
            "\rProcessing videos in dataset/Celeb-real:  69%|██████▊   | 405/590 [02:04<00:53,  3.47it/s]"
          ]
        },
        {
          "name": "stdout",
          "output_type": "stream",
          "text": [
            "Extracted 20 frames from the first 10 seconds of dataset/Celeb-real/id9_0007.mp4\n"
          ]
        },
        {
          "name": "stderr",
          "output_type": "stream",
          "text": [
            "\rProcessing videos in dataset/Celeb-real:  69%|██████▉   | 406/590 [02:04<00:49,  3.75it/s]"
          ]
        },
        {
          "name": "stdout",
          "output_type": "stream",
          "text": [
            "Extracted 20 frames from the first 10 seconds of dataset/Celeb-real/id47_0007.mp4\n"
          ]
        },
        {
          "name": "stderr",
          "output_type": "stream",
          "text": [
            "\rProcessing videos in dataset/Celeb-real:  69%|██████▉   | 407/590 [02:05<00:49,  3.68it/s]"
          ]
        },
        {
          "name": "stdout",
          "output_type": "stream",
          "text": [
            "Extracted 20 frames from the first 10 seconds of dataset/Celeb-real/id60_0002.mp4\n"
          ]
        },
        {
          "name": "stderr",
          "output_type": "stream",
          "text": [
            "\rProcessing videos in dataset/Celeb-real:  69%|██████▉   | 408/590 [02:05<00:52,  3.49it/s]"
          ]
        },
        {
          "name": "stdout",
          "output_type": "stream",
          "text": [
            "Extracted 20 frames from the first 10 seconds of dataset/Celeb-real/id10_0009.mp4\n"
          ]
        },
        {
          "name": "stderr",
          "output_type": "stream",
          "text": [
            "\rProcessing videos in dataset/Celeb-real:  69%|██████▉   | 409/590 [02:05<00:49,  3.69it/s]"
          ]
        },
        {
          "name": "stdout",
          "output_type": "stream",
          "text": [
            "Extracted 20 frames from the first 10 seconds of dataset/Celeb-real/id43_0004.mp4\n"
          ]
        },
        {
          "name": "stderr",
          "output_type": "stream",
          "text": [
            "\rProcessing videos in dataset/Celeb-real:  69%|██████▉   | 410/590 [02:05<00:45,  3.93it/s]"
          ]
        },
        {
          "name": "stdout",
          "output_type": "stream",
          "text": [
            "Extracted 20 frames from the first 10 seconds of dataset/Celeb-real/id46_0003.mp4\n"
          ]
        },
        {
          "name": "stderr",
          "output_type": "stream",
          "text": [
            "\rProcessing videos in dataset/Celeb-real:  70%|██████▉   | 411/590 [02:06<00:45,  3.92it/s]"
          ]
        },
        {
          "name": "stdout",
          "output_type": "stream",
          "text": [
            "Extracted 20 frames from the first 10 seconds of dataset/Celeb-real/id31_0002.mp4\n"
          ]
        },
        {
          "name": "stderr",
          "output_type": "stream",
          "text": [
            "Processing videos in dataset/Celeb-real:  70%|███████   | 413/590 [02:06<00:43,  4.03it/s]"
          ]
        },
        {
          "name": "stdout",
          "output_type": "stream",
          "text": [
            "Extracted 20 frames from the first 10 seconds of dataset/Celeb-real/id0_0006.mp4\n",
            "Extracted 20 frames from the first 10 seconds of dataset/Celeb-real/id11_0000.mp4\n"
          ]
        },
        {
          "name": "stderr",
          "output_type": "stream",
          "text": [
            "\rProcessing videos in dataset/Celeb-real:  70%|███████   | 414/590 [02:07<00:44,  4.00it/s]"
          ]
        },
        {
          "name": "stdout",
          "output_type": "stream",
          "text": [
            "Extracted 20 frames from the first 10 seconds of dataset/Celeb-real/id50_0001.mp4\n"
          ]
        },
        {
          "name": "stderr",
          "output_type": "stream",
          "text": [
            "\rProcessing videos in dataset/Celeb-real:  70%|███████   | 415/590 [02:07<00:50,  3.47it/s]"
          ]
        },
        {
          "name": "stdout",
          "output_type": "stream",
          "text": [
            "Extracted 20 frames from the first 10 seconds of dataset/Celeb-real/id61_0005.mp4\n"
          ]
        },
        {
          "name": "stderr",
          "output_type": "stream",
          "text": [
            "\rProcessing videos in dataset/Celeb-real:  71%|███████   | 416/590 [02:07<00:55,  3.11it/s]"
          ]
        },
        {
          "name": "stdout",
          "output_type": "stream",
          "text": [
            "Extracted 20 frames from the first 10 seconds of dataset/Celeb-real/id27_0009.mp4\n"
          ]
        },
        {
          "name": "stderr",
          "output_type": "stream",
          "text": [
            "\rProcessing videos in dataset/Celeb-real:  71%|███████   | 417/590 [02:08<00:58,  2.93it/s]"
          ]
        },
        {
          "name": "stdout",
          "output_type": "stream",
          "text": [
            "Extracted 20 frames from the first 10 seconds of dataset/Celeb-real/id20_0004.mp4\n"
          ]
        },
        {
          "name": "stderr",
          "output_type": "stream",
          "text": [
            "\rProcessing videos in dataset/Celeb-real:  71%|███████   | 418/590 [02:08<01:01,  2.81it/s]"
          ]
        },
        {
          "name": "stdout",
          "output_type": "stream",
          "text": [
            "Extracted 20 frames from the first 10 seconds of dataset/Celeb-real/id47_0001.mp4\n"
          ]
        },
        {
          "name": "stderr",
          "output_type": "stream",
          "text": [
            "\rProcessing videos in dataset/Celeb-real:  71%|███████   | 419/590 [02:09<01:07,  2.54it/s]"
          ]
        },
        {
          "name": "stdout",
          "output_type": "stream",
          "text": [
            "Extracted 20 frames from the first 10 seconds of dataset/Celeb-real/id0_0004.mp4\n"
          ]
        },
        {
          "name": "stderr",
          "output_type": "stream",
          "text": [
            "\rProcessing videos in dataset/Celeb-real:  71%|███████   | 420/590 [02:09<01:08,  2.47it/s]"
          ]
        },
        {
          "name": "stdout",
          "output_type": "stream",
          "text": [
            "Extracted 20 frames from the first 10 seconds of dataset/Celeb-real/id32_0001.mp4\n"
          ]
        },
        {
          "name": "stderr",
          "output_type": "stream",
          "text": [
            "\rProcessing videos in dataset/Celeb-real:  71%|███████▏  | 421/590 [02:09<01:08,  2.48it/s]"
          ]
        },
        {
          "name": "stdout",
          "output_type": "stream",
          "text": [
            "Extracted 20 frames from the first 10 seconds of dataset/Celeb-real/id2_0006.mp4\n"
          ]
        },
        {
          "name": "stderr",
          "output_type": "stream",
          "text": [
            "\rProcessing videos in dataset/Celeb-real:  72%|███████▏  | 422/590 [02:10<01:07,  2.47it/s]"
          ]
        },
        {
          "name": "stdout",
          "output_type": "stream",
          "text": [
            "Extracted 20 frames from the first 10 seconds of dataset/Celeb-real/id52_0006.mp4\n"
          ]
        },
        {
          "name": "stderr",
          "output_type": "stream",
          "text": [
            "Processing videos in dataset/Celeb-real:  72%|███████▏  | 424/590 [02:10<00:51,  3.22it/s]"
          ]
        },
        {
          "name": "stdout",
          "output_type": "stream",
          "text": [
            "Extracted 20 frames from the first 10 seconds of dataset/Celeb-real/id17_0001.mp4\n",
            "Extracted 20 frames from the first 10 seconds of dataset/Celeb-real/id21_0005.mp4\n"
          ]
        },
        {
          "name": "stderr",
          "output_type": "stream",
          "text": [
            "\rProcessing videos in dataset/Celeb-real:  72%|███████▏  | 425/590 [02:11<00:50,  3.27it/s]"
          ]
        },
        {
          "name": "stdout",
          "output_type": "stream",
          "text": [
            "Extracted 20 frames from the first 10 seconds of dataset/Celeb-real/id29_0005.mp4\n"
          ]
        },
        {
          "name": "stderr",
          "output_type": "stream",
          "text": [
            "\rProcessing videos in dataset/Celeb-real:  72%|███████▏  | 426/590 [02:11<00:52,  3.15it/s]"
          ]
        },
        {
          "name": "stdout",
          "output_type": "stream",
          "text": [
            "Extracted 20 frames from the first 10 seconds of dataset/Celeb-real/id19_0007.mp4\n"
          ]
        },
        {
          "name": "stderr",
          "output_type": "stream",
          "text": [
            "Processing videos in dataset/Celeb-real:  73%|███████▎  | 428/590 [02:11<00:44,  3.62it/s]"
          ]
        },
        {
          "name": "stdout",
          "output_type": "stream",
          "text": [
            "Extracted 20 frames from the first 10 seconds of dataset/Celeb-real/id38_0002.mp4\n",
            "Extracted 20 frames from the first 10 seconds of dataset/Celeb-real/id24_0006.mp4\n"
          ]
        },
        {
          "name": "stderr",
          "output_type": "stream",
          "text": [
            "\rProcessing videos in dataset/Celeb-real:  73%|███████▎  | 429/590 [02:12<00:42,  3.76it/s]"
          ]
        },
        {
          "name": "stdout",
          "output_type": "stream",
          "text": [
            "Extracted 20 frames from the first 10 seconds of dataset/Celeb-real/id31_0009.mp4\n"
          ]
        },
        {
          "name": "stderr",
          "output_type": "stream",
          "text": [
            "\rProcessing videos in dataset/Celeb-real:  73%|███████▎  | 430/590 [02:12<00:43,  3.67it/s]"
          ]
        },
        {
          "name": "stdout",
          "output_type": "stream",
          "text": [
            "Extracted 20 frames from the first 10 seconds of dataset/Celeb-real/id30_0005.mp4\n"
          ]
        },
        {
          "name": "stderr",
          "output_type": "stream",
          "text": [
            "\rProcessing videos in dataset/Celeb-real:  73%|███████▎  | 431/590 [02:12<00:44,  3.60it/s]"
          ]
        },
        {
          "name": "stdout",
          "output_type": "stream",
          "text": [
            "Extracted 20 frames from the first 10 seconds of dataset/Celeb-real/id61_0000.mp4\n"
          ]
        },
        {
          "name": "stderr",
          "output_type": "stream",
          "text": [
            "\rProcessing videos in dataset/Celeb-real:  73%|███████▎  | 432/590 [02:13<00:50,  3.12it/s]"
          ]
        },
        {
          "name": "stdout",
          "output_type": "stream",
          "text": [
            "Extracted 20 frames from the first 10 seconds of dataset/Celeb-real/id6_0003.mp4\n"
          ]
        },
        {
          "name": "stderr",
          "output_type": "stream",
          "text": [
            "\rProcessing videos in dataset/Celeb-real:  73%|███████▎  | 433/590 [02:13<00:47,  3.30it/s]"
          ]
        },
        {
          "name": "stdout",
          "output_type": "stream",
          "text": [
            "Extracted 20 frames from the first 10 seconds of dataset/Celeb-real/id22_0001.mp4\n"
          ]
        },
        {
          "name": "stderr",
          "output_type": "stream",
          "text": [
            "\rProcessing videos in dataset/Celeb-real:  74%|███████▎  | 434/590 [02:13<00:45,  3.42it/s]"
          ]
        },
        {
          "name": "stdout",
          "output_type": "stream",
          "text": [
            "Extracted 20 frames from the first 10 seconds of dataset/Celeb-real/id30_0002.mp4\n"
          ]
        },
        {
          "name": "stderr",
          "output_type": "stream",
          "text": [
            "\rProcessing videos in dataset/Celeb-real:  74%|███████▎  | 435/590 [02:13<00:44,  3.48it/s]"
          ]
        },
        {
          "name": "stdout",
          "output_type": "stream",
          "text": [
            "Extracted 20 frames from the first 10 seconds of dataset/Celeb-real/id37_0001.mp4\n"
          ]
        },
        {
          "name": "stderr",
          "output_type": "stream",
          "text": [
            "\rProcessing videos in dataset/Celeb-real:  74%|███████▍  | 436/590 [02:14<00:46,  3.34it/s]"
          ]
        },
        {
          "name": "stdout",
          "output_type": "stream",
          "text": [
            "Extracted 20 frames from the first 10 seconds of dataset/Celeb-real/id13_0002.mp4\n"
          ]
        },
        {
          "name": "stderr",
          "output_type": "stream",
          "text": [
            "\rProcessing videos in dataset/Celeb-real:  74%|███████▍  | 437/590 [02:14<00:47,  3.21it/s]"
          ]
        },
        {
          "name": "stdout",
          "output_type": "stream",
          "text": [
            "Extracted 20 frames from the first 10 seconds of dataset/Celeb-real/id9_0001.mp4\n"
          ]
        },
        {
          "name": "stderr",
          "output_type": "stream",
          "text": [
            "\rProcessing videos in dataset/Celeb-real:  74%|███████▍  | 438/590 [02:15<00:53,  2.83it/s]"
          ]
        },
        {
          "name": "stdout",
          "output_type": "stream",
          "text": [
            "Extracted 20 frames from the first 10 seconds of dataset/Celeb-real/id0_0005.mp4\n"
          ]
        },
        {
          "name": "stderr",
          "output_type": "stream",
          "text": [
            "\rProcessing videos in dataset/Celeb-real:  74%|███████▍  | 439/590 [02:15<00:49,  3.05it/s]"
          ]
        },
        {
          "name": "stdout",
          "output_type": "stream",
          "text": [
            "Extracted 20 frames from the first 10 seconds of dataset/Celeb-real/id59_0005.mp4\n"
          ]
        },
        {
          "name": "stderr",
          "output_type": "stream",
          "text": [
            "\rProcessing videos in dataset/Celeb-real:  75%|███████▍  | 440/590 [02:15<00:45,  3.33it/s]"
          ]
        },
        {
          "name": "stdout",
          "output_type": "stream",
          "text": [
            "Extracted 20 frames from the first 10 seconds of dataset/Celeb-real/id56_0006.mp4\n"
          ]
        },
        {
          "name": "stderr",
          "output_type": "stream",
          "text": [
            "\rProcessing videos in dataset/Celeb-real:  75%|███████▍  | 441/590 [02:15<00:43,  3.45it/s]"
          ]
        },
        {
          "name": "stdout",
          "output_type": "stream",
          "text": [
            "Extracted 20 frames from the first 10 seconds of dataset/Celeb-real/id23_0004.mp4\n"
          ]
        },
        {
          "name": "stderr",
          "output_type": "stream",
          "text": [
            "\rProcessing videos in dataset/Celeb-real:  75%|███████▍  | 442/590 [02:16<00:43,  3.39it/s]"
          ]
        },
        {
          "name": "stdout",
          "output_type": "stream",
          "text": [
            "Extracted 20 frames from the first 10 seconds of dataset/Celeb-real/id30_0004.mp4\n"
          ]
        },
        {
          "name": "stderr",
          "output_type": "stream",
          "text": [
            "\rProcessing videos in dataset/Celeb-real:  75%|███████▌  | 443/590 [02:16<00:42,  3.44it/s]"
          ]
        },
        {
          "name": "stdout",
          "output_type": "stream",
          "text": [
            "Extracted 20 frames from the first 10 seconds of dataset/Celeb-real/id53_0001.mp4\n"
          ]
        },
        {
          "name": "stderr",
          "output_type": "stream",
          "text": [
            "Processing videos in dataset/Celeb-real:  75%|███████▌  | 445/590 [02:16<00:37,  3.83it/s]"
          ]
        },
        {
          "name": "stdout",
          "output_type": "stream",
          "text": [
            "Extracted 20 frames from the first 10 seconds of dataset/Celeb-real/id32_0000.mp4\n",
            "Extracted 20 frames from the first 10 seconds of dataset/Celeb-real/id3_0001.mp4\n"
          ]
        },
        {
          "name": "stderr",
          "output_type": "stream",
          "text": [
            "\rProcessing videos in dataset/Celeb-real:  76%|███████▌  | 446/590 [02:17<00:39,  3.68it/s]"
          ]
        },
        {
          "name": "stdout",
          "output_type": "stream",
          "text": [
            "Extracted 20 frames from the first 10 seconds of dataset/Celeb-real/id45_0005.mp4\n"
          ]
        },
        {
          "name": "stderr",
          "output_type": "stream",
          "text": [
            "\rProcessing videos in dataset/Celeb-real:  76%|███████▌  | 447/590 [02:17<00:39,  3.64it/s]"
          ]
        },
        {
          "name": "stdout",
          "output_type": "stream",
          "text": [
            "Extracted 20 frames from the first 10 seconds of dataset/Celeb-real/id61_0001.mp4\n"
          ]
        },
        {
          "name": "stderr",
          "output_type": "stream",
          "text": [
            "\rProcessing videos in dataset/Celeb-real:  76%|███████▌  | 448/590 [02:17<00:38,  3.67it/s]"
          ]
        },
        {
          "name": "stdout",
          "output_type": "stream",
          "text": [
            "Extracted 20 frames from the first 10 seconds of dataset/Celeb-real/id47_0008.mp4\n"
          ]
        },
        {
          "name": "stderr",
          "output_type": "stream",
          "text": [
            "\rProcessing videos in dataset/Celeb-real:  76%|███████▌  | 449/590 [02:18<00:45,  3.10it/s]"
          ]
        },
        {
          "name": "stdout",
          "output_type": "stream",
          "text": [
            "Extracted 20 frames from the first 10 seconds of dataset/Celeb-real/id11_0009.mp4\n"
          ]
        },
        {
          "name": "stderr",
          "output_type": "stream",
          "text": [
            "\rProcessing videos in dataset/Celeb-real:  76%|███████▋  | 450/590 [02:18<00:44,  3.11it/s]"
          ]
        },
        {
          "name": "stdout",
          "output_type": "stream",
          "text": [
            "Extracted 20 frames from the first 10 seconds of dataset/Celeb-real/id54_0009.mp4\n"
          ]
        },
        {
          "name": "stderr",
          "output_type": "stream",
          "text": [
            "Processing videos in dataset/Celeb-real:  77%|███████▋  | 452/590 [02:18<00:35,  3.89it/s]"
          ]
        },
        {
          "name": "stdout",
          "output_type": "stream",
          "text": [
            "Extracted 20 frames from the first 10 seconds of dataset/Celeb-real/id16_0006.mp4\n",
            "Extracted 20 frames from the first 10 seconds of dataset/Celeb-real/id40_0001.mp4\n"
          ]
        },
        {
          "name": "stderr",
          "output_type": "stream",
          "text": [
            "\rProcessing videos in dataset/Celeb-real:  77%|███████▋  | 453/590 [02:19<00:35,  3.82it/s]"
          ]
        },
        {
          "name": "stdout",
          "output_type": "stream",
          "text": [
            "Extracted 20 frames from the first 10 seconds of dataset/Celeb-real/id57_0008.mp4\n"
          ]
        },
        {
          "name": "stderr",
          "output_type": "stream",
          "text": [
            "\rProcessing videos in dataset/Celeb-real:  77%|███████▋  | 454/590 [02:19<00:38,  3.49it/s]"
          ]
        },
        {
          "name": "stdout",
          "output_type": "stream",
          "text": [
            "Extracted 20 frames from the first 10 seconds of dataset/Celeb-real/id16_0013.mp4\n"
          ]
        },
        {
          "name": "stderr",
          "output_type": "stream",
          "text": [
            "\rProcessing videos in dataset/Celeb-real:  77%|███████▋  | 455/590 [02:19<00:40,  3.34it/s]"
          ]
        },
        {
          "name": "stdout",
          "output_type": "stream",
          "text": [
            "Extracted 20 frames from the first 10 seconds of dataset/Celeb-real/id11_0005.mp4\n"
          ]
        },
        {
          "name": "stderr",
          "output_type": "stream",
          "text": [
            "Processing videos in dataset/Celeb-real:  77%|███████▋  | 457/590 [02:20<00:35,  3.70it/s]"
          ]
        },
        {
          "name": "stdout",
          "output_type": "stream",
          "text": [
            "Extracted 20 frames from the first 10 seconds of dataset/Celeb-real/id11_0006.mp4\n",
            "Extracted 20 frames from the first 10 seconds of dataset/Celeb-real/id16_0011.mp4\n"
          ]
        },
        {
          "name": "stderr",
          "output_type": "stream",
          "text": [
            "\rProcessing videos in dataset/Celeb-real:  78%|███████▊  | 458/590 [02:20<00:36,  3.58it/s]"
          ]
        },
        {
          "name": "stdout",
          "output_type": "stream",
          "text": [
            "Extracted 20 frames from the first 10 seconds of dataset/Celeb-real/id51_0009.mp4\n"
          ]
        },
        {
          "name": "stderr",
          "output_type": "stream",
          "text": [
            "\rProcessing videos in dataset/Celeb-real:  78%|███████▊  | 459/590 [02:21<00:43,  3.03it/s]"
          ]
        },
        {
          "name": "stdout",
          "output_type": "stream",
          "text": [
            "Extracted 20 frames from the first 10 seconds of dataset/Celeb-real/id51_0005.mp4\n"
          ]
        },
        {
          "name": "stderr",
          "output_type": "stream",
          "text": [
            "\rProcessing videos in dataset/Celeb-real:  78%|███████▊  | 460/590 [02:21<00:46,  2.81it/s]"
          ]
        },
        {
          "name": "stdout",
          "output_type": "stream",
          "text": [
            "Extracted 20 frames from the first 10 seconds of dataset/Celeb-real/id19_0009.mp4\n"
          ]
        },
        {
          "name": "stderr",
          "output_type": "stream",
          "text": [
            "\rProcessing videos in dataset/Celeb-real:  78%|███████▊  | 461/590 [02:22<00:53,  2.40it/s]"
          ]
        },
        {
          "name": "stdout",
          "output_type": "stream",
          "text": [
            "Extracted 20 frames from the first 10 seconds of dataset/Celeb-real/id8_0006.mp4\n"
          ]
        },
        {
          "name": "stderr",
          "output_type": "stream",
          "text": [
            "\rProcessing videos in dataset/Celeb-real:  78%|███████▊  | 462/590 [02:22<00:56,  2.27it/s]"
          ]
        },
        {
          "name": "stdout",
          "output_type": "stream",
          "text": [
            "Extracted 20 frames from the first 10 seconds of dataset/Celeb-real/id12_0003.mp4\n"
          ]
        },
        {
          "name": "stderr",
          "output_type": "stream",
          "text": [
            "\rProcessing videos in dataset/Celeb-real:  78%|███████▊  | 463/590 [02:22<00:52,  2.42it/s]"
          ]
        },
        {
          "name": "stdout",
          "output_type": "stream",
          "text": [
            "Extracted 20 frames from the first 10 seconds of dataset/Celeb-real/id41_0005.mp4\n"
          ]
        },
        {
          "name": "stderr",
          "output_type": "stream",
          "text": [
            "\rProcessing videos in dataset/Celeb-real:  79%|███████▊  | 464/590 [02:23<00:56,  2.24it/s]"
          ]
        },
        {
          "name": "stdout",
          "output_type": "stream",
          "text": [
            "Extracted 20 frames from the first 10 seconds of dataset/Celeb-real/id10_0002.mp4\n"
          ]
        },
        {
          "name": "stderr",
          "output_type": "stream",
          "text": [
            "\rProcessing videos in dataset/Celeb-real:  79%|███████▉  | 465/590 [02:23<00:55,  2.25it/s]"
          ]
        },
        {
          "name": "stdout",
          "output_type": "stream",
          "text": [
            "Extracted 20 frames from the first 10 seconds of dataset/Celeb-real/id45_0009.mp4\n"
          ]
        },
        {
          "name": "stderr",
          "output_type": "stream",
          "text": [
            "\rProcessing videos in dataset/Celeb-real:  79%|███████▉  | 466/590 [02:24<00:57,  2.14it/s]"
          ]
        },
        {
          "name": "stdout",
          "output_type": "stream",
          "text": [
            "Extracted 20 frames from the first 10 seconds of dataset/Celeb-real/id17_0005.mp4\n"
          ]
        },
        {
          "name": "stderr",
          "output_type": "stream",
          "text": [
            "\rProcessing videos in dataset/Celeb-real:  79%|███████▉  | 467/590 [02:24<00:53,  2.32it/s]"
          ]
        },
        {
          "name": "stdout",
          "output_type": "stream",
          "text": [
            "Extracted 20 frames from the first 10 seconds of dataset/Celeb-real/id28_0008.mp4\n"
          ]
        },
        {
          "name": "stderr",
          "output_type": "stream",
          "text": [
            "Processing videos in dataset/Celeb-real:  79%|███████▉  | 469/590 [02:25<00:39,  3.07it/s]"
          ]
        },
        {
          "name": "stdout",
          "output_type": "stream",
          "text": [
            "Extracted 20 frames from the first 10 seconds of dataset/Celeb-real/id28_0007.mp4\n",
            "Extracted 20 frames from the first 10 seconds of dataset/Celeb-real/id35_0006.mp4\n"
          ]
        },
        {
          "name": "stderr",
          "output_type": "stream",
          "text": [
            "\rProcessing videos in dataset/Celeb-real:  80%|███████▉  | 470/590 [02:25<00:37,  3.20it/s]"
          ]
        },
        {
          "name": "stdout",
          "output_type": "stream",
          "text": [
            "Extracted 20 frames from the first 10 seconds of dataset/Celeb-real/id59_0000.mp4\n"
          ]
        },
        {
          "name": "stderr",
          "output_type": "stream",
          "text": [
            "\rProcessing videos in dataset/Celeb-real:  80%|███████▉  | 471/590 [02:25<00:35,  3.38it/s]"
          ]
        },
        {
          "name": "stdout",
          "output_type": "stream",
          "text": [
            "Extracted 20 frames from the first 10 seconds of dataset/Celeb-real/id13_0004.mp4\n"
          ]
        },
        {
          "name": "stderr",
          "output_type": "stream",
          "text": [
            "\rProcessing videos in dataset/Celeb-real:  80%|████████  | 472/590 [02:26<00:33,  3.48it/s]"
          ]
        },
        {
          "name": "stdout",
          "output_type": "stream",
          "text": [
            "Extracted 20 frames from the first 10 seconds of dataset/Celeb-real/id41_0008.mp4\n"
          ]
        },
        {
          "name": "stderr",
          "output_type": "stream",
          "text": [
            "Processing videos in dataset/Celeb-real:  80%|████████  | 474/590 [02:26<00:29,  3.89it/s]"
          ]
        },
        {
          "name": "stdout",
          "output_type": "stream",
          "text": [
            "Extracted 20 frames from the first 10 seconds of dataset/Celeb-real/id40_0008.mp4\n",
            "Extracted 20 frames from the first 10 seconds of dataset/Celeb-real/id3_0004.mp4\n"
          ]
        },
        {
          "name": "stderr",
          "output_type": "stream",
          "text": [
            "\rProcessing videos in dataset/Celeb-real:  81%|████████  | 475/590 [02:26<00:27,  4.24it/s]"
          ]
        },
        {
          "name": "stdout",
          "output_type": "stream",
          "text": [
            "Extracted 20 frames from the first 10 seconds of dataset/Celeb-real/id42_0001.mp4\n"
          ]
        },
        {
          "name": "stderr",
          "output_type": "stream",
          "text": [
            "Processing videos in dataset/Celeb-real:  81%|████████  | 477/590 [02:27<00:25,  4.40it/s]"
          ]
        },
        {
          "name": "stdout",
          "output_type": "stream",
          "text": [
            "Extracted 20 frames from the first 10 seconds of dataset/Celeb-real/id61_0009.mp4\n",
            "Extracted 20 frames from the first 10 seconds of dataset/Celeb-real/id7_0005.mp4\n"
          ]
        },
        {
          "name": "stderr",
          "output_type": "stream",
          "text": [
            "\rProcessing videos in dataset/Celeb-real:  81%|████████  | 478/590 [02:27<00:27,  4.13it/s]"
          ]
        },
        {
          "name": "stdout",
          "output_type": "stream",
          "text": [
            "Extracted 20 frames from the first 10 seconds of dataset/Celeb-real/id45_0002.mp4\n"
          ]
        },
        {
          "name": "stderr",
          "output_type": "stream",
          "text": [
            "\rProcessing videos in dataset/Celeb-real:  81%|████████  | 479/590 [02:27<00:26,  4.22it/s]"
          ]
        },
        {
          "name": "stdout",
          "output_type": "stream",
          "text": [
            "Extracted 20 frames from the first 10 seconds of dataset/Celeb-real/id59_0001.mp4\n"
          ]
        },
        {
          "name": "stderr",
          "output_type": "stream",
          "text": [
            "\rProcessing videos in dataset/Celeb-real:  81%|████████▏ | 480/590 [02:27<00:28,  3.90it/s]"
          ]
        },
        {
          "name": "stdout",
          "output_type": "stream",
          "text": [
            "Extracted 20 frames from the first 10 seconds of dataset/Celeb-real/id7_0001.mp4\n"
          ]
        },
        {
          "name": "stderr",
          "output_type": "stream",
          "text": [
            "\rProcessing videos in dataset/Celeb-real:  82%|████████▏ | 481/590 [02:28<00:29,  3.72it/s]"
          ]
        },
        {
          "name": "stdout",
          "output_type": "stream",
          "text": [
            "Extracted 20 frames from the first 10 seconds of dataset/Celeb-real/id34_0005.mp4\n"
          ]
        },
        {
          "name": "stderr",
          "output_type": "stream",
          "text": [
            "\rProcessing videos in dataset/Celeb-real:  82%|████████▏ | 482/590 [02:28<00:29,  3.61it/s]"
          ]
        },
        {
          "name": "stdout",
          "output_type": "stream",
          "text": [
            "Extracted 20 frames from the first 10 seconds of dataset/Celeb-real/id55_0001.mp4\n"
          ]
        },
        {
          "name": "stderr",
          "output_type": "stream",
          "text": [
            "\rProcessing videos in dataset/Celeb-real:  82%|████████▏ | 483/590 [02:28<00:32,  3.33it/s]"
          ]
        },
        {
          "name": "stdout",
          "output_type": "stream",
          "text": [
            "Extracted 20 frames from the first 10 seconds of dataset/Celeb-real/id9_0005.mp4\n"
          ]
        },
        {
          "name": "stderr",
          "output_type": "stream",
          "text": [
            "\rProcessing videos in dataset/Celeb-real:  82%|████████▏ | 484/590 [02:29<00:31,  3.35it/s]"
          ]
        },
        {
          "name": "stdout",
          "output_type": "stream",
          "text": [
            "Extracted 20 frames from the first 10 seconds of dataset/Celeb-real/id29_0006.mp4\n"
          ]
        },
        {
          "name": "stderr",
          "output_type": "stream",
          "text": [
            "\rProcessing videos in dataset/Celeb-real:  82%|████████▏ | 485/590 [02:29<00:30,  3.44it/s]"
          ]
        },
        {
          "name": "stdout",
          "output_type": "stream",
          "text": [
            "Extracted 20 frames from the first 10 seconds of dataset/Celeb-real/id40_0002.mp4\n"
          ]
        },
        {
          "name": "stderr",
          "output_type": "stream",
          "text": [
            "\rProcessing videos in dataset/Celeb-real:  82%|████████▏ | 486/590 [02:29<00:30,  3.43it/s]"
          ]
        },
        {
          "name": "stdout",
          "output_type": "stream",
          "text": [
            "Extracted 20 frames from the first 10 seconds of dataset/Celeb-real/id56_0003.mp4\n"
          ]
        },
        {
          "name": "stderr",
          "output_type": "stream",
          "text": [
            "\rProcessing videos in dataset/Celeb-real:  83%|████████▎ | 487/590 [02:30<00:30,  3.37it/s]"
          ]
        },
        {
          "name": "stdout",
          "output_type": "stream",
          "text": [
            "Extracted 20 frames from the first 10 seconds of dataset/Celeb-real/id53_0002.mp4\n"
          ]
        },
        {
          "name": "stderr",
          "output_type": "stream",
          "text": [
            "\rProcessing videos in dataset/Celeb-real:  83%|████████▎ | 488/590 [02:30<00:28,  3.63it/s]"
          ]
        },
        {
          "name": "stdout",
          "output_type": "stream",
          "text": [
            "Extracted 20 frames from the first 10 seconds of dataset/Celeb-real/id19_0006.mp4\n"
          ]
        },
        {
          "name": "stderr",
          "output_type": "stream",
          "text": [
            "\rProcessing videos in dataset/Celeb-real:  83%|████████▎ | 489/590 [02:30<00:27,  3.68it/s]"
          ]
        },
        {
          "name": "stdout",
          "output_type": "stream",
          "text": [
            "Extracted 20 frames from the first 10 seconds of dataset/Celeb-real/id50_0009.mp4\n"
          ]
        },
        {
          "name": "stderr",
          "output_type": "stream",
          "text": [
            "\rProcessing videos in dataset/Celeb-real:  83%|████████▎ | 490/590 [02:30<00:28,  3.57it/s]"
          ]
        },
        {
          "name": "stdout",
          "output_type": "stream",
          "text": [
            "Extracted 20 frames from the first 10 seconds of dataset/Celeb-real/id25_0001.mp4\n"
          ]
        },
        {
          "name": "stderr",
          "output_type": "stream",
          "text": [
            "\rProcessing videos in dataset/Celeb-real:  83%|████████▎ | 491/590 [02:31<00:26,  3.74it/s]"
          ]
        },
        {
          "name": "stdout",
          "output_type": "stream",
          "text": [
            "Extracted 20 frames from the first 10 seconds of dataset/Celeb-real/id47_0000.mp4\n"
          ]
        },
        {
          "name": "stderr",
          "output_type": "stream",
          "text": [
            "\rProcessing videos in dataset/Celeb-real:  83%|████████▎ | 492/590 [02:31<00:26,  3.72it/s]"
          ]
        },
        {
          "name": "stdout",
          "output_type": "stream",
          "text": [
            "Extracted 20 frames from the first 10 seconds of dataset/Celeb-real/id50_0003.mp4\n"
          ]
        },
        {
          "name": "stderr",
          "output_type": "stream",
          "text": [
            "\rProcessing videos in dataset/Celeb-real:  84%|████████▎ | 493/590 [02:31<00:26,  3.61it/s]"
          ]
        },
        {
          "name": "stdout",
          "output_type": "stream",
          "text": [
            "Extracted 20 frames from the first 10 seconds of dataset/Celeb-real/id22_0009.mp4\n"
          ]
        },
        {
          "name": "stderr",
          "output_type": "stream",
          "text": [
            "\rProcessing videos in dataset/Celeb-real:  84%|████████▎ | 494/590 [02:32<00:30,  3.16it/s]"
          ]
        },
        {
          "name": "stdout",
          "output_type": "stream",
          "text": [
            "Extracted 20 frames from the first 10 seconds of dataset/Celeb-real/id34_0004.mp4\n"
          ]
        },
        {
          "name": "stderr",
          "output_type": "stream",
          "text": [
            "\rProcessing videos in dataset/Celeb-real:  84%|████████▍ | 495/590 [02:32<00:29,  3.23it/s]"
          ]
        },
        {
          "name": "stdout",
          "output_type": "stream",
          "text": [
            "Extracted 20 frames from the first 10 seconds of dataset/Celeb-real/id29_0008.mp4\n"
          ]
        },
        {
          "name": "stderr",
          "output_type": "stream",
          "text": [
            "\rProcessing videos in dataset/Celeb-real:  84%|████████▍ | 496/590 [02:32<00:28,  3.25it/s]"
          ]
        },
        {
          "name": "stdout",
          "output_type": "stream",
          "text": [
            "Extracted 20 frames from the first 10 seconds of dataset/Celeb-real/id8_0001.mp4\n"
          ]
        },
        {
          "name": "stderr",
          "output_type": "stream",
          "text": [
            "\rProcessing videos in dataset/Celeb-real:  84%|████████▍ | 497/590 [02:32<00:27,  3.37it/s]"
          ]
        },
        {
          "name": "stdout",
          "output_type": "stream",
          "text": [
            "Extracted 20 frames from the first 10 seconds of dataset/Celeb-real/id21_0002.mp4\n"
          ]
        },
        {
          "name": "stderr",
          "output_type": "stream",
          "text": [
            "\rProcessing videos in dataset/Celeb-real:  84%|████████▍ | 498/590 [02:33<00:26,  3.45it/s]"
          ]
        },
        {
          "name": "stdout",
          "output_type": "stream",
          "text": [
            "Extracted 20 frames from the first 10 seconds of dataset/Celeb-real/id43_0008.mp4\n"
          ]
        },
        {
          "name": "stderr",
          "output_type": "stream",
          "text": [
            "\rProcessing videos in dataset/Celeb-real:  85%|████████▍ | 499/590 [02:33<00:26,  3.40it/s]"
          ]
        },
        {
          "name": "stdout",
          "output_type": "stream",
          "text": [
            "Extracted 20 frames from the first 10 seconds of dataset/Celeb-real/id60_0006.mp4\n"
          ]
        },
        {
          "name": "stderr",
          "output_type": "stream",
          "text": [
            "\rProcessing videos in dataset/Celeb-real:  85%|████████▍ | 500/590 [02:33<00:25,  3.58it/s]"
          ]
        },
        {
          "name": "stdout",
          "output_type": "stream",
          "text": [
            "Extracted 20 frames from the first 10 seconds of dataset/Celeb-real/id22_0006.mp4\n"
          ]
        },
        {
          "name": "stderr",
          "output_type": "stream",
          "text": [
            "\rProcessing videos in dataset/Celeb-real:  85%|████████▍ | 501/590 [02:34<00:24,  3.67it/s]"
          ]
        },
        {
          "name": "stdout",
          "output_type": "stream",
          "text": [
            "Extracted 20 frames from the first 10 seconds of dataset/Celeb-real/id35_0001.mp4\n"
          ]
        },
        {
          "name": "stderr",
          "output_type": "stream",
          "text": [
            "\rProcessing videos in dataset/Celeb-real:  85%|████████▌ | 502/590 [02:34<00:23,  3.74it/s]"
          ]
        },
        {
          "name": "stdout",
          "output_type": "stream",
          "text": [
            "Extracted 20 frames from the first 10 seconds of dataset/Celeb-real/id28_0005.mp4\n"
          ]
        },
        {
          "name": "stderr",
          "output_type": "stream",
          "text": [
            "\rProcessing videos in dataset/Celeb-real:  85%|████████▌ | 503/590 [02:34<00:23,  3.75it/s]"
          ]
        },
        {
          "name": "stdout",
          "output_type": "stream",
          "text": [
            "Extracted 20 frames from the first 10 seconds of dataset/Celeb-real/id42_0004.mp4\n"
          ]
        },
        {
          "name": "stderr",
          "output_type": "stream",
          "text": [
            "\rProcessing videos in dataset/Celeb-real:  85%|████████▌ | 504/590 [02:34<00:25,  3.33it/s]"
          ]
        },
        {
          "name": "stdout",
          "output_type": "stream",
          "text": [
            "Extracted 20 frames from the first 10 seconds of dataset/Celeb-real/id26_0007.mp4\n"
          ]
        },
        {
          "name": "stderr",
          "output_type": "stream",
          "text": [
            "\rProcessing videos in dataset/Celeb-real:  86%|████████▌ | 505/590 [02:35<00:28,  2.97it/s]"
          ]
        },
        {
          "name": "stdout",
          "output_type": "stream",
          "text": [
            "Extracted 20 frames from the first 10 seconds of dataset/Celeb-real/id53_0004.mp4\n"
          ]
        },
        {
          "name": "stderr",
          "output_type": "stream",
          "text": [
            "\rProcessing videos in dataset/Celeb-real:  86%|████████▌ | 506/590 [02:35<00:31,  2.67it/s]"
          ]
        },
        {
          "name": "stdout",
          "output_type": "stream",
          "text": [
            "Extracted 20 frames from the first 10 seconds of dataset/Celeb-real/id11_0008.mp4\n"
          ]
        },
        {
          "name": "stderr",
          "output_type": "stream",
          "text": [
            "\rProcessing videos in dataset/Celeb-real:  86%|████████▌ | 507/590 [02:36<00:33,  2.51it/s]"
          ]
        },
        {
          "name": "stdout",
          "output_type": "stream",
          "text": [
            "Extracted 20 frames from the first 10 seconds of dataset/Celeb-real/id7_0008.mp4\n"
          ]
        },
        {
          "name": "stderr",
          "output_type": "stream",
          "text": [
            "\rProcessing videos in dataset/Celeb-real:  86%|████████▌ | 508/590 [02:36<00:32,  2.50it/s]"
          ]
        },
        {
          "name": "stdout",
          "output_type": "stream",
          "text": [
            "Extracted 20 frames from the first 10 seconds of dataset/Celeb-real/id20_0000.mp4\n"
          ]
        },
        {
          "name": "stderr",
          "output_type": "stream",
          "text": [
            "\rProcessing videos in dataset/Celeb-real:  86%|████████▋ | 509/590 [02:36<00:31,  2.61it/s]"
          ]
        },
        {
          "name": "stdout",
          "output_type": "stream",
          "text": [
            "Extracted 20 frames from the first 10 seconds of dataset/Celeb-real/id25_0008.mp4\n"
          ]
        },
        {
          "name": "stderr",
          "output_type": "stream",
          "text": [
            "\rProcessing videos in dataset/Celeb-real:  86%|████████▋ | 510/590 [02:37<00:31,  2.58it/s]"
          ]
        },
        {
          "name": "stdout",
          "output_type": "stream",
          "text": [
            "Extracted 20 frames from the first 10 seconds of dataset/Celeb-real/id44_0001.mp4\n"
          ]
        },
        {
          "name": "stderr",
          "output_type": "stream",
          "text": [
            "Processing videos in dataset/Celeb-real:  87%|████████▋ | 512/590 [02:38<00:25,  3.02it/s]"
          ]
        },
        {
          "name": "stdout",
          "output_type": "stream",
          "text": [
            "Extracted 20 frames from the first 10 seconds of dataset/Celeb-real/id13_0000.mp4\n",
            "Extracted 20 frames from the first 10 seconds of dataset/Celeb-real/id21_0003.mp4\n"
          ]
        },
        {
          "name": "stderr",
          "output_type": "stream",
          "text": [
            "\rProcessing videos in dataset/Celeb-real:  87%|████████▋ | 513/590 [02:38<00:24,  3.13it/s]"
          ]
        },
        {
          "name": "stdout",
          "output_type": "stream",
          "text": [
            "Extracted 20 frames from the first 10 seconds of dataset/Celeb-real/id5_0000.mp4\n"
          ]
        },
        {
          "name": "stderr",
          "output_type": "stream",
          "text": [
            "\rProcessing videos in dataset/Celeb-real:  87%|████████▋ | 514/590 [02:38<00:23,  3.20it/s]"
          ]
        },
        {
          "name": "stdout",
          "output_type": "stream",
          "text": [
            "Extracted 20 frames from the first 10 seconds of dataset/Celeb-real/id33_0000.mp4\n"
          ]
        },
        {
          "name": "stderr",
          "output_type": "stream",
          "text": [
            "\rProcessing videos in dataset/Celeb-real:  87%|████████▋ | 515/590 [02:38<00:21,  3.42it/s]"
          ]
        },
        {
          "name": "stdout",
          "output_type": "stream",
          "text": [
            "Extracted 20 frames from the first 10 seconds of dataset/Celeb-real/id28_0009.mp4\n"
          ]
        },
        {
          "name": "stderr",
          "output_type": "stream",
          "text": [
            "Processing videos in dataset/Celeb-real:  88%|████████▊ | 517/590 [02:39<00:17,  4.25it/s]"
          ]
        },
        {
          "name": "stdout",
          "output_type": "stream",
          "text": [
            "Extracted 20 frames from the first 10 seconds of dataset/Celeb-real/id23_0006.mp4\n",
            "Extracted 20 frames from the first 10 seconds of dataset/Celeb-real/id1_0004.mp4\n"
          ]
        },
        {
          "name": "stderr",
          "output_type": "stream",
          "text": [
            "\rProcessing videos in dataset/Celeb-real:  88%|████████▊ | 518/590 [02:39<00:16,  4.25it/s]"
          ]
        },
        {
          "name": "stdout",
          "output_type": "stream",
          "text": [
            "Extracted 20 frames from the first 10 seconds of dataset/Celeb-real/id48_0007.mp4\n"
          ]
        },
        {
          "name": "stderr",
          "output_type": "stream",
          "text": [
            "\rProcessing videos in dataset/Celeb-real:  88%|████████▊ | 519/590 [02:39<00:19,  3.69it/s]"
          ]
        },
        {
          "name": "stdout",
          "output_type": "stream",
          "text": [
            "Extracted 20 frames from the first 10 seconds of dataset/Celeb-real/id50_0006.mp4\n"
          ]
        },
        {
          "name": "stderr",
          "output_type": "stream",
          "text": [
            "\rProcessing videos in dataset/Celeb-real:  88%|████████▊ | 520/590 [02:40<00:18,  3.75it/s]"
          ]
        },
        {
          "name": "stdout",
          "output_type": "stream",
          "text": [
            "Extracted 20 frames from the first 10 seconds of dataset/Celeb-real/id42_0003.mp4\n"
          ]
        },
        {
          "name": "stderr",
          "output_type": "stream",
          "text": [
            "\rProcessing videos in dataset/Celeb-real:  88%|████████▊ | 521/590 [02:40<00:18,  3.81it/s]"
          ]
        },
        {
          "name": "stdout",
          "output_type": "stream",
          "text": [
            "Extracted 20 frames from the first 10 seconds of dataset/Celeb-real/id46_0005.mp4\n"
          ]
        },
        {
          "name": "stderr",
          "output_type": "stream",
          "text": [
            "\rProcessing videos in dataset/Celeb-real:  88%|████████▊ | 522/590 [02:40<00:17,  3.90it/s]"
          ]
        },
        {
          "name": "stdout",
          "output_type": "stream",
          "text": [
            "Extracted 20 frames from the first 10 seconds of dataset/Celeb-real/id29_0007.mp4\n"
          ]
        },
        {
          "name": "stderr",
          "output_type": "stream",
          "text": [
            "\rProcessing videos in dataset/Celeb-real:  89%|████████▊ | 523/590 [02:40<00:16,  3.95it/s]"
          ]
        },
        {
          "name": "stdout",
          "output_type": "stream",
          "text": [
            "Extracted 20 frames from the first 10 seconds of dataset/Celeb-real/id28_0003.mp4\n"
          ]
        },
        {
          "name": "stderr",
          "output_type": "stream",
          "text": [
            "\rProcessing videos in dataset/Celeb-real:  89%|████████▉ | 524/590 [02:41<00:17,  3.85it/s]"
          ]
        },
        {
          "name": "stdout",
          "output_type": "stream",
          "text": [
            "Extracted 20 frames from the first 10 seconds of dataset/Celeb-real/id38_0000.mp4\n"
          ]
        },
        {
          "name": "stderr",
          "output_type": "stream",
          "text": [
            "\rProcessing videos in dataset/Celeb-real:  89%|████████▉ | 525/590 [02:41<00:15,  4.10it/s]"
          ]
        },
        {
          "name": "stdout",
          "output_type": "stream",
          "text": [
            "Extracted 20 frames from the first 10 seconds of dataset/Celeb-real/id44_0000.mp4\n"
          ]
        },
        {
          "name": "stderr",
          "output_type": "stream",
          "text": [
            "\rProcessing videos in dataset/Celeb-real:  89%|████████▉ | 526/590 [02:41<00:15,  4.03it/s]"
          ]
        },
        {
          "name": "stdout",
          "output_type": "stream",
          "text": [
            "Extracted 20 frames from the first 10 seconds of dataset/Celeb-real/id30_0006.mp4\n"
          ]
        },
        {
          "name": "stderr",
          "output_type": "stream",
          "text": [
            "\rProcessing videos in dataset/Celeb-real:  89%|████████▉ | 527/590 [02:41<00:16,  3.91it/s]"
          ]
        },
        {
          "name": "stdout",
          "output_type": "stream",
          "text": [
            "Extracted 20 frames from the first 10 seconds of dataset/Celeb-real/id16_0002.mp4\n"
          ]
        },
        {
          "name": "stderr",
          "output_type": "stream",
          "text": [
            "\rProcessing videos in dataset/Celeb-real:  89%|████████▉ | 528/590 [02:42<00:17,  3.56it/s]"
          ]
        },
        {
          "name": "stdout",
          "output_type": "stream",
          "text": [
            "Extracted 20 frames from the first 10 seconds of dataset/Celeb-real/id8_0007.mp4\n"
          ]
        },
        {
          "name": "stderr",
          "output_type": "stream",
          "text": [
            "\rProcessing videos in dataset/Celeb-real:  90%|████████▉ | 529/590 [02:42<00:17,  3.47it/s]"
          ]
        },
        {
          "name": "stdout",
          "output_type": "stream",
          "text": [
            "Extracted 20 frames from the first 10 seconds of dataset/Celeb-real/id11_0003.mp4\n"
          ]
        },
        {
          "name": "stderr",
          "output_type": "stream",
          "text": [
            "\rProcessing videos in dataset/Celeb-real:  90%|████████▉ | 530/590 [02:42<00:16,  3.63it/s]"
          ]
        },
        {
          "name": "stdout",
          "output_type": "stream",
          "text": [
            "Extracted 20 frames from the first 10 seconds of dataset/Celeb-real/id33_0003.mp4\n"
          ]
        },
        {
          "name": "stderr",
          "output_type": "stream",
          "text": [
            "\rProcessing videos in dataset/Celeb-real:  90%|█████████ | 531/590 [02:42<00:15,  3.83it/s]"
          ]
        },
        {
          "name": "stdout",
          "output_type": "stream",
          "text": [
            "Extracted 20 frames from the first 10 seconds of dataset/Celeb-real/id24_0005.mp4\n"
          ]
        },
        {
          "name": "stderr",
          "output_type": "stream",
          "text": [
            "\rProcessing videos in dataset/Celeb-real:  90%|█████████ | 532/590 [02:43<00:15,  3.78it/s]"
          ]
        },
        {
          "name": "stdout",
          "output_type": "stream",
          "text": [
            "Extracted 20 frames from the first 10 seconds of dataset/Celeb-real/id22_0004.mp4\n"
          ]
        },
        {
          "name": "stderr",
          "output_type": "stream",
          "text": [
            "\rProcessing videos in dataset/Celeb-real:  90%|█████████ | 533/590 [02:43<00:14,  3.91it/s]"
          ]
        },
        {
          "name": "stdout",
          "output_type": "stream",
          "text": [
            "Extracted 20 frames from the first 10 seconds of dataset/Celeb-real/id20_0009.mp4\n"
          ]
        },
        {
          "name": "stderr",
          "output_type": "stream",
          "text": [
            "\rProcessing videos in dataset/Celeb-real:  91%|█████████ | 534/590 [02:43<00:15,  3.65it/s]"
          ]
        },
        {
          "name": "stdout",
          "output_type": "stream",
          "text": [
            "Extracted 20 frames from the first 10 seconds of dataset/Celeb-real/id55_0005.mp4\n"
          ]
        },
        {
          "name": "stderr",
          "output_type": "stream",
          "text": [
            "\rProcessing videos in dataset/Celeb-real:  91%|█████████ | 535/590 [02:44<00:14,  3.69it/s]"
          ]
        },
        {
          "name": "stdout",
          "output_type": "stream",
          "text": [
            "Extracted 20 frames from the first 10 seconds of dataset/Celeb-real/id42_0002.mp4\n"
          ]
        },
        {
          "name": "stderr",
          "output_type": "stream",
          "text": [
            "\rProcessing videos in dataset/Celeb-real:  91%|█████████ | 536/590 [02:44<00:13,  3.88it/s]"
          ]
        },
        {
          "name": "stdout",
          "output_type": "stream",
          "text": [
            "Extracted 20 frames from the first 10 seconds of dataset/Celeb-real/id2_0000.mp4\n"
          ]
        },
        {
          "name": "stderr",
          "output_type": "stream",
          "text": [
            "\rProcessing videos in dataset/Celeb-real:  91%|█████████ | 537/590 [02:44<00:13,  3.93it/s]"
          ]
        },
        {
          "name": "stdout",
          "output_type": "stream",
          "text": [
            "Extracted 20 frames from the first 10 seconds of dataset/Celeb-real/id48_0002.mp4\n"
          ]
        },
        {
          "name": "stderr",
          "output_type": "stream",
          "text": [
            "Processing videos in dataset/Celeb-real:  91%|█████████▏| 539/590 [02:44<00:11,  4.37it/s]"
          ]
        },
        {
          "name": "stdout",
          "output_type": "stream",
          "text": [
            "Extracted 20 frames from the first 10 seconds of dataset/Celeb-real/id31_0007.mp4\n",
            "Extracted 20 frames from the first 10 seconds of dataset/Celeb-real/id17_0003.mp4\n"
          ]
        },
        {
          "name": "stderr",
          "output_type": "stream",
          "text": [
            "\rProcessing videos in dataset/Celeb-real:  92%|█████████▏| 540/590 [02:45<00:12,  3.87it/s]"
          ]
        },
        {
          "name": "stdout",
          "output_type": "stream",
          "text": [
            "Extracted 20 frames from the first 10 seconds of dataset/Celeb-real/id9_0006.mp4\n"
          ]
        },
        {
          "name": "stderr",
          "output_type": "stream",
          "text": [
            "\rProcessing videos in dataset/Celeb-real:  92%|█████████▏| 541/590 [02:45<00:12,  3.93it/s]"
          ]
        },
        {
          "name": "stdout",
          "output_type": "stream",
          "text": [
            "Extracted 20 frames from the first 10 seconds of dataset/Celeb-real/id33_0007.mp4\n"
          ]
        },
        {
          "name": "stderr",
          "output_type": "stream",
          "text": [
            "\rProcessing videos in dataset/Celeb-real:  92%|█████████▏| 542/590 [02:45<00:11,  4.01it/s]"
          ]
        },
        {
          "name": "stdout",
          "output_type": "stream",
          "text": [
            "Extracted 20 frames from the first 10 seconds of dataset/Celeb-real/id3_0007.mp4\n"
          ]
        },
        {
          "name": "stderr",
          "output_type": "stream",
          "text": [
            "\rProcessing videos in dataset/Celeb-real:  92%|█████████▏| 543/590 [02:45<00:11,  3.93it/s]"
          ]
        },
        {
          "name": "stdout",
          "output_type": "stream",
          "text": [
            "Extracted 20 frames from the first 10 seconds of dataset/Celeb-real/id29_0003.mp4\n"
          ]
        },
        {
          "name": "stderr",
          "output_type": "stream",
          "text": [
            "\rProcessing videos in dataset/Celeb-real:  92%|█████████▏| 544/590 [02:46<00:12,  3.67it/s]"
          ]
        },
        {
          "name": "stdout",
          "output_type": "stream",
          "text": [
            "Extracted 20 frames from the first 10 seconds of dataset/Celeb-real/id9_0000.mp4\n"
          ]
        },
        {
          "name": "stderr",
          "output_type": "stream",
          "text": [
            "\rProcessing videos in dataset/Celeb-real:  92%|█████████▏| 545/590 [02:46<00:11,  3.77it/s]"
          ]
        },
        {
          "name": "stdout",
          "output_type": "stream",
          "text": [
            "Extracted 20 frames from the first 10 seconds of dataset/Celeb-real/id23_0007.mp4\n"
          ]
        },
        {
          "name": "stderr",
          "output_type": "stream",
          "text": [
            "\rProcessing videos in dataset/Celeb-real:  93%|█████████▎| 546/590 [02:46<00:12,  3.63it/s]"
          ]
        },
        {
          "name": "stdout",
          "output_type": "stream",
          "text": [
            "Extracted 20 frames from the first 10 seconds of dataset/Celeb-real/id16_0009.mp4\n"
          ]
        },
        {
          "name": "stderr",
          "output_type": "stream",
          "text": [
            "\rProcessing videos in dataset/Celeb-real:  93%|█████████▎| 547/590 [02:47<00:11,  3.82it/s]"
          ]
        },
        {
          "name": "stdout",
          "output_type": "stream",
          "text": [
            "Extracted 20 frames from the first 10 seconds of dataset/Celeb-real/id25_0003.mp4\n"
          ]
        },
        {
          "name": "stderr",
          "output_type": "stream",
          "text": [
            "\rProcessing videos in dataset/Celeb-real:  93%|█████████▎| 548/590 [02:47<00:11,  3.66it/s]"
          ]
        },
        {
          "name": "stdout",
          "output_type": "stream",
          "text": [
            "Extracted 20 frames from the first 10 seconds of dataset/Celeb-real/id36_0007.mp4\n"
          ]
        },
        {
          "name": "stderr",
          "output_type": "stream",
          "text": [
            "\rProcessing videos in dataset/Celeb-real:  93%|█████████▎| 549/590 [02:47<00:10,  3.84it/s]"
          ]
        },
        {
          "name": "stdout",
          "output_type": "stream",
          "text": [
            "Extracted 20 frames from the first 10 seconds of dataset/Celeb-real/id25_0005.mp4\n"
          ]
        },
        {
          "name": "stderr",
          "output_type": "stream",
          "text": [
            "\rProcessing videos in dataset/Celeb-real:  93%|█████████▎| 550/590 [02:47<00:10,  3.93it/s]"
          ]
        },
        {
          "name": "stdout",
          "output_type": "stream",
          "text": [
            "Extracted 20 frames from the first 10 seconds of dataset/Celeb-real/id52_0003.mp4\n"
          ]
        },
        {
          "name": "stderr",
          "output_type": "stream",
          "text": [
            "\rProcessing videos in dataset/Celeb-real:  93%|█████████▎| 551/590 [02:48<00:11,  3.30it/s]"
          ]
        },
        {
          "name": "stdout",
          "output_type": "stream",
          "text": [
            "Extracted 20 frames from the first 10 seconds of dataset/Celeb-real/id49_0002.mp4\n"
          ]
        },
        {
          "name": "stderr",
          "output_type": "stream",
          "text": [
            "\rProcessing videos in dataset/Celeb-real:  94%|█████████▎| 552/590 [02:48<00:12,  2.96it/s]"
          ]
        },
        {
          "name": "stdout",
          "output_type": "stream",
          "text": [
            "Extracted 20 frames from the first 10 seconds of dataset/Celeb-real/id29_0001.mp4\n"
          ]
        },
        {
          "name": "stderr",
          "output_type": "stream",
          "text": [
            "\rProcessing videos in dataset/Celeb-real:  94%|█████████▎| 553/590 [02:49<00:13,  2.82it/s]"
          ]
        },
        {
          "name": "stdout",
          "output_type": "stream",
          "text": [
            "Extracted 20 frames from the first 10 seconds of dataset/Celeb-real/id39_0008.mp4\n"
          ]
        },
        {
          "name": "stderr",
          "output_type": "stream",
          "text": [
            "\rProcessing videos in dataset/Celeb-real:  94%|█████████▍| 554/590 [02:49<00:11,  3.10it/s]"
          ]
        },
        {
          "name": "stdout",
          "output_type": "stream",
          "text": [
            "Extracted 20 frames from the first 10 seconds of dataset/Celeb-real/id24_0004.mp4\n"
          ]
        },
        {
          "name": "stderr",
          "output_type": "stream",
          "text": [
            "\rProcessing videos in dataset/Celeb-real:  94%|█████████▍| 555/590 [02:49<00:12,  2.82it/s]"
          ]
        },
        {
          "name": "stdout",
          "output_type": "stream",
          "text": [
            "Extracted 20 frames from the first 10 seconds of dataset/Celeb-real/id30_0001.mp4\n"
          ]
        },
        {
          "name": "stderr",
          "output_type": "stream",
          "text": [
            "\rProcessing videos in dataset/Celeb-real:  94%|█████████▍| 556/590 [02:50<00:12,  2.65it/s]"
          ]
        },
        {
          "name": "stdout",
          "output_type": "stream",
          "text": [
            "Extracted 20 frames from the first 10 seconds of dataset/Celeb-real/id7_0004.mp4\n"
          ]
        },
        {
          "name": "stderr",
          "output_type": "stream",
          "text": [
            "\rProcessing videos in dataset/Celeb-real:  94%|█████████▍| 557/590 [02:50<00:13,  2.52it/s]"
          ]
        },
        {
          "name": "stdout",
          "output_type": "stream",
          "text": [
            "Extracted 20 frames from the first 10 seconds of dataset/Celeb-real/id55_0009.mp4\n"
          ]
        },
        {
          "name": "stderr",
          "output_type": "stream",
          "text": [
            "\rProcessing videos in dataset/Celeb-real:  95%|█████████▍| 558/590 [02:51<00:13,  2.41it/s]"
          ]
        },
        {
          "name": "stdout",
          "output_type": "stream",
          "text": [
            "Extracted 20 frames from the first 10 seconds of dataset/Celeb-real/id7_0000.mp4\n"
          ]
        },
        {
          "name": "stderr",
          "output_type": "stream",
          "text": [
            "\rProcessing videos in dataset/Celeb-real:  95%|█████████▍| 559/590 [02:51<00:11,  2.60it/s]"
          ]
        },
        {
          "name": "stdout",
          "output_type": "stream",
          "text": [
            "Extracted 20 frames from the first 10 seconds of dataset/Celeb-real/id31_0005.mp4\n"
          ]
        },
        {
          "name": "stderr",
          "output_type": "stream",
          "text": [
            "\rProcessing videos in dataset/Celeb-real:  95%|█████████▍| 560/590 [02:51<00:10,  2.99it/s]"
          ]
        },
        {
          "name": "stdout",
          "output_type": "stream",
          "text": [
            "Extracted 20 frames from the first 10 seconds of dataset/Celeb-real/id2_0001.mp4\n"
          ]
        },
        {
          "name": "stderr",
          "output_type": "stream",
          "text": [
            "\rProcessing videos in dataset/Celeb-real:  95%|█████████▌| 561/590 [02:51<00:09,  3.22it/s]"
          ]
        },
        {
          "name": "stdout",
          "output_type": "stream",
          "text": [
            "Extracted 20 frames from the first 10 seconds of dataset/Celeb-real/id31_0001.mp4\n"
          ]
        },
        {
          "name": "stderr",
          "output_type": "stream",
          "text": [
            "Processing videos in dataset/Celeb-real:  95%|█████████▌| 563/590 [02:52<00:06,  4.00it/s]"
          ]
        },
        {
          "name": "stdout",
          "output_type": "stream",
          "text": [
            "Extracted 20 frames from the first 10 seconds of dataset/Celeb-real/id22_0005.mp4\n",
            "Extracted 20 frames from the first 10 seconds of dataset/Celeb-real/id36_0008.mp4\n"
          ]
        },
        {
          "name": "stderr",
          "output_type": "stream",
          "text": [
            "\rProcessing videos in dataset/Celeb-real:  96%|█████████▌| 564/590 [02:52<00:07,  3.69it/s]"
          ]
        },
        {
          "name": "stdout",
          "output_type": "stream",
          "text": [
            "Extracted 20 frames from the first 10 seconds of dataset/Celeb-real/id0_0000.mp4\n"
          ]
        },
        {
          "name": "stderr",
          "output_type": "stream",
          "text": [
            "\rProcessing videos in dataset/Celeb-real:  96%|█████████▌| 565/590 [02:52<00:06,  3.78it/s]"
          ]
        },
        {
          "name": "stdout",
          "output_type": "stream",
          "text": [
            "Extracted 20 frames from the first 10 seconds of dataset/Celeb-real/id49_0000.mp4\n"
          ]
        },
        {
          "name": "stderr",
          "output_type": "stream",
          "text": [
            "Processing videos in dataset/Celeb-real:  96%|█████████▌| 567/590 [02:53<00:05,  4.10it/s]"
          ]
        },
        {
          "name": "stdout",
          "output_type": "stream",
          "text": [
            "Extracted 20 frames from the first 10 seconds of dataset/Celeb-real/id54_0008.mp4\n",
            "Extracted 20 frames from the first 10 seconds of dataset/Celeb-real/id10_0008.mp4\n"
          ]
        },
        {
          "name": "stderr",
          "output_type": "stream",
          "text": [
            "\rProcessing videos in dataset/Celeb-real:  96%|█████████▋| 568/590 [02:53<00:05,  3.97it/s]"
          ]
        },
        {
          "name": "stdout",
          "output_type": "stream",
          "text": [
            "Extracted 20 frames from the first 10 seconds of dataset/Celeb-real/id53_0007.mp4\n"
          ]
        },
        {
          "name": "stderr",
          "output_type": "stream",
          "text": [
            "\rProcessing videos in dataset/Celeb-real:  96%|█████████▋| 569/590 [02:53<00:05,  3.68it/s]"
          ]
        },
        {
          "name": "stdout",
          "output_type": "stream",
          "text": [
            "Extracted 20 frames from the first 10 seconds of dataset/Celeb-real/id0_0002.mp4\n"
          ]
        },
        {
          "name": "stderr",
          "output_type": "stream",
          "text": [
            "\rProcessing videos in dataset/Celeb-real:  97%|█████████▋| 570/590 [02:54<00:05,  3.54it/s]"
          ]
        },
        {
          "name": "stdout",
          "output_type": "stream",
          "text": [
            "Extracted 20 frames from the first 10 seconds of dataset/Celeb-real/id9_0009.mp4\n"
          ]
        },
        {
          "name": "stderr",
          "output_type": "stream",
          "text": [
            "\rProcessing videos in dataset/Celeb-real:  97%|█████████▋| 571/590 [02:54<00:05,  3.59it/s]"
          ]
        },
        {
          "name": "stdout",
          "output_type": "stream",
          "text": [
            "Extracted 20 frames from the first 10 seconds of dataset/Celeb-real/id6_0006.mp4\n"
          ]
        },
        {
          "name": "stderr",
          "output_type": "stream",
          "text": [
            "\rProcessing videos in dataset/Celeb-real:  97%|█████████▋| 572/590 [02:54<00:05,  3.60it/s]"
          ]
        },
        {
          "name": "stdout",
          "output_type": "stream",
          "text": [
            "Extracted 20 frames from the first 10 seconds of dataset/Celeb-real/id37_0008.mp4\n"
          ]
        },
        {
          "name": "stderr",
          "output_type": "stream",
          "text": [
            "\rProcessing videos in dataset/Celeb-real:  97%|█████████▋| 573/590 [02:55<00:04,  3.65it/s]"
          ]
        },
        {
          "name": "stdout",
          "output_type": "stream",
          "text": [
            "Extracted 20 frames from the first 10 seconds of dataset/Celeb-real/id41_0003.mp4\n"
          ]
        },
        {
          "name": "stderr",
          "output_type": "stream",
          "text": [
            "\rProcessing videos in dataset/Celeb-real:  97%|█████████▋| 574/590 [02:55<00:04,  3.66it/s]"
          ]
        },
        {
          "name": "stdout",
          "output_type": "stream",
          "text": [
            "Extracted 20 frames from the first 10 seconds of dataset/Celeb-real/id31_0008.mp4\n"
          ]
        },
        {
          "name": "stderr",
          "output_type": "stream",
          "text": [
            "\rProcessing videos in dataset/Celeb-real:  97%|█████████▋| 575/590 [02:55<00:03,  3.76it/s]"
          ]
        },
        {
          "name": "stdout",
          "output_type": "stream",
          "text": [
            "Extracted 20 frames from the first 10 seconds of dataset/Celeb-real/id48_0000.mp4\n"
          ]
        },
        {
          "name": "stderr",
          "output_type": "stream",
          "text": [
            "\rProcessing videos in dataset/Celeb-real:  98%|█████████▊| 576/590 [02:55<00:03,  3.77it/s]"
          ]
        },
        {
          "name": "stdout",
          "output_type": "stream",
          "text": [
            "Extracted 20 frames from the first 10 seconds of dataset/Celeb-real/id37_0000.mp4\n"
          ]
        },
        {
          "name": "stderr",
          "output_type": "stream",
          "text": [
            "\rProcessing videos in dataset/Celeb-real:  98%|█████████▊| 577/590 [02:56<00:03,  3.65it/s]"
          ]
        },
        {
          "name": "stdout",
          "output_type": "stream",
          "text": [
            "Extracted 20 frames from the first 10 seconds of dataset/Celeb-real/id9_0008.mp4\n"
          ]
        },
        {
          "name": "stderr",
          "output_type": "stream",
          "text": [
            "\rProcessing videos in dataset/Celeb-real:  98%|█████████▊| 578/590 [02:56<00:03,  3.70it/s]"
          ]
        },
        {
          "name": "stdout",
          "output_type": "stream",
          "text": [
            "Extracted 20 frames from the first 10 seconds of dataset/Celeb-real/id25_0004.mp4\n"
          ]
        },
        {
          "name": "stderr",
          "output_type": "stream",
          "text": [
            "Processing videos in dataset/Celeb-real:  98%|█████████▊| 580/590 [02:56<00:02,  4.20it/s]"
          ]
        },
        {
          "name": "stdout",
          "output_type": "stream",
          "text": [
            "Extracted 20 frames from the first 10 seconds of dataset/Celeb-real/id22_0002.mp4\n",
            "Extracted 20 frames from the first 10 seconds of dataset/Celeb-real/id1_0007.mp4\n"
          ]
        },
        {
          "name": "stderr",
          "output_type": "stream",
          "text": [
            "Processing videos in dataset/Celeb-real:  99%|█████████▊| 582/590 [02:57<00:01,  4.30it/s]"
          ]
        },
        {
          "name": "stdout",
          "output_type": "stream",
          "text": [
            "Extracted 20 frames from the first 10 seconds of dataset/Celeb-real/id30_0008.mp4\n",
            "Extracted 20 frames from the first 10 seconds of dataset/Celeb-real/id8_0005.mp4\n"
          ]
        },
        {
          "name": "stderr",
          "output_type": "stream",
          "text": [
            "\rProcessing videos in dataset/Celeb-real:  99%|█████████▉| 583/590 [02:57<00:01,  4.98it/s]"
          ]
        },
        {
          "name": "stdout",
          "output_type": "stream",
          "text": [
            "Extracted 20 frames from the first 10 seconds of dataset/Celeb-real/id19_0002.mp4\n"
          ]
        },
        {
          "name": "stderr",
          "output_type": "stream",
          "text": [
            "\rProcessing videos in dataset/Celeb-real:  99%|█████████▉| 584/590 [02:57<00:01,  4.64it/s]"
          ]
        },
        {
          "name": "stdout",
          "output_type": "stream",
          "text": [
            "Extracted 20 frames from the first 10 seconds of dataset/Celeb-real/id43_0007.mp4\n"
          ]
        },
        {
          "name": "stderr",
          "output_type": "stream",
          "text": [
            "\rProcessing videos in dataset/Celeb-real:  99%|█████████▉| 585/590 [02:57<00:01,  4.17it/s]"
          ]
        },
        {
          "name": "stdout",
          "output_type": "stream",
          "text": [
            "Extracted 20 frames from the first 10 seconds of dataset/Celeb-real/id4_0001.mp4\n"
          ]
        },
        {
          "name": "stderr",
          "output_type": "stream",
          "text": [
            "\rProcessing videos in dataset/Celeb-real:  99%|█████████▉| 586/590 [02:58<00:00,  4.03it/s]"
          ]
        },
        {
          "name": "stdout",
          "output_type": "stream",
          "text": [
            "Extracted 20 frames from the first 10 seconds of dataset/Celeb-real/id13_0009.mp4\n"
          ]
        },
        {
          "name": "stderr",
          "output_type": "stream",
          "text": [
            "\rProcessing videos in dataset/Celeb-real:  99%|█████████▉| 587/590 [02:58<00:00,  3.96it/s]"
          ]
        },
        {
          "name": "stdout",
          "output_type": "stream",
          "text": [
            "Extracted 20 frames from the first 10 seconds of dataset/Celeb-real/id52_0004.mp4\n"
          ]
        },
        {
          "name": "stderr",
          "output_type": "stream",
          "text": [
            "\rProcessing videos in dataset/Celeb-real: 100%|█████████▉| 588/590 [02:58<00:00,  3.83it/s]"
          ]
        },
        {
          "name": "stdout",
          "output_type": "stream",
          "text": [
            "Extracted 20 frames from the first 10 seconds of dataset/Celeb-real/id38_0009.mp4\n"
          ]
        },
        {
          "name": "stderr",
          "output_type": "stream",
          "text": [
            "\rProcessing videos in dataset/Celeb-real: 100%|█████████▉| 589/590 [02:58<00:00,  3.83it/s]"
          ]
        },
        {
          "name": "stdout",
          "output_type": "stream",
          "text": [
            "Extracted 20 frames from the first 10 seconds of dataset/Celeb-real/id39_0001.mp4\n"
          ]
        },
        {
          "name": "stderr",
          "output_type": "stream",
          "text": [
            "Processing videos in dataset/Celeb-real: 100%|██████████| 590/590 [02:59<00:00,  3.29it/s]\n"
          ]
        },
        {
          "name": "stdout",
          "output_type": "stream",
          "text": [
            "Extracted 20 frames from the first 10 seconds of dataset/Celeb-real/id57_0009.mp4\n"
          ]
        },
        {
          "name": "stderr",
          "output_type": "stream",
          "text": [
            "Processing videos in dataset/Celeb-synthesis:   0%|          | 1/994 [00:00<04:18,  3.85it/s]"
          ]
        },
        {
          "name": "stdout",
          "output_type": "stream",
          "text": [
            "Extracted 20 frames from the first 10 seconds of dataset/Celeb-synthesis/id25_id22_0004.mp4\n"
          ]
        },
        {
          "name": "stderr",
          "output_type": "stream",
          "text": [
            "\rProcessing videos in dataset/Celeb-synthesis:   0%|          | 2/994 [00:00<04:00,  4.13it/s]"
          ]
        },
        {
          "name": "stdout",
          "output_type": "stream",
          "text": [
            "Extracted 20 frames from the first 10 seconds of dataset/Celeb-synthesis/id16_id1_0006.mp4\n"
          ]
        },
        {
          "name": "stderr",
          "output_type": "stream",
          "text": [
            "\rProcessing videos in dataset/Celeb-synthesis:   0%|          | 3/994 [00:00<04:13,  3.91it/s]"
          ]
        },
        {
          "name": "stdout",
          "output_type": "stream",
          "text": [
            "Extracted 20 frames from the first 10 seconds of dataset/Celeb-synthesis/id7_id11_0001.mp4\n"
          ]
        },
        {
          "name": "stderr",
          "output_type": "stream",
          "text": [
            "Processing videos in dataset/Celeb-synthesis:   1%|          | 5/994 [00:01<03:39,  4.51it/s]"
          ]
        },
        {
          "name": "stdout",
          "output_type": "stream",
          "text": [
            "Extracted 20 frames from the first 10 seconds of dataset/Celeb-synthesis/id16_id1_0003.mp4\n",
            "Extracted 20 frames from the first 10 seconds of dataset/Celeb-synthesis/id10_id7_0001.mp4\n"
          ]
        },
        {
          "name": "stderr",
          "output_type": "stream",
          "text": [
            "\rProcessing videos in dataset/Celeb-synthesis:   1%|          | 6/994 [00:01<03:25,  4.81it/s]"
          ]
        },
        {
          "name": "stdout",
          "output_type": "stream",
          "text": [
            "Extracted 20 frames from the first 10 seconds of dataset/Celeb-synthesis/id3_id20_0008.mp4\n"
          ]
        },
        {
          "name": "stderr",
          "output_type": "stream",
          "text": [
            "\rProcessing videos in dataset/Celeb-synthesis:   1%|          | 7/994 [00:01<03:36,  4.56it/s]"
          ]
        },
        {
          "name": "stdout",
          "output_type": "stream",
          "text": [
            "Extracted 20 frames from the first 10 seconds of dataset/Celeb-synthesis/id28_id3_0000.mp4\n"
          ]
        },
        {
          "name": "stderr",
          "output_type": "stream",
          "text": [
            "\rProcessing videos in dataset/Celeb-synthesis:   1%|          | 8/994 [00:01<03:48,  4.32it/s]"
          ]
        },
        {
          "name": "stdout",
          "output_type": "stream",
          "text": [
            "Extracted 20 frames from the first 10 seconds of dataset/Celeb-synthesis/id30_id1_0006.mp4\n"
          ]
        },
        {
          "name": "stderr",
          "output_type": "stream",
          "text": [
            "\rProcessing videos in dataset/Celeb-synthesis:   1%|          | 9/994 [00:02<04:57,  3.31it/s]"
          ]
        },
        {
          "name": "stdout",
          "output_type": "stream",
          "text": [
            "Extracted 20 frames from the first 10 seconds of dataset/Celeb-synthesis/id60_id5_0006.mp4\n"
          ]
        },
        {
          "name": "stderr",
          "output_type": "stream",
          "text": [
            "\rProcessing videos in dataset/Celeb-synthesis:   1%|          | 10/994 [00:02<06:10,  2.65it/s]"
          ]
        },
        {
          "name": "stdout",
          "output_type": "stream",
          "text": [
            "Extracted 20 frames from the first 10 seconds of dataset/Celeb-synthesis/id11_id7_0004.mp4\n"
          ]
        },
        {
          "name": "stderr",
          "output_type": "stream",
          "text": [
            "\rProcessing videos in dataset/Celeb-synthesis:   1%|          | 11/994 [00:03<06:05,  2.69it/s]"
          ]
        },
        {
          "name": "stdout",
          "output_type": "stream",
          "text": [
            "Extracted 20 frames from the first 10 seconds of dataset/Celeb-synthesis/id47_id39_0007.mp4\n"
          ]
        },
        {
          "name": "stderr",
          "output_type": "stream",
          "text": [
            "\rProcessing videos in dataset/Celeb-synthesis:   1%|          | 12/994 [00:03<06:30,  2.51it/s]"
          ]
        },
        {
          "name": "stdout",
          "output_type": "stream",
          "text": [
            "Extracted 20 frames from the first 10 seconds of dataset/Celeb-synthesis/id5_id61_0000.mp4\n"
          ]
        },
        {
          "name": "stderr",
          "output_type": "stream",
          "text": [
            "\rProcessing videos in dataset/Celeb-synthesis:   1%|▏         | 13/994 [00:04<06:51,  2.38it/s]"
          ]
        },
        {
          "name": "stdout",
          "output_type": "stream",
          "text": [
            "Extracted 20 frames from the first 10 seconds of dataset/Celeb-synthesis/id6_id4_0008.mp4\n"
          ]
        },
        {
          "name": "stderr",
          "output_type": "stream",
          "text": [
            "\rProcessing videos in dataset/Celeb-synthesis:   1%|▏         | 14/994 [00:04<06:55,  2.36it/s]"
          ]
        },
        {
          "name": "stdout",
          "output_type": "stream",
          "text": [
            "Extracted 20 frames from the first 10 seconds of dataset/Celeb-synthesis/id38_id23_0006.mp4\n"
          ]
        },
        {
          "name": "stderr",
          "output_type": "stream",
          "text": [
            "\rProcessing videos in dataset/Celeb-synthesis:   2%|▏         | 15/994 [00:05<07:04,  2.31it/s]"
          ]
        },
        {
          "name": "stdout",
          "output_type": "stream",
          "text": [
            "Extracted 20 frames from the first 10 seconds of dataset/Celeb-synthesis/id10_id11_0003.mp4\n"
          ]
        },
        {
          "name": "stderr",
          "output_type": "stream",
          "text": [
            "\rProcessing videos in dataset/Celeb-synthesis:   2%|▏         | 16/994 [00:05<06:27,  2.53it/s]"
          ]
        },
        {
          "name": "stdout",
          "output_type": "stream",
          "text": [
            "Extracted 20 frames from the first 10 seconds of dataset/Celeb-synthesis/id2_id0_0003.mp4\n"
          ]
        },
        {
          "name": "stderr",
          "output_type": "stream",
          "text": [
            "\rProcessing videos in dataset/Celeb-synthesis:   2%|▏         | 17/994 [00:05<06:00,  2.71it/s]"
          ]
        },
        {
          "name": "stdout",
          "output_type": "stream",
          "text": [
            "Extracted 20 frames from the first 10 seconds of dataset/Celeb-synthesis/id45_id39_0001.mp4\n"
          ]
        },
        {
          "name": "stderr",
          "output_type": "stream",
          "text": [
            "\rProcessing videos in dataset/Celeb-synthesis:   2%|▏         | 18/994 [00:05<05:15,  3.09it/s]"
          ]
        },
        {
          "name": "stdout",
          "output_type": "stream",
          "text": [
            "Extracted 20 frames from the first 10 seconds of dataset/Celeb-synthesis/id39_id43_0000.mp4\n"
          ]
        },
        {
          "name": "stderr",
          "output_type": "stream",
          "text": [
            "\rProcessing videos in dataset/Celeb-synthesis:   2%|▏         | 19/994 [00:06<05:00,  3.25it/s]"
          ]
        },
        {
          "name": "stdout",
          "output_type": "stream",
          "text": [
            "Extracted 20 frames from the first 10 seconds of dataset/Celeb-synthesis/id56_id50_0002.mp4\n"
          ]
        },
        {
          "name": "stderr",
          "output_type": "stream",
          "text": [
            "\rProcessing videos in dataset/Celeb-synthesis:   2%|▏         | 20/994 [00:06<04:48,  3.38it/s]"
          ]
        },
        {
          "name": "stdout",
          "output_type": "stream",
          "text": [
            "Extracted 20 frames from the first 10 seconds of dataset/Celeb-synthesis/id52_id50_0000.mp4\n"
          ]
        },
        {
          "name": "stderr",
          "output_type": "stream",
          "text": [
            "\rProcessing videos in dataset/Celeb-synthesis:   2%|▏         | 21/994 [00:06<04:38,  3.50it/s]"
          ]
        },
        {
          "name": "stdout",
          "output_type": "stream",
          "text": [
            "Extracted 20 frames from the first 10 seconds of dataset/Celeb-synthesis/id39_id42_0001.mp4\n"
          ]
        },
        {
          "name": "stderr",
          "output_type": "stream",
          "text": [
            "\rProcessing videos in dataset/Celeb-synthesis:   2%|▏         | 22/994 [00:06<04:30,  3.59it/s]"
          ]
        },
        {
          "name": "stdout",
          "output_type": "stream",
          "text": [
            "Extracted 20 frames from the first 10 seconds of dataset/Celeb-synthesis/id37_id3_0009.mp4\n"
          ]
        },
        {
          "name": "stderr",
          "output_type": "stream",
          "text": [
            "\rProcessing videos in dataset/Celeb-synthesis:   2%|▏         | 23/994 [00:07<04:28,  3.62it/s]"
          ]
        },
        {
          "name": "stdout",
          "output_type": "stream",
          "text": [
            "Extracted 20 frames from the first 10 seconds of dataset/Celeb-synthesis/id34_id23_0003.mp4\n"
          ]
        },
        {
          "name": "stderr",
          "output_type": "stream",
          "text": [
            "\rProcessing videos in dataset/Celeb-synthesis:   2%|▏         | 24/994 [00:07<04:21,  3.70it/s]"
          ]
        },
        {
          "name": "stdout",
          "output_type": "stream",
          "text": [
            "Extracted 20 frames from the first 10 seconds of dataset/Celeb-synthesis/id30_id2_0009.mp4\n"
          ]
        },
        {
          "name": "stderr",
          "output_type": "stream",
          "text": [
            "\rProcessing videos in dataset/Celeb-synthesis:   3%|▎         | 25/994 [00:07<04:15,  3.80it/s]"
          ]
        },
        {
          "name": "stdout",
          "output_type": "stream",
          "text": [
            "Extracted 20 frames from the first 10 seconds of dataset/Celeb-synthesis/id38_id23_0005.mp4\n"
          ]
        },
        {
          "name": "stderr",
          "output_type": "stream",
          "text": [
            "\rProcessing videos in dataset/Celeb-synthesis:   3%|▎         | 26/994 [00:08<04:21,  3.71it/s]"
          ]
        },
        {
          "name": "stdout",
          "output_type": "stream",
          "text": [
            "Extracted 20 frames from the first 10 seconds of dataset/Celeb-synthesis/id45_id40_0002.mp4\n"
          ]
        },
        {
          "name": "stderr",
          "output_type": "stream",
          "text": [
            "Processing videos in dataset/Celeb-synthesis:   3%|▎         | 28/994 [00:08<03:43,  4.33it/s]"
          ]
        },
        {
          "name": "stdout",
          "output_type": "stream",
          "text": [
            "Extracted 20 frames from the first 10 seconds of dataset/Celeb-synthesis/id47_id40_0007.mp4\n",
            "Extracted 20 frames from the first 10 seconds of dataset/Celeb-synthesis/id21_id9_0004.mp4\n"
          ]
        },
        {
          "name": "stderr",
          "output_type": "stream",
          "text": [
            "\rProcessing videos in dataset/Celeb-synthesis:   3%|▎         | 29/994 [00:08<03:51,  4.17it/s]"
          ]
        },
        {
          "name": "stdout",
          "output_type": "stream",
          "text": [
            "Extracted 20 frames from the first 10 seconds of dataset/Celeb-synthesis/id41_id45_0002.mp4\n"
          ]
        },
        {
          "name": "stderr",
          "output_type": "stream",
          "text": [
            "\rProcessing videos in dataset/Celeb-synthesis:   3%|▎         | 30/994 [00:08<04:04,  3.94it/s]"
          ]
        },
        {
          "name": "stdout",
          "output_type": "stream",
          "text": [
            "Extracted 20 frames from the first 10 seconds of dataset/Celeb-synthesis/id39_id42_0002.mp4\n"
          ]
        },
        {
          "name": "stderr",
          "output_type": "stream",
          "text": [
            "\rProcessing videos in dataset/Celeb-synthesis:   3%|▎         | 31/994 [00:09<04:09,  3.86it/s]"
          ]
        },
        {
          "name": "stdout",
          "output_type": "stream",
          "text": [
            "Extracted 20 frames from the first 10 seconds of dataset/Celeb-synthesis/id39_id43_0002.mp4\n"
          ]
        },
        {
          "name": "stderr",
          "output_type": "stream",
          "text": [
            "Processing videos in dataset/Celeb-synthesis:   3%|▎         | 33/994 [00:09<03:48,  4.20it/s]"
          ]
        },
        {
          "name": "stdout",
          "output_type": "stream",
          "text": [
            "Extracted 20 frames from the first 10 seconds of dataset/Celeb-synthesis/id34_id21_0008.mp4\n",
            "Extracted 20 frames from the first 10 seconds of dataset/Celeb-synthesis/id1_id26_0005.mp4\n"
          ]
        },
        {
          "name": "stderr",
          "output_type": "stream",
          "text": [
            "\rProcessing videos in dataset/Celeb-synthesis:   3%|▎         | 34/994 [00:09<03:45,  4.25it/s]"
          ]
        },
        {
          "name": "stdout",
          "output_type": "stream",
          "text": [
            "Extracted 20 frames from the first 10 seconds of dataset/Celeb-synthesis/id54_id51_0005.mp4\n"
          ]
        },
        {
          "name": "stderr",
          "output_type": "stream",
          "text": [
            "\rProcessing videos in dataset/Celeb-synthesis:   4%|▎         | 35/994 [00:10<03:51,  4.15it/s]"
          ]
        },
        {
          "name": "stdout",
          "output_type": "stream",
          "text": [
            "Extracted 20 frames from the first 10 seconds of dataset/Celeb-synthesis/id41_id45_0007.mp4\n"
          ]
        },
        {
          "name": "stderr",
          "output_type": "stream",
          "text": [
            "\rProcessing videos in dataset/Celeb-synthesis:   4%|▎         | 36/994 [00:10<04:10,  3.82it/s]"
          ]
        },
        {
          "name": "stdout",
          "output_type": "stream",
          "text": [
            "Extracted 20 frames from the first 10 seconds of dataset/Celeb-synthesis/id0_id1_0000.mp4\n"
          ]
        },
        {
          "name": "stderr",
          "output_type": "stream",
          "text": [
            "\rProcessing videos in dataset/Celeb-synthesis:   4%|▎         | 37/994 [00:10<03:57,  4.02it/s]"
          ]
        },
        {
          "name": "stdout",
          "output_type": "stream",
          "text": [
            "Extracted 20 frames from the first 10 seconds of dataset/Celeb-synthesis/id43_id40_0004.mp4\n"
          ]
        },
        {
          "name": "stderr",
          "output_type": "stream",
          "text": [
            "\rProcessing videos in dataset/Celeb-synthesis:   4%|▍         | 38/994 [00:10<04:10,  3.82it/s]"
          ]
        },
        {
          "name": "stdout",
          "output_type": "stream",
          "text": [
            "Extracted 20 frames from the first 10 seconds of dataset/Celeb-synthesis/id58_id53_0007.mp4\n"
          ]
        },
        {
          "name": "stderr",
          "output_type": "stream",
          "text": [
            "\rProcessing videos in dataset/Celeb-synthesis:   4%|▍         | 39/994 [00:11<04:12,  3.78it/s]"
          ]
        },
        {
          "name": "stdout",
          "output_type": "stream",
          "text": [
            "Extracted 20 frames from the first 10 seconds of dataset/Celeb-synthesis/id54_id52_0000.mp4\n"
          ]
        },
        {
          "name": "stderr",
          "output_type": "stream",
          "text": [
            "\rProcessing videos in dataset/Celeb-synthesis:   4%|▍         | 40/994 [00:11<04:09,  3.82it/s]"
          ]
        },
        {
          "name": "stdout",
          "output_type": "stream",
          "text": [
            "Extracted 20 frames from the first 10 seconds of dataset/Celeb-synthesis/id31_id1_0000.mp4\n"
          ]
        },
        {
          "name": "stderr",
          "output_type": "stream",
          "text": [
            "\rProcessing videos in dataset/Celeb-synthesis:   4%|▍         | 41/994 [00:11<04:26,  3.57it/s]"
          ]
        },
        {
          "name": "stdout",
          "output_type": "stream",
          "text": [
            "Extracted 20 frames from the first 10 seconds of dataset/Celeb-synthesis/id16_id1_0010.mp4\n"
          ]
        },
        {
          "name": "stderr",
          "output_type": "stream",
          "text": [
            "\rProcessing videos in dataset/Celeb-synthesis:   4%|▍         | 42/994 [00:12<04:23,  3.61it/s]"
          ]
        },
        {
          "name": "stdout",
          "output_type": "stream",
          "text": [
            "Extracted 20 frames from the first 10 seconds of dataset/Celeb-synthesis/id30_id2_0004.mp4\n"
          ]
        },
        {
          "name": "stderr",
          "output_type": "stream",
          "text": [
            "\rProcessing videos in dataset/Celeb-synthesis:   4%|▍         | 43/994 [00:12<04:17,  3.70it/s]"
          ]
        },
        {
          "name": "stdout",
          "output_type": "stream",
          "text": [
            "Extracted 20 frames from the first 10 seconds of dataset/Celeb-synthesis/id24_id23_0000.mp4\n"
          ]
        },
        {
          "name": "stderr",
          "output_type": "stream",
          "text": [
            "\rProcessing videos in dataset/Celeb-synthesis:   4%|▍         | 44/994 [00:12<04:05,  3.87it/s]"
          ]
        },
        {
          "name": "stdout",
          "output_type": "stream",
          "text": [
            "Extracted 20 frames from the first 10 seconds of dataset/Celeb-synthesis/id53_id50_0005.mp4\n"
          ]
        },
        {
          "name": "stderr",
          "output_type": "stream",
          "text": [
            "\rProcessing videos in dataset/Celeb-synthesis:   5%|▍         | 45/994 [00:12<04:03,  3.90it/s]"
          ]
        },
        {
          "name": "stdout",
          "output_type": "stream",
          "text": [
            "Extracted 20 frames from the first 10 seconds of dataset/Celeb-synthesis/id40_id39_0006.mp4\n"
          ]
        },
        {
          "name": "stderr",
          "output_type": "stream",
          "text": [
            "\rProcessing videos in dataset/Celeb-synthesis:   5%|▍         | 46/994 [00:13<03:55,  4.02it/s]"
          ]
        },
        {
          "name": "stdout",
          "output_type": "stream",
          "text": [
            "Extracted 20 frames from the first 10 seconds of dataset/Celeb-synthesis/id43_id39_0004.mp4\n"
          ]
        },
        {
          "name": "stderr",
          "output_type": "stream",
          "text": [
            "\rProcessing videos in dataset/Celeb-synthesis:   5%|▍         | 47/994 [00:13<03:56,  4.01it/s]"
          ]
        },
        {
          "name": "stdout",
          "output_type": "stream",
          "text": [
            "Extracted 20 frames from the first 10 seconds of dataset/Celeb-synthesis/id40_id39_0002.mp4\n"
          ]
        },
        {
          "name": "stderr",
          "output_type": "stream",
          "text": [
            "\rProcessing videos in dataset/Celeb-synthesis:   5%|▍         | 48/994 [00:13<03:56,  4.00it/s]"
          ]
        },
        {
          "name": "stdout",
          "output_type": "stream",
          "text": [
            "Extracted 20 frames from the first 10 seconds of dataset/Celeb-synthesis/id56_id49_0001.mp4\n"
          ]
        },
        {
          "name": "stderr",
          "output_type": "stream",
          "text": [
            "\rProcessing videos in dataset/Celeb-synthesis:   5%|▍         | 49/994 [00:13<03:56,  3.99it/s]"
          ]
        },
        {
          "name": "stdout",
          "output_type": "stream",
          "text": [
            "Extracted 20 frames from the first 10 seconds of dataset/Celeb-synthesis/id28_id3_0009.mp4\n"
          ]
        },
        {
          "name": "stderr",
          "output_type": "stream",
          "text": [
            "\rProcessing videos in dataset/Celeb-synthesis:   5%|▌         | 50/994 [00:14<03:59,  3.93it/s]"
          ]
        },
        {
          "name": "stdout",
          "output_type": "stream",
          "text": [
            "Extracted 20 frames from the first 10 seconds of dataset/Celeb-synthesis/id55_id53_0002.mp4\n"
          ]
        },
        {
          "name": "stderr",
          "output_type": "stream",
          "text": [
            "Processing videos in dataset/Celeb-synthesis:   5%|▌         | 52/994 [00:14<03:30,  4.48it/s]"
          ]
        },
        {
          "name": "stdout",
          "output_type": "stream",
          "text": [
            "Extracted 20 frames from the first 10 seconds of dataset/Celeb-synthesis/id47_id40_0008.mp4\n",
            "Extracted 20 frames from the first 10 seconds of dataset/Celeb-synthesis/id40_id41_0001.mp4\n"
          ]
        },
        {
          "name": "stderr",
          "output_type": "stream",
          "text": [
            "Processing videos in dataset/Celeb-synthesis:   5%|▌         | 54/994 [00:14<03:16,  4.79it/s]"
          ]
        },
        {
          "name": "stdout",
          "output_type": "stream",
          "text": [
            "Extracted 20 frames from the first 10 seconds of dataset/Celeb-synthesis/id45_id39_0005.mp4\n",
            "Extracted 20 frames from the first 10 seconds of dataset/Celeb-synthesis/id23_id1_0003.mp4\n"
          ]
        },
        {
          "name": "stderr",
          "output_type": "stream",
          "text": [
            "\rProcessing videos in dataset/Celeb-synthesis:   6%|▌         | 55/994 [00:15<03:28,  4.50it/s]"
          ]
        },
        {
          "name": "stdout",
          "output_type": "stream",
          "text": [
            "Extracted 20 frames from the first 10 seconds of dataset/Celeb-synthesis/id42_id39_0000.mp4\n"
          ]
        },
        {
          "name": "stderr",
          "output_type": "stream",
          "text": [
            "\rProcessing videos in dataset/Celeb-synthesis:   6%|▌         | 56/994 [00:15<03:35,  4.36it/s]"
          ]
        },
        {
          "name": "stdout",
          "output_type": "stream",
          "text": [
            "Extracted 20 frames from the first 10 seconds of dataset/Celeb-synthesis/id25_id20_0007.mp4\n"
          ]
        },
        {
          "name": "stderr",
          "output_type": "stream",
          "text": [
            "\rProcessing videos in dataset/Celeb-synthesis:   6%|▌         | 57/994 [00:15<03:39,  4.26it/s]"
          ]
        },
        {
          "name": "stdout",
          "output_type": "stream",
          "text": [
            "Extracted 20 frames from the first 10 seconds of dataset/Celeb-synthesis/id51_id49_0005.mp4\n"
          ]
        },
        {
          "name": "stderr",
          "output_type": "stream",
          "text": [
            "\rProcessing videos in dataset/Celeb-synthesis:   6%|▌         | 58/994 [00:15<04:04,  3.82it/s]"
          ]
        },
        {
          "name": "stdout",
          "output_type": "stream",
          "text": [
            "Extracted 20 frames from the first 10 seconds of dataset/Celeb-synthesis/id16_id0_0013.mp4\n"
          ]
        },
        {
          "name": "stderr",
          "output_type": "stream",
          "text": [
            "\rProcessing videos in dataset/Celeb-synthesis:   6%|▌         | 59/994 [00:16<04:01,  3.88it/s]"
          ]
        },
        {
          "name": "stdout",
          "output_type": "stream",
          "text": [
            "Extracted 20 frames from the first 10 seconds of dataset/Celeb-synthesis/id40_id39_0000.mp4\n"
          ]
        },
        {
          "name": "stderr",
          "output_type": "stream",
          "text": [
            "\rProcessing videos in dataset/Celeb-synthesis:   6%|▌         | 60/994 [00:16<04:26,  3.50it/s]"
          ]
        },
        {
          "name": "stdout",
          "output_type": "stream",
          "text": [
            "Extracted 20 frames from the first 10 seconds of dataset/Celeb-synthesis/id56_id49_0007.mp4\n"
          ]
        },
        {
          "name": "stderr",
          "output_type": "stream",
          "text": [
            "\rProcessing videos in dataset/Celeb-synthesis:   6%|▌         | 61/994 [00:16<04:38,  3.35it/s]"
          ]
        },
        {
          "name": "stdout",
          "output_type": "stream",
          "text": [
            "Extracted 20 frames from the first 10 seconds of dataset/Celeb-synthesis/id45_id40_0001.mp4\n"
          ]
        },
        {
          "name": "stderr",
          "output_type": "stream",
          "text": [
            "\rProcessing videos in dataset/Celeb-synthesis:   6%|▌         | 62/994 [00:17<05:07,  3.03it/s]"
          ]
        },
        {
          "name": "stdout",
          "output_type": "stream",
          "text": [
            "Extracted 20 frames from the first 10 seconds of dataset/Celeb-synthesis/id39_id42_0007.mp4\n"
          ]
        },
        {
          "name": "stderr",
          "output_type": "stream",
          "text": [
            "\rProcessing videos in dataset/Celeb-synthesis:   6%|▋         | 63/994 [00:17<05:31,  2.81it/s]"
          ]
        },
        {
          "name": "stdout",
          "output_type": "stream",
          "text": [
            "Extracted 20 frames from the first 10 seconds of dataset/Celeb-synthesis/id38_id28_0008.mp4\n"
          ]
        },
        {
          "name": "stderr",
          "output_type": "stream",
          "text": [
            "\rProcessing videos in dataset/Celeb-synthesis:   6%|▋         | 64/994 [00:17<05:03,  3.07it/s]"
          ]
        },
        {
          "name": "stdout",
          "output_type": "stream",
          "text": [
            "Extracted 20 frames from the first 10 seconds of dataset/Celeb-synthesis/id16_id0_0011.mp4\n"
          ]
        },
        {
          "name": "stderr",
          "output_type": "stream",
          "text": [
            "\rProcessing videos in dataset/Celeb-synthesis:   7%|▋         | 65/994 [00:18<05:17,  2.92it/s]"
          ]
        },
        {
          "name": "stdout",
          "output_type": "stream",
          "text": [
            "Extracted 20 frames from the first 10 seconds of dataset/Celeb-synthesis/id58_id54_0001.mp4\n"
          ]
        },
        {
          "name": "stderr",
          "output_type": "stream",
          "text": [
            "\rProcessing videos in dataset/Celeb-synthesis:   7%|▋         | 66/994 [00:18<05:28,  2.83it/s]"
          ]
        },
        {
          "name": "stdout",
          "output_type": "stream",
          "text": [
            "Extracted 20 frames from the first 10 seconds of dataset/Celeb-synthesis/id61_id60_0005.mp4\n"
          ]
        },
        {
          "name": "stderr",
          "output_type": "stream",
          "text": [
            "\rProcessing videos in dataset/Celeb-synthesis:   7%|▋         | 67/994 [00:19<05:18,  2.91it/s]"
          ]
        },
        {
          "name": "stdout",
          "output_type": "stream",
          "text": [
            "Extracted 20 frames from the first 10 seconds of dataset/Celeb-synthesis/id2_id16_0009.mp4\n"
          ]
        },
        {
          "name": "stderr",
          "output_type": "stream",
          "text": [
            "\rProcessing videos in dataset/Celeb-synthesis:   7%|▋         | 68/994 [00:19<04:56,  3.12it/s]"
          ]
        },
        {
          "name": "stdout",
          "output_type": "stream",
          "text": [
            "Extracted 20 frames from the first 10 seconds of dataset/Celeb-synthesis/id3_id9_0009.mp4\n"
          ]
        },
        {
          "name": "stderr",
          "output_type": "stream",
          "text": [
            "\rProcessing videos in dataset/Celeb-synthesis:   7%|▋         | 69/994 [00:19<04:40,  3.29it/s]"
          ]
        },
        {
          "name": "stdout",
          "output_type": "stream",
          "text": [
            "Extracted 20 frames from the first 10 seconds of dataset/Celeb-synthesis/id53_id49_0002.mp4\n"
          ]
        },
        {
          "name": "stderr",
          "output_type": "stream",
          "text": [
            "\rProcessing videos in dataset/Celeb-synthesis:   7%|▋         | 70/994 [00:19<04:35,  3.35it/s]"
          ]
        },
        {
          "name": "stdout",
          "output_type": "stream",
          "text": [
            "Extracted 20 frames from the first 10 seconds of dataset/Celeb-synthesis/id31_id1_0007.mp4\n"
          ]
        },
        {
          "name": "stderr",
          "output_type": "stream",
          "text": [
            "\rProcessing videos in dataset/Celeb-synthesis:   7%|▋         | 71/994 [00:20<04:21,  3.53it/s]"
          ]
        },
        {
          "name": "stdout",
          "output_type": "stream",
          "text": [
            "Extracted 20 frames from the first 10 seconds of dataset/Celeb-synthesis/id27_id22_0000.mp4\n"
          ]
        },
        {
          "name": "stderr",
          "output_type": "stream",
          "text": [
            "\rProcessing videos in dataset/Celeb-synthesis:   7%|▋         | 72/994 [00:20<04:13,  3.64it/s]"
          ]
        },
        {
          "name": "stdout",
          "output_type": "stream",
          "text": [
            "Extracted 20 frames from the first 10 seconds of dataset/Celeb-synthesis/id31_id1_0009.mp4\n"
          ]
        },
        {
          "name": "stderr",
          "output_type": "stream",
          "text": [
            "Processing videos in dataset/Celeb-synthesis:   7%|▋         | 74/994 [00:20<03:41,  4.15it/s]"
          ]
        },
        {
          "name": "stdout",
          "output_type": "stream",
          "text": [
            "Extracted 20 frames from the first 10 seconds of dataset/Celeb-synthesis/id52_id50_0003.mp4\n",
            "Extracted 20 frames from the first 10 seconds of dataset/Celeb-synthesis/id3_id9_0006.mp4\n"
          ]
        },
        {
          "name": "stderr",
          "output_type": "stream",
          "text": [
            "\rProcessing videos in dataset/Celeb-synthesis:   8%|▊         | 75/994 [00:21<03:48,  4.02it/s]"
          ]
        },
        {
          "name": "stdout",
          "output_type": "stream",
          "text": [
            "Extracted 20 frames from the first 10 seconds of dataset/Celeb-synthesis/id38_id28_0006.mp4\n"
          ]
        },
        {
          "name": "stderr",
          "output_type": "stream",
          "text": [
            "\rProcessing videos in dataset/Celeb-synthesis:   8%|▊         | 76/994 [00:21<03:56,  3.89it/s]"
          ]
        },
        {
          "name": "stdout",
          "output_type": "stream",
          "text": [
            "Extracted 20 frames from the first 10 seconds of dataset/Celeb-synthesis/id61_id5_0002.mp4\n"
          ]
        },
        {
          "name": "stderr",
          "output_type": "stream",
          "text": [
            "\rProcessing videos in dataset/Celeb-synthesis:   8%|▊         | 77/994 [00:21<04:07,  3.70it/s]"
          ]
        },
        {
          "name": "stdout",
          "output_type": "stream",
          "text": [
            "Extracted 20 frames from the first 10 seconds of dataset/Celeb-synthesis/id0_id6_0006.mp4\n"
          ]
        },
        {
          "name": "stderr",
          "output_type": "stream",
          "text": [
            "Processing videos in dataset/Celeb-synthesis:   8%|▊         | 79/994 [00:22<03:26,  4.44it/s]"
          ]
        },
        {
          "name": "stdout",
          "output_type": "stream",
          "text": [
            "Extracted 20 frames from the first 10 seconds of dataset/Celeb-synthesis/id43_id39_0006.mp4\n",
            "Extracted 20 frames from the first 10 seconds of dataset/Celeb-synthesis/id21_id16_0005.mp4\n"
          ]
        },
        {
          "name": "stderr",
          "output_type": "stream",
          "text": [
            "\rProcessing videos in dataset/Celeb-synthesis:   8%|▊         | 80/994 [00:22<03:31,  4.33it/s]"
          ]
        },
        {
          "name": "stdout",
          "output_type": "stream",
          "text": [
            "Extracted 20 frames from the first 10 seconds of dataset/Celeb-synthesis/id40_id39_0005.mp4\n"
          ]
        },
        {
          "name": "stderr",
          "output_type": "stream",
          "text": [
            "Processing videos in dataset/Celeb-synthesis:   8%|▊         | 82/994 [00:22<03:19,  4.57it/s]"
          ]
        },
        {
          "name": "stdout",
          "output_type": "stream",
          "text": [
            "Extracted 20 frames from the first 10 seconds of dataset/Celeb-synthesis/id4_id1_0007.mp4\n",
            "Extracted 20 frames from the first 10 seconds of dataset/Celeb-synthesis/id17_id1_0004.mp4\n"
          ]
        },
        {
          "name": "stderr",
          "output_type": "stream",
          "text": [
            "Processing videos in dataset/Celeb-synthesis:   8%|▊         | 84/994 [00:23<03:27,  4.38it/s]"
          ]
        },
        {
          "name": "stdout",
          "output_type": "stream",
          "text": [
            "Extracted 20 frames from the first 10 seconds of dataset/Celeb-synthesis/id9_id17_0009.mp4\n",
            "Extracted 20 frames from the first 10 seconds of dataset/Celeb-synthesis/id1_id26_0002.mp4\n"
          ]
        },
        {
          "name": "stderr",
          "output_type": "stream",
          "text": [
            "\rProcessing videos in dataset/Celeb-synthesis:   9%|▊         | 85/994 [00:23<03:38,  4.16it/s]"
          ]
        },
        {
          "name": "stdout",
          "output_type": "stream",
          "text": [
            "Extracted 20 frames from the first 10 seconds of dataset/Celeb-synthesis/id61_id60_0002.mp4\n"
          ]
        },
        {
          "name": "stderr",
          "output_type": "stream",
          "text": [
            "\rProcessing videos in dataset/Celeb-synthesis:   9%|▊         | 86/994 [00:23<03:47,  3.99it/s]"
          ]
        },
        {
          "name": "stdout",
          "output_type": "stream",
          "text": [
            "Extracted 20 frames from the first 10 seconds of dataset/Celeb-synthesis/id31_id1_0008.mp4\n"
          ]
        },
        {
          "name": "stderr",
          "output_type": "stream",
          "text": [
            "\rProcessing videos in dataset/Celeb-synthesis:   9%|▉         | 87/994 [00:24<03:54,  3.86it/s]"
          ]
        },
        {
          "name": "stdout",
          "output_type": "stream",
          "text": [
            "Extracted 20 frames from the first 10 seconds of dataset/Celeb-synthesis/id52_id50_0005.mp4\n"
          ]
        },
        {
          "name": "stderr",
          "output_type": "stream",
          "text": [
            "\rProcessing videos in dataset/Celeb-synthesis:   9%|▉         | 88/994 [00:24<03:47,  3.98it/s]"
          ]
        },
        {
          "name": "stdout",
          "output_type": "stream",
          "text": [
            "Extracted 20 frames from the first 10 seconds of dataset/Celeb-synthesis/id41_id45_0008.mp4\n"
          ]
        },
        {
          "name": "stderr",
          "output_type": "stream",
          "text": [
            "\rProcessing videos in dataset/Celeb-synthesis:   9%|▉         | 89/994 [00:24<03:48,  3.95it/s]"
          ]
        },
        {
          "name": "stdout",
          "output_type": "stream",
          "text": [
            "Extracted 20 frames from the first 10 seconds of dataset/Celeb-synthesis/id50_id51_0002.mp4\n"
          ]
        },
        {
          "name": "stderr",
          "output_type": "stream",
          "text": [
            "\rProcessing videos in dataset/Celeb-synthesis:   9%|▉         | 90/994 [00:24<04:01,  3.75it/s]"
          ]
        },
        {
          "name": "stdout",
          "output_type": "stream",
          "text": [
            "Extracted 20 frames from the first 10 seconds of dataset/Celeb-synthesis/id6_id4_0006.mp4\n"
          ]
        },
        {
          "name": "stderr",
          "output_type": "stream",
          "text": [
            "\rProcessing videos in dataset/Celeb-synthesis:   9%|▉         | 91/994 [00:25<04:03,  3.70it/s]"
          ]
        },
        {
          "name": "stdout",
          "output_type": "stream",
          "text": [
            "Extracted 20 frames from the first 10 seconds of dataset/Celeb-synthesis/id60_id61_0009.mp4\n"
          ]
        },
        {
          "name": "stderr",
          "output_type": "stream",
          "text": [
            "\rProcessing videos in dataset/Celeb-synthesis:   9%|▉         | 92/994 [00:25<04:02,  3.71it/s]"
          ]
        },
        {
          "name": "stdout",
          "output_type": "stream",
          "text": [
            "Extracted 20 frames from the first 10 seconds of dataset/Celeb-synthesis/id55_id51_0007.mp4\n"
          ]
        },
        {
          "name": "stderr",
          "output_type": "stream",
          "text": [
            "\rProcessing videos in dataset/Celeb-synthesis:   9%|▉         | 93/994 [00:25<03:59,  3.76it/s]"
          ]
        },
        {
          "name": "stdout",
          "output_type": "stream",
          "text": [
            "Extracted 20 frames from the first 10 seconds of dataset/Celeb-synthesis/id42_id44_0000.mp4\n"
          ]
        },
        {
          "name": "stderr",
          "output_type": "stream",
          "text": [
            "\rProcessing videos in dataset/Celeb-synthesis:   9%|▉         | 94/994 [00:25<03:58,  3.78it/s]"
          ]
        },
        {
          "name": "stdout",
          "output_type": "stream",
          "text": [
            "Extracted 20 frames from the first 10 seconds of dataset/Celeb-synthesis/id54_id51_0008.mp4\n"
          ]
        },
        {
          "name": "stderr",
          "output_type": "stream",
          "text": [
            "\rProcessing videos in dataset/Celeb-synthesis:  10%|▉         | 95/994 [00:26<04:00,  3.74it/s]"
          ]
        },
        {
          "name": "stdout",
          "output_type": "stream",
          "text": [
            "Extracted 20 frames from the first 10 seconds of dataset/Celeb-synthesis/id33_id31_0008.mp4\n"
          ]
        },
        {
          "name": "stderr",
          "output_type": "stream",
          "text": [
            "\rProcessing videos in dataset/Celeb-synthesis:  10%|▉         | 96/994 [00:26<03:55,  3.82it/s]"
          ]
        },
        {
          "name": "stdout",
          "output_type": "stream",
          "text": [
            "Extracted 20 frames from the first 10 seconds of dataset/Celeb-synthesis/id31_id2_0002.mp4\n"
          ]
        },
        {
          "name": "stderr",
          "output_type": "stream",
          "text": [
            "\rProcessing videos in dataset/Celeb-synthesis:  10%|▉         | 97/994 [00:26<04:01,  3.72it/s]"
          ]
        },
        {
          "name": "stdout",
          "output_type": "stream",
          "text": [
            "Extracted 20 frames from the first 10 seconds of dataset/Celeb-synthesis/id8_id7_0002.mp4\n"
          ]
        },
        {
          "name": "stderr",
          "output_type": "stream",
          "text": [
            "\rProcessing videos in dataset/Celeb-synthesis:  10%|▉         | 98/994 [00:26<03:56,  3.79it/s]"
          ]
        },
        {
          "name": "stdout",
          "output_type": "stream",
          "text": [
            "Extracted 20 frames from the first 10 seconds of dataset/Celeb-synthesis/id43_id40_0008.mp4\n"
          ]
        },
        {
          "name": "stderr",
          "output_type": "stream",
          "text": [
            "\rProcessing videos in dataset/Celeb-synthesis:  10%|▉         | 99/994 [00:27<04:05,  3.64it/s]"
          ]
        },
        {
          "name": "stdout",
          "output_type": "stream",
          "text": [
            "Extracted 20 frames from the first 10 seconds of dataset/Celeb-synthesis/id6_id4_0009.mp4\n"
          ]
        },
        {
          "name": "stderr",
          "output_type": "stream",
          "text": [
            "\rProcessing videos in dataset/Celeb-synthesis:  10%|█         | 100/994 [00:27<04:06,  3.63it/s]"
          ]
        },
        {
          "name": "stdout",
          "output_type": "stream",
          "text": [
            "Extracted 20 frames from the first 10 seconds of dataset/Celeb-synthesis/id29_id28_0005.mp4\n"
          ]
        },
        {
          "name": "stderr",
          "output_type": "stream",
          "text": [
            "\rProcessing videos in dataset/Celeb-synthesis:  10%|█         | 101/994 [00:27<04:17,  3.47it/s]"
          ]
        },
        {
          "name": "stdout",
          "output_type": "stream",
          "text": [
            "Extracted 20 frames from the first 10 seconds of dataset/Celeb-synthesis/id10_id7_0009.mp4\n"
          ]
        },
        {
          "name": "stderr",
          "output_type": "stream",
          "text": [
            "\rProcessing videos in dataset/Celeb-synthesis:  10%|█         | 102/994 [00:28<04:11,  3.55it/s]"
          ]
        },
        {
          "name": "stdout",
          "output_type": "stream",
          "text": [
            "Extracted 20 frames from the first 10 seconds of dataset/Celeb-synthesis/id59_id60_0007.mp4\n"
          ]
        },
        {
          "name": "stderr",
          "output_type": "stream",
          "text": [
            "\rProcessing videos in dataset/Celeb-synthesis:  10%|█         | 103/994 [00:28<04:02,  3.67it/s]"
          ]
        },
        {
          "name": "stdout",
          "output_type": "stream",
          "text": [
            "Extracted 20 frames from the first 10 seconds of dataset/Celeb-synthesis/id27_id22_0009.mp4\n"
          ]
        },
        {
          "name": "stderr",
          "output_type": "stream",
          "text": [
            "\rProcessing videos in dataset/Celeb-synthesis:  10%|█         | 104/994 [00:28<04:09,  3.57it/s]"
          ]
        },
        {
          "name": "stdout",
          "output_type": "stream",
          "text": [
            "Extracted 20 frames from the first 10 seconds of dataset/Celeb-synthesis/id23_id0_0001.mp4\n"
          ]
        },
        {
          "name": "stderr",
          "output_type": "stream",
          "text": [
            "\rProcessing videos in dataset/Celeb-synthesis:  11%|█         | 105/994 [00:28<04:10,  3.56it/s]"
          ]
        },
        {
          "name": "stdout",
          "output_type": "stream",
          "text": [
            "Extracted 20 frames from the first 10 seconds of dataset/Celeb-synthesis/id11_id7_0001.mp4\n"
          ]
        },
        {
          "name": "stderr",
          "output_type": "stream",
          "text": [
            "\rProcessing videos in dataset/Celeb-synthesis:  11%|█         | 106/994 [00:29<03:59,  3.71it/s]"
          ]
        },
        {
          "name": "stdout",
          "output_type": "stream",
          "text": [
            "Extracted 20 frames from the first 10 seconds of dataset/Celeb-synthesis/id19_id24_0004.mp4\n"
          ]
        },
        {
          "name": "stderr",
          "output_type": "stream",
          "text": [
            "\rProcessing videos in dataset/Celeb-synthesis:  11%|█         | 107/994 [00:29<03:57,  3.73it/s]"
          ]
        },
        {
          "name": "stdout",
          "output_type": "stream",
          "text": [
            "Extracted 20 frames from the first 10 seconds of dataset/Celeb-synthesis/id21_id9_0008.mp4\n"
          ]
        },
        {
          "name": "stderr",
          "output_type": "stream",
          "text": [
            "\rProcessing videos in dataset/Celeb-synthesis:  11%|█         | 108/994 [00:29<04:44,  3.11it/s]"
          ]
        },
        {
          "name": "stdout",
          "output_type": "stream",
          "text": [
            "Extracted 20 frames from the first 10 seconds of dataset/Celeb-synthesis/id12_id7_0002.mp4\n"
          ]
        },
        {
          "name": "stderr",
          "output_type": "stream",
          "text": [
            "\rProcessing videos in dataset/Celeb-synthesis:  11%|█         | 109/994 [00:30<05:15,  2.80it/s]"
          ]
        },
        {
          "name": "stdout",
          "output_type": "stream",
          "text": [
            "Extracted 20 frames from the first 10 seconds of dataset/Celeb-synthesis/id30_id2_0008.mp4\n"
          ]
        },
        {
          "name": "stderr",
          "output_type": "stream",
          "text": [
            "\rProcessing videos in dataset/Celeb-synthesis:  11%|█         | 110/994 [00:30<05:24,  2.72it/s]"
          ]
        },
        {
          "name": "stdout",
          "output_type": "stream",
          "text": [
            "Extracted 20 frames from the first 10 seconds of dataset/Celeb-synthesis/id48_id45_0005.mp4\n"
          ]
        },
        {
          "name": "stderr",
          "output_type": "stream",
          "text": [
            "\rProcessing videos in dataset/Celeb-synthesis:  11%|█         | 111/994 [00:31<05:37,  2.62it/s]"
          ]
        },
        {
          "name": "stdout",
          "output_type": "stream",
          "text": [
            "Extracted 20 frames from the first 10 seconds of dataset/Celeb-synthesis/id42_id43_0000.mp4\n"
          ]
        },
        {
          "name": "stderr",
          "output_type": "stream",
          "text": [
            "\rProcessing videos in dataset/Celeb-synthesis:  11%|█▏        | 112/994 [00:31<05:40,  2.59it/s]"
          ]
        },
        {
          "name": "stdout",
          "output_type": "stream",
          "text": [
            "Extracted 20 frames from the first 10 seconds of dataset/Celeb-synthesis/id55_id51_0002.mp4\n"
          ]
        },
        {
          "name": "stderr",
          "output_type": "stream",
          "text": [
            "\rProcessing videos in dataset/Celeb-synthesis:  11%|█▏        | 113/994 [00:31<05:47,  2.54it/s]"
          ]
        },
        {
          "name": "stdout",
          "output_type": "stream",
          "text": [
            "Extracted 20 frames from the first 10 seconds of dataset/Celeb-synthesis/id31_id1_0002.mp4\n"
          ]
        },
        {
          "name": "stderr",
          "output_type": "stream",
          "text": [
            "\rProcessing videos in dataset/Celeb-synthesis:  11%|█▏        | 114/994 [00:32<05:28,  2.68it/s]"
          ]
        },
        {
          "name": "stdout",
          "output_type": "stream",
          "text": [
            "Extracted 20 frames from the first 10 seconds of dataset/Celeb-synthesis/id35_id3_0008.mp4\n"
          ]
        },
        {
          "name": "stderr",
          "output_type": "stream",
          "text": [
            "\rProcessing videos in dataset/Celeb-synthesis:  12%|█▏        | 115/994 [00:32<05:11,  2.82it/s]"
          ]
        },
        {
          "name": "stdout",
          "output_type": "stream",
          "text": [
            "Extracted 20 frames from the first 10 seconds of dataset/Celeb-synthesis/id20_id6_0005.mp4\n"
          ]
        },
        {
          "name": "stderr",
          "output_type": "stream",
          "text": [
            "Processing videos in dataset/Celeb-synthesis:  12%|█▏        | 117/994 [00:32<04:01,  3.63it/s]"
          ]
        },
        {
          "name": "stdout",
          "output_type": "stream",
          "text": [
            "Extracted 20 frames from the first 10 seconds of dataset/Celeb-synthesis/id13_id7_0009.mp4\n",
            "Extracted 20 frames from the first 10 seconds of dataset/Celeb-synthesis/id10_id7_0006.mp4\n"
          ]
        },
        {
          "name": "stderr",
          "output_type": "stream",
          "text": [
            "\rProcessing videos in dataset/Celeb-synthesis:  12%|█▏        | 118/994 [00:33<03:58,  3.67it/s]"
          ]
        },
        {
          "name": "stdout",
          "output_type": "stream",
          "text": [
            "Extracted 20 frames from the first 10 seconds of dataset/Celeb-synthesis/id7_id12_0000.mp4\n"
          ]
        },
        {
          "name": "stderr",
          "output_type": "stream",
          "text": [
            "\rProcessing videos in dataset/Celeb-synthesis:  12%|█▏        | 119/994 [00:33<03:56,  3.70it/s]"
          ]
        },
        {
          "name": "stdout",
          "output_type": "stream",
          "text": [
            "Extracted 20 frames from the first 10 seconds of dataset/Celeb-synthesis/id26_id19_0000.mp4\n"
          ]
        },
        {
          "name": "stderr",
          "output_type": "stream",
          "text": [
            "\rProcessing videos in dataset/Celeb-synthesis:  12%|█▏        | 120/994 [00:33<04:00,  3.64it/s]"
          ]
        },
        {
          "name": "stdout",
          "output_type": "stream",
          "text": [
            "Extracted 20 frames from the first 10 seconds of dataset/Celeb-synthesis/id52_id50_0004.mp4\n"
          ]
        },
        {
          "name": "stderr",
          "output_type": "stream",
          "text": [
            "\rProcessing videos in dataset/Celeb-synthesis:  12%|█▏        | 121/994 [00:34<03:55,  3.71it/s]"
          ]
        },
        {
          "name": "stdout",
          "output_type": "stream",
          "text": [
            "Extracted 20 frames from the first 10 seconds of dataset/Celeb-synthesis/id42_id39_0003.mp4\n"
          ]
        },
        {
          "name": "stderr",
          "output_type": "stream",
          "text": [
            "\rProcessing videos in dataset/Celeb-synthesis:  12%|█▏        | 122/994 [00:34<03:57,  3.67it/s]"
          ]
        },
        {
          "name": "stdout",
          "output_type": "stream",
          "text": [
            "Extracted 20 frames from the first 10 seconds of dataset/Celeb-synthesis/id5_id61_0008.mp4\n"
          ]
        },
        {
          "name": "stderr",
          "output_type": "stream",
          "text": [
            "\rProcessing videos in dataset/Celeb-synthesis:  12%|█▏        | 123/994 [00:34<03:56,  3.68it/s]"
          ]
        },
        {
          "name": "stdout",
          "output_type": "stream",
          "text": [
            "Extracted 20 frames from the first 10 seconds of dataset/Celeb-synthesis/id7_id12_0009.mp4\n"
          ]
        },
        {
          "name": "stderr",
          "output_type": "stream",
          "text": [
            "Processing videos in dataset/Celeb-synthesis:  13%|█▎        | 125/994 [00:35<03:21,  4.30it/s]"
          ]
        },
        {
          "name": "stdout",
          "output_type": "stream",
          "text": [
            "Extracted 20 frames from the first 10 seconds of dataset/Celeb-synthesis/id48_id45_0007.mp4\n",
            "Extracted 20 frames from the first 10 seconds of dataset/Celeb-synthesis/id1_id0_0005.mp4\n"
          ]
        },
        {
          "name": "stderr",
          "output_type": "stream",
          "text": [
            "\rProcessing videos in dataset/Celeb-synthesis:  13%|█▎        | 126/994 [00:35<03:09,  4.57it/s]"
          ]
        },
        {
          "name": "stdout",
          "output_type": "stream",
          "text": [
            "Extracted 20 frames from the first 10 seconds of dataset/Celeb-synthesis/id24_id23_0006.mp4\n"
          ]
        },
        {
          "name": "stderr",
          "output_type": "stream",
          "text": [
            "\rProcessing videos in dataset/Celeb-synthesis:  13%|█▎        | 127/994 [00:35<03:21,  4.31it/s]"
          ]
        },
        {
          "name": "stdout",
          "output_type": "stream",
          "text": [
            "Extracted 20 frames from the first 10 seconds of dataset/Celeb-synthesis/id56_id50_0003.mp4\n"
          ]
        },
        {
          "name": "stderr",
          "output_type": "stream",
          "text": [
            "\rProcessing videos in dataset/Celeb-synthesis:  13%|█▎        | 128/994 [00:35<03:23,  4.26it/s]"
          ]
        },
        {
          "name": "stdout",
          "output_type": "stream",
          "text": [
            "Extracted 20 frames from the first 10 seconds of dataset/Celeb-synthesis/id51_id49_0004.mp4\n"
          ]
        },
        {
          "name": "stderr",
          "output_type": "stream",
          "text": [
            "\rProcessing videos in dataset/Celeb-synthesis:  13%|█▎        | 129/994 [00:36<03:39,  3.93it/s]"
          ]
        },
        {
          "name": "stdout",
          "output_type": "stream",
          "text": [
            "Extracted 20 frames from the first 10 seconds of dataset/Celeb-synthesis/id31_id2_0006.mp4\n"
          ]
        },
        {
          "name": "stderr",
          "output_type": "stream",
          "text": [
            "\rProcessing videos in dataset/Celeb-synthesis:  13%|█▎        | 130/994 [00:36<03:44,  3.85it/s]"
          ]
        },
        {
          "name": "stdout",
          "output_type": "stream",
          "text": [
            "Extracted 20 frames from the first 10 seconds of dataset/Celeb-synthesis/id24_id21_0008.mp4\n"
          ]
        },
        {
          "name": "stderr",
          "output_type": "stream",
          "text": [
            "\rProcessing videos in dataset/Celeb-synthesis:  13%|█▎        | 131/994 [00:36<03:49,  3.75it/s]"
          ]
        },
        {
          "name": "stdout",
          "output_type": "stream",
          "text": [
            "Extracted 20 frames from the first 10 seconds of dataset/Celeb-synthesis/id28_id3_0001.mp4\n"
          ]
        },
        {
          "name": "stderr",
          "output_type": "stream",
          "text": [
            "\rProcessing videos in dataset/Celeb-synthesis:  13%|█▎        | 132/994 [00:36<03:56,  3.65it/s]"
          ]
        },
        {
          "name": "stdout",
          "output_type": "stream",
          "text": [
            "Extracted 20 frames from the first 10 seconds of dataset/Celeb-synthesis/id34_id21_0005.mp4\n"
          ]
        },
        {
          "name": "stderr",
          "output_type": "stream",
          "text": [
            "\rProcessing videos in dataset/Celeb-synthesis:  13%|█▎        | 133/994 [00:37<03:51,  3.72it/s]"
          ]
        },
        {
          "name": "stdout",
          "output_type": "stream",
          "text": [
            "Extracted 20 frames from the first 10 seconds of dataset/Celeb-synthesis/id25_id22_0002.mp4\n"
          ]
        },
        {
          "name": "stderr",
          "output_type": "stream",
          "text": [
            "\rProcessing videos in dataset/Celeb-synthesis:  13%|█▎        | 134/994 [00:37<03:47,  3.79it/s]"
          ]
        },
        {
          "name": "stdout",
          "output_type": "stream",
          "text": [
            "Extracted 20 frames from the first 10 seconds of dataset/Celeb-synthesis/id48_id47_0009.mp4\n"
          ]
        },
        {
          "name": "stderr",
          "output_type": "stream",
          "text": [
            "\rProcessing videos in dataset/Celeb-synthesis:  14%|█▎        | 135/994 [00:37<03:50,  3.72it/s]"
          ]
        },
        {
          "name": "stdout",
          "output_type": "stream",
          "text": [
            "Extracted 20 frames from the first 10 seconds of dataset/Celeb-synthesis/id4_id1_0008.mp4\n"
          ]
        },
        {
          "name": "stderr",
          "output_type": "stream",
          "text": [
            "\rProcessing videos in dataset/Celeb-synthesis:  14%|█▎        | 136/994 [00:37<03:52,  3.69it/s]"
          ]
        },
        {
          "name": "stdout",
          "output_type": "stream",
          "text": [
            "Extracted 20 frames from the first 10 seconds of dataset/Celeb-synthesis/id42_id44_0002.mp4\n"
          ]
        },
        {
          "name": "stderr",
          "output_type": "stream",
          "text": [
            "\rProcessing videos in dataset/Celeb-synthesis:  14%|█▍        | 137/994 [00:38<03:45,  3.80it/s]"
          ]
        },
        {
          "name": "stdout",
          "output_type": "stream",
          "text": [
            "Extracted 20 frames from the first 10 seconds of dataset/Celeb-synthesis/id32_id21_0008.mp4\n"
          ]
        },
        {
          "name": "stderr",
          "output_type": "stream",
          "text": [
            "Processing videos in dataset/Celeb-synthesis:  14%|█▍        | 139/994 [00:38<03:21,  4.23it/s]"
          ]
        },
        {
          "name": "stdout",
          "output_type": "stream",
          "text": [
            "Extracted 20 frames from the first 10 seconds of dataset/Celeb-synthesis/id30_id1_0003.mp4\n",
            "Extracted 20 frames from the first 10 seconds of dataset/Celeb-synthesis/id35_id1_0006.mp4\n"
          ]
        },
        {
          "name": "stderr",
          "output_type": "stream",
          "text": [
            "\rProcessing videos in dataset/Celeb-synthesis:  14%|█▍        | 140/994 [00:38<03:31,  4.05it/s]"
          ]
        },
        {
          "name": "stdout",
          "output_type": "stream",
          "text": [
            "Extracted 20 frames from the first 10 seconds of dataset/Celeb-synthesis/id34_id28_0008.mp4\n"
          ]
        },
        {
          "name": "stderr",
          "output_type": "stream",
          "text": [
            "\rProcessing videos in dataset/Celeb-synthesis:  14%|█▍        | 141/994 [00:39<03:27,  4.12it/s]"
          ]
        },
        {
          "name": "stdout",
          "output_type": "stream",
          "text": [
            "Extracted 20 frames from the first 10 seconds of dataset/Celeb-synthesis/id25_id19_0008.mp4\n"
          ]
        },
        {
          "name": "stderr",
          "output_type": "stream",
          "text": [
            "\rProcessing videos in dataset/Celeb-synthesis:  14%|█▍        | 142/994 [00:39<03:32,  4.01it/s]"
          ]
        },
        {
          "name": "stdout",
          "output_type": "stream",
          "text": [
            "Extracted 20 frames from the first 10 seconds of dataset/Celeb-synthesis/id60_id59_0005.mp4\n"
          ]
        },
        {
          "name": "stderr",
          "output_type": "stream",
          "text": [
            "\rProcessing videos in dataset/Celeb-synthesis:  14%|█▍        | 143/994 [00:39<03:32,  4.00it/s]"
          ]
        },
        {
          "name": "stdout",
          "output_type": "stream",
          "text": [
            "Extracted 20 frames from the first 10 seconds of dataset/Celeb-synthesis/id33_id28_0001.mp4\n"
          ]
        },
        {
          "name": "stderr",
          "output_type": "stream",
          "text": [
            "\rProcessing videos in dataset/Celeb-synthesis:  14%|█▍        | 144/994 [00:39<03:32,  3.99it/s]"
          ]
        },
        {
          "name": "stdout",
          "output_type": "stream",
          "text": [
            "Extracted 20 frames from the first 10 seconds of dataset/Celeb-synthesis/id25_id22_0007.mp4\n"
          ]
        },
        {
          "name": "stderr",
          "output_type": "stream",
          "text": [
            "\rProcessing videos in dataset/Celeb-synthesis:  15%|█▍        | 145/994 [00:40<03:37,  3.91it/s]"
          ]
        },
        {
          "name": "stdout",
          "output_type": "stream",
          "text": [
            "Extracted 20 frames from the first 10 seconds of dataset/Celeb-synthesis/id55_id51_0000.mp4\n"
          ]
        },
        {
          "name": "stderr",
          "output_type": "stream",
          "text": [
            "\rProcessing videos in dataset/Celeb-synthesis:  15%|█▍        | 146/994 [00:40<03:32,  3.99it/s]"
          ]
        },
        {
          "name": "stdout",
          "output_type": "stream",
          "text": [
            "Extracted 20 frames from the first 10 seconds of dataset/Celeb-synthesis/id37_id2_0005.mp4\n"
          ]
        },
        {
          "name": "stderr",
          "output_type": "stream",
          "text": [
            "\rProcessing videos in dataset/Celeb-synthesis:  15%|█▍        | 147/994 [00:40<03:34,  3.95it/s]"
          ]
        },
        {
          "name": "stdout",
          "output_type": "stream",
          "text": [
            "Extracted 20 frames from the first 10 seconds of dataset/Celeb-synthesis/id38_id23_0009.mp4\n"
          ]
        },
        {
          "name": "stderr",
          "output_type": "stream",
          "text": [
            "\rProcessing videos in dataset/Celeb-synthesis:  15%|█▍        | 148/994 [00:40<03:36,  3.91it/s]"
          ]
        },
        {
          "name": "stdout",
          "output_type": "stream",
          "text": [
            "Extracted 20 frames from the first 10 seconds of dataset/Celeb-synthesis/id44_id39_0003.mp4\n"
          ]
        },
        {
          "name": "stderr",
          "output_type": "stream",
          "text": [
            "\rProcessing videos in dataset/Celeb-synthesis:  15%|█▍        | 149/994 [00:41<03:31,  3.99it/s]"
          ]
        },
        {
          "name": "stdout",
          "output_type": "stream",
          "text": [
            "Extracted 20 frames from the first 10 seconds of dataset/Celeb-synthesis/id25_id22_0008.mp4\n"
          ]
        },
        {
          "name": "stderr",
          "output_type": "stream",
          "text": [
            "\rProcessing videos in dataset/Celeb-synthesis:  15%|█▌        | 150/994 [00:41<03:29,  4.03it/s]"
          ]
        },
        {
          "name": "stdout",
          "output_type": "stream",
          "text": [
            "Extracted 20 frames from the first 10 seconds of dataset/Celeb-synthesis/id43_id40_0003.mp4\n"
          ]
        },
        {
          "name": "stderr",
          "output_type": "stream",
          "text": [
            "\rProcessing videos in dataset/Celeb-synthesis:  15%|█▌        | 151/994 [00:41<03:30,  4.01it/s]"
          ]
        },
        {
          "name": "stdout",
          "output_type": "stream",
          "text": [
            "Extracted 20 frames from the first 10 seconds of dataset/Celeb-synthesis/id23_id1_0007.mp4\n"
          ]
        },
        {
          "name": "stderr",
          "output_type": "stream",
          "text": [
            "\rProcessing videos in dataset/Celeb-synthesis:  15%|█▌        | 152/994 [00:41<03:31,  3.99it/s]"
          ]
        },
        {
          "name": "stdout",
          "output_type": "stream",
          "text": [
            "Extracted 20 frames from the first 10 seconds of dataset/Celeb-synthesis/id45_id39_0009.mp4\n"
          ]
        },
        {
          "name": "stderr",
          "output_type": "stream",
          "text": [
            "Processing videos in dataset/Celeb-synthesis:  15%|█▌        | 154/994 [00:42<03:22,  4.14it/s]"
          ]
        },
        {
          "name": "stdout",
          "output_type": "stream",
          "text": [
            "Extracted 20 frames from the first 10 seconds of dataset/Celeb-synthesis/id9_id16_0007.mp4\n",
            "Extracted 20 frames from the first 10 seconds of dataset/Celeb-synthesis/id1_id0_0009.mp4\n"
          ]
        },
        {
          "name": "stderr",
          "output_type": "stream",
          "text": [
            "\rProcessing videos in dataset/Celeb-synthesis:  16%|█▌        | 155/994 [00:42<03:42,  3.78it/s]"
          ]
        },
        {
          "name": "stdout",
          "output_type": "stream",
          "text": [
            "Extracted 20 frames from the first 10 seconds of dataset/Celeb-synthesis/id45_id40_0007.mp4\n"
          ]
        },
        {
          "name": "stderr",
          "output_type": "stream",
          "text": [
            "\rProcessing videos in dataset/Celeb-synthesis:  16%|█▌        | 156/994 [00:42<03:53,  3.59it/s]"
          ]
        },
        {
          "name": "stdout",
          "output_type": "stream",
          "text": [
            "Extracted 20 frames from the first 10 seconds of dataset/Celeb-synthesis/id19_id23_0008.mp4\n"
          ]
        },
        {
          "name": "stderr",
          "output_type": "stream",
          "text": [
            "\rProcessing videos in dataset/Celeb-synthesis:  16%|█▌        | 157/994 [00:43<04:36,  3.02it/s]"
          ]
        },
        {
          "name": "stdout",
          "output_type": "stream",
          "text": [
            "Extracted 20 frames from the first 10 seconds of dataset/Celeb-synthesis/id38_id23_0002.mp4\n"
          ]
        },
        {
          "name": "stderr",
          "output_type": "stream",
          "text": [
            "\rProcessing videos in dataset/Celeb-synthesis:  16%|█▌        | 158/994 [00:43<05:15,  2.65it/s]"
          ]
        },
        {
          "name": "stdout",
          "output_type": "stream",
          "text": [
            "Extracted 20 frames from the first 10 seconds of dataset/Celeb-synthesis/id16_id0_0000.mp4\n"
          ]
        },
        {
          "name": "stderr",
          "output_type": "stream",
          "text": [
            "\rProcessing videos in dataset/Celeb-synthesis:  16%|█▌        | 159/994 [00:44<05:21,  2.60it/s]"
          ]
        },
        {
          "name": "stdout",
          "output_type": "stream",
          "text": [
            "Extracted 20 frames from the first 10 seconds of dataset/Celeb-synthesis/id50_id49_0003.mp4\n"
          ]
        },
        {
          "name": "stderr",
          "output_type": "stream",
          "text": [
            "\rProcessing videos in dataset/Celeb-synthesis:  16%|█▌        | 160/994 [00:44<04:55,  2.83it/s]"
          ]
        },
        {
          "name": "stdout",
          "output_type": "stream",
          "text": [
            "Extracted 20 frames from the first 10 seconds of dataset/Celeb-synthesis/id3_id9_0005.mp4\n"
          ]
        },
        {
          "name": "stderr",
          "output_type": "stream",
          "text": [
            "\rProcessing videos in dataset/Celeb-synthesis:  16%|█▌        | 161/994 [00:45<05:02,  2.76it/s]"
          ]
        },
        {
          "name": "stdout",
          "output_type": "stream",
          "text": [
            "Extracted 20 frames from the first 10 seconds of dataset/Celeb-synthesis/id1_id0_0003.mp4\n"
          ]
        },
        {
          "name": "stderr",
          "output_type": "stream",
          "text": [
            "\rProcessing videos in dataset/Celeb-synthesis:  16%|█▋        | 162/994 [00:45<04:38,  2.99it/s]"
          ]
        },
        {
          "name": "stdout",
          "output_type": "stream",
          "text": [
            "Extracted 20 frames from the first 10 seconds of dataset/Celeb-synthesis/id23_id0_0003.mp4\n"
          ]
        },
        {
          "name": "stderr",
          "output_type": "stream",
          "text": [
            "\rProcessing videos in dataset/Celeb-synthesis:  16%|█▋        | 163/994 [00:45<04:49,  2.87it/s]"
          ]
        },
        {
          "name": "stdout",
          "output_type": "stream",
          "text": [
            "Extracted 20 frames from the first 10 seconds of dataset/Celeb-synthesis/id38_id28_0005.mp4\n"
          ]
        },
        {
          "name": "stderr",
          "output_type": "stream",
          "text": [
            "\rProcessing videos in dataset/Celeb-synthesis:  16%|█▋        | 164/994 [00:45<04:42,  2.93it/s]"
          ]
        },
        {
          "name": "stdout",
          "output_type": "stream",
          "text": [
            "Extracted 20 frames from the first 10 seconds of dataset/Celeb-synthesis/id26_id19_0002.mp4\n"
          ]
        },
        {
          "name": "stderr",
          "output_type": "stream",
          "text": [
            "\rProcessing videos in dataset/Celeb-synthesis:  17%|█▋        | 165/994 [00:46<04:25,  3.12it/s]"
          ]
        },
        {
          "name": "stdout",
          "output_type": "stream",
          "text": [
            "Extracted 20 frames from the first 10 seconds of dataset/Celeb-synthesis/id35_id2_0007.mp4\n"
          ]
        },
        {
          "name": "stderr",
          "output_type": "stream",
          "text": [
            "\rProcessing videos in dataset/Celeb-synthesis:  17%|█▋        | 166/994 [00:46<04:10,  3.30it/s]"
          ]
        },
        {
          "name": "stdout",
          "output_type": "stream",
          "text": [
            "Extracted 20 frames from the first 10 seconds of dataset/Celeb-synthesis/id48_id47_0001.mp4\n"
          ]
        },
        {
          "name": "stderr",
          "output_type": "stream",
          "text": [
            "\rProcessing videos in dataset/Celeb-synthesis:  17%|█▋        | 167/994 [00:46<03:54,  3.52it/s]"
          ]
        },
        {
          "name": "stdout",
          "output_type": "stream",
          "text": [
            "Extracted 20 frames from the first 10 seconds of dataset/Celeb-synthesis/id20_id6_0006.mp4\n"
          ]
        },
        {
          "name": "stderr",
          "output_type": "stream",
          "text": [
            "\rProcessing videos in dataset/Celeb-synthesis:  17%|█▋        | 168/994 [00:47<03:48,  3.62it/s]"
          ]
        },
        {
          "name": "stdout",
          "output_type": "stream",
          "text": [
            "Extracted 20 frames from the first 10 seconds of dataset/Celeb-synthesis/id49_id51_0001.mp4\n"
          ]
        },
        {
          "name": "stderr",
          "output_type": "stream",
          "text": [
            "\rProcessing videos in dataset/Celeb-synthesis:  17%|█▋        | 169/994 [00:47<03:30,  3.92it/s]"
          ]
        },
        {
          "name": "stdout",
          "output_type": "stream",
          "text": [
            "Extracted 20 frames from the first 10 seconds of dataset/Celeb-synthesis/id2_id16_0001.mp4\n"
          ]
        },
        {
          "name": "stderr",
          "output_type": "stream",
          "text": [
            "\rProcessing videos in dataset/Celeb-synthesis:  17%|█▋        | 170/994 [00:47<03:33,  3.86it/s]"
          ]
        },
        {
          "name": "stdout",
          "output_type": "stream",
          "text": [
            "Extracted 20 frames from the first 10 seconds of dataset/Celeb-synthesis/id30_id2_0005.mp4\n"
          ]
        },
        {
          "name": "stderr",
          "output_type": "stream",
          "text": [
            "\rProcessing videos in dataset/Celeb-synthesis:  17%|█▋        | 171/994 [00:47<03:36,  3.80it/s]"
          ]
        },
        {
          "name": "stdout",
          "output_type": "stream",
          "text": [
            "Extracted 20 frames from the first 10 seconds of dataset/Celeb-synthesis/id4_id2_0007.mp4\n"
          ]
        },
        {
          "name": "stderr",
          "output_type": "stream",
          "text": [
            "Processing videos in dataset/Celeb-synthesis:  17%|█▋        | 173/994 [00:48<03:21,  4.07it/s]"
          ]
        },
        {
          "name": "stdout",
          "output_type": "stream",
          "text": [
            "Extracted 20 frames from the first 10 seconds of dataset/Celeb-synthesis/id51_id49_0002.mp4\n",
            "Extracted 20 frames from the first 10 seconds of dataset/Celeb-synthesis/id21_id16_0000.mp4\n"
          ]
        },
        {
          "name": "stderr",
          "output_type": "stream",
          "text": [
            "Processing videos in dataset/Celeb-synthesis:  18%|█▊        | 175/994 [00:48<03:08,  4.35it/s]"
          ]
        },
        {
          "name": "stdout",
          "output_type": "stream",
          "text": [
            "Extracted 20 frames from the first 10 seconds of dataset/Celeb-synthesis/id50_id51_0001.mp4\n",
            "Extracted 20 frames from the first 10 seconds of dataset/Celeb-synthesis/id29_id26_0009.mp4\n"
          ]
        },
        {
          "name": "stderr",
          "output_type": "stream",
          "text": [
            "\rProcessing videos in dataset/Celeb-synthesis:  18%|█▊        | 176/994 [00:48<03:20,  4.08it/s]"
          ]
        },
        {
          "name": "stdout",
          "output_type": "stream",
          "text": [
            "Extracted 20 frames from the first 10 seconds of dataset/Celeb-synthesis/id11_id7_0009.mp4\n"
          ]
        },
        {
          "name": "stderr",
          "output_type": "stream",
          "text": [
            "Processing videos in dataset/Celeb-synthesis:  18%|█▊        | 178/994 [00:49<03:09,  4.30it/s]"
          ]
        },
        {
          "name": "stdout",
          "output_type": "stream",
          "text": [
            "Extracted 20 frames from the first 10 seconds of dataset/Celeb-synthesis/id57_id52_0007.mp4\n",
            "Extracted 20 frames from the first 10 seconds of dataset/Celeb-synthesis/id59_id60_0001.mp4\n"
          ]
        },
        {
          "name": "stderr",
          "output_type": "stream",
          "text": [
            "\rProcessing videos in dataset/Celeb-synthesis:  18%|█▊        | 179/994 [00:49<03:22,  4.02it/s]"
          ]
        },
        {
          "name": "stdout",
          "output_type": "stream",
          "text": [
            "Extracted 20 frames from the first 10 seconds of dataset/Celeb-synthesis/id34_id29_0005.mp4\n"
          ]
        },
        {
          "name": "stderr",
          "output_type": "stream",
          "text": [
            "\rProcessing videos in dataset/Celeb-synthesis:  18%|█▊        | 180/994 [00:49<03:28,  3.91it/s]"
          ]
        },
        {
          "name": "stdout",
          "output_type": "stream",
          "text": [
            "Extracted 20 frames from the first 10 seconds of dataset/Celeb-synthesis/id52_id49_0009.mp4\n"
          ]
        },
        {
          "name": "stderr",
          "output_type": "stream",
          "text": [
            "\rProcessing videos in dataset/Celeb-synthesis:  18%|█▊        | 181/994 [00:50<03:29,  3.89it/s]"
          ]
        },
        {
          "name": "stdout",
          "output_type": "stream",
          "text": [
            "Extracted 20 frames from the first 10 seconds of dataset/Celeb-synthesis/id23_id0_0002.mp4\n"
          ]
        },
        {
          "name": "stderr",
          "output_type": "stream",
          "text": [
            "\rProcessing videos in dataset/Celeb-synthesis:  18%|█▊        | 182/994 [00:50<03:28,  3.89it/s]"
          ]
        },
        {
          "name": "stdout",
          "output_type": "stream",
          "text": [
            "Extracted 20 frames from the first 10 seconds of dataset/Celeb-synthesis/id46_id41_0008.mp4\n"
          ]
        },
        {
          "name": "stderr",
          "output_type": "stream",
          "text": [
            "\rProcessing videos in dataset/Celeb-synthesis:  18%|█▊        | 183/994 [00:50<03:27,  3.91it/s]"
          ]
        },
        {
          "name": "stdout",
          "output_type": "stream",
          "text": [
            "Extracted 20 frames from the first 10 seconds of dataset/Celeb-synthesis/id27_id22_0002.mp4\n"
          ]
        },
        {
          "name": "stderr",
          "output_type": "stream",
          "text": [
            "\rProcessing videos in dataset/Celeb-synthesis:  19%|█▊        | 184/994 [00:50<03:28,  3.88it/s]"
          ]
        },
        {
          "name": "stdout",
          "output_type": "stream",
          "text": [
            "Extracted 20 frames from the first 10 seconds of dataset/Celeb-synthesis/id56_id49_0003.mp4\n",
            "Extracted 20 frames from the first 10 seconds of dataset/Celeb-synthesis/id24_id21_0003.mp4\n"
          ]
        },
        {
          "name": "stderr",
          "output_type": "stream",
          "text": [
            "\rProcessing videos in dataset/Celeb-synthesis:  19%|█▊        | 186/994 [00:51<02:56,  4.57it/s]"
          ]
        },
        {
          "name": "stdout",
          "output_type": "stream",
          "text": [
            "Extracted 20 frames from the first 10 seconds of dataset/Celeb-synthesis/id42_id41_0002.mp4\n"
          ]
        },
        {
          "name": "stderr",
          "output_type": "stream",
          "text": [
            "Processing videos in dataset/Celeb-synthesis:  19%|█▉        | 188/994 [00:51<02:49,  4.75it/s]"
          ]
        },
        {
          "name": "stdout",
          "output_type": "stream",
          "text": [
            "Extracted 20 frames from the first 10 seconds of dataset/Celeb-synthesis/id52_id50_0006.mp4\n",
            "Extracted 20 frames from the first 10 seconds of dataset/Celeb-synthesis/id29_id28_0009.mp4\n"
          ]
        },
        {
          "name": "stderr",
          "output_type": "stream",
          "text": [
            "Processing videos in dataset/Celeb-synthesis:  19%|█▉        | 190/994 [00:52<02:37,  5.10it/s]"
          ]
        },
        {
          "name": "stdout",
          "output_type": "stream",
          "text": [
            "Extracted 20 frames from the first 10 seconds of dataset/Celeb-synthesis/id27_id22_0008.mp4\n",
            "Extracted 20 frames from the first 10 seconds of dataset/Celeb-synthesis/id1_id0_0000.mp4\n"
          ]
        },
        {
          "name": "stderr",
          "output_type": "stream",
          "text": [
            "\rProcessing videos in dataset/Celeb-synthesis:  19%|█▉        | 191/994 [00:52<02:47,  4.78it/s]"
          ]
        },
        {
          "name": "stdout",
          "output_type": "stream",
          "text": [
            "Extracted 20 frames from the first 10 seconds of dataset/Celeb-synthesis/id23_id1_0004.mp4\n"
          ]
        },
        {
          "name": "stderr",
          "output_type": "stream",
          "text": [
            "\rProcessing videos in dataset/Celeb-synthesis:  19%|█▉        | 192/994 [00:52<02:51,  4.69it/s]"
          ]
        },
        {
          "name": "stdout",
          "output_type": "stream",
          "text": [
            "Extracted 20 frames from the first 10 seconds of dataset/Celeb-synthesis/id47_id40_0000.mp4\n"
          ]
        },
        {
          "name": "stderr",
          "output_type": "stream",
          "text": [
            "Processing videos in dataset/Celeb-synthesis:  20%|█▉        | 194/994 [00:53<02:55,  4.57it/s]"
          ]
        },
        {
          "name": "stdout",
          "output_type": "stream",
          "text": [
            "Extracted 20 frames from the first 10 seconds of dataset/Celeb-synthesis/id54_id51_0006.mp4\n",
            "Extracted 20 frames from the first 10 seconds of dataset/Celeb-synthesis/id19_id23_0006.mp4\n"
          ]
        },
        {
          "name": "stderr",
          "output_type": "stream",
          "text": [
            "\rProcessing videos in dataset/Celeb-synthesis:  20%|█▉        | 195/994 [00:53<03:00,  4.43it/s]"
          ]
        },
        {
          "name": "stdout",
          "output_type": "stream",
          "text": [
            "Extracted 20 frames from the first 10 seconds of dataset/Celeb-synthesis/id57_id53_0000.mp4\n"
          ]
        },
        {
          "name": "stderr",
          "output_type": "stream",
          "text": [
            "\rProcessing videos in dataset/Celeb-synthesis:  20%|█▉        | 196/994 [00:53<03:12,  4.14it/s]"
          ]
        },
        {
          "name": "stdout",
          "output_type": "stream",
          "text": [
            "Extracted 20 frames from the first 10 seconds of dataset/Celeb-synthesis/id42_id40_0002.mp4\n"
          ]
        },
        {
          "name": "stderr",
          "output_type": "stream",
          "text": [
            "Processing videos in dataset/Celeb-synthesis:  20%|█▉        | 198/994 [00:54<03:04,  4.32it/s]"
          ]
        },
        {
          "name": "stdout",
          "output_type": "stream",
          "text": [
            "Extracted 20 frames from the first 10 seconds of dataset/Celeb-synthesis/id53_id49_0006.mp4\n",
            "Extracted 20 frames from the first 10 seconds of dataset/Celeb-synthesis/id16_id1_0013.mp4\n"
          ]
        },
        {
          "name": "stderr",
          "output_type": "stream",
          "text": [
            "\rProcessing videos in dataset/Celeb-synthesis:  20%|██        | 199/994 [00:54<03:18,  4.01it/s]"
          ]
        },
        {
          "name": "stdout",
          "output_type": "stream",
          "text": [
            "Extracted 20 frames from the first 10 seconds of dataset/Celeb-synthesis/id52_id50_0001.mp4\n"
          ]
        },
        {
          "name": "stderr",
          "output_type": "stream",
          "text": [
            "\rProcessing videos in dataset/Celeb-synthesis:  20%|██        | 200/994 [00:54<03:19,  3.97it/s]"
          ]
        },
        {
          "name": "stdout",
          "output_type": "stream",
          "text": [
            "Extracted 20 frames from the first 10 seconds of dataset/Celeb-synthesis/id22_id20_0001.mp4\n"
          ]
        },
        {
          "name": "stderr",
          "output_type": "stream",
          "text": [
            "\rProcessing videos in dataset/Celeb-synthesis:  20%|██        | 201/994 [00:54<03:23,  3.90it/s]"
          ]
        },
        {
          "name": "stdout",
          "output_type": "stream",
          "text": [
            "Extracted 20 frames from the first 10 seconds of dataset/Celeb-synthesis/id38_id26_0006.mp4\n"
          ]
        },
        {
          "name": "stderr",
          "output_type": "stream",
          "text": [
            "\rProcessing videos in dataset/Celeb-synthesis:  20%|██        | 202/994 [00:55<03:40,  3.59it/s]"
          ]
        },
        {
          "name": "stdout",
          "output_type": "stream",
          "text": [
            "Extracted 20 frames from the first 10 seconds of dataset/Celeb-synthesis/id9_id16_0004.mp4\n"
          ]
        },
        {
          "name": "stderr",
          "output_type": "stream",
          "text": [
            "Processing videos in dataset/Celeb-synthesis:  21%|██        | 204/994 [00:55<03:07,  4.22it/s]"
          ]
        },
        {
          "name": "stdout",
          "output_type": "stream",
          "text": [
            "Extracted 20 frames from the first 10 seconds of dataset/Celeb-synthesis/id21_id16_0001.mp4\n",
            "Extracted 20 frames from the first 10 seconds of dataset/Celeb-synthesis/id3_id9_0000.mp4\n"
          ]
        },
        {
          "name": "stderr",
          "output_type": "stream",
          "text": [
            "\rProcessing videos in dataset/Celeb-synthesis:  21%|██        | 205/994 [00:55<02:48,  4.69it/s]"
          ]
        },
        {
          "name": "stdout",
          "output_type": "stream",
          "text": [
            "Extracted 20 frames from the first 10 seconds of dataset/Celeb-synthesis/id42_id44_0001.mp4\n"
          ]
        },
        {
          "name": "stderr",
          "output_type": "stream",
          "text": [
            "\rProcessing videos in dataset/Celeb-synthesis:  21%|██        | 206/994 [00:56<03:31,  3.72it/s]"
          ]
        },
        {
          "name": "stdout",
          "output_type": "stream",
          "text": [
            "Extracted 20 frames from the first 10 seconds of dataset/Celeb-synthesis/id11_id7_0006.mp4\n"
          ]
        },
        {
          "name": "stderr",
          "output_type": "stream",
          "text": [
            "\rProcessing videos in dataset/Celeb-synthesis:  21%|██        | 207/994 [00:56<03:57,  3.31it/s]"
          ]
        },
        {
          "name": "stdout",
          "output_type": "stream",
          "text": [
            "Extracted 20 frames from the first 10 seconds of dataset/Celeb-synthesis/id40_id41_0007.mp4\n"
          ]
        },
        {
          "name": "stderr",
          "output_type": "stream",
          "text": [
            "\rProcessing videos in dataset/Celeb-synthesis:  21%|██        | 208/994 [00:56<04:05,  3.20it/s]"
          ]
        },
        {
          "name": "stdout",
          "output_type": "stream",
          "text": [
            "Extracted 20 frames from the first 10 seconds of dataset/Celeb-synthesis/id2_id16_0000.mp4\n"
          ]
        },
        {
          "name": "stderr",
          "output_type": "stream",
          "text": [
            "\rProcessing videos in dataset/Celeb-synthesis:  21%|██        | 209/994 [00:57<04:20,  3.01it/s]"
          ]
        },
        {
          "name": "stdout",
          "output_type": "stream",
          "text": [
            "Extracted 20 frames from the first 10 seconds of dataset/Celeb-synthesis/id16_id0_0006.mp4\n"
          ]
        },
        {
          "name": "stderr",
          "output_type": "stream",
          "text": [
            "\rProcessing videos in dataset/Celeb-synthesis:  21%|██        | 210/994 [00:57<04:22,  2.98it/s]"
          ]
        },
        {
          "name": "stdout",
          "output_type": "stream",
          "text": [
            "Extracted 20 frames from the first 10 seconds of dataset/Celeb-synthesis/id56_id50_0007.mp4\n"
          ]
        },
        {
          "name": "stderr",
          "output_type": "stream",
          "text": [
            "\rProcessing videos in dataset/Celeb-synthesis:  21%|██        | 211/994 [00:57<04:45,  2.75it/s]"
          ]
        },
        {
          "name": "stdout",
          "output_type": "stream",
          "text": [
            "Extracted 20 frames from the first 10 seconds of dataset/Celeb-synthesis/id20_id4_0007.mp4\n"
          ]
        },
        {
          "name": "stderr",
          "output_type": "stream",
          "text": [
            "\rProcessing videos in dataset/Celeb-synthesis:  21%|██▏       | 212/994 [00:58<05:04,  2.57it/s]"
          ]
        },
        {
          "name": "stdout",
          "output_type": "stream",
          "text": [
            "Extracted 20 frames from the first 10 seconds of dataset/Celeb-synthesis/id4_id1_0003.mp4\n"
          ]
        },
        {
          "name": "stderr",
          "output_type": "stream",
          "text": [
            "\rProcessing videos in dataset/Celeb-synthesis:  21%|██▏       | 213/994 [00:58<05:22,  2.42it/s]"
          ]
        },
        {
          "name": "stdout",
          "output_type": "stream",
          "text": [
            "Extracted 20 frames from the first 10 seconds of dataset/Celeb-synthesis/id49_id51_0004.mp4\n"
          ]
        },
        {
          "name": "stderr",
          "output_type": "stream",
          "text": [
            "\rProcessing videos in dataset/Celeb-synthesis:  22%|██▏       | 214/994 [00:59<05:23,  2.41it/s]"
          ]
        },
        {
          "name": "stdout",
          "output_type": "stream",
          "text": [
            "Extracted 20 frames from the first 10 seconds of dataset/Celeb-synthesis/id42_id43_0003.mp4\n"
          ]
        },
        {
          "name": "stderr",
          "output_type": "stream",
          "text": [
            "\rProcessing videos in dataset/Celeb-synthesis:  22%|██▏       | 215/994 [00:59<04:44,  2.74it/s]"
          ]
        },
        {
          "name": "stdout",
          "output_type": "stream",
          "text": [
            "Extracted 20 frames from the first 10 seconds of dataset/Celeb-synthesis/id48_id45_0000.mp4\n"
          ]
        },
        {
          "name": "stderr",
          "output_type": "stream",
          "text": [
            "\rProcessing videos in dataset/Celeb-synthesis:  22%|██▏       | 216/994 [00:59<04:22,  2.96it/s]"
          ]
        },
        {
          "name": "stdout",
          "output_type": "stream",
          "text": [
            "Extracted 20 frames from the first 10 seconds of dataset/Celeb-synthesis/id35_id2_0000.mp4\n"
          ]
        },
        {
          "name": "stderr",
          "output_type": "stream",
          "text": [
            "\rProcessing videos in dataset/Celeb-synthesis:  22%|██▏       | 217/994 [01:00<04:13,  3.07it/s]"
          ]
        },
        {
          "name": "stdout",
          "output_type": "stream",
          "text": [
            "Extracted 20 frames from the first 10 seconds of dataset/Celeb-synthesis/id8_id9_0003.mp4\n"
          ]
        },
        {
          "name": "stderr",
          "output_type": "stream",
          "text": [
            "\rProcessing videos in dataset/Celeb-synthesis:  22%|██▏       | 218/994 [01:00<03:56,  3.28it/s]"
          ]
        },
        {
          "name": "stdout",
          "output_type": "stream",
          "text": [
            "Extracted 20 frames from the first 10 seconds of dataset/Celeb-synthesis/id53_id50_0007.mp4\n"
          ]
        },
        {
          "name": "stderr",
          "output_type": "stream",
          "text": [
            "\rProcessing videos in dataset/Celeb-synthesis:  22%|██▏       | 219/994 [01:00<03:45,  3.44it/s]"
          ]
        },
        {
          "name": "stdout",
          "output_type": "stream",
          "text": [
            "Extracted 20 frames from the first 10 seconds of dataset/Celeb-synthesis/id28_id3_0005.mp4\n"
          ]
        },
        {
          "name": "stderr",
          "output_type": "stream",
          "text": [
            "\rProcessing videos in dataset/Celeb-synthesis:  22%|██▏       | 220/994 [01:00<03:36,  3.58it/s]"
          ]
        },
        {
          "name": "stdout",
          "output_type": "stream",
          "text": [
            "Extracted 20 frames from the first 10 seconds of dataset/Celeb-synthesis/id27_id23_0003.mp4\n"
          ]
        },
        {
          "name": "stderr",
          "output_type": "stream",
          "text": [
            "\rProcessing videos in dataset/Celeb-synthesis:  22%|██▏       | 221/994 [01:01<03:29,  3.70it/s]"
          ]
        },
        {
          "name": "stdout",
          "output_type": "stream",
          "text": [
            "Extracted 20 frames from the first 10 seconds of dataset/Celeb-synthesis/id33_id26_0004.mp4\n"
          ]
        },
        {
          "name": "stderr",
          "output_type": "stream",
          "text": [
            "Processing videos in dataset/Celeb-synthesis:  22%|██▏       | 223/994 [01:01<03:12,  4.01it/s]"
          ]
        },
        {
          "name": "stdout",
          "output_type": "stream",
          "text": [
            "Extracted 20 frames from the first 10 seconds of dataset/Celeb-synthesis/id4_id2_0006.mp4\n",
            "Extracted 20 frames from the first 10 seconds of dataset/Celeb-synthesis/id2_id16_0005.mp4\n"
          ]
        },
        {
          "name": "stderr",
          "output_type": "stream",
          "text": [
            "\rProcessing videos in dataset/Celeb-synthesis:  23%|██▎       | 224/994 [01:01<03:16,  3.92it/s]"
          ]
        },
        {
          "name": "stdout",
          "output_type": "stream",
          "text": [
            "Extracted 20 frames from the first 10 seconds of dataset/Celeb-synthesis/id46_id41_0009.mp4\n"
          ]
        },
        {
          "name": "stderr",
          "output_type": "stream",
          "text": [
            "\rProcessing videos in dataset/Celeb-synthesis:  23%|██▎       | 225/994 [01:02<03:18,  3.88it/s]"
          ]
        },
        {
          "name": "stdout",
          "output_type": "stream",
          "text": [
            "Extracted 20 frames from the first 10 seconds of dataset/Celeb-synthesis/id57_id53_0004.mp4\n"
          ]
        },
        {
          "name": "stderr",
          "output_type": "stream",
          "text": [
            "\rProcessing videos in dataset/Celeb-synthesis:  23%|██▎       | 226/994 [01:02<03:24,  3.76it/s]"
          ]
        },
        {
          "name": "stdout",
          "output_type": "stream",
          "text": [
            "Extracted 20 frames from the first 10 seconds of dataset/Celeb-synthesis/id16_id0_0010.mp4\n"
          ]
        },
        {
          "name": "stderr",
          "output_type": "stream",
          "text": [
            "\rProcessing videos in dataset/Celeb-synthesis:  23%|██▎       | 227/994 [01:02<03:26,  3.72it/s]"
          ]
        },
        {
          "name": "stdout",
          "output_type": "stream",
          "text": [
            "Extracted 20 frames from the first 10 seconds of dataset/Celeb-synthesis/id43_id40_0000.mp4\n"
          ]
        },
        {
          "name": "stderr",
          "output_type": "stream",
          "text": [
            "\rProcessing videos in dataset/Celeb-synthesis:  23%|██▎       | 228/994 [01:03<03:29,  3.66it/s]"
          ]
        },
        {
          "name": "stdout",
          "output_type": "stream",
          "text": [
            "Extracted 20 frames from the first 10 seconds of dataset/Celeb-synthesis/id42_id40_0003.mp4\n"
          ]
        },
        {
          "name": "stderr",
          "output_type": "stream",
          "text": [
            "\rProcessing videos in dataset/Celeb-synthesis:  23%|██▎       | 229/994 [01:03<03:22,  3.78it/s]"
          ]
        },
        {
          "name": "stdout",
          "output_type": "stream",
          "text": [
            "Extracted 20 frames from the first 10 seconds of dataset/Celeb-synthesis/id43_id39_0002.mp4\n"
          ]
        },
        {
          "name": "stderr",
          "output_type": "stream",
          "text": [
            "\rProcessing videos in dataset/Celeb-synthesis:  23%|██▎       | 230/994 [01:03<03:23,  3.76it/s]"
          ]
        },
        {
          "name": "stdout",
          "output_type": "stream",
          "text": [
            "Extracted 20 frames from the first 10 seconds of dataset/Celeb-synthesis/id60_id59_0003.mp4\n"
          ]
        },
        {
          "name": "stderr",
          "output_type": "stream",
          "text": [
            "\rProcessing videos in dataset/Celeb-synthesis:  23%|██▎       | 231/994 [01:03<03:20,  3.81it/s]"
          ]
        },
        {
          "name": "stdout",
          "output_type": "stream",
          "text": [
            "Extracted 20 frames from the first 10 seconds of dataset/Celeb-synthesis/id3_id20_0009.mp4\n"
          ]
        },
        {
          "name": "stderr",
          "output_type": "stream",
          "text": [
            "\rProcessing videos in dataset/Celeb-synthesis:  23%|██▎       | 232/994 [01:04<03:23,  3.75it/s]"
          ]
        },
        {
          "name": "stdout",
          "output_type": "stream",
          "text": [
            "Extracted 20 frames from the first 10 seconds of dataset/Celeb-synthesis/id32_id20_0002.mp4\n"
          ]
        },
        {
          "name": "stderr",
          "output_type": "stream",
          "text": [
            "\rProcessing videos in dataset/Celeb-synthesis:  23%|██▎       | 233/994 [01:04<03:20,  3.79it/s]"
          ]
        },
        {
          "name": "stdout",
          "output_type": "stream",
          "text": [
            "Extracted 20 frames from the first 10 seconds of dataset/Celeb-synthesis/id50_id51_0004.mp4\n"
          ]
        },
        {
          "name": "stderr",
          "output_type": "stream",
          "text": [
            "\rProcessing videos in dataset/Celeb-synthesis:  24%|██▎       | 234/994 [01:04<03:17,  3.85it/s]"
          ]
        },
        {
          "name": "stdout",
          "output_type": "stream",
          "text": [
            "Extracted 20 frames from the first 10 seconds of dataset/Celeb-synthesis/id57_id53_0002.mp4\n"
          ]
        },
        {
          "name": "stderr",
          "output_type": "stream",
          "text": [
            "\rProcessing videos in dataset/Celeb-synthesis:  24%|██▎       | 235/994 [01:04<03:25,  3.70it/s]"
          ]
        },
        {
          "name": "stdout",
          "output_type": "stream",
          "text": [
            "Extracted 20 frames from the first 10 seconds of dataset/Celeb-synthesis/id8_id9_0008.mp4\n"
          ]
        },
        {
          "name": "stderr",
          "output_type": "stream",
          "text": [
            "\rProcessing videos in dataset/Celeb-synthesis:  24%|██▎       | 236/994 [01:05<03:24,  3.71it/s]"
          ]
        },
        {
          "name": "stdout",
          "output_type": "stream",
          "text": [
            "Extracted 20 frames from the first 10 seconds of dataset/Celeb-synthesis/id30_id1_0001.mp4\n"
          ]
        },
        {
          "name": "stderr",
          "output_type": "stream",
          "text": [
            "\rProcessing videos in dataset/Celeb-synthesis:  24%|██▍       | 237/994 [01:05<03:14,  3.89it/s]"
          ]
        },
        {
          "name": "stdout",
          "output_type": "stream",
          "text": [
            "Extracted 20 frames from the first 10 seconds of dataset/Celeb-synthesis/id21_id16_0007.mp4\n"
          ]
        },
        {
          "name": "stderr",
          "output_type": "stream",
          "text": [
            "Processing videos in dataset/Celeb-synthesis:  24%|██▍       | 239/994 [01:05<02:56,  4.28it/s]"
          ]
        },
        {
          "name": "stdout",
          "output_type": "stream",
          "text": [
            "Extracted 20 frames from the first 10 seconds of dataset/Celeb-synthesis/id54_id52_0004.mp4\n",
            "Extracted 20 frames from the first 10 seconds of dataset/Celeb-synthesis/id3_id9_0004.mp4\n"
          ]
        },
        {
          "name": "stderr",
          "output_type": "stream",
          "text": [
            "\rProcessing videos in dataset/Celeb-synthesis:  24%|██▍       | 240/994 [01:06<03:13,  3.90it/s]"
          ]
        },
        {
          "name": "stdout",
          "output_type": "stream",
          "text": [
            "Extracted 20 frames from the first 10 seconds of dataset/Celeb-synthesis/id16_id0_0003.mp4\n"
          ]
        },
        {
          "name": "stderr",
          "output_type": "stream",
          "text": [
            "\rProcessing videos in dataset/Celeb-synthesis:  24%|██▍       | 241/994 [01:06<03:16,  3.84it/s]"
          ]
        },
        {
          "name": "stdout",
          "output_type": "stream",
          "text": [
            "Extracted 20 frames from the first 10 seconds of dataset/Celeb-synthesis/id7_id11_0009.mp4\n"
          ]
        },
        {
          "name": "stderr",
          "output_type": "stream",
          "text": [
            "\rProcessing videos in dataset/Celeb-synthesis:  24%|██▍       | 242/994 [01:06<03:08,  3.99it/s]"
          ]
        },
        {
          "name": "stdout",
          "output_type": "stream",
          "text": [
            "Extracted 20 frames from the first 10 seconds of dataset/Celeb-synthesis/id21_id16_0009.mp4\n"
          ]
        },
        {
          "name": "stderr",
          "output_type": "stream",
          "text": [
            "\rProcessing videos in dataset/Celeb-synthesis:  24%|██▍       | 243/994 [01:06<03:17,  3.80it/s]"
          ]
        },
        {
          "name": "stdout",
          "output_type": "stream",
          "text": [
            "Extracted 20 frames from the first 10 seconds of dataset/Celeb-synthesis/id0_id6_0009.mp4\n"
          ]
        },
        {
          "name": "stderr",
          "output_type": "stream",
          "text": [
            "\rProcessing videos in dataset/Celeb-synthesis:  25%|██▍       | 244/994 [01:07<03:15,  3.84it/s]"
          ]
        },
        {
          "name": "stdout",
          "output_type": "stream",
          "text": [
            "Extracted 20 frames from the first 10 seconds of dataset/Celeb-synthesis/id25_id19_0007.mp4\n"
          ]
        },
        {
          "name": "stderr",
          "output_type": "stream",
          "text": [
            "\rProcessing videos in dataset/Celeb-synthesis:  25%|██▍       | 245/994 [01:07<03:25,  3.64it/s]"
          ]
        },
        {
          "name": "stdout",
          "output_type": "stream",
          "text": [
            "Extracted 20 frames from the first 10 seconds of dataset/Celeb-synthesis/id9_id17_0005.mp4\n"
          ]
        },
        {
          "name": "stderr",
          "output_type": "stream",
          "text": [
            "\rProcessing videos in dataset/Celeb-synthesis:  25%|██▍       | 246/994 [01:07<03:17,  3.79it/s]"
          ]
        },
        {
          "name": "stdout",
          "output_type": "stream",
          "text": [
            "Extracted 20 frames from the first 10 seconds of dataset/Celeb-synthesis/id60_id59_0007.mp4\n"
          ]
        },
        {
          "name": "stderr",
          "output_type": "stream",
          "text": [
            "\rProcessing videos in dataset/Celeb-synthesis:  25%|██▍       | 247/994 [01:07<03:11,  3.91it/s]"
          ]
        },
        {
          "name": "stdout",
          "output_type": "stream",
          "text": [
            "Extracted 20 frames from the first 10 seconds of dataset/Celeb-synthesis/id23_id0_0000.mp4\n"
          ]
        },
        {
          "name": "stderr",
          "output_type": "stream",
          "text": [
            "\rProcessing videos in dataset/Celeb-synthesis:  25%|██▍       | 248/994 [01:08<03:10,  3.92it/s]"
          ]
        },
        {
          "name": "stdout",
          "output_type": "stream",
          "text": [
            "Extracted 20 frames from the first 10 seconds of dataset/Celeb-synthesis/id48_id47_0003.mp4\n"
          ]
        },
        {
          "name": "stderr",
          "output_type": "stream",
          "text": [
            "\rProcessing videos in dataset/Celeb-synthesis:  25%|██▌       | 249/994 [01:08<03:08,  3.94it/s]"
          ]
        },
        {
          "name": "stdout",
          "output_type": "stream",
          "text": [
            "Extracted 20 frames from the first 10 seconds of dataset/Celeb-synthesis/id39_id43_0007.mp4\n",
            "Extracted 0 frames from the first 10 seconds of dataset/Celeb-synthesis/id55_id51_0008.mp4\n"
          ]
        },
        {
          "name": "stderr",
          "output_type": "stream",
          "text": [
            "\rProcessing videos in dataset/Celeb-synthesis:  25%|██▌       | 251/994 [01:08<02:22,  5.21it/s]"
          ]
        },
        {
          "name": "stdout",
          "output_type": "stream",
          "text": [
            "Extracted 20 frames from the first 10 seconds of dataset/Celeb-synthesis/id53_id49_0009.mp4\n"
          ]
        },
        {
          "name": "stderr",
          "output_type": "stream",
          "text": [
            "\rProcessing videos in dataset/Celeb-synthesis:  25%|██▌       | 252/994 [01:08<02:32,  4.85it/s]"
          ]
        },
        {
          "name": "stdout",
          "output_type": "stream",
          "text": [
            "Extracted 20 frames from the first 10 seconds of dataset/Celeb-synthesis/id35_id3_0003.mp4\n"
          ]
        },
        {
          "name": "stderr",
          "output_type": "stream",
          "text": [
            "\rProcessing videos in dataset/Celeb-synthesis:  25%|██▌       | 253/994 [01:09<02:46,  4.44it/s]"
          ]
        },
        {
          "name": "stdout",
          "output_type": "stream",
          "text": [
            "Extracted 20 frames from the first 10 seconds of dataset/Celeb-synthesis/id6_id3_0006.mp4\n"
          ]
        },
        {
          "name": "stderr",
          "output_type": "stream",
          "text": [
            "\rProcessing videos in dataset/Celeb-synthesis:  26%|██▌       | 254/994 [01:09<02:47,  4.42it/s]"
          ]
        },
        {
          "name": "stdout",
          "output_type": "stream",
          "text": [
            "Extracted 20 frames from the first 10 seconds of dataset/Celeb-synthesis/id2_id16_0003.mp4\n"
          ]
        },
        {
          "name": "stderr",
          "output_type": "stream",
          "text": [
            "\rProcessing videos in dataset/Celeb-synthesis:  26%|██▌       | 255/994 [01:09<03:22,  3.65it/s]"
          ]
        },
        {
          "name": "stdout",
          "output_type": "stream",
          "text": [
            "Extracted 20 frames from the first 10 seconds of dataset/Celeb-synthesis/id47_id40_0001.mp4\n"
          ]
        },
        {
          "name": "stderr",
          "output_type": "stream",
          "text": [
            "\rProcessing videos in dataset/Celeb-synthesis:  26%|██▌       | 256/994 [01:10<03:57,  3.11it/s]"
          ]
        },
        {
          "name": "stdout",
          "output_type": "stream",
          "text": [
            "Extracted 20 frames from the first 10 seconds of dataset/Celeb-synthesis/id20_id4_0001.mp4\n"
          ]
        },
        {
          "name": "stderr",
          "output_type": "stream",
          "text": [
            "\rProcessing videos in dataset/Celeb-synthesis:  26%|██▌       | 257/994 [01:10<04:13,  2.91it/s]"
          ]
        },
        {
          "name": "stdout",
          "output_type": "stream",
          "text": [
            "Extracted 20 frames from the first 10 seconds of dataset/Celeb-synthesis/id29_id26_0007.mp4\n"
          ]
        },
        {
          "name": "stderr",
          "output_type": "stream",
          "text": [
            "\rProcessing videos in dataset/Celeb-synthesis:  26%|██▌       | 258/994 [01:11<04:20,  2.82it/s]"
          ]
        },
        {
          "name": "stdout",
          "output_type": "stream",
          "text": [
            "Extracted 20 frames from the first 10 seconds of dataset/Celeb-synthesis/id26_id17_0004.mp4\n"
          ]
        },
        {
          "name": "stderr",
          "output_type": "stream",
          "text": [
            "\rProcessing videos in dataset/Celeb-synthesis:  26%|██▌       | 259/994 [01:11<04:17,  2.86it/s]"
          ]
        },
        {
          "name": "stdout",
          "output_type": "stream",
          "text": [
            "Extracted 20 frames from the first 10 seconds of dataset/Celeb-synthesis/id17_id1_0001.mp4\n"
          ]
        },
        {
          "name": "stderr",
          "output_type": "stream",
          "text": [
            "\rProcessing videos in dataset/Celeb-synthesis:  26%|██▌       | 260/994 [01:11<04:19,  2.83it/s]"
          ]
        },
        {
          "name": "stdout",
          "output_type": "stream",
          "text": [
            "Extracted 20 frames from the first 10 seconds of dataset/Celeb-synthesis/id43_id39_0001.mp4\n"
          ]
        },
        {
          "name": "stderr",
          "output_type": "stream",
          "text": [
            "\rProcessing videos in dataset/Celeb-synthesis:  26%|██▋       | 261/994 [01:12<04:35,  2.66it/s]"
          ]
        },
        {
          "name": "stdout",
          "output_type": "stream",
          "text": [
            "Extracted 20 frames from the first 10 seconds of dataset/Celeb-synthesis/id47_id40_0009.mp4\n"
          ]
        },
        {
          "name": "stderr",
          "output_type": "stream",
          "text": [
            "\rProcessing videos in dataset/Celeb-synthesis:  26%|██▋       | 262/994 [01:12<04:42,  2.59it/s]"
          ]
        },
        {
          "name": "stdout",
          "output_type": "stream",
          "text": [
            "Extracted 20 frames from the first 10 seconds of dataset/Celeb-synthesis/id7_id10_0004.mp4\n"
          ]
        },
        {
          "name": "stderr",
          "output_type": "stream",
          "text": [
            "\rProcessing videos in dataset/Celeb-synthesis:  26%|██▋       | 263/994 [01:12<04:18,  2.83it/s]"
          ]
        },
        {
          "name": "stdout",
          "output_type": "stream",
          "text": [
            "Extracted 20 frames from the first 10 seconds of dataset/Celeb-synthesis/id11_id7_0008.mp4\n"
          ]
        },
        {
          "name": "stderr",
          "output_type": "stream",
          "text": [
            "\rProcessing videos in dataset/Celeb-synthesis:  27%|██▋       | 264/994 [01:13<03:55,  3.10it/s]"
          ]
        },
        {
          "name": "stdout",
          "output_type": "stream",
          "text": [
            "Extracted 20 frames from the first 10 seconds of dataset/Celeb-synthesis/id21_id16_0006.mp4\n"
          ]
        },
        {
          "name": "stderr",
          "output_type": "stream",
          "text": [
            "\rProcessing videos in dataset/Celeb-synthesis:  27%|██▋       | 265/994 [01:13<03:53,  3.12it/s]"
          ]
        },
        {
          "name": "stdout",
          "output_type": "stream",
          "text": [
            "Extracted 20 frames from the first 10 seconds of dataset/Celeb-synthesis/id54_id51_0002.mp4\n"
          ]
        },
        {
          "name": "stderr",
          "output_type": "stream",
          "text": [
            "\rProcessing videos in dataset/Celeb-synthesis:  27%|██▋       | 266/994 [01:13<03:51,  3.15it/s]"
          ]
        },
        {
          "name": "stdout",
          "output_type": "stream",
          "text": [
            "Extracted 20 frames from the first 10 seconds of dataset/Celeb-synthesis/id54_id51_0001.mp4\n"
          ]
        },
        {
          "name": "stderr",
          "output_type": "stream",
          "text": [
            "\rProcessing videos in dataset/Celeb-synthesis:  27%|██▋       | 267/994 [01:13<03:36,  3.36it/s]"
          ]
        },
        {
          "name": "stdout",
          "output_type": "stream",
          "text": [
            "Extracted 20 frames from the first 10 seconds of dataset/Celeb-synthesis/id22_id20_0005.mp4\n"
          ]
        },
        {
          "name": "stderr",
          "output_type": "stream",
          "text": [
            "\rProcessing videos in dataset/Celeb-synthesis:  27%|██▋       | 268/994 [01:14<03:37,  3.33it/s]"
          ]
        },
        {
          "name": "stdout",
          "output_type": "stream",
          "text": [
            "Extracted 20 frames from the first 10 seconds of dataset/Celeb-synthesis/id10_id11_0007.mp4\n"
          ]
        },
        {
          "name": "stderr",
          "output_type": "stream",
          "text": [
            "\rProcessing videos in dataset/Celeb-synthesis:  27%|██▋       | 269/994 [01:14<03:31,  3.42it/s]"
          ]
        },
        {
          "name": "stdout",
          "output_type": "stream",
          "text": [
            "Extracted 20 frames from the first 10 seconds of dataset/Celeb-synthesis/id16_id1_0002.mp4\n"
          ]
        },
        {
          "name": "stderr",
          "output_type": "stream",
          "text": [
            "\rProcessing videos in dataset/Celeb-synthesis:  27%|██▋       | 270/994 [01:14<03:20,  3.61it/s]"
          ]
        },
        {
          "name": "stdout",
          "output_type": "stream",
          "text": [
            "Extracted 20 frames from the first 10 seconds of dataset/Celeb-synthesis/id39_id42_0008.mp4\n"
          ]
        },
        {
          "name": "stderr",
          "output_type": "stream",
          "text": [
            "\rProcessing videos in dataset/Celeb-synthesis:  27%|██▋       | 271/994 [01:15<03:24,  3.54it/s]"
          ]
        },
        {
          "name": "stdout",
          "output_type": "stream",
          "text": [
            "Extracted 20 frames from the first 10 seconds of dataset/Celeb-synthesis/id5_id61_0003.mp4\n"
          ]
        },
        {
          "name": "stderr",
          "output_type": "stream",
          "text": [
            "\rProcessing videos in dataset/Celeb-synthesis:  27%|██▋       | 272/994 [01:15<03:29,  3.44it/s]"
          ]
        },
        {
          "name": "stdout",
          "output_type": "stream",
          "text": [
            "Extracted 20 frames from the first 10 seconds of dataset/Celeb-synthesis/id16_id0_0004.mp4\n"
          ]
        },
        {
          "name": "stderr",
          "output_type": "stream",
          "text": [
            "\rProcessing videos in dataset/Celeb-synthesis:  27%|██▋       | 273/994 [01:15<03:19,  3.61it/s]"
          ]
        },
        {
          "name": "stdout",
          "output_type": "stream",
          "text": [
            "Extracted 20 frames from the first 10 seconds of dataset/Celeb-synthesis/id17_id1_0007.mp4\n"
          ]
        },
        {
          "name": "stderr",
          "output_type": "stream",
          "text": [
            "\rProcessing videos in dataset/Celeb-synthesis:  28%|██▊       | 274/994 [01:15<03:04,  3.90it/s]"
          ]
        },
        {
          "name": "stdout",
          "output_type": "stream",
          "text": [
            "Extracted 20 frames from the first 10 seconds of dataset/Celeb-synthesis/id46_id47_0006.mp4\n"
          ]
        },
        {
          "name": "stderr",
          "output_type": "stream",
          "text": [
            "\rProcessing videos in dataset/Celeb-synthesis:  28%|██▊       | 275/994 [01:16<03:10,  3.77it/s]"
          ]
        },
        {
          "name": "stdout",
          "output_type": "stream",
          "text": [
            "Extracted 20 frames from the first 10 seconds of dataset/Celeb-synthesis/id38_id28_0007.mp4\n"
          ]
        },
        {
          "name": "stderr",
          "output_type": "stream",
          "text": [
            "\rProcessing videos in dataset/Celeb-synthesis:  28%|██▊       | 276/994 [01:16<03:12,  3.72it/s]"
          ]
        },
        {
          "name": "stdout",
          "output_type": "stream",
          "text": [
            "Extracted 20 frames from the first 10 seconds of dataset/Celeb-synthesis/id33_id28_0005.mp4\n"
          ]
        },
        {
          "name": "stderr",
          "output_type": "stream",
          "text": [
            "\rProcessing videos in dataset/Celeb-synthesis:  28%|██▊       | 277/994 [01:16<03:13,  3.70it/s]"
          ]
        },
        {
          "name": "stdout",
          "output_type": "stream",
          "text": [
            "Extracted 20 frames from the first 10 seconds of dataset/Celeb-synthesis/id9_id16_0003.mp4\n"
          ]
        },
        {
          "name": "stderr",
          "output_type": "stream",
          "text": [
            "\rProcessing videos in dataset/Celeb-synthesis:  28%|██▊       | 278/994 [01:16<03:13,  3.70it/s]"
          ]
        },
        {
          "name": "stdout",
          "output_type": "stream",
          "text": [
            "Extracted 20 frames from the first 10 seconds of dataset/Celeb-synthesis/id7_id12_0004.mp4\n"
          ]
        },
        {
          "name": "stderr",
          "output_type": "stream",
          "text": [
            "\rProcessing videos in dataset/Celeb-synthesis:  28%|██▊       | 279/994 [01:17<03:09,  3.78it/s]"
          ]
        },
        {
          "name": "stdout",
          "output_type": "stream",
          "text": [
            "Extracted 20 frames from the first 10 seconds of dataset/Celeb-synthesis/id33_id26_0002.mp4\n"
          ]
        },
        {
          "name": "stderr",
          "output_type": "stream",
          "text": [
            "\rProcessing videos in dataset/Celeb-synthesis:  28%|██▊       | 280/994 [01:17<03:22,  3.53it/s]"
          ]
        },
        {
          "name": "stdout",
          "output_type": "stream",
          "text": [
            "Extracted 20 frames from the first 10 seconds of dataset/Celeb-synthesis/id8_id9_0007.mp4\n"
          ]
        },
        {
          "name": "stderr",
          "output_type": "stream",
          "text": [
            "\rProcessing videos in dataset/Celeb-synthesis:  28%|██▊       | 281/994 [01:17<03:23,  3.51it/s]"
          ]
        },
        {
          "name": "stdout",
          "output_type": "stream",
          "text": [
            "Extracted 20 frames from the first 10 seconds of dataset/Celeb-synthesis/id9_id17_0000.mp4\n"
          ]
        },
        {
          "name": "stderr",
          "output_type": "stream",
          "text": [
            "Processing videos in dataset/Celeb-synthesis:  28%|██▊       | 283/994 [01:18<02:52,  4.13it/s]"
          ]
        },
        {
          "name": "stdout",
          "output_type": "stream",
          "text": [
            "Extracted 20 frames from the first 10 seconds of dataset/Celeb-synthesis/id53_id50_0002.mp4\n",
            "Extracted 20 frames from the first 10 seconds of dataset/Celeb-synthesis/id23_id0_0005.mp4\n"
          ]
        },
        {
          "name": "stderr",
          "output_type": "stream",
          "text": [
            "\rProcessing videos in dataset/Celeb-synthesis:  29%|██▊       | 284/994 [01:18<02:55,  4.05it/s]"
          ]
        },
        {
          "name": "stdout",
          "output_type": "stream",
          "text": [
            "Extracted 20 frames from the first 10 seconds of dataset/Celeb-synthesis/id34_id26_0003.mp4\n"
          ]
        },
        {
          "name": "stderr",
          "output_type": "stream",
          "text": [
            "\rProcessing videos in dataset/Celeb-synthesis:  29%|██▊       | 285/994 [01:18<02:54,  4.07it/s]"
          ]
        },
        {
          "name": "stdout",
          "output_type": "stream",
          "text": [
            "Extracted 20 frames from the first 10 seconds of dataset/Celeb-synthesis/id53_id49_0004.mp4\n"
          ]
        },
        {
          "name": "stderr",
          "output_type": "stream",
          "text": [
            "\rProcessing videos in dataset/Celeb-synthesis:  29%|██▉       | 286/994 [01:18<02:49,  4.17it/s]"
          ]
        },
        {
          "name": "stdout",
          "output_type": "stream",
          "text": [
            "Extracted 20 frames from the first 10 seconds of dataset/Celeb-synthesis/id56_id49_0006.mp4\n"
          ]
        },
        {
          "name": "stderr",
          "output_type": "stream",
          "text": [
            "\rProcessing videos in dataset/Celeb-synthesis:  29%|██▉       | 287/994 [01:19<02:48,  4.19it/s]"
          ]
        },
        {
          "name": "stdout",
          "output_type": "stream",
          "text": [
            "Extracted 20 frames from the first 10 seconds of dataset/Celeb-synthesis/id41_id46_0009.mp4\n"
          ]
        },
        {
          "name": "stderr",
          "output_type": "stream",
          "text": [
            "\rProcessing videos in dataset/Celeb-synthesis:  29%|██▉       | 288/994 [01:19<03:00,  3.91it/s]"
          ]
        },
        {
          "name": "stdout",
          "output_type": "stream",
          "text": [
            "Extracted 20 frames from the first 10 seconds of dataset/Celeb-synthesis/id49_id51_0007.mp4\n"
          ]
        },
        {
          "name": "stderr",
          "output_type": "stream",
          "text": [
            "\rProcessing videos in dataset/Celeb-synthesis:  29%|██▉       | 289/994 [01:19<03:13,  3.64it/s]"
          ]
        },
        {
          "name": "stdout",
          "output_type": "stream",
          "text": [
            "Extracted 20 frames from the first 10 seconds of dataset/Celeb-synthesis/id6_id3_0005.mp4\n"
          ]
        },
        {
          "name": "stderr",
          "output_type": "stream",
          "text": [
            "\rProcessing videos in dataset/Celeb-synthesis:  29%|██▉       | 290/994 [01:20<03:04,  3.83it/s]"
          ]
        },
        {
          "name": "stdout",
          "output_type": "stream",
          "text": [
            "Extracted 20 frames from the first 10 seconds of dataset/Celeb-synthesis/id3_id20_0003.mp4\n"
          ]
        },
        {
          "name": "stderr",
          "output_type": "stream",
          "text": [
            "\rProcessing videos in dataset/Celeb-synthesis:  29%|██▉       | 291/994 [01:20<03:03,  3.83it/s]"
          ]
        },
        {
          "name": "stdout",
          "output_type": "stream",
          "text": [
            "Extracted 20 frames from the first 10 seconds of dataset/Celeb-synthesis/id28_id4_0005.mp4\n"
          ]
        },
        {
          "name": "stderr",
          "output_type": "stream",
          "text": [
            "\rProcessing videos in dataset/Celeb-synthesis:  29%|██▉       | 292/994 [01:20<03:03,  3.83it/s]"
          ]
        },
        {
          "name": "stdout",
          "output_type": "stream",
          "text": [
            "Extracted 20 frames from the first 10 seconds of dataset/Celeb-synthesis/id33_id31_0001.mp4\n"
          ]
        },
        {
          "name": "stderr",
          "output_type": "stream",
          "text": [
            "\rProcessing videos in dataset/Celeb-synthesis:  29%|██▉       | 293/994 [01:20<03:09,  3.70it/s]"
          ]
        },
        {
          "name": "stdout",
          "output_type": "stream",
          "text": [
            "Extracted 20 frames from the first 10 seconds of dataset/Celeb-synthesis/id8_id6_0008.mp4\n"
          ]
        },
        {
          "name": "stderr",
          "output_type": "stream",
          "text": [
            "\rProcessing videos in dataset/Celeb-synthesis:  30%|██▉       | 294/994 [01:21<03:13,  3.61it/s]"
          ]
        },
        {
          "name": "stdout",
          "output_type": "stream",
          "text": [
            "Extracted 20 frames from the first 10 seconds of dataset/Celeb-synthesis/id6_id3_0000.mp4\n"
          ]
        },
        {
          "name": "stderr",
          "output_type": "stream",
          "text": [
            "\rProcessing videos in dataset/Celeb-synthesis:  30%|██▉       | 295/994 [01:21<03:02,  3.84it/s]"
          ]
        },
        {
          "name": "stdout",
          "output_type": "stream",
          "text": [
            "Extracted 20 frames from the first 10 seconds of dataset/Celeb-synthesis/id25_id21_0008.mp4\n"
          ]
        },
        {
          "name": "stderr",
          "output_type": "stream",
          "text": [
            "\rProcessing videos in dataset/Celeb-synthesis:  30%|██▉       | 296/994 [01:21<02:59,  3.89it/s]"
          ]
        },
        {
          "name": "stdout",
          "output_type": "stream",
          "text": [
            "Extracted 20 frames from the first 10 seconds of dataset/Celeb-synthesis/id22_id20_0002.mp4\n"
          ]
        },
        {
          "name": "stderr",
          "output_type": "stream",
          "text": [
            "\rProcessing videos in dataset/Celeb-synthesis:  30%|██▉       | 297/994 [01:21<03:05,  3.75it/s]"
          ]
        },
        {
          "name": "stdout",
          "output_type": "stream",
          "text": [
            "Extracted 20 frames from the first 10 seconds of dataset/Celeb-synthesis/id4_id2_0000.mp4\n"
          ]
        },
        {
          "name": "stderr",
          "output_type": "stream",
          "text": [
            "Processing videos in dataset/Celeb-synthesis:  30%|███       | 299/994 [01:22<02:41,  4.31it/s]"
          ]
        },
        {
          "name": "stdout",
          "output_type": "stream",
          "text": [
            "Extracted 20 frames from the first 10 seconds of dataset/Celeb-synthesis/id28_id3_0004.mp4\n",
            "Extracted 20 frames from the first 10 seconds of dataset/Celeb-synthesis/id1_id0_0001.mp4\n"
          ]
        },
        {
          "name": "stderr",
          "output_type": "stream",
          "text": [
            "\rProcessing videos in dataset/Celeb-synthesis:  30%|███       | 300/994 [01:22<03:05,  3.74it/s]"
          ]
        },
        {
          "name": "stdout",
          "output_type": "stream",
          "text": [
            "Extracted 20 frames from the first 10 seconds of dataset/Celeb-synthesis/id54_id52_0009.mp4\n"
          ]
        },
        {
          "name": "stderr",
          "output_type": "stream",
          "text": [
            "\rProcessing videos in dataset/Celeb-synthesis:  30%|███       | 301/994 [01:23<03:33,  3.25it/s]"
          ]
        },
        {
          "name": "stdout",
          "output_type": "stream",
          "text": [
            "Extracted 20 frames from the first 10 seconds of dataset/Celeb-synthesis/id22_id20_0006.mp4\n"
          ]
        },
        {
          "name": "stderr",
          "output_type": "stream",
          "text": [
            "\rProcessing videos in dataset/Celeb-synthesis:  30%|███       | 302/994 [01:23<03:46,  3.06it/s]"
          ]
        },
        {
          "name": "stdout",
          "output_type": "stream",
          "text": [
            "Extracted 20 frames from the first 10 seconds of dataset/Celeb-synthesis/id20_id4_0002.mp4\n"
          ]
        },
        {
          "name": "stderr",
          "output_type": "stream",
          "text": [
            "\rProcessing videos in dataset/Celeb-synthesis:  30%|███       | 303/994 [01:23<04:18,  2.68it/s]"
          ]
        },
        {
          "name": "stdout",
          "output_type": "stream",
          "text": [
            "Extracted 20 frames from the first 10 seconds of dataset/Celeb-synthesis/id59_id60_0004.mp4\n"
          ]
        },
        {
          "name": "stderr",
          "output_type": "stream",
          "text": [
            "\rProcessing videos in dataset/Celeb-synthesis:  31%|███       | 304/994 [01:24<04:15,  2.70it/s]"
          ]
        },
        {
          "name": "stdout",
          "output_type": "stream",
          "text": [
            "Extracted 20 frames from the first 10 seconds of dataset/Celeb-synthesis/id25_id20_0005.mp4\n"
          ]
        },
        {
          "name": "stderr",
          "output_type": "stream",
          "text": [
            "\rProcessing videos in dataset/Celeb-synthesis:  31%|███       | 305/994 [01:24<04:37,  2.48it/s]"
          ]
        },
        {
          "name": "stdout",
          "output_type": "stream",
          "text": [
            "Extracted 20 frames from the first 10 seconds of dataset/Celeb-synthesis/id6_id3_0004.mp4\n"
          ]
        },
        {
          "name": "stderr",
          "output_type": "stream",
          "text": [
            "Processing videos in dataset/Celeb-synthesis:  31%|███       | 307/994 [01:25<03:49,  3.00it/s]"
          ]
        },
        {
          "name": "stdout",
          "output_type": "stream",
          "text": [
            "Extracted 20 frames from the first 10 seconds of dataset/Celeb-synthesis/id59_id5_0002.mp4\n",
            "Extracted 20 frames from the first 10 seconds of dataset/Celeb-synthesis/id24_id23_0003.mp4\n"
          ]
        },
        {
          "name": "stderr",
          "output_type": "stream",
          "text": [
            "\rProcessing videos in dataset/Celeb-synthesis:  31%|███       | 308/994 [01:25<04:21,  2.62it/s]"
          ]
        },
        {
          "name": "stdout",
          "output_type": "stream",
          "text": [
            "Extracted 20 frames from the first 10 seconds of dataset/Celeb-synthesis/id5_id59_0004.mp4\n"
          ]
        },
        {
          "name": "stderr",
          "output_type": "stream",
          "text": [
            "\rProcessing videos in dataset/Celeb-synthesis:  31%|███       | 309/994 [01:26<04:00,  2.85it/s]"
          ]
        },
        {
          "name": "stdout",
          "output_type": "stream",
          "text": [
            "Extracted 20 frames from the first 10 seconds of dataset/Celeb-synthesis/id16_id1_0007.mp4\n"
          ]
        },
        {
          "name": "stderr",
          "output_type": "stream",
          "text": [
            "\rProcessing videos in dataset/Celeb-synthesis:  31%|███       | 310/994 [01:26<03:49,  2.98it/s]"
          ]
        },
        {
          "name": "stdout",
          "output_type": "stream",
          "text": [
            "Extracted 20 frames from the first 10 seconds of dataset/Celeb-synthesis/id12_id7_0001.mp4\n"
          ]
        },
        {
          "name": "stderr",
          "output_type": "stream",
          "text": [
            "\rProcessing videos in dataset/Celeb-synthesis:  31%|███▏      | 311/994 [01:26<03:31,  3.22it/s]"
          ]
        },
        {
          "name": "stdout",
          "output_type": "stream",
          "text": [
            "Extracted 20 frames from the first 10 seconds of dataset/Celeb-synthesis/id43_id40_0006.mp4\n"
          ]
        },
        {
          "name": "stderr",
          "output_type": "stream",
          "text": [
            "\rProcessing videos in dataset/Celeb-synthesis:  31%|███▏      | 312/994 [01:26<03:23,  3.35it/s]"
          ]
        },
        {
          "name": "stdout",
          "output_type": "stream",
          "text": [
            "Extracted 20 frames from the first 10 seconds of dataset/Celeb-synthesis/id55_id53_0004.mp4\n"
          ]
        },
        {
          "name": "stderr",
          "output_type": "stream",
          "text": [
            "Processing videos in dataset/Celeb-synthesis:  32%|███▏      | 314/994 [01:27<03:03,  3.72it/s]"
          ]
        },
        {
          "name": "stdout",
          "output_type": "stream",
          "text": [
            "Extracted 20 frames from the first 10 seconds of dataset/Celeb-synthesis/id16_id1_0004.mp4\n",
            "Extracted 20 frames from the first 10 seconds of dataset/Celeb-synthesis/id60_id59_0008.mp4\n"
          ]
        },
        {
          "name": "stderr",
          "output_type": "stream",
          "text": [
            "\rProcessing videos in dataset/Celeb-synthesis:  32%|███▏      | 315/994 [01:27<02:57,  3.83it/s]"
          ]
        },
        {
          "name": "stdout",
          "output_type": "stream",
          "text": [
            "Extracted 20 frames from the first 10 seconds of dataset/Celeb-synthesis/id27_id22_0003.mp4\n"
          ]
        },
        {
          "name": "stderr",
          "output_type": "stream",
          "text": [
            "\rProcessing videos in dataset/Celeb-synthesis:  32%|███▏      | 316/994 [01:28<03:03,  3.69it/s]"
          ]
        },
        {
          "name": "stdout",
          "output_type": "stream",
          "text": [
            "Extracted 20 frames from the first 10 seconds of dataset/Celeb-synthesis/id38_id23_0007.mp4\n"
          ]
        },
        {
          "name": "stderr",
          "output_type": "stream",
          "text": [
            "\rProcessing videos in dataset/Celeb-synthesis:  32%|███▏      | 317/994 [01:28<02:58,  3.79it/s]"
          ]
        },
        {
          "name": "stdout",
          "output_type": "stream",
          "text": [
            "Extracted 20 frames from the first 10 seconds of dataset/Celeb-synthesis/id20_id6_0000.mp4\n"
          ]
        },
        {
          "name": "stderr",
          "output_type": "stream",
          "text": [
            "\rProcessing videos in dataset/Celeb-synthesis:  32%|███▏      | 318/994 [01:28<02:50,  3.96it/s]"
          ]
        },
        {
          "name": "stdout",
          "output_type": "stream",
          "text": [
            "Extracted 20 frames from the first 10 seconds of dataset/Celeb-synthesis/id39_id42_0005.mp4\n"
          ]
        },
        {
          "name": "stderr",
          "output_type": "stream",
          "text": [
            "\rProcessing videos in dataset/Celeb-synthesis:  32%|███▏      | 319/994 [01:28<02:41,  4.19it/s]"
          ]
        },
        {
          "name": "stdout",
          "output_type": "stream",
          "text": [
            "Extracted 20 frames from the first 10 seconds of dataset/Celeb-synthesis/id17_id0_0006.mp4\n"
          ]
        },
        {
          "name": "stderr",
          "output_type": "stream",
          "text": [
            "\rProcessing videos in dataset/Celeb-synthesis:  32%|███▏      | 320/994 [01:28<02:45,  4.07it/s]"
          ]
        },
        {
          "name": "stdout",
          "output_type": "stream",
          "text": [
            "Extracted 20 frames from the first 10 seconds of dataset/Celeb-synthesis/id19_id24_0009.mp4\n"
          ]
        },
        {
          "name": "stderr",
          "output_type": "stream",
          "text": [
            "\rProcessing videos in dataset/Celeb-synthesis:  32%|███▏      | 321/994 [01:29<02:46,  4.03it/s]"
          ]
        },
        {
          "name": "stdout",
          "output_type": "stream",
          "text": [
            "Extracted 20 frames from the first 10 seconds of dataset/Celeb-synthesis/id40_id39_0008.mp4\n"
          ]
        },
        {
          "name": "stderr",
          "output_type": "stream",
          "text": [
            "\rProcessing videos in dataset/Celeb-synthesis:  32%|███▏      | 322/994 [01:29<02:42,  4.15it/s]"
          ]
        },
        {
          "name": "stdout",
          "output_type": "stream",
          "text": [
            "Extracted 20 frames from the first 10 seconds of dataset/Celeb-synthesis/id27_id22_0006.mp4\n"
          ]
        },
        {
          "name": "stderr",
          "output_type": "stream",
          "text": [
            "\rProcessing videos in dataset/Celeb-synthesis:  32%|███▏      | 323/994 [01:29<02:56,  3.80it/s]"
          ]
        },
        {
          "name": "stdout",
          "output_type": "stream",
          "text": [
            "Extracted 20 frames from the first 10 seconds of dataset/Celeb-synthesis/id6_id3_0001.mp4\n"
          ]
        },
        {
          "name": "stderr",
          "output_type": "stream",
          "text": [
            "\rProcessing videos in dataset/Celeb-synthesis:  33%|███▎      | 324/994 [01:30<03:03,  3.65it/s]"
          ]
        },
        {
          "name": "stdout",
          "output_type": "stream",
          "text": [
            "Extracted 20 frames from the first 10 seconds of dataset/Celeb-synthesis/id55_id53_0001.mp4\n"
          ]
        },
        {
          "name": "stderr",
          "output_type": "stream",
          "text": [
            "\rProcessing videos in dataset/Celeb-synthesis:  33%|███▎      | 325/994 [01:30<03:04,  3.63it/s]"
          ]
        },
        {
          "name": "stdout",
          "output_type": "stream",
          "text": [
            "Extracted 20 frames from the first 10 seconds of dataset/Celeb-synthesis/id16_id0_0012.mp4\n"
          ]
        },
        {
          "name": "stderr",
          "output_type": "stream",
          "text": [
            "\rProcessing videos in dataset/Celeb-synthesis:  33%|███▎      | 326/994 [01:30<02:57,  3.76it/s]"
          ]
        },
        {
          "name": "stdout",
          "output_type": "stream",
          "text": [
            "Extracted 20 frames from the first 10 seconds of dataset/Celeb-synthesis/id59_id5_0005.mp4\n"
          ]
        },
        {
          "name": "stderr",
          "output_type": "stream",
          "text": [
            "\rProcessing videos in dataset/Celeb-synthesis:  33%|███▎      | 327/994 [01:30<02:51,  3.89it/s]"
          ]
        },
        {
          "name": "stdout",
          "output_type": "stream",
          "text": [
            "Extracted 20 frames from the first 10 seconds of dataset/Celeb-synthesis/id21_id9_0001.mp4\n"
          ]
        },
        {
          "name": "stderr",
          "output_type": "stream",
          "text": [
            "\rProcessing videos in dataset/Celeb-synthesis:  33%|███▎      | 328/994 [01:31<02:52,  3.85it/s]"
          ]
        },
        {
          "name": "stdout",
          "output_type": "stream",
          "text": [
            "Extracted 20 frames from the first 10 seconds of dataset/Celeb-synthesis/id24_id21_0000.mp4\n"
          ]
        },
        {
          "name": "stderr",
          "output_type": "stream",
          "text": [
            "\rProcessing videos in dataset/Celeb-synthesis:  33%|███▎      | 329/994 [01:31<02:52,  3.86it/s]"
          ]
        },
        {
          "name": "stdout",
          "output_type": "stream",
          "text": [
            "Extracted 20 frames from the first 10 seconds of dataset/Celeb-synthesis/id37_id2_0002.mp4\n"
          ]
        },
        {
          "name": "stderr",
          "output_type": "stream",
          "text": [
            "Processing videos in dataset/Celeb-synthesis:  33%|███▎      | 331/994 [01:31<02:26,  4.52it/s]"
          ]
        },
        {
          "name": "stdout",
          "output_type": "stream",
          "text": [
            "Extracted 20 frames from the first 10 seconds of dataset/Celeb-synthesis/id61_id60_0000.mp4\n",
            "Extracted 20 frames from the first 10 seconds of dataset/Celeb-synthesis/id27_id23_0007.mp4\n"
          ]
        },
        {
          "name": "stderr",
          "output_type": "stream",
          "text": [
            "\rProcessing videos in dataset/Celeb-synthesis:  33%|███▎      | 332/994 [01:32<02:41,  4.11it/s]"
          ]
        },
        {
          "name": "stdout",
          "output_type": "stream",
          "text": [
            "Extracted 20 frames from the first 10 seconds of dataset/Celeb-synthesis/id59_id5_0004.mp4\n"
          ]
        },
        {
          "name": "stderr",
          "output_type": "stream",
          "text": [
            "\rProcessing videos in dataset/Celeb-synthesis:  34%|███▎      | 333/994 [01:32<02:51,  3.86it/s]"
          ]
        },
        {
          "name": "stdout",
          "output_type": "stream",
          "text": [
            "Extracted 20 frames from the first 10 seconds of dataset/Celeb-synthesis/id10_id7_0007.mp4\n"
          ]
        },
        {
          "name": "stderr",
          "output_type": "stream",
          "text": [
            "\rProcessing videos in dataset/Celeb-synthesis:  34%|███▎      | 334/994 [01:32<02:47,  3.93it/s]"
          ]
        },
        {
          "name": "stdout",
          "output_type": "stream",
          "text": [
            "Extracted 20 frames from the first 10 seconds of dataset/Celeb-synthesis/id33_id31_0007.mp4\n"
          ]
        },
        {
          "name": "stderr",
          "output_type": "stream",
          "text": [
            "\rProcessing videos in dataset/Celeb-synthesis:  34%|███▎      | 335/994 [01:32<02:52,  3.82it/s]"
          ]
        },
        {
          "name": "stdout",
          "output_type": "stream",
          "text": [
            "Extracted 20 frames from the first 10 seconds of dataset/Celeb-synthesis/id42_id39_0002.mp4\n"
          ]
        },
        {
          "name": "stderr",
          "output_type": "stream",
          "text": [
            "\rProcessing videos in dataset/Celeb-synthesis:  34%|███▍      | 336/994 [01:33<02:55,  3.75it/s]"
          ]
        },
        {
          "name": "stdout",
          "output_type": "stream",
          "text": [
            "Extracted 20 frames from the first 10 seconds of dataset/Celeb-synthesis/id41_id46_0004.mp4\n"
          ]
        },
        {
          "name": "stderr",
          "output_type": "stream",
          "text": [
            "\rProcessing videos in dataset/Celeb-synthesis:  34%|███▍      | 337/994 [01:33<03:02,  3.61it/s]"
          ]
        },
        {
          "name": "stdout",
          "output_type": "stream",
          "text": [
            "Extracted 20 frames from the first 10 seconds of dataset/Celeb-synthesis/id49_id50_0007.mp4\n"
          ]
        },
        {
          "name": "stderr",
          "output_type": "stream",
          "text": [
            "\rProcessing videos in dataset/Celeb-synthesis:  34%|███▍      | 338/994 [01:33<03:08,  3.48it/s]"
          ]
        },
        {
          "name": "stdout",
          "output_type": "stream",
          "text": [
            "Extracted 20 frames from the first 10 seconds of dataset/Celeb-synthesis/id17_id0_0005.mp4\n"
          ]
        },
        {
          "name": "stderr",
          "output_type": "stream",
          "text": [
            "\rProcessing videos in dataset/Celeb-synthesis:  34%|███▍      | 339/994 [01:34<03:05,  3.53it/s]"
          ]
        },
        {
          "name": "stdout",
          "output_type": "stream",
          "text": [
            "Extracted 20 frames from the first 10 seconds of dataset/Celeb-synthesis/id20_id4_0000.mp4\n"
          ]
        },
        {
          "name": "stderr",
          "output_type": "stream",
          "text": [
            "\rProcessing videos in dataset/Celeb-synthesis:  34%|███▍      | 340/994 [01:34<02:57,  3.69it/s]"
          ]
        },
        {
          "name": "stdout",
          "output_type": "stream",
          "text": [
            "Extracted 20 frames from the first 10 seconds of dataset/Celeb-synthesis/id48_id47_0002.mp4\n"
          ]
        },
        {
          "name": "stderr",
          "output_type": "stream",
          "text": [
            "\rProcessing videos in dataset/Celeb-synthesis:  34%|███▍      | 341/994 [01:34<02:59,  3.63it/s]"
          ]
        },
        {
          "name": "stdout",
          "output_type": "stream",
          "text": [
            "Extracted 20 frames from the first 10 seconds of dataset/Celeb-synthesis/id4_id2_0005.mp4\n"
          ]
        },
        {
          "name": "stderr",
          "output_type": "stream",
          "text": [
            "\rProcessing videos in dataset/Celeb-synthesis:  34%|███▍      | 342/994 [01:34<02:54,  3.74it/s]"
          ]
        },
        {
          "name": "stdout",
          "output_type": "stream",
          "text": [
            "Extracted 20 frames from the first 10 seconds of dataset/Celeb-synthesis/id39_id43_0008.mp4\n"
          ]
        },
        {
          "name": "stderr",
          "output_type": "stream",
          "text": [
            "\rProcessing videos in dataset/Celeb-synthesis:  35%|███▍      | 343/994 [01:35<02:53,  3.75it/s]"
          ]
        },
        {
          "name": "stdout",
          "output_type": "stream",
          "text": [
            "Extracted 20 frames from the first 10 seconds of dataset/Celeb-synthesis/id43_id39_0008.mp4\n"
          ]
        },
        {
          "name": "stderr",
          "output_type": "stream",
          "text": [
            "\rProcessing videos in dataset/Celeb-synthesis:  35%|███▍      | 344/994 [01:35<02:49,  3.83it/s]"
          ]
        },
        {
          "name": "stdout",
          "output_type": "stream",
          "text": [
            "Extracted 20 frames from the first 10 seconds of dataset/Celeb-synthesis/id51_id49_0006.mp4\n"
          ]
        },
        {
          "name": "stderr",
          "output_type": "stream",
          "text": [
            "\rProcessing videos in dataset/Celeb-synthesis:  35%|███▍      | 345/994 [01:35<02:50,  3.80it/s]"
          ]
        },
        {
          "name": "stdout",
          "output_type": "stream",
          "text": [
            "Extracted 20 frames from the first 10 seconds of dataset/Celeb-synthesis/id38_id23_0000.mp4\n"
          ]
        },
        {
          "name": "stderr",
          "output_type": "stream",
          "text": [
            "\rProcessing videos in dataset/Celeb-synthesis:  35%|███▍      | 346/994 [01:35<02:59,  3.61it/s]"
          ]
        },
        {
          "name": "stdout",
          "output_type": "stream",
          "text": [
            "Extracted 20 frames from the first 10 seconds of dataset/Celeb-synthesis/id17_id1_0005.mp4\n"
          ]
        },
        {
          "name": "stderr",
          "output_type": "stream",
          "text": [
            "Processing videos in dataset/Celeb-synthesis:  35%|███▌      | 348/994 [01:36<02:56,  3.67it/s]"
          ]
        },
        {
          "name": "stdout",
          "output_type": "stream",
          "text": [
            "Extracted 20 frames from the first 10 seconds of dataset/Celeb-synthesis/id25_id19_0003.mp4\n",
            "Extracted 20 frames from the first 10 seconds of dataset/Celeb-synthesis/id27_id22_0007.mp4\n"
          ]
        },
        {
          "name": "stderr",
          "output_type": "stream",
          "text": [
            "\rProcessing videos in dataset/Celeb-synthesis:  35%|███▌      | 349/994 [01:36<03:24,  3.15it/s]"
          ]
        },
        {
          "name": "stdout",
          "output_type": "stream",
          "text": [
            "Extracted 20 frames from the first 10 seconds of dataset/Celeb-synthesis/id31_id1_0001.mp4\n"
          ]
        },
        {
          "name": "stderr",
          "output_type": "stream",
          "text": [
            "\rProcessing videos in dataset/Celeb-synthesis:  35%|███▌      | 350/994 [01:37<03:47,  2.83it/s]"
          ]
        },
        {
          "name": "stdout",
          "output_type": "stream",
          "text": [
            "Extracted 20 frames from the first 10 seconds of dataset/Celeb-synthesis/id58_id54_0002.mp4\n"
          ]
        },
        {
          "name": "stderr",
          "output_type": "stream",
          "text": [
            "\rProcessing videos in dataset/Celeb-synthesis:  35%|███▌      | 351/994 [01:37<04:08,  2.59it/s]"
          ]
        },
        {
          "name": "stdout",
          "output_type": "stream",
          "text": [
            "Extracted 20 frames from the first 10 seconds of dataset/Celeb-synthesis/id35_id2_0009.mp4\n"
          ]
        },
        {
          "name": "stderr",
          "output_type": "stream",
          "text": [
            "\rProcessing videos in dataset/Celeb-synthesis:  35%|███▌      | 352/994 [01:38<04:13,  2.53it/s]"
          ]
        },
        {
          "name": "stdout",
          "output_type": "stream",
          "text": [
            "Extracted 20 frames from the first 10 seconds of dataset/Celeb-synthesis/id46_id47_0009.mp4\n"
          ]
        },
        {
          "name": "stderr",
          "output_type": "stream",
          "text": [
            "\rProcessing videos in dataset/Celeb-synthesis:  36%|███▌      | 353/994 [01:38<04:21,  2.45it/s]"
          ]
        },
        {
          "name": "stdout",
          "output_type": "stream",
          "text": [
            "Extracted 20 frames from the first 10 seconds of dataset/Celeb-synthesis/id29_id28_0006.mp4\n"
          ]
        },
        {
          "name": "stderr",
          "output_type": "stream",
          "text": [
            "\rProcessing videos in dataset/Celeb-synthesis:  36%|███▌      | 354/994 [01:39<04:25,  2.41it/s]"
          ]
        },
        {
          "name": "stdout",
          "output_type": "stream",
          "text": [
            "Extracted 20 frames from the first 10 seconds of dataset/Celeb-synthesis/id52_id50_0002.mp4\n"
          ]
        },
        {
          "name": "stderr",
          "output_type": "stream",
          "text": [
            "\rProcessing videos in dataset/Celeb-synthesis:  36%|███▌      | 355/994 [01:39<04:10,  2.55it/s]"
          ]
        },
        {
          "name": "stdout",
          "output_type": "stream",
          "text": [
            "Extracted 20 frames from the first 10 seconds of dataset/Celeb-synthesis/id45_id39_0007.mp4\n"
          ]
        },
        {
          "name": "stderr",
          "output_type": "stream",
          "text": [
            "\rProcessing videos in dataset/Celeb-synthesis:  36%|███▌      | 356/994 [01:39<03:42,  2.87it/s]"
          ]
        },
        {
          "name": "stdout",
          "output_type": "stream",
          "text": [
            "Extracted 20 frames from the first 10 seconds of dataset/Celeb-synthesis/id7_id12_0002.mp4\n"
          ]
        },
        {
          "name": "stderr",
          "output_type": "stream",
          "text": [
            "\rProcessing videos in dataset/Celeb-synthesis:  36%|███▌      | 357/994 [01:39<03:21,  3.15it/s]"
          ]
        },
        {
          "name": "stdout",
          "output_type": "stream",
          "text": [
            "Extracted 20 frames from the first 10 seconds of dataset/Celeb-synthesis/id46_id41_0005.mp4\n"
          ]
        },
        {
          "name": "stderr",
          "output_type": "stream",
          "text": [
            "\rProcessing videos in dataset/Celeb-synthesis:  36%|███▌      | 358/994 [01:40<03:09,  3.35it/s]"
          ]
        },
        {
          "name": "stdout",
          "output_type": "stream",
          "text": [
            "Extracted 20 frames from the first 10 seconds of dataset/Celeb-synthesis/id61_id5_0006.mp4\n"
          ]
        },
        {
          "name": "stderr",
          "output_type": "stream",
          "text": [
            "\rProcessing videos in dataset/Celeb-synthesis:  36%|███▌      | 359/994 [01:40<03:01,  3.51it/s]"
          ]
        },
        {
          "name": "stdout",
          "output_type": "stream",
          "text": [
            "Extracted 20 frames from the first 10 seconds of dataset/Celeb-synthesis/id17_id0_0007.mp4\n"
          ]
        },
        {
          "name": "stderr",
          "output_type": "stream",
          "text": [
            "\rProcessing videos in dataset/Celeb-synthesis:  36%|███▌      | 360/994 [01:40<02:57,  3.57it/s]"
          ]
        },
        {
          "name": "stdout",
          "output_type": "stream",
          "text": [
            "Extracted 20 frames from the first 10 seconds of dataset/Celeb-synthesis/id50_id51_0006.mp4\n"
          ]
        },
        {
          "name": "stderr",
          "output_type": "stream",
          "text": [
            "Processing videos in dataset/Celeb-synthesis:  36%|███▋      | 362/994 [01:41<02:33,  4.12it/s]"
          ]
        },
        {
          "name": "stdout",
          "output_type": "stream",
          "text": [
            "Extracted 20 frames from the first 10 seconds of dataset/Celeb-synthesis/id52_id49_0007.mp4\n",
            "Extracted 20 frames from the first 10 seconds of dataset/Celeb-synthesis/id3_id20_0000.mp4\n"
          ]
        },
        {
          "name": "stderr",
          "output_type": "stream",
          "text": [
            "\rProcessing videos in dataset/Celeb-synthesis:  37%|███▋      | 363/994 [01:41<02:49,  3.73it/s]"
          ]
        },
        {
          "name": "stdout",
          "output_type": "stream",
          "text": [
            "Extracted 20 frames from the first 10 seconds of dataset/Celeb-synthesis/id6_id4_0005.mp4\n"
          ]
        },
        {
          "name": "stderr",
          "output_type": "stream",
          "text": [
            "\rProcessing videos in dataset/Celeb-synthesis:  37%|███▋      | 364/994 [01:41<02:44,  3.84it/s]"
          ]
        },
        {
          "name": "stdout",
          "output_type": "stream",
          "text": [
            "Extracted 20 frames from the first 10 seconds of dataset/Celeb-synthesis/id45_id39_0008.mp4\n"
          ]
        },
        {
          "name": "stderr",
          "output_type": "stream",
          "text": [
            "Processing videos in dataset/Celeb-synthesis:  37%|███▋      | 366/994 [01:42<02:26,  4.29it/s]"
          ]
        },
        {
          "name": "stdout",
          "output_type": "stream",
          "text": [
            "Extracted 20 frames from the first 10 seconds of dataset/Celeb-synthesis/id3_id9_0003.mp4\n",
            "Extracted 20 frames from the first 10 seconds of dataset/Celeb-synthesis/id2_id0_0005.mp4\n"
          ]
        },
        {
          "name": "stderr",
          "output_type": "stream",
          "text": [
            "\rProcessing videos in dataset/Celeb-synthesis:  37%|███▋      | 367/994 [01:42<02:16,  4.60it/s]"
          ]
        },
        {
          "name": "stdout",
          "output_type": "stream",
          "text": [
            "Extracted 20 frames from the first 10 seconds of dataset/Celeb-synthesis/id3_id9_0008.mp4\n"
          ]
        },
        {
          "name": "stderr",
          "output_type": "stream",
          "text": [
            "\rProcessing videos in dataset/Celeb-synthesis:  37%|███▋      | 368/994 [01:42<02:31,  4.14it/s]"
          ]
        },
        {
          "name": "stdout",
          "output_type": "stream",
          "text": [
            "Extracted 20 frames from the first 10 seconds of dataset/Celeb-synthesis/id4_id2_0001.mp4\n"
          ]
        },
        {
          "name": "stderr",
          "output_type": "stream",
          "text": [
            "\rProcessing videos in dataset/Celeb-synthesis:  37%|███▋      | 369/994 [01:42<02:33,  4.08it/s]"
          ]
        },
        {
          "name": "stdout",
          "output_type": "stream",
          "text": [
            "Extracted 20 frames from the first 10 seconds of dataset/Celeb-synthesis/id38_id26_0008.mp4\n"
          ]
        },
        {
          "name": "stderr",
          "output_type": "stream",
          "text": [
            "Processing videos in dataset/Celeb-synthesis:  37%|███▋      | 371/994 [01:43<02:23,  4.35it/s]"
          ]
        },
        {
          "name": "stdout",
          "output_type": "stream",
          "text": [
            "Extracted 20 frames from the first 10 seconds of dataset/Celeb-synthesis/id31_id2_0001.mp4\n",
            "Extracted 20 frames from the first 10 seconds of dataset/Celeb-synthesis/id1_id26_0007.mp4\n"
          ]
        },
        {
          "name": "stderr",
          "output_type": "stream",
          "text": [
            "\rProcessing videos in dataset/Celeb-synthesis:  37%|███▋      | 372/994 [01:43<02:34,  4.04it/s]"
          ]
        },
        {
          "name": "stdout",
          "output_type": "stream",
          "text": [
            "Extracted 20 frames from the first 10 seconds of dataset/Celeb-synthesis/id57_id52_0004.mp4\n"
          ]
        },
        {
          "name": "stderr",
          "output_type": "stream",
          "text": [
            "\rProcessing videos in dataset/Celeb-synthesis:  38%|███▊      | 373/994 [01:43<02:36,  3.97it/s]"
          ]
        },
        {
          "name": "stdout",
          "output_type": "stream",
          "text": [
            "Extracted 20 frames from the first 10 seconds of dataset/Celeb-synthesis/id35_id3_0002.mp4\n"
          ]
        },
        {
          "name": "stderr",
          "output_type": "stream",
          "text": [
            "\rProcessing videos in dataset/Celeb-synthesis:  38%|███▊      | 374/994 [01:44<02:30,  4.12it/s]"
          ]
        },
        {
          "name": "stdout",
          "output_type": "stream",
          "text": [
            "Extracted 20 frames from the first 10 seconds of dataset/Celeb-synthesis/id17_id1_0006.mp4\n"
          ]
        },
        {
          "name": "stderr",
          "output_type": "stream",
          "text": [
            "\rProcessing videos in dataset/Celeb-synthesis:  38%|███▊      | 375/994 [01:44<02:22,  4.33it/s]"
          ]
        },
        {
          "name": "stdout",
          "output_type": "stream",
          "text": [
            "Extracted 20 frames from the first 10 seconds of dataset/Celeb-synthesis/id60_id61_0008.mp4\n"
          ]
        },
        {
          "name": "stderr",
          "output_type": "stream",
          "text": [
            "\rProcessing videos in dataset/Celeb-synthesis:  38%|███▊      | 376/994 [01:44<02:30,  4.12it/s]"
          ]
        },
        {
          "name": "stdout",
          "output_type": "stream",
          "text": [
            "Extracted 20 frames from the first 10 seconds of dataset/Celeb-synthesis/id59_id5_0000.mp4\n"
          ]
        },
        {
          "name": "stderr",
          "output_type": "stream",
          "text": [
            "\rProcessing videos in dataset/Celeb-synthesis:  38%|███▊      | 377/994 [01:44<02:32,  4.04it/s]"
          ]
        },
        {
          "name": "stdout",
          "output_type": "stream",
          "text": [
            "Extracted 20 frames from the first 10 seconds of dataset/Celeb-synthesis/id29_id26_0003.mp4\n"
          ]
        },
        {
          "name": "stderr",
          "output_type": "stream",
          "text": [
            "\rProcessing videos in dataset/Celeb-synthesis:  38%|███▊      | 378/994 [01:45<02:35,  3.96it/s]"
          ]
        },
        {
          "name": "stdout",
          "output_type": "stream",
          "text": [
            "Extracted 20 frames from the first 10 seconds of dataset/Celeb-synthesis/id11_id7_0010.mp4\n"
          ]
        },
        {
          "name": "stderr",
          "output_type": "stream",
          "text": [
            "\rProcessing videos in dataset/Celeb-synthesis:  38%|███▊      | 379/994 [01:45<02:33,  3.99it/s]"
          ]
        },
        {
          "name": "stdout",
          "output_type": "stream",
          "text": [
            "Extracted 20 frames from the first 10 seconds of dataset/Celeb-synthesis/id37_id2_0009.mp4\n"
          ]
        },
        {
          "name": "stderr",
          "output_type": "stream",
          "text": [
            "Processing videos in dataset/Celeb-synthesis:  38%|███▊      | 381/994 [01:45<02:18,  4.43it/s]"
          ]
        },
        {
          "name": "stdout",
          "output_type": "stream",
          "text": [
            "Extracted 20 frames from the first 10 seconds of dataset/Celeb-synthesis/id56_id50_0001.mp4\n",
            "Extracted 20 frames from the first 10 seconds of dataset/Celeb-synthesis/id42_id43_0001.mp4\n"
          ]
        },
        {
          "name": "stderr",
          "output_type": "stream",
          "text": [
            "\rProcessing videos in dataset/Celeb-synthesis:  38%|███▊      | 382/994 [01:45<02:20,  4.35it/s]"
          ]
        },
        {
          "name": "stdout",
          "output_type": "stream",
          "text": [
            "Extracted 20 frames from the first 10 seconds of dataset/Celeb-synthesis/id41_id46_0008.mp4\n"
          ]
        },
        {
          "name": "stderr",
          "output_type": "stream",
          "text": [
            "\rProcessing videos in dataset/Celeb-synthesis:  39%|███▊      | 383/994 [01:46<02:18,  4.43it/s]"
          ]
        },
        {
          "name": "stdout",
          "output_type": "stream",
          "text": [
            "Extracted 20 frames from the first 10 seconds of dataset/Celeb-synthesis/id44_id40_0000.mp4\n"
          ]
        },
        {
          "name": "stderr",
          "output_type": "stream",
          "text": [
            "\rProcessing videos in dataset/Celeb-synthesis:  39%|███▊      | 384/994 [01:46<02:19,  4.38it/s]"
          ]
        },
        {
          "name": "stdout",
          "output_type": "stream",
          "text": [
            "Extracted 20 frames from the first 10 seconds of dataset/Celeb-synthesis/id46_id47_0004.mp4\n"
          ]
        },
        {
          "name": "stderr",
          "output_type": "stream",
          "text": [
            "\rProcessing videos in dataset/Celeb-synthesis:  39%|███▊      | 385/994 [01:46<02:23,  4.23it/s]"
          ]
        },
        {
          "name": "stdout",
          "output_type": "stream",
          "text": [
            "Extracted 20 frames from the first 10 seconds of dataset/Celeb-synthesis/id41_id45_0000.mp4\n"
          ]
        },
        {
          "name": "stderr",
          "output_type": "stream",
          "text": [
            "\rProcessing videos in dataset/Celeb-synthesis:  39%|███▉      | 386/994 [01:46<02:29,  4.06it/s]"
          ]
        },
        {
          "name": "stdout",
          "output_type": "stream",
          "text": [
            "Extracted 20 frames from the first 10 seconds of dataset/Celeb-synthesis/id53_id49_0001.mp4\n"
          ]
        },
        {
          "name": "stderr",
          "output_type": "stream",
          "text": [
            "Processing videos in dataset/Celeb-synthesis:  39%|███▉      | 388/994 [01:47<02:12,  4.57it/s]"
          ]
        },
        {
          "name": "stdout",
          "output_type": "stream",
          "text": [
            "Extracted 20 frames from the first 10 seconds of dataset/Celeb-synthesis/id30_id1_0009.mp4\n",
            "Extracted 20 frames from the first 10 seconds of dataset/Celeb-synthesis/id1_id0_0004.mp4\n"
          ]
        },
        {
          "name": "stderr",
          "output_type": "stream",
          "text": [
            "\rProcessing videos in dataset/Celeb-synthesis:  39%|███▉      | 389/994 [01:47<02:19,  4.35it/s]"
          ]
        },
        {
          "name": "stdout",
          "output_type": "stream",
          "text": [
            "Extracted 20 frames from the first 10 seconds of dataset/Celeb-synthesis/id46_id47_0008.mp4\n"
          ]
        },
        {
          "name": "stderr",
          "output_type": "stream",
          "text": [
            "\rProcessing videos in dataset/Celeb-synthesis:  39%|███▉      | 390/994 [01:47<02:34,  3.92it/s]"
          ]
        },
        {
          "name": "stdout",
          "output_type": "stream",
          "text": [
            "Extracted 20 frames from the first 10 seconds of dataset/Celeb-synthesis/id4_id1_0006.mp4\n"
          ]
        },
        {
          "name": "stderr",
          "output_type": "stream",
          "text": [
            "\rProcessing videos in dataset/Celeb-synthesis:  39%|███▉      | 391/994 [01:48<02:31,  3.98it/s]"
          ]
        },
        {
          "name": "stdout",
          "output_type": "stream",
          "text": [
            "Extracted 20 frames from the first 10 seconds of dataset/Celeb-synthesis/id27_id23_0004.mp4\n"
          ]
        },
        {
          "name": "stderr",
          "output_type": "stream",
          "text": [
            "\rProcessing videos in dataset/Celeb-synthesis:  39%|███▉      | 392/994 [01:48<02:26,  4.12it/s]"
          ]
        },
        {
          "name": "stdout",
          "output_type": "stream",
          "text": [
            "Extracted 20 frames from the first 10 seconds of dataset/Celeb-synthesis/id27_id23_0001.mp4\n"
          ]
        },
        {
          "name": "stderr",
          "output_type": "stream",
          "text": [
            "Processing videos in dataset/Celeb-synthesis:  40%|███▉      | 394/994 [01:48<02:17,  4.37it/s]"
          ]
        },
        {
          "name": "stdout",
          "output_type": "stream",
          "text": [
            "Extracted 20 frames from the first 10 seconds of dataset/Celeb-synthesis/id57_id53_0003.mp4\n",
            "Extracted 20 frames from the first 10 seconds of dataset/Celeb-synthesis/id10_id11_0008.mp4\n"
          ]
        },
        {
          "name": "stderr",
          "output_type": "stream",
          "text": [
            "\rProcessing videos in dataset/Celeb-synthesis:  40%|███▉      | 395/994 [01:49<02:26,  4.08it/s]"
          ]
        },
        {
          "name": "stdout",
          "output_type": "stream",
          "text": [
            "Extracted 20 frames from the first 10 seconds of dataset/Celeb-synthesis/id43_id39_0005.mp4\n"
          ]
        },
        {
          "name": "stderr",
          "output_type": "stream",
          "text": [
            "\rProcessing videos in dataset/Celeb-synthesis:  40%|███▉      | 396/994 [01:49<02:30,  3.98it/s]"
          ]
        },
        {
          "name": "stdout",
          "output_type": "stream",
          "text": [
            "Extracted 20 frames from the first 10 seconds of dataset/Celeb-synthesis/id58_id54_0004.mp4\n"
          ]
        },
        {
          "name": "stderr",
          "output_type": "stream",
          "text": [
            "\rProcessing videos in dataset/Celeb-synthesis:  40%|███▉      | 397/994 [01:49<03:03,  3.25it/s]"
          ]
        },
        {
          "name": "stdout",
          "output_type": "stream",
          "text": [
            "Extracted 20 frames from the first 10 seconds of dataset/Celeb-synthesis/id34_id29_0002.mp4\n"
          ]
        },
        {
          "name": "stderr",
          "output_type": "stream",
          "text": [
            "\rProcessing videos in dataset/Celeb-synthesis:  40%|████      | 398/994 [01:50<03:28,  2.87it/s]"
          ]
        },
        {
          "name": "stdout",
          "output_type": "stream",
          "text": [
            "Extracted 20 frames from the first 10 seconds of dataset/Celeb-synthesis/id37_id2_0007.mp4\n"
          ]
        },
        {
          "name": "stderr",
          "output_type": "stream",
          "text": [
            "\rProcessing videos in dataset/Celeb-synthesis:  40%|████      | 399/994 [01:50<03:38,  2.73it/s]"
          ]
        },
        {
          "name": "stdout",
          "output_type": "stream",
          "text": [
            "Extracted 20 frames from the first 10 seconds of dataset/Celeb-synthesis/id52_id49_0002.mp4\n"
          ]
        },
        {
          "name": "stderr",
          "output_type": "stream",
          "text": [
            "\rProcessing videos in dataset/Celeb-synthesis:  40%|████      | 400/994 [01:51<03:46,  2.62it/s]"
          ]
        },
        {
          "name": "stdout",
          "output_type": "stream",
          "text": [
            "Extracted 20 frames from the first 10 seconds of dataset/Celeb-synthesis/id54_id52_0003.mp4\n"
          ]
        },
        {
          "name": "stderr",
          "output_type": "stream",
          "text": [
            "\rProcessing videos in dataset/Celeb-synthesis:  40%|████      | 401/994 [01:51<03:59,  2.48it/s]"
          ]
        },
        {
          "name": "stdout",
          "output_type": "stream",
          "text": [
            "Extracted 20 frames from the first 10 seconds of dataset/Celeb-synthesis/id60_id5_0000.mp4\n"
          ]
        },
        {
          "name": "stderr",
          "output_type": "stream",
          "text": [
            "\rProcessing videos in dataset/Celeb-synthesis:  40%|████      | 402/994 [01:51<04:08,  2.38it/s]"
          ]
        },
        {
          "name": "stdout",
          "output_type": "stream",
          "text": [
            "Extracted 20 frames from the first 10 seconds of dataset/Celeb-synthesis/id7_id12_0007.mp4\n"
          ]
        },
        {
          "name": "stderr",
          "output_type": "stream",
          "text": [
            "\rProcessing videos in dataset/Celeb-synthesis:  41%|████      | 403/994 [01:52<04:04,  2.41it/s]"
          ]
        },
        {
          "name": "stdout",
          "output_type": "stream",
          "text": [
            "Extracted 20 frames from the first 10 seconds of dataset/Celeb-synthesis/id37_id2_0001.mp4\n"
          ]
        },
        {
          "name": "stderr",
          "output_type": "stream",
          "text": [
            "\rProcessing videos in dataset/Celeb-synthesis:  41%|████      | 404/994 [01:52<04:08,  2.38it/s]"
          ]
        },
        {
          "name": "stdout",
          "output_type": "stream",
          "text": [
            "Extracted 20 frames from the first 10 seconds of dataset/Celeb-synthesis/id29_id26_0006.mp4\n"
          ]
        },
        {
          "name": "stderr",
          "output_type": "stream",
          "text": [
            "\rProcessing videos in dataset/Celeb-synthesis:  41%|████      | 405/994 [01:53<03:46,  2.60it/s]"
          ]
        },
        {
          "name": "stdout",
          "output_type": "stream",
          "text": [
            "Extracted 20 frames from the first 10 seconds of dataset/Celeb-synthesis/id35_id1_0000.mp4\n"
          ]
        },
        {
          "name": "stderr",
          "output_type": "stream",
          "text": [
            "\rProcessing videos in dataset/Celeb-synthesis:  41%|████      | 406/994 [01:53<03:27,  2.83it/s]"
          ]
        },
        {
          "name": "stdout",
          "output_type": "stream",
          "text": [
            "Extracted 20 frames from the first 10 seconds of dataset/Celeb-synthesis/id38_id28_0002.mp4\n"
          ]
        },
        {
          "name": "stderr",
          "output_type": "stream",
          "text": [
            "\rProcessing videos in dataset/Celeb-synthesis:  41%|████      | 407/994 [01:53<03:11,  3.06it/s]"
          ]
        },
        {
          "name": "stdout",
          "output_type": "stream",
          "text": [
            "Extracted 20 frames from the first 10 seconds of dataset/Celeb-synthesis/id39_id42_0003.mp4\n"
          ]
        },
        {
          "name": "stderr",
          "output_type": "stream",
          "text": [
            "\rProcessing videos in dataset/Celeb-synthesis:  41%|████      | 408/994 [01:53<03:05,  3.15it/s]"
          ]
        },
        {
          "name": "stdout",
          "output_type": "stream",
          "text": [
            "Extracted 20 frames from the first 10 seconds of dataset/Celeb-synthesis/id55_id53_0009.mp4\n"
          ]
        },
        {
          "name": "stderr",
          "output_type": "stream",
          "text": [
            "\rProcessing videos in dataset/Celeb-synthesis:  41%|████      | 409/994 [01:54<02:54,  3.36it/s]"
          ]
        },
        {
          "name": "stdout",
          "output_type": "stream",
          "text": [
            "Extracted 20 frames from the first 10 seconds of dataset/Celeb-synthesis/id22_id19_0001.mp4\n"
          ]
        },
        {
          "name": "stderr",
          "output_type": "stream",
          "text": [
            "Processing videos in dataset/Celeb-synthesis:  41%|████▏     | 411/994 [01:54<02:31,  3.86it/s]"
          ]
        },
        {
          "name": "stdout",
          "output_type": "stream",
          "text": [
            "Extracted 20 frames from the first 10 seconds of dataset/Celeb-synthesis/id8_id6_0007.mp4\n",
            "Extracted 20 frames from the first 10 seconds of dataset/Celeb-synthesis/id7_id12_0005.mp4\n"
          ]
        },
        {
          "name": "stderr",
          "output_type": "stream",
          "text": [
            "\rProcessing videos in dataset/Celeb-synthesis:  41%|████▏     | 412/994 [01:54<02:38,  3.68it/s]"
          ]
        },
        {
          "name": "stdout",
          "output_type": "stream",
          "text": [
            "Extracted 20 frames from the first 10 seconds of dataset/Celeb-synthesis/id31_id1_0006.mp4\n"
          ]
        },
        {
          "name": "stderr",
          "output_type": "stream",
          "text": [
            "\rProcessing videos in dataset/Celeb-synthesis:  42%|████▏     | 413/994 [01:55<02:35,  3.75it/s]"
          ]
        },
        {
          "name": "stdout",
          "output_type": "stream",
          "text": [
            "Extracted 20 frames from the first 10 seconds of dataset/Celeb-synthesis/id37_id2_0000.mp4\n"
          ]
        },
        {
          "name": "stderr",
          "output_type": "stream",
          "text": [
            "\rProcessing videos in dataset/Celeb-synthesis:  42%|████▏     | 414/994 [01:55<02:38,  3.67it/s]"
          ]
        },
        {
          "name": "stdout",
          "output_type": "stream",
          "text": [
            "Extracted 20 frames from the first 10 seconds of dataset/Celeb-synthesis/id34_id20_0003.mp4\n"
          ]
        },
        {
          "name": "stderr",
          "output_type": "stream",
          "text": [
            "\rProcessing videos in dataset/Celeb-synthesis:  42%|████▏     | 415/994 [01:55<02:38,  3.65it/s]"
          ]
        },
        {
          "name": "stdout",
          "output_type": "stream",
          "text": [
            "Extracted 20 frames from the first 10 seconds of dataset/Celeb-synthesis/id34_id29_0001.mp4\n"
          ]
        },
        {
          "name": "stderr",
          "output_type": "stream",
          "text": [
            "\rProcessing videos in dataset/Celeb-synthesis:  42%|████▏     | 416/994 [01:56<02:39,  3.63it/s]"
          ]
        },
        {
          "name": "stdout",
          "output_type": "stream",
          "text": [
            "Extracted 20 frames from the first 10 seconds of dataset/Celeb-synthesis/id49_id51_0002.mp4\n"
          ]
        },
        {
          "name": "stderr",
          "output_type": "stream",
          "text": [
            "\rProcessing videos in dataset/Celeb-synthesis:  42%|████▏     | 417/994 [01:56<02:34,  3.74it/s]"
          ]
        },
        {
          "name": "stdout",
          "output_type": "stream",
          "text": [
            "Extracted 20 frames from the first 10 seconds of dataset/Celeb-synthesis/id53_id49_0000.mp4\n"
          ]
        },
        {
          "name": "stderr",
          "output_type": "stream",
          "text": [
            "\rProcessing videos in dataset/Celeb-synthesis:  42%|████▏     | 418/994 [01:56<02:32,  3.77it/s]"
          ]
        },
        {
          "name": "stdout",
          "output_type": "stream",
          "text": [
            "Extracted 20 frames from the first 10 seconds of dataset/Celeb-synthesis/id57_id52_0003.mp4\n",
            "Extracted 0 frames from the first 10 seconds of dataset/Celeb-synthesis/id55_id51_0003.mp4\n"
          ]
        },
        {
          "name": "stderr",
          "output_type": "stream",
          "text": [
            "Processing videos in dataset/Celeb-synthesis:  42%|████▏     | 421/994 [01:57<01:57,  4.89it/s]"
          ]
        },
        {
          "name": "stdout",
          "output_type": "stream",
          "text": [
            "Extracted 20 frames from the first 10 seconds of dataset/Celeb-synthesis/id49_id51_0006.mp4\n",
            "Extracted 20 frames from the first 10 seconds of dataset/Celeb-synthesis/id48_id45_0008.mp4\n"
          ]
        },
        {
          "name": "stderr",
          "output_type": "stream",
          "text": [
            "Processing videos in dataset/Celeb-synthesis:  43%|████▎     | 423/994 [01:57<01:51,  5.11it/s]"
          ]
        },
        {
          "name": "stdout",
          "output_type": "stream",
          "text": [
            "Extracted 20 frames from the first 10 seconds of dataset/Celeb-synthesis/id21_id16_0008.mp4\n",
            "Extracted 20 frames from the first 10 seconds of dataset/Celeb-synthesis/id11_id7_0000.mp4\n"
          ]
        },
        {
          "name": "stderr",
          "output_type": "stream",
          "text": [
            "\rProcessing videos in dataset/Celeb-synthesis:  43%|████▎     | 424/994 [01:57<02:02,  4.65it/s]"
          ]
        },
        {
          "name": "stdout",
          "output_type": "stream",
          "text": [
            "Extracted 20 frames from the first 10 seconds of dataset/Celeb-synthesis/id17_id0_0009.mp4\n"
          ]
        },
        {
          "name": "stderr",
          "output_type": "stream",
          "text": [
            "\rProcessing videos in dataset/Celeb-synthesis:  43%|████▎     | 425/994 [01:57<02:12,  4.31it/s]"
          ]
        },
        {
          "name": "stdout",
          "output_type": "stream",
          "text": [
            "Extracted 20 frames from the first 10 seconds of dataset/Celeb-synthesis/id13_id7_0007.mp4\n"
          ]
        },
        {
          "name": "stderr",
          "output_type": "stream",
          "text": [
            "\rProcessing videos in dataset/Celeb-synthesis:  43%|████▎     | 426/994 [01:58<02:11,  4.32it/s]"
          ]
        },
        {
          "name": "stdout",
          "output_type": "stream",
          "text": [
            "Extracted 20 frames from the first 10 seconds of dataset/Celeb-synthesis/id20_id4_0008.mp4\n"
          ]
        },
        {
          "name": "stderr",
          "output_type": "stream",
          "text": [
            "\rProcessing videos in dataset/Celeb-synthesis:  43%|████▎     | 427/994 [01:58<02:16,  4.16it/s]"
          ]
        },
        {
          "name": "stdout",
          "output_type": "stream",
          "text": [
            "Extracted 20 frames from the first 10 seconds of dataset/Celeb-synthesis/id41_id46_0001.mp4\n"
          ]
        },
        {
          "name": "stderr",
          "output_type": "stream",
          "text": [
            "\rProcessing videos in dataset/Celeb-synthesis:  43%|████▎     | 428/994 [01:58<02:15,  4.19it/s]"
          ]
        },
        {
          "name": "stdout",
          "output_type": "stream",
          "text": [
            "Extracted 20 frames from the first 10 seconds of dataset/Celeb-synthesis/id27_id23_0006.mp4\n"
          ]
        },
        {
          "name": "stderr",
          "output_type": "stream",
          "text": [
            "Processing videos in dataset/Celeb-synthesis:  43%|████▎     | 430/994 [01:59<02:08,  4.40it/s]"
          ]
        },
        {
          "name": "stdout",
          "output_type": "stream",
          "text": [
            "Extracted 20 frames from the first 10 seconds of dataset/Celeb-synthesis/id43_id40_0005.mp4\n",
            "Extracted 20 frames from the first 10 seconds of dataset/Celeb-synthesis/id21_id16_0004.mp4\n"
          ]
        },
        {
          "name": "stderr",
          "output_type": "stream",
          "text": [
            "\rProcessing videos in dataset/Celeb-synthesis:  43%|████▎     | 431/994 [01:59<02:18,  4.05it/s]"
          ]
        },
        {
          "name": "stdout",
          "output_type": "stream",
          "text": [
            "Extracted 20 frames from the first 10 seconds of dataset/Celeb-synthesis/id52_id49_0001.mp4\n"
          ]
        },
        {
          "name": "stderr",
          "output_type": "stream",
          "text": [
            "\rProcessing videos in dataset/Celeb-synthesis:  43%|████▎     | 432/994 [01:59<02:19,  4.02it/s]"
          ]
        },
        {
          "name": "stdout",
          "output_type": "stream",
          "text": [
            "Extracted 20 frames from the first 10 seconds of dataset/Celeb-synthesis/id30_id2_0006.mp4\n"
          ]
        },
        {
          "name": "stderr",
          "output_type": "stream",
          "text": [
            "\rProcessing videos in dataset/Celeb-synthesis:  44%|████▎     | 433/994 [01:59<02:21,  3.98it/s]"
          ]
        },
        {
          "name": "stdout",
          "output_type": "stream",
          "text": [
            "Extracted 20 frames from the first 10 seconds of dataset/Celeb-synthesis/id38_id28_0009.mp4\n"
          ]
        },
        {
          "name": "stderr",
          "output_type": "stream",
          "text": [
            "\rProcessing videos in dataset/Celeb-synthesis:  44%|████▎     | 434/994 [02:00<02:21,  3.96it/s]"
          ]
        },
        {
          "name": "stdout",
          "output_type": "stream",
          "text": [
            "Extracted 20 frames from the first 10 seconds of dataset/Celeb-synthesis/id56_id49_0000.mp4\n"
          ]
        },
        {
          "name": "stderr",
          "output_type": "stream",
          "text": [
            "\rProcessing videos in dataset/Celeb-synthesis:  44%|████▍     | 435/994 [02:00<02:26,  3.82it/s]"
          ]
        },
        {
          "name": "stdout",
          "output_type": "stream",
          "text": [
            "Extracted 20 frames from the first 10 seconds of dataset/Celeb-synthesis/id4_id1_0005.mp4\n"
          ]
        },
        {
          "name": "stderr",
          "output_type": "stream",
          "text": [
            "\rProcessing videos in dataset/Celeb-synthesis:  44%|████▍     | 436/994 [02:00<02:20,  3.97it/s]"
          ]
        },
        {
          "name": "stdout",
          "output_type": "stream",
          "text": [
            "Extracted 20 frames from the first 10 seconds of dataset/Celeb-synthesis/id2_id16_0006.mp4\n"
          ]
        },
        {
          "name": "stderr",
          "output_type": "stream",
          "text": [
            "\rProcessing videos in dataset/Celeb-synthesis:  44%|████▍     | 437/994 [02:00<02:19,  3.98it/s]"
          ]
        },
        {
          "name": "stdout",
          "output_type": "stream",
          "text": [
            "Extracted 20 frames from the first 10 seconds of dataset/Celeb-synthesis/id7_id10_0002.mp4\n"
          ]
        },
        {
          "name": "stderr",
          "output_type": "stream",
          "text": [
            "\rProcessing videos in dataset/Celeb-synthesis:  44%|████▍     | 438/994 [02:01<02:24,  3.85it/s]"
          ]
        },
        {
          "name": "stdout",
          "output_type": "stream",
          "text": [
            "Extracted 20 frames from the first 10 seconds of dataset/Celeb-synthesis/id38_id23_0004.mp4\n"
          ]
        },
        {
          "name": "stderr",
          "output_type": "stream",
          "text": [
            "\rProcessing videos in dataset/Celeb-synthesis:  44%|████▍     | 439/994 [02:01<02:28,  3.75it/s]"
          ]
        },
        {
          "name": "stdout",
          "output_type": "stream",
          "text": [
            "Extracted 20 frames from the first 10 seconds of dataset/Celeb-synthesis/id9_id16_0002.mp4\n"
          ]
        },
        {
          "name": "stderr",
          "output_type": "stream",
          "text": [
            "\rProcessing videos in dataset/Celeb-synthesis:  44%|████▍     | 440/994 [02:01<02:28,  3.74it/s]"
          ]
        },
        {
          "name": "stdout",
          "output_type": "stream",
          "text": [
            "Extracted 20 frames from the first 10 seconds of dataset/Celeb-synthesis/id58_id53_0005.mp4\n"
          ]
        },
        {
          "name": "stderr",
          "output_type": "stream",
          "text": [
            "\rProcessing videos in dataset/Celeb-synthesis:  44%|████▍     | 441/994 [02:02<02:23,  3.85it/s]"
          ]
        },
        {
          "name": "stdout",
          "output_type": "stream",
          "text": [
            "Extracted 20 frames from the first 10 seconds of dataset/Celeb-synthesis/id48_id45_0002.mp4\n"
          ]
        },
        {
          "name": "stderr",
          "output_type": "stream",
          "text": [
            "\rProcessing videos in dataset/Celeb-synthesis:  44%|████▍     | 442/994 [02:02<02:19,  3.96it/s]"
          ]
        },
        {
          "name": "stdout",
          "output_type": "stream",
          "text": [
            "Extracted 20 frames from the first 10 seconds of dataset/Celeb-synthesis/id46_id41_0001.mp4\n"
          ]
        },
        {
          "name": "stderr",
          "output_type": "stream",
          "text": [
            "\rProcessing videos in dataset/Celeb-synthesis:  45%|████▍     | 443/994 [02:02<02:23,  3.83it/s]"
          ]
        },
        {
          "name": "stdout",
          "output_type": "stream",
          "text": [
            "Extracted 20 frames from the first 10 seconds of dataset/Celeb-synthesis/id31_id2_0007.mp4\n"
          ]
        },
        {
          "name": "stderr",
          "output_type": "stream",
          "text": [
            "\rProcessing videos in dataset/Celeb-synthesis:  45%|████▍     | 444/994 [02:02<02:26,  3.75it/s]"
          ]
        },
        {
          "name": "stdout",
          "output_type": "stream",
          "text": [
            "Extracted 20 frames from the first 10 seconds of dataset/Celeb-synthesis/id38_id26_0004.mp4\n"
          ]
        },
        {
          "name": "stderr",
          "output_type": "stream",
          "text": [
            "\rProcessing videos in dataset/Celeb-synthesis:  45%|████▍     | 445/994 [02:03<02:34,  3.56it/s]"
          ]
        },
        {
          "name": "stdout",
          "output_type": "stream",
          "text": [
            "Extracted 20 frames from the first 10 seconds of dataset/Celeb-synthesis/id19_id23_0001.mp4\n"
          ]
        },
        {
          "name": "stderr",
          "output_type": "stream",
          "text": [
            "\rProcessing videos in dataset/Celeb-synthesis:  45%|████▍     | 446/994 [02:03<02:48,  3.25it/s]"
          ]
        },
        {
          "name": "stdout",
          "output_type": "stream",
          "text": [
            "Extracted 20 frames from the first 10 seconds of dataset/Celeb-synthesis/id57_id52_0008.mp4\n"
          ]
        },
        {
          "name": "stderr",
          "output_type": "stream",
          "text": [
            "\rProcessing videos in dataset/Celeb-synthesis:  45%|████▍     | 447/994 [02:03<03:06,  2.94it/s]"
          ]
        },
        {
          "name": "stdout",
          "output_type": "stream",
          "text": [
            "Extracted 20 frames from the first 10 seconds of dataset/Celeb-synthesis/id40_id41_0006.mp4\n"
          ]
        },
        {
          "name": "stderr",
          "output_type": "stream",
          "text": [
            "\rProcessing videos in dataset/Celeb-synthesis:  45%|████▌     | 448/994 [02:04<03:36,  2.52it/s]"
          ]
        },
        {
          "name": "stdout",
          "output_type": "stream",
          "text": [
            "Extracted 20 frames from the first 10 seconds of dataset/Celeb-synthesis/id2_id0_0008.mp4\n"
          ]
        },
        {
          "name": "stderr",
          "output_type": "stream",
          "text": [
            "\rProcessing videos in dataset/Celeb-synthesis:  45%|████▌     | 449/994 [02:04<03:41,  2.46it/s]"
          ]
        },
        {
          "name": "stdout",
          "output_type": "stream",
          "text": [
            "Extracted 20 frames from the first 10 seconds of dataset/Celeb-synthesis/id25_id20_0010.mp4\n"
          ]
        },
        {
          "name": "stderr",
          "output_type": "stream",
          "text": [
            "\rProcessing videos in dataset/Celeb-synthesis:  45%|████▌     | 450/994 [02:05<03:49,  2.37it/s]"
          ]
        },
        {
          "name": "stdout",
          "output_type": "stream",
          "text": [
            "Extracted 20 frames from the first 10 seconds of dataset/Celeb-synthesis/id10_id7_0003.mp4\n"
          ]
        },
        {
          "name": "stderr",
          "output_type": "stream",
          "text": [
            "\rProcessing videos in dataset/Celeb-synthesis:  45%|████▌     | 451/994 [02:05<03:43,  2.43it/s]"
          ]
        },
        {
          "name": "stdout",
          "output_type": "stream",
          "text": [
            "Extracted 20 frames from the first 10 seconds of dataset/Celeb-synthesis/id30_id2_0002.mp4\n"
          ]
        },
        {
          "name": "stderr",
          "output_type": "stream",
          "text": [
            "\rProcessing videos in dataset/Celeb-synthesis:  45%|████▌     | 452/994 [02:06<03:41,  2.45it/s]"
          ]
        },
        {
          "name": "stdout",
          "output_type": "stream",
          "text": [
            "Extracted 20 frames from the first 10 seconds of dataset/Celeb-synthesis/id40_id41_0002.mp4\n"
          ]
        },
        {
          "name": "stderr",
          "output_type": "stream",
          "text": [
            "\rProcessing videos in dataset/Celeb-synthesis:  46%|████▌     | 453/994 [02:06<03:31,  2.56it/s]"
          ]
        },
        {
          "name": "stdout",
          "output_type": "stream",
          "text": [
            "Extracted 20 frames from the first 10 seconds of dataset/Celeb-synthesis/id17_id1_0000.mp4\n"
          ]
        },
        {
          "name": "stderr",
          "output_type": "stream",
          "text": [
            "\rProcessing videos in dataset/Celeb-synthesis:  46%|████▌     | 454/994 [02:06<03:15,  2.76it/s]"
          ]
        },
        {
          "name": "stdout",
          "output_type": "stream",
          "text": [
            "Extracted 20 frames from the first 10 seconds of dataset/Celeb-synthesis/id51_id50_0006.mp4\n"
          ]
        },
        {
          "name": "stderr",
          "output_type": "stream",
          "text": [
            "\rProcessing videos in dataset/Celeb-synthesis:  46%|████▌     | 455/994 [02:07<03:05,  2.90it/s]"
          ]
        },
        {
          "name": "stdout",
          "output_type": "stream",
          "text": [
            "Extracted 20 frames from the first 10 seconds of dataset/Celeb-synthesis/id11_id7_0003.mp4\n"
          ]
        },
        {
          "name": "stderr",
          "output_type": "stream",
          "text": [
            "\rProcessing videos in dataset/Celeb-synthesis:  46%|████▌     | 456/994 [02:07<02:52,  3.11it/s]"
          ]
        },
        {
          "name": "stdout",
          "output_type": "stream",
          "text": [
            "Extracted 20 frames from the first 10 seconds of dataset/Celeb-synthesis/id61_id59_0002.mp4\n"
          ]
        },
        {
          "name": "stderr",
          "output_type": "stream",
          "text": [
            "\rProcessing videos in dataset/Celeb-synthesis:  46%|████▌     | 457/994 [02:07<02:46,  3.22it/s]"
          ]
        },
        {
          "name": "stdout",
          "output_type": "stream",
          "text": [
            "Extracted 20 frames from the first 10 seconds of dataset/Celeb-synthesis/id58_id53_0002.mp4\n"
          ]
        },
        {
          "name": "stderr",
          "output_type": "stream",
          "text": [
            "Processing videos in dataset/Celeb-synthesis:  46%|████▌     | 459/994 [02:08<02:17,  3.90it/s]"
          ]
        },
        {
          "name": "stdout",
          "output_type": "stream",
          "text": [
            "Extracted 20 frames from the first 10 seconds of dataset/Celeb-synthesis/id21_id9_0006.mp4\n",
            "Extracted 20 frames from the first 10 seconds of dataset/Celeb-synthesis/id1_id26_0001.mp4\n"
          ]
        },
        {
          "name": "stderr",
          "output_type": "stream",
          "text": [
            "\rProcessing videos in dataset/Celeb-synthesis:  46%|████▋     | 460/994 [02:08<02:20,  3.80it/s]"
          ]
        },
        {
          "name": "stdout",
          "output_type": "stream",
          "text": [
            "Extracted 20 frames from the first 10 seconds of dataset/Celeb-synthesis/id49_id51_0008.mp4\n"
          ]
        },
        {
          "name": "stderr",
          "output_type": "stream",
          "text": [
            "\rProcessing videos in dataset/Celeb-synthesis:  46%|████▋     | 461/994 [02:08<02:21,  3.76it/s]"
          ]
        },
        {
          "name": "stdout",
          "output_type": "stream",
          "text": [
            "Extracted 20 frames from the first 10 seconds of dataset/Celeb-synthesis/id54_id51_0003.mp4\n"
          ]
        },
        {
          "name": "stderr",
          "output_type": "stream",
          "text": [
            "\rProcessing videos in dataset/Celeb-synthesis:  46%|████▋     | 462/994 [02:08<02:18,  3.85it/s]"
          ]
        },
        {
          "name": "stdout",
          "output_type": "stream",
          "text": [
            "Extracted 20 frames from the first 10 seconds of dataset/Celeb-synthesis/id20_id6_0009.mp4\n"
          ]
        },
        {
          "name": "stderr",
          "output_type": "stream",
          "text": [
            "Processing videos in dataset/Celeb-synthesis:  47%|████▋     | 464/994 [02:09<02:07,  4.14it/s]"
          ]
        },
        {
          "name": "stdout",
          "output_type": "stream",
          "text": [
            "Extracted 20 frames from the first 10 seconds of dataset/Celeb-synthesis/id47_id39_0009.mp4\n",
            "Extracted 20 frames from the first 10 seconds of dataset/Celeb-synthesis/id1_id0_0002.mp4\n"
          ]
        },
        {
          "name": "stderr",
          "output_type": "stream",
          "text": [
            "\rProcessing videos in dataset/Celeb-synthesis:  47%|████▋     | 465/994 [02:09<02:13,  3.95it/s]"
          ]
        },
        {
          "name": "stdout",
          "output_type": "stream",
          "text": [
            "Extracted 20 frames from the first 10 seconds of dataset/Celeb-synthesis/id43_id39_0009.mp4\n"
          ]
        },
        {
          "name": "stderr",
          "output_type": "stream",
          "text": [
            "\rProcessing videos in dataset/Celeb-synthesis:  47%|████▋     | 466/994 [02:09<02:15,  3.91it/s]"
          ]
        },
        {
          "name": "stdout",
          "output_type": "stream",
          "text": [
            "Extracted 20 frames from the first 10 seconds of dataset/Celeb-synthesis/id37_id3_0006.mp4\n"
          ]
        },
        {
          "name": "stderr",
          "output_type": "stream",
          "text": [
            "\rProcessing videos in dataset/Celeb-synthesis:  47%|████▋     | 467/994 [02:10<02:15,  3.90it/s]"
          ]
        },
        {
          "name": "stdout",
          "output_type": "stream",
          "text": [
            "Extracted 20 frames from the first 10 seconds of dataset/Celeb-synthesis/id42_id44_0003.mp4\n"
          ]
        },
        {
          "name": "stderr",
          "output_type": "stream",
          "text": [
            "\rProcessing videos in dataset/Celeb-synthesis:  47%|████▋     | 468/994 [02:10<02:15,  3.89it/s]"
          ]
        },
        {
          "name": "stdout",
          "output_type": "stream",
          "text": [
            "Extracted 20 frames from the first 10 seconds of dataset/Celeb-synthesis/id28_id4_0002.mp4\n"
          ]
        },
        {
          "name": "stderr",
          "output_type": "stream",
          "text": [
            "\rProcessing videos in dataset/Celeb-synthesis:  47%|████▋     | 469/994 [02:10<02:24,  3.63it/s]"
          ]
        },
        {
          "name": "stdout",
          "output_type": "stream",
          "text": [
            "Extracted 20 frames from the first 10 seconds of dataset/Celeb-synthesis/id5_id59_0003.mp4\n"
          ]
        },
        {
          "name": "stderr",
          "output_type": "stream",
          "text": [
            "\rProcessing videos in dataset/Celeb-synthesis:  47%|████▋     | 470/994 [02:10<02:22,  3.67it/s]"
          ]
        },
        {
          "name": "stdout",
          "output_type": "stream",
          "text": [
            "Extracted 20 frames from the first 10 seconds of dataset/Celeb-synthesis/id56_id49_0009.mp4\n"
          ]
        },
        {
          "name": "stderr",
          "output_type": "stream",
          "text": [
            "\rProcessing videos in dataset/Celeb-synthesis:  47%|████▋     | 471/994 [02:11<02:25,  3.60it/s]"
          ]
        },
        {
          "name": "stdout",
          "output_type": "stream",
          "text": [
            "Extracted 20 frames from the first 10 seconds of dataset/Celeb-synthesis/id16_id1_0005.mp4\n"
          ]
        },
        {
          "name": "stderr",
          "output_type": "stream",
          "text": [
            "\rProcessing videos in dataset/Celeb-synthesis:  47%|████▋     | 472/994 [02:11<02:25,  3.58it/s]"
          ]
        },
        {
          "name": "stdout",
          "output_type": "stream",
          "text": [
            "Extracted 20 frames from the first 10 seconds of dataset/Celeb-synthesis/id49_id50_0002.mp4\n"
          ]
        },
        {
          "name": "stderr",
          "output_type": "stream",
          "text": [
            "\rProcessing videos in dataset/Celeb-synthesis:  48%|████▊     | 473/994 [02:11<02:22,  3.64it/s]"
          ]
        },
        {
          "name": "stdout",
          "output_type": "stream",
          "text": [
            "Extracted 20 frames from the first 10 seconds of dataset/Celeb-synthesis/id31_id2_0000.mp4\n"
          ]
        },
        {
          "name": "stderr",
          "output_type": "stream",
          "text": [
            "Processing videos in dataset/Celeb-synthesis:  48%|████▊     | 475/994 [02:12<01:55,  4.48it/s]"
          ]
        },
        {
          "name": "stdout",
          "output_type": "stream",
          "text": [
            "Extracted 20 frames from the first 10 seconds of dataset/Celeb-synthesis/id46_id47_0003.mp4\n",
            "Extracted 20 frames from the first 10 seconds of dataset/Celeb-synthesis/id23_id1_0005.mp4\n"
          ]
        },
        {
          "name": "stderr",
          "output_type": "stream",
          "text": [
            "\rProcessing videos in dataset/Celeb-synthesis:  48%|████▊     | 476/994 [02:12<02:00,  4.29it/s]"
          ]
        },
        {
          "name": "stdout",
          "output_type": "stream",
          "text": [
            "Extracted 20 frames from the first 10 seconds of dataset/Celeb-synthesis/id7_id11_0002.mp4\n"
          ]
        },
        {
          "name": "stderr",
          "output_type": "stream",
          "text": [
            "\rProcessing videos in dataset/Celeb-synthesis:  48%|████▊     | 477/994 [02:12<02:07,  4.07it/s]"
          ]
        },
        {
          "name": "stdout",
          "output_type": "stream",
          "text": [
            "Extracted 20 frames from the first 10 seconds of dataset/Celeb-synthesis/id35_id1_0007.mp4\n"
          ]
        },
        {
          "name": "stderr",
          "output_type": "stream",
          "text": [
            "\rProcessing videos in dataset/Celeb-synthesis:  48%|████▊     | 478/994 [02:12<02:06,  4.08it/s]"
          ]
        },
        {
          "name": "stdout",
          "output_type": "stream",
          "text": [
            "Extracted 20 frames from the first 10 seconds of dataset/Celeb-synthesis/id47_id39_0006.mp4\n"
          ]
        },
        {
          "name": "stderr",
          "output_type": "stream",
          "text": [
            "\rProcessing videos in dataset/Celeb-synthesis:  48%|████▊     | 479/994 [02:13<02:10,  3.96it/s]"
          ]
        },
        {
          "name": "stdout",
          "output_type": "stream",
          "text": [
            "Extracted 20 frames from the first 10 seconds of dataset/Celeb-synthesis/id53_id50_0003.mp4\n"
          ]
        },
        {
          "name": "stderr",
          "output_type": "stream",
          "text": [
            "\rProcessing videos in dataset/Celeb-synthesis:  48%|████▊     | 480/994 [02:13<02:15,  3.79it/s]"
          ]
        },
        {
          "name": "stdout",
          "output_type": "stream",
          "text": [
            "Extracted 20 frames from the first 10 seconds of dataset/Celeb-synthesis/id37_id3_0007.mp4\n"
          ]
        },
        {
          "name": "stderr",
          "output_type": "stream",
          "text": [
            "\rProcessing videos in dataset/Celeb-synthesis:  48%|████▊     | 481/994 [02:13<02:18,  3.69it/s]"
          ]
        },
        {
          "name": "stdout",
          "output_type": "stream",
          "text": [
            "Extracted 20 frames from the first 10 seconds of dataset/Celeb-synthesis/id32_id21_0000.mp4\n"
          ]
        },
        {
          "name": "stderr",
          "output_type": "stream",
          "text": [
            "\rProcessing videos in dataset/Celeb-synthesis:  48%|████▊     | 482/994 [02:14<02:16,  3.74it/s]"
          ]
        },
        {
          "name": "stdout",
          "output_type": "stream",
          "text": [
            "Extracted 20 frames from the first 10 seconds of dataset/Celeb-synthesis/id24_id23_0005.mp4\n"
          ]
        },
        {
          "name": "stderr",
          "output_type": "stream",
          "text": [
            "\rProcessing videos in dataset/Celeb-synthesis:  49%|████▊     | 483/994 [02:14<02:15,  3.78it/s]"
          ]
        },
        {
          "name": "stdout",
          "output_type": "stream",
          "text": [
            "Extracted 20 frames from the first 10 seconds of dataset/Celeb-synthesis/id60_id5_0004.mp4\n"
          ]
        },
        {
          "name": "stderr",
          "output_type": "stream",
          "text": [
            "\rProcessing videos in dataset/Celeb-synthesis:  49%|████▊     | 484/994 [02:14<02:13,  3.83it/s]"
          ]
        },
        {
          "name": "stdout",
          "output_type": "stream",
          "text": [
            "Extracted 20 frames from the first 10 seconds of dataset/Celeb-synthesis/id61_id59_0000.mp4\n"
          ]
        },
        {
          "name": "stderr",
          "output_type": "stream",
          "text": [
            "\rProcessing videos in dataset/Celeb-synthesis:  49%|████▉     | 485/994 [02:14<02:09,  3.93it/s]"
          ]
        },
        {
          "name": "stdout",
          "output_type": "stream",
          "text": [
            "Extracted 20 frames from the first 10 seconds of dataset/Celeb-synthesis/id19_id23_0007.mp4\n"
          ]
        },
        {
          "name": "stderr",
          "output_type": "stream",
          "text": [
            "\rProcessing videos in dataset/Celeb-synthesis:  49%|████▉     | 486/994 [02:15<02:16,  3.72it/s]"
          ]
        },
        {
          "name": "stdout",
          "output_type": "stream",
          "text": [
            "Extracted 20 frames from the first 10 seconds of dataset/Celeb-synthesis/id4_id1_0000.mp4\n"
          ]
        },
        {
          "name": "stderr",
          "output_type": "stream",
          "text": [
            "\rProcessing videos in dataset/Celeb-synthesis:  49%|████▉     | 487/994 [02:15<02:14,  3.76it/s]"
          ]
        },
        {
          "name": "stdout",
          "output_type": "stream",
          "text": [
            "Extracted 20 frames from the first 10 seconds of dataset/Celeb-synthesis/id21_id16_0002.mp4\n"
          ]
        },
        {
          "name": "stderr",
          "output_type": "stream",
          "text": [
            "\rProcessing videos in dataset/Celeb-synthesis:  49%|████▉     | 488/994 [02:15<02:14,  3.77it/s]"
          ]
        },
        {
          "name": "stdout",
          "output_type": "stream",
          "text": [
            "Extracted 20 frames from the first 10 seconds of dataset/Celeb-synthesis/id37_id3_0002.mp4\n"
          ]
        },
        {
          "name": "stderr",
          "output_type": "stream",
          "text": [
            "\rProcessing videos in dataset/Celeb-synthesis:  49%|████▉     | 489/994 [02:15<02:20,  3.58it/s]"
          ]
        },
        {
          "name": "stdout",
          "output_type": "stream",
          "text": [
            "Extracted 20 frames from the first 10 seconds of dataset/Celeb-synthesis/id53_id50_0001.mp4\n"
          ]
        },
        {
          "name": "stderr",
          "output_type": "stream",
          "text": [
            "\rProcessing videos in dataset/Celeb-synthesis:  49%|████▉     | 490/994 [02:16<02:20,  3.58it/s]"
          ]
        },
        {
          "name": "stdout",
          "output_type": "stream",
          "text": [
            "Extracted 20 frames from the first 10 seconds of dataset/Celeb-synthesis/id48_id45_0001.mp4\n"
          ]
        },
        {
          "name": "stderr",
          "output_type": "stream",
          "text": [
            "\rProcessing videos in dataset/Celeb-synthesis:  49%|████▉     | 491/994 [02:16<02:20,  3.58it/s]"
          ]
        },
        {
          "name": "stdout",
          "output_type": "stream",
          "text": [
            "Extracted 20 frames from the first 10 seconds of dataset/Celeb-synthesis/id34_id26_0008.mp4\n"
          ]
        },
        {
          "name": "stderr",
          "output_type": "stream",
          "text": [
            "\rProcessing videos in dataset/Celeb-synthesis:  49%|████▉     | 492/994 [02:16<02:27,  3.41it/s]"
          ]
        },
        {
          "name": "stdout",
          "output_type": "stream",
          "text": [
            "Extracted 20 frames from the first 10 seconds of dataset/Celeb-synthesis/id43_id39_0003.mp4\n"
          ]
        },
        {
          "name": "stderr",
          "output_type": "stream",
          "text": [
            "\rProcessing videos in dataset/Celeb-synthesis:  50%|████▉     | 493/994 [02:17<02:58,  2.81it/s]"
          ]
        },
        {
          "name": "stdout",
          "output_type": "stream",
          "text": [
            "Extracted 20 frames from the first 10 seconds of dataset/Celeb-synthesis/id5_id59_0008.mp4\n"
          ]
        },
        {
          "name": "stderr",
          "output_type": "stream",
          "text": [
            "\rProcessing videos in dataset/Celeb-synthesis:  50%|████▉     | 494/994 [02:17<03:05,  2.70it/s]"
          ]
        },
        {
          "name": "stdout",
          "output_type": "stream",
          "text": [
            "Extracted 20 frames from the first 10 seconds of dataset/Celeb-synthesis/id50_id51_0005.mp4\n"
          ]
        },
        {
          "name": "stderr",
          "output_type": "stream",
          "text": [
            "\rProcessing videos in dataset/Celeb-synthesis:  50%|████▉     | 495/994 [02:18<03:20,  2.49it/s]"
          ]
        },
        {
          "name": "stdout",
          "output_type": "stream",
          "text": [
            "Extracted 20 frames from the first 10 seconds of dataset/Celeb-synthesis/id30_id2_0003.mp4\n"
          ]
        },
        {
          "name": "stderr",
          "output_type": "stream",
          "text": [
            "\rProcessing videos in dataset/Celeb-synthesis:  50%|████▉     | 496/994 [02:18<03:38,  2.28it/s]"
          ]
        },
        {
          "name": "stdout",
          "output_type": "stream",
          "text": [
            "Extracted 20 frames from the first 10 seconds of dataset/Celeb-synthesis/id33_id28_0000.mp4\n"
          ]
        },
        {
          "name": "stderr",
          "output_type": "stream",
          "text": [
            "\rProcessing videos in dataset/Celeb-synthesis:  50%|█████     | 497/994 [02:19<03:51,  2.15it/s]"
          ]
        },
        {
          "name": "stdout",
          "output_type": "stream",
          "text": [
            "Extracted 20 frames from the first 10 seconds of dataset/Celeb-synthesis/id49_id51_0005.mp4\n"
          ]
        },
        {
          "name": "stderr",
          "output_type": "stream",
          "text": [
            "\rProcessing videos in dataset/Celeb-synthesis:  50%|█████     | 498/994 [02:19<03:49,  2.16it/s]"
          ]
        },
        {
          "name": "stdout",
          "output_type": "stream",
          "text": [
            "Extracted 20 frames from the first 10 seconds of dataset/Celeb-synthesis/id50_id49_0004.mp4\n"
          ]
        },
        {
          "name": "stderr",
          "output_type": "stream",
          "text": [
            "\rProcessing videos in dataset/Celeb-synthesis:  50%|█████     | 499/994 [02:20<03:48,  2.17it/s]"
          ]
        },
        {
          "name": "stdout",
          "output_type": "stream",
          "text": [
            "Extracted 20 frames from the first 10 seconds of dataset/Celeb-synthesis/id34_id21_0003.mp4\n"
          ]
        },
        {
          "name": "stderr",
          "output_type": "stream",
          "text": [
            "\rProcessing videos in dataset/Celeb-synthesis:  50%|█████     | 500/994 [02:20<03:18,  2.49it/s]"
          ]
        },
        {
          "name": "stdout",
          "output_type": "stream",
          "text": [
            "Extracted 20 frames from the first 10 seconds of dataset/Celeb-synthesis/id31_id1_0005.mp4\n"
          ]
        },
        {
          "name": "stderr",
          "output_type": "stream",
          "text": [
            "\rProcessing videos in dataset/Celeb-synthesis:  50%|█████     | 501/994 [02:20<03:03,  2.68it/s]"
          ]
        },
        {
          "name": "stdout",
          "output_type": "stream",
          "text": [
            "Extracted 20 frames from the first 10 seconds of dataset/Celeb-synthesis/id5_id61_0004.mp4\n"
          ]
        },
        {
          "name": "stderr",
          "output_type": "stream",
          "text": [
            "\rProcessing videos in dataset/Celeb-synthesis:  51%|█████     | 502/994 [02:20<02:46,  2.95it/s]"
          ]
        },
        {
          "name": "stdout",
          "output_type": "stream",
          "text": [
            "Extracted 20 frames from the first 10 seconds of dataset/Celeb-synthesis/id30_id2_0007.mp4\n"
          ]
        },
        {
          "name": "stderr",
          "output_type": "stream",
          "text": [
            "\rProcessing videos in dataset/Celeb-synthesis:  51%|█████     | 503/994 [02:21<02:33,  3.19it/s]"
          ]
        },
        {
          "name": "stdout",
          "output_type": "stream",
          "text": [
            "Extracted 20 frames from the first 10 seconds of dataset/Celeb-synthesis/id33_id31_0004.mp4\n"
          ]
        },
        {
          "name": "stderr",
          "output_type": "stream",
          "text": [
            "\rProcessing videos in dataset/Celeb-synthesis:  51%|█████     | 504/994 [02:21<02:28,  3.29it/s]"
          ]
        },
        {
          "name": "stdout",
          "output_type": "stream",
          "text": [
            "Extracted 20 frames from the first 10 seconds of dataset/Celeb-synthesis/id29_id28_0000.mp4\n"
          ]
        },
        {
          "name": "stderr",
          "output_type": "stream",
          "text": [
            "\rProcessing videos in dataset/Celeb-synthesis:  51%|█████     | 505/994 [02:21<02:22,  3.43it/s]"
          ]
        },
        {
          "name": "stdout",
          "output_type": "stream",
          "text": [
            "Extracted 20 frames from the first 10 seconds of dataset/Celeb-synthesis/id49_id50_0001.mp4\n"
          ]
        },
        {
          "name": "stderr",
          "output_type": "stream",
          "text": [
            "\rProcessing videos in dataset/Celeb-synthesis:  51%|█████     | 506/994 [02:22<02:19,  3.50it/s]"
          ]
        },
        {
          "name": "stdout",
          "output_type": "stream",
          "text": [
            "Extracted 20 frames from the first 10 seconds of dataset/Celeb-synthesis/id53_id50_0008.mp4\n"
          ]
        },
        {
          "name": "stderr",
          "output_type": "stream",
          "text": [
            "\rProcessing videos in dataset/Celeb-synthesis:  51%|█████     | 507/994 [02:22<02:15,  3.59it/s]"
          ]
        },
        {
          "name": "stdout",
          "output_type": "stream",
          "text": [
            "Extracted 20 frames from the first 10 seconds of dataset/Celeb-synthesis/id45_id39_0004.mp4\n"
          ]
        },
        {
          "name": "stderr",
          "output_type": "stream",
          "text": [
            "\rProcessing videos in dataset/Celeb-synthesis:  51%|█████     | 508/994 [02:22<02:13,  3.65it/s]"
          ]
        },
        {
          "name": "stdout",
          "output_type": "stream",
          "text": [
            "Extracted 20 frames from the first 10 seconds of dataset/Celeb-synthesis/id52_id49_0005.mp4\n"
          ]
        },
        {
          "name": "stderr",
          "output_type": "stream",
          "text": [
            "\rProcessing videos in dataset/Celeb-synthesis:  51%|█████     | 509/994 [02:22<02:09,  3.76it/s]"
          ]
        },
        {
          "name": "stdout",
          "output_type": "stream",
          "text": [
            "Extracted 20 frames from the first 10 seconds of dataset/Celeb-synthesis/id31_id2_0009.mp4\n"
          ]
        },
        {
          "name": "stderr",
          "output_type": "stream",
          "text": [
            "\rProcessing videos in dataset/Celeb-synthesis:  51%|█████▏    | 510/994 [02:23<02:14,  3.61it/s]"
          ]
        },
        {
          "name": "stdout",
          "output_type": "stream",
          "text": [
            "Extracted 20 frames from the first 10 seconds of dataset/Celeb-synthesis/id58_id53_0006.mp4\n"
          ]
        },
        {
          "name": "stderr",
          "output_type": "stream",
          "text": [
            "\rProcessing videos in dataset/Celeb-synthesis:  51%|█████▏    | 511/994 [02:23<02:10,  3.71it/s]"
          ]
        },
        {
          "name": "stdout",
          "output_type": "stream",
          "text": [
            "Extracted 20 frames from the first 10 seconds of dataset/Celeb-synthesis/id1_id26_0003.mp4\n"
          ]
        },
        {
          "name": "stderr",
          "output_type": "stream",
          "text": [
            "\rProcessing videos in dataset/Celeb-synthesis:  52%|█████▏    | 512/994 [02:23<02:07,  3.77it/s]"
          ]
        },
        {
          "name": "stdout",
          "output_type": "stream",
          "text": [
            "Extracted 20 frames from the first 10 seconds of dataset/Celeb-synthesis/id45_id39_0003.mp4\n"
          ]
        },
        {
          "name": "stderr",
          "output_type": "stream",
          "text": [
            "\rProcessing videos in dataset/Celeb-synthesis:  52%|█████▏    | 513/994 [02:23<02:06,  3.80it/s]"
          ]
        },
        {
          "name": "stdout",
          "output_type": "stream",
          "text": [
            "Extracted 20 frames from the first 10 seconds of dataset/Celeb-synthesis/id28_id4_0000.mp4\n"
          ]
        },
        {
          "name": "stderr",
          "output_type": "stream",
          "text": [
            "\rProcessing videos in dataset/Celeb-synthesis:  52%|█████▏    | 514/994 [02:24<02:15,  3.55it/s]"
          ]
        },
        {
          "name": "stdout",
          "output_type": "stream",
          "text": [
            "Extracted 20 frames from the first 10 seconds of dataset/Celeb-synthesis/id5_id60_0007.mp4\n"
          ]
        },
        {
          "name": "stderr",
          "output_type": "stream",
          "text": [
            "\rProcessing videos in dataset/Celeb-synthesis:  52%|█████▏    | 515/994 [02:24<02:11,  3.64it/s]"
          ]
        },
        {
          "name": "stdout",
          "output_type": "stream",
          "text": [
            "Extracted 20 frames from the first 10 seconds of dataset/Celeb-synthesis/id27_id22_0004.mp4\n"
          ]
        },
        {
          "name": "stderr",
          "output_type": "stream",
          "text": [
            "\rProcessing videos in dataset/Celeb-synthesis:  52%|█████▏    | 516/994 [02:24<02:11,  3.63it/s]"
          ]
        },
        {
          "name": "stdout",
          "output_type": "stream",
          "text": [
            "Extracted 20 frames from the first 10 seconds of dataset/Celeb-synthesis/id41_id45_0006.mp4\n"
          ]
        },
        {
          "name": "stderr",
          "output_type": "stream",
          "text": [
            "\rProcessing videos in dataset/Celeb-synthesis:  52%|█████▏    | 517/994 [02:25<02:11,  3.62it/s]"
          ]
        },
        {
          "name": "stdout",
          "output_type": "stream",
          "text": [
            "Extracted 20 frames from the first 10 seconds of dataset/Celeb-synthesis/id45_id40_0004.mp4\n"
          ]
        },
        {
          "name": "stderr",
          "output_type": "stream",
          "text": [
            "\rProcessing videos in dataset/Celeb-synthesis:  52%|█████▏    | 518/994 [02:25<02:06,  3.75it/s]"
          ]
        },
        {
          "name": "stdout",
          "output_type": "stream",
          "text": [
            "Extracted 20 frames from the first 10 seconds of dataset/Celeb-synthesis/id47_id39_0000.mp4\n"
          ]
        },
        {
          "name": "stderr",
          "output_type": "stream",
          "text": [
            "\rProcessing videos in dataset/Celeb-synthesis:  52%|█████▏    | 519/994 [02:25<02:14,  3.53it/s]"
          ]
        },
        {
          "name": "stdout",
          "output_type": "stream",
          "text": [
            "Extracted 20 frames from the first 10 seconds of dataset/Celeb-synthesis/id35_id2_0003.mp4\n"
          ]
        },
        {
          "name": "stderr",
          "output_type": "stream",
          "text": [
            "\rProcessing videos in dataset/Celeb-synthesis:  52%|█████▏    | 520/994 [02:25<02:20,  3.38it/s]"
          ]
        },
        {
          "name": "stdout",
          "output_type": "stream",
          "text": [
            "Extracted 20 frames from the first 10 seconds of dataset/Celeb-synthesis/id33_id31_0000.mp4\n"
          ]
        },
        {
          "name": "stderr",
          "output_type": "stream",
          "text": [
            "\rProcessing videos in dataset/Celeb-synthesis:  52%|█████▏    | 521/994 [02:26<02:16,  3.45it/s]"
          ]
        },
        {
          "name": "stdout",
          "output_type": "stream",
          "text": [
            "Extracted 20 frames from the first 10 seconds of dataset/Celeb-synthesis/id33_id28_0004.mp4\n"
          ]
        },
        {
          "name": "stderr",
          "output_type": "stream",
          "text": [
            "\rProcessing videos in dataset/Celeb-synthesis:  53%|█████▎    | 522/994 [02:26<02:11,  3.60it/s]"
          ]
        },
        {
          "name": "stdout",
          "output_type": "stream",
          "text": [
            "Extracted 20 frames from the first 10 seconds of dataset/Celeb-synthesis/id48_id45_0006.mp4\n"
          ]
        },
        {
          "name": "stderr",
          "output_type": "stream",
          "text": [
            "\rProcessing videos in dataset/Celeb-synthesis:  53%|█████▎    | 523/994 [02:26<02:16,  3.46it/s]"
          ]
        },
        {
          "name": "stdout",
          "output_type": "stream",
          "text": [
            "Extracted 20 frames from the first 10 seconds of dataset/Celeb-synthesis/id6_id4_0007.mp4\n"
          ]
        },
        {
          "name": "stderr",
          "output_type": "stream",
          "text": [
            "\rProcessing videos in dataset/Celeb-synthesis:  53%|█████▎    | 524/994 [02:27<02:12,  3.54it/s]"
          ]
        },
        {
          "name": "stdout",
          "output_type": "stream",
          "text": [
            "Extracted 20 frames from the first 10 seconds of dataset/Celeb-synthesis/id26_id19_0004.mp4\n"
          ]
        },
        {
          "name": "stderr",
          "output_type": "stream",
          "text": [
            "\rProcessing videos in dataset/Celeb-synthesis:  53%|█████▎    | 525/994 [02:27<02:21,  3.31it/s]"
          ]
        },
        {
          "name": "stdout",
          "output_type": "stream",
          "text": [
            "Extracted 20 frames from the first 10 seconds of dataset/Celeb-synthesis/id9_id17_0004.mp4\n"
          ]
        },
        {
          "name": "stderr",
          "output_type": "stream",
          "text": [
            "\rProcessing videos in dataset/Celeb-synthesis:  53%|█████▎    | 526/994 [02:27<02:12,  3.54it/s]"
          ]
        },
        {
          "name": "stdout",
          "output_type": "stream",
          "text": [
            "Extracted 20 frames from the first 10 seconds of dataset/Celeb-synthesis/id17_id0_0001.mp4\n"
          ]
        },
        {
          "name": "stderr",
          "output_type": "stream",
          "text": [
            "\rProcessing videos in dataset/Celeb-synthesis:  53%|█████▎    | 527/994 [02:27<02:01,  3.85it/s]"
          ]
        },
        {
          "name": "stdout",
          "output_type": "stream",
          "text": [
            "Extracted 20 frames from the first 10 seconds of dataset/Celeb-synthesis/id35_id3_0006.mp4\n"
          ]
        },
        {
          "name": "stderr",
          "output_type": "stream",
          "text": [
            "Processing videos in dataset/Celeb-synthesis:  53%|█████▎    | 529/994 [02:28<01:55,  4.02it/s]"
          ]
        },
        {
          "name": "stdout",
          "output_type": "stream",
          "text": [
            "Extracted 20 frames from the first 10 seconds of dataset/Celeb-synthesis/id57_id52_0002.mp4\n",
            "Extracted 20 frames from the first 10 seconds of dataset/Celeb-synthesis/id26_id19_0005.mp4\n"
          ]
        },
        {
          "name": "stderr",
          "output_type": "stream",
          "text": [
            "\rProcessing videos in dataset/Celeb-synthesis:  53%|█████▎    | 530/994 [02:28<01:45,  4.42it/s]"
          ]
        },
        {
          "name": "stdout",
          "output_type": "stream",
          "text": [
            "Extracted 20 frames from the first 10 seconds of dataset/Celeb-synthesis/id1_id26_0004.mp4\n"
          ]
        },
        {
          "name": "stderr",
          "output_type": "stream",
          "text": [
            "\rProcessing videos in dataset/Celeb-synthesis:  53%|█████▎    | 531/994 [02:28<01:51,  4.16it/s]"
          ]
        },
        {
          "name": "stdout",
          "output_type": "stream",
          "text": [
            "Extracted 20 frames from the first 10 seconds of dataset/Celeb-synthesis/id39_id42_0006.mp4\n"
          ]
        },
        {
          "name": "stderr",
          "output_type": "stream",
          "text": [
            "\rProcessing videos in dataset/Celeb-synthesis:  54%|█████▎    | 532/994 [02:29<01:59,  3.86it/s]"
          ]
        },
        {
          "name": "stdout",
          "output_type": "stream",
          "text": [
            "Extracted 20 frames from the first 10 seconds of dataset/Celeb-synthesis/id7_id11_0007.mp4\n"
          ]
        },
        {
          "name": "stderr",
          "output_type": "stream",
          "text": [
            "\rProcessing videos in dataset/Celeb-synthesis:  54%|█████▎    | 533/994 [02:29<02:04,  3.69it/s]"
          ]
        },
        {
          "name": "stdout",
          "output_type": "stream",
          "text": [
            "Extracted 20 frames from the first 10 seconds of dataset/Celeb-synthesis/id58_id54_0007.mp4\n"
          ]
        },
        {
          "name": "stderr",
          "output_type": "stream",
          "text": [
            "\rProcessing videos in dataset/Celeb-synthesis:  54%|█████▎    | 534/994 [02:29<02:00,  3.83it/s]"
          ]
        },
        {
          "name": "stdout",
          "output_type": "stream",
          "text": [
            "Extracted 20 frames from the first 10 seconds of dataset/Celeb-synthesis/id45_id40_0008.mp4\n"
          ]
        },
        {
          "name": "stderr",
          "output_type": "stream",
          "text": [
            "\rProcessing videos in dataset/Celeb-synthesis:  54%|█████▍    | 535/994 [02:29<01:59,  3.83it/s]"
          ]
        },
        {
          "name": "stdout",
          "output_type": "stream",
          "text": [
            "Extracted 20 frames from the first 10 seconds of dataset/Celeb-synthesis/id61_id59_0006.mp4\n"
          ]
        },
        {
          "name": "stderr",
          "output_type": "stream",
          "text": [
            "\rProcessing videos in dataset/Celeb-synthesis:  54%|█████▍    | 536/994 [02:30<02:04,  3.68it/s]"
          ]
        },
        {
          "name": "stdout",
          "output_type": "stream",
          "text": [
            "Extracted 20 frames from the first 10 seconds of dataset/Celeb-synthesis/id16_id0_0001.mp4\n"
          ]
        },
        {
          "name": "stderr",
          "output_type": "stream",
          "text": [
            "\rProcessing videos in dataset/Celeb-synthesis:  54%|█████▍    | 537/994 [02:30<02:23,  3.19it/s]"
          ]
        },
        {
          "name": "stdout",
          "output_type": "stream",
          "text": [
            "Extracted 20 frames from the first 10 seconds of dataset/Celeb-synthesis/id60_id59_0004.mp4\n"
          ]
        },
        {
          "name": "stderr",
          "output_type": "stream",
          "text": [
            "\rProcessing videos in dataset/Celeb-synthesis:  54%|█████▍    | 538/994 [02:31<02:40,  2.85it/s]"
          ]
        },
        {
          "name": "stdout",
          "output_type": "stream",
          "text": [
            "Extracted 20 frames from the first 10 seconds of dataset/Celeb-synthesis/id50_id51_0008.mp4\n"
          ]
        },
        {
          "name": "stderr",
          "output_type": "stream",
          "text": [
            "\rProcessing videos in dataset/Celeb-synthesis:  54%|█████▍    | 539/994 [02:31<02:47,  2.71it/s]"
          ]
        },
        {
          "name": "stdout",
          "output_type": "stream",
          "text": [
            "Extracted 20 frames from the first 10 seconds of dataset/Celeb-synthesis/id2_id16_0007.mp4\n"
          ]
        },
        {
          "name": "stderr",
          "output_type": "stream",
          "text": [
            "Processing videos in dataset/Celeb-synthesis:  54%|█████▍    | 541/994 [02:32<02:26,  3.09it/s]"
          ]
        },
        {
          "name": "stdout",
          "output_type": "stream",
          "text": [
            "Extracted 20 frames from the first 10 seconds of dataset/Celeb-synthesis/id47_id39_0008.mp4\n",
            "Extracted 20 frames from the first 10 seconds of dataset/Celeb-synthesis/id19_id24_0002.mp4\n"
          ]
        },
        {
          "name": "stderr",
          "output_type": "stream",
          "text": [
            "\rProcessing videos in dataset/Celeb-synthesis:  55%|█████▍    | 542/994 [02:32<02:40,  2.81it/s]"
          ]
        },
        {
          "name": "stdout",
          "output_type": "stream",
          "text": [
            "Extracted 20 frames from the first 10 seconds of dataset/Celeb-synthesis/id6_id3_0002.mp4\n"
          ]
        },
        {
          "name": "stderr",
          "output_type": "stream",
          "text": [
            "\rProcessing videos in dataset/Celeb-synthesis:  55%|█████▍    | 543/994 [02:32<02:53,  2.60it/s]"
          ]
        },
        {
          "name": "stdout",
          "output_type": "stream",
          "text": [
            "Extracted 20 frames from the first 10 seconds of dataset/Celeb-synthesis/id59_id60_0006.mp4\n"
          ]
        },
        {
          "name": "stderr",
          "output_type": "stream",
          "text": [
            "\rProcessing videos in dataset/Celeb-synthesis:  55%|█████▍    | 544/994 [02:33<02:55,  2.56it/s]"
          ]
        },
        {
          "name": "stdout",
          "output_type": "stream",
          "text": [
            "Extracted 20 frames from the first 10 seconds of dataset/Celeb-synthesis/id61_id60_0006.mp4\n"
          ]
        },
        {
          "name": "stderr",
          "output_type": "stream",
          "text": [
            "\rProcessing videos in dataset/Celeb-synthesis:  55%|█████▍    | 545/994 [02:33<03:02,  2.46it/s]"
          ]
        },
        {
          "name": "stdout",
          "output_type": "stream",
          "text": [
            "Extracted 20 frames from the first 10 seconds of dataset/Celeb-synthesis/id32_id20_0005.mp4\n"
          ]
        },
        {
          "name": "stderr",
          "output_type": "stream",
          "text": [
            "\rProcessing videos in dataset/Celeb-synthesis:  55%|█████▍    | 546/994 [02:34<02:53,  2.58it/s]"
          ]
        },
        {
          "name": "stdout",
          "output_type": "stream",
          "text": [
            "Extracted 20 frames from the first 10 seconds of dataset/Celeb-synthesis/id0_id6_0001.mp4\n"
          ]
        },
        {
          "name": "stderr",
          "output_type": "stream",
          "text": [
            "\rProcessing videos in dataset/Celeb-synthesis:  55%|█████▌    | 547/994 [02:34<02:38,  2.82it/s]"
          ]
        },
        {
          "name": "stdout",
          "output_type": "stream",
          "text": [
            "Extracted 20 frames from the first 10 seconds of dataset/Celeb-synthesis/id58_id54_0005.mp4\n"
          ]
        },
        {
          "name": "stderr",
          "output_type": "stream",
          "text": [
            "\rProcessing videos in dataset/Celeb-synthesis:  55%|█████▌    | 548/994 [02:34<02:29,  2.99it/s]"
          ]
        },
        {
          "name": "stdout",
          "output_type": "stream",
          "text": [
            "Extracted 20 frames from the first 10 seconds of dataset/Celeb-synthesis/id38_id26_0007.mp4\n"
          ]
        },
        {
          "name": "stderr",
          "output_type": "stream",
          "text": [
            "\rProcessing videos in dataset/Celeb-synthesis:  55%|█████▌    | 549/994 [02:34<02:22,  3.13it/s]"
          ]
        },
        {
          "name": "stdout",
          "output_type": "stream",
          "text": [
            "Extracted 20 frames from the first 10 seconds of dataset/Celeb-synthesis/id60_id59_0002.mp4\n"
          ]
        },
        {
          "name": "stderr",
          "output_type": "stream",
          "text": [
            "Processing videos in dataset/Celeb-synthesis:  55%|█████▌    | 551/994 [02:35<02:00,  3.67it/s]"
          ]
        },
        {
          "name": "stdout",
          "output_type": "stream",
          "text": [
            "Extracted 20 frames from the first 10 seconds of dataset/Celeb-synthesis/id8_id6_0002.mp4\n",
            "Extracted 20 frames from the first 10 seconds of dataset/Celeb-synthesis/id24_id21_0006.mp4\n"
          ]
        },
        {
          "name": "stderr",
          "output_type": "stream",
          "text": [
            "\rProcessing videos in dataset/Celeb-synthesis:  56%|█████▌    | 552/994 [02:35<01:52,  3.92it/s]"
          ]
        },
        {
          "name": "stdout",
          "output_type": "stream",
          "text": [
            "Extracted 20 frames from the first 10 seconds of dataset/Celeb-synthesis/id23_id0_0006.mp4\n"
          ]
        },
        {
          "name": "stderr",
          "output_type": "stream",
          "text": [
            "\rProcessing videos in dataset/Celeb-synthesis:  56%|█████▌    | 553/994 [02:35<01:54,  3.87it/s]"
          ]
        },
        {
          "name": "stdout",
          "output_type": "stream",
          "text": [
            "Extracted 20 frames from the first 10 seconds of dataset/Celeb-synthesis/id37_id3_0000.mp4\n"
          ]
        },
        {
          "name": "stderr",
          "output_type": "stream",
          "text": [
            "\rProcessing videos in dataset/Celeb-synthesis:  56%|█████▌    | 554/994 [02:36<01:57,  3.75it/s]"
          ]
        },
        {
          "name": "stdout",
          "output_type": "stream",
          "text": [
            "Extracted 20 frames from the first 10 seconds of dataset/Celeb-synthesis/id34_id29_0008.mp4\n"
          ]
        },
        {
          "name": "stderr",
          "output_type": "stream",
          "text": [
            "Processing videos in dataset/Celeb-synthesis:  56%|█████▌    | 556/994 [02:36<01:40,  4.35it/s]"
          ]
        },
        {
          "name": "stdout",
          "output_type": "stream",
          "text": [
            "Extracted 20 frames from the first 10 seconds of dataset/Celeb-synthesis/id47_id40_0004.mp4\n",
            "Extracted 20 frames from the first 10 seconds of dataset/Celeb-synthesis/id42_id39_0001.mp4\n"
          ]
        },
        {
          "name": "stderr",
          "output_type": "stream",
          "text": [
            "\rProcessing videos in dataset/Celeb-synthesis:  56%|█████▌    | 557/994 [02:36<01:49,  3.99it/s]"
          ]
        },
        {
          "name": "stdout",
          "output_type": "stream",
          "text": [
            "Extracted 20 frames from the first 10 seconds of dataset/Celeb-synthesis/id0_id6_0002.mp4\n"
          ]
        },
        {
          "name": "stderr",
          "output_type": "stream",
          "text": [
            "Processing videos in dataset/Celeb-synthesis:  56%|█████▌    | 559/994 [02:37<01:39,  4.38it/s]"
          ]
        },
        {
          "name": "stdout",
          "output_type": "stream",
          "text": [
            "Extracted 20 frames from the first 10 seconds of dataset/Celeb-synthesis/id30_id2_0000.mp4\n",
            "Extracted 20 frames from the first 10 seconds of dataset/Celeb-synthesis/id42_id41_0001.mp4\n"
          ]
        },
        {
          "name": "stderr",
          "output_type": "stream",
          "text": [
            "\rProcessing videos in dataset/Celeb-synthesis:  56%|█████▋    | 560/994 [02:37<01:42,  4.23it/s]"
          ]
        },
        {
          "name": "stdout",
          "output_type": "stream",
          "text": [
            "Extracted 20 frames from the first 10 seconds of dataset/Celeb-synthesis/id50_id51_0009.mp4\n"
          ]
        },
        {
          "name": "stderr",
          "output_type": "stream",
          "text": [
            "\rProcessing videos in dataset/Celeb-synthesis:  56%|█████▋    | 561/994 [02:37<01:44,  4.13it/s]"
          ]
        },
        {
          "name": "stdout",
          "output_type": "stream",
          "text": [
            "Extracted 20 frames from the first 10 seconds of dataset/Celeb-synthesis/id33_id31_0002.mp4\n"
          ]
        },
        {
          "name": "stderr",
          "output_type": "stream",
          "text": [
            "\rProcessing videos in dataset/Celeb-synthesis:  57%|█████▋    | 562/994 [02:38<01:47,  4.03it/s]"
          ]
        },
        {
          "name": "stdout",
          "output_type": "stream",
          "text": [
            "Extracted 20 frames from the first 10 seconds of dataset/Celeb-synthesis/id40_id39_0007.mp4\n"
          ]
        },
        {
          "name": "stderr",
          "output_type": "stream",
          "text": [
            "Processing videos in dataset/Celeb-synthesis:  57%|█████▋    | 564/994 [02:38<01:37,  4.42it/s]"
          ]
        },
        {
          "name": "stdout",
          "output_type": "stream",
          "text": [
            "Extracted 20 frames from the first 10 seconds of dataset/Celeb-synthesis/id34_id23_0002.mp4\n",
            "Extracted 20 frames from the first 10 seconds of dataset/Celeb-synthesis/id17_id1_0003.mp4\n"
          ]
        },
        {
          "name": "stderr",
          "output_type": "stream",
          "text": [
            "\rProcessing videos in dataset/Celeb-synthesis:  57%|█████▋    | 565/994 [02:38<01:44,  4.10it/s]"
          ]
        },
        {
          "name": "stdout",
          "output_type": "stream",
          "text": [
            "Extracted 20 frames from the first 10 seconds of dataset/Celeb-synthesis/id52_id49_0004.mp4\n"
          ]
        },
        {
          "name": "stderr",
          "output_type": "stream",
          "text": [
            "\rProcessing videos in dataset/Celeb-synthesis:  57%|█████▋    | 566/994 [02:39<01:48,  3.94it/s]"
          ]
        },
        {
          "name": "stdout",
          "output_type": "stream",
          "text": [
            "Extracted 20 frames from the first 10 seconds of dataset/Celeb-synthesis/id55_id53_0007.mp4\n"
          ]
        },
        {
          "name": "stderr",
          "output_type": "stream",
          "text": [
            "\rProcessing videos in dataset/Celeb-synthesis:  57%|█████▋    | 567/994 [02:39<01:50,  3.88it/s]"
          ]
        },
        {
          "name": "stdout",
          "output_type": "stream",
          "text": [
            "Extracted 20 frames from the first 10 seconds of dataset/Celeb-synthesis/id29_id26_0000.mp4\n"
          ]
        },
        {
          "name": "stderr",
          "output_type": "stream",
          "text": [
            "Processing videos in dataset/Celeb-synthesis:  57%|█████▋    | 569/994 [02:39<01:47,  3.94it/s]"
          ]
        },
        {
          "name": "stdout",
          "output_type": "stream",
          "text": [
            "Extracted 20 frames from the first 10 seconds of dataset/Celeb-synthesis/id5_id59_0001.mp4\n",
            "Extracted 20 frames from the first 10 seconds of dataset/Celeb-synthesis/id59_id5_0001.mp4\n"
          ]
        },
        {
          "name": "stderr",
          "output_type": "stream",
          "text": [
            "\rProcessing videos in dataset/Celeb-synthesis:  57%|█████▋    | 570/994 [02:40<01:46,  3.98it/s]"
          ]
        },
        {
          "name": "stdout",
          "output_type": "stream",
          "text": [
            "Extracted 20 frames from the first 10 seconds of dataset/Celeb-synthesis/id57_id52_0006.mp4\n"
          ]
        },
        {
          "name": "stderr",
          "output_type": "stream",
          "text": [
            "Processing videos in dataset/Celeb-synthesis:  58%|█████▊    | 572/994 [02:40<01:38,  4.27it/s]"
          ]
        },
        {
          "name": "stdout",
          "output_type": "stream",
          "text": [
            "Extracted 20 frames from the first 10 seconds of dataset/Celeb-synthesis/id20_id4_0004.mp4\n",
            "Extracted 20 frames from the first 10 seconds of dataset/Celeb-synthesis/id2_id0_0000.mp4\n"
          ]
        },
        {
          "name": "stderr",
          "output_type": "stream",
          "text": [
            "\rProcessing videos in dataset/Celeb-synthesis:  58%|█████▊    | 573/994 [02:40<01:48,  3.89it/s]"
          ]
        },
        {
          "name": "stdout",
          "output_type": "stream",
          "text": [
            "Extracted 20 frames from the first 10 seconds of dataset/Celeb-synthesis/id16_id1_0009.mp4\n"
          ]
        },
        {
          "name": "stderr",
          "output_type": "stream",
          "text": [
            "\rProcessing videos in dataset/Celeb-synthesis:  58%|█████▊    | 574/994 [02:41<01:45,  3.98it/s]"
          ]
        },
        {
          "name": "stdout",
          "output_type": "stream",
          "text": [
            "Extracted 20 frames from the first 10 seconds of dataset/Celeb-synthesis/id22_id19_0005.mp4\n"
          ]
        },
        {
          "name": "stderr",
          "output_type": "stream",
          "text": [
            "\rProcessing videos in dataset/Celeb-synthesis:  58%|█████▊    | 575/994 [02:41<01:48,  3.85it/s]"
          ]
        },
        {
          "name": "stdout",
          "output_type": "stream",
          "text": [
            "Extracted 20 frames from the first 10 seconds of dataset/Celeb-synthesis/id51_id50_0001.mp4\n"
          ]
        },
        {
          "name": "stderr",
          "output_type": "stream",
          "text": [
            "\rProcessing videos in dataset/Celeb-synthesis:  58%|█████▊    | 576/994 [02:41<01:48,  3.86it/s]"
          ]
        },
        {
          "name": "stdout",
          "output_type": "stream",
          "text": [
            "Extracted 20 frames from the first 10 seconds of dataset/Celeb-synthesis/id54_id52_0005.mp4\n"
          ]
        },
        {
          "name": "stderr",
          "output_type": "stream",
          "text": [
            "\rProcessing videos in dataset/Celeb-synthesis:  58%|█████▊    | 577/994 [02:41<01:49,  3.80it/s]"
          ]
        },
        {
          "name": "stdout",
          "output_type": "stream",
          "text": [
            "Extracted 20 frames from the first 10 seconds of dataset/Celeb-synthesis/id45_id40_0006.mp4\n"
          ]
        },
        {
          "name": "stderr",
          "output_type": "stream",
          "text": [
            "\rProcessing videos in dataset/Celeb-synthesis:  58%|█████▊    | 578/994 [02:42<01:47,  3.86it/s]"
          ]
        },
        {
          "name": "stdout",
          "output_type": "stream",
          "text": [
            "Extracted 20 frames from the first 10 seconds of dataset/Celeb-synthesis/id25_id21_0007.mp4\n"
          ]
        },
        {
          "name": "stderr",
          "output_type": "stream",
          "text": [
            "\rProcessing videos in dataset/Celeb-synthesis:  58%|█████▊    | 579/994 [02:42<01:45,  3.94it/s]"
          ]
        },
        {
          "name": "stdout",
          "output_type": "stream",
          "text": [
            "Extracted 20 frames from the first 10 seconds of dataset/Celeb-synthesis/id24_id21_0009.mp4\n"
          ]
        },
        {
          "name": "stderr",
          "output_type": "stream",
          "text": [
            "\rProcessing videos in dataset/Celeb-synthesis:  58%|█████▊    | 580/994 [02:42<01:43,  4.02it/s]"
          ]
        },
        {
          "name": "stdout",
          "output_type": "stream",
          "text": [
            "Extracted 20 frames from the first 10 seconds of dataset/Celeb-synthesis/id37_id3_0005.mp4\n"
          ]
        },
        {
          "name": "stderr",
          "output_type": "stream",
          "text": [
            "\rProcessing videos in dataset/Celeb-synthesis:  58%|█████▊    | 581/994 [02:42<01:48,  3.80it/s]"
          ]
        },
        {
          "name": "stdout",
          "output_type": "stream",
          "text": [
            "Extracted 20 frames from the first 10 seconds of dataset/Celeb-synthesis/id37_id3_0003.mp4\n"
          ]
        },
        {
          "name": "stderr",
          "output_type": "stream",
          "text": [
            "\rProcessing videos in dataset/Celeb-synthesis:  59%|█████▊    | 582/994 [02:43<01:45,  3.89it/s]"
          ]
        },
        {
          "name": "stdout",
          "output_type": "stream",
          "text": [
            "Extracted 20 frames from the first 10 seconds of dataset/Celeb-synthesis/id48_id47_0004.mp4\n"
          ]
        },
        {
          "name": "stderr",
          "output_type": "stream",
          "text": [
            "\rProcessing videos in dataset/Celeb-synthesis:  59%|█████▊    | 583/994 [02:43<02:16,  3.02it/s]"
          ]
        },
        {
          "name": "stdout",
          "output_type": "stream",
          "text": [
            "Extracted 20 frames from the first 10 seconds of dataset/Celeb-synthesis/id9_id16_0005.mp4\n"
          ]
        },
        {
          "name": "stderr",
          "output_type": "stream",
          "text": [
            "\rProcessing videos in dataset/Celeb-synthesis:  59%|█████▉    | 584/994 [02:44<02:36,  2.63it/s]"
          ]
        },
        {
          "name": "stdout",
          "output_type": "stream",
          "text": [
            "Extracted 20 frames from the first 10 seconds of dataset/Celeb-synthesis/id4_id1_0009.mp4\n"
          ]
        },
        {
          "name": "stderr",
          "output_type": "stream",
          "text": [
            "\rProcessing videos in dataset/Celeb-synthesis:  59%|█████▉    | 585/994 [02:44<02:44,  2.48it/s]"
          ]
        },
        {
          "name": "stdout",
          "output_type": "stream",
          "text": [
            "Extracted 20 frames from the first 10 seconds of dataset/Celeb-synthesis/id16_id0_0002.mp4\n"
          ]
        },
        {
          "name": "stderr",
          "output_type": "stream",
          "text": [
            "\rProcessing videos in dataset/Celeb-synthesis:  59%|█████▉    | 586/994 [02:45<02:49,  2.41it/s]"
          ]
        },
        {
          "name": "stdout",
          "output_type": "stream",
          "text": [
            "Extracted 20 frames from the first 10 seconds of dataset/Celeb-synthesis/id37_id2_0006.mp4\n"
          ]
        },
        {
          "name": "stderr",
          "output_type": "stream",
          "text": [
            "\rProcessing videos in dataset/Celeb-synthesis:  59%|█████▉    | 587/994 [02:45<02:57,  2.29it/s]"
          ]
        },
        {
          "name": "stdout",
          "output_type": "stream",
          "text": [
            "Extracted 20 frames from the first 10 seconds of dataset/Celeb-synthesis/id52_id49_0008.mp4\n"
          ]
        },
        {
          "name": "stderr",
          "output_type": "stream",
          "text": [
            "\rProcessing videos in dataset/Celeb-synthesis:  59%|█████▉    | 588/994 [02:45<02:32,  2.65it/s]"
          ]
        },
        {
          "name": "stdout",
          "output_type": "stream",
          "text": [
            "Extracted 20 frames from the first 10 seconds of dataset/Celeb-synthesis/id10_id11_0006.mp4\n"
          ]
        },
        {
          "name": "stderr",
          "output_type": "stream",
          "text": [
            "\rProcessing videos in dataset/Celeb-synthesis:  59%|█████▉    | 589/994 [02:46<02:38,  2.56it/s]"
          ]
        },
        {
          "name": "stdout",
          "output_type": "stream",
          "text": [
            "Extracted 20 frames from the first 10 seconds of dataset/Celeb-synthesis/id46_id47_0000.mp4\n"
          ]
        },
        {
          "name": "stderr",
          "output_type": "stream",
          "text": [
            "\rProcessing videos in dataset/Celeb-synthesis:  59%|█████▉    | 590/994 [02:46<02:22,  2.84it/s]"
          ]
        },
        {
          "name": "stdout",
          "output_type": "stream",
          "text": [
            "Extracted 20 frames from the first 10 seconds of dataset/Celeb-synthesis/id24_id23_0002.mp4\n"
          ]
        },
        {
          "name": "stderr",
          "output_type": "stream",
          "text": [
            "\rProcessing videos in dataset/Celeb-synthesis:  59%|█████▉    | 591/994 [02:46<02:30,  2.67it/s]"
          ]
        },
        {
          "name": "stdout",
          "output_type": "stream",
          "text": [
            "Extracted 20 frames from the first 10 seconds of dataset/Celeb-synthesis/id59_id60_0000.mp4\n"
          ]
        },
        {
          "name": "stderr",
          "output_type": "stream",
          "text": [
            "\rProcessing videos in dataset/Celeb-synthesis:  60%|█████▉    | 592/994 [02:47<02:19,  2.88it/s]"
          ]
        },
        {
          "name": "stdout",
          "output_type": "stream",
          "text": [
            "Extracted 20 frames from the first 10 seconds of dataset/Celeb-synthesis/id7_id11_0005.mp4\n"
          ]
        },
        {
          "name": "stderr",
          "output_type": "stream",
          "text": [
            "\rProcessing videos in dataset/Celeb-synthesis:  60%|█████▉    | 593/994 [02:47<02:19,  2.88it/s]"
          ]
        },
        {
          "name": "stdout",
          "output_type": "stream",
          "text": [
            "Extracted 20 frames from the first 10 seconds of dataset/Celeb-synthesis/id1_id26_0009.mp4\n"
          ]
        },
        {
          "name": "stderr",
          "output_type": "stream",
          "text": [
            "\rProcessing videos in dataset/Celeb-synthesis:  60%|█████▉    | 594/994 [02:47<02:21,  2.82it/s]"
          ]
        },
        {
          "name": "stdout",
          "output_type": "stream",
          "text": [
            "Extracted 20 frames from the first 10 seconds of dataset/Celeb-synthesis/id40_id41_0009.mp4\n"
          ]
        },
        {
          "name": "stderr",
          "output_type": "stream",
          "text": [
            "\rProcessing videos in dataset/Celeb-synthesis:  60%|█████▉    | 595/994 [02:48<02:22,  2.80it/s]"
          ]
        },
        {
          "name": "stdout",
          "output_type": "stream",
          "text": [
            "Extracted 20 frames from the first 10 seconds of dataset/Celeb-synthesis/id3_id20_0001.mp4\n"
          ]
        },
        {
          "name": "stderr",
          "output_type": "stream",
          "text": [
            "\rProcessing videos in dataset/Celeb-synthesis:  60%|█████▉    | 596/994 [02:48<02:06,  3.14it/s]"
          ]
        },
        {
          "name": "stdout",
          "output_type": "stream",
          "text": [
            "Extracted 20 frames from the first 10 seconds of dataset/Celeb-synthesis/id19_id23_0002.mp4\n"
          ]
        },
        {
          "name": "stderr",
          "output_type": "stream",
          "text": [
            "\rProcessing videos in dataset/Celeb-synthesis:  60%|██████    | 597/994 [02:48<02:21,  2.81it/s]"
          ]
        },
        {
          "name": "stdout",
          "output_type": "stream",
          "text": [
            "Extracted 20 frames from the first 10 seconds of dataset/Celeb-synthesis/id37_id3_0001.mp4\n"
          ]
        },
        {
          "name": "stderr",
          "output_type": "stream",
          "text": [
            "\rProcessing videos in dataset/Celeb-synthesis:  60%|██████    | 598/994 [02:49<02:38,  2.49it/s]"
          ]
        },
        {
          "name": "stdout",
          "output_type": "stream",
          "text": [
            "Extracted 20 frames from the first 10 seconds of dataset/Celeb-synthesis/id49_id50_0003.mp4\n"
          ]
        },
        {
          "name": "stderr",
          "output_type": "stream",
          "text": [
            "\rProcessing videos in dataset/Celeb-synthesis:  60%|██████    | 599/994 [02:49<02:20,  2.81it/s]"
          ]
        },
        {
          "name": "stdout",
          "output_type": "stream",
          "text": [
            "Extracted 20 frames from the first 10 seconds of dataset/Celeb-synthesis/id40_id41_0000.mp4\n"
          ]
        },
        {
          "name": "stderr",
          "output_type": "stream",
          "text": [
            "\rProcessing videos in dataset/Celeb-synthesis:  60%|██████    | 600/994 [02:49<02:10,  3.03it/s]"
          ]
        },
        {
          "name": "stdout",
          "output_type": "stream",
          "text": [
            "Extracted 20 frames from the first 10 seconds of dataset/Celeb-synthesis/id47_id40_0005.mp4\n"
          ]
        },
        {
          "name": "stderr",
          "output_type": "stream",
          "text": [
            "\rProcessing videos in dataset/Celeb-synthesis:  60%|██████    | 601/994 [02:50<02:07,  3.07it/s]"
          ]
        },
        {
          "name": "stdout",
          "output_type": "stream",
          "text": [
            "Extracted 20 frames from the first 10 seconds of dataset/Celeb-synthesis/id10_id11_0002.mp4\n"
          ]
        },
        {
          "name": "stderr",
          "output_type": "stream",
          "text": [
            "\rProcessing videos in dataset/Celeb-synthesis:  61%|██████    | 602/994 [02:50<01:59,  3.29it/s]"
          ]
        },
        {
          "name": "stdout",
          "output_type": "stream",
          "text": [
            "Extracted 20 frames from the first 10 seconds of dataset/Celeb-synthesis/id33_id26_0003.mp4\n"
          ]
        },
        {
          "name": "stderr",
          "output_type": "stream",
          "text": [
            "\rProcessing videos in dataset/Celeb-synthesis:  61%|██████    | 603/994 [02:50<01:56,  3.35it/s]"
          ]
        },
        {
          "name": "stdout",
          "output_type": "stream",
          "text": [
            "Extracted 20 frames from the first 10 seconds of dataset/Celeb-synthesis/id35_id3_0009.mp4\n"
          ]
        },
        {
          "name": "stderr",
          "output_type": "stream",
          "text": [
            "\rProcessing videos in dataset/Celeb-synthesis:  61%|██████    | 604/994 [02:51<01:54,  3.39it/s]"
          ]
        },
        {
          "name": "stdout",
          "output_type": "stream",
          "text": [
            "Extracted 20 frames from the first 10 seconds of dataset/Celeb-synthesis/id49_id51_0009.mp4\n"
          ]
        },
        {
          "name": "stderr",
          "output_type": "stream",
          "text": [
            "\rProcessing videos in dataset/Celeb-synthesis:  61%|██████    | 605/994 [02:51<01:53,  3.44it/s]"
          ]
        },
        {
          "name": "stdout",
          "output_type": "stream",
          "text": [
            "Extracted 20 frames from the first 10 seconds of dataset/Celeb-synthesis/id16_id0_0005.mp4\n"
          ]
        },
        {
          "name": "stderr",
          "output_type": "stream",
          "text": [
            "\rProcessing videos in dataset/Celeb-synthesis:  61%|██████    | 606/994 [02:51<01:47,  3.61it/s]"
          ]
        },
        {
          "name": "stdout",
          "output_type": "stream",
          "text": [
            "Extracted 20 frames from the first 10 seconds of dataset/Celeb-synthesis/id23_id1_0000.mp4\n"
          ]
        },
        {
          "name": "stderr",
          "output_type": "stream",
          "text": [
            "\rProcessing videos in dataset/Celeb-synthesis:  61%|██████    | 607/994 [02:51<01:49,  3.54it/s]"
          ]
        },
        {
          "name": "stdout",
          "output_type": "stream",
          "text": [
            "Extracted 20 frames from the first 10 seconds of dataset/Celeb-synthesis/id5_id60_0008.mp4\n"
          ]
        },
        {
          "name": "stderr",
          "output_type": "stream",
          "text": [
            "\rProcessing videos in dataset/Celeb-synthesis:  61%|██████    | 608/994 [02:52<01:44,  3.71it/s]"
          ]
        },
        {
          "name": "stdout",
          "output_type": "stream",
          "text": [
            "Extracted 20 frames from the first 10 seconds of dataset/Celeb-synthesis/id20_id4_0009.mp4\n"
          ]
        },
        {
          "name": "stderr",
          "output_type": "stream",
          "text": [
            "Processing videos in dataset/Celeb-synthesis:  61%|██████▏   | 610/994 [02:52<01:28,  4.32it/s]"
          ]
        },
        {
          "name": "stdout",
          "output_type": "stream",
          "text": [
            "Extracted 20 frames from the first 10 seconds of dataset/Celeb-synthesis/id49_id50_0000.mp4\n",
            "Extracted 20 frames from the first 10 seconds of dataset/Celeb-synthesis/id27_id23_0008.mp4\n"
          ]
        },
        {
          "name": "stderr",
          "output_type": "stream",
          "text": [
            "\rProcessing videos in dataset/Celeb-synthesis:  61%|██████▏   | 611/994 [02:52<01:35,  4.02it/s]"
          ]
        },
        {
          "name": "stdout",
          "output_type": "stream",
          "text": [
            "Extracted 20 frames from the first 10 seconds of dataset/Celeb-synthesis/id12_id7_0000.mp4\n"
          ]
        },
        {
          "name": "stderr",
          "output_type": "stream",
          "text": [
            "\rProcessing videos in dataset/Celeb-synthesis:  62%|██████▏   | 612/994 [02:53<01:41,  3.75it/s]"
          ]
        },
        {
          "name": "stdout",
          "output_type": "stream",
          "text": [
            "Extracted 20 frames from the first 10 seconds of dataset/Celeb-synthesis/id6_id4_0001.mp4\n"
          ]
        },
        {
          "name": "stderr",
          "output_type": "stream",
          "text": [
            "\rProcessing videos in dataset/Celeb-synthesis:  62%|██████▏   | 613/994 [02:53<01:38,  3.87it/s]"
          ]
        },
        {
          "name": "stdout",
          "output_type": "stream",
          "text": [
            "Extracted 20 frames from the first 10 seconds of dataset/Celeb-synthesis/id46_id41_0004.mp4\n"
          ]
        },
        {
          "name": "stderr",
          "output_type": "stream",
          "text": [
            "\rProcessing videos in dataset/Celeb-synthesis:  62%|██████▏   | 614/994 [02:53<01:37,  3.88it/s]"
          ]
        },
        {
          "name": "stdout",
          "output_type": "stream",
          "text": [
            "Extracted 20 frames from the first 10 seconds of dataset/Celeb-synthesis/id33_id26_0006.mp4\n"
          ]
        },
        {
          "name": "stderr",
          "output_type": "stream",
          "text": [
            "\rProcessing videos in dataset/Celeb-synthesis:  62%|██████▏   | 615/994 [02:53<01:38,  3.86it/s]"
          ]
        },
        {
          "name": "stdout",
          "output_type": "stream",
          "text": [
            "Extracted 20 frames from the first 10 seconds of dataset/Celeb-synthesis/id48_id45_0003.mp4\n"
          ]
        },
        {
          "name": "stderr",
          "output_type": "stream",
          "text": [
            "\rProcessing videos in dataset/Celeb-synthesis:  62%|██████▏   | 616/994 [02:54<01:39,  3.82it/s]"
          ]
        },
        {
          "name": "stdout",
          "output_type": "stream",
          "text": [
            "Extracted 20 frames from the first 10 seconds of dataset/Celeb-synthesis/id45_id40_0005.mp4\n"
          ]
        },
        {
          "name": "stderr",
          "output_type": "stream",
          "text": [
            "\rProcessing videos in dataset/Celeb-synthesis:  62%|██████▏   | 617/994 [02:54<01:36,  3.92it/s]"
          ]
        },
        {
          "name": "stdout",
          "output_type": "stream",
          "text": [
            "Extracted 20 frames from the first 10 seconds of dataset/Celeb-synthesis/id17_id0_0002.mp4\n"
          ]
        },
        {
          "name": "stderr",
          "output_type": "stream",
          "text": [
            "\rProcessing videos in dataset/Celeb-synthesis:  62%|██████▏   | 618/994 [02:54<01:36,  3.91it/s]"
          ]
        },
        {
          "name": "stdout",
          "output_type": "stream",
          "text": [
            "Extracted 20 frames from the first 10 seconds of dataset/Celeb-synthesis/id52_id49_0003.mp4\n"
          ]
        },
        {
          "name": "stderr",
          "output_type": "stream",
          "text": [
            "\rProcessing videos in dataset/Celeb-synthesis:  62%|██████▏   | 619/994 [02:54<01:34,  3.97it/s]"
          ]
        },
        {
          "name": "stdout",
          "output_type": "stream",
          "text": [
            "Extracted 20 frames from the first 10 seconds of dataset/Celeb-synthesis/id53_id50_0009.mp4\n"
          ]
        },
        {
          "name": "stderr",
          "output_type": "stream",
          "text": [
            "\rProcessing videos in dataset/Celeb-synthesis:  62%|██████▏   | 620/994 [02:55<01:38,  3.79it/s]"
          ]
        },
        {
          "name": "stdout",
          "output_type": "stream",
          "text": [
            "Extracted 20 frames from the first 10 seconds of dataset/Celeb-synthesis/id5_id59_0007.mp4\n"
          ]
        },
        {
          "name": "stderr",
          "output_type": "stream",
          "text": [
            "\rProcessing videos in dataset/Celeb-synthesis:  62%|██████▏   | 621/994 [02:55<01:38,  3.79it/s]"
          ]
        },
        {
          "name": "stdout",
          "output_type": "stream",
          "text": [
            "Extracted 20 frames from the first 10 seconds of dataset/Celeb-synthesis/id28_id4_0003.mp4\n"
          ]
        },
        {
          "name": "stderr",
          "output_type": "stream",
          "text": [
            "\rProcessing videos in dataset/Celeb-synthesis:  63%|██████▎   | 622/994 [02:55<01:40,  3.71it/s]"
          ]
        },
        {
          "name": "stdout",
          "output_type": "stream",
          "text": [
            "Extracted 20 frames from the first 10 seconds of dataset/Celeb-synthesis/id33_id31_0006.mp4\n"
          ]
        },
        {
          "name": "stderr",
          "output_type": "stream",
          "text": [
            "\rProcessing videos in dataset/Celeb-synthesis:  63%|██████▎   | 623/994 [02:56<01:43,  3.60it/s]"
          ]
        },
        {
          "name": "stdout",
          "output_type": "stream",
          "text": [
            "Extracted 20 frames from the first 10 seconds of dataset/Celeb-synthesis/id28_id3_0008.mp4\n"
          ]
        },
        {
          "name": "stderr",
          "output_type": "stream",
          "text": [
            "\rProcessing videos in dataset/Celeb-synthesis:  63%|██████▎   | 624/994 [02:56<01:38,  3.76it/s]"
          ]
        },
        {
          "name": "stdout",
          "output_type": "stream",
          "text": [
            "Extracted 20 frames from the first 10 seconds of dataset/Celeb-synthesis/id3_id9_0007.mp4\n"
          ]
        },
        {
          "name": "stderr",
          "output_type": "stream",
          "text": [
            "\rProcessing videos in dataset/Celeb-synthesis:  63%|██████▎   | 625/994 [02:56<01:40,  3.69it/s]"
          ]
        },
        {
          "name": "stdout",
          "output_type": "stream",
          "text": [
            "Extracted 20 frames from the first 10 seconds of dataset/Celeb-synthesis/id39_id43_0001.mp4\n"
          ]
        },
        {
          "name": "stderr",
          "output_type": "stream",
          "text": [
            "\rProcessing videos in dataset/Celeb-synthesis:  63%|██████▎   | 626/994 [02:56<01:39,  3.68it/s]"
          ]
        },
        {
          "name": "stdout",
          "output_type": "stream",
          "text": [
            "Extracted 20 frames from the first 10 seconds of dataset/Celeb-synthesis/id30_id1_0004.mp4\n"
          ]
        },
        {
          "name": "stderr",
          "output_type": "stream",
          "text": [
            "\rProcessing videos in dataset/Celeb-synthesis:  63%|██████▎   | 627/994 [02:57<01:34,  3.88it/s]"
          ]
        },
        {
          "name": "stdout",
          "output_type": "stream",
          "text": [
            "Extracted 20 frames from the first 10 seconds of dataset/Celeb-synthesis/id44_id39_0000.mp4\n"
          ]
        },
        {
          "name": "stderr",
          "output_type": "stream",
          "text": [
            "\rProcessing videos in dataset/Celeb-synthesis:  63%|██████▎   | 628/994 [02:57<01:35,  3.83it/s]"
          ]
        },
        {
          "name": "stdout",
          "output_type": "stream",
          "text": [
            "Extracted 20 frames from the first 10 seconds of dataset/Celeb-synthesis/id39_id43_0003.mp4\n"
          ]
        },
        {
          "name": "stderr",
          "output_type": "stream",
          "text": [
            "\rProcessing videos in dataset/Celeb-synthesis:  63%|██████▎   | 629/994 [02:57<01:34,  3.87it/s]"
          ]
        },
        {
          "name": "stdout",
          "output_type": "stream",
          "text": [
            "Extracted 20 frames from the first 10 seconds of dataset/Celeb-synthesis/id55_id51_0006.mp4\n"
          ]
        },
        {
          "name": "stderr",
          "output_type": "stream",
          "text": [
            "\rProcessing videos in dataset/Celeb-synthesis:  63%|██████▎   | 630/994 [02:57<01:31,  3.96it/s]"
          ]
        },
        {
          "name": "stdout",
          "output_type": "stream",
          "text": [
            "Extracted 20 frames from the first 10 seconds of dataset/Celeb-synthesis/id23_id1_0009.mp4\n"
          ]
        },
        {
          "name": "stderr",
          "output_type": "stream",
          "text": [
            "\rProcessing videos in dataset/Celeb-synthesis:  63%|██████▎   | 631/994 [02:58<01:31,  3.96it/s]"
          ]
        },
        {
          "name": "stdout",
          "output_type": "stream",
          "text": [
            "Extracted 20 frames from the first 10 seconds of dataset/Celeb-synthesis/id43_id40_0002.mp4\n"
          ]
        },
        {
          "name": "stderr",
          "output_type": "stream",
          "text": [
            "\rProcessing videos in dataset/Celeb-synthesis:  64%|██████▎   | 632/994 [02:58<01:31,  3.94it/s]"
          ]
        },
        {
          "name": "stdout",
          "output_type": "stream",
          "text": [
            "Extracted 20 frames from the first 10 seconds of dataset/Celeb-synthesis/id40_id41_0005.mp4\n"
          ]
        },
        {
          "name": "stderr",
          "output_type": "stream",
          "text": [
            "\rProcessing videos in dataset/Celeb-synthesis:  64%|██████▎   | 633/994 [02:58<01:36,  3.75it/s]"
          ]
        },
        {
          "name": "stdout",
          "output_type": "stream",
          "text": [
            "Extracted 20 frames from the first 10 seconds of dataset/Celeb-synthesis/id34_id28_0005.mp4\n"
          ]
        },
        {
          "name": "stderr",
          "output_type": "stream",
          "text": [
            "\rProcessing videos in dataset/Celeb-synthesis:  64%|██████▍   | 634/994 [02:58<01:38,  3.66it/s]"
          ]
        },
        {
          "name": "stdout",
          "output_type": "stream",
          "text": [
            "Extracted 20 frames from the first 10 seconds of dataset/Celeb-synthesis/id4_id2_0008.mp4\n"
          ]
        },
        {
          "name": "stderr",
          "output_type": "stream",
          "text": [
            "\rProcessing videos in dataset/Celeb-synthesis:  64%|██████▍   | 635/994 [02:59<01:35,  3.74it/s]"
          ]
        },
        {
          "name": "stdout",
          "output_type": "stream",
          "text": [
            "Extracted 20 frames from the first 10 seconds of dataset/Celeb-synthesis/id35_id2_0002.mp4\n"
          ]
        },
        {
          "name": "stderr",
          "output_type": "stream",
          "text": [
            "\rProcessing videos in dataset/Celeb-synthesis:  64%|██████▍   | 636/994 [02:59<01:35,  3.77it/s]"
          ]
        },
        {
          "name": "stdout",
          "output_type": "stream",
          "text": [
            "Extracted 20 frames from the first 10 seconds of dataset/Celeb-synthesis/id28_id4_0006.mp4\n"
          ]
        },
        {
          "name": "stderr",
          "output_type": "stream",
          "text": [
            "\rProcessing videos in dataset/Celeb-synthesis:  64%|██████▍   | 637/994 [02:59<01:36,  3.70it/s]"
          ]
        },
        {
          "name": "stdout",
          "output_type": "stream",
          "text": [
            "Extracted 20 frames from the first 10 seconds of dataset/Celeb-synthesis/id60_id5_0009.mp4\n"
          ]
        },
        {
          "name": "stderr",
          "output_type": "stream",
          "text": [
            "\rProcessing videos in dataset/Celeb-synthesis:  64%|██████▍   | 638/994 [03:00<01:53,  3.15it/s]"
          ]
        },
        {
          "name": "stdout",
          "output_type": "stream",
          "text": [
            "Extracted 20 frames from the first 10 seconds of dataset/Celeb-synthesis/id5_id59_0000.mp4\n"
          ]
        },
        {
          "name": "stderr",
          "output_type": "stream",
          "text": [
            "\rProcessing videos in dataset/Celeb-synthesis:  64%|██████▍   | 639/994 [03:00<02:01,  2.93it/s]"
          ]
        },
        {
          "name": "stdout",
          "output_type": "stream",
          "text": [
            "Extracted 20 frames from the first 10 seconds of dataset/Celeb-synthesis/id51_id50_0004.mp4\n"
          ]
        },
        {
          "name": "stderr",
          "output_type": "stream",
          "text": [
            "\rProcessing videos in dataset/Celeb-synthesis:  64%|██████▍   | 640/994 [03:00<02:07,  2.77it/s]"
          ]
        },
        {
          "name": "stdout",
          "output_type": "stream",
          "text": [
            "Extracted 20 frames from the first 10 seconds of dataset/Celeb-synthesis/id42_id41_0000.mp4\n"
          ]
        },
        {
          "name": "stderr",
          "output_type": "stream",
          "text": [
            "\rProcessing videos in dataset/Celeb-synthesis:  64%|██████▍   | 641/994 [03:01<02:13,  2.64it/s]"
          ]
        },
        {
          "name": "stdout",
          "output_type": "stream",
          "text": [
            "Extracted 20 frames from the first 10 seconds of dataset/Celeb-synthesis/id37_id2_0004.mp4\n"
          ]
        },
        {
          "name": "stderr",
          "output_type": "stream",
          "text": [
            "\rProcessing videos in dataset/Celeb-synthesis:  65%|██████▍   | 642/994 [03:01<02:15,  2.60it/s]"
          ]
        },
        {
          "name": "stdout",
          "output_type": "stream",
          "text": [
            "Extracted 20 frames from the first 10 seconds of dataset/Celeb-synthesis/id2_id0_0006.mp4\n"
          ]
        },
        {
          "name": "stderr",
          "output_type": "stream",
          "text": [
            "\rProcessing videos in dataset/Celeb-synthesis:  65%|██████▍   | 643/994 [03:02<02:23,  2.45it/s]"
          ]
        },
        {
          "name": "stdout",
          "output_type": "stream",
          "text": [
            "Extracted 20 frames from the first 10 seconds of dataset/Celeb-synthesis/id60_id5_0001.mp4\n"
          ]
        },
        {
          "name": "stderr",
          "output_type": "stream",
          "text": [
            "\rProcessing videos in dataset/Celeb-synthesis:  65%|██████▍   | 644/994 [03:02<02:16,  2.56it/s]"
          ]
        },
        {
          "name": "stdout",
          "output_type": "stream",
          "text": [
            "Extracted 20 frames from the first 10 seconds of dataset/Celeb-synthesis/id23_id1_0006.mp4\n"
          ]
        },
        {
          "name": "stderr",
          "output_type": "stream",
          "text": [
            "\rProcessing videos in dataset/Celeb-synthesis:  65%|██████▍   | 645/994 [03:03<02:19,  2.51it/s]"
          ]
        },
        {
          "name": "stdout",
          "output_type": "stream",
          "text": [
            "Extracted 20 frames from the first 10 seconds of dataset/Celeb-synthesis/id46_id41_0007.mp4\n"
          ]
        },
        {
          "name": "stderr",
          "output_type": "stream",
          "text": [
            "\rProcessing videos in dataset/Celeb-synthesis:  65%|██████▍   | 646/994 [03:03<01:58,  2.93it/s]"
          ]
        },
        {
          "name": "stdout",
          "output_type": "stream",
          "text": [
            "Extracted 20 frames from the first 10 seconds of dataset/Celeb-synthesis/id10_id11_0001.mp4\n"
          ]
        },
        {
          "name": "stderr",
          "output_type": "stream",
          "text": [
            "\rProcessing videos in dataset/Celeb-synthesis:  65%|██████▌   | 647/994 [03:03<02:03,  2.82it/s]"
          ]
        },
        {
          "name": "stdout",
          "output_type": "stream",
          "text": [
            "Extracted 20 frames from the first 10 seconds of dataset/Celeb-synthesis/id0_id6_0007.mp4\n"
          ]
        },
        {
          "name": "stderr",
          "output_type": "stream",
          "text": [
            "\rProcessing videos in dataset/Celeb-synthesis:  65%|██████▌   | 648/994 [03:03<01:54,  3.02it/s]"
          ]
        },
        {
          "name": "stdout",
          "output_type": "stream",
          "text": [
            "Extracted 20 frames from the first 10 seconds of dataset/Celeb-synthesis/id42_id40_0000.mp4\n"
          ]
        },
        {
          "name": "stderr",
          "output_type": "stream",
          "text": [
            "\rProcessing videos in dataset/Celeb-synthesis:  65%|██████▌   | 649/994 [03:04<01:47,  3.21it/s]"
          ]
        },
        {
          "name": "stdout",
          "output_type": "stream",
          "text": [
            "Extracted 20 frames from the first 10 seconds of dataset/Celeb-synthesis/id50_id49_0006.mp4\n"
          ]
        },
        {
          "name": "stderr",
          "output_type": "stream",
          "text": [
            "\rProcessing videos in dataset/Celeb-synthesis:  65%|██████▌   | 650/994 [03:04<01:41,  3.40it/s]"
          ]
        },
        {
          "name": "stdout",
          "output_type": "stream",
          "text": [
            "Extracted 20 frames from the first 10 seconds of dataset/Celeb-synthesis/id44_id39_0002.mp4\n"
          ]
        },
        {
          "name": "stderr",
          "output_type": "stream",
          "text": [
            "\rProcessing videos in dataset/Celeb-synthesis:  65%|██████▌   | 651/994 [03:04<01:32,  3.71it/s]"
          ]
        },
        {
          "name": "stdout",
          "output_type": "stream",
          "text": [
            "Extracted 20 frames from the first 10 seconds of dataset/Celeb-synthesis/id19_id24_0007.mp4\n"
          ]
        },
        {
          "name": "stderr",
          "output_type": "stream",
          "text": [
            "\rProcessing videos in dataset/Celeb-synthesis:  66%|██████▌   | 652/994 [03:04<01:31,  3.75it/s]"
          ]
        },
        {
          "name": "stdout",
          "output_type": "stream",
          "text": [
            "Extracted 20 frames from the first 10 seconds of dataset/Celeb-synthesis/id20_id4_0006.mp4\n"
          ]
        },
        {
          "name": "stderr",
          "output_type": "stream",
          "text": [
            "\rProcessing videos in dataset/Celeb-synthesis:  66%|██████▌   | 653/994 [03:05<01:30,  3.76it/s]"
          ]
        },
        {
          "name": "stdout",
          "output_type": "stream",
          "text": [
            "Extracted 20 frames from the first 10 seconds of dataset/Celeb-synthesis/id61_id59_0009.mp4\n"
          ]
        },
        {
          "name": "stderr",
          "output_type": "stream",
          "text": [
            "\rProcessing videos in dataset/Celeb-synthesis:  66%|██████▌   | 654/994 [03:05<01:34,  3.59it/s]"
          ]
        },
        {
          "name": "stdout",
          "output_type": "stream",
          "text": [
            "Extracted 20 frames from the first 10 seconds of dataset/Celeb-synthesis/id16_id0_0009.mp4\n"
          ]
        },
        {
          "name": "stderr",
          "output_type": "stream",
          "text": [
            "\rProcessing videos in dataset/Celeb-synthesis:  66%|██████▌   | 655/994 [03:05<01:37,  3.47it/s]"
          ]
        },
        {
          "name": "stdout",
          "output_type": "stream",
          "text": [
            "Extracted 20 frames from the first 10 seconds of dataset/Celeb-synthesis/id52_id50_0009.mp4\n"
          ]
        },
        {
          "name": "stderr",
          "output_type": "stream",
          "text": [
            "\rProcessing videos in dataset/Celeb-synthesis:  66%|██████▌   | 656/994 [03:06<01:36,  3.51it/s]"
          ]
        },
        {
          "name": "stdout",
          "output_type": "stream",
          "text": [
            "Extracted 20 frames from the first 10 seconds of dataset/Celeb-synthesis/id34_id28_0003.mp4\n"
          ]
        },
        {
          "name": "stderr",
          "output_type": "stream",
          "text": [
            "\rProcessing videos in dataset/Celeb-synthesis:  66%|██████▌   | 657/994 [03:06<01:32,  3.64it/s]"
          ]
        },
        {
          "name": "stdout",
          "output_type": "stream",
          "text": [
            "Extracted 20 frames from the first 10 seconds of dataset/Celeb-synthesis/id28_id3_0006.mp4\n"
          ]
        },
        {
          "name": "stderr",
          "output_type": "stream",
          "text": [
            "\rProcessing videos in dataset/Celeb-synthesis:  66%|██████▌   | 658/994 [03:06<01:32,  3.64it/s]"
          ]
        },
        {
          "name": "stdout",
          "output_type": "stream",
          "text": [
            "Extracted 20 frames from the first 10 seconds of dataset/Celeb-synthesis/id34_id20_0002.mp4\n"
          ]
        },
        {
          "name": "stderr",
          "output_type": "stream",
          "text": [
            "Processing videos in dataset/Celeb-synthesis:  66%|██████▋   | 660/994 [03:07<01:24,  3.96it/s]"
          ]
        },
        {
          "name": "stdout",
          "output_type": "stream",
          "text": [
            "Extracted 20 frames from the first 10 seconds of dataset/Celeb-synthesis/id60_id59_0009.mp4\n",
            "Extracted 20 frames from the first 10 seconds of dataset/Celeb-synthesis/id26_id19_0003.mp4\n"
          ]
        },
        {
          "name": "stderr",
          "output_type": "stream",
          "text": [
            "Processing videos in dataset/Celeb-synthesis:  67%|██████▋   | 662/994 [03:07<01:19,  4.19it/s]"
          ]
        },
        {
          "name": "stdout",
          "output_type": "stream",
          "text": [
            "Extracted 20 frames from the first 10 seconds of dataset/Celeb-synthesis/id26_id17_0000.mp4\n",
            "Extracted 20 frames from the first 10 seconds of dataset/Celeb-synthesis/id35_id2_0006.mp4\n"
          ]
        },
        {
          "name": "stderr",
          "output_type": "stream",
          "text": [
            "\rProcessing videos in dataset/Celeb-synthesis:  67%|██████▋   | 663/994 [03:07<01:29,  3.71it/s]"
          ]
        },
        {
          "name": "stdout",
          "output_type": "stream",
          "text": [
            "Extracted 20 frames from the first 10 seconds of dataset/Celeb-synthesis/id5_id60_0004.mp4\n"
          ]
        },
        {
          "name": "stderr",
          "output_type": "stream",
          "text": [
            "\rProcessing videos in dataset/Celeb-synthesis:  67%|██████▋   | 664/994 [03:08<01:29,  3.70it/s]"
          ]
        },
        {
          "name": "stdout",
          "output_type": "stream",
          "text": [
            "Extracted 20 frames from the first 10 seconds of dataset/Celeb-synthesis/id40_id39_0003.mp4\n"
          ]
        },
        {
          "name": "stderr",
          "output_type": "stream",
          "text": [
            "\rProcessing videos in dataset/Celeb-synthesis:  67%|██████▋   | 665/994 [03:08<01:22,  3.97it/s]"
          ]
        },
        {
          "name": "stdout",
          "output_type": "stream",
          "text": [
            "Extracted 20 frames from the first 10 seconds of dataset/Celeb-synthesis/id19_id24_0000.mp4\n"
          ]
        },
        {
          "name": "stderr",
          "output_type": "stream",
          "text": [
            "\rProcessing videos in dataset/Celeb-synthesis:  67%|██████▋   | 666/994 [03:08<01:24,  3.88it/s]"
          ]
        },
        {
          "name": "stdout",
          "output_type": "stream",
          "text": [
            "Extracted 20 frames from the first 10 seconds of dataset/Celeb-synthesis/id41_id46_0002.mp4\n"
          ]
        },
        {
          "name": "stderr",
          "output_type": "stream",
          "text": [
            "\rProcessing videos in dataset/Celeb-synthesis:  67%|██████▋   | 667/994 [03:08<01:31,  3.59it/s]"
          ]
        },
        {
          "name": "stdout",
          "output_type": "stream",
          "text": [
            "Extracted 20 frames from the first 10 seconds of dataset/Celeb-synthesis/id4_id2_0004.mp4\n"
          ]
        },
        {
          "name": "stderr",
          "output_type": "stream",
          "text": [
            "\rProcessing videos in dataset/Celeb-synthesis:  67%|██████▋   | 668/994 [03:09<01:26,  3.77it/s]"
          ]
        },
        {
          "name": "stdout",
          "output_type": "stream",
          "text": [
            "Extracted 20 frames from the first 10 seconds of dataset/Celeb-synthesis/id25_id21_0003.mp4\n"
          ]
        },
        {
          "name": "stderr",
          "output_type": "stream",
          "text": [
            "Processing videos in dataset/Celeb-synthesis:  67%|██████▋   | 670/994 [03:09<01:18,  4.14it/s]"
          ]
        },
        {
          "name": "stdout",
          "output_type": "stream",
          "text": [
            "Extracted 20 frames from the first 10 seconds of dataset/Celeb-synthesis/id51_id49_0008.mp4\n",
            "Extracted 20 frames from the first 10 seconds of dataset/Celeb-synthesis/id10_id7_0008.mp4\n"
          ]
        },
        {
          "name": "stderr",
          "output_type": "stream",
          "text": [
            "\rProcessing videos in dataset/Celeb-synthesis:  68%|██████▊   | 671/994 [03:09<01:18,  4.10it/s]"
          ]
        },
        {
          "name": "stdout",
          "output_type": "stream",
          "text": [
            "Extracted 20 frames from the first 10 seconds of dataset/Celeb-synthesis/id2_id0_0007.mp4\n"
          ]
        },
        {
          "name": "stderr",
          "output_type": "stream",
          "text": [
            "\rProcessing videos in dataset/Celeb-synthesis:  68%|██████▊   | 672/994 [03:10<01:20,  3.99it/s]"
          ]
        },
        {
          "name": "stdout",
          "output_type": "stream",
          "text": [
            "Extracted 20 frames from the first 10 seconds of dataset/Celeb-synthesis/id52_id50_0007.mp4\n"
          ]
        },
        {
          "name": "stderr",
          "output_type": "stream",
          "text": [
            "\rProcessing videos in dataset/Celeb-synthesis:  68%|██████▊   | 673/994 [03:10<01:17,  4.16it/s]"
          ]
        },
        {
          "name": "stdout",
          "output_type": "stream",
          "text": [
            "Extracted 20 frames from the first 10 seconds of dataset/Celeb-synthesis/id27_id22_0001.mp4\n"
          ]
        },
        {
          "name": "stderr",
          "output_type": "stream",
          "text": [
            "\rProcessing videos in dataset/Celeb-synthesis:  68%|██████▊   | 674/994 [03:10<01:19,  4.05it/s]"
          ]
        },
        {
          "name": "stdout",
          "output_type": "stream",
          "text": [
            "Extracted 20 frames from the first 10 seconds of dataset/Celeb-synthesis/id41_id45_0004.mp4\n"
          ]
        },
        {
          "name": "stderr",
          "output_type": "stream",
          "text": [
            "\rProcessing videos in dataset/Celeb-synthesis:  68%|██████▊   | 675/994 [03:10<01:15,  4.24it/s]"
          ]
        },
        {
          "name": "stdout",
          "output_type": "stream",
          "text": [
            "Extracted 20 frames from the first 10 seconds of dataset/Celeb-synthesis/id21_id9_0000.mp4\n"
          ]
        },
        {
          "name": "stderr",
          "output_type": "stream",
          "text": [
            "\rProcessing videos in dataset/Celeb-synthesis:  68%|██████▊   | 676/994 [03:11<01:18,  4.03it/s]"
          ]
        },
        {
          "name": "stdout",
          "output_type": "stream",
          "text": [
            "Extracted 20 frames from the first 10 seconds of dataset/Celeb-synthesis/id33_id26_0001.mp4\n"
          ]
        },
        {
          "name": "stderr",
          "output_type": "stream",
          "text": [
            "\rProcessing videos in dataset/Celeb-synthesis:  68%|██████▊   | 677/994 [03:11<01:23,  3.81it/s]"
          ]
        },
        {
          "name": "stdout",
          "output_type": "stream",
          "text": [
            "Extracted 20 frames from the first 10 seconds of dataset/Celeb-synthesis/id9_id17_0007.mp4\n"
          ]
        },
        {
          "name": "stderr",
          "output_type": "stream",
          "text": [
            "\rProcessing videos in dataset/Celeb-synthesis:  68%|██████▊   | 678/994 [03:11<01:23,  3.77it/s]"
          ]
        },
        {
          "name": "stdout",
          "output_type": "stream",
          "text": [
            "Extracted 20 frames from the first 10 seconds of dataset/Celeb-synthesis/id29_id28_0003.mp4\n"
          ]
        },
        {
          "name": "stderr",
          "output_type": "stream",
          "text": [
            "\rProcessing videos in dataset/Celeb-synthesis:  68%|██████▊   | 679/994 [03:12<01:30,  3.49it/s]"
          ]
        },
        {
          "name": "stdout",
          "output_type": "stream",
          "text": [
            "Extracted 20 frames from the first 10 seconds of dataset/Celeb-synthesis/id5_id60_0001.mp4\n"
          ]
        },
        {
          "name": "stderr",
          "output_type": "stream",
          "text": [
            "Processing videos in dataset/Celeb-synthesis:  69%|██████▊   | 681/994 [03:12<01:15,  4.17it/s]"
          ]
        },
        {
          "name": "stdout",
          "output_type": "stream",
          "text": [
            "Extracted 20 frames from the first 10 seconds of dataset/Celeb-synthesis/id56_id50_0009.mp4\n",
            "Extracted 20 frames from the first 10 seconds of dataset/Celeb-synthesis/id17_id0_0003.mp4\n"
          ]
        },
        {
          "name": "stderr",
          "output_type": "stream",
          "text": [
            "\rProcessing videos in dataset/Celeb-synthesis:  69%|██████▊   | 682/994 [03:12<01:18,  3.99it/s]"
          ]
        },
        {
          "name": "stdout",
          "output_type": "stream",
          "text": [
            "Extracted 20 frames from the first 10 seconds of dataset/Celeb-synthesis/id9_id17_0003.mp4\n"
          ]
        },
        {
          "name": "stderr",
          "output_type": "stream",
          "text": [
            "Processing videos in dataset/Celeb-synthesis:  69%|██████▉   | 684/994 [03:13<01:17,  4.01it/s]"
          ]
        },
        {
          "name": "stdout",
          "output_type": "stream",
          "text": [
            "Extracted 20 frames from the first 10 seconds of dataset/Celeb-synthesis/id4_id1_0004.mp4\n",
            "Extracted 20 frames from the first 10 seconds of dataset/Celeb-synthesis/id3_id9_0001.mp4\n"
          ]
        },
        {
          "name": "stderr",
          "output_type": "stream",
          "text": [
            "\rProcessing videos in dataset/Celeb-synthesis:  69%|██████▉   | 685/994 [03:13<01:18,  3.92it/s]"
          ]
        },
        {
          "name": "stdout",
          "output_type": "stream",
          "text": [
            "Extracted 20 frames from the first 10 seconds of dataset/Celeb-synthesis/id46_id47_0005.mp4\n"
          ]
        },
        {
          "name": "stderr",
          "output_type": "stream",
          "text": [
            "\rProcessing videos in dataset/Celeb-synthesis:  69%|██████▉   | 686/994 [03:13<01:19,  3.88it/s]"
          ]
        },
        {
          "name": "stdout",
          "output_type": "stream",
          "text": [
            "Extracted 20 frames from the first 10 seconds of dataset/Celeb-synthesis/id17_id0_0004.mp4\n"
          ]
        },
        {
          "name": "stderr",
          "output_type": "stream",
          "text": [
            "\rProcessing videos in dataset/Celeb-synthesis:  69%|██████▉   | 687/994 [03:14<01:30,  3.39it/s]"
          ]
        },
        {
          "name": "stdout",
          "output_type": "stream",
          "text": [
            "Extracted 20 frames from the first 10 seconds of dataset/Celeb-synthesis/id38_id28_0001.mp4\n"
          ]
        },
        {
          "name": "stderr",
          "output_type": "stream",
          "text": [
            "\rProcessing videos in dataset/Celeb-synthesis:  69%|██████▉   | 688/994 [03:14<01:34,  3.23it/s]"
          ]
        },
        {
          "name": "stdout",
          "output_type": "stream",
          "text": [
            "Extracted 20 frames from the first 10 seconds of dataset/Celeb-synthesis/id60_id5_0008.mp4\n"
          ]
        },
        {
          "name": "stderr",
          "output_type": "stream",
          "text": [
            "\rProcessing videos in dataset/Celeb-synthesis:  69%|██████▉   | 689/994 [03:14<01:39,  3.06it/s]"
          ]
        },
        {
          "name": "stdout",
          "output_type": "stream",
          "text": [
            "Extracted 20 frames from the first 10 seconds of dataset/Celeb-synthesis/id46_id47_0001.mp4\n"
          ]
        },
        {
          "name": "stderr",
          "output_type": "stream",
          "text": [
            "\rProcessing videos in dataset/Celeb-synthesis:  69%|██████▉   | 690/994 [03:15<01:51,  2.73it/s]"
          ]
        },
        {
          "name": "stdout",
          "output_type": "stream",
          "text": [
            "Extracted 20 frames from the first 10 seconds of dataset/Celeb-synthesis/id7_id11_0000.mp4\n"
          ]
        },
        {
          "name": "stderr",
          "output_type": "stream",
          "text": [
            "\rProcessing videos in dataset/Celeb-synthesis:  70%|██████▉   | 691/994 [03:15<02:00,  2.52it/s]"
          ]
        },
        {
          "name": "stdout",
          "output_type": "stream",
          "text": [
            "Extracted 20 frames from the first 10 seconds of dataset/Celeb-synthesis/id31_id1_0004.mp4\n"
          ]
        },
        {
          "name": "stderr",
          "output_type": "stream",
          "text": [
            "\rProcessing videos in dataset/Celeb-synthesis:  70%|██████▉   | 692/994 [03:16<01:52,  2.70it/s]"
          ]
        },
        {
          "name": "stdout",
          "output_type": "stream",
          "text": [
            "Extracted 20 frames from the first 10 seconds of dataset/Celeb-synthesis/id19_id24_0008.mp4\n"
          ]
        },
        {
          "name": "stderr",
          "output_type": "stream",
          "text": [
            "\rProcessing videos in dataset/Celeb-synthesis:  70%|██████▉   | 693/994 [03:16<01:56,  2.58it/s]"
          ]
        },
        {
          "name": "stdout",
          "output_type": "stream",
          "text": [
            "Extracted 20 frames from the first 10 seconds of dataset/Celeb-synthesis/id53_id49_0008.mp4\n"
          ]
        },
        {
          "name": "stderr",
          "output_type": "stream",
          "text": [
            "\rProcessing videos in dataset/Celeb-synthesis:  70%|██████▉   | 694/994 [03:16<01:57,  2.55it/s]"
          ]
        },
        {
          "name": "stdout",
          "output_type": "stream",
          "text": [
            "Extracted 20 frames from the first 10 seconds of dataset/Celeb-synthesis/id25_id22_0010.mp4\n"
          ]
        },
        {
          "name": "stderr",
          "output_type": "stream",
          "text": [
            "\rProcessing videos in dataset/Celeb-synthesis:  70%|██████▉   | 695/994 [03:17<01:51,  2.69it/s]"
          ]
        },
        {
          "name": "stdout",
          "output_type": "stream",
          "text": [
            "Extracted 20 frames from the first 10 seconds of dataset/Celeb-synthesis/id52_id49_0006.mp4\n"
          ]
        },
        {
          "name": "stderr",
          "output_type": "stream",
          "text": [
            "\rProcessing videos in dataset/Celeb-synthesis:  70%|███████   | 696/994 [03:17<01:38,  3.04it/s]"
          ]
        },
        {
          "name": "stdout",
          "output_type": "stream",
          "text": [
            "Extracted 20 frames from the first 10 seconds of dataset/Celeb-synthesis/id17_id0_0000.mp4\n"
          ]
        },
        {
          "name": "stderr",
          "output_type": "stream",
          "text": [
            "\rProcessing videos in dataset/Celeb-synthesis:  70%|███████   | 697/994 [03:17<01:36,  3.08it/s]"
          ]
        },
        {
          "name": "stdout",
          "output_type": "stream",
          "text": [
            "Extracted 20 frames from the first 10 seconds of dataset/Celeb-synthesis/id10_id7_0005.mp4\n"
          ]
        },
        {
          "name": "stderr",
          "output_type": "stream",
          "text": [
            "\rProcessing videos in dataset/Celeb-synthesis:  70%|███████   | 698/994 [03:18<01:34,  3.14it/s]"
          ]
        },
        {
          "name": "stdout",
          "output_type": "stream",
          "text": [
            "Extracted 20 frames from the first 10 seconds of dataset/Celeb-synthesis/id22_id19_0009.mp4\n"
          ]
        },
        {
          "name": "stderr",
          "output_type": "stream",
          "text": [
            "\rProcessing videos in dataset/Celeb-synthesis:  70%|███████   | 699/994 [03:18<01:30,  3.25it/s]"
          ]
        },
        {
          "name": "stdout",
          "output_type": "stream",
          "text": [
            "Extracted 20 frames from the first 10 seconds of dataset/Celeb-synthesis/id25_id19_0010.mp4\n"
          ]
        },
        {
          "name": "stderr",
          "output_type": "stream",
          "text": [
            "Processing videos in dataset/Celeb-synthesis:  71%|███████   | 701/994 [03:18<01:16,  3.81it/s]"
          ]
        },
        {
          "name": "stdout",
          "output_type": "stream",
          "text": [
            "Extracted 20 frames from the first 10 seconds of dataset/Celeb-synthesis/id51_id49_0000.mp4\n",
            "Extracted 20 frames from the first 10 seconds of dataset/Celeb-synthesis/id47_id40_0003.mp4\n"
          ]
        },
        {
          "name": "stderr",
          "output_type": "stream",
          "text": [
            "\rProcessing videos in dataset/Celeb-synthesis:  71%|███████   | 702/994 [03:19<01:18,  3.71it/s]"
          ]
        },
        {
          "name": "stdout",
          "output_type": "stream",
          "text": [
            "Extracted 20 frames from the first 10 seconds of dataset/Celeb-synthesis/id35_id1_0009.mp4\n"
          ]
        },
        {
          "name": "stderr",
          "output_type": "stream",
          "text": [
            "\rProcessing videos in dataset/Celeb-synthesis:  71%|███████   | 703/994 [03:19<01:22,  3.54it/s]"
          ]
        },
        {
          "name": "stdout",
          "output_type": "stream",
          "text": [
            "Extracted 20 frames from the first 10 seconds of dataset/Celeb-synthesis/id60_id59_0006.mp4\n"
          ]
        },
        {
          "name": "stderr",
          "output_type": "stream",
          "text": [
            "\rProcessing videos in dataset/Celeb-synthesis:  71%|███████   | 704/994 [03:19<01:23,  3.49it/s]"
          ]
        },
        {
          "name": "stdout",
          "output_type": "stream",
          "text": [
            "Extracted 20 frames from the first 10 seconds of dataset/Celeb-synthesis/id10_id11_0004.mp4\n"
          ]
        },
        {
          "name": "stderr",
          "output_type": "stream",
          "text": [
            "\rProcessing videos in dataset/Celeb-synthesis:  71%|███████   | 705/994 [03:19<01:20,  3.60it/s]"
          ]
        },
        {
          "name": "stdout",
          "output_type": "stream",
          "text": [
            "Extracted 20 frames from the first 10 seconds of dataset/Celeb-synthesis/id48_id47_0005.mp4\n"
          ]
        },
        {
          "name": "stderr",
          "output_type": "stream",
          "text": [
            "\rProcessing videos in dataset/Celeb-synthesis:  71%|███████   | 706/994 [03:20<01:15,  3.81it/s]"
          ]
        },
        {
          "name": "stdout",
          "output_type": "stream",
          "text": [
            "Extracted 20 frames from the first 10 seconds of dataset/Celeb-synthesis/id2_id16_0002.mp4\n"
          ]
        },
        {
          "name": "stderr",
          "output_type": "stream",
          "text": [
            "\rProcessing videos in dataset/Celeb-synthesis:  71%|███████   | 707/994 [03:20<01:16,  3.73it/s]"
          ]
        },
        {
          "name": "stdout",
          "output_type": "stream",
          "text": [
            "Extracted 20 frames from the first 10 seconds of dataset/Celeb-synthesis/id56_id49_0002.mp4\n"
          ]
        },
        {
          "name": "stderr",
          "output_type": "stream",
          "text": [
            "\rProcessing videos in dataset/Celeb-synthesis:  71%|███████   | 708/994 [03:20<01:21,  3.53it/s]"
          ]
        },
        {
          "name": "stdout",
          "output_type": "stream",
          "text": [
            "Extracted 20 frames from the first 10 seconds of dataset/Celeb-synthesis/id54_id52_0001.mp4\n"
          ]
        },
        {
          "name": "stderr",
          "output_type": "stream",
          "text": [
            "\rProcessing videos in dataset/Celeb-synthesis:  71%|███████▏  | 709/994 [03:21<01:18,  3.63it/s]"
          ]
        },
        {
          "name": "stdout",
          "output_type": "stream",
          "text": [
            "Extracted 20 frames from the first 10 seconds of dataset/Celeb-synthesis/id28_id4_0009.mp4\n"
          ]
        },
        {
          "name": "stderr",
          "output_type": "stream",
          "text": [
            "\rProcessing videos in dataset/Celeb-synthesis:  71%|███████▏  | 710/994 [03:21<01:16,  3.70it/s]"
          ]
        },
        {
          "name": "stdout",
          "output_type": "stream",
          "text": [
            "Extracted 20 frames from the first 10 seconds of dataset/Celeb-synthesis/id61_id5_0000.mp4\n"
          ]
        },
        {
          "name": "stderr",
          "output_type": "stream",
          "text": [
            "\rProcessing videos in dataset/Celeb-synthesis:  72%|███████▏  | 711/994 [03:21<01:15,  3.73it/s]"
          ]
        },
        {
          "name": "stdout",
          "output_type": "stream",
          "text": [
            "Extracted 20 frames from the first 10 seconds of dataset/Celeb-synthesis/id48_id47_0000.mp4\n"
          ]
        },
        {
          "name": "stderr",
          "output_type": "stream",
          "text": [
            "\rProcessing videos in dataset/Celeb-synthesis:  72%|███████▏  | 712/994 [03:21<01:15,  3.71it/s]"
          ]
        },
        {
          "name": "stdout",
          "output_type": "stream",
          "text": [
            "Extracted 20 frames from the first 10 seconds of dataset/Celeb-synthesis/id53_id50_0006.mp4\n"
          ]
        },
        {
          "name": "stderr",
          "output_type": "stream",
          "text": [
            "\rProcessing videos in dataset/Celeb-synthesis:  72%|███████▏  | 713/994 [03:22<01:16,  3.69it/s]"
          ]
        },
        {
          "name": "stdout",
          "output_type": "stream",
          "text": [
            "Extracted 20 frames from the first 10 seconds of dataset/Celeb-synthesis/id61_id60_0009.mp4\n"
          ]
        },
        {
          "name": "stderr",
          "output_type": "stream",
          "text": [
            "\rProcessing videos in dataset/Celeb-synthesis:  72%|███████▏  | 714/994 [03:22<01:16,  3.67it/s]"
          ]
        },
        {
          "name": "stdout",
          "output_type": "stream",
          "text": [
            "Extracted 20 frames from the first 10 seconds of dataset/Celeb-synthesis/id25_id21_0002.mp4\n"
          ]
        },
        {
          "name": "stderr",
          "output_type": "stream",
          "text": [
            "\rProcessing videos in dataset/Celeb-synthesis:  72%|███████▏  | 715/994 [03:22<01:15,  3.71it/s]"
          ]
        },
        {
          "name": "stdout",
          "output_type": "stream",
          "text": [
            "Extracted 20 frames from the first 10 seconds of dataset/Celeb-synthesis/id22_id19_0004.mp4\n"
          ]
        },
        {
          "name": "stderr",
          "output_type": "stream",
          "text": [
            "\rProcessing videos in dataset/Celeb-synthesis:  72%|███████▏  | 716/994 [03:22<01:18,  3.56it/s]"
          ]
        },
        {
          "name": "stdout",
          "output_type": "stream",
          "text": [
            "Extracted 20 frames from the first 10 seconds of dataset/Celeb-synthesis/id6_id3_0007.mp4\n"
          ]
        },
        {
          "name": "stderr",
          "output_type": "stream",
          "text": [
            "\rProcessing videos in dataset/Celeb-synthesis:  72%|███████▏  | 717/994 [03:23<01:17,  3.59it/s]"
          ]
        },
        {
          "name": "stdout",
          "output_type": "stream",
          "text": [
            "Extracted 20 frames from the first 10 seconds of dataset/Celeb-synthesis/id45_id39_0006.mp4\n"
          ]
        },
        {
          "name": "stderr",
          "output_type": "stream",
          "text": [
            "\rProcessing videos in dataset/Celeb-synthesis:  72%|███████▏  | 718/994 [03:23<01:17,  3.57it/s]"
          ]
        },
        {
          "name": "stdout",
          "output_type": "stream",
          "text": [
            "Extracted 20 frames from the first 10 seconds of dataset/Celeb-synthesis/id59_id5_0007.mp4\n"
          ]
        },
        {
          "name": "stderr",
          "output_type": "stream",
          "text": [
            "\rProcessing videos in dataset/Celeb-synthesis:  72%|███████▏  | 719/994 [03:23<01:13,  3.74it/s]"
          ]
        },
        {
          "name": "stdout",
          "output_type": "stream",
          "text": [
            "Extracted 20 frames from the first 10 seconds of dataset/Celeb-synthesis/id38_id26_0001.mp4\n"
          ]
        },
        {
          "name": "stderr",
          "output_type": "stream",
          "text": [
            "\rProcessing videos in dataset/Celeb-synthesis:  72%|███████▏  | 720/994 [03:24<01:13,  3.71it/s]"
          ]
        },
        {
          "name": "stdout",
          "output_type": "stream",
          "text": [
            "Extracted 20 frames from the first 10 seconds of dataset/Celeb-synthesis/id38_id28_0003.mp4\n"
          ]
        },
        {
          "name": "stderr",
          "output_type": "stream",
          "text": [
            "\rProcessing videos in dataset/Celeb-synthesis:  73%|███████▎  | 721/994 [03:24<01:13,  3.69it/s]"
          ]
        },
        {
          "name": "stdout",
          "output_type": "stream",
          "text": [
            "Extracted 20 frames from the first 10 seconds of dataset/Celeb-synthesis/id23_id1_0001.mp4\n"
          ]
        },
        {
          "name": "stderr",
          "output_type": "stream",
          "text": [
            "\rProcessing videos in dataset/Celeb-synthesis:  73%|███████▎  | 722/994 [03:24<01:13,  3.68it/s]"
          ]
        },
        {
          "name": "stdout",
          "output_type": "stream",
          "text": [
            "Extracted 20 frames from the first 10 seconds of dataset/Celeb-synthesis/id40_id41_0008.mp4\n"
          ]
        },
        {
          "name": "stderr",
          "output_type": "stream",
          "text": [
            "\rProcessing videos in dataset/Celeb-synthesis:  73%|███████▎  | 723/994 [03:24<01:14,  3.64it/s]"
          ]
        },
        {
          "name": "stdout",
          "output_type": "stream",
          "text": [
            "Extracted 20 frames from the first 10 seconds of dataset/Celeb-synthesis/id32_id20_0000.mp4\n"
          ]
        },
        {
          "name": "stderr",
          "output_type": "stream",
          "text": [
            "\rProcessing videos in dataset/Celeb-synthesis:  73%|███████▎  | 724/994 [03:25<01:13,  3.66it/s]"
          ]
        },
        {
          "name": "stdout",
          "output_type": "stream",
          "text": [
            "Extracted 20 frames from the first 10 seconds of dataset/Celeb-synthesis/id35_id2_0001.mp4\n"
          ]
        },
        {
          "name": "stderr",
          "output_type": "stream",
          "text": [
            "\rProcessing videos in dataset/Celeb-synthesis:  73%|███████▎  | 725/994 [03:25<01:11,  3.77it/s]"
          ]
        },
        {
          "name": "stdout",
          "output_type": "stream",
          "text": [
            "Extracted 20 frames from the first 10 seconds of dataset/Celeb-synthesis/id30_id1_0007.mp4\n"
          ]
        },
        {
          "name": "stderr",
          "output_type": "stream",
          "text": [
            "\rProcessing videos in dataset/Celeb-synthesis:  73%|███████▎  | 726/994 [03:25<01:09,  3.85it/s]"
          ]
        },
        {
          "name": "stdout",
          "output_type": "stream",
          "text": [
            "Extracted 20 frames from the first 10 seconds of dataset/Celeb-synthesis/id26_id17_0008.mp4\n"
          ]
        },
        {
          "name": "stderr",
          "output_type": "stream",
          "text": [
            "\rProcessing videos in dataset/Celeb-synthesis:  73%|███████▎  | 727/994 [03:25<01:11,  3.71it/s]"
          ]
        },
        {
          "name": "stdout",
          "output_type": "stream",
          "text": [
            "Extracted 20 frames from the first 10 seconds of dataset/Celeb-synthesis/id11_id7_0007.mp4\n"
          ]
        },
        {
          "name": "stderr",
          "output_type": "stream",
          "text": [
            "\rProcessing videos in dataset/Celeb-synthesis:  73%|███████▎  | 728/994 [03:26<01:18,  3.39it/s]"
          ]
        },
        {
          "name": "stdout",
          "output_type": "stream",
          "text": [
            "Extracted 20 frames from the first 10 seconds of dataset/Celeb-synthesis/id9_id17_0002.mp4\n"
          ]
        },
        {
          "name": "stderr",
          "output_type": "stream",
          "text": [
            "\rProcessing videos in dataset/Celeb-synthesis:  73%|███████▎  | 729/994 [03:26<01:15,  3.49it/s]"
          ]
        },
        {
          "name": "stdout",
          "output_type": "stream",
          "text": [
            "Extracted 20 frames from the first 10 seconds of dataset/Celeb-synthesis/id50_id49_0007.mp4\n"
          ]
        },
        {
          "name": "stderr",
          "output_type": "stream",
          "text": [
            "\rProcessing videos in dataset/Celeb-synthesis:  73%|███████▎  | 730/994 [03:26<01:17,  3.39it/s]"
          ]
        },
        {
          "name": "stdout",
          "output_type": "stream",
          "text": [
            "Extracted 20 frames from the first 10 seconds of dataset/Celeb-synthesis/id29_id28_0004.mp4\n"
          ]
        },
        {
          "name": "stderr",
          "output_type": "stream",
          "text": [
            "\rProcessing videos in dataset/Celeb-synthesis:  74%|███████▎  | 731/994 [03:27<01:13,  3.56it/s]"
          ]
        },
        {
          "name": "stdout",
          "output_type": "stream",
          "text": [
            "Extracted 20 frames from the first 10 seconds of dataset/Celeb-synthesis/id21_id9_0002.mp4\n"
          ]
        },
        {
          "name": "stderr",
          "output_type": "stream",
          "text": [
            "\rProcessing videos in dataset/Celeb-synthesis:  74%|███████▎  | 732/994 [03:27<01:22,  3.16it/s]"
          ]
        },
        {
          "name": "stdout",
          "output_type": "stream",
          "text": [
            "Extracted 20 frames from the first 10 seconds of dataset/Celeb-synthesis/id19_id23_0009.mp4\n"
          ]
        },
        {
          "name": "stderr",
          "output_type": "stream",
          "text": [
            "\rProcessing videos in dataset/Celeb-synthesis:  74%|███████▎  | 733/994 [03:28<01:38,  2.65it/s]"
          ]
        },
        {
          "name": "stdout",
          "output_type": "stream",
          "text": [
            "Extracted 20 frames from the first 10 seconds of dataset/Celeb-synthesis/id0_id1_0007.mp4\n"
          ]
        },
        {
          "name": "stderr",
          "output_type": "stream",
          "text": [
            "\rProcessing videos in dataset/Celeb-synthesis:  74%|███████▍  | 734/994 [03:28<01:47,  2.43it/s]"
          ]
        },
        {
          "name": "stdout",
          "output_type": "stream",
          "text": [
            "Extracted 20 frames from the first 10 seconds of dataset/Celeb-synthesis/id6_id3_0009.mp4\n"
          ]
        },
        {
          "name": "stderr",
          "output_type": "stream",
          "text": [
            "\rProcessing videos in dataset/Celeb-synthesis:  74%|███████▍  | 735/994 [03:28<01:48,  2.39it/s]"
          ]
        },
        {
          "name": "stdout",
          "output_type": "stream",
          "text": [
            "Extracted 20 frames from the first 10 seconds of dataset/Celeb-synthesis/id46_id47_0007.mp4\n"
          ]
        },
        {
          "name": "stderr",
          "output_type": "stream",
          "text": [
            "\rProcessing videos in dataset/Celeb-synthesis:  74%|███████▍  | 736/994 [03:29<01:49,  2.35it/s]"
          ]
        },
        {
          "name": "stdout",
          "output_type": "stream",
          "text": [
            "Extracted 20 frames from the first 10 seconds of dataset/Celeb-synthesis/id33_id26_0009.mp4\n"
          ]
        },
        {
          "name": "stderr",
          "output_type": "stream",
          "text": [
            "\rProcessing videos in dataset/Celeb-synthesis:  74%|███████▍  | 737/994 [03:29<01:58,  2.17it/s]"
          ]
        },
        {
          "name": "stdout",
          "output_type": "stream",
          "text": [
            "Extracted 20 frames from the first 10 seconds of dataset/Celeb-synthesis/id12_id7_0006.mp4\n"
          ]
        },
        {
          "name": "stderr",
          "output_type": "stream",
          "text": [
            "\rProcessing videos in dataset/Celeb-synthesis:  74%|███████▍  | 738/994 [03:30<01:54,  2.24it/s]"
          ]
        },
        {
          "name": "stdout",
          "output_type": "stream",
          "text": [
            "Extracted 20 frames from the first 10 seconds of dataset/Celeb-synthesis/id40_id41_0003.mp4\n"
          ]
        },
        {
          "name": "stderr",
          "output_type": "stream",
          "text": [
            "\rProcessing videos in dataset/Celeb-synthesis:  74%|███████▍  | 739/994 [03:30<01:51,  2.28it/s]"
          ]
        },
        {
          "name": "stdout",
          "output_type": "stream",
          "text": [
            "Extracted 20 frames from the first 10 seconds of dataset/Celeb-synthesis/id35_id1_0001.mp4\n"
          ]
        },
        {
          "name": "stderr",
          "output_type": "stream",
          "text": [
            "\rProcessing videos in dataset/Celeb-synthesis:  74%|███████▍  | 740/994 [03:31<01:36,  2.62it/s]"
          ]
        },
        {
          "name": "stdout",
          "output_type": "stream",
          "text": [
            "Extracted 20 frames from the first 10 seconds of dataset/Celeb-synthesis/id48_id47_0007.mp4\n"
          ]
        },
        {
          "name": "stderr",
          "output_type": "stream",
          "text": [
            "\rProcessing videos in dataset/Celeb-synthesis:  75%|███████▍  | 741/994 [03:31<01:24,  2.99it/s]"
          ]
        },
        {
          "name": "stdout",
          "output_type": "stream",
          "text": [
            "Extracted 20 frames from the first 10 seconds of dataset/Celeb-synthesis/id39_id42_0000.mp4\n"
          ]
        },
        {
          "name": "stderr",
          "output_type": "stream",
          "text": [
            "\rProcessing videos in dataset/Celeb-synthesis:  75%|███████▍  | 742/994 [03:31<01:17,  3.23it/s]"
          ]
        },
        {
          "name": "stdout",
          "output_type": "stream",
          "text": [
            "Extracted 20 frames from the first 10 seconds of dataset/Celeb-synthesis/id28_id4_0004.mp4\n"
          ]
        },
        {
          "name": "stderr",
          "output_type": "stream",
          "text": [
            "\rProcessing videos in dataset/Celeb-synthesis:  75%|███████▍  | 743/994 [03:31<01:15,  3.31it/s]"
          ]
        },
        {
          "name": "stdout",
          "output_type": "stream",
          "text": [
            "Extracted 20 frames from the first 10 seconds of dataset/Celeb-synthesis/id29_id26_0005.mp4\n"
          ]
        },
        {
          "name": "stderr",
          "output_type": "stream",
          "text": [
            "\rProcessing videos in dataset/Celeb-synthesis:  75%|███████▍  | 744/994 [03:32<01:12,  3.46it/s]"
          ]
        },
        {
          "name": "stdout",
          "output_type": "stream",
          "text": [
            "Extracted 20 frames from the first 10 seconds of dataset/Celeb-synthesis/id24_id23_0009.mp4\n"
          ]
        },
        {
          "name": "stderr",
          "output_type": "stream",
          "text": [
            "\rProcessing videos in dataset/Celeb-synthesis:  75%|███████▍  | 745/994 [03:32<01:11,  3.49it/s]"
          ]
        },
        {
          "name": "stdout",
          "output_type": "stream",
          "text": [
            "Extracted 20 frames from the first 10 seconds of dataset/Celeb-synthesis/id12_id7_0004.mp4\n"
          ]
        },
        {
          "name": "stderr",
          "output_type": "stream",
          "text": [
            "\rProcessing videos in dataset/Celeb-synthesis:  75%|███████▌  | 746/994 [03:32<01:09,  3.57it/s]"
          ]
        },
        {
          "name": "stdout",
          "output_type": "stream",
          "text": [
            "Extracted 20 frames from the first 10 seconds of dataset/Celeb-synthesis/id60_id5_0005.mp4\n"
          ]
        },
        {
          "name": "stderr",
          "output_type": "stream",
          "text": [
            "\rProcessing videos in dataset/Celeb-synthesis:  75%|███████▌  | 747/994 [03:32<01:09,  3.55it/s]"
          ]
        },
        {
          "name": "stdout",
          "output_type": "stream",
          "text": [
            "Extracted 20 frames from the first 10 seconds of dataset/Celeb-synthesis/id54_id52_0008.mp4\n"
          ]
        },
        {
          "name": "stderr",
          "output_type": "stream",
          "text": [
            "\rProcessing videos in dataset/Celeb-synthesis:  75%|███████▌  | 748/994 [03:33<01:08,  3.60it/s]"
          ]
        },
        {
          "name": "stdout",
          "output_type": "stream",
          "text": [
            "Extracted 20 frames from the first 10 seconds of dataset/Celeb-synthesis/id25_id20_0002.mp4\n"
          ]
        },
        {
          "name": "stderr",
          "output_type": "stream",
          "text": [
            "\rProcessing videos in dataset/Celeb-synthesis:  75%|███████▌  | 749/994 [03:33<01:04,  3.81it/s]"
          ]
        },
        {
          "name": "stdout",
          "output_type": "stream",
          "text": [
            "Extracted 20 frames from the first 10 seconds of dataset/Celeb-synthesis/id25_id20_0008.mp4\n"
          ]
        },
        {
          "name": "stderr",
          "output_type": "stream",
          "text": [
            "\rProcessing videos in dataset/Celeb-synthesis:  75%|███████▌  | 750/994 [03:33<01:05,  3.71it/s]"
          ]
        },
        {
          "name": "stdout",
          "output_type": "stream",
          "text": [
            "Extracted 20 frames from the first 10 seconds of dataset/Celeb-synthesis/id39_id43_0004.mp4\n"
          ]
        },
        {
          "name": "stderr",
          "output_type": "stream",
          "text": [
            "\rProcessing videos in dataset/Celeb-synthesis:  76%|███████▌  | 751/994 [03:33<01:06,  3.66it/s]"
          ]
        },
        {
          "name": "stdout",
          "output_type": "stream",
          "text": [
            "Extracted 20 frames from the first 10 seconds of dataset/Celeb-synthesis/id44_id40_0002.mp4\n"
          ]
        },
        {
          "name": "stderr",
          "output_type": "stream",
          "text": [
            "\rProcessing videos in dataset/Celeb-synthesis:  76%|███████▌  | 752/994 [03:34<01:07,  3.58it/s]"
          ]
        },
        {
          "name": "stdout",
          "output_type": "stream",
          "text": [
            "Extracted 20 frames from the first 10 seconds of dataset/Celeb-synthesis/id49_id50_0009.mp4\n"
          ]
        },
        {
          "name": "stderr",
          "output_type": "stream",
          "text": [
            "\rProcessing videos in dataset/Celeb-synthesis:  76%|███████▌  | 753/994 [03:34<01:10,  3.40it/s]"
          ]
        },
        {
          "name": "stdout",
          "output_type": "stream",
          "text": [
            "Extracted 20 frames from the first 10 seconds of dataset/Celeb-synthesis/id8_id7_0007.mp4\n"
          ]
        },
        {
          "name": "stderr",
          "output_type": "stream",
          "text": [
            "\rProcessing videos in dataset/Celeb-synthesis:  76%|███████▌  | 754/994 [03:34<01:09,  3.44it/s]"
          ]
        },
        {
          "name": "stdout",
          "output_type": "stream",
          "text": [
            "Extracted 20 frames from the first 10 seconds of dataset/Celeb-synthesis/id28_id4_0008.mp4\n"
          ]
        },
        {
          "name": "stderr",
          "output_type": "stream",
          "text": [
            "\rProcessing videos in dataset/Celeb-synthesis:  76%|███████▌  | 755/994 [03:35<01:04,  3.71it/s]"
          ]
        },
        {
          "name": "stdout",
          "output_type": "stream",
          "text": [
            "Extracted 20 frames from the first 10 seconds of dataset/Celeb-synthesis/id2_id0_0001.mp4\n"
          ]
        },
        {
          "name": "stderr",
          "output_type": "stream",
          "text": [
            "\rProcessing videos in dataset/Celeb-synthesis:  76%|███████▌  | 756/994 [03:35<01:03,  3.75it/s]"
          ]
        },
        {
          "name": "stdout",
          "output_type": "stream",
          "text": [
            "Extracted 20 frames from the first 10 seconds of dataset/Celeb-synthesis/id38_id26_0005.mp4\n"
          ]
        },
        {
          "name": "stderr",
          "output_type": "stream",
          "text": [
            "\rProcessing videos in dataset/Celeb-synthesis:  76%|███████▌  | 757/994 [03:35<01:05,  3.63it/s]"
          ]
        },
        {
          "name": "stdout",
          "output_type": "stream",
          "text": [
            "Extracted 20 frames from the first 10 seconds of dataset/Celeb-synthesis/id60_id59_0000.mp4\n"
          ]
        },
        {
          "name": "stderr",
          "output_type": "stream",
          "text": [
            "\rProcessing videos in dataset/Celeb-synthesis:  76%|███████▋  | 758/994 [03:35<01:02,  3.78it/s]"
          ]
        },
        {
          "name": "stdout",
          "output_type": "stream",
          "text": [
            "Extracted 20 frames from the first 10 seconds of dataset/Celeb-synthesis/id46_id41_0003.mp4\n"
          ]
        },
        {
          "name": "stderr",
          "output_type": "stream",
          "text": [
            "\rProcessing videos in dataset/Celeb-synthesis:  76%|███████▋  | 759/994 [03:36<01:03,  3.73it/s]"
          ]
        },
        {
          "name": "stdout",
          "output_type": "stream",
          "text": [
            "Extracted 20 frames from the first 10 seconds of dataset/Celeb-synthesis/id32_id21_0007.mp4\n"
          ]
        },
        {
          "name": "stderr",
          "output_type": "stream",
          "text": [
            "\rProcessing videos in dataset/Celeb-synthesis:  76%|███████▋  | 760/994 [03:36<01:00,  3.84it/s]"
          ]
        },
        {
          "name": "stdout",
          "output_type": "stream",
          "text": [
            "Extracted 20 frames from the first 10 seconds of dataset/Celeb-synthesis/id40_id39_0009.mp4\n"
          ]
        },
        {
          "name": "stderr",
          "output_type": "stream",
          "text": [
            "\rProcessing videos in dataset/Celeb-synthesis:  77%|███████▋  | 761/994 [03:36<01:00,  3.83it/s]"
          ]
        },
        {
          "name": "stdout",
          "output_type": "stream",
          "text": [
            "Extracted 20 frames from the first 10 seconds of dataset/Celeb-synthesis/id52_id50_0008.mp4\n"
          ]
        },
        {
          "name": "stderr",
          "output_type": "stream",
          "text": [
            "\rProcessing videos in dataset/Celeb-synthesis:  77%|███████▋  | 762/994 [03:36<00:59,  3.89it/s]"
          ]
        },
        {
          "name": "stdout",
          "output_type": "stream",
          "text": [
            "Extracted 20 frames from the first 10 seconds of dataset/Celeb-synthesis/id55_id53_0006.mp4\n"
          ]
        },
        {
          "name": "stderr",
          "output_type": "stream",
          "text": [
            "\rProcessing videos in dataset/Celeb-synthesis:  77%|███████▋  | 763/994 [03:37<01:01,  3.74it/s]"
          ]
        },
        {
          "name": "stdout",
          "output_type": "stream",
          "text": [
            "Extracted 20 frames from the first 10 seconds of dataset/Celeb-synthesis/id55_id51_0004.mp4\n"
          ]
        },
        {
          "name": "stderr",
          "output_type": "stream",
          "text": [
            "\rProcessing videos in dataset/Celeb-synthesis:  77%|███████▋  | 764/994 [03:37<00:59,  3.85it/s]"
          ]
        },
        {
          "name": "stdout",
          "output_type": "stream",
          "text": [
            "Extracted 20 frames from the first 10 seconds of dataset/Celeb-synthesis/id22_id19_0002.mp4\n"
          ]
        },
        {
          "name": "stderr",
          "output_type": "stream",
          "text": [
            "\rProcessing videos in dataset/Celeb-synthesis:  77%|███████▋  | 765/994 [03:37<01:01,  3.70it/s]"
          ]
        },
        {
          "name": "stdout",
          "output_type": "stream",
          "text": [
            "Extracted 20 frames from the first 10 seconds of dataset/Celeb-synthesis/id10_id11_0005.mp4\n"
          ]
        },
        {
          "name": "stderr",
          "output_type": "stream",
          "text": [
            "Processing videos in dataset/Celeb-synthesis:  77%|███████▋  | 767/994 [03:38<00:55,  4.06it/s]"
          ]
        },
        {
          "name": "stdout",
          "output_type": "stream",
          "text": [
            "Extracted 20 frames from the first 10 seconds of dataset/Celeb-synthesis/id28_id3_0002.mp4\n",
            "Extracted 20 frames from the first 10 seconds of dataset/Celeb-synthesis/id2_id16_0004.mp4\n"
          ]
        },
        {
          "name": "stderr",
          "output_type": "stream",
          "text": [
            "\rProcessing videos in dataset/Celeb-synthesis:  77%|███████▋  | 768/994 [03:38<00:58,  3.89it/s]"
          ]
        },
        {
          "name": "stdout",
          "output_type": "stream",
          "text": [
            "Extracted 20 frames from the first 10 seconds of dataset/Celeb-synthesis/id0_id1_0003.mp4\n"
          ]
        },
        {
          "name": "stderr",
          "output_type": "stream",
          "text": [
            "\rProcessing videos in dataset/Celeb-synthesis:  77%|███████▋  | 769/994 [03:38<01:01,  3.66it/s]"
          ]
        },
        {
          "name": "stdout",
          "output_type": "stream",
          "text": [
            "Extracted 20 frames from the first 10 seconds of dataset/Celeb-synthesis/id9_id16_0006.mp4\n"
          ]
        },
        {
          "name": "stderr",
          "output_type": "stream",
          "text": [
            "\rProcessing videos in dataset/Celeb-synthesis:  77%|███████▋  | 770/994 [03:39<01:01,  3.62it/s]"
          ]
        },
        {
          "name": "stdout",
          "output_type": "stream",
          "text": [
            "Extracted 20 frames from the first 10 seconds of dataset/Celeb-synthesis/id35_id3_0001.mp4\n"
          ]
        },
        {
          "name": "stderr",
          "output_type": "stream",
          "text": [
            "\rProcessing videos in dataset/Celeb-synthesis:  78%|███████▊  | 771/994 [03:39<00:59,  3.75it/s]"
          ]
        },
        {
          "name": "stdout",
          "output_type": "stream",
          "text": [
            "Extracted 20 frames from the first 10 seconds of dataset/Celeb-synthesis/id43_id40_0009.mp4\n"
          ]
        },
        {
          "name": "stderr",
          "output_type": "stream",
          "text": [
            "\rProcessing videos in dataset/Celeb-synthesis:  78%|███████▊  | 772/994 [03:39<00:55,  4.02it/s]"
          ]
        },
        {
          "name": "stdout",
          "output_type": "stream",
          "text": [
            "Extracted 20 frames from the first 10 seconds of dataset/Celeb-synthesis/id26_id17_0003.mp4\n"
          ]
        },
        {
          "name": "stderr",
          "output_type": "stream",
          "text": [
            "\rProcessing videos in dataset/Celeb-synthesis:  78%|███████▊  | 773/994 [03:39<00:52,  4.21it/s]"
          ]
        },
        {
          "name": "stdout",
          "output_type": "stream",
          "text": [
            "Extracted 20 frames from the first 10 seconds of dataset/Celeb-synthesis/id7_id11_0006.mp4\n"
          ]
        },
        {
          "name": "stderr",
          "output_type": "stream",
          "text": [
            "\rProcessing videos in dataset/Celeb-synthesis:  78%|███████▊  | 774/994 [03:39<00:53,  4.11it/s]"
          ]
        },
        {
          "name": "stdout",
          "output_type": "stream",
          "text": [
            "Extracted 20 frames from the first 10 seconds of dataset/Celeb-synthesis/id47_id39_0005.mp4\n"
          ]
        },
        {
          "name": "stderr",
          "output_type": "stream",
          "text": [
            "\rProcessing videos in dataset/Celeb-synthesis:  78%|███████▊  | 775/994 [03:40<00:54,  4.00it/s]"
          ]
        },
        {
          "name": "stdout",
          "output_type": "stream",
          "text": [
            "Extracted 20 frames from the first 10 seconds of dataset/Celeb-synthesis/id50_id51_0007.mp4\n"
          ]
        },
        {
          "name": "stderr",
          "output_type": "stream",
          "text": [
            "\rProcessing videos in dataset/Celeb-synthesis:  78%|███████▊  | 776/994 [03:40<00:53,  4.07it/s]"
          ]
        },
        {
          "name": "stdout",
          "output_type": "stream",
          "text": [
            "Extracted 20 frames from the first 10 seconds of dataset/Celeb-synthesis/id43_id40_0001.mp4\n"
          ]
        },
        {
          "name": "stderr",
          "output_type": "stream",
          "text": [
            "\rProcessing videos in dataset/Celeb-synthesis:  78%|███████▊  | 777/994 [03:40<00:56,  3.87it/s]"
          ]
        },
        {
          "name": "stdout",
          "output_type": "stream",
          "text": [
            "Extracted 20 frames from the first 10 seconds of dataset/Celeb-synthesis/id34_id29_0006.mp4\n"
          ]
        },
        {
          "name": "stderr",
          "output_type": "stream",
          "text": [
            "\rProcessing videos in dataset/Celeb-synthesis:  78%|███████▊  | 778/994 [03:41<01:03,  3.42it/s]"
          ]
        },
        {
          "name": "stdout",
          "output_type": "stream",
          "text": [
            "Extracted 20 frames from the first 10 seconds of dataset/Celeb-synthesis/id33_id28_0009.mp4\n"
          ]
        },
        {
          "name": "stderr",
          "output_type": "stream",
          "text": [
            "\rProcessing videos in dataset/Celeb-synthesis:  78%|███████▊  | 779/994 [03:41<01:08,  3.12it/s]"
          ]
        },
        {
          "name": "stdout",
          "output_type": "stream",
          "text": [
            "Extracted 20 frames from the first 10 seconds of dataset/Celeb-synthesis/id53_id50_0004.mp4\n"
          ]
        },
        {
          "name": "stderr",
          "output_type": "stream",
          "text": [
            "\rProcessing videos in dataset/Celeb-synthesis:  78%|███████▊  | 780/994 [03:41<01:14,  2.85it/s]"
          ]
        },
        {
          "name": "stdout",
          "output_type": "stream",
          "text": [
            "Extracted 20 frames from the first 10 seconds of dataset/Celeb-synthesis/id51_id49_0007.mp4\n"
          ]
        },
        {
          "name": "stderr",
          "output_type": "stream",
          "text": [
            "\rProcessing videos in dataset/Celeb-synthesis:  79%|███████▊  | 781/994 [03:42<01:18,  2.73it/s]"
          ]
        },
        {
          "name": "stdout",
          "output_type": "stream",
          "text": [
            "Extracted 20 frames from the first 10 seconds of dataset/Celeb-synthesis/id48_id47_0006.mp4\n"
          ]
        },
        {
          "name": "stderr",
          "output_type": "stream",
          "text": [
            "\rProcessing videos in dataset/Celeb-synthesis:  79%|███████▊  | 782/994 [03:42<01:23,  2.54it/s]"
          ]
        },
        {
          "name": "stdout",
          "output_type": "stream",
          "text": [
            "Extracted 20 frames from the first 10 seconds of dataset/Celeb-synthesis/id16_id0_0007.mp4\n"
          ]
        },
        {
          "name": "stderr",
          "output_type": "stream",
          "text": [
            "\rProcessing videos in dataset/Celeb-synthesis:  79%|███████▉  | 783/994 [03:43<01:20,  2.62it/s]"
          ]
        },
        {
          "name": "stdout",
          "output_type": "stream",
          "text": [
            "Extracted 20 frames from the first 10 seconds of dataset/Celeb-synthesis/id19_id23_0000.mp4\n"
          ]
        },
        {
          "name": "stderr",
          "output_type": "stream",
          "text": [
            "\rProcessing videos in dataset/Celeb-synthesis:  79%|███████▉  | 784/994 [03:43<01:21,  2.59it/s]"
          ]
        },
        {
          "name": "stdout",
          "output_type": "stream",
          "text": [
            "Extracted 20 frames from the first 10 seconds of dataset/Celeb-synthesis/id57_id52_0000.mp4\n"
          ]
        },
        {
          "name": "stderr",
          "output_type": "stream",
          "text": [
            "\rProcessing videos in dataset/Celeb-synthesis:  79%|███████▉  | 785/994 [03:43<01:11,  2.92it/s]"
          ]
        },
        {
          "name": "stdout",
          "output_type": "stream",
          "text": [
            "Extracted 20 frames from the first 10 seconds of dataset/Celeb-synthesis/id7_id10_0005.mp4\n"
          ]
        },
        {
          "name": "stderr",
          "output_type": "stream",
          "text": [
            "\rProcessing videos in dataset/Celeb-synthesis:  79%|███████▉  | 786/994 [03:44<01:10,  2.94it/s]"
          ]
        },
        {
          "name": "stdout",
          "output_type": "stream",
          "text": [
            "Extracted 20 frames from the first 10 seconds of dataset/Celeb-synthesis/id47_id40_0006.mp4\n"
          ]
        },
        {
          "name": "stderr",
          "output_type": "stream",
          "text": [
            "\rProcessing videos in dataset/Celeb-synthesis:  79%|███████▉  | 787/994 [03:44<01:16,  2.71it/s]"
          ]
        },
        {
          "name": "stdout",
          "output_type": "stream",
          "text": [
            "Extracted 20 frames from the first 10 seconds of dataset/Celeb-synthesis/id49_id51_0003.mp4\n"
          ]
        },
        {
          "name": "stderr",
          "output_type": "stream",
          "text": [
            "Processing videos in dataset/Celeb-synthesis:  79%|███████▉  | 789/994 [03:44<00:57,  3.54it/s]"
          ]
        },
        {
          "name": "stdout",
          "output_type": "stream",
          "text": [
            "Extracted 20 frames from the first 10 seconds of dataset/Celeb-synthesis/id19_id23_0004.mp4\n",
            "Extracted 20 frames from the first 10 seconds of dataset/Celeb-synthesis/id24_id21_0002.mp4\n"
          ]
        },
        {
          "name": "stderr",
          "output_type": "stream",
          "text": [
            "\rProcessing videos in dataset/Celeb-synthesis:  79%|███████▉  | 790/994 [03:45<00:57,  3.56it/s]"
          ]
        },
        {
          "name": "stdout",
          "output_type": "stream",
          "text": [
            "Extracted 20 frames from the first 10 seconds of dataset/Celeb-synthesis/id37_id2_0003.mp4\n"
          ]
        },
        {
          "name": "stderr",
          "output_type": "stream",
          "text": [
            "\rProcessing videos in dataset/Celeb-synthesis:  80%|███████▉  | 791/994 [03:45<00:56,  3.58it/s]"
          ]
        },
        {
          "name": "stdout",
          "output_type": "stream",
          "text": [
            "Extracted 20 frames from the first 10 seconds of dataset/Celeb-synthesis/id24_id23_0007.mp4\n"
          ]
        },
        {
          "name": "stderr",
          "output_type": "stream",
          "text": [
            "\rProcessing videos in dataset/Celeb-synthesis:  80%|███████▉  | 792/994 [03:45<00:55,  3.64it/s]"
          ]
        },
        {
          "name": "stdout",
          "output_type": "stream",
          "text": [
            "Extracted 20 frames from the first 10 seconds of dataset/Celeb-synthesis/id24_id21_0007.mp4\n"
          ]
        },
        {
          "name": "stderr",
          "output_type": "stream",
          "text": [
            "\rProcessing videos in dataset/Celeb-synthesis:  80%|███████▉  | 793/994 [03:46<00:54,  3.66it/s]"
          ]
        },
        {
          "name": "stdout",
          "output_type": "stream",
          "text": [
            "Extracted 20 frames from the first 10 seconds of dataset/Celeb-synthesis/id25_id19_0002.mp4\n"
          ]
        },
        {
          "name": "stderr",
          "output_type": "stream",
          "text": [
            "\rProcessing videos in dataset/Celeb-synthesis:  80%|███████▉  | 794/994 [03:46<00:56,  3.54it/s]"
          ]
        },
        {
          "name": "stdout",
          "output_type": "stream",
          "text": [
            "Extracted 20 frames from the first 10 seconds of dataset/Celeb-synthesis/id6_id3_0008.mp4\n"
          ]
        },
        {
          "name": "stderr",
          "output_type": "stream",
          "text": [
            "\rProcessing videos in dataset/Celeb-synthesis:  80%|███████▉  | 795/994 [03:46<00:59,  3.35it/s]"
          ]
        },
        {
          "name": "stdout",
          "output_type": "stream",
          "text": [
            "Extracted 20 frames from the first 10 seconds of dataset/Celeb-synthesis/id16_id1_0000.mp4\n"
          ]
        },
        {
          "name": "stderr",
          "output_type": "stream",
          "text": [
            "\rProcessing videos in dataset/Celeb-synthesis:  80%|████████  | 796/994 [03:47<00:59,  3.33it/s]"
          ]
        },
        {
          "name": "stdout",
          "output_type": "stream",
          "text": [
            "Extracted 20 frames from the first 10 seconds of dataset/Celeb-synthesis/id31_id2_0004.mp4\n"
          ]
        },
        {
          "name": "stderr",
          "output_type": "stream",
          "text": [
            "Processing videos in dataset/Celeb-synthesis:  80%|████████  | 798/994 [03:47<00:51,  3.82it/s]"
          ]
        },
        {
          "name": "stdout",
          "output_type": "stream",
          "text": [
            "Extracted 20 frames from the first 10 seconds of dataset/Celeb-synthesis/id31_id2_0003.mp4\n",
            "Extracted 20 frames from the first 10 seconds of dataset/Celeb-synthesis/id1_id0_0006.mp4\n"
          ]
        },
        {
          "name": "stderr",
          "output_type": "stream",
          "text": [
            "\rProcessing videos in dataset/Celeb-synthesis:  80%|████████  | 799/994 [03:47<00:48,  4.06it/s]"
          ]
        },
        {
          "name": "stdout",
          "output_type": "stream",
          "text": [
            "Extracted 20 frames from the first 10 seconds of dataset/Celeb-synthesis/id19_id23_0005.mp4\n"
          ]
        },
        {
          "name": "stderr",
          "output_type": "stream",
          "text": [
            "\rProcessing videos in dataset/Celeb-synthesis:  80%|████████  | 800/994 [03:47<00:48,  3.97it/s]"
          ]
        },
        {
          "name": "stdout",
          "output_type": "stream",
          "text": [
            "Extracted 20 frames from the first 10 seconds of dataset/Celeb-synthesis/id42_id41_0003.mp4\n"
          ]
        },
        {
          "name": "stderr",
          "output_type": "stream",
          "text": [
            "\rProcessing videos in dataset/Celeb-synthesis:  81%|████████  | 801/994 [03:48<00:51,  3.75it/s]"
          ]
        },
        {
          "name": "stdout",
          "output_type": "stream",
          "text": [
            "Extracted 20 frames from the first 10 seconds of dataset/Celeb-synthesis/id5_id61_0007.mp4\n"
          ]
        },
        {
          "name": "stderr",
          "output_type": "stream",
          "text": [
            "\rProcessing videos in dataset/Celeb-synthesis:  81%|████████  | 802/994 [03:48<00:53,  3.58it/s]"
          ]
        },
        {
          "name": "stdout",
          "output_type": "stream",
          "text": [
            "Extracted 20 frames from the first 10 seconds of dataset/Celeb-synthesis/id0_id6_0000.mp4\n"
          ]
        },
        {
          "name": "stderr",
          "output_type": "stream",
          "text": [
            "\rProcessing videos in dataset/Celeb-synthesis:  81%|████████  | 803/994 [03:48<00:52,  3.61it/s]"
          ]
        },
        {
          "name": "stdout",
          "output_type": "stream",
          "text": [
            "Extracted 20 frames from the first 10 seconds of dataset/Celeb-synthesis/id30_id2_0001.mp4\n"
          ]
        },
        {
          "name": "stderr",
          "output_type": "stream",
          "text": [
            "\rProcessing videos in dataset/Celeb-synthesis:  81%|████████  | 804/994 [03:49<00:53,  3.54it/s]"
          ]
        },
        {
          "name": "stdout",
          "output_type": "stream",
          "text": [
            "Extracted 20 frames from the first 10 seconds of dataset/Celeb-synthesis/id49_id50_0004.mp4\n"
          ]
        },
        {
          "name": "stderr",
          "output_type": "stream",
          "text": [
            "\rProcessing videos in dataset/Celeb-synthesis:  81%|████████  | 805/994 [03:49<00:51,  3.63it/s]"
          ]
        },
        {
          "name": "stdout",
          "output_type": "stream",
          "text": [
            "Extracted 20 frames from the first 10 seconds of dataset/Celeb-synthesis/id44_id39_0001.mp4\n"
          ]
        },
        {
          "name": "stderr",
          "output_type": "stream",
          "text": [
            "\rProcessing videos in dataset/Celeb-synthesis:  81%|████████  | 806/994 [03:49<00:51,  3.64it/s]"
          ]
        },
        {
          "name": "stdout",
          "output_type": "stream",
          "text": [
            "Extracted 20 frames from the first 10 seconds of dataset/Celeb-synthesis/id61_id5_0009.mp4\n"
          ]
        },
        {
          "name": "stderr",
          "output_type": "stream",
          "text": [
            "\rProcessing videos in dataset/Celeb-synthesis:  81%|████████  | 807/994 [03:49<00:49,  3.79it/s]"
          ]
        },
        {
          "name": "stdout",
          "output_type": "stream",
          "text": [
            "Extracted 20 frames from the first 10 seconds of dataset/Celeb-synthesis/id46_id47_0002.mp4\n"
          ]
        },
        {
          "name": "stderr",
          "output_type": "stream",
          "text": [
            "\rProcessing videos in dataset/Celeb-synthesis:  81%|████████▏ | 808/994 [03:50<00:50,  3.67it/s]"
          ]
        },
        {
          "name": "stdout",
          "output_type": "stream",
          "text": [
            "Extracted 20 frames from the first 10 seconds of dataset/Celeb-synthesis/id30_id1_0008.mp4\n"
          ]
        },
        {
          "name": "stderr",
          "output_type": "stream",
          "text": [
            "\rProcessing videos in dataset/Celeb-synthesis:  81%|████████▏ | 809/994 [03:50<00:50,  3.66it/s]"
          ]
        },
        {
          "name": "stdout",
          "output_type": "stream",
          "text": [
            "Extracted 20 frames from the first 10 seconds of dataset/Celeb-synthesis/id50_id51_0000.mp4\n"
          ]
        },
        {
          "name": "stderr",
          "output_type": "stream",
          "text": [
            "Processing videos in dataset/Celeb-synthesis:  82%|████████▏ | 811/994 [03:50<00:44,  4.14it/s]"
          ]
        },
        {
          "name": "stdout",
          "output_type": "stream",
          "text": [
            "Extracted 20 frames from the first 10 seconds of dataset/Celeb-synthesis/id22_id20_0004.mp4\n",
            "Extracted 20 frames from the first 10 seconds of dataset/Celeb-synthesis/id47_id39_0003.mp4\n"
          ]
        },
        {
          "name": "stderr",
          "output_type": "stream",
          "text": [
            "\rProcessing videos in dataset/Celeb-synthesis:  82%|████████▏ | 812/994 [03:51<00:44,  4.07it/s]"
          ]
        },
        {
          "name": "stdout",
          "output_type": "stream",
          "text": [
            "Extracted 20 frames from the first 10 seconds of dataset/Celeb-synthesis/id29_id28_0007.mp4\n"
          ]
        },
        {
          "name": "stderr",
          "output_type": "stream",
          "text": [
            "\rProcessing videos in dataset/Celeb-synthesis:  82%|████████▏ | 813/994 [03:51<00:44,  4.09it/s]"
          ]
        },
        {
          "name": "stdout",
          "output_type": "stream",
          "text": [
            "Extracted 20 frames from the first 10 seconds of dataset/Celeb-synthesis/id61_id5_0005.mp4\n"
          ]
        },
        {
          "name": "stderr",
          "output_type": "stream",
          "text": [
            "\rProcessing videos in dataset/Celeb-synthesis:  82%|████████▏ | 814/994 [03:51<00:45,  3.94it/s]"
          ]
        },
        {
          "name": "stdout",
          "output_type": "stream",
          "text": [
            "Extracted 20 frames from the first 10 seconds of dataset/Celeb-synthesis/id54_id52_0006.mp4\n"
          ]
        },
        {
          "name": "stderr",
          "output_type": "stream",
          "text": [
            "\rProcessing videos in dataset/Celeb-synthesis:  82%|████████▏ | 815/994 [03:51<00:45,  3.89it/s]"
          ]
        },
        {
          "name": "stdout",
          "output_type": "stream",
          "text": [
            "Extracted 20 frames from the first 10 seconds of dataset/Celeb-synthesis/id33_id28_0003.mp4\n"
          ]
        },
        {
          "name": "stderr",
          "output_type": "stream",
          "text": [
            "\rProcessing videos in dataset/Celeb-synthesis:  82%|████████▏ | 816/994 [03:52<00:45,  3.90it/s]"
          ]
        },
        {
          "name": "stdout",
          "output_type": "stream",
          "text": [
            "Extracted 20 frames from the first 10 seconds of dataset/Celeb-synthesis/id47_id39_0001.mp4\n"
          ]
        },
        {
          "name": "stderr",
          "output_type": "stream",
          "text": [
            "\rProcessing videos in dataset/Celeb-synthesis:  82%|████████▏ | 817/994 [03:52<00:47,  3.74it/s]"
          ]
        },
        {
          "name": "stdout",
          "output_type": "stream",
          "text": [
            "Extracted 20 frames from the first 10 seconds of dataset/Celeb-synthesis/id34_id21_0009.mp4\n"
          ]
        },
        {
          "name": "stderr",
          "output_type": "stream",
          "text": [
            "\rProcessing videos in dataset/Celeb-synthesis:  82%|████████▏ | 818/994 [03:52<00:46,  3.77it/s]"
          ]
        },
        {
          "name": "stdout",
          "output_type": "stream",
          "text": [
            "Extracted 20 frames from the first 10 seconds of dataset/Celeb-synthesis/id49_id51_0000.mp4\n"
          ]
        },
        {
          "name": "stderr",
          "output_type": "stream",
          "text": [
            "\rProcessing videos in dataset/Celeb-synthesis:  82%|████████▏ | 819/994 [03:52<00:45,  3.85it/s]"
          ]
        },
        {
          "name": "stdout",
          "output_type": "stream",
          "text": [
            "Extracted 20 frames from the first 10 seconds of dataset/Celeb-synthesis/id27_id23_0009.mp4\n"
          ]
        },
        {
          "name": "stderr",
          "output_type": "stream",
          "text": [
            "Processing videos in dataset/Celeb-synthesis:  83%|████████▎ | 821/994 [03:53<00:40,  4.29it/s]"
          ]
        },
        {
          "name": "stdout",
          "output_type": "stream",
          "text": [
            "Extracted 20 frames from the first 10 seconds of dataset/Celeb-synthesis/id56_id50_0000.mp4\n",
            "Extracted 20 frames from the first 10 seconds of dataset/Celeb-synthesis/id48_id47_0008.mp4\n"
          ]
        },
        {
          "name": "stderr",
          "output_type": "stream",
          "text": [
            "\rProcessing videos in dataset/Celeb-synthesis:  83%|████████▎ | 822/994 [03:53<00:42,  4.05it/s]"
          ]
        },
        {
          "name": "stdout",
          "output_type": "stream",
          "text": [
            "Extracted 20 frames from the first 10 seconds of dataset/Celeb-synthesis/id47_id39_0002.mp4\n"
          ]
        },
        {
          "name": "stderr",
          "output_type": "stream",
          "text": [
            "\rProcessing videos in dataset/Celeb-synthesis:  83%|████████▎ | 823/994 [03:54<00:46,  3.67it/s]"
          ]
        },
        {
          "name": "stdout",
          "output_type": "stream",
          "text": [
            "Extracted 20 frames from the first 10 seconds of dataset/Celeb-synthesis/id12_id7_0005.mp4\n"
          ]
        },
        {
          "name": "stderr",
          "output_type": "stream",
          "text": [
            "\rProcessing videos in dataset/Celeb-synthesis:  83%|████████▎ | 824/994 [03:54<00:47,  3.61it/s]"
          ]
        },
        {
          "name": "stdout",
          "output_type": "stream",
          "text": [
            "Extracted 20 frames from the first 10 seconds of dataset/Celeb-synthesis/id8_id6_0003.mp4\n"
          ]
        },
        {
          "name": "stderr",
          "output_type": "stream",
          "text": [
            "\rProcessing videos in dataset/Celeb-synthesis:  83%|████████▎ | 825/994 [03:54<00:49,  3.40it/s]"
          ]
        },
        {
          "name": "stdout",
          "output_type": "stream",
          "text": [
            "Extracted 20 frames from the first 10 seconds of dataset/Celeb-synthesis/id2_id16_0008.mp4\n"
          ]
        },
        {
          "name": "stderr",
          "output_type": "stream",
          "text": [
            "\rProcessing videos in dataset/Celeb-synthesis:  83%|████████▎ | 826/994 [03:55<00:54,  3.07it/s]"
          ]
        },
        {
          "name": "stdout",
          "output_type": "stream",
          "text": [
            "Extracted 20 frames from the first 10 seconds of dataset/Celeb-synthesis/id33_id28_0008.mp4\n"
          ]
        },
        {
          "name": "stderr",
          "output_type": "stream",
          "text": [
            "\rProcessing videos in dataset/Celeb-synthesis:  83%|████████▎ | 827/994 [03:55<01:01,  2.71it/s]"
          ]
        },
        {
          "name": "stdout",
          "output_type": "stream",
          "text": [
            "Extracted 20 frames from the first 10 seconds of dataset/Celeb-synthesis/id34_id20_0006.mp4\n"
          ]
        },
        {
          "name": "stderr",
          "output_type": "stream",
          "text": [
            "\rProcessing videos in dataset/Celeb-synthesis:  83%|████████▎ | 828/994 [03:56<01:07,  2.47it/s]"
          ]
        },
        {
          "name": "stdout",
          "output_type": "stream",
          "text": [
            "Extracted 20 frames from the first 10 seconds of dataset/Celeb-synthesis/id8_id7_0008.mp4\n"
          ]
        },
        {
          "name": "stderr",
          "output_type": "stream",
          "text": [
            "\rProcessing videos in dataset/Celeb-synthesis:  83%|████████▎ | 829/994 [03:56<01:08,  2.40it/s]"
          ]
        },
        {
          "name": "stdout",
          "output_type": "stream",
          "text": [
            "Extracted 20 frames from the first 10 seconds of dataset/Celeb-synthesis/id60_id5_0002.mp4\n"
          ]
        },
        {
          "name": "stderr",
          "output_type": "stream",
          "text": [
            "\rProcessing videos in dataset/Celeb-synthesis:  84%|████████▎ | 830/994 [03:56<01:00,  2.70it/s]"
          ]
        },
        {
          "name": "stdout",
          "output_type": "stream",
          "text": [
            "Extracted 20 frames from the first 10 seconds of dataset/Celeb-synthesis/id24_id21_0004.mp4\n"
          ]
        },
        {
          "name": "stderr",
          "output_type": "stream",
          "text": [
            "\rProcessing videos in dataset/Celeb-synthesis:  84%|████████▎ | 831/994 [03:57<01:00,  2.68it/s]"
          ]
        },
        {
          "name": "stdout",
          "output_type": "stream",
          "text": [
            "Extracted 20 frames from the first 10 seconds of dataset/Celeb-synthesis/id59_id60_0008.mp4\n"
          ]
        },
        {
          "name": "stderr",
          "output_type": "stream",
          "text": [
            "\rProcessing videos in dataset/Celeb-synthesis:  84%|████████▎ | 832/994 [03:57<00:55,  2.93it/s]"
          ]
        },
        {
          "name": "stdout",
          "output_type": "stream",
          "text": [
            "Extracted 20 frames from the first 10 seconds of dataset/Celeb-synthesis/id1_id0_0007.mp4\n"
          ]
        },
        {
          "name": "stderr",
          "output_type": "stream",
          "text": [
            "\rProcessing videos in dataset/Celeb-synthesis:  84%|████████▍ | 833/994 [03:57<01:02,  2.57it/s]"
          ]
        },
        {
          "name": "stdout",
          "output_type": "stream",
          "text": [
            "Extracted 20 frames from the first 10 seconds of dataset/Celeb-synthesis/id9_id17_0006.mp4\n"
          ]
        },
        {
          "name": "stderr",
          "output_type": "stream",
          "text": [
            "\rProcessing videos in dataset/Celeb-synthesis:  84%|████████▍ | 834/994 [03:58<01:04,  2.48it/s]"
          ]
        },
        {
          "name": "stdout",
          "output_type": "stream",
          "text": [
            "Extracted 20 frames from the first 10 seconds of dataset/Celeb-synthesis/id42_id43_0002.mp4\n"
          ]
        },
        {
          "name": "stderr",
          "output_type": "stream",
          "text": [
            "\rProcessing videos in dataset/Celeb-synthesis:  84%|████████▍ | 835/994 [03:58<01:00,  2.65it/s]"
          ]
        },
        {
          "name": "stdout",
          "output_type": "stream",
          "text": [
            "Extracted 20 frames from the first 10 seconds of dataset/Celeb-synthesis/id7_id10_0009.mp4\n"
          ]
        },
        {
          "name": "stderr",
          "output_type": "stream",
          "text": [
            "\rProcessing videos in dataset/Celeb-synthesis:  84%|████████▍ | 836/994 [03:58<00:54,  2.90it/s]"
          ]
        },
        {
          "name": "stdout",
          "output_type": "stream",
          "text": [
            "Extracted 20 frames from the first 10 seconds of dataset/Celeb-synthesis/id45_id40_0003.mp4\n"
          ]
        },
        {
          "name": "stderr",
          "output_type": "stream",
          "text": [
            "Processing videos in dataset/Celeb-synthesis:  84%|████████▍ | 838/994 [03:59<00:42,  3.63it/s]"
          ]
        },
        {
          "name": "stdout",
          "output_type": "stream",
          "text": [
            "Extracted 20 frames from the first 10 seconds of dataset/Celeb-synthesis/id49_id50_0006.mp4\n",
            "Extracted 20 frames from the first 10 seconds of dataset/Celeb-synthesis/id16_id1_0011.mp4\n"
          ]
        },
        {
          "name": "stderr",
          "output_type": "stream",
          "text": [
            "\rProcessing videos in dataset/Celeb-synthesis:  84%|████████▍ | 839/994 [03:59<00:42,  3.66it/s]"
          ]
        },
        {
          "name": "stdout",
          "output_type": "stream",
          "text": [
            "Extracted 20 frames from the first 10 seconds of dataset/Celeb-synthesis/id23_id1_0002.mp4\n"
          ]
        },
        {
          "name": "stderr",
          "output_type": "stream",
          "text": [
            "\rProcessing videos in dataset/Celeb-synthesis:  85%|████████▍ | 840/994 [03:59<00:42,  3.58it/s]"
          ]
        },
        {
          "name": "stdout",
          "output_type": "stream",
          "text": [
            "Extracted 20 frames from the first 10 seconds of dataset/Celeb-synthesis/id35_id3_0000.mp4\n"
          ]
        },
        {
          "name": "stderr",
          "output_type": "stream",
          "text": [
            "\rProcessing videos in dataset/Celeb-synthesis:  85%|████████▍ | 841/994 [04:00<00:40,  3.73it/s]"
          ]
        },
        {
          "name": "stdout",
          "output_type": "stream",
          "text": [
            "Extracted 20 frames from the first 10 seconds of dataset/Celeb-synthesis/id60_id5_0007.mp4\n"
          ]
        },
        {
          "name": "stderr",
          "output_type": "stream",
          "text": [
            "\rProcessing videos in dataset/Celeb-synthesis:  85%|████████▍ | 842/994 [04:00<00:42,  3.60it/s]"
          ]
        },
        {
          "name": "stdout",
          "output_type": "stream",
          "text": [
            "Extracted 20 frames from the first 10 seconds of dataset/Celeb-synthesis/id54_id51_0009.mp4\n"
          ]
        },
        {
          "name": "stderr",
          "output_type": "stream",
          "text": [
            "\rProcessing videos in dataset/Celeb-synthesis:  85%|████████▍ | 843/994 [04:00<00:42,  3.54it/s]"
          ]
        },
        {
          "name": "stdout",
          "output_type": "stream",
          "text": [
            "Extracted 20 frames from the first 10 seconds of dataset/Celeb-synthesis/id56_id50_0008.mp4\n"
          ]
        },
        {
          "name": "stderr",
          "output_type": "stream",
          "text": [
            "\rProcessing videos in dataset/Celeb-synthesis:  85%|████████▍ | 844/994 [04:00<00:40,  3.73it/s]"
          ]
        },
        {
          "name": "stdout",
          "output_type": "stream",
          "text": [
            "Extracted 20 frames from the first 10 seconds of dataset/Celeb-synthesis/id41_id45_0005.mp4\n"
          ]
        },
        {
          "name": "stderr",
          "output_type": "stream",
          "text": [
            "\rProcessing videos in dataset/Celeb-synthesis:  85%|████████▌ | 845/994 [04:01<00:39,  3.80it/s]"
          ]
        },
        {
          "name": "stdout",
          "output_type": "stream",
          "text": [
            "Extracted 20 frames from the first 10 seconds of dataset/Celeb-synthesis/id53_id49_0005.mp4\n"
          ]
        },
        {
          "name": "stderr",
          "output_type": "stream",
          "text": [
            "\rProcessing videos in dataset/Celeb-synthesis:  85%|████████▌ | 846/994 [04:01<00:40,  3.62it/s]"
          ]
        },
        {
          "name": "stdout",
          "output_type": "stream",
          "text": [
            "Extracted 20 frames from the first 10 seconds of dataset/Celeb-synthesis/id0_id1_0006.mp4\n"
          ]
        },
        {
          "name": "stderr",
          "output_type": "stream",
          "text": [
            "\rProcessing videos in dataset/Celeb-synthesis:  85%|████████▌ | 847/994 [04:01<00:39,  3.69it/s]"
          ]
        },
        {
          "name": "stdout",
          "output_type": "stream",
          "text": [
            "Extracted 20 frames from the first 10 seconds of dataset/Celeb-synthesis/id17_id1_0009.mp4\n"
          ]
        },
        {
          "name": "stderr",
          "output_type": "stream",
          "text": [
            "\rProcessing videos in dataset/Celeb-synthesis:  85%|████████▌ | 848/994 [04:02<00:40,  3.64it/s]"
          ]
        },
        {
          "name": "stdout",
          "output_type": "stream",
          "text": [
            "Extracted 20 frames from the first 10 seconds of dataset/Celeb-synthesis/id37_id3_0004.mp4\n"
          ]
        },
        {
          "name": "stderr",
          "output_type": "stream",
          "text": [
            "\rProcessing videos in dataset/Celeb-synthesis:  85%|████████▌ | 849/994 [04:02<00:39,  3.69it/s]"
          ]
        },
        {
          "name": "stdout",
          "output_type": "stream",
          "text": [
            "Extracted 20 frames from the first 10 seconds of dataset/Celeb-synthesis/id35_id1_0002.mp4\n"
          ]
        },
        {
          "name": "stderr",
          "output_type": "stream",
          "text": [
            "\rProcessing videos in dataset/Celeb-synthesis:  86%|████████▌ | 850/994 [04:02<00:37,  3.80it/s]"
          ]
        },
        {
          "name": "stdout",
          "output_type": "stream",
          "text": [
            "Extracted 20 frames from the first 10 seconds of dataset/Celeb-synthesis/id48_id45_0004.mp4\n"
          ]
        },
        {
          "name": "stderr",
          "output_type": "stream",
          "text": [
            "\rProcessing videos in dataset/Celeb-synthesis:  86%|████████▌ | 851/994 [04:02<00:37,  3.81it/s]"
          ]
        },
        {
          "name": "stdout",
          "output_type": "stream",
          "text": [
            "Extracted 20 frames from the first 10 seconds of dataset/Celeb-synthesis/id52_id49_0000.mp4\n"
          ]
        },
        {
          "name": "stderr",
          "output_type": "stream",
          "text": [
            "Processing videos in dataset/Celeb-synthesis:  86%|████████▌ | 853/994 [04:03<00:31,  4.52it/s]"
          ]
        },
        {
          "name": "stdout",
          "output_type": "stream",
          "text": [
            "Extracted 20 frames from the first 10 seconds of dataset/Celeb-synthesis/id17_id1_0002.mp4\n",
            "Extracted 20 frames from the first 10 seconds of dataset/Celeb-synthesis/id21_id9_0005.mp4\n"
          ]
        },
        {
          "name": "stderr",
          "output_type": "stream",
          "text": [
            "\rProcessing videos in dataset/Celeb-synthesis:  86%|████████▌ | 854/994 [04:03<00:35,  3.91it/s]"
          ]
        },
        {
          "name": "stdout",
          "output_type": "stream",
          "text": [
            "Extracted 20 frames from the first 10 seconds of dataset/Celeb-synthesis/id34_id29_0007.mp4\n"
          ]
        },
        {
          "name": "stderr",
          "output_type": "stream",
          "text": [
            "\rProcessing videos in dataset/Celeb-synthesis:  86%|████████▌ | 855/994 [04:03<00:37,  3.75it/s]"
          ]
        },
        {
          "name": "stdout",
          "output_type": "stream",
          "text": [
            "Extracted 20 frames from the first 10 seconds of dataset/Celeb-synthesis/id28_id4_0001.mp4\n"
          ]
        },
        {
          "name": "stderr",
          "output_type": "stream",
          "text": [
            "\rProcessing videos in dataset/Celeb-synthesis:  86%|████████▌ | 856/994 [04:04<00:38,  3.56it/s]"
          ]
        },
        {
          "name": "stdout",
          "output_type": "stream",
          "text": [
            "Extracted 20 frames from the first 10 seconds of dataset/Celeb-synthesis/id9_id16_0008.mp4\n"
          ]
        },
        {
          "name": "stderr",
          "output_type": "stream",
          "text": [
            "\rProcessing videos in dataset/Celeb-synthesis:  86%|████████▌ | 857/994 [04:04<00:38,  3.59it/s]"
          ]
        },
        {
          "name": "stdout",
          "output_type": "stream",
          "text": [
            "Extracted 20 frames from the first 10 seconds of dataset/Celeb-synthesis/id32_id21_0002.mp4\n"
          ]
        },
        {
          "name": "stderr",
          "output_type": "stream",
          "text": [
            "Processing videos in dataset/Celeb-synthesis:  86%|████████▋ | 859/994 [04:04<00:35,  3.78it/s]"
          ]
        },
        {
          "name": "stdout",
          "output_type": "stream",
          "text": [
            "Extracted 20 frames from the first 10 seconds of dataset/Celeb-synthesis/id7_id10_0003.mp4\n",
            "Extracted 20 frames from the first 10 seconds of dataset/Celeb-synthesis/id40_id39_0001.mp4\n"
          ]
        },
        {
          "name": "stderr",
          "output_type": "stream",
          "text": [
            "\rProcessing videos in dataset/Celeb-synthesis:  87%|████████▋ | 860/994 [04:05<00:33,  3.94it/s]"
          ]
        },
        {
          "name": "stdout",
          "output_type": "stream",
          "text": [
            "Extracted 20 frames from the first 10 seconds of dataset/Celeb-synthesis/id47_id39_0004.mp4\n"
          ]
        },
        {
          "name": "stderr",
          "output_type": "stream",
          "text": [
            "\rProcessing videos in dataset/Celeb-synthesis:  87%|████████▋ | 861/994 [04:05<00:35,  3.73it/s]"
          ]
        },
        {
          "name": "stdout",
          "output_type": "stream",
          "text": [
            "Extracted 20 frames from the first 10 seconds of dataset/Celeb-synthesis/id0_id1_0009.mp4\n"
          ]
        },
        {
          "name": "stderr",
          "output_type": "stream",
          "text": [
            "\rProcessing videos in dataset/Celeb-synthesis:  87%|████████▋ | 862/994 [04:05<00:34,  3.83it/s]"
          ]
        },
        {
          "name": "stdout",
          "output_type": "stream",
          "text": [
            "Extracted 20 frames from the first 10 seconds of dataset/Celeb-synthesis/id56_id50_0005.mp4\n"
          ]
        },
        {
          "name": "stderr",
          "output_type": "stream",
          "text": [
            "\rProcessing videos in dataset/Celeb-synthesis:  87%|████████▋ | 863/994 [04:05<00:34,  3.78it/s]"
          ]
        },
        {
          "name": "stdout",
          "output_type": "stream",
          "text": [
            "Extracted 20 frames from the first 10 seconds of dataset/Celeb-synthesis/id34_id26_0002.mp4\n"
          ]
        },
        {
          "name": "stderr",
          "output_type": "stream",
          "text": [
            "\rProcessing videos in dataset/Celeb-synthesis:  87%|████████▋ | 864/994 [04:06<00:34,  3.75it/s]"
          ]
        },
        {
          "name": "stdout",
          "output_type": "stream",
          "text": [
            "Extracted 20 frames from the first 10 seconds of dataset/Celeb-synthesis/id32_id20_0008.mp4\n"
          ]
        },
        {
          "name": "stderr",
          "output_type": "stream",
          "text": [
            "\rProcessing videos in dataset/Celeb-synthesis:  87%|████████▋ | 865/994 [04:06<00:35,  3.68it/s]"
          ]
        },
        {
          "name": "stdout",
          "output_type": "stream",
          "text": [
            "Extracted 20 frames from the first 10 seconds of dataset/Celeb-synthesis/id39_id42_0004.mp4\n"
          ]
        },
        {
          "name": "stderr",
          "output_type": "stream",
          "text": [
            "\rProcessing videos in dataset/Celeb-synthesis:  87%|████████▋ | 866/994 [04:06<00:35,  3.64it/s]"
          ]
        },
        {
          "name": "stdout",
          "output_type": "stream",
          "text": [
            "Extracted 20 frames from the first 10 seconds of dataset/Celeb-synthesis/id54_id51_0000.mp4\n"
          ]
        },
        {
          "name": "stderr",
          "output_type": "stream",
          "text": [
            "Processing videos in dataset/Celeb-synthesis:  87%|████████▋ | 868/994 [04:07<00:32,  3.91it/s]"
          ]
        },
        {
          "name": "stdout",
          "output_type": "stream",
          "text": [
            "Extracted 20 frames from the first 10 seconds of dataset/Celeb-synthesis/id13_id7_0008.mp4\n",
            "Extracted 20 frames from the first 10 seconds of dataset/Celeb-synthesis/id2_id0_0004.mp4\n"
          ]
        },
        {
          "name": "stderr",
          "output_type": "stream",
          "text": [
            "\rProcessing videos in dataset/Celeb-synthesis:  87%|████████▋ | 869/994 [04:07<00:32,  3.90it/s]"
          ]
        },
        {
          "name": "stdout",
          "output_type": "stream",
          "text": [
            "Extracted 20 frames from the first 10 seconds of dataset/Celeb-synthesis/id48_id45_0009.mp4\n"
          ]
        },
        {
          "name": "stderr",
          "output_type": "stream",
          "text": [
            "\rProcessing videos in dataset/Celeb-synthesis:  88%|████████▊ | 870/994 [04:07<00:31,  3.90it/s]"
          ]
        },
        {
          "name": "stdout",
          "output_type": "stream",
          "text": [
            "Extracted 20 frames from the first 10 seconds of dataset/Celeb-synthesis/id56_id49_0005.mp4\n"
          ]
        },
        {
          "name": "stderr",
          "output_type": "stream",
          "text": [
            "\rProcessing videos in dataset/Celeb-synthesis:  88%|████████▊ | 871/994 [04:08<00:30,  4.02it/s]"
          ]
        },
        {
          "name": "stdout",
          "output_type": "stream",
          "text": [
            "Extracted 20 frames from the first 10 seconds of dataset/Celeb-synthesis/id50_id49_0005.mp4\n"
          ]
        },
        {
          "name": "stderr",
          "output_type": "stream",
          "text": [
            "\rProcessing videos in dataset/Celeb-synthesis:  88%|████████▊ | 872/994 [04:08<00:31,  3.90it/s]"
          ]
        },
        {
          "name": "stdout",
          "output_type": "stream",
          "text": [
            "Extracted 20 frames from the first 10 seconds of dataset/Celeb-synthesis/id31_id2_0005.mp4\n"
          ]
        },
        {
          "name": "stderr",
          "output_type": "stream",
          "text": [
            "\rProcessing videos in dataset/Celeb-synthesis:  88%|████████▊ | 873/994 [04:08<00:35,  3.36it/s]"
          ]
        },
        {
          "name": "stdout",
          "output_type": "stream",
          "text": [
            "Extracted 20 frames from the first 10 seconds of dataset/Celeb-synthesis/id51_id50_0002.mp4\n"
          ]
        },
        {
          "name": "stderr",
          "output_type": "stream",
          "text": [
            "\rProcessing videos in dataset/Celeb-synthesis:  88%|████████▊ | 874/994 [04:09<00:40,  2.95it/s]"
          ]
        },
        {
          "name": "stdout",
          "output_type": "stream",
          "text": [
            "Extracted 20 frames from the first 10 seconds of dataset/Celeb-synthesis/id7_id11_0004.mp4\n"
          ]
        },
        {
          "name": "stderr",
          "output_type": "stream",
          "text": [
            "\rProcessing videos in dataset/Celeb-synthesis:  88%|████████▊ | 875/994 [04:09<00:43,  2.71it/s]"
          ]
        },
        {
          "name": "stdout",
          "output_type": "stream",
          "text": [
            "Extracted 20 frames from the first 10 seconds of dataset/Celeb-synthesis/id29_id28_0008.mp4\n"
          ]
        },
        {
          "name": "stderr",
          "output_type": "stream",
          "text": [
            "\rProcessing videos in dataset/Celeb-synthesis:  88%|████████▊ | 876/994 [04:10<00:45,  2.58it/s]"
          ]
        },
        {
          "name": "stdout",
          "output_type": "stream",
          "text": [
            "Extracted 20 frames from the first 10 seconds of dataset/Celeb-synthesis/id41_id45_0001.mp4\n"
          ]
        },
        {
          "name": "stderr",
          "output_type": "stream",
          "text": [
            "\rProcessing videos in dataset/Celeb-synthesis:  88%|████████▊ | 877/994 [04:10<00:48,  2.40it/s]"
          ]
        },
        {
          "name": "stdout",
          "output_type": "stream",
          "text": [
            "Extracted 20 frames from the first 10 seconds of dataset/Celeb-synthesis/id29_id26_0004.mp4\n"
          ]
        },
        {
          "name": "stderr",
          "output_type": "stream",
          "text": [
            "\rProcessing videos in dataset/Celeb-synthesis:  88%|████████▊ | 878/994 [04:10<00:49,  2.34it/s]"
          ]
        },
        {
          "name": "stdout",
          "output_type": "stream",
          "text": [
            "Extracted 20 frames from the first 10 seconds of dataset/Celeb-synthesis/id55_id51_0001.mp4\n"
          ]
        },
        {
          "name": "stderr",
          "output_type": "stream",
          "text": [
            "\rProcessing videos in dataset/Celeb-synthesis:  88%|████████▊ | 879/994 [04:11<00:49,  2.34it/s]"
          ]
        },
        {
          "name": "stdout",
          "output_type": "stream",
          "text": [
            "Extracted 20 frames from the first 10 seconds of dataset/Celeb-synthesis/id57_id53_0008.mp4\n"
          ]
        },
        {
          "name": "stderr",
          "output_type": "stream",
          "text": [
            "\rProcessing videos in dataset/Celeb-synthesis:  89%|████████▊ | 880/994 [04:11<00:46,  2.44it/s]"
          ]
        },
        {
          "name": "stdout",
          "output_type": "stream",
          "text": [
            "Extracted 20 frames from the first 10 seconds of dataset/Celeb-synthesis/id60_id59_0001.mp4\n"
          ]
        },
        {
          "name": "stderr",
          "output_type": "stream",
          "text": [
            "\rProcessing videos in dataset/Celeb-synthesis:  89%|████████▊ | 881/994 [04:12<00:41,  2.75it/s]"
          ]
        },
        {
          "name": "stdout",
          "output_type": "stream",
          "text": [
            "Extracted 20 frames from the first 10 seconds of dataset/Celeb-synthesis/id38_id23_0001.mp4\n"
          ]
        },
        {
          "name": "stderr",
          "output_type": "stream",
          "text": [
            "\rProcessing videos in dataset/Celeb-synthesis:  89%|████████▊ | 882/994 [04:12<00:37,  3.02it/s]"
          ]
        },
        {
          "name": "stdout",
          "output_type": "stream",
          "text": [
            "Extracted 20 frames from the first 10 seconds of dataset/Celeb-synthesis/id41_id45_0003.mp4\n"
          ]
        },
        {
          "name": "stderr",
          "output_type": "stream",
          "text": [
            "\rProcessing videos in dataset/Celeb-synthesis:  89%|████████▉ | 883/994 [04:12<00:34,  3.20it/s]"
          ]
        },
        {
          "name": "stdout",
          "output_type": "stream",
          "text": [
            "Extracted 20 frames from the first 10 seconds of dataset/Celeb-synthesis/id28_id3_0003.mp4\n"
          ]
        },
        {
          "name": "stderr",
          "output_type": "stream",
          "text": [
            "\rProcessing videos in dataset/Celeb-synthesis:  89%|████████▉ | 884/994 [04:12<00:33,  3.31it/s]"
          ]
        },
        {
          "name": "stdout",
          "output_type": "stream",
          "text": [
            "Extracted 20 frames from the first 10 seconds of dataset/Celeb-synthesis/id7_id10_0001.mp4\n"
          ]
        },
        {
          "name": "stderr",
          "output_type": "stream",
          "text": [
            "\rProcessing videos in dataset/Celeb-synthesis:  89%|████████▉ | 885/994 [04:13<00:32,  3.36it/s]"
          ]
        },
        {
          "name": "stdout",
          "output_type": "stream",
          "text": [
            "Extracted 20 frames from the first 10 seconds of dataset/Celeb-synthesis/id49_id50_0005.mp4\n"
          ]
        },
        {
          "name": "stderr",
          "output_type": "stream",
          "text": [
            "\rProcessing videos in dataset/Celeb-synthesis:  89%|████████▉ | 886/994 [04:13<00:30,  3.51it/s]"
          ]
        },
        {
          "name": "stdout",
          "output_type": "stream",
          "text": [
            "Extracted 20 frames from the first 10 seconds of dataset/Celeb-synthesis/id28_id3_0007.mp4\n"
          ]
        },
        {
          "name": "stderr",
          "output_type": "stream",
          "text": [
            "\rProcessing videos in dataset/Celeb-synthesis:  89%|████████▉ | 887/994 [04:13<00:30,  3.50it/s]"
          ]
        },
        {
          "name": "stdout",
          "output_type": "stream",
          "text": [
            "Extracted 20 frames from the first 10 seconds of dataset/Celeb-synthesis/id45_id40_0000.mp4\n"
          ]
        },
        {
          "name": "stderr",
          "output_type": "stream",
          "text": [
            "\rProcessing videos in dataset/Celeb-synthesis:  89%|████████▉ | 888/994 [04:13<00:29,  3.56it/s]"
          ]
        },
        {
          "name": "stdout",
          "output_type": "stream",
          "text": [
            "Extracted 20 frames from the first 10 seconds of dataset/Celeb-synthesis/id51_id50_0007.mp4\n"
          ]
        },
        {
          "name": "stderr",
          "output_type": "stream",
          "text": [
            "\rProcessing videos in dataset/Celeb-synthesis:  89%|████████▉ | 889/994 [04:14<00:29,  3.59it/s]"
          ]
        },
        {
          "name": "stdout",
          "output_type": "stream",
          "text": [
            "Extracted 20 frames from the first 10 seconds of dataset/Celeb-synthesis/id23_id0_0008.mp4\n"
          ]
        },
        {
          "name": "stderr",
          "output_type": "stream",
          "text": [
            "\rProcessing videos in dataset/Celeb-synthesis:  90%|████████▉ | 890/994 [04:14<00:29,  3.54it/s]"
          ]
        },
        {
          "name": "stdout",
          "output_type": "stream",
          "text": [
            "Extracted 20 frames from the first 10 seconds of dataset/Celeb-synthesis/id58_id54_0006.mp4\n"
          ]
        },
        {
          "name": "stderr",
          "output_type": "stream",
          "text": [
            "\rProcessing videos in dataset/Celeb-synthesis:  90%|████████▉ | 891/994 [04:14<00:29,  3.55it/s]"
          ]
        },
        {
          "name": "stdout",
          "output_type": "stream",
          "text": [
            "Extracted 20 frames from the first 10 seconds of dataset/Celeb-synthesis/id4_id2_0002.mp4\n"
          ]
        },
        {
          "name": "stderr",
          "output_type": "stream",
          "text": [
            "\rProcessing videos in dataset/Celeb-synthesis:  90%|████████▉ | 892/994 [04:15<00:28,  3.64it/s]"
          ]
        },
        {
          "name": "stdout",
          "output_type": "stream",
          "text": [
            "Extracted 20 frames from the first 10 seconds of dataset/Celeb-synthesis/id55_id51_0009.mp4\n"
          ]
        },
        {
          "name": "stderr",
          "output_type": "stream",
          "text": [
            "\rProcessing videos in dataset/Celeb-synthesis:  90%|████████▉ | 893/994 [04:15<00:30,  3.31it/s]"
          ]
        },
        {
          "name": "stdout",
          "output_type": "stream",
          "text": [
            "Extracted 20 frames from the first 10 seconds of dataset/Celeb-synthesis/id6_id3_0003.mp4\n"
          ]
        },
        {
          "name": "stderr",
          "output_type": "stream",
          "text": [
            "\rProcessing videos in dataset/Celeb-synthesis:  90%|████████▉ | 894/994 [04:15<00:29,  3.43it/s]"
          ]
        },
        {
          "name": "stdout",
          "output_type": "stream",
          "text": [
            "Extracted 20 frames from the first 10 seconds of dataset/Celeb-synthesis/id32_id20_0007.mp4\n"
          ]
        },
        {
          "name": "stderr",
          "output_type": "stream",
          "text": [
            "Processing videos in dataset/Celeb-synthesis:  90%|█████████ | 896/994 [04:16<00:24,  4.03it/s]"
          ]
        },
        {
          "name": "stdout",
          "output_type": "stream",
          "text": [
            "Extracted 20 frames from the first 10 seconds of dataset/Celeb-synthesis/id22_id19_0006.mp4\n",
            "Extracted 20 frames from the first 10 seconds of dataset/Celeb-synthesis/id26_id17_0005.mp4\n"
          ]
        },
        {
          "name": "stderr",
          "output_type": "stream",
          "text": [
            "\rProcessing videos in dataset/Celeb-synthesis:  90%|█████████ | 897/994 [04:16<00:23,  4.12it/s]"
          ]
        },
        {
          "name": "stdout",
          "output_type": "stream",
          "text": [
            "Extracted 20 frames from the first 10 seconds of dataset/Celeb-synthesis/id2_id0_0002.mp4\n"
          ]
        },
        {
          "name": "stderr",
          "output_type": "stream",
          "text": [
            "\rProcessing videos in dataset/Celeb-synthesis:  90%|█████████ | 898/994 [04:16<00:24,  3.97it/s]"
          ]
        },
        {
          "name": "stdout",
          "output_type": "stream",
          "text": [
            "Extracted 20 frames from the first 10 seconds of dataset/Celeb-synthesis/id51_id50_0005.mp4\n"
          ]
        },
        {
          "name": "stderr",
          "output_type": "stream",
          "text": [
            "\rProcessing videos in dataset/Celeb-synthesis:  90%|█████████ | 899/994 [04:16<00:25,  3.75it/s]"
          ]
        },
        {
          "name": "stdout",
          "output_type": "stream",
          "text": [
            "Extracted 20 frames from the first 10 seconds of dataset/Celeb-synthesis/id9_id16_0009.mp4\n"
          ]
        },
        {
          "name": "stderr",
          "output_type": "stream",
          "text": [
            "\rProcessing videos in dataset/Celeb-synthesis:  91%|█████████ | 900/994 [04:17<00:25,  3.62it/s]"
          ]
        },
        {
          "name": "stdout",
          "output_type": "stream",
          "text": [
            "Extracted 20 frames from the first 10 seconds of dataset/Celeb-synthesis/id4_id2_0009.mp4\n"
          ]
        },
        {
          "name": "stderr",
          "output_type": "stream",
          "text": [
            "\rProcessing videos in dataset/Celeb-synthesis:  91%|█████████ | 901/994 [04:17<00:26,  3.58it/s]"
          ]
        },
        {
          "name": "stdout",
          "output_type": "stream",
          "text": [
            "Extracted 20 frames from the first 10 seconds of dataset/Celeb-synthesis/id4_id2_0003.mp4\n"
          ]
        },
        {
          "name": "stderr",
          "output_type": "stream",
          "text": [
            "\rProcessing videos in dataset/Celeb-synthesis:  91%|█████████ | 902/994 [04:17<00:25,  3.57it/s]"
          ]
        },
        {
          "name": "stdout",
          "output_type": "stream",
          "text": [
            "Extracted 20 frames from the first 10 seconds of dataset/Celeb-synthesis/id33_id31_0009.mp4\n"
          ]
        },
        {
          "name": "stderr",
          "output_type": "stream",
          "text": [
            "\rProcessing videos in dataset/Celeb-synthesis:  91%|█████████ | 903/994 [04:18<00:25,  3.60it/s]"
          ]
        },
        {
          "name": "stdout",
          "output_type": "stream",
          "text": [
            "Extracted 20 frames from the first 10 seconds of dataset/Celeb-synthesis/id51_id50_0008.mp4\n"
          ]
        },
        {
          "name": "stderr",
          "output_type": "stream",
          "text": [
            "\rProcessing videos in dataset/Celeb-synthesis:  91%|█████████ | 904/994 [04:18<00:25,  3.55it/s]"
          ]
        },
        {
          "name": "stdout",
          "output_type": "stream",
          "text": [
            "Extracted 20 frames from the first 10 seconds of dataset/Celeb-synthesis/id8_id9_0002.mp4\n"
          ]
        },
        {
          "name": "stderr",
          "output_type": "stream",
          "text": [
            "\rProcessing videos in dataset/Celeb-synthesis:  91%|█████████ | 905/994 [04:18<00:24,  3.66it/s]"
          ]
        },
        {
          "name": "stdout",
          "output_type": "stream",
          "text": [
            "Extracted 20 frames from the first 10 seconds of dataset/Celeb-synthesis/id39_id43_0009.mp4\n"
          ]
        },
        {
          "name": "stderr",
          "output_type": "stream",
          "text": [
            "\rProcessing videos in dataset/Celeb-synthesis:  91%|█████████ | 906/994 [04:18<00:23,  3.76it/s]"
          ]
        },
        {
          "name": "stdout",
          "output_type": "stream",
          "text": [
            "Extracted 20 frames from the first 10 seconds of dataset/Celeb-synthesis/id41_id46_0006.mp4\n"
          ]
        },
        {
          "name": "stderr",
          "output_type": "stream",
          "text": [
            "\rProcessing videos in dataset/Celeb-synthesis:  91%|█████████ | 907/994 [04:19<00:22,  3.82it/s]"
          ]
        },
        {
          "name": "stdout",
          "output_type": "stream",
          "text": [
            "Extracted 20 frames from the first 10 seconds of dataset/Celeb-synthesis/id57_id53_0006.mp4\n"
          ]
        },
        {
          "name": "stderr",
          "output_type": "stream",
          "text": [
            "\rProcessing videos in dataset/Celeb-synthesis:  91%|█████████▏| 908/994 [04:19<00:23,  3.73it/s]"
          ]
        },
        {
          "name": "stdout",
          "output_type": "stream",
          "text": [
            "Extracted 20 frames from the first 10 seconds of dataset/Celeb-synthesis/id57_id52_0005.mp4\n"
          ]
        },
        {
          "name": "stderr",
          "output_type": "stream",
          "text": [
            "\rProcessing videos in dataset/Celeb-synthesis:  91%|█████████▏| 909/994 [04:19<00:22,  3.72it/s]"
          ]
        },
        {
          "name": "stdout",
          "output_type": "stream",
          "text": [
            "Extracted 20 frames from the first 10 seconds of dataset/Celeb-synthesis/id34_id29_0003.mp4\n"
          ]
        },
        {
          "name": "stderr",
          "output_type": "stream",
          "text": [
            "\rProcessing videos in dataset/Celeb-synthesis:  92%|█████████▏| 910/994 [04:19<00:22,  3.72it/s]"
          ]
        },
        {
          "name": "stdout",
          "output_type": "stream",
          "text": [
            "Extracted 20 frames from the first 10 seconds of dataset/Celeb-synthesis/id43_id39_0000.mp4\n"
          ]
        },
        {
          "name": "stderr",
          "output_type": "stream",
          "text": [
            "\rProcessing videos in dataset/Celeb-synthesis:  92%|█████████▏| 911/994 [04:20<00:22,  3.74it/s]"
          ]
        },
        {
          "name": "stdout",
          "output_type": "stream",
          "text": [
            "Extracted 20 frames from the first 10 seconds of dataset/Celeb-synthesis/id53_id49_0003.mp4\n"
          ]
        },
        {
          "name": "stderr",
          "output_type": "stream",
          "text": [
            "\rProcessing videos in dataset/Celeb-synthesis:  92%|█████████▏| 912/994 [04:20<00:21,  3.86it/s]"
          ]
        },
        {
          "name": "stdout",
          "output_type": "stream",
          "text": [
            "Extracted 20 frames from the first 10 seconds of dataset/Celeb-synthesis/id25_id22_0003.mp4\n"
          ]
        },
        {
          "name": "stderr",
          "output_type": "stream",
          "text": [
            "\rProcessing videos in dataset/Celeb-synthesis:  92%|█████████▏| 913/994 [04:20<00:19,  4.08it/s]"
          ]
        },
        {
          "name": "stdout",
          "output_type": "stream",
          "text": [
            "Extracted 20 frames from the first 10 seconds of dataset/Celeb-synthesis/id20_id6_0008.mp4\n"
          ]
        },
        {
          "name": "stderr",
          "output_type": "stream",
          "text": [
            "\rProcessing videos in dataset/Celeb-synthesis:  92%|█████████▏| 914/994 [04:20<00:20,  3.91it/s]"
          ]
        },
        {
          "name": "stdout",
          "output_type": "stream",
          "text": [
            "Extracted 20 frames from the first 10 seconds of dataset/Celeb-synthesis/id50_id49_0000.mp4\n"
          ]
        },
        {
          "name": "stderr",
          "output_type": "stream",
          "text": [
            "\rProcessing videos in dataset/Celeb-synthesis:  92%|█████████▏| 915/994 [04:21<00:20,  3.83it/s]"
          ]
        },
        {
          "name": "stdout",
          "output_type": "stream",
          "text": [
            "Extracted 20 frames from the first 10 seconds of dataset/Celeb-synthesis/id37_id3_0008.mp4\n"
          ]
        },
        {
          "name": "stderr",
          "output_type": "stream",
          "text": [
            "\rProcessing videos in dataset/Celeb-synthesis:  92%|█████████▏| 916/994 [04:21<00:20,  3.81it/s]"
          ]
        },
        {
          "name": "stdout",
          "output_type": "stream",
          "text": [
            "Extracted 20 frames from the first 10 seconds of dataset/Celeb-synthesis/id50_id49_0001.mp4\n"
          ]
        },
        {
          "name": "stderr",
          "output_type": "stream",
          "text": [
            "\rProcessing videos in dataset/Celeb-synthesis:  92%|█████████▏| 917/994 [04:21<00:22,  3.44it/s]"
          ]
        },
        {
          "name": "stdout",
          "output_type": "stream",
          "text": [
            "Extracted 20 frames from the first 10 seconds of dataset/Celeb-synthesis/id5_id60_0003.mp4\n"
          ]
        },
        {
          "name": "stderr",
          "output_type": "stream",
          "text": [
            "\rProcessing videos in dataset/Celeb-synthesis:  92%|█████████▏| 918/994 [04:22<00:25,  2.94it/s]"
          ]
        },
        {
          "name": "stdout",
          "output_type": "stream",
          "text": [
            "Extracted 20 frames from the first 10 seconds of dataset/Celeb-synthesis/id51_id49_0001.mp4\n"
          ]
        },
        {
          "name": "stderr",
          "output_type": "stream",
          "text": [
            "\rProcessing videos in dataset/Celeb-synthesis:  92%|█████████▏| 919/994 [04:22<00:28,  2.64it/s]"
          ]
        },
        {
          "name": "stdout",
          "output_type": "stream",
          "text": [
            "Extracted 20 frames from the first 10 seconds of dataset/Celeb-synthesis/id4_id1_0001.mp4\n"
          ]
        },
        {
          "name": "stderr",
          "output_type": "stream",
          "text": [
            "\rProcessing videos in dataset/Celeb-synthesis:  93%|█████████▎| 920/994 [04:23<00:28,  2.60it/s]"
          ]
        },
        {
          "name": "stdout",
          "output_type": "stream",
          "text": [
            "Extracted 20 frames from the first 10 seconds of dataset/Celeb-synthesis/id59_id60_0005.mp4\n"
          ]
        },
        {
          "name": "stderr",
          "output_type": "stream",
          "text": [
            "\rProcessing videos in dataset/Celeb-synthesis:  93%|█████████▎| 921/994 [04:23<00:30,  2.43it/s]"
          ]
        },
        {
          "name": "stdout",
          "output_type": "stream",
          "text": [
            "Extracted 20 frames from the first 10 seconds of dataset/Celeb-synthesis/id16_id1_0001.mp4\n"
          ]
        },
        {
          "name": "stderr",
          "output_type": "stream",
          "text": [
            "\rProcessing videos in dataset/Celeb-synthesis:  93%|█████████▎| 922/994 [04:24<00:31,  2.30it/s]"
          ]
        },
        {
          "name": "stdout",
          "output_type": "stream",
          "text": [
            "Extracted 20 frames from the first 10 seconds of dataset/Celeb-synthesis/id0_id1_0005.mp4\n"
          ]
        },
        {
          "name": "stderr",
          "output_type": "stream",
          "text": [
            "\rProcessing videos in dataset/Celeb-synthesis:  93%|█████████▎| 923/994 [04:24<00:30,  2.36it/s]"
          ]
        },
        {
          "name": "stdout",
          "output_type": "stream",
          "text": [
            "Extracted 20 frames from the first 10 seconds of dataset/Celeb-synthesis/id44_id39_0004.mp4\n"
          ]
        },
        {
          "name": "stderr",
          "output_type": "stream",
          "text": [
            "\rProcessing videos in dataset/Celeb-synthesis:  93%|█████████▎| 924/994 [04:24<00:30,  2.28it/s]"
          ]
        },
        {
          "name": "stdout",
          "output_type": "stream",
          "text": [
            "Extracted 20 frames from the first 10 seconds of dataset/Celeb-synthesis/id10_id7_0004.mp4\n"
          ]
        },
        {
          "name": "stderr",
          "output_type": "stream",
          "text": [
            "\rProcessing videos in dataset/Celeb-synthesis:  93%|█████████▎| 925/994 [04:25<00:28,  2.46it/s]"
          ]
        },
        {
          "name": "stdout",
          "output_type": "stream",
          "text": [
            "Extracted 20 frames from the first 10 seconds of dataset/Celeb-synthesis/id3_id20_0006.mp4\n"
          ]
        },
        {
          "name": "stderr",
          "output_type": "stream",
          "text": [
            "\rProcessing videos in dataset/Celeb-synthesis:  93%|█████████▎| 926/994 [04:25<00:24,  2.75it/s]"
          ]
        },
        {
          "name": "stdout",
          "output_type": "stream",
          "text": [
            "Extracted 20 frames from the first 10 seconds of dataset/Celeb-synthesis/id23_id0_0007.mp4\n"
          ]
        },
        {
          "name": "stderr",
          "output_type": "stream",
          "text": [
            "\rProcessing videos in dataset/Celeb-synthesis:  93%|█████████▎| 927/994 [04:25<00:21,  3.10it/s]"
          ]
        },
        {
          "name": "stdout",
          "output_type": "stream",
          "text": [
            "Extracted 20 frames from the first 10 seconds of dataset/Celeb-synthesis/id21_id9_0007.mp4\n"
          ]
        },
        {
          "name": "stderr",
          "output_type": "stream",
          "text": [
            "\rProcessing videos in dataset/Celeb-synthesis:  93%|█████████▎| 928/994 [04:26<00:20,  3.29it/s]"
          ]
        },
        {
          "name": "stdout",
          "output_type": "stream",
          "text": [
            "Extracted 20 frames from the first 10 seconds of dataset/Celeb-synthesis/id21_id9_0009.mp4\n"
          ]
        },
        {
          "name": "stderr",
          "output_type": "stream",
          "text": [
            "\rProcessing videos in dataset/Celeb-synthesis:  93%|█████████▎| 929/994 [04:26<00:18,  3.52it/s]"
          ]
        },
        {
          "name": "stdout",
          "output_type": "stream",
          "text": [
            "Extracted 20 frames from the first 10 seconds of dataset/Celeb-synthesis/id25_id20_0003.mp4\n"
          ]
        },
        {
          "name": "stderr",
          "output_type": "stream",
          "text": [
            "\rProcessing videos in dataset/Celeb-synthesis:  94%|█████████▎| 930/994 [04:26<00:18,  3.49it/s]"
          ]
        },
        {
          "name": "stdout",
          "output_type": "stream",
          "text": [
            "Extracted 20 frames from the first 10 seconds of dataset/Celeb-synthesis/id34_id23_0008.mp4\n"
          ]
        },
        {
          "name": "stderr",
          "output_type": "stream",
          "text": [
            "\rProcessing videos in dataset/Celeb-synthesis:  94%|█████████▎| 931/994 [04:26<00:18,  3.40it/s]"
          ]
        },
        {
          "name": "stdout",
          "output_type": "stream",
          "text": [
            "Extracted 20 frames from the first 10 seconds of dataset/Celeb-synthesis/id0_id1_0001.mp4\n"
          ]
        },
        {
          "name": "stderr",
          "output_type": "stream",
          "text": [
            "\rProcessing videos in dataset/Celeb-synthesis:  94%|█████████▍| 932/994 [04:27<00:18,  3.28it/s]"
          ]
        },
        {
          "name": "stdout",
          "output_type": "stream",
          "text": [
            "Extracted 20 frames from the first 10 seconds of dataset/Celeb-synthesis/id11_id7_0005.mp4\n"
          ]
        },
        {
          "name": "stderr",
          "output_type": "stream",
          "text": [
            "\rProcessing videos in dataset/Celeb-synthesis:  94%|█████████▍| 933/994 [04:27<00:17,  3.44it/s]"
          ]
        },
        {
          "name": "stdout",
          "output_type": "stream",
          "text": [
            "Extracted 20 frames from the first 10 seconds of dataset/Celeb-synthesis/id26_id17_0006.mp4\n"
          ]
        },
        {
          "name": "stderr",
          "output_type": "stream",
          "text": [
            "\rProcessing videos in dataset/Celeb-synthesis:  94%|█████████▍| 934/994 [04:27<00:17,  3.36it/s]"
          ]
        },
        {
          "name": "stdout",
          "output_type": "stream",
          "text": [
            "Extracted 20 frames from the first 10 seconds of dataset/Celeb-synthesis/id5_id60_0000.mp4\n"
          ]
        },
        {
          "name": "stderr",
          "output_type": "stream",
          "text": [
            "\rProcessing videos in dataset/Celeb-synthesis:  94%|█████████▍| 935/994 [04:28<00:17,  3.42it/s]"
          ]
        },
        {
          "name": "stdout",
          "output_type": "stream",
          "text": [
            "Extracted 20 frames from the first 10 seconds of dataset/Celeb-synthesis/id57_id53_0007.mp4\n"
          ]
        },
        {
          "name": "stderr",
          "output_type": "stream",
          "text": [
            "\rProcessing videos in dataset/Celeb-synthesis:  94%|█████████▍| 936/994 [04:28<00:16,  3.61it/s]"
          ]
        },
        {
          "name": "stdout",
          "output_type": "stream",
          "text": [
            "Extracted 20 frames from the first 10 seconds of dataset/Celeb-synthesis/id24_id21_0005.mp4\n"
          ]
        },
        {
          "name": "stderr",
          "output_type": "stream",
          "text": [
            "\rProcessing videos in dataset/Celeb-synthesis:  94%|█████████▍| 937/994 [04:28<00:15,  3.58it/s]"
          ]
        },
        {
          "name": "stdout",
          "output_type": "stream",
          "text": [
            "Extracted 20 frames from the first 10 seconds of dataset/Celeb-synthesis/id16_id1_0012.mp4\n"
          ]
        },
        {
          "name": "stderr",
          "output_type": "stream",
          "text": [
            "\rProcessing videos in dataset/Celeb-synthesis:  94%|█████████▍| 938/994 [04:28<00:15,  3.60it/s]"
          ]
        },
        {
          "name": "stdout",
          "output_type": "stream",
          "text": [
            "Extracted 20 frames from the first 10 seconds of dataset/Celeb-synthesis/id45_id39_0002.mp4\n"
          ]
        },
        {
          "name": "stderr",
          "output_type": "stream",
          "text": [
            "Processing videos in dataset/Celeb-synthesis:  95%|█████████▍| 940/994 [04:29<00:14,  3.84it/s]"
          ]
        },
        {
          "name": "stdout",
          "output_type": "stream",
          "text": [
            "Extracted 20 frames from the first 10 seconds of dataset/Celeb-synthesis/id10_id7_0002.mp4\n",
            "Extracted 20 frames from the first 10 seconds of dataset/Celeb-synthesis/id1_id26_0000.mp4\n"
          ]
        },
        {
          "name": "stderr",
          "output_type": "stream",
          "text": [
            "\rProcessing videos in dataset/Celeb-synthesis:  95%|█████████▍| 941/994 [04:29<00:12,  4.11it/s]"
          ]
        },
        {
          "name": "stdout",
          "output_type": "stream",
          "text": [
            "Extracted 20 frames from the first 10 seconds of dataset/Celeb-synthesis/id3_id9_0002.mp4\n"
          ]
        },
        {
          "name": "stderr",
          "output_type": "stream",
          "text": [
            "\rProcessing videos in dataset/Celeb-synthesis:  95%|█████████▍| 942/994 [04:29<00:12,  4.03it/s]"
          ]
        },
        {
          "name": "stdout",
          "output_type": "stream",
          "text": [
            "Extracted 20 frames from the first 10 seconds of dataset/Celeb-synthesis/id45_id40_0009.mp4\n"
          ]
        },
        {
          "name": "stderr",
          "output_type": "stream",
          "text": [
            "\rProcessing videos in dataset/Celeb-synthesis:  95%|█████████▍| 943/994 [04:30<00:12,  3.97it/s]"
          ]
        },
        {
          "name": "stdout",
          "output_type": "stream",
          "text": [
            "Extracted 20 frames from the first 10 seconds of dataset/Celeb-synthesis/id38_id28_0004.mp4\n"
          ]
        },
        {
          "name": "stderr",
          "output_type": "stream",
          "text": [
            "Processing videos in dataset/Celeb-synthesis:  95%|█████████▌| 945/994 [04:30<00:11,  4.20it/s]"
          ]
        },
        {
          "name": "stdout",
          "output_type": "stream",
          "text": [
            "Extracted 20 frames from the first 10 seconds of dataset/Celeb-synthesis/id6_id4_0004.mp4\n",
            "Extracted 20 frames from the first 10 seconds of dataset/Celeb-synthesis/id24_id23_0004.mp4\n"
          ]
        },
        {
          "name": "stderr",
          "output_type": "stream",
          "text": [
            "\rProcessing videos in dataset/Celeb-synthesis:  95%|█████████▌| 946/994 [04:30<00:12,  3.95it/s]"
          ]
        },
        {
          "name": "stdout",
          "output_type": "stream",
          "text": [
            "Extracted 20 frames from the first 10 seconds of dataset/Celeb-synthesis/id34_id26_0005.mp4\n"
          ]
        },
        {
          "name": "stderr",
          "output_type": "stream",
          "text": [
            "\rProcessing videos in dataset/Celeb-synthesis:  95%|█████████▌| 947/994 [04:31<00:12,  3.69it/s]"
          ]
        },
        {
          "name": "stdout",
          "output_type": "stream",
          "text": [
            "Extracted 20 frames from the first 10 seconds of dataset/Celeb-synthesis/id9_id17_0008.mp4\n"
          ]
        },
        {
          "name": "stderr",
          "output_type": "stream",
          "text": [
            "\rProcessing videos in dataset/Celeb-synthesis:  95%|█████████▌| 948/994 [04:31<00:12,  3.66it/s]"
          ]
        },
        {
          "name": "stdout",
          "output_type": "stream",
          "text": [
            "Extracted 20 frames from the first 10 seconds of dataset/Celeb-synthesis/id4_id1_0002.mp4\n"
          ]
        },
        {
          "name": "stderr",
          "output_type": "stream",
          "text": [
            "\rProcessing videos in dataset/Celeb-synthesis:  95%|█████████▌| 949/994 [04:31<00:11,  3.80it/s]"
          ]
        },
        {
          "name": "stdout",
          "output_type": "stream",
          "text": [
            "Extracted 20 frames from the first 10 seconds of dataset/Celeb-synthesis/id46_id41_0000.mp4\n"
          ]
        },
        {
          "name": "stderr",
          "output_type": "stream",
          "text": [
            "\rProcessing videos in dataset/Celeb-synthesis:  96%|█████████▌| 950/994 [04:31<00:11,  3.79it/s]"
          ]
        },
        {
          "name": "stdout",
          "output_type": "stream",
          "text": [
            "Extracted 20 frames from the first 10 seconds of dataset/Celeb-synthesis/id20_id4_0003.mp4\n"
          ]
        },
        {
          "name": "stderr",
          "output_type": "stream",
          "text": [
            "\rProcessing videos in dataset/Celeb-synthesis:  96%|█████████▌| 951/994 [04:32<00:11,  3.62it/s]"
          ]
        },
        {
          "name": "stdout",
          "output_type": "stream",
          "text": [
            "Extracted 20 frames from the first 10 seconds of dataset/Celeb-synthesis/id11_id7_0002.mp4\n"
          ]
        },
        {
          "name": "stderr",
          "output_type": "stream",
          "text": [
            "\rProcessing videos in dataset/Celeb-synthesis:  96%|█████████▌| 952/994 [04:32<00:12,  3.46it/s]"
          ]
        },
        {
          "name": "stdout",
          "output_type": "stream",
          "text": [
            "Extracted 20 frames from the first 10 seconds of dataset/Celeb-synthesis/id8_id7_0003.mp4\n"
          ]
        },
        {
          "name": "stderr",
          "output_type": "stream",
          "text": [
            "\rProcessing videos in dataset/Celeb-synthesis:  96%|█████████▌| 953/994 [04:32<00:11,  3.56it/s]"
          ]
        },
        {
          "name": "stdout",
          "output_type": "stream",
          "text": [
            "Extracted 20 frames from the first 10 seconds of dataset/Celeb-synthesis/id50_id49_0002.mp4\n"
          ]
        },
        {
          "name": "stderr",
          "output_type": "stream",
          "text": [
            "\rProcessing videos in dataset/Celeb-synthesis:  96%|█████████▌| 954/994 [04:33<00:11,  3.62it/s]"
          ]
        },
        {
          "name": "stdout",
          "output_type": "stream",
          "text": [
            "Extracted 20 frames from the first 10 seconds of dataset/Celeb-synthesis/id29_id26_0008.mp4\n"
          ]
        },
        {
          "name": "stderr",
          "output_type": "stream",
          "text": [
            "\rProcessing videos in dataset/Celeb-synthesis:  96%|█████████▌| 955/994 [04:33<00:10,  3.70it/s]"
          ]
        },
        {
          "name": "stdout",
          "output_type": "stream",
          "text": [
            "Extracted 20 frames from the first 10 seconds of dataset/Celeb-synthesis/id59_id5_0008.mp4\n"
          ]
        },
        {
          "name": "stderr",
          "output_type": "stream",
          "text": [
            "Processing videos in dataset/Celeb-synthesis:  96%|█████████▋| 957/994 [04:33<00:09,  4.02it/s]"
          ]
        },
        {
          "name": "stdout",
          "output_type": "stream",
          "text": [
            "Extracted 20 frames from the first 10 seconds of dataset/Celeb-synthesis/id38_id26_0000.mp4\n",
            "Extracted 20 frames from the first 10 seconds of dataset/Celeb-synthesis/id1_id26_0006.mp4\n"
          ]
        },
        {
          "name": "stderr",
          "output_type": "stream",
          "text": [
            "\rProcessing videos in dataset/Celeb-synthesis:  96%|█████████▋| 958/994 [04:34<00:08,  4.00it/s]"
          ]
        },
        {
          "name": "stdout",
          "output_type": "stream",
          "text": [
            "Extracted 20 frames from the first 10 seconds of dataset/Celeb-synthesis/id50_id51_0003.mp4\n"
          ]
        },
        {
          "name": "stderr",
          "output_type": "stream",
          "text": [
            "\rProcessing videos in dataset/Celeb-synthesis:  96%|█████████▋| 959/994 [04:34<00:09,  3.88it/s]"
          ]
        },
        {
          "name": "stdout",
          "output_type": "stream",
          "text": [
            "Extracted 20 frames from the first 10 seconds of dataset/Celeb-synthesis/id51_id50_0000.mp4\n"
          ]
        },
        {
          "name": "stderr",
          "output_type": "stream",
          "text": [
            "\rProcessing videos in dataset/Celeb-synthesis:  97%|█████████▋| 960/994 [04:34<00:08,  3.94it/s]"
          ]
        },
        {
          "name": "stdout",
          "output_type": "stream",
          "text": [
            "Extracted 20 frames from the first 10 seconds of dataset/Celeb-synthesis/id56_id50_0006.mp4\n"
          ]
        },
        {
          "name": "stderr",
          "output_type": "stream",
          "text": [
            "\rProcessing videos in dataset/Celeb-synthesis:  97%|█████████▋| 961/994 [04:34<00:08,  3.86it/s]"
          ]
        },
        {
          "name": "stdout",
          "output_type": "stream",
          "text": [
            "Extracted 20 frames from the first 10 seconds of dataset/Celeb-synthesis/id25_id21_0010.mp4\n"
          ]
        },
        {
          "name": "stderr",
          "output_type": "stream",
          "text": [
            "\rProcessing videos in dataset/Celeb-synthesis:  97%|█████████▋| 962/994 [04:35<00:08,  3.84it/s]"
          ]
        },
        {
          "name": "stdout",
          "output_type": "stream",
          "text": [
            "Extracted 20 frames from the first 10 seconds of dataset/Celeb-synthesis/id37_id2_0008.mp4\n"
          ]
        },
        {
          "name": "stderr",
          "output_type": "stream",
          "text": [
            "\rProcessing videos in dataset/Celeb-synthesis:  97%|█████████▋| 963/994 [04:35<00:09,  3.44it/s]"
          ]
        },
        {
          "name": "stdout",
          "output_type": "stream",
          "text": [
            "Extracted 20 frames from the first 10 seconds of dataset/Celeb-synthesis/id40_id41_0004.mp4\n"
          ]
        },
        {
          "name": "stderr",
          "output_type": "stream",
          "text": [
            "\rProcessing videos in dataset/Celeb-synthesis:  97%|█████████▋| 964/994 [04:35<00:09,  3.10it/s]"
          ]
        },
        {
          "name": "stdout",
          "output_type": "stream",
          "text": [
            "Extracted 20 frames from the first 10 seconds of dataset/Celeb-synthesis/id53_id50_0000.mp4\n"
          ]
        },
        {
          "name": "stderr",
          "output_type": "stream",
          "text": [
            "\rProcessing videos in dataset/Celeb-synthesis:  97%|█████████▋| 965/994 [04:36<00:10,  2.86it/s]"
          ]
        },
        {
          "name": "stdout",
          "output_type": "stream",
          "text": [
            "Extracted 20 frames from the first 10 seconds of dataset/Celeb-synthesis/id31_id1_0003.mp4\n"
          ]
        },
        {
          "name": "stderr",
          "output_type": "stream",
          "text": [
            "\rProcessing videos in dataset/Celeb-synthesis:  97%|█████████▋| 966/994 [04:36<00:10,  2.74it/s]"
          ]
        },
        {
          "name": "stdout",
          "output_type": "stream",
          "text": [
            "Extracted 20 frames from the first 10 seconds of dataset/Celeb-synthesis/id23_id0_0004.mp4\n"
          ]
        },
        {
          "name": "stderr",
          "output_type": "stream",
          "text": [
            "\rProcessing videos in dataset/Celeb-synthesis:  97%|█████████▋| 967/994 [04:37<00:10,  2.62it/s]"
          ]
        },
        {
          "name": "stdout",
          "output_type": "stream",
          "text": [
            "Extracted 20 frames from the first 10 seconds of dataset/Celeb-synthesis/id39_id43_0006.mp4\n"
          ]
        },
        {
          "name": "stderr",
          "output_type": "stream",
          "text": [
            "\rProcessing videos in dataset/Celeb-synthesis:  97%|█████████▋| 968/994 [04:37<00:10,  2.59it/s]"
          ]
        },
        {
          "name": "stdout",
          "output_type": "stream",
          "text": [
            "Extracted 20 frames from the first 10 seconds of dataset/Celeb-synthesis/id50_id49_0009.mp4\n"
          ]
        },
        {
          "name": "stderr",
          "output_type": "stream",
          "text": [
            "\rProcessing videos in dataset/Celeb-synthesis:  97%|█████████▋| 969/994 [04:37<00:09,  2.75it/s]"
          ]
        },
        {
          "name": "stdout",
          "output_type": "stream",
          "text": [
            "Extracted 20 frames from the first 10 seconds of dataset/Celeb-synthesis/id35_id2_0008.mp4\n"
          ]
        },
        {
          "name": "stderr",
          "output_type": "stream",
          "text": [
            "\rProcessing videos in dataset/Celeb-synthesis:  98%|█████████▊| 970/994 [04:38<00:08,  2.76it/s]"
          ]
        },
        {
          "name": "stdout",
          "output_type": "stream",
          "text": [
            "Extracted 20 frames from the first 10 seconds of dataset/Celeb-synthesis/id25_id21_0005.mp4\n"
          ]
        },
        {
          "name": "stderr",
          "output_type": "stream",
          "text": [
            "\rProcessing videos in dataset/Celeb-synthesis:  98%|█████████▊| 971/994 [04:38<00:08,  2.78it/s]"
          ]
        },
        {
          "name": "stdout",
          "output_type": "stream",
          "text": [
            "Extracted 20 frames from the first 10 seconds of dataset/Celeb-synthesis/id46_id41_0002.mp4\n"
          ]
        },
        {
          "name": "stderr",
          "output_type": "stream",
          "text": [
            "\rProcessing videos in dataset/Celeb-synthesis:  98%|█████████▊| 972/994 [04:38<00:08,  2.68it/s]"
          ]
        },
        {
          "name": "stdout",
          "output_type": "stream",
          "text": [
            "Extracted 20 frames from the first 10 seconds of dataset/Celeb-synthesis/id35_id3_0007.mp4\n"
          ]
        },
        {
          "name": "stderr",
          "output_type": "stream",
          "text": [
            "\rProcessing videos in dataset/Celeb-synthesis:  98%|█████████▊| 973/994 [04:39<00:07,  2.75it/s]"
          ]
        },
        {
          "name": "stdout",
          "output_type": "stream",
          "text": [
            "Extracted 20 frames from the first 10 seconds of dataset/Celeb-synthesis/id45_id39_0000.mp4\n"
          ]
        },
        {
          "name": "stderr",
          "output_type": "stream",
          "text": [
            "\rProcessing videos in dataset/Celeb-synthesis:  98%|█████████▊| 974/994 [04:39<00:06,  2.91it/s]"
          ]
        },
        {
          "name": "stdout",
          "output_type": "stream",
          "text": [
            "Extracted 20 frames from the first 10 seconds of dataset/Celeb-synthesis/id49_id50_0008.mp4\n"
          ]
        },
        {
          "name": "stderr",
          "output_type": "stream",
          "text": [
            "\rProcessing videos in dataset/Celeb-synthesis:  98%|█████████▊| 975/994 [04:39<00:06,  2.97it/s]"
          ]
        },
        {
          "name": "stdout",
          "output_type": "stream",
          "text": [
            "Extracted 20 frames from the first 10 seconds of dataset/Celeb-synthesis/id5_id61_0001.mp4\n"
          ]
        },
        {
          "name": "stderr",
          "output_type": "stream",
          "text": [
            "Processing videos in dataset/Celeb-synthesis:  98%|█████████▊| 977/994 [04:40<00:04,  3.63it/s]"
          ]
        },
        {
          "name": "stdout",
          "output_type": "stream",
          "text": [
            "Extracted 20 frames from the first 10 seconds of dataset/Celeb-synthesis/id41_id46_0003.mp4\n",
            "Extracted 20 frames from the first 10 seconds of dataset/Celeb-synthesis/id3_id20_0005.mp4\n"
          ]
        },
        {
          "name": "stderr",
          "output_type": "stream",
          "text": [
            "\rProcessing videos in dataset/Celeb-synthesis:  98%|█████████▊| 978/994 [04:40<00:04,  3.73it/s]"
          ]
        },
        {
          "name": "stdout",
          "output_type": "stream",
          "text": [
            "Extracted 20 frames from the first 10 seconds of dataset/Celeb-synthesis/id41_id45_0009.mp4\n"
          ]
        },
        {
          "name": "stderr",
          "output_type": "stream",
          "text": [
            "\rProcessing videos in dataset/Celeb-synthesis:  98%|█████████▊| 979/994 [04:40<00:04,  3.65it/s]"
          ]
        },
        {
          "name": "stdout",
          "output_type": "stream",
          "text": [
            "Extracted 20 frames from the first 10 seconds of dataset/Celeb-synthesis/id60_id5_0003.mp4\n"
          ]
        },
        {
          "name": "stderr",
          "output_type": "stream",
          "text": [
            "\rProcessing videos in dataset/Celeb-synthesis:  99%|█████████▊| 980/994 [04:41<00:03,  3.93it/s]"
          ]
        },
        {
          "name": "stdout",
          "output_type": "stream",
          "text": [
            "Extracted 20 frames from the first 10 seconds of dataset/Celeb-synthesis/id2_id0_0009.mp4\n"
          ]
        },
        {
          "name": "stderr",
          "output_type": "stream",
          "text": [
            "\rProcessing videos in dataset/Celeb-synthesis:  99%|█████████▊| 981/994 [04:41<00:03,  3.65it/s]"
          ]
        },
        {
          "name": "stdout",
          "output_type": "stream",
          "text": [
            "Extracted 20 frames from the first 10 seconds of dataset/Celeb-synthesis/id9_id16_0001.mp4\n"
          ]
        },
        {
          "name": "stderr",
          "output_type": "stream",
          "text": [
            "Processing videos in dataset/Celeb-synthesis:  99%|█████████▉| 983/994 [04:41<00:02,  4.05it/s]"
          ]
        },
        {
          "name": "stdout",
          "output_type": "stream",
          "text": [
            "Extracted 20 frames from the first 10 seconds of dataset/Celeb-synthesis/id0_id1_0002.mp4\n",
            "Extracted 20 frames from the first 10 seconds of dataset/Celeb-synthesis/id42_id40_0001.mp4\n"
          ]
        },
        {
          "name": "stderr",
          "output_type": "stream",
          "text": [
            "\rProcessing videos in dataset/Celeb-synthesis:  99%|█████████▉| 984/994 [04:42<00:02,  3.91it/s]"
          ]
        },
        {
          "name": "stdout",
          "output_type": "stream",
          "text": [
            "Extracted 20 frames from the first 10 seconds of dataset/Celeb-synthesis/id59_id5_0006.mp4\n"
          ]
        },
        {
          "name": "stderr",
          "output_type": "stream",
          "text": [
            "Processing videos in dataset/Celeb-synthesis:  99%|█████████▉| 986/994 [04:42<00:01,  4.14it/s]"
          ]
        },
        {
          "name": "stdout",
          "output_type": "stream",
          "text": [
            "Extracted 20 frames from the first 10 seconds of dataset/Celeb-synthesis/id30_id1_0005.mp4\n",
            "Extracted 20 frames from the first 10 seconds of dataset/Celeb-synthesis/id35_id1_0008.mp4\n"
          ]
        },
        {
          "name": "stderr",
          "output_type": "stream",
          "text": [
            "\rProcessing videos in dataset/Celeb-synthesis:  99%|█████████▉| 987/994 [04:42<00:01,  4.04it/s]"
          ]
        },
        {
          "name": "stdout",
          "output_type": "stream",
          "text": [
            "Extracted 20 frames from the first 10 seconds of dataset/Celeb-synthesis/id58_id54_0003.mp4\n"
          ]
        },
        {
          "name": "stderr",
          "output_type": "stream",
          "text": [
            "\rProcessing videos in dataset/Celeb-synthesis:  99%|█████████▉| 988/994 [04:43<00:01,  3.96it/s]"
          ]
        },
        {
          "name": "stdout",
          "output_type": "stream",
          "text": [
            "Extracted 20 frames from the first 10 seconds of dataset/Celeb-synthesis/id34_id21_0002.mp4\n"
          ]
        },
        {
          "name": "stderr",
          "output_type": "stream",
          "text": [
            "\rProcessing videos in dataset/Celeb-synthesis:  99%|█████████▉| 989/994 [04:43<00:01,  4.02it/s]"
          ]
        },
        {
          "name": "stdout",
          "output_type": "stream",
          "text": [
            "Extracted 20 frames from the first 10 seconds of dataset/Celeb-synthesis/id1_id26_0008.mp4\n"
          ]
        },
        {
          "name": "stderr",
          "output_type": "stream",
          "text": [
            "\rProcessing videos in dataset/Celeb-synthesis: 100%|█████████▉| 990/994 [04:43<00:01,  3.69it/s]"
          ]
        },
        {
          "name": "stdout",
          "output_type": "stream",
          "text": [
            "Extracted 20 frames from the first 10 seconds of dataset/Celeb-synthesis/id9_id17_0001.mp4\n"
          ]
        },
        {
          "name": "stderr",
          "output_type": "stream",
          "text": [
            "\rProcessing videos in dataset/Celeb-synthesis: 100%|█████████▉| 991/994 [04:44<00:00,  3.66it/s]"
          ]
        },
        {
          "name": "stdout",
          "output_type": "stream",
          "text": [
            "Extracted 20 frames from the first 10 seconds of dataset/Celeb-synthesis/id56_id49_0008.mp4\n"
          ]
        },
        {
          "name": "stderr",
          "output_type": "stream",
          "text": [
            "\rProcessing videos in dataset/Celeb-synthesis: 100%|█████████▉| 992/994 [04:44<00:00,  3.57it/s]"
          ]
        },
        {
          "name": "stdout",
          "output_type": "stream",
          "text": [
            "Extracted 20 frames from the first 10 seconds of dataset/Celeb-synthesis/id7_id10_0007.mp4\n"
          ]
        },
        {
          "name": "stderr",
          "output_type": "stream",
          "text": [
            "\rProcessing videos in dataset/Celeb-synthesis: 100%|█████████▉| 993/994 [04:44<00:00,  3.69it/s]"
          ]
        },
        {
          "name": "stdout",
          "output_type": "stream",
          "text": [
            "Extracted 20 frames from the first 10 seconds of dataset/Celeb-synthesis/id61_id59_0005.mp4\n"
          ]
        },
        {
          "name": "stderr",
          "output_type": "stream",
          "text": [
            "Processing videos in dataset/Celeb-synthesis: 100%|██████████| 994/994 [04:44<00:00,  3.49it/s]"
          ]
        },
        {
          "name": "stdout",
          "output_type": "stream",
          "text": [
            "Extracted 20 frames from the first 10 seconds of dataset/Celeb-synthesis/id20_id4_0005.mp4\n"
          ]
        },
        {
          "name": "stderr",
          "output_type": "stream",
          "text": [
            "\n"
          ]
        }
      ],
      "source": [
        "def process_videos_limited_frames(input_dir, output_dir, max_frames=20, frame_size=(224, 224)):\n",
        "    \"\"\"\n",
        "    Process all videos in the input directory to extract limited frames.\n",
        "    \"\"\"\n",
        "    os.makedirs(output_dir, exist_ok=True)\n",
        "\n",
        "    for video in tqdm(os.listdir(input_dir), desc=f\"Processing videos in {input_dir}\"):\n",
        "        if video.endswith(\".mp4\"):\n",
        "            video_path = os.path.join(input_dir, video)\n",
        "            video_output_dir = os.path.join(output_dir, os.path.splitext(video)[0])\n",
        "            extract_limited_frames(video_path, video_output_dir, max_frames, frame_size)\n",
        "\n",
        "# Paths\n",
        "REAL_DIR = \"dataset/Celeb-real\"\n",
        "SYNTHESIS_DIR = \"dataset/Celeb-synthesis\"\n",
        "OUTPUT_DIR = \"processed_frames\"\n",
        "\n",
        "# Extract frames for real and synthesized videos\n",
        "process_videos_limited_frames(REAL_DIR, os.path.join(OUTPUT_DIR, \"Celeb-real\"))\n",
        "process_videos_limited_frames(SYNTHESIS_DIR, os.path.join(OUTPUT_DIR, \"Celeb-synthesis\"))"
      ]
    },
    {
      "cell_type": "code",
      "execution_count": null,
      "metadata": {
        "id": "GebBp4Emq9Et"
      },
      "outputs": [],
      "source": [
        "REAL_DIR = \"dataset/Celeb-real\"\n",
        "SYNTHESIS_DIR = \"dataset/Celeb-synthesis\"\n",
        "OUTPUT_DIR = \"processed_frames\""
      ]
    },
    {
      "cell_type": "code",
      "execution_count": null,
      "metadata": {
        "colab": {
          "base_uri": "https://localhost:8080/"
        },
        "id": "_v6lCKtbAZmq",
        "outputId": "0987a27e-ed88-470d-9c5b-aef4b59f438a"
      },
      "outputs": [
        {
          "output_type": "stream",
          "name": "stdout",
          "text": [
            "Mounted at /content/drive\n"
          ]
        }
      ],
      "source": [
        "from google.colab import drive\n",
        "drive.mount('/content/drive')"
      ]
    },
    {
      "cell_type": "code",
      "execution_count": null,
      "metadata": {
        "id": "W30Mz_5ACLhT"
      },
      "outputs": [],
      "source": [
        "!cp -r /content/processed_frames /content/drive/MyDrive/"
      ]
    },
    {
      "cell_type": "code",
      "execution_count": null,
      "metadata": {
        "colab": {
          "base_uri": "https://localhost:8080/"
        },
        "id": "d6g5YDUTIpBZ",
        "outputId": "d9ca5938-a575-4844-fe4e-ea25f3dec4e5"
      },
      "outputs": [
        {
          "name": "stderr",
          "output_type": "stream",
          "text": [
            "Processing Celeb-real in batches: 100%|██████████| 590/590 [01:14<00:00,  7.88it/s]\n",
            "Processing Celeb-synthesis in batches: 100%|██████████| 994/994 [02:31<00:00,  6.54it/s]\n"
          ]
        }
      ],
      "source": [
        "def process_and_save_batches(base_dir, output_dir, frame_size=(224, 224), batch_size=100):\n",
        "    \"\"\"\n",
        "    Process frames in batches and save them to disk.\n",
        "    \"\"\"\n",
        "    if not os.path.exists(output_dir):\n",
        "        os.makedirs(output_dir)\n",
        "\n",
        "    for folder_name, label in [(\"Celeb-real\", 0), (\"Celeb-synthesis\", 1)]:\n",
        "        folder_path = os.path.join(base_dir, folder_name)\n",
        "        batch_idx = 0\n",
        "\n",
        "        for video_folder in tqdm(os.listdir(folder_path), desc=f\"Processing {folder_name} in batches\"):\n",
        "            video_path = os.path.join(folder_path, video_folder)\n",
        "            if os.path.isdir(video_path):\n",
        "                frames = []\n",
        "                labels = []\n",
        "                for frame in os.listdir(video_path):\n",
        "                    if frame.endswith(\".jpg\"):\n",
        "                        frame_path = os.path.join(video_path, frame)\n",
        "                        image = cv2.imread(frame_path)\n",
        "                        if image is not None:\n",
        "                            image = cv2.resize(image, frame_size)\n",
        "                            image = image / 255.0\n",
        "                            frames.append(image)\n",
        "                            labels.append(label)\n",
        "\n",
        "                    if len(frames) == batch_size:  # Save batch\n",
        "                        save_path = os.path.join(output_dir, f\"{folder_name}_batch_{batch_idx}.pkl\")\n",
        "                        with open(save_path, \"wb\") as f:\n",
        "                            pickle.dump((np.array(frames), np.array(labels)), f)\n",
        "                        frames, labels = [], []\n",
        "                        batch_idx += 1\n",
        "\n",
        "                # Save any remaining frames\n",
        "                if frames:\n",
        "                    save_path = os.path.join(output_dir, f\"{folder_name}_batch_{batch_idx}.pkl\")\n",
        "                    with open(save_path, \"wb\") as f:\n",
        "                        pickle.dump((np.array(frames), np.array(labels)), f)\n",
        "\n",
        "# Specify directories\n",
        "base_directory = \"/content/processed_frames\"  # Replace with your dataset folder\n",
        "output_directory = \"processed_batches\"  # Replace or set as needed\n",
        "\n",
        "process_and_save_batches(base_directory, output_directory)\n"
      ]
    },
    {
      "cell_type": "code",
      "execution_count": null,
      "metadata": {
        "colab": {
          "base_uri": "https://localhost:8080/"
        },
        "collapsed": true,
        "id": "lVFuVDyNNaMk",
        "outputId": "c4005793-72b5-47f4-9116-70b764c93016"
      },
      "outputs": [
        {
          "ename": "KeyboardInterrupt",
          "evalue": "",
          "output_type": "error",
          "traceback": [
            "\u001b[0;31m---------------------------------------------------------------------------\u001b[0m",
            "\u001b[0;31mKeyboardInterrupt\u001b[0m                         Traceback (most recent call last)",
            "\u001b[0;32m<ipython-input-11-715b7299b18f>\u001b[0m in \u001b[0;36m<cell line: 2>\u001b[0;34m()\u001b[0m\n\u001b[1;32m      1\u001b[0m \u001b[0;32mfrom\u001b[0m \u001b[0mgoogle\u001b[0m\u001b[0;34m.\u001b[0m\u001b[0mcolab\u001b[0m \u001b[0;32mimport\u001b[0m \u001b[0mdrive\u001b[0m\u001b[0;34m\u001b[0m\u001b[0;34m\u001b[0m\u001b[0m\n\u001b[0;32m----> 2\u001b[0;31m \u001b[0mdrive\u001b[0m\u001b[0;34m.\u001b[0m\u001b[0mmount\u001b[0m\u001b[0;34m(\u001b[0m\u001b[0;34m'/content/drive'\u001b[0m\u001b[0;34m)\u001b[0m\u001b[0;34m\u001b[0m\u001b[0;34m\u001b[0m\u001b[0m\n\u001b[0m\u001b[1;32m      3\u001b[0m \u001b[0;34m\u001b[0m\u001b[0m\n\u001b[1;32m      4\u001b[0m \u001b[0;32mimport\u001b[0m \u001b[0mos\u001b[0m\u001b[0;34m\u001b[0m\u001b[0;34m\u001b[0m\u001b[0m\n\u001b[1;32m      5\u001b[0m \u001b[0mos\u001b[0m\u001b[0;34m.\u001b[0m\u001b[0mchdir\u001b[0m\u001b[0;34m(\u001b[0m\u001b[0;34m'/content/drive/MyDrive/processed_frames'\u001b[0m\u001b[0;34m)\u001b[0m\u001b[0;34m\u001b[0m\u001b[0;34m\u001b[0m\u001b[0m\n",
            "\u001b[0;32m/usr/local/lib/python3.10/dist-packages/google/colab/drive.py\u001b[0m in \u001b[0;36mmount\u001b[0;34m(mountpoint, force_remount, timeout_ms, readonly)\u001b[0m\n\u001b[1;32m     98\u001b[0m \u001b[0;32mdef\u001b[0m \u001b[0mmount\u001b[0m\u001b[0;34m(\u001b[0m\u001b[0mmountpoint\u001b[0m\u001b[0;34m,\u001b[0m \u001b[0mforce_remount\u001b[0m\u001b[0;34m=\u001b[0m\u001b[0;32mFalse\u001b[0m\u001b[0;34m,\u001b[0m \u001b[0mtimeout_ms\u001b[0m\u001b[0;34m=\u001b[0m\u001b[0;36m120000\u001b[0m\u001b[0;34m,\u001b[0m \u001b[0mreadonly\u001b[0m\u001b[0;34m=\u001b[0m\u001b[0;32mFalse\u001b[0m\u001b[0;34m)\u001b[0m\u001b[0;34m:\u001b[0m\u001b[0;34m\u001b[0m\u001b[0;34m\u001b[0m\u001b[0m\n\u001b[1;32m     99\u001b[0m   \u001b[0;34m\"\"\"Mount your Google Drive at the specified mountpoint path.\"\"\"\u001b[0m\u001b[0;34m\u001b[0m\u001b[0;34m\u001b[0m\u001b[0m\n\u001b[0;32m--> 100\u001b[0;31m   return _mount(\n\u001b[0m\u001b[1;32m    101\u001b[0m       \u001b[0mmountpoint\u001b[0m\u001b[0;34m,\u001b[0m\u001b[0;34m\u001b[0m\u001b[0;34m\u001b[0m\u001b[0m\n\u001b[1;32m    102\u001b[0m       \u001b[0mforce_remount\u001b[0m\u001b[0;34m=\u001b[0m\u001b[0mforce_remount\u001b[0m\u001b[0;34m,\u001b[0m\u001b[0;34m\u001b[0m\u001b[0;34m\u001b[0m\u001b[0m\n",
            "\u001b[0;32m/usr/local/lib/python3.10/dist-packages/google/colab/drive.py\u001b[0m in \u001b[0;36m_mount\u001b[0;34m(mountpoint, force_remount, timeout_ms, ephemeral, readonly)\u001b[0m\n\u001b[1;32m    135\u001b[0m   )\n\u001b[1;32m    136\u001b[0m   \u001b[0;32mif\u001b[0m \u001b[0mephemeral\u001b[0m\u001b[0;34m:\u001b[0m\u001b[0;34m\u001b[0m\u001b[0;34m\u001b[0m\u001b[0m\n\u001b[0;32m--> 137\u001b[0;31m     _message.blocking_request(\n\u001b[0m\u001b[1;32m    138\u001b[0m         \u001b[0;34m'request_auth'\u001b[0m\u001b[0;34m,\u001b[0m\u001b[0;34m\u001b[0m\u001b[0;34m\u001b[0m\u001b[0m\n\u001b[1;32m    139\u001b[0m         \u001b[0mrequest\u001b[0m\u001b[0;34m=\u001b[0m\u001b[0;34m{\u001b[0m\u001b[0;34m'authType'\u001b[0m\u001b[0;34m:\u001b[0m \u001b[0;34m'dfs_ephemeral'\u001b[0m\u001b[0;34m}\u001b[0m\u001b[0;34m,\u001b[0m\u001b[0;34m\u001b[0m\u001b[0;34m\u001b[0m\u001b[0m\n",
            "\u001b[0;32m/usr/local/lib/python3.10/dist-packages/google/colab/_message.py\u001b[0m in \u001b[0;36mblocking_request\u001b[0;34m(request_type, request, timeout_sec, parent)\u001b[0m\n\u001b[1;32m    174\u001b[0m       \u001b[0mrequest_type\u001b[0m\u001b[0;34m,\u001b[0m \u001b[0mrequest\u001b[0m\u001b[0;34m,\u001b[0m \u001b[0mparent\u001b[0m\u001b[0;34m=\u001b[0m\u001b[0mparent\u001b[0m\u001b[0;34m,\u001b[0m \u001b[0mexpect_reply\u001b[0m\u001b[0;34m=\u001b[0m\u001b[0;32mTrue\u001b[0m\u001b[0;34m\u001b[0m\u001b[0;34m\u001b[0m\u001b[0m\n\u001b[1;32m    175\u001b[0m   )\n\u001b[0;32m--> 176\u001b[0;31m   \u001b[0;32mreturn\u001b[0m \u001b[0mread_reply_from_input\u001b[0m\u001b[0;34m(\u001b[0m\u001b[0mrequest_id\u001b[0m\u001b[0;34m,\u001b[0m \u001b[0mtimeout_sec\u001b[0m\u001b[0;34m)\u001b[0m\u001b[0;34m\u001b[0m\u001b[0;34m\u001b[0m\u001b[0m\n\u001b[0m",
            "\u001b[0;32m/usr/local/lib/python3.10/dist-packages/google/colab/_message.py\u001b[0m in \u001b[0;36mread_reply_from_input\u001b[0;34m(message_id, timeout_sec)\u001b[0m\n\u001b[1;32m     94\u001b[0m     \u001b[0mreply\u001b[0m \u001b[0;34m=\u001b[0m \u001b[0m_read_next_input_message\u001b[0m\u001b[0;34m(\u001b[0m\u001b[0;34m)\u001b[0m\u001b[0;34m\u001b[0m\u001b[0;34m\u001b[0m\u001b[0m\n\u001b[1;32m     95\u001b[0m     \u001b[0;32mif\u001b[0m \u001b[0mreply\u001b[0m \u001b[0;34m==\u001b[0m \u001b[0m_NOT_READY\u001b[0m \u001b[0;32mor\u001b[0m \u001b[0;32mnot\u001b[0m \u001b[0misinstance\u001b[0m\u001b[0;34m(\u001b[0m\u001b[0mreply\u001b[0m\u001b[0;34m,\u001b[0m \u001b[0mdict\u001b[0m\u001b[0;34m)\u001b[0m\u001b[0;34m:\u001b[0m\u001b[0;34m\u001b[0m\u001b[0;34m\u001b[0m\u001b[0m\n\u001b[0;32m---> 96\u001b[0;31m       \u001b[0mtime\u001b[0m\u001b[0;34m.\u001b[0m\u001b[0msleep\u001b[0m\u001b[0;34m(\u001b[0m\u001b[0;36m0.025\u001b[0m\u001b[0;34m)\u001b[0m\u001b[0;34m\u001b[0m\u001b[0;34m\u001b[0m\u001b[0m\n\u001b[0m\u001b[1;32m     97\u001b[0m       \u001b[0;32mcontinue\u001b[0m\u001b[0;34m\u001b[0m\u001b[0;34m\u001b[0m\u001b[0m\n\u001b[1;32m     98\u001b[0m     if (\n",
            "\u001b[0;31mKeyboardInterrupt\u001b[0m: "
          ]
        }
      ],
      "source": [
        "#dont run this code\n",
        "from google.colab import drive\n",
        "drive.mount('/content/drive')\n",
        "\n",
        "import os\n",
        "os.chdir('/content/drive/MyDrive/processed_frames')\n",
        "\n",
        "# List files in the folder\n",
        "print(os.listdir())"
      ]
    },
    {
      "cell_type": "markdown",
      "metadata": {
        "id": "zfdGX0Msn5DG"
      },
      "source": [
        "If there is mounting error, run the two codes below"
      ]
    },
    {
      "cell_type": "code",
      "execution_count": null,
      "metadata": {
        "colab": {
          "base_uri": "https://localhost:8080/"
        },
        "collapsed": true,
        "id": "6eIP2hlyeYQZ",
        "outputId": "e8ecc88a-c09a-44fa-a3a5-cc6d64c6d9d3"
      },
      "outputs": [
        {
          "name": "stdout",
          "output_type": "stream",
          "text": [
            "fusermount: failed to unmount /content/drive: Invalid argument\n"
          ]
        }
      ],
      "source": [
        "!fusermount -u /content/drive\n",
        "!rm -rf /content/drive"
      ]
    },
    {
      "cell_type": "code",
      "execution_count": null,
      "metadata": {
        "colab": {
          "base_uri": "https://localhost:8080/"
        },
        "id": "oxELCFXHFGaI",
        "outputId": "fe177812-40b9-4a98-ab63-4e335ffe0290"
      },
      "outputs": [
        {
          "name": "stdout",
          "output_type": "stream",
          "text": [
            "Labeling complete! CSV saved at /content/drive/MyDrive/frame_labels_final.csv\n"
          ]
        }
      ],
      "source": [
        "# Define paths\n",
        "base_dir = '/content/drive/MyDrive/processed_frames'\n",
        "real_dir = os.path.join(base_dir, 'Celeb-real')\n",
        "fake_dir = os.path.join(base_dir, 'Celeb-synthesis')\n",
        "\n",
        "# Prepare an empty list to store labels\n",
        "data = []\n",
        "\n",
        "# Label real frames (0)\n",
        "for folder in os.listdir(real_dir):\n",
        "    frame_dir = os.path.join(real_dir, folder)\n",
        "    if os.path.isdir(frame_dir):\n",
        "        for frame in os.listdir(frame_dir):\n",
        "            if frame.endswith('.jpg'):\n",
        "                data.append([os.path.join(frame_dir, frame), 0])\n",
        "\n",
        "# Label fake frames (1)\n",
        "for folder in os.listdir(fake_dir):\n",
        "    frame_dir = os.path.join(fake_dir, folder)\n",
        "    if os.path.isdir(frame_dir):\n",
        "        for frame in os.listdir(frame_dir):\n",
        "            if frame.endswith('.jpg'):\n",
        "                data.append([os.path.join(frame_dir, frame), 1])\n",
        "\n",
        "# Convert to a DataFrame and save as CSV\n",
        "df = pd.DataFrame(data, columns=['frame_path', 'label'])\n",
        "df.to_csv('/content/drive/MyDrive/frame_labels_final.csv', index=False)\n",
        "\n",
        "print(\"Labeling complete! CSV saved at /content/drive/MyDrive/frame_labels_final.csv\")\n"
      ]
    },
    {
      "cell_type": "code",
      "execution_count": null,
      "metadata": {
        "id": "4T8TIXgQD1qh"
      },
      "outputs": [],
      "source": []
    }
  ],
  "metadata": {
    "accelerator": "GPU",
    "colab": {
      "gpuType": "T4",
      "provenance": [],
      "authorship_tag": "ABX9TyNx8ZRbNr527XcZqRQ3EJb5",
      "include_colab_link": true
    },
    "kernelspec": {
      "display_name": "Python 3",
      "name": "python3"
    },
    "language_info": {
      "name": "python"
    }
  },
  "nbformat": 4,
  "nbformat_minor": 0
}